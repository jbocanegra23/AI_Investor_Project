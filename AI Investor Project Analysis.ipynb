{
 "cells": [
  {
   "cell_type": "markdown",
   "id": "24374c1d",
   "metadata": {},
   "source": [
    "# AI Investor Project Analysis:\n",
    "\n",
    "Steps:\n",
    "\n",
    "1. Install Yahoo! Finance API and pull JPM stock data as a test case.\n",
    "2. Load data from yfinance api\n",
    "3. Feature Engineering\n",
    "4. Model Testing\n",
    "5. Running steps 1-4 over all stocks in S&P 500\n",
    "6. Analyzing Results from step 6 and risk strategy. \n",
    "7. Next Steps for Analysis"
   ]
  },
  {
   "cell_type": "markdown",
   "id": "2a2ffa47",
   "metadata": {},
   "source": [
    "## 1. Install yfinance package"
   ]
  },
  {
   "cell_type": "code",
   "execution_count": 1,
   "id": "a2175232",
   "metadata": {
    "scrolled": true
   },
   "outputs": [
    {
     "name": "stdout",
     "output_type": "stream",
     "text": [
      "Collecting yfinance\n",
      "  Downloading yfinance-0.1.64.tar.gz (26 kB)\n",
      "Requirement already satisfied: pandas>=0.24 in /opt/anaconda3/lib/python3.8/site-packages (from yfinance) (1.2.4)\n",
      "Requirement already satisfied: numpy>=1.15 in /opt/anaconda3/lib/python3.8/site-packages (from yfinance) (1.19.5)\n",
      "Requirement already satisfied: requests>=2.20 in /opt/anaconda3/lib/python3.8/site-packages (from yfinance) (2.25.1)\n",
      "Collecting multitasking>=0.0.7\n",
      "  Downloading multitasking-0.0.9.tar.gz (8.1 kB)\n",
      "Requirement already satisfied: lxml>=4.5.1 in /opt/anaconda3/lib/python3.8/site-packages (from yfinance) (4.6.3)\n",
      "Requirement already satisfied: python-dateutil>=2.7.3 in /opt/anaconda3/lib/python3.8/site-packages (from pandas>=0.24->yfinance) (2.8.1)\n",
      "Requirement already satisfied: pytz>=2017.3 in /opt/anaconda3/lib/python3.8/site-packages (from pandas>=0.24->yfinance) (2021.1)\n",
      "Requirement already satisfied: six>=1.5 in /opt/anaconda3/lib/python3.8/site-packages (from python-dateutil>=2.7.3->pandas>=0.24->yfinance) (1.15.0)\n",
      "Requirement already satisfied: idna<3,>=2.5 in /opt/anaconda3/lib/python3.8/site-packages (from requests>=2.20->yfinance) (2.10)\n",
      "Requirement already satisfied: certifi>=2017.4.17 in /opt/anaconda3/lib/python3.8/site-packages (from requests>=2.20->yfinance) (2020.12.5)\n",
      "Requirement already satisfied: urllib3<1.27,>=1.21.1 in /opt/anaconda3/lib/python3.8/site-packages (from requests>=2.20->yfinance) (1.26.4)\n",
      "Requirement already satisfied: chardet<5,>=3.0.2 in /opt/anaconda3/lib/python3.8/site-packages (from requests>=2.20->yfinance) (4.0.0)\n",
      "Building wheels for collected packages: yfinance, multitasking\n",
      "  Building wheel for yfinance (setup.py) ... \u001b[?25ldone\n",
      "\u001b[?25h  Created wheel for yfinance: filename=yfinance-0.1.64-py2.py3-none-any.whl size=24095 sha256=9e089d9bfdbad08f60ab9647c464750a2553b0a5b25d88e404f2d0c20c5da315\n",
      "  Stored in directory: /Users/jonathan.bocanegra/Library/Caches/pip/wheels/f9/e9/7e/8b13db3bf3aeb5049d759e10702736fb96753089ac950fddc0\n",
      "  Building wheel for multitasking (setup.py) ... \u001b[?25ldone\n",
      "\u001b[?25h  Created wheel for multitasking: filename=multitasking-0.0.9-py3-none-any.whl size=8368 sha256=c28e7994d6835e15618f801e4c162a5b792d0c6f8f81afaa1eec54096ed16e78\n",
      "  Stored in directory: /Users/jonathan.bocanegra/Library/Caches/pip/wheels/57/6d/a3/a39b839cc75274d2acfb1c58bfead2f726c6577fe8c4723f13\n",
      "Successfully built yfinance multitasking\n",
      "Installing collected packages: multitasking, yfinance\n",
      "Successfully installed multitasking-0.0.9 yfinance-0.1.64\n"
     ]
    }
   ],
   "source": [
    "!pip install yfinance"
   ]
  },
  {
   "cell_type": "markdown",
   "id": "6c4841d0",
   "metadata": {},
   "source": [
    "## 2. Importing the Data and Using JPM as Test Case"
   ]
  },
  {
   "cell_type": "code",
   "execution_count": 2,
   "id": "42627c66",
   "metadata": {},
   "outputs": [],
   "source": [
    "import yfinance as yf"
   ]
  },
  {
   "cell_type": "code",
   "execution_count": 201,
   "id": "e1dbafde",
   "metadata": {},
   "outputs": [
    {
     "name": "stdout",
     "output_type": "stream",
     "text": [
      "[*********************100%***********************]  1 of 1 completed\n",
      "                  Open        High        Low       Close  Adj Close    Volume\n",
      "Date                                                                          \n",
      "2019-01-02   95.949997   99.779999  95.940002   99.309998  90.652069  15670900\n",
      "2019-01-03   98.639999   98.889999  96.690002   97.110001  89.363739  16286400\n",
      "2019-01-04   99.110001  100.930000  98.279999  100.690002  92.658165  16935200\n",
      "2019-01-07  100.430000  101.470001  99.709999  100.760002  92.722588  15430700\n",
      "2019-01-08  101.629997  101.820000  99.550003  100.570000  92.547752  13578800\n"
     ]
    }
   ],
   "source": [
    "data = yf.download('JPM', start='2019-01-01', end = '2021-10-31')\n",
    "data.columns = ['open', 'high', 'low', 'close', 'adj_close', 'volume']\n",
    "data['market_cap'] = data['adj_close']*data['volume']"
   ]
  },
  {
   "cell_type": "markdown",
   "id": "6494d794",
   "metadata": {},
   "source": [
    "## 3. Feature Engineering\n",
    "\n",
    "1. Lagged Closing Price Variables\n",
    "2. Lagged High / Low Price Variables\n",
    "3. Volatility Variables"
   ]
  },
  {
   "cell_type": "code",
   "execution_count": 131,
   "id": "9fd24026",
   "metadata": {},
   "outputs": [],
   "source": [
    "## Making the Lagged Closing Price Features:\n",
    "\n",
    "## Creates the y variable, X variable, the corresponding index and the column names\n",
    "\n",
    "def closing_price_lag(index, close_prices, period = 6, column_prefix = 't_minus'):\n",
    "    X = []\n",
    "    ind = []\n",
    "    cols = []\n",
    "    \n",
    "    for i in range(len(close_prices)-period):\n",
    "        X.append(close_prices[i:i+period])\n",
    "        ind.append(index[i+period])\n",
    "    \n",
    "    for i in range(period,0,-1):\n",
    "        words = [column_prefix, str(i)]\n",
    "        cols.append(\"\".join(words))\n",
    "        \n",
    "    return X,ind,cols"
   ]
  },
  {
   "cell_type": "code",
   "execution_count": 133,
   "id": "845e1d4a",
   "metadata": {},
   "outputs": [
    {
     "data": {
      "text/plain": [
       "[[99.30999755859375,\n",
       "  97.11000061035156,\n",
       "  100.69000244140625,\n",
       "  100.76000213623047,\n",
       "  100.56999969482422,\n",
       "  100.4000015258789],\n",
       " [97.11000061035156,\n",
       "  100.69000244140625,\n",
       "  100.76000213623047,\n",
       "  100.56999969482422,\n",
       "  100.4000015258789,\n",
       "  100.38999938964844]]"
      ]
     },
     "metadata": {},
     "output_type": "display_data"
    },
    {
     "data": {
      "text/plain": [
       "[numpy.datetime64('2019-01-10T00:00:00.000000000'),\n",
       " numpy.datetime64('2019-01-11T00:00:00.000000000')]"
      ]
     },
     "metadata": {},
     "output_type": "display_data"
    },
    {
     "data": {
      "text/plain": [
       "['t_minus6', 't_minus5', 't_minus4', 't_minus3', 't_minus2', 't_minus1']"
      ]
     },
     "metadata": {},
     "output_type": "display_data"
    },
    {
     "data": {
      "text/plain": [
       "list"
      ]
     },
     "execution_count": 133,
     "metadata": {},
     "output_type": "execute_result"
    }
   ],
   "source": [
    "X,ind,cols = closing_price_lag(index = list(np.array(data.index)), close_prices = list(data['close']), period = 6)"
   ]
  },
  {
   "cell_type": "code",
   "execution_count": 120,
   "id": "0794c9f9",
   "metadata": {
    "scrolled": true
   },
   "outputs": [
    {
     "name": "stderr",
     "output_type": "stream",
     "text": [
      "<ipython-input-120-01201ba0a590>:5: SettingWithCopyWarning: \n",
      "A value is trying to be set on a copy of a slice from a DataFrame.\n",
      "Try using .loc[row_indexer,col_indexer] = value instead\n",
      "\n",
      "See the caveats in the documentation: https://pandas.pydata.org/pandas-docs/stable/user_guide/indexing.html#returning-a-view-versus-a-copy\n",
      "  data_sub['t_minus1_high'] = data_sub['high'].shift(1)\n",
      "<ipython-input-120-01201ba0a590>:6: SettingWithCopyWarning: \n",
      "A value is trying to be set on a copy of a slice from a DataFrame.\n",
      "Try using .loc[row_indexer,col_indexer] = value instead\n",
      "\n",
      "See the caveats in the documentation: https://pandas.pydata.org/pandas-docs/stable/user_guide/indexing.html#returning-a-view-versus-a-copy\n",
      "  data_sub['t_minus2_high'] = data_sub['high'].shift(2)\n",
      "<ipython-input-120-01201ba0a590>:8: SettingWithCopyWarning: \n",
      "A value is trying to be set on a copy of a slice from a DataFrame.\n",
      "Try using .loc[row_indexer,col_indexer] = value instead\n",
      "\n",
      "See the caveats in the documentation: https://pandas.pydata.org/pandas-docs/stable/user_guide/indexing.html#returning-a-view-versus-a-copy\n",
      "  data_sub['t_minus1_low'] = data_sub['low'].shift(1)\n",
      "<ipython-input-120-01201ba0a590>:9: SettingWithCopyWarning: \n",
      "A value is trying to be set on a copy of a slice from a DataFrame.\n",
      "Try using .loc[row_indexer,col_indexer] = value instead\n",
      "\n",
      "See the caveats in the documentation: https://pandas.pydata.org/pandas-docs/stable/user_guide/indexing.html#returning-a-view-versus-a-copy\n",
      "  data_sub['t_minus2_low'] = data_sub['low'].shift(2)\n"
     ]
    }
   ],
   "source": [
    "## Making the Previous 2 days Highs and Lows\n",
    "\n",
    "data_sub = data[['high', 'low']]\n",
    "\n",
    "data_sub['t_minus1_high'] = data_sub['high'].shift(1)\n",
    "data_sub['t_minus2_high'] = data_sub['high'].shift(2)\n",
    "\n",
    "data_sub['t_minus1_low'] = data_sub['low'].shift(1)\n",
    "data_sub['t_minus2_low'] = data_sub['low'].shift(2)\n",
    "\n",
    "high_low_lags = data_sub[['t_minus1_high', 't_minus2_high', 't_minus1_low', 't_minus2_low']]"
   ]
  },
  {
   "cell_type": "code",
   "execution_count": 127,
   "id": "03f0a6c8",
   "metadata": {},
   "outputs": [
    {
     "data": {
      "text/html": [
       "<div>\n",
       "<style scoped>\n",
       "    .dataframe tbody tr th:only-of-type {\n",
       "        vertical-align: middle;\n",
       "    }\n",
       "\n",
       "    .dataframe tbody tr th {\n",
       "        vertical-align: top;\n",
       "    }\n",
       "\n",
       "    .dataframe thead th {\n",
       "        text-align: right;\n",
       "    }\n",
       "</style>\n",
       "<table border=\"1\" class=\"dataframe\">\n",
       "  <thead>\n",
       "    <tr style=\"text-align: right;\">\n",
       "      <th></th>\n",
       "      <th>t_minus6</th>\n",
       "      <th>t_minus5</th>\n",
       "      <th>t_minus4</th>\n",
       "      <th>t_minus3</th>\n",
       "      <th>t_minus2</th>\n",
       "      <th>t_minus1</th>\n",
       "      <th>open</th>\n",
       "      <th>high</th>\n",
       "      <th>low</th>\n",
       "      <th>close</th>\n",
       "      <th>adj_close</th>\n",
       "      <th>volume</th>\n",
       "      <th>market_cap</th>\n",
       "      <th>t_minus1_high</th>\n",
       "      <th>t_minus2_high</th>\n",
       "      <th>t_minus1_low</th>\n",
       "      <th>t_minus2_low</th>\n",
       "    </tr>\n",
       "  </thead>\n",
       "  <tbody>\n",
       "    <tr>\n",
       "      <th>2019-01-10</th>\n",
       "      <td>99.309998</td>\n",
       "      <td>97.110001</td>\n",
       "      <td>100.690002</td>\n",
       "      <td>100.760002</td>\n",
       "      <td>100.570000</td>\n",
       "      <td>100.400002</td>\n",
       "      <td>100.019997</td>\n",
       "      <td>100.730003</td>\n",
       "      <td>99.269997</td>\n",
       "      <td>100.389999</td>\n",
       "      <td>92.382103</td>\n",
       "      <td>14376100</td>\n",
       "      <td>1.328094e+09</td>\n",
       "      <td>101.489998</td>\n",
       "      <td>101.820000</td>\n",
       "      <td>99.930000</td>\n",
       "      <td>99.550003</td>\n",
       "    </tr>\n",
       "    <tr>\n",
       "      <th>2019-01-11</th>\n",
       "      <td>97.110001</td>\n",
       "      <td>100.690002</td>\n",
       "      <td>100.760002</td>\n",
       "      <td>100.570000</td>\n",
       "      <td>100.400002</td>\n",
       "      <td>100.389999</td>\n",
       "      <td>99.889999</td>\n",
       "      <td>100.169998</td>\n",
       "      <td>98.949997</td>\n",
       "      <td>99.910004</td>\n",
       "      <td>91.940392</td>\n",
       "      <td>15439900</td>\n",
       "      <td>1.419550e+09</td>\n",
       "      <td>100.730003</td>\n",
       "      <td>101.489998</td>\n",
       "      <td>99.269997</td>\n",
       "      <td>99.930000</td>\n",
       "    </tr>\n",
       "    <tr>\n",
       "      <th>2019-01-14</th>\n",
       "      <td>100.690002</td>\n",
       "      <td>100.760002</td>\n",
       "      <td>100.570000</td>\n",
       "      <td>100.400002</td>\n",
       "      <td>100.389999</td>\n",
       "      <td>99.910004</td>\n",
       "      <td>98.870003</td>\n",
       "      <td>101.360001</td>\n",
       "      <td>98.660004</td>\n",
       "      <td>100.940002</td>\n",
       "      <td>92.888222</td>\n",
       "      <td>21258500</td>\n",
       "      <td>1.974664e+09</td>\n",
       "      <td>100.169998</td>\n",
       "      <td>100.730003</td>\n",
       "      <td>98.949997</td>\n",
       "      <td>99.269997</td>\n",
       "    </tr>\n",
       "    <tr>\n",
       "      <th>2019-01-15</th>\n",
       "      <td>100.760002</td>\n",
       "      <td>100.570000</td>\n",
       "      <td>100.400002</td>\n",
       "      <td>100.389999</td>\n",
       "      <td>99.910004</td>\n",
       "      <td>100.940002</td>\n",
       "      <td>98.889999</td>\n",
       "      <td>102.470001</td>\n",
       "      <td>98.599998</td>\n",
       "      <td>101.680000</td>\n",
       "      <td>93.569199</td>\n",
       "      <td>26504900</td>\n",
       "      <td>2.480042e+09</td>\n",
       "      <td>101.360001</td>\n",
       "      <td>100.169998</td>\n",
       "      <td>98.660004</td>\n",
       "      <td>98.949997</td>\n",
       "    </tr>\n",
       "    <tr>\n",
       "      <th>2019-01-16</th>\n",
       "      <td>100.570000</td>\n",
       "      <td>100.400002</td>\n",
       "      <td>100.389999</td>\n",
       "      <td>99.910004</td>\n",
       "      <td>100.940002</td>\n",
       "      <td>101.680000</td>\n",
       "      <td>102.250000</td>\n",
       "      <td>103.449997</td>\n",
       "      <td>101.800003</td>\n",
       "      <td>102.500000</td>\n",
       "      <td>94.323799</td>\n",
       "      <td>18533000</td>\n",
       "      <td>1.748103e+09</td>\n",
       "      <td>102.470001</td>\n",
       "      <td>101.360001</td>\n",
       "      <td>98.599998</td>\n",
       "      <td>98.660004</td>\n",
       "    </tr>\n",
       "  </tbody>\n",
       "</table>\n",
       "</div>"
      ],
      "text/plain": [
       "              t_minus6    t_minus5    t_minus4    t_minus3    t_minus2  \\\n",
       "2019-01-10   99.309998   97.110001  100.690002  100.760002  100.570000   \n",
       "2019-01-11   97.110001  100.690002  100.760002  100.570000  100.400002   \n",
       "2019-01-14  100.690002  100.760002  100.570000  100.400002  100.389999   \n",
       "2019-01-15  100.760002  100.570000  100.400002  100.389999   99.910004   \n",
       "2019-01-16  100.570000  100.400002  100.389999   99.910004  100.940002   \n",
       "\n",
       "              t_minus1        open        high         low       close  \\\n",
       "2019-01-10  100.400002  100.019997  100.730003   99.269997  100.389999   \n",
       "2019-01-11  100.389999   99.889999  100.169998   98.949997   99.910004   \n",
       "2019-01-14   99.910004   98.870003  101.360001   98.660004  100.940002   \n",
       "2019-01-15  100.940002   98.889999  102.470001   98.599998  101.680000   \n",
       "2019-01-16  101.680000  102.250000  103.449997  101.800003  102.500000   \n",
       "\n",
       "            adj_close    volume    market_cap  t_minus1_high  t_minus2_high  \\\n",
       "2019-01-10  92.382103  14376100  1.328094e+09     101.489998     101.820000   \n",
       "2019-01-11  91.940392  15439900  1.419550e+09     100.730003     101.489998   \n",
       "2019-01-14  92.888222  21258500  1.974664e+09     100.169998     100.730003   \n",
       "2019-01-15  93.569199  26504900  2.480042e+09     101.360001     100.169998   \n",
       "2019-01-16  94.323799  18533000  1.748103e+09     102.470001     101.360001   \n",
       "\n",
       "            t_minus1_low  t_minus2_low  \n",
       "2019-01-10     99.930000     99.550003  \n",
       "2019-01-11     99.269997     99.930000  \n",
       "2019-01-14     98.949997     99.269997  \n",
       "2019-01-15     98.660004     98.949997  \n",
       "2019-01-16     98.599998     98.660004  "
      ]
     },
     "metadata": {},
     "output_type": "display_data"
    },
    {
     "data": {
      "text/plain": [
       "Index(['t_minus6', 't_minus5', 't_minus4', 't_minus3', 't_minus2', 't_minus1',\n",
       "       'open', 'high', 'low', 'close', 'adj_close', 'volume', 'market_cap',\n",
       "       't_minus1_high', 't_minus2_high', 't_minus1_low', 't_minus2_low'],\n",
       "      dtype='object')"
      ]
     },
     "metadata": {},
     "output_type": "display_data"
    }
   ],
   "source": [
    "import pandas as pd\n",
    "test_features = pd.DataFrame(X, index = ind, columns = cols)\n",
    "full_data = test_features.merge(data, how = 'inner', left_index=True, right_index=True)\n",
    "full_data = full_data.merge(high_low_lags, how = 'inner', left_index=True, right_index=True)\n",
    "display(full_data.head())\n",
    "display(full_data.columns)"
   ]
  },
  {
   "cell_type": "code",
   "execution_count": 128,
   "id": "d1757800",
   "metadata": {
    "scrolled": false
   },
   "outputs": [
    {
     "data": {
      "text/html": [
       "<div>\n",
       "<style scoped>\n",
       "    .dataframe tbody tr th:only-of-type {\n",
       "        vertical-align: middle;\n",
       "    }\n",
       "\n",
       "    .dataframe tbody tr th {\n",
       "        vertical-align: top;\n",
       "    }\n",
       "\n",
       "    .dataframe thead th {\n",
       "        text-align: right;\n",
       "    }\n",
       "</style>\n",
       "<table border=\"1\" class=\"dataframe\">\n",
       "  <thead>\n",
       "    <tr style=\"text-align: right;\">\n",
       "      <th></th>\n",
       "      <th>t_minus6</th>\n",
       "      <th>t_minus5</th>\n",
       "      <th>t_minus4</th>\n",
       "      <th>t_minus3</th>\n",
       "      <th>t_minus2</th>\n",
       "      <th>t_minus1</th>\n",
       "      <th>open</th>\n",
       "      <th>high</th>\n",
       "      <th>low</th>\n",
       "      <th>close</th>\n",
       "      <th>adj_close</th>\n",
       "      <th>volume</th>\n",
       "      <th>market_cap</th>\n",
       "      <th>t_minus1_high</th>\n",
       "      <th>t_minus2_high</th>\n",
       "      <th>t_minus1_low</th>\n",
       "      <th>t_minus2_low</th>\n",
       "      <th>prev_day_intraday_volatility</th>\n",
       "      <th>past_six_day_volatility</th>\n",
       "    </tr>\n",
       "  </thead>\n",
       "  <tbody>\n",
       "    <tr>\n",
       "      <th>2019-01-10</th>\n",
       "      <td>99.309998</td>\n",
       "      <td>97.110001</td>\n",
       "      <td>100.690002</td>\n",
       "      <td>100.760002</td>\n",
       "      <td>100.570000</td>\n",
       "      <td>100.400002</td>\n",
       "      <td>100.019997</td>\n",
       "      <td>100.730003</td>\n",
       "      <td>99.269997</td>\n",
       "      <td>100.389999</td>\n",
       "      <td>92.382103</td>\n",
       "      <td>14376100</td>\n",
       "      <td>1.328094e+09</td>\n",
       "      <td>101.489998</td>\n",
       "      <td>101.820000</td>\n",
       "      <td>99.930000</td>\n",
       "      <td>99.550003</td>\n",
       "      <td>0.015538</td>\n",
       "      <td>0.036571</td>\n",
       "    </tr>\n",
       "    <tr>\n",
       "      <th>2019-01-11</th>\n",
       "      <td>97.110001</td>\n",
       "      <td>100.690002</td>\n",
       "      <td>100.760002</td>\n",
       "      <td>100.570000</td>\n",
       "      <td>100.400002</td>\n",
       "      <td>100.389999</td>\n",
       "      <td>99.889999</td>\n",
       "      <td>100.169998</td>\n",
       "      <td>98.949997</td>\n",
       "      <td>99.910004</td>\n",
       "      <td>91.940392</td>\n",
       "      <td>15439900</td>\n",
       "      <td>1.419550e+09</td>\n",
       "      <td>100.730003</td>\n",
       "      <td>101.489998</td>\n",
       "      <td>99.269997</td>\n",
       "      <td>99.930000</td>\n",
       "      <td>0.014543</td>\n",
       "      <td>0.036505</td>\n",
       "    </tr>\n",
       "    <tr>\n",
       "      <th>2019-01-14</th>\n",
       "      <td>100.690002</td>\n",
       "      <td>100.760002</td>\n",
       "      <td>100.570000</td>\n",
       "      <td>100.400002</td>\n",
       "      <td>100.389999</td>\n",
       "      <td>99.910004</td>\n",
       "      <td>98.870003</td>\n",
       "      <td>101.360001</td>\n",
       "      <td>98.660004</td>\n",
       "      <td>100.940002</td>\n",
       "      <td>92.888222</td>\n",
       "      <td>21258500</td>\n",
       "      <td>1.974664e+09</td>\n",
       "      <td>100.169998</td>\n",
       "      <td>100.730003</td>\n",
       "      <td>98.949997</td>\n",
       "      <td>99.269997</td>\n",
       "      <td>0.012211</td>\n",
       "      <td>0.008462</td>\n",
       "    </tr>\n",
       "    <tr>\n",
       "      <th>2019-01-15</th>\n",
       "      <td>100.760002</td>\n",
       "      <td>100.570000</td>\n",
       "      <td>100.400002</td>\n",
       "      <td>100.389999</td>\n",
       "      <td>99.910004</td>\n",
       "      <td>100.940002</td>\n",
       "      <td>98.889999</td>\n",
       "      <td>102.470001</td>\n",
       "      <td>98.599998</td>\n",
       "      <td>101.680000</td>\n",
       "      <td>93.569199</td>\n",
       "      <td>26504900</td>\n",
       "      <td>2.480042e+09</td>\n",
       "      <td>101.360001</td>\n",
       "      <td>100.169998</td>\n",
       "      <td>98.660004</td>\n",
       "      <td>98.949997</td>\n",
       "      <td>0.026749</td>\n",
       "      <td>0.010249</td>\n",
       "    </tr>\n",
       "    <tr>\n",
       "      <th>2019-01-16</th>\n",
       "      <td>100.570000</td>\n",
       "      <td>100.400002</td>\n",
       "      <td>100.389999</td>\n",
       "      <td>99.910004</td>\n",
       "      <td>100.940002</td>\n",
       "      <td>101.680000</td>\n",
       "      <td>102.250000</td>\n",
       "      <td>103.449997</td>\n",
       "      <td>101.800003</td>\n",
       "      <td>102.500000</td>\n",
       "      <td>94.323799</td>\n",
       "      <td>18533000</td>\n",
       "      <td>1.748103e+09</td>\n",
       "      <td>102.470001</td>\n",
       "      <td>101.360001</td>\n",
       "      <td>98.599998</td>\n",
       "      <td>98.660004</td>\n",
       "      <td>0.038061</td>\n",
       "      <td>0.017586</td>\n",
       "    </tr>\n",
       "  </tbody>\n",
       "</table>\n",
       "</div>"
      ],
      "text/plain": [
       "              t_minus6    t_minus5    t_minus4    t_minus3    t_minus2  \\\n",
       "2019-01-10   99.309998   97.110001  100.690002  100.760002  100.570000   \n",
       "2019-01-11   97.110001  100.690002  100.760002  100.570000  100.400002   \n",
       "2019-01-14  100.690002  100.760002  100.570000  100.400002  100.389999   \n",
       "2019-01-15  100.760002  100.570000  100.400002  100.389999   99.910004   \n",
       "2019-01-16  100.570000  100.400002  100.389999   99.910004  100.940002   \n",
       "\n",
       "              t_minus1        open        high         low       close  \\\n",
       "2019-01-10  100.400002  100.019997  100.730003   99.269997  100.389999   \n",
       "2019-01-11  100.389999   99.889999  100.169998   98.949997   99.910004   \n",
       "2019-01-14   99.910004   98.870003  101.360001   98.660004  100.940002   \n",
       "2019-01-15  100.940002   98.889999  102.470001   98.599998  101.680000   \n",
       "2019-01-16  101.680000  102.250000  103.449997  101.800003  102.500000   \n",
       "\n",
       "            adj_close    volume    market_cap  t_minus1_high  t_minus2_high  \\\n",
       "2019-01-10  92.382103  14376100  1.328094e+09     101.489998     101.820000   \n",
       "2019-01-11  91.940392  15439900  1.419550e+09     100.730003     101.489998   \n",
       "2019-01-14  92.888222  21258500  1.974664e+09     100.169998     100.730003   \n",
       "2019-01-15  93.569199  26504900  2.480042e+09     101.360001     100.169998   \n",
       "2019-01-16  94.323799  18533000  1.748103e+09     102.470001     101.360001   \n",
       "\n",
       "            t_minus1_low  t_minus2_low  prev_day_intraday_volatility  \\\n",
       "2019-01-10     99.930000     99.550003                      0.015538   \n",
       "2019-01-11     99.269997     99.930000                      0.014543   \n",
       "2019-01-14     98.949997     99.269997                      0.012211   \n",
       "2019-01-15     98.660004     98.949997                      0.026749   \n",
       "2019-01-16     98.599998     98.660004                      0.038061   \n",
       "\n",
       "            past_six_day_volatility  \n",
       "2019-01-10                 0.036571  \n",
       "2019-01-11                 0.036505  \n",
       "2019-01-14                 0.008462  \n",
       "2019-01-15                 0.010249  \n",
       "2019-01-16                 0.017586  "
      ]
     },
     "execution_count": 128,
     "metadata": {},
     "output_type": "execute_result"
    }
   ],
   "source": [
    "full_data['prev_day_intraday_volatility'] = abs(full_data['t_minus1_high']-full_data['t_minus1_low'])/(full_data['t_minus1'])\n",
    "full_data['past_six_day_volatility'] = (full_data[['t_minus6', 't_minus5', 't_minus4', 't_minus3', 't_minus2', 't_minus1']].apply(lambda x: x.max(), axis=1)-full_data[['t_minus6', 't_minus5', 't_minus4', 't_minus3', 't_minus2', 't_minus1']].apply(lambda x: x.min(), axis=1))/(full_data[['t_minus6', 't_minus5', 't_minus4', 't_minus3', 't_minus2', 't_minus1']].apply(lambda x: x.mean(), axis=1))\n",
    "full_data.head()"
   ]
  },
  {
   "cell_type": "markdown",
   "id": "00b8fc48",
   "metadata": {},
   "source": [
    "## 4. Model Build\n",
    "\n",
    "The project specifies to use RandomForestRegressor but wanted to compare against LinearRegression as a baseline. I did test a number of other models, but don't have the documentation contained in this notebook. \n",
    "\n",
    "1. Test / Train Split\n",
    "2. Test RandomForestRegressor\n",
    "3. Test Linear Regression\n",
    "4. Analyzing Residuals for Statistical Validity\n",
    "5. Deeper Look at Linear Regression Using StatsModel"
   ]
  },
  {
   "cell_type": "code",
   "execution_count": 30,
   "id": "ef5fd4bb",
   "metadata": {},
   "outputs": [],
   "source": [
    "from sklearn.ensemble import RandomForestRegressor\n",
    "import numpy as np"
   ]
  },
  {
   "cell_type": "code",
   "execution_count": 277,
   "id": "8e9c2ff5",
   "metadata": {},
   "outputs": [],
   "source": [
    "## Training and Testing Split\n",
    "date_split = '2021-07-29'\n",
    "non_x_columns = ['open', 'high', 'low', 'close', 'adj_close', 'volume', 'market_cap']\n",
    "\n",
    "## Training Data is January 1, 2019 -> July 31, 2021\n",
    "training_data = full_data.loc[:date_split]\n",
    "testing_data = full_data.loc[date_split:]\n",
    "\n",
    "## Training Data\n",
    "y_train = training_data['close'].tolist()\n",
    "X_train = training_data.drop(non_x_columns, axis=1).values.tolist()\n",
    "\n",
    "## Testing Data\n",
    "y_test = testing_data['close'].tolist()\n",
    "X_test = testing_data.drop(non_x_columns, axis=1).values.tolist()"
   ]
  },
  {
   "cell_type": "code",
   "execution_count": 176,
   "id": "9eaff834",
   "metadata": {
    "scrolled": false
   },
   "outputs": [
    {
     "data": {
      "text/html": [
       "<div>\n",
       "<style scoped>\n",
       "    .dataframe tbody tr th:only-of-type {\n",
       "        vertical-align: middle;\n",
       "    }\n",
       "\n",
       "    .dataframe tbody tr th {\n",
       "        vertical-align: top;\n",
       "    }\n",
       "\n",
       "    .dataframe thead th {\n",
       "        text-align: right;\n",
       "    }\n",
       "</style>\n",
       "<table border=\"1\" class=\"dataframe\">\n",
       "  <thead>\n",
       "    <tr style=\"text-align: right;\">\n",
       "      <th></th>\n",
       "      <th>t_minus6</th>\n",
       "      <th>t_minus5</th>\n",
       "      <th>t_minus4</th>\n",
       "      <th>t_minus3</th>\n",
       "      <th>t_minus2</th>\n",
       "      <th>t_minus1</th>\n",
       "      <th>open</th>\n",
       "      <th>high</th>\n",
       "      <th>low</th>\n",
       "      <th>close</th>\n",
       "      <th>adj_close</th>\n",
       "      <th>volume</th>\n",
       "      <th>market_cap</th>\n",
       "      <th>t_minus1_high</th>\n",
       "      <th>t_minus2_high</th>\n",
       "      <th>t_minus1_low</th>\n",
       "      <th>t_minus2_low</th>\n",
       "      <th>prev_day_intraday_volatility</th>\n",
       "      <th>past_six_day_volatility</th>\n",
       "    </tr>\n",
       "  </thead>\n",
       "  <tbody>\n",
       "    <tr>\n",
       "      <th>2021-04-29</th>\n",
       "      <td>150.539993</td>\n",
       "      <td>147.369995</td>\n",
       "      <td>150.190002</td>\n",
       "      <td>150.559998</td>\n",
       "      <td>151.250000</td>\n",
       "      <td>152.229996</td>\n",
       "      <td>153.539993</td>\n",
       "      <td>155.279999</td>\n",
       "      <td>153.199997</td>\n",
       "      <td>155.190002</td>\n",
       "      <td>153.376602</td>\n",
       "      <td>12976900</td>\n",
       "      <td>1.990353e+09</td>\n",
       "      <td>152.889999</td>\n",
       "      <td>151.570007</td>\n",
       "      <td>151.399994</td>\n",
       "      <td>150.110001</td>\n",
       "      <td>0.009788</td>\n",
       "      <td>0.032323</td>\n",
       "    </tr>\n",
       "    <tr>\n",
       "      <th>2021-04-30</th>\n",
       "      <td>147.369995</td>\n",
       "      <td>150.190002</td>\n",
       "      <td>150.559998</td>\n",
       "      <td>151.250000</td>\n",
       "      <td>152.229996</td>\n",
       "      <td>155.190002</td>\n",
       "      <td>154.100006</td>\n",
       "      <td>154.490005</td>\n",
       "      <td>153.009995</td>\n",
       "      <td>153.809998</td>\n",
       "      <td>152.012726</td>\n",
       "      <td>11705100</td>\n",
       "      <td>1.779324e+09</td>\n",
       "      <td>155.279999</td>\n",
       "      <td>152.889999</td>\n",
       "      <td>153.199997</td>\n",
       "      <td>151.399994</td>\n",
       "      <td>0.013403</td>\n",
       "      <td>0.051743</td>\n",
       "    </tr>\n",
       "    <tr>\n",
       "      <th>2021-05-03</th>\n",
       "      <td>150.190002</td>\n",
       "      <td>150.559998</td>\n",
       "      <td>151.250000</td>\n",
       "      <td>152.229996</td>\n",
       "      <td>155.190002</td>\n",
       "      <td>153.809998</td>\n",
       "      <td>154.850006</td>\n",
       "      <td>155.479996</td>\n",
       "      <td>153.130005</td>\n",
       "      <td>153.360001</td>\n",
       "      <td>151.567993</td>\n",
       "      <td>11801100</td>\n",
       "      <td>1.788669e+09</td>\n",
       "      <td>154.490005</td>\n",
       "      <td>155.279999</td>\n",
       "      <td>153.009995</td>\n",
       "      <td>153.199997</td>\n",
       "      <td>0.009622</td>\n",
       "      <td>0.032850</td>\n",
       "    </tr>\n",
       "    <tr>\n",
       "      <th>2021-05-04</th>\n",
       "      <td>150.559998</td>\n",
       "      <td>151.250000</td>\n",
       "      <td>152.229996</td>\n",
       "      <td>155.190002</td>\n",
       "      <td>153.809998</td>\n",
       "      <td>153.360001</td>\n",
       "      <td>152.869995</td>\n",
       "      <td>155.639999</td>\n",
       "      <td>152.139999</td>\n",
       "      <td>155.479996</td>\n",
       "      <td>153.663208</td>\n",
       "      <td>12977700</td>\n",
       "      <td>1.994195e+09</td>\n",
       "      <td>155.479996</td>\n",
       "      <td>154.490005</td>\n",
       "      <td>153.130005</td>\n",
       "      <td>153.009995</td>\n",
       "      <td>0.015323</td>\n",
       "      <td>0.030314</td>\n",
       "    </tr>\n",
       "    <tr>\n",
       "      <th>2021-05-05</th>\n",
       "      <td>151.250000</td>\n",
       "      <td>152.229996</td>\n",
       "      <td>155.190002</td>\n",
       "      <td>153.809998</td>\n",
       "      <td>153.360001</td>\n",
       "      <td>155.479996</td>\n",
       "      <td>156.000000</td>\n",
       "      <td>158.279999</td>\n",
       "      <td>154.630005</td>\n",
       "      <td>157.520004</td>\n",
       "      <td>155.679367</td>\n",
       "      <td>10506700</td>\n",
       "      <td>1.635676e+09</td>\n",
       "      <td>155.639999</td>\n",
       "      <td>155.479996</td>\n",
       "      <td>152.139999</td>\n",
       "      <td>153.130005</td>\n",
       "      <td>0.022511</td>\n",
       "      <td>0.027547</td>\n",
       "    </tr>\n",
       "  </tbody>\n",
       "</table>\n",
       "</div>"
      ],
      "text/plain": [
       "              t_minus6    t_minus5    t_minus4    t_minus3    t_minus2  \\\n",
       "2021-04-29  150.539993  147.369995  150.190002  150.559998  151.250000   \n",
       "2021-04-30  147.369995  150.190002  150.559998  151.250000  152.229996   \n",
       "2021-05-03  150.190002  150.559998  151.250000  152.229996  155.190002   \n",
       "2021-05-04  150.559998  151.250000  152.229996  155.190002  153.809998   \n",
       "2021-05-05  151.250000  152.229996  155.190002  153.809998  153.360001   \n",
       "\n",
       "              t_minus1        open        high         low       close  \\\n",
       "2021-04-29  152.229996  153.539993  155.279999  153.199997  155.190002   \n",
       "2021-04-30  155.190002  154.100006  154.490005  153.009995  153.809998   \n",
       "2021-05-03  153.809998  154.850006  155.479996  153.130005  153.360001   \n",
       "2021-05-04  153.360001  152.869995  155.639999  152.139999  155.479996   \n",
       "2021-05-05  155.479996  156.000000  158.279999  154.630005  157.520004   \n",
       "\n",
       "             adj_close    volume    market_cap  t_minus1_high  t_minus2_high  \\\n",
       "2021-04-29  153.376602  12976900  1.990353e+09     152.889999     151.570007   \n",
       "2021-04-30  152.012726  11705100  1.779324e+09     155.279999     152.889999   \n",
       "2021-05-03  151.567993  11801100  1.788669e+09     154.490005     155.279999   \n",
       "2021-05-04  153.663208  12977700  1.994195e+09     155.479996     154.490005   \n",
       "2021-05-05  155.679367  10506700  1.635676e+09     155.639999     155.479996   \n",
       "\n",
       "            t_minus1_low  t_minus2_low  prev_day_intraday_volatility  \\\n",
       "2021-04-29    151.399994    150.110001                      0.009788   \n",
       "2021-04-30    153.199997    151.399994                      0.013403   \n",
       "2021-05-03    153.009995    153.199997                      0.009622   \n",
       "2021-05-04    153.130005    153.009995                      0.015323   \n",
       "2021-05-05    152.139999    153.130005                      0.022511   \n",
       "\n",
       "            past_six_day_volatility  \n",
       "2021-04-29                 0.032323  \n",
       "2021-04-30                 0.051743  \n",
       "2021-05-03                 0.032850  \n",
       "2021-05-04                 0.030314  \n",
       "2021-05-05                 0.027547  "
      ]
     },
     "execution_count": 176,
     "metadata": {},
     "output_type": "execute_result"
    }
   ],
   "source": [
    "testing_data.head()"
   ]
  },
  {
   "cell_type": "markdown",
   "id": "aad0114e",
   "metadata": {},
   "source": [
    "### 4.2 RandomForestRegressor"
   ]
  },
  {
   "cell_type": "code",
   "execution_count": 234,
   "id": "4e4b1970",
   "metadata": {},
   "outputs": [
    {
     "name": "stdout",
     "output_type": "stream",
     "text": [
      "Training Data Mean Squared Error:  0.9868180787845671\n",
      "Testing Data Mean Squared Error:  39.47240920131208\n"
     ]
    }
   ],
   "source": [
    "rf_reg = RandomForestRegressor()\n",
    "rf_reg.fit(X_train, y_train)\n",
    "y_preds = rf_reg.predict(X_train)\n",
    "print('Training Data Mean Squared Error: ', mean_squared_error(y_train, y_preds))\n",
    "\n",
    "y_preds_test = rf_reg.predict(X_test)\n",
    "print('Testing Data Mean Squared Error: ', mean_squared_error(y_test, y_preds_test))"
   ]
  },
  {
   "cell_type": "markdown",
   "id": "33a52299",
   "metadata": {},
   "source": [
    "Major overfitting. Likely due to tree depth and min leaf splits"
   ]
  },
  {
   "cell_type": "code",
   "execution_count": 503,
   "id": "f832858c",
   "metadata": {},
   "outputs": [
    {
     "data": {
      "text/plain": [
       "{'bootstrap': True,\n",
       " 'ccp_alpha': 0.0,\n",
       " 'criterion': 'mse',\n",
       " 'max_depth': None,\n",
       " 'max_features': 'auto',\n",
       " 'max_leaf_nodes': None,\n",
       " 'max_samples': None,\n",
       " 'min_impurity_decrease': 0.0,\n",
       " 'min_impurity_split': None,\n",
       " 'min_samples_leaf': 1,\n",
       " 'min_samples_split': 2,\n",
       " 'min_weight_fraction_leaf': 0.0,\n",
       " 'n_estimators': 100,\n",
       " 'n_jobs': None,\n",
       " 'oob_score': False,\n",
       " 'random_state': None,\n",
       " 'verbose': 0,\n",
       " 'warm_start': False}"
      ]
     },
     "execution_count": 503,
     "metadata": {},
     "output_type": "execute_result"
    }
   ],
   "source": [
    "## Hyper-Parameter Tuning\n",
    "rf_reg.get_params()"
   ]
  },
  {
   "cell_type": "code",
   "execution_count": 248,
   "id": "4820cb62",
   "metadata": {},
   "outputs": [],
   "source": [
    "#This many parameters will take a very long time to load\n",
    "param = {'bootstrap': [True],\n",
    " 'ccp_alpha': [0.0, 0.05,0.1,0.15,0.20,0.25],\n",
    " 'criterion': ['mse'],\n",
    " 'max_depth': [5,7,8,9,10,11,12,13,14,15,20,50],\n",
    " 'max_features': ['auto'],\n",
    " 'max_leaf_nodes': [None],\n",
    " 'max_samples': [None],\n",
    " 'min_impurity_decrease': [0.0],\n",
    " 'min_impurity_split': [None],\n",
    " 'min_samples_leaf': [1,5,10,20,30,40],\n",
    " 'min_samples_split': [2,3,4,5,6,7,8,9,10],\n",
    " 'min_weight_fraction_leaf': [0.0],\n",
    " 'n_estimators': [100,200],\n",
    " 'n_jobs': [None],\n",
    " 'oob_score': [False],\n",
    " 'random_state': [None],\n",
    " 'verbose': [0],\n",
    " 'warm_start': [False]}"
   ]
  },
  {
   "cell_type": "code",
   "execution_count": 249,
   "id": "959772eb",
   "metadata": {},
   "outputs": [],
   "source": [
    "from sklearn.model_selection import GridSearchCV, RandomizedSearchCV\n",
    "?RandomizedSearchCV"
   ]
  },
  {
   "cell_type": "code",
   "execution_count": 260,
   "id": "86f65bbe",
   "metadata": {
    "scrolled": true
   },
   "outputs": [
    {
     "name": "stdout",
     "output_type": "stream",
     "text": [
      "Best Score: -6.882375586166153\n",
      "Best Hyperparameters: {'warm_start': False, 'verbose': 0, 'random_state': None, 'oob_score': False, 'n_jobs': None, 'n_estimators': 200, 'min_weight_fraction_leaf': 0.0, 'min_samples_split': 4, 'min_samples_leaf': 10, 'min_impurity_split': None, 'min_impurity_decrease': 0.0, 'max_samples': None, 'max_leaf_nodes': None, 'max_features': 'auto', 'max_depth': 10, 'criterion': 'mse', 'ccp_alpha': 0.05, 'bootstrap': True}\n"
     ]
    }
   ],
   "source": [
    "## Use a randomized Search to get general idea of where the optimal parameters are, and then use gridsearch. \n",
    "\n",
    "from sklearn.model_selection import RepeatedKFold\n",
    "from sklearn.model_selection import GridSearchCV, RandomizedSearchCV\n",
    "cv = RepeatedKFold(n_splits=5, n_repeats=2, random_state=1)\n",
    "# define search\n",
    "search = RandomizedSearchCV(rf_reg, param, scoring='neg_mean_squared_error', cv=cv, n_iter=50).fit(X_train, y_train)\n",
    "\n",
    "# summarize result\n",
    "print('Best Score: %s' % result.best_score_)\n",
    "print('Best Hyperparameters: %s' % result.best_params_)"
   ]
  },
  {
   "cell_type": "code",
   "execution_count": 263,
   "id": "3f3821ad",
   "metadata": {
    "scrolled": true
   },
   "outputs": [
    {
     "name": "stdout",
     "output_type": "stream",
     "text": [
      "Training Data Mean Squared Error Tuned:  4.34782635056673\n",
      "Testing Data Mean Squared Error Tuned:  36.5987616738811\n"
     ]
    }
   ],
   "source": [
    "rf_reg_tuned = RandomForestRegressor(**search.best_params_)\n",
    "rf_reg_tuned.fit(X_train, y_train)\n",
    "y_preds_tuned = rf_reg_tuned.predict(X_train)\n",
    "print('Training Data Mean Squared Error Tuned: ', mean_squared_error(y_train, y_preds_tuned))\n",
    "\n",
    "y_preds_test_tuned = rf_reg_tuned.predict(X_test)\n",
    "print('Testing Data Mean Squared Error Tuned: ', mean_squared_error(y_test, y_preds_test_tuned))"
   ]
  },
  {
   "cell_type": "code",
   "execution_count": 264,
   "id": "40d4c334",
   "metadata": {},
   "outputs": [],
   "source": [
    "param2 = {'bootstrap': [True],\n",
    " 'ccp_alpha': [0.4,0.05,0.06],\n",
    " 'criterion': ['mse'],\n",
    " 'max_depth': [9,10,11],\n",
    " 'max_features': ['auto'],\n",
    " 'max_leaf_nodes': [None],\n",
    " 'max_samples': [None],\n",
    " 'min_impurity_decrease': [0.0],\n",
    " 'min_impurity_split': [None],\n",
    " 'min_samples_leaf': [8,9,10,11,12],\n",
    " 'min_samples_split': [3,4,5],\n",
    " 'min_weight_fraction_leaf': [0.0],\n",
    " 'n_estimators': [200],\n",
    " 'n_jobs': [None],\n",
    " 'oob_score': [False],\n",
    " 'random_state': [None],\n",
    " 'verbose': [0],\n",
    " 'warm_start': [False]}"
   ]
  },
  {
   "cell_type": "code",
   "execution_count": 265,
   "id": "bcba8612",
   "metadata": {},
   "outputs": [
    {
     "name": "stdout",
     "output_type": "stream",
     "text": [
      "Training Data Mean Squared Error Tuned:  4.519220744729903\n",
      "Testing Data Mean Squared Error Tuned:  37.704328477758494\n"
     ]
    }
   ],
   "source": [
    "search = GridSearchCV(rf_reg, param2, scoring = 'neg_mean_squared_error', cv=cv).fit(X_train, y_train)\n",
    "rf_reg_tuned = RandomForestRegressor(**search.best_params_)\n",
    "rf_reg_tuned.fit(X_train, y_train)\n",
    "y_preds_tuned = rf_reg_tuned.predict(X_train)\n",
    "print('Training Data Mean Squared Error Tuned: ', mean_squared_error(y_train, y_preds_tuned))\n",
    "\n",
    "y_preds_test_tuned = rf_reg_tuned.predict(X_test)\n",
    "print('Testing Data Mean Squared Error Tuned: ', mean_squared_error(y_test, y_preds_test_tuned))"
   ]
  },
  {
   "cell_type": "markdown",
   "id": "47751652",
   "metadata": {},
   "source": [
    "Welp. Even with all the hyper-parameter tuning and such. RandomForestRegressor won't be able to compete with Linear Regression."
   ]
  },
  {
   "cell_type": "markdown",
   "id": "13315769",
   "metadata": {},
   "source": [
    "### 4.3 Linear Regression"
   ]
  },
  {
   "cell_type": "code",
   "execution_count": 258,
   "id": "8c22c9ad",
   "metadata": {
    "scrolled": true
   },
   "outputs": [
    {
     "data": {
      "text/plain": [
       "0.983529500518821"
      ]
     },
     "metadata": {},
     "output_type": "display_data"
    },
    {
     "data": {
      "text/plain": [
       "5.453041347321897"
      ]
     },
     "metadata": {},
     "output_type": "display_data"
    }
   ],
   "source": [
    "reg = LinearRegression(normalize=True)\n",
    "reg.fit(X_train, y_train)\n",
    "y_preds = reg.predict(X_train)\n",
    "display(r2_score(y_train, y_preds))\n",
    "display(mean_squared_error(y_train, y_preds))\n",
    "\n",
    "y_preds_test = reg.predict(X_test)\n",
    "display(r2_score(y_test, y_preds_test))\n",
    "display(mean_squared_error(y_test, y_preds_test))\n"
   ]
  },
  {
   "cell_type": "code",
   "execution_count": 259,
   "id": "fb6ef7b9",
   "metadata": {
    "scrolled": true
   },
   "outputs": [
    {
     "data": {
      "text/plain": [
       "0.8042694201516023"
      ]
     },
     "metadata": {},
     "output_type": "display_data"
    },
    {
     "data": {
      "text/plain": [
       "5.397748787709775"
      ]
     },
     "metadata": {},
     "output_type": "display_data"
    }
   ],
   "source": [
    "y_preds_test = reg.predict(X_test)\n",
    "display(r2_score(y_test, y_preds_test))\n",
    "display(mean_squared_error(y_test, y_preds_test))\n"
   ]
  },
  {
   "cell_type": "code",
   "execution_count": 193,
   "id": "4cb2d975",
   "metadata": {
    "scrolled": true
   },
   "outputs": [
    {
     "data": {
      "text/plain": [
       "array([154.09090103, 153.19999634, 153.7905983 , 153.57229828,\n",
       "       154.14439957, 155.16419708, 154.25889755, 153.62609879,\n",
       "       153.77909836, 153.88629837])"
      ]
     },
     "execution_count": 193,
     "metadata": {},
     "output_type": "execute_result"
    }
   ],
   "source": [
    "y_preds_test[0:10]"
   ]
  },
  {
   "cell_type": "markdown",
   "id": "1ba46ab9",
   "metadata": {},
   "source": [
    "### 4.4 Analyzing Residuals"
   ]
  },
  {
   "cell_type": "code",
   "execution_count": 183,
   "id": "54fae4b2",
   "metadata": {},
   "outputs": [],
   "source": [
    "from matplotlib import pyplot as plt"
   ]
  },
  {
   "cell_type": "code",
   "execution_count": 204,
   "id": "480ab037",
   "metadata": {},
   "outputs": [
    {
     "data": {
      "image/png": "[encoded data removed]",
      "text/plain": [
       "<Figure size 432x432 with 1 Axes>"
      ]
     },
     "metadata": {
      "needs_background": "light"
     },
     "output_type": "display_data"
    }
   ],
   "source": [
    "train_residuals = y_preds - y_train\n",
    "train_residuals = pd.DataFrame(train_residuals, index = training_data.index, columns = ['train_residuals'])\n",
    "\n",
    "plt.figure(figsize=(6,6))\n",
    "plt.scatter(y = train_residuals['train_residuals'], x = train_residuals.index)\n",
    "plt.xlabel('Dates')\n",
    "plt.ylabel('Training Residuals')\n",
    "plt.title('Model Residuals')\n",
    "plt.show()"
   ]
  },
  {
   "cell_type": "code",
   "execution_count": 203,
   "id": "c61b051e",
   "metadata": {
    "scrolled": false
   },
   "outputs": [
    {
     "data": {
      "image/png": "[encoded data removed]",
      "text/plain": [
       "<Figure size 432x432 with 1 Axes>"
      ]
     },
     "metadata": {
      "needs_background": "light"
     },
     "output_type": "display_data"
    }
   ],
   "source": [
    "test_residuals = y_preds_test - y_test\n",
    "test_residuals = pd.DataFrame(test_residuals, index = testing_data.index, columns = ['test_residuals'])\n",
    "\n",
    "plt.figure(figsize=(6,6))\n",
    "plt.scatter(y = test_residuals['test_residuals'], x = test_residuals.index)\n",
    "plt.xlabel('Dates')\n",
    "plt.ylabel('Testing Residuals')\n",
    "plt.title('Model Residuals')\n",
    "plt.show()"
   ]
  },
  {
   "cell_type": "code",
   "execution_count": 287,
   "id": "86bc219a",
   "metadata": {},
   "outputs": [
    {
     "name": "stdout",
     "output_type": "stream",
     "text": [
      "                         feature            VIF\n",
      "0                       t_minus6    2612.691390\n",
      "1                       t_minus5    4322.982070\n",
      "2                       t_minus4    4490.474485\n",
      "3                       t_minus3    6913.639682\n",
      "4                       t_minus2   25525.182271\n",
      "5                       t_minus1   22035.114078\n",
      "6                  t_minus1_high  106656.513032\n",
      "7                  t_minus2_high   23605.356074\n",
      "8                   t_minus1_low  100620.371232\n",
      "9                   t_minus2_low   24664.638787\n",
      "10  prev_day_intraday_volatility      49.081416\n",
      "11       past_six_day_volatility       7.134683\n"
     ]
    }
   ],
   "source": [
    "## Check for multi-colinearity\n",
    "import statsmodels.api as sm\n",
    "from statsmodels.stats.outliers_influence import variance_inflation_factor\n",
    "\n",
    "vif_data = training_data.drop(non_x_columns, axis=1)\n",
    "vif = pd.DataFrame()\n",
    "vif['feature'] = vif_data.columns\n",
    "vif[\"VIF\"] = [variance_inflation_factor(vif_data.values, i)\n",
    "                          for i in range(len(vif_data.columns))]\n",
    "\n",
    "print(vif)"
   ]
  },
  {
   "cell_type": "markdown",
   "id": "81cc4433",
   "metadata": {},
   "source": [
    "Stupidily high multi-colinearity"
   ]
  },
  {
   "cell_type": "markdown",
   "id": "72693ba4",
   "metadata": {},
   "source": [
    "### 4.5 Deeper Look into Linear Regression Using StatsModel"
   ]
  },
  {
   "cell_type": "code",
   "execution_count": 295,
   "id": "1c8c1746",
   "metadata": {},
   "outputs": [],
   "source": [
    "import statsmodels.api as sm"
   ]
  },
  {
   "cell_type": "code",
   "execution_count": 298,
   "id": "fe5b1b6a",
   "metadata": {},
   "outputs": [
    {
     "data": {
      "text/html": [
       "<table class=\"simpletable\">\n",
       "<caption>OLS Regression Results</caption>\n",
       "<tr>\n",
       "  <th>Dep. Variable:</th>          <td>close</td>      <th>  R-squared:         </th> <td>   0.988</td>\n",
       "</tr>\n",
       "<tr>\n",
       "  <th>Model:</th>                   <td>OLS</td>       <th>  Adj. R-squared:    </th> <td>   0.988</td>\n",
       "</tr>\n",
       "<tr>\n",
       "  <th>Method:</th>             <td>Least Squares</td>  <th>  F-statistic:       </th> <td>   5684.</td>\n",
       "</tr>\n",
       "<tr>\n",
       "  <th>Date:</th>             <td>Tue, 09 Nov 2021</td> <th>  Prob (F-statistic):</th>  <td>  0.00</td> \n",
       "</tr>\n",
       "<tr>\n",
       "  <th>Time:</th>                 <td>17:10:24</td>     <th>  Log-Likelihood:    </th> <td> -1465.3</td>\n",
       "</tr>\n",
       "<tr>\n",
       "  <th>No. Observations:</th>      <td>   643</td>      <th>  AIC:               </th> <td>   2951.</td>\n",
       "</tr>\n",
       "<tr>\n",
       "  <th>Df Residuals:</th>          <td>   633</td>      <th>  BIC:               </th> <td>   2995.</td>\n",
       "</tr>\n",
       "<tr>\n",
       "  <th>Df Model:</th>              <td>     9</td>      <th>                     </th>     <td> </td>   \n",
       "</tr>\n",
       "<tr>\n",
       "  <th>Covariance Type:</th>      <td>nonrobust</td>    <th>                     </th>     <td> </td>   \n",
       "</tr>\n",
       "</table>\n",
       "<table class=\"simpletable\">\n",
       "<tr>\n",
       "                <td></td>                  <th>coef</th>     <th>std err</th>      <th>t</th>      <th>P>|t|</th>  <th>[0.025</th>    <th>0.975]</th>  \n",
       "</tr>\n",
       "<tr>\n",
       "  <th>const</th>                        <td>   -1.3747</td> <td>    0.979</td> <td>   -1.404</td> <td> 0.161</td> <td>   -3.297</td> <td>    0.548</td>\n",
       "</tr>\n",
       "<tr>\n",
       "  <th>t_minus6</th>                     <td>   -0.0977</td> <td>    0.039</td> <td>   -2.477</td> <td> 0.014</td> <td>   -0.175</td> <td>   -0.020</td>\n",
       "</tr>\n",
       "<tr>\n",
       "  <th>t_minus5</th>                     <td>    0.2076</td> <td>    0.051</td> <td>    4.065</td> <td> 0.000</td> <td>    0.107</td> <td>    0.308</td>\n",
       "</tr>\n",
       "<tr>\n",
       "  <th>t_minus4</th>                     <td>   -0.0752</td> <td>    0.052</td> <td>   -1.444</td> <td> 0.149</td> <td>   -0.177</td> <td>    0.027</td>\n",
       "</tr>\n",
       "<tr>\n",
       "  <th>t_minus3</th>                     <td>   -0.1449</td> <td>    0.052</td> <td>   -2.785</td> <td> 0.006</td> <td>   -0.247</td> <td>   -0.043</td>\n",
       "</tr>\n",
       "<tr>\n",
       "  <th>t_minus2</th>                     <td>    0.1479</td> <td>    0.064</td> <td>    2.305</td> <td> 0.022</td> <td>    0.022</td> <td>    0.274</td>\n",
       "</tr>\n",
       "<tr>\n",
       "  <th>t_minus1</th>                     <td>    0.6648</td> <td>    0.115</td> <td>    5.788</td> <td> 0.000</td> <td>    0.439</td> <td>    0.890</td>\n",
       "</tr>\n",
       "<tr>\n",
       "  <th>t_minus1_high</th>                <td>   -0.9840</td> <td>    0.368</td> <td>   -2.673</td> <td> 0.008</td> <td>   -1.707</td> <td>   -0.261</td>\n",
       "</tr>\n",
       "<tr>\n",
       "  <th>t_minus1_low</th>                 <td>    1.2980</td> <td>    0.376</td> <td>    3.456</td> <td> 0.001</td> <td>    0.560</td> <td>    2.036</td>\n",
       "</tr>\n",
       "<tr>\n",
       "  <th>prev_day_intraday_volatility</th> <td>  105.8171</td> <td>   37.120</td> <td>    2.851</td> <td> 0.005</td> <td>   32.924</td> <td>  178.710</td>\n",
       "</tr>\n",
       "</table>\n",
       "<table class=\"simpletable\">\n",
       "<tr>\n",
       "  <th>Omnibus:</th>       <td>90.856</td> <th>  Durbin-Watson:     </th> <td>   1.996</td> \n",
       "</tr>\n",
       "<tr>\n",
       "  <th>Prob(Omnibus):</th> <td> 0.000</td> <th>  Jarque-Bera (JB):  </th> <td> 978.620</td> \n",
       "</tr>\n",
       "<tr>\n",
       "  <th>Skew:</th>          <td> 0.078</td> <th>  Prob(JB):          </th> <td>3.13e-213</td>\n",
       "</tr>\n",
       "<tr>\n",
       "  <th>Kurtosis:</th>      <td> 9.042</td> <th>  Cond. No.          </th> <td>1.35e+05</td> \n",
       "</tr>\n",
       "</table><br/><br/>Notes:<br/>[1] Standard Errors assume that the covariance matrix of the errors is correctly specified.<br/>[2] The condition number is large, 1.35e+05. This might indicate that there are<br/>strong multicollinearity or other numerical problems."
      ],
      "text/plain": [
       "<class 'statsmodels.iolib.summary.Summary'>\n",
       "\"\"\"\n",
       "                            OLS Regression Results                            \n",
       "==============================================================================\n",
       "Dep. Variable:                  close   R-squared:                       0.988\n",
       "Model:                            OLS   Adj. R-squared:                  0.988\n",
       "Method:                 Least Squares   F-statistic:                     5684.\n",
       "Date:                Tue, 09 Nov 2021   Prob (F-statistic):               0.00\n",
       "Time:                        17:10:24   Log-Likelihood:                -1465.3\n",
       "No. Observations:                 643   AIC:                             2951.\n",
       "Df Residuals:                     633   BIC:                             2995.\n",
       "Df Model:                           9                                         \n",
       "Covariance Type:            nonrobust                                         \n",
       "================================================================================================\n",
       "                                   coef    std err          t      P>|t|      [0.025      0.975]\n",
       "------------------------------------------------------------------------------------------------\n",
       "const                           -1.3747      0.979     -1.404      0.161      -3.297       0.548\n",
       "t_minus6                        -0.0977      0.039     -2.477      0.014      -0.175      -0.020\n",
       "t_minus5                         0.2076      0.051      4.065      0.000       0.107       0.308\n",
       "t_minus4                        -0.0752      0.052     -1.444      0.149      -0.177       0.027\n",
       "t_minus3                        -0.1449      0.052     -2.785      0.006      -0.247      -0.043\n",
       "t_minus2                         0.1479      0.064      2.305      0.022       0.022       0.274\n",
       "t_minus1                         0.6648      0.115      5.788      0.000       0.439       0.890\n",
       "t_minus1_high                   -0.9840      0.368     -2.673      0.008      -1.707      -0.261\n",
       "t_minus1_low                     1.2980      0.376      3.456      0.001       0.560       2.036\n",
       "prev_day_intraday_volatility   105.8171     37.120      2.851      0.005      32.924     178.710\n",
       "==============================================================================\n",
       "Omnibus:                       90.856   Durbin-Watson:                   1.996\n",
       "Prob(Omnibus):                  0.000   Jarque-Bera (JB):              978.620\n",
       "Skew:                           0.078   Prob(JB):                    3.13e-213\n",
       "Kurtosis:                       9.042   Cond. No.                     1.35e+05\n",
       "==============================================================================\n",
       "\n",
       "Notes:\n",
       "[1] Standard Errors assume that the covariance matrix of the errors is correctly specified.\n",
       "[2] The condition number is large, 1.35e+05. This might indicate that there are\n",
       "strong multicollinearity or other numerical problems.\n",
       "\"\"\""
      ]
     },
     "execution_count": 298,
     "metadata": {},
     "output_type": "execute_result"
    }
   ],
   "source": [
    "drop_cols = ['open', 'high', 'low', 'adj_close', 'volume', 'market_cap', \n",
    "             'past_six_day_volatility', 't_minus2_high', 't_minus2_low']\n",
    "\n",
    "ols_training = training_data.drop(drop_cols, axis=1)\n",
    "\n",
    "ols = sm.OLS(ols_training['close'], sm.add_constant(ols_training.drop(['close'], axis=1))).fit()\n",
    "ols.summary()\n",
    "\n",
    "## Let's drop past_six_day_volatility, t_minus2_high, t_minus2_low\n",
    "## Still high multi-colinearity. But let's check out what the LinearRegression in SkLearn spits out"
   ]
  },
  {
   "cell_type": "markdown",
   "id": "2ae73213",
   "metadata": {},
   "source": [
    "Linear Regression FTW!\n",
    "Linear Regression provides the best r_squared and the best RMSE for the testing datasets."
   ]
  },
  {
   "cell_type": "code",
   "execution_count": 301,
   "id": "607a9e90",
   "metadata": {},
   "outputs": [
    {
     "name": "stdout",
     "output_type": "stream",
     "text": [
      "---- Training Data Metrics ----\n"
     ]
    },
    {
     "data": {
      "text/plain": [
       "0.982957052934146"
      ]
     },
     "metadata": {},
     "output_type": "display_data"
    },
    {
     "data": {
      "text/plain": [
       "5.642566889760612"
      ]
     },
     "metadata": {},
     "output_type": "display_data"
    },
    {
     "name": "stdout",
     "output_type": "stream",
     "text": [
      "---- Testing Data Metrics ----\n"
     ]
    },
    {
     "data": {
      "text/plain": [
       "0.8128571151253943"
      ]
     },
     "metadata": {},
     "output_type": "display_data"
    },
    {
     "data": {
      "text/plain": [
       "5.1609221243957935"
      ]
     },
     "metadata": {},
     "output_type": "display_data"
    }
   ],
   "source": [
    "## Training and Testing Split\n",
    "date_split = '2021-04-29'\n",
    "non_x_columns = ['open', 'high', 'low', 'close', 'adj_close', 'volume', 'market_cap', \n",
    "                 'past_six_day_volatility', 't_minus2_high', 't_minus2_low']\n",
    "\n",
    "## Training Data is January 1, 2019 -> July 31, 2021\n",
    "training_data = full_data.loc[:date_split]\n",
    "testing_data = full_data.loc[date_split:]\n",
    "\n",
    "## Training Data\n",
    "y_train = training_data['close'].tolist()\n",
    "X_train = training_data.drop(non_x_columns, axis=1).values.tolist()\n",
    "\n",
    "## Testing Data\n",
    "y_test = testing_data['close'].tolist()\n",
    "X_test = testing_data.drop(non_x_columns, axis=1).values.tolist()\n",
    "\n",
    "reg = LinearRegression()\n",
    "reg.fit(X_train, y_train)\n",
    "y_preds = reg.predict(X_train)\n",
    "print('---- Training Data Metrics ----')\n",
    "display(r2_score(y_train, y_preds))\n",
    "display(mean_squared_error(y_train, y_preds))\n",
    "\n",
    "y_preds_test = reg.predict(X_test)\n",
    "print('---- Testing Data Metrics ----')\n",
    "display(r2_score(y_test, y_preds_test))\n",
    "display(mean_squared_error(y_test, y_preds_test))\n"
   ]
  },
  {
   "cell_type": "markdown",
   "id": "b1078cb1",
   "metadata": {},
   "source": [
    "Well hey. I'll take it!!"
   ]
  },
  {
   "cell_type": "markdown",
   "id": "2ca9aff5",
   "metadata": {},
   "source": [
    "## 5. Run Process Through All S&P 500 Stocks\n",
    "\n",
    "Requirements:\n",
    "1. Stocks need to have data from Jan 2019 - Present. \n",
    "2. Have data for October 2021"
   ]
  },
  {
   "cell_type": "code",
   "execution_count": 451,
   "id": "6ed38eee",
   "metadata": {},
   "outputs": [
    {
     "data": {
      "text/html": [
       "<div>\n",
       "<style scoped>\n",
       "    .dataframe tbody tr th:only-of-type {\n",
       "        vertical-align: middle;\n",
       "    }\n",
       "\n",
       "    .dataframe tbody tr th {\n",
       "        vertical-align: top;\n",
       "    }\n",
       "\n",
       "    .dataframe thead th {\n",
       "        text-align: right;\n",
       "    }\n",
       "</style>\n",
       "<table border=\"1\" class=\"dataframe\">\n",
       "  <thead>\n",
       "    <tr style=\"text-align: right;\">\n",
       "      <th></th>\n",
       "      <th>Symbol</th>\n",
       "      <th>Name</th>\n",
       "      <th>Sector</th>\n",
       "    </tr>\n",
       "  </thead>\n",
       "  <tbody>\n",
       "    <tr>\n",
       "      <th>0</th>\n",
       "      <td>MMM</td>\n",
       "      <td>3M</td>\n",
       "      <td>Industrials</td>\n",
       "    </tr>\n",
       "    <tr>\n",
       "      <th>1</th>\n",
       "      <td>AOS</td>\n",
       "      <td>A. O. Smith</td>\n",
       "      <td>Industrials</td>\n",
       "    </tr>\n",
       "    <tr>\n",
       "      <th>2</th>\n",
       "      <td>ABT</td>\n",
       "      <td>Abbott Laboratories</td>\n",
       "      <td>Health Care</td>\n",
       "    </tr>\n",
       "    <tr>\n",
       "      <th>3</th>\n",
       "      <td>ABBV</td>\n",
       "      <td>AbbVie</td>\n",
       "      <td>Health Care</td>\n",
       "    </tr>\n",
       "    <tr>\n",
       "      <th>4</th>\n",
       "      <td>ABMD</td>\n",
       "      <td>Abiomed</td>\n",
       "      <td>Health Care</td>\n",
       "    </tr>\n",
       "  </tbody>\n",
       "</table>\n",
       "</div>"
      ],
      "text/plain": [
       "  Symbol                 Name       Sector\n",
       "0    MMM                   3M  Industrials\n",
       "1    AOS          A. O. Smith  Industrials\n",
       "2    ABT  Abbott Laboratories  Health Care\n",
       "3   ABBV               AbbVie  Health Care\n",
       "4   ABMD              Abiomed  Health Care"
      ]
     },
     "metadata": {},
     "output_type": "display_data"
    },
    {
     "data": {
      "text/plain": [
       "(503, 3)"
      ]
     },
     "metadata": {},
     "output_type": "display_data"
    },
    {
     "data": {
      "text/plain": [
       "(495, 3)"
      ]
     },
     "metadata": {},
     "output_type": "display_data"
    }
   ],
   "source": [
    "## constituents.csv on Github\n",
    "\n",
    "ticker_data = pd.read_csv('constituents.csv')\n",
    "display(ticker_data.head())\n",
    "display(ticker_data.shape)\n",
    "\n",
    "ticker_to_remove = ['IVZ', 'CARR', 'CTVA', 'DOW', 'FOX', 'FOXA', 'OGN', 'OTIS']\n",
    "ticker_data = ticker_data[~ticker_data['Symbol'].isin(ticker_to_remove)]\n",
    "\n",
    "tickers = ticker_data['Symbol']\n",
    "display(ticker_data.shape)"
   ]
  },
  {
   "cell_type": "code",
   "execution_count": null,
   "id": "eec8cf2e",
   "metadata": {},
   "outputs": [],
   "source": [
    "#### Analysis of the ticker data\n",
    "np.random.seed(1234)\n",
    "\n",
    "all_stock_data = pd.DataFrame([])\n",
    "\n",
    "for ticker in tickers:\n",
    "    data = yf.download(ticker, start='2019-01-01', end = '2021-11-04')\n",
    "    data['ticker'] = ticker\n",
    "    all_stock_data = all_stock_data.append(data)\n",
    "\n",
    "a = pd.DataFrame(all_stock_data.groupby('ticker')['date'].min()).reset_index()\n",
    "a[a['date']>'2019-01-02'][['ticker']]"
   ]
  },
  {
   "cell_type": "code",
   "execution_count": 452,
   "id": "b815bf07",
   "metadata": {
    "scrolled": true
   },
   "outputs": [
    {
     "name": "stdout",
     "output_type": "stream",
     "text": [
      "Analyzing MMM\n",
      "[*********************100%***********************]  1 of 1 completed\n",
      "MMM testing r2_score: 0.9467873309307206\n",
      "MMM testing MSE score: 4.087690467646773\n",
      "MMM : tomorrow's price: [176.56306079]\n",
      "MMM Success!\n",
      " \n",
      " \n",
      "Analyzing AOS\n"
     ]
    },
    {
     "name": "stderr",
     "output_type": "stream",
     "text": [
      "<ipython-input-452-1cd440387d10>:47: SettingWithCopyWarning: \n",
      "A value is trying to be set on a copy of a slice from a DataFrame.\n",
      "Try using .loc[row_indexer,col_indexer] = value instead\n",
      "\n",
      "See the caveats in the documentation: https://pandas.pydata.org/pandas-docs/stable/user_guide/indexing.html#returning-a-view-versus-a-copy\n",
      "  data_sub['t_minus1_high'] = data_sub['high'].shift(1)\n",
      "<ipython-input-452-1cd440387d10>:48: SettingWithCopyWarning: \n",
      "A value is trying to be set on a copy of a slice from a DataFrame.\n",
      "Try using .loc[row_indexer,col_indexer] = value instead\n",
      "\n",
      "See the caveats in the documentation: https://pandas.pydata.org/pandas-docs/stable/user_guide/indexing.html#returning-a-view-versus-a-copy\n",
      "  data_sub['t_minus1_low'] = data_sub['low'].shift(1)\n"
     ]
    },
    {
     "name": "stdout",
     "output_type": "stream",
     "text": [
      "[*********************100%***********************]  1 of 1 completed\n",
      "AOS testing r2_score: 0.8832470617407225\n",
      "AOS testing MSE score: 0.9929550699202724\n",
      "AOS : tomorrow's price: [61.55081954]\n",
      "AOS Success!\n",
      " \n",
      " \n",
      "Analyzing ABT\n"
     ]
    },
    {
     "name": "stderr",
     "output_type": "stream",
     "text": [
      "<ipython-input-452-1cd440387d10>:47: SettingWithCopyWarning: \n",
      "A value is trying to be set on a copy of a slice from a DataFrame.\n",
      "Try using .loc[row_indexer,col_indexer] = value instead\n",
      "\n",
      "See the caveats in the documentation: https://pandas.pydata.org/pandas-docs/stable/user_guide/indexing.html#returning-a-view-versus-a-copy\n",
      "  data_sub['t_minus1_high'] = data_sub['high'].shift(1)\n",
      "<ipython-input-452-1cd440387d10>:48: SettingWithCopyWarning: \n",
      "A value is trying to be set on a copy of a slice from a DataFrame.\n",
      "Try using .loc[row_indexer,col_indexer] = value instead\n",
      "\n",
      "See the caveats in the documentation: https://pandas.pydata.org/pandas-docs/stable/user_guide/indexing.html#returning-a-view-versus-a-copy\n",
      "  data_sub['t_minus1_low'] = data_sub['low'].shift(1)\n"
     ]
    },
    {
     "name": "stdout",
     "output_type": "stream",
     "text": [
      "[*********************100%***********************]  1 of 1 completed\n",
      "ABT testing r2_score: 0.9239049522184535\n",
      "ABT testing MSE score: 2.262700807798485\n",
      "ABT : tomorrow's price: [117.49771293]\n",
      "ABT Success!\n",
      " \n",
      " \n",
      "Analyzing ABBV\n"
     ]
    },
    {
     "name": "stderr",
     "output_type": "stream",
     "text": [
      "<ipython-input-452-1cd440387d10>:47: SettingWithCopyWarning: \n",
      "A value is trying to be set on a copy of a slice from a DataFrame.\n",
      "Try using .loc[row_indexer,col_indexer] = value instead\n",
      "\n",
      "See the caveats in the documentation: https://pandas.pydata.org/pandas-docs/stable/user_guide/indexing.html#returning-a-view-versus-a-copy\n",
      "  data_sub['t_minus1_high'] = data_sub['high'].shift(1)\n",
      "<ipython-input-452-1cd440387d10>:48: SettingWithCopyWarning: \n",
      "A value is trying to be set on a copy of a slice from a DataFrame.\n",
      "Try using .loc[row_indexer,col_indexer] = value instead\n",
      "\n",
      "See the caveats in the documentation: https://pandas.pydata.org/pandas-docs/stable/user_guide/indexing.html#returning-a-view-versus-a-copy\n",
      "  data_sub['t_minus1_low'] = data_sub['low'].shift(1)\n"
     ]
    },
    {
     "name": "stdout",
     "output_type": "stream",
     "text": [
      "[*********************100%***********************]  1 of 1 completed\n",
      "ABBV testing r2_score: 0.8739216530740445\n",
      "ABBV testing MSE score: 1.8197672593404173\n",
      "ABBV : tomorrow's price: [108.90851499]\n",
      "ABBV Success!\n",
      " \n",
      " \n",
      "Analyzing ABMD\n"
     ]
    },
    {
     "name": "stderr",
     "output_type": "stream",
     "text": [
      "<ipython-input-452-1cd440387d10>:47: SettingWithCopyWarning: \n",
      "A value is trying to be set on a copy of a slice from a DataFrame.\n",
      "Try using .loc[row_indexer,col_indexer] = value instead\n",
      "\n",
      "See the caveats in the documentation: https://pandas.pydata.org/pandas-docs/stable/user_guide/indexing.html#returning-a-view-versus-a-copy\n",
      "  data_sub['t_minus1_high'] = data_sub['high'].shift(1)\n",
      "<ipython-input-452-1cd440387d10>:48: SettingWithCopyWarning: \n",
      "A value is trying to be set on a copy of a slice from a DataFrame.\n",
      "Try using .loc[row_indexer,col_indexer] = value instead\n",
      "\n",
      "See the caveats in the documentation: https://pandas.pydata.org/pandas-docs/stable/user_guide/indexing.html#returning-a-view-versus-a-copy\n",
      "  data_sub['t_minus1_low'] = data_sub['low'].shift(1)\n"
     ]
    },
    {
     "name": "stdout",
     "output_type": "stream",
     "text": [
      "[*********************100%***********************]  1 of 1 completed\n",
      "ABMD testing r2_score: 0.9436679577734967\n",
      "ABMD testing MSE score: 40.7265158071369\n",
      "ABMD : tomorrow's price: [323.12641343]\n",
      "ABMD Success!\n",
      " \n",
      " \n",
      "Analyzing ACN\n"
     ]
    },
    {
     "name": "stderr",
     "output_type": "stream",
     "text": [
      "<ipython-input-452-1cd440387d10>:47: SettingWithCopyWarning: \n",
      "A value is trying to be set on a copy of a slice from a DataFrame.\n",
      "Try using .loc[row_indexer,col_indexer] = value instead\n",
      "\n",
      "See the caveats in the documentation: https://pandas.pydata.org/pandas-docs/stable/user_guide/indexing.html#returning-a-view-versus-a-copy\n",
      "  data_sub['t_minus1_high'] = data_sub['high'].shift(1)\n",
      "<ipython-input-452-1cd440387d10>:48: SettingWithCopyWarning: \n",
      "A value is trying to be set on a copy of a slice from a DataFrame.\n",
      "Try using .loc[row_indexer,col_indexer] = value instead\n",
      "\n",
      "See the caveats in the documentation: https://pandas.pydata.org/pandas-docs/stable/user_guide/indexing.html#returning-a-view-versus-a-copy\n",
      "  data_sub['t_minus1_low'] = data_sub['low'].shift(1)\n"
     ]
    },
    {
     "name": "stdout",
     "output_type": "stream",
     "text": [
      "[*********************100%***********************]  1 of 1 completed\n",
      "ACN testing r2_score: 0.9762965514806116\n",
      "ACN testing MSE score: 10.499958762895547\n",
      "ACN : tomorrow's price: [323.91082283]\n",
      "ACN Success!\n",
      " \n",
      " \n",
      "Analyzing ATVI\n"
     ]
    },
    {
     "name": "stderr",
     "output_type": "stream",
     "text": [
      "<ipython-input-452-1cd440387d10>:47: SettingWithCopyWarning: \n",
      "A value is trying to be set on a copy of a slice from a DataFrame.\n",
      "Try using .loc[row_indexer,col_indexer] = value instead\n",
      "\n",
      "See the caveats in the documentation: https://pandas.pydata.org/pandas-docs/stable/user_guide/indexing.html#returning-a-view-versus-a-copy\n",
      "  data_sub['t_minus1_high'] = data_sub['high'].shift(1)\n",
      "<ipython-input-452-1cd440387d10>:48: SettingWithCopyWarning: \n",
      "A value is trying to be set on a copy of a slice from a DataFrame.\n",
      "Try using .loc[row_indexer,col_indexer] = value instead\n",
      "\n",
      "See the caveats in the documentation: https://pandas.pydata.org/pandas-docs/stable/user_guide/indexing.html#returning-a-view-versus-a-copy\n",
      "  data_sub['t_minus1_low'] = data_sub['low'].shift(1)\n"
     ]
    },
    {
     "name": "stdout",
     "output_type": "stream",
     "text": [
      "[*********************100%***********************]  1 of 1 completed\n",
      "ATVI testing r2_score: 0.9621298156021053\n",
      "ATVI testing MSE score: 2.1540510335945946\n",
      "ATVI : tomorrow's price: [78.27955798]\n",
      "ATVI Success!\n",
      " \n",
      " \n",
      "Analyzing ADM\n"
     ]
    },
    {
     "name": "stderr",
     "output_type": "stream",
     "text": [
      "<ipython-input-452-1cd440387d10>:47: SettingWithCopyWarning: \n",
      "A value is trying to be set on a copy of a slice from a DataFrame.\n",
      "Try using .loc[row_indexer,col_indexer] = value instead\n",
      "\n",
      "See the caveats in the documentation: https://pandas.pydata.org/pandas-docs/stable/user_guide/indexing.html#returning-a-view-versus-a-copy\n",
      "  data_sub['t_minus1_high'] = data_sub['high'].shift(1)\n",
      "<ipython-input-452-1cd440387d10>:48: SettingWithCopyWarning: \n",
      "A value is trying to be set on a copy of a slice from a DataFrame.\n",
      "Try using .loc[row_indexer,col_indexer] = value instead\n",
      "\n",
      "See the caveats in the documentation: https://pandas.pydata.org/pandas-docs/stable/user_guide/indexing.html#returning-a-view-versus-a-copy\n",
      "  data_sub['t_minus1_low'] = data_sub['low'].shift(1)\n"
     ]
    },
    {
     "name": "stdout",
     "output_type": "stream",
     "text": [
      "[*********************100%***********************]  1 of 1 completed\n",
      "ADM testing r2_score: 0.9420640373817811\n",
      "ADM testing MSE score: 0.5745592900535792\n",
      "ADM : tomorrow's price: [60.68888162]\n",
      "ADM Success!\n",
      " \n",
      " \n",
      "Analyzing ADBE\n"
     ]
    },
    {
     "name": "stderr",
     "output_type": "stream",
     "text": [
      "<ipython-input-452-1cd440387d10>:47: SettingWithCopyWarning: \n",
      "A value is trying to be set on a copy of a slice from a DataFrame.\n",
      "Try using .loc[row_indexer,col_indexer] = value instead\n",
      "\n",
      "See the caveats in the documentation: https://pandas.pydata.org/pandas-docs/stable/user_guide/indexing.html#returning-a-view-versus-a-copy\n",
      "  data_sub['t_minus1_high'] = data_sub['high'].shift(1)\n",
      "<ipython-input-452-1cd440387d10>:48: SettingWithCopyWarning: \n",
      "A value is trying to be set on a copy of a slice from a DataFrame.\n",
      "Try using .loc[row_indexer,col_indexer] = value instead\n",
      "\n",
      "See the caveats in the documentation: https://pandas.pydata.org/pandas-docs/stable/user_guide/indexing.html#returning-a-view-versus-a-copy\n",
      "  data_sub['t_minus1_low'] = data_sub['low'].shift(1)\n"
     ]
    },
    {
     "name": "stdout",
     "output_type": "stream",
     "text": [
      "[*********************100%***********************]  1 of 1 completed\n",
      "ADBE testing r2_score: 0.9772590727368069\n",
      "ADBE testing MSE score: 80.9498330640248\n",
      "ADBE : tomorrow's price: [576.8461874]\n",
      "ADBE Success!\n",
      " \n",
      " \n",
      "Analyzing AAP\n"
     ]
    },
    {
     "name": "stderr",
     "output_type": "stream",
     "text": [
      "<ipython-input-452-1cd440387d10>:47: SettingWithCopyWarning: \n",
      "A value is trying to be set on a copy of a slice from a DataFrame.\n",
      "Try using .loc[row_indexer,col_indexer] = value instead\n",
      "\n",
      "See the caveats in the documentation: https://pandas.pydata.org/pandas-docs/stable/user_guide/indexing.html#returning-a-view-versus-a-copy\n",
      "  data_sub['t_minus1_high'] = data_sub['high'].shift(1)\n",
      "<ipython-input-452-1cd440387d10>:48: SettingWithCopyWarning: \n",
      "A value is trying to be set on a copy of a slice from a DataFrame.\n",
      "Try using .loc[row_indexer,col_indexer] = value instead\n",
      "\n",
      "See the caveats in the documentation: https://pandas.pydata.org/pandas-docs/stable/user_guide/indexing.html#returning-a-view-versus-a-copy\n",
      "  data_sub['t_minus1_low'] = data_sub['low'].shift(1)\n"
     ]
    },
    {
     "name": "stdout",
     "output_type": "stream",
     "text": [
      "[*********************100%***********************]  1 of 1 completed\n",
      "AAP testing r2_score: 0.8313753510608851\n",
      "AAP testing MSE score: 8.205950602952795\n",
      "AAP : tomorrow's price: [206.85530157]\n",
      "AAP Success!\n",
      " \n",
      " \n",
      "Analyzing AMD\n"
     ]
    },
    {
     "name": "stderr",
     "output_type": "stream",
     "text": [
      "<ipython-input-452-1cd440387d10>:47: SettingWithCopyWarning: \n",
      "A value is trying to be set on a copy of a slice from a DataFrame.\n",
      "Try using .loc[row_indexer,col_indexer] = value instead\n",
      "\n",
      "See the caveats in the documentation: https://pandas.pydata.org/pandas-docs/stable/user_guide/indexing.html#returning-a-view-versus-a-copy\n",
      "  data_sub['t_minus1_high'] = data_sub['high'].shift(1)\n",
      "<ipython-input-452-1cd440387d10>:48: SettingWithCopyWarning: \n",
      "A value is trying to be set on a copy of a slice from a DataFrame.\n",
      "Try using .loc[row_indexer,col_indexer] = value instead\n",
      "\n",
      "See the caveats in the documentation: https://pandas.pydata.org/pandas-docs/stable/user_guide/indexing.html#returning-a-view-versus-a-copy\n",
      "  data_sub['t_minus1_low'] = data_sub['low'].shift(1)\n"
     ]
    },
    {
     "name": "stdout",
     "output_type": "stream",
     "text": [
      "[*********************100%***********************]  1 of 1 completed\n",
      "AMD testing r2_score: 0.966992503269036\n",
      "AMD testing MSE score: 5.252825782233105\n",
      "AMD : tomorrow's price: [102.72308]\n",
      "AMD Success!\n",
      " \n",
      " \n",
      "Analyzing AES\n"
     ]
    },
    {
     "name": "stderr",
     "output_type": "stream",
     "text": [
      "<ipython-input-452-1cd440387d10>:47: SettingWithCopyWarning: \n",
      "A value is trying to be set on a copy of a slice from a DataFrame.\n",
      "Try using .loc[row_indexer,col_indexer] = value instead\n",
      "\n",
      "See the caveats in the documentation: https://pandas.pydata.org/pandas-docs/stable/user_guide/indexing.html#returning-a-view-versus-a-copy\n",
      "  data_sub['t_minus1_high'] = data_sub['high'].shift(1)\n",
      "<ipython-input-452-1cd440387d10>:48: SettingWithCopyWarning: \n",
      "A value is trying to be set on a copy of a slice from a DataFrame.\n",
      "Try using .loc[row_indexer,col_indexer] = value instead\n",
      "\n",
      "See the caveats in the documentation: https://pandas.pydata.org/pandas-docs/stable/user_guide/indexing.html#returning-a-view-versus-a-copy\n",
      "  data_sub['t_minus1_low'] = data_sub['low'].shift(1)\n"
     ]
    },
    {
     "name": "stdout",
     "output_type": "stream",
     "text": [
      "[*********************100%***********************]  1 of 1 completed\n",
      "AES testing r2_score: 0.8655111462042979\n",
      "AES testing MSE score: 0.14374383179686917\n",
      "AES : tomorrow's price: [22.86295214]\n",
      "AES Success!\n",
      " \n",
      " \n",
      "Analyzing AFL\n"
     ]
    },
    {
     "name": "stderr",
     "output_type": "stream",
     "text": [
      "<ipython-input-452-1cd440387d10>:47: SettingWithCopyWarning: \n",
      "A value is trying to be set on a copy of a slice from a DataFrame.\n",
      "Try using .loc[row_indexer,col_indexer] = value instead\n",
      "\n",
      "See the caveats in the documentation: https://pandas.pydata.org/pandas-docs/stable/user_guide/indexing.html#returning-a-view-versus-a-copy\n",
      "  data_sub['t_minus1_high'] = data_sub['high'].shift(1)\n",
      "<ipython-input-452-1cd440387d10>:48: SettingWithCopyWarning: \n",
      "A value is trying to be set on a copy of a slice from a DataFrame.\n",
      "Try using .loc[row_indexer,col_indexer] = value instead\n",
      "\n",
      "See the caveats in the documentation: https://pandas.pydata.org/pandas-docs/stable/user_guide/indexing.html#returning-a-view-versus-a-copy\n",
      "  data_sub['t_minus1_low'] = data_sub['low'].shift(1)\n"
     ]
    },
    {
     "name": "stdout",
     "output_type": "stream",
     "text": [
      "[*********************100%***********************]  1 of 1 completed\n",
      "AFL testing r2_score: 0.811698862881628\n",
      "AFL testing MSE score: 0.4760669674984365\n",
      "AFL : tomorrow's price: [52.6813904]\n",
      "AFL Success!\n",
      " \n",
      " \n",
      "Analyzing A\n"
     ]
    },
    {
     "name": "stderr",
     "output_type": "stream",
     "text": [
      "<ipython-input-452-1cd440387d10>:47: SettingWithCopyWarning: \n",
      "A value is trying to be set on a copy of a slice from a DataFrame.\n",
      "Try using .loc[row_indexer,col_indexer] = value instead\n",
      "\n",
      "See the caveats in the documentation: https://pandas.pydata.org/pandas-docs/stable/user_guide/indexing.html#returning-a-view-versus-a-copy\n",
      "  data_sub['t_minus1_high'] = data_sub['high'].shift(1)\n",
      "<ipython-input-452-1cd440387d10>:48: SettingWithCopyWarning: \n",
      "A value is trying to be set on a copy of a slice from a DataFrame.\n",
      "Try using .loc[row_indexer,col_indexer] = value instead\n",
      "\n",
      "See the caveats in the documentation: https://pandas.pydata.org/pandas-docs/stable/user_guide/indexing.html#returning-a-view-versus-a-copy\n",
      "  data_sub['t_minus1_low'] = data_sub['low'].shift(1)\n"
     ]
    },
    {
     "name": "stdout",
     "output_type": "stream",
     "text": [
      "[*********************100%***********************]  1 of 1 completed\n",
      "A testing r2_score: 0.9841947566479259\n",
      "A testing MSE score: 3.2410957185857097\n",
      "A : tomorrow's price: [155.34825779]\n",
      "A Success!\n",
      " \n",
      " \n",
      "Analyzing APD\n"
     ]
    },
    {
     "name": "stderr",
     "output_type": "stream",
     "text": [
      "<ipython-input-452-1cd440387d10>:47: SettingWithCopyWarning: \n",
      "A value is trying to be set on a copy of a slice from a DataFrame.\n",
      "Try using .loc[row_indexer,col_indexer] = value instead\n",
      "\n",
      "See the caveats in the documentation: https://pandas.pydata.org/pandas-docs/stable/user_guide/indexing.html#returning-a-view-versus-a-copy\n",
      "  data_sub['t_minus1_high'] = data_sub['high'].shift(1)\n",
      "<ipython-input-452-1cd440387d10>:48: SettingWithCopyWarning: \n",
      "A value is trying to be set on a copy of a slice from a DataFrame.\n",
      "Try using .loc[row_indexer,col_indexer] = value instead\n",
      "\n",
      "See the caveats in the documentation: https://pandas.pydata.org/pandas-docs/stable/user_guide/indexing.html#returning-a-view-versus-a-copy\n",
      "  data_sub['t_minus1_low'] = data_sub['low'].shift(1)\n"
     ]
    },
    {
     "name": "stdout",
     "output_type": "stream",
     "text": [
      "[*********************100%***********************]  1 of 1 completed\n",
      "APD testing r2_score: 0.9483237706453949\n",
      "APD testing MSE score: 10.35077849138605\n",
      "APD : tomorrow's price: [256.881928]\n",
      "APD Success!\n",
      " \n",
      " \n",
      "Analyzing AKAM\n"
     ]
    },
    {
     "name": "stderr",
     "output_type": "stream",
     "text": [
      "<ipython-input-452-1cd440387d10>:47: SettingWithCopyWarning: \n",
      "A value is trying to be set on a copy of a slice from a DataFrame.\n",
      "Try using .loc[row_indexer,col_indexer] = value instead\n",
      "\n",
      "See the caveats in the documentation: https://pandas.pydata.org/pandas-docs/stable/user_guide/indexing.html#returning-a-view-versus-a-copy\n",
      "  data_sub['t_minus1_high'] = data_sub['high'].shift(1)\n",
      "<ipython-input-452-1cd440387d10>:48: SettingWithCopyWarning: \n",
      "A value is trying to be set on a copy of a slice from a DataFrame.\n",
      "Try using .loc[row_indexer,col_indexer] = value instead\n",
      "\n",
      "See the caveats in the documentation: https://pandas.pydata.org/pandas-docs/stable/user_guide/indexing.html#returning-a-view-versus-a-copy\n",
      "  data_sub['t_minus1_low'] = data_sub['low'].shift(1)\n"
     ]
    },
    {
     "name": "stdout",
     "output_type": "stream",
     "text": [
      "[*********************100%***********************]  1 of 1 completed\n",
      "AKAM testing r2_score: 0.9050494615818099\n",
      "AKAM testing MSE score: 1.9595742852031863\n",
      "AKAM : tomorrow's price: [105.63169114]\n",
      "AKAM Success!\n",
      " \n",
      " \n",
      "Analyzing ALK\n"
     ]
    },
    {
     "name": "stderr",
     "output_type": "stream",
     "text": [
      "<ipython-input-452-1cd440387d10>:47: SettingWithCopyWarning: \n",
      "A value is trying to be set on a copy of a slice from a DataFrame.\n",
      "Try using .loc[row_indexer,col_indexer] = value instead\n",
      "\n",
      "See the caveats in the documentation: https://pandas.pydata.org/pandas-docs/stable/user_guide/indexing.html#returning-a-view-versus-a-copy\n",
      "  data_sub['t_minus1_high'] = data_sub['high'].shift(1)\n",
      "<ipython-input-452-1cd440387d10>:48: SettingWithCopyWarning: \n",
      "A value is trying to be set on a copy of a slice from a DataFrame.\n",
      "Try using .loc[row_indexer,col_indexer] = value instead\n",
      "\n",
      "See the caveats in the documentation: https://pandas.pydata.org/pandas-docs/stable/user_guide/indexing.html#returning-a-view-versus-a-copy\n",
      "  data_sub['t_minus1_low'] = data_sub['low'].shift(1)\n"
     ]
    },
    {
     "name": "stdout",
     "output_type": "stream",
     "text": [
      "[*********************100%***********************]  1 of 1 completed\n",
      "ALK testing r2_score: 0.9297864225349046\n",
      "ALK testing MSE score: 1.5350937850776512\n",
      "ALK : tomorrow's price: [61.9454932]\n",
      "ALK Success!\n",
      " \n",
      " \n",
      "Analyzing ALB\n"
     ]
    },
    {
     "name": "stderr",
     "output_type": "stream",
     "text": [
      "<ipython-input-452-1cd440387d10>:47: SettingWithCopyWarning: \n",
      "A value is trying to be set on a copy of a slice from a DataFrame.\n",
      "Try using .loc[row_indexer,col_indexer] = value instead\n",
      "\n",
      "See the caveats in the documentation: https://pandas.pydata.org/pandas-docs/stable/user_guide/indexing.html#returning-a-view-versus-a-copy\n",
      "  data_sub['t_minus1_high'] = data_sub['high'].shift(1)\n",
      "<ipython-input-452-1cd440387d10>:48: SettingWithCopyWarning: \n",
      "A value is trying to be set on a copy of a slice from a DataFrame.\n",
      "Try using .loc[row_indexer,col_indexer] = value instead\n",
      "\n",
      "See the caveats in the documentation: https://pandas.pydata.org/pandas-docs/stable/user_guide/indexing.html#returning-a-view-versus-a-copy\n",
      "  data_sub['t_minus1_low'] = data_sub['low'].shift(1)\n"
     ]
    },
    {
     "name": "stdout",
     "output_type": "stream",
     "text": [
      "[*********************100%***********************]  1 of 1 completed\n",
      "ALB testing r2_score: 0.9722587988753205\n",
      "ALB testing MSE score: 24.52135911972427\n",
      "ALB : tomorrow's price: [220.18583372]\n",
      "ALB Success!\n",
      " \n",
      " \n",
      "Analyzing ARE\n"
     ]
    },
    {
     "name": "stderr",
     "output_type": "stream",
     "text": [
      "<ipython-input-452-1cd440387d10>:47: SettingWithCopyWarning: \n",
      "A value is trying to be set on a copy of a slice from a DataFrame.\n",
      "Try using .loc[row_indexer,col_indexer] = value instead\n",
      "\n",
      "See the caveats in the documentation: https://pandas.pydata.org/pandas-docs/stable/user_guide/indexing.html#returning-a-view-versus-a-copy\n",
      "  data_sub['t_minus1_high'] = data_sub['high'].shift(1)\n",
      "<ipython-input-452-1cd440387d10>:48: SettingWithCopyWarning: \n",
      "A value is trying to be set on a copy of a slice from a DataFrame.\n",
      "Try using .loc[row_indexer,col_indexer] = value instead\n",
      "\n",
      "See the caveats in the documentation: https://pandas.pydata.org/pandas-docs/stable/user_guide/indexing.html#returning-a-view-versus-a-copy\n",
      "  data_sub['t_minus1_low'] = data_sub['low'].shift(1)\n"
     ]
    },
    {
     "name": "stdout",
     "output_type": "stream",
     "text": [
      "[*********************100%***********************]  1 of 1 completed\n",
      "ARE testing r2_score: 0.9550376914600208\n",
      "ARE testing MSE score: 5.020809339618559\n",
      "ARE : tomorrow's price: [192.72602912]\n",
      "ARE Success!\n",
      " \n",
      " \n",
      "Analyzing ALGN\n"
     ]
    },
    {
     "name": "stderr",
     "output_type": "stream",
     "text": [
      "<ipython-input-452-1cd440387d10>:47: SettingWithCopyWarning: \n",
      "A value is trying to be set on a copy of a slice from a DataFrame.\n",
      "Try using .loc[row_indexer,col_indexer] = value instead\n",
      "\n",
      "See the caveats in the documentation: https://pandas.pydata.org/pandas-docs/stable/user_guide/indexing.html#returning-a-view-versus-a-copy\n",
      "  data_sub['t_minus1_high'] = data_sub['high'].shift(1)\n",
      "<ipython-input-452-1cd440387d10>:48: SettingWithCopyWarning: \n",
      "A value is trying to be set on a copy of a slice from a DataFrame.\n",
      "Try using .loc[row_indexer,col_indexer] = value instead\n",
      "\n",
      "See the caveats in the documentation: https://pandas.pydata.org/pandas-docs/stable/user_guide/indexing.html#returning-a-view-versus-a-copy\n",
      "  data_sub['t_minus1_low'] = data_sub['low'].shift(1)\n"
     ]
    },
    {
     "name": "stdout",
     "output_type": "stream",
     "text": [
      "[*********************100%***********************]  1 of 1 completed\n",
      "ALGN testing r2_score: 0.9404798388726527\n",
      "ALGN testing MSE score: 162.63583673660133\n",
      "ALGN : tomorrow's price: [665.02330412]\n",
      "ALGN Success!\n",
      " \n",
      " \n",
      "Analyzing ALLE\n"
     ]
    },
    {
     "name": "stderr",
     "output_type": "stream",
     "text": [
      "<ipython-input-452-1cd440387d10>:47: SettingWithCopyWarning: \n",
      "A value is trying to be set on a copy of a slice from a DataFrame.\n",
      "Try using .loc[row_indexer,col_indexer] = value instead\n",
      "\n",
      "See the caveats in the documentation: https://pandas.pydata.org/pandas-docs/stable/user_guide/indexing.html#returning-a-view-versus-a-copy\n",
      "  data_sub['t_minus1_high'] = data_sub['high'].shift(1)\n",
      "<ipython-input-452-1cd440387d10>:48: SettingWithCopyWarning: \n",
      "A value is trying to be set on a copy of a slice from a DataFrame.\n",
      "Try using .loc[row_indexer,col_indexer] = value instead\n",
      "\n",
      "See the caveats in the documentation: https://pandas.pydata.org/pandas-docs/stable/user_guide/indexing.html#returning-a-view-versus-a-copy\n",
      "  data_sub['t_minus1_low'] = data_sub['low'].shift(1)\n"
     ]
    },
    {
     "name": "stdout",
     "output_type": "stream",
     "text": [
      "[*********************100%***********************]  1 of 1 completed\n",
      "ALLE testing r2_score: 0.7074331381416571\n",
      "ALLE testing MSE score: 3.522080943986928\n",
      "ALLE : tomorrow's price: [132.12336894]\n",
      "ALLE Success!\n",
      " \n",
      " \n",
      "Analyzing LNT\n"
     ]
    },
    {
     "name": "stderr",
     "output_type": "stream",
     "text": [
      "<ipython-input-452-1cd440387d10>:47: SettingWithCopyWarning: \n",
      "A value is trying to be set on a copy of a slice from a DataFrame.\n",
      "Try using .loc[row_indexer,col_indexer] = value instead\n",
      "\n",
      "See the caveats in the documentation: https://pandas.pydata.org/pandas-docs/stable/user_guide/indexing.html#returning-a-view-versus-a-copy\n",
      "  data_sub['t_minus1_high'] = data_sub['high'].shift(1)\n",
      "<ipython-input-452-1cd440387d10>:48: SettingWithCopyWarning: \n",
      "A value is trying to be set on a copy of a slice from a DataFrame.\n",
      "Try using .loc[row_indexer,col_indexer] = value instead\n",
      "\n",
      "See the caveats in the documentation: https://pandas.pydata.org/pandas-docs/stable/user_guide/indexing.html#returning-a-view-versus-a-copy\n",
      "  data_sub['t_minus1_low'] = data_sub['low'].shift(1)\n"
     ]
    },
    {
     "name": "stdout",
     "output_type": "stream",
     "text": [
      "[*********************100%***********************]  1 of 1 completed\n",
      "LNT testing r2_score: 0.8620764775424646\n",
      "LNT testing MSE score: 0.46548723099593453\n",
      "LNT : tomorrow's price: [55.62829846]\n",
      "LNT Success!\n",
      " \n",
      " \n",
      "Analyzing ALL\n"
     ]
    },
    {
     "name": "stderr",
     "output_type": "stream",
     "text": [
      "<ipython-input-452-1cd440387d10>:47: SettingWithCopyWarning: \n",
      "A value is trying to be set on a copy of a slice from a DataFrame.\n",
      "Try using .loc[row_indexer,col_indexer] = value instead\n",
      "\n",
      "See the caveats in the documentation: https://pandas.pydata.org/pandas-docs/stable/user_guide/indexing.html#returning-a-view-versus-a-copy\n",
      "  data_sub['t_minus1_high'] = data_sub['high'].shift(1)\n",
      "<ipython-input-452-1cd440387d10>:48: SettingWithCopyWarning: \n",
      "A value is trying to be set on a copy of a slice from a DataFrame.\n",
      "Try using .loc[row_indexer,col_indexer] = value instead\n",
      "\n",
      "See the caveats in the documentation: https://pandas.pydata.org/pandas-docs/stable/user_guide/indexing.html#returning-a-view-versus-a-copy\n",
      "  data_sub['t_minus1_low'] = data_sub['low'].shift(1)\n"
     ]
    },
    {
     "name": "stdout",
     "output_type": "stream",
     "text": [
      "[*********************100%***********************]  1 of 1 completed\n",
      "ALL testing r2_score: 0.7389304477295688\n",
      "ALL testing MSE score: 3.086983173281826\n",
      "ALL : tomorrow's price: [127.37490771]\n",
      "ALL Success!\n",
      " \n",
      " \n",
      "Analyzing GOOGL\n"
     ]
    },
    {
     "name": "stderr",
     "output_type": "stream",
     "text": [
      "<ipython-input-452-1cd440387d10>:47: SettingWithCopyWarning: \n",
      "A value is trying to be set on a copy of a slice from a DataFrame.\n",
      "Try using .loc[row_indexer,col_indexer] = value instead\n",
      "\n",
      "See the caveats in the documentation: https://pandas.pydata.org/pandas-docs/stable/user_guide/indexing.html#returning-a-view-versus-a-copy\n",
      "  data_sub['t_minus1_high'] = data_sub['high'].shift(1)\n",
      "<ipython-input-452-1cd440387d10>:48: SettingWithCopyWarning: \n",
      "A value is trying to be set on a copy of a slice from a DataFrame.\n",
      "Try using .loc[row_indexer,col_indexer] = value instead\n",
      "\n",
      "See the caveats in the documentation: https://pandas.pydata.org/pandas-docs/stable/user_guide/indexing.html#returning-a-view-versus-a-copy\n",
      "  data_sub['t_minus1_low'] = data_sub['low'].shift(1)\n"
     ]
    },
    {
     "name": "stdout",
     "output_type": "stream",
     "text": [
      "[*********************100%***********************]  1 of 1 completed\n",
      "GOOGL testing r2_score: 0.9732666895473645\n",
      "GOOGL testing MSE score: 1087.5538243026713\n",
      "GOOGL : tomorrow's price: [2731.99236165]\n",
      "GOOGL Success!\n",
      " \n",
      " \n",
      "Analyzing GOOG\n"
     ]
    },
    {
     "name": "stderr",
     "output_type": "stream",
     "text": [
      "<ipython-input-452-1cd440387d10>:47: SettingWithCopyWarning: \n",
      "A value is trying to be set on a copy of a slice from a DataFrame.\n",
      "Try using .loc[row_indexer,col_indexer] = value instead\n",
      "\n",
      "See the caveats in the documentation: https://pandas.pydata.org/pandas-docs/stable/user_guide/indexing.html#returning-a-view-versus-a-copy\n",
      "  data_sub['t_minus1_high'] = data_sub['high'].shift(1)\n",
      "<ipython-input-452-1cd440387d10>:48: SettingWithCopyWarning: \n",
      "A value is trying to be set on a copy of a slice from a DataFrame.\n",
      "Try using .loc[row_indexer,col_indexer] = value instead\n",
      "\n",
      "See the caveats in the documentation: https://pandas.pydata.org/pandas-docs/stable/user_guide/indexing.html#returning-a-view-versus-a-copy\n",
      "  data_sub['t_minus1_low'] = data_sub['low'].shift(1)\n"
     ]
    },
    {
     "name": "stdout",
     "output_type": "stream",
     "text": [
      "[*********************100%***********************]  1 of 1 completed\n",
      "GOOG testing r2_score: 0.969236944956208\n",
      "GOOG testing MSE score: 1038.706394428807\n",
      "GOOG : tomorrow's price: [2729.47172939]\n",
      "GOOG Success!\n",
      " \n",
      " \n",
      "Analyzing MO\n"
     ]
    },
    {
     "name": "stderr",
     "output_type": "stream",
     "text": [
      "<ipython-input-452-1cd440387d10>:47: SettingWithCopyWarning: \n",
      "A value is trying to be set on a copy of a slice from a DataFrame.\n",
      "Try using .loc[row_indexer,col_indexer] = value instead\n",
      "\n",
      "See the caveats in the documentation: https://pandas.pydata.org/pandas-docs/stable/user_guide/indexing.html#returning-a-view-versus-a-copy\n",
      "  data_sub['t_minus1_high'] = data_sub['high'].shift(1)\n",
      "<ipython-input-452-1cd440387d10>:48: SettingWithCopyWarning: \n",
      "A value is trying to be set on a copy of a slice from a DataFrame.\n",
      "Try using .loc[row_indexer,col_indexer] = value instead\n",
      "\n",
      "See the caveats in the documentation: https://pandas.pydata.org/pandas-docs/stable/user_guide/indexing.html#returning-a-view-versus-a-copy\n",
      "  data_sub['t_minus1_low'] = data_sub['low'].shift(1)\n"
     ]
    },
    {
     "name": "stdout",
     "output_type": "stream",
     "text": [
      "[*********************100%***********************]  1 of 1 completed\n",
      "MO testing r2_score: 0.7925087193533743\n",
      "MO testing MSE score: 0.35649262054044073\n",
      "MO : tomorrow's price: [45.85999049]\n",
      "MO Success!\n",
      " \n",
      " \n",
      "Analyzing AMZN\n"
     ]
    },
    {
     "name": "stderr",
     "output_type": "stream",
     "text": [
      "<ipython-input-452-1cd440387d10>:47: SettingWithCopyWarning: \n",
      "A value is trying to be set on a copy of a slice from a DataFrame.\n",
      "Try using .loc[row_indexer,col_indexer] = value instead\n",
      "\n",
      "See the caveats in the documentation: https://pandas.pydata.org/pandas-docs/stable/user_guide/indexing.html#returning-a-view-versus-a-copy\n",
      "  data_sub['t_minus1_high'] = data_sub['high'].shift(1)\n",
      "<ipython-input-452-1cd440387d10>:48: SettingWithCopyWarning: \n",
      "A value is trying to be set on a copy of a slice from a DataFrame.\n",
      "Try using .loc[row_indexer,col_indexer] = value instead\n",
      "\n",
      "See the caveats in the documentation: https://pandas.pydata.org/pandas-docs/stable/user_guide/indexing.html#returning-a-view-versus-a-copy\n",
      "  data_sub['t_minus1_low'] = data_sub['low'].shift(1)\n"
     ]
    },
    {
     "name": "stdout",
     "output_type": "stream",
     "text": [
      "[*********************100%***********************]  1 of 1 completed\n",
      "AMZN testing r2_score: 0.879954588628922\n",
      "AMZN testing MSE score: 2585.3151429427066\n",
      "AMZN : tomorrow's price: [3284.97932511]\n",
      "AMZN Success!\n",
      " \n",
      " \n",
      "Analyzing AMCR\n"
     ]
    },
    {
     "name": "stderr",
     "output_type": "stream",
     "text": [
      "<ipython-input-452-1cd440387d10>:47: SettingWithCopyWarning: \n",
      "A value is trying to be set on a copy of a slice from a DataFrame.\n",
      "Try using .loc[row_indexer,col_indexer] = value instead\n",
      "\n",
      "See the caveats in the documentation: https://pandas.pydata.org/pandas-docs/stable/user_guide/indexing.html#returning-a-view-versus-a-copy\n",
      "  data_sub['t_minus1_high'] = data_sub['high'].shift(1)\n",
      "<ipython-input-452-1cd440387d10>:48: SettingWithCopyWarning: \n",
      "A value is trying to be set on a copy of a slice from a DataFrame.\n",
      "Try using .loc[row_indexer,col_indexer] = value instead\n",
      "\n",
      "See the caveats in the documentation: https://pandas.pydata.org/pandas-docs/stable/user_guide/indexing.html#returning-a-view-versus-a-copy\n",
      "  data_sub['t_minus1_low'] = data_sub['low'].shift(1)\n"
     ]
    },
    {
     "name": "stdout",
     "output_type": "stream",
     "text": [
      "[*********************100%***********************]  1 of 1 completed\n",
      "AMCR testing r2_score: 0.8682164828146348\n",
      "AMCR testing MSE score: 0.021247381335285025\n",
      "AMCR : tomorrow's price: [11.67661951]\n",
      "AMCR Success!\n",
      " \n",
      " \n",
      "Analyzing AEE\n"
     ]
    },
    {
     "name": "stderr",
     "output_type": "stream",
     "text": [
      "<ipython-input-452-1cd440387d10>:47: SettingWithCopyWarning: \n",
      "A value is trying to be set on a copy of a slice from a DataFrame.\n",
      "Try using .loc[row_indexer,col_indexer] = value instead\n",
      "\n",
      "See the caveats in the documentation: https://pandas.pydata.org/pandas-docs/stable/user_guide/indexing.html#returning-a-view-versus-a-copy\n",
      "  data_sub['t_minus1_high'] = data_sub['high'].shift(1)\n",
      "<ipython-input-452-1cd440387d10>:48: SettingWithCopyWarning: \n",
      "A value is trying to be set on a copy of a slice from a DataFrame.\n",
      "Try using .loc[row_indexer,col_indexer] = value instead\n",
      "\n",
      "See the caveats in the documentation: https://pandas.pydata.org/pandas-docs/stable/user_guide/indexing.html#returning-a-view-versus-a-copy\n",
      "  data_sub['t_minus1_low'] = data_sub['low'].shift(1)\n"
     ]
    },
    {
     "name": "stdout",
     "output_type": "stream",
     "text": [
      "[*********************100%***********************]  1 of 1 completed\n",
      "AEE testing r2_score: 0.857515116071419\n",
      "AEE testing MSE score: 0.8039550911720779\n",
      "AEE : tomorrow's price: [80.45053848]\n",
      "AEE Success!\n",
      " \n",
      " \n",
      "Analyzing AAL\n"
     ]
    },
    {
     "name": "stderr",
     "output_type": "stream",
     "text": [
      "<ipython-input-452-1cd440387d10>:47: SettingWithCopyWarning: \n",
      "A value is trying to be set on a copy of a slice from a DataFrame.\n",
      "Try using .loc[row_indexer,col_indexer] = value instead\n",
      "\n",
      "See the caveats in the documentation: https://pandas.pydata.org/pandas-docs/stable/user_guide/indexing.html#returning-a-view-versus-a-copy\n",
      "  data_sub['t_minus1_high'] = data_sub['high'].shift(1)\n",
      "<ipython-input-452-1cd440387d10>:48: SettingWithCopyWarning: \n",
      "A value is trying to be set on a copy of a slice from a DataFrame.\n",
      "Try using .loc[row_indexer,col_indexer] = value instead\n",
      "\n",
      "See the caveats in the documentation: https://pandas.pydata.org/pandas-docs/stable/user_guide/indexing.html#returning-a-view-versus-a-copy\n",
      "  data_sub['t_minus1_low'] = data_sub['low'].shift(1)\n"
     ]
    },
    {
     "name": "stdout",
     "output_type": "stream",
     "text": [
      "[*********************100%***********************]  1 of 1 completed\n",
      "AAL testing r2_score: 0.8776204101841358\n",
      "AAL testing MSE score: 0.2847350441372778\n",
      "AAL : tomorrow's price: [21.84708873]\n",
      "AAL Success!\n",
      " \n",
      " \n",
      "Analyzing AEP\n"
     ]
    },
    {
     "name": "stderr",
     "output_type": "stream",
     "text": [
      "<ipython-input-452-1cd440387d10>:47: SettingWithCopyWarning: \n",
      "A value is trying to be set on a copy of a slice from a DataFrame.\n",
      "Try using .loc[row_indexer,col_indexer] = value instead\n",
      "\n",
      "See the caveats in the documentation: https://pandas.pydata.org/pandas-docs/stable/user_guide/indexing.html#returning-a-view-versus-a-copy\n",
      "  data_sub['t_minus1_high'] = data_sub['high'].shift(1)\n",
      "<ipython-input-452-1cd440387d10>:48: SettingWithCopyWarning: \n",
      "A value is trying to be set on a copy of a slice from a DataFrame.\n",
      "Try using .loc[row_indexer,col_indexer] = value instead\n",
      "\n",
      "See the caveats in the documentation: https://pandas.pydata.org/pandas-docs/stable/user_guide/indexing.html#returning-a-view-versus-a-copy\n",
      "  data_sub['t_minus1_low'] = data_sub['low'].shift(1)\n"
     ]
    },
    {
     "name": "stdout",
     "output_type": "stream",
     "text": [
      "[*********************100%***********************]  1 of 1 completed\n",
      "AEP testing r2_score: 0.8806608351694517\n",
      "AEP testing MSE score: 0.8031591078301272\n",
      "AEP : tomorrow's price: [81.30965449]\n",
      "AEP Success!\n",
      " \n",
      " \n",
      "Analyzing AXP\n"
     ]
    },
    {
     "name": "stderr",
     "output_type": "stream",
     "text": [
      "<ipython-input-452-1cd440387d10>:47: SettingWithCopyWarning: \n",
      "A value is trying to be set on a copy of a slice from a DataFrame.\n",
      "Try using .loc[row_indexer,col_indexer] = value instead\n",
      "\n",
      "See the caveats in the documentation: https://pandas.pydata.org/pandas-docs/stable/user_guide/indexing.html#returning-a-view-versus-a-copy\n",
      "  data_sub['t_minus1_high'] = data_sub['high'].shift(1)\n",
      "<ipython-input-452-1cd440387d10>:48: SettingWithCopyWarning: \n",
      "A value is trying to be set on a copy of a slice from a DataFrame.\n",
      "Try using .loc[row_indexer,col_indexer] = value instead\n",
      "\n",
      "See the caveats in the documentation: https://pandas.pydata.org/pandas-docs/stable/user_guide/indexing.html#returning-a-view-versus-a-copy\n",
      "  data_sub['t_minus1_low'] = data_sub['low'].shift(1)\n"
     ]
    },
    {
     "name": "stdout",
     "output_type": "stream",
     "text": [
      "[*********************100%***********************]  1 of 1 completed\n",
      "AXP testing r2_score: 0.8113420051625111\n",
      "AXP testing MSE score: 7.0297125680654515\n",
      "AXP : tomorrow's price: [172.30960574]\n",
      "AXP Success!\n",
      " \n",
      " \n",
      "Analyzing AIG\n"
     ]
    },
    {
     "name": "stderr",
     "output_type": "stream",
     "text": [
      "<ipython-input-452-1cd440387d10>:47: SettingWithCopyWarning: \n",
      "A value is trying to be set on a copy of a slice from a DataFrame.\n",
      "Try using .loc[row_indexer,col_indexer] = value instead\n",
      "\n",
      "See the caveats in the documentation: https://pandas.pydata.org/pandas-docs/stable/user_guide/indexing.html#returning-a-view-versus-a-copy\n",
      "  data_sub['t_minus1_high'] = data_sub['high'].shift(1)\n",
      "<ipython-input-452-1cd440387d10>:48: SettingWithCopyWarning: \n",
      "A value is trying to be set on a copy of a slice from a DataFrame.\n",
      "Try using .loc[row_indexer,col_indexer] = value instead\n",
      "\n",
      "See the caveats in the documentation: https://pandas.pydata.org/pandas-docs/stable/user_guide/indexing.html#returning-a-view-versus-a-copy\n",
      "  data_sub['t_minus1_low'] = data_sub['low'].shift(1)\n"
     ]
    },
    {
     "name": "stdout",
     "output_type": "stream",
     "text": [
      "[*********************100%***********************]  1 of 1 completed\n",
      "AIG testing r2_score: 0.9234481929922727\n",
      "AIG testing MSE score: 0.8674089789288851\n",
      "AIG : tomorrow's price: [55.45037333]\n",
      "AIG Success!\n",
      " \n",
      " \n",
      "Analyzing AMT\n"
     ]
    },
    {
     "name": "stderr",
     "output_type": "stream",
     "text": [
      "<ipython-input-452-1cd440387d10>:47: SettingWithCopyWarning: \n",
      "A value is trying to be set on a copy of a slice from a DataFrame.\n",
      "Try using .loc[row_indexer,col_indexer] = value instead\n",
      "\n",
      "See the caveats in the documentation: https://pandas.pydata.org/pandas-docs/stable/user_guide/indexing.html#returning-a-view-versus-a-copy\n",
      "  data_sub['t_minus1_high'] = data_sub['high'].shift(1)\n",
      "<ipython-input-452-1cd440387d10>:48: SettingWithCopyWarning: \n",
      "A value is trying to be set on a copy of a slice from a DataFrame.\n",
      "Try using .loc[row_indexer,col_indexer] = value instead\n",
      "\n",
      "See the caveats in the documentation: https://pandas.pydata.org/pandas-docs/stable/user_guide/indexing.html#returning-a-view-versus-a-copy\n",
      "  data_sub['t_minus1_low'] = data_sub['low'].shift(1)\n"
     ]
    },
    {
     "name": "stdout",
     "output_type": "stream",
     "text": [
      "[*********************100%***********************]  1 of 1 completed\n",
      "AMT testing r2_score: 0.9646401960985447\n",
      "AMT testing MSE score: 8.396430835490824\n",
      "AMT : tomorrow's price: [265.41500144]\n",
      "AMT Success!\n",
      " \n",
      " \n",
      "Analyzing AWK\n"
     ]
    },
    {
     "name": "stderr",
     "output_type": "stream",
     "text": [
      "<ipython-input-452-1cd440387d10>:47: SettingWithCopyWarning: \n",
      "A value is trying to be set on a copy of a slice from a DataFrame.\n",
      "Try using .loc[row_indexer,col_indexer] = value instead\n",
      "\n",
      "See the caveats in the documentation: https://pandas.pydata.org/pandas-docs/stable/user_guide/indexing.html#returning-a-view-versus-a-copy\n",
      "  data_sub['t_minus1_high'] = data_sub['high'].shift(1)\n",
      "<ipython-input-452-1cd440387d10>:48: SettingWithCopyWarning: \n",
      "A value is trying to be set on a copy of a slice from a DataFrame.\n",
      "Try using .loc[row_indexer,col_indexer] = value instead\n",
      "\n",
      "See the caveats in the documentation: https://pandas.pydata.org/pandas-docs/stable/user_guide/indexing.html#returning-a-view-versus-a-copy\n",
      "  data_sub['t_minus1_low'] = data_sub['low'].shift(1)\n"
     ]
    },
    {
     "name": "stdout",
     "output_type": "stream",
     "text": [
      "[*********************100%***********************]  1 of 1 completed\n",
      "AWK testing r2_score: 0.9638138785062096\n",
      "AWK testing MSE score: 4.451467425646987\n",
      "AWK : tomorrow's price: [168.34287092]\n",
      "AWK Success!\n",
      " \n",
      " \n",
      "Analyzing AMP\n"
     ]
    },
    {
     "name": "stderr",
     "output_type": "stream",
     "text": [
      "<ipython-input-452-1cd440387d10>:47: SettingWithCopyWarning: \n",
      "A value is trying to be set on a copy of a slice from a DataFrame.\n",
      "Try using .loc[row_indexer,col_indexer] = value instead\n",
      "\n",
      "See the caveats in the documentation: https://pandas.pydata.org/pandas-docs/stable/user_guide/indexing.html#returning-a-view-versus-a-copy\n",
      "  data_sub['t_minus1_high'] = data_sub['high'].shift(1)\n",
      "<ipython-input-452-1cd440387d10>:48: SettingWithCopyWarning: \n",
      "A value is trying to be set on a copy of a slice from a DataFrame.\n",
      "Try using .loc[row_indexer,col_indexer] = value instead\n",
      "\n",
      "See the caveats in the documentation: https://pandas.pydata.org/pandas-docs/stable/user_guide/indexing.html#returning-a-view-versus-a-copy\n",
      "  data_sub['t_minus1_low'] = data_sub['low'].shift(1)\n"
     ]
    },
    {
     "name": "stdout",
     "output_type": "stream",
     "text": [
      "[*********************100%***********************]  1 of 1 completed\n",
      "AMP testing r2_score: 0.8368788437118908\n",
      "AMP testing MSE score: 17.514419424951253\n",
      "AMP : tomorrow's price: [267.81157083]\n",
      "AMP Success!\n",
      " \n",
      " \n",
      "Analyzing ABC\n"
     ]
    },
    {
     "name": "stderr",
     "output_type": "stream",
     "text": [
      "<ipython-input-452-1cd440387d10>:47: SettingWithCopyWarning: \n",
      "A value is trying to be set on a copy of a slice from a DataFrame.\n",
      "Try using .loc[row_indexer,col_indexer] = value instead\n",
      "\n",
      "See the caveats in the documentation: https://pandas.pydata.org/pandas-docs/stable/user_guide/indexing.html#returning-a-view-versus-a-copy\n",
      "  data_sub['t_minus1_high'] = data_sub['high'].shift(1)\n",
      "<ipython-input-452-1cd440387d10>:48: SettingWithCopyWarning: \n",
      "A value is trying to be set on a copy of a slice from a DataFrame.\n",
      "Try using .loc[row_indexer,col_indexer] = value instead\n",
      "\n",
      "See the caveats in the documentation: https://pandas.pydata.org/pandas-docs/stable/user_guide/indexing.html#returning-a-view-versus-a-copy\n",
      "  data_sub['t_minus1_low'] = data_sub['low'].shift(1)\n"
     ]
    },
    {
     "name": "stdout",
     "output_type": "stream",
     "text": [
      "[*********************100%***********************]  1 of 1 completed\n",
      "ABC testing r2_score: 0.7307282271515387\n",
      "ABC testing MSE score: 2.7057643871649577\n",
      "ABC : tomorrow's price: [119.67489799]\n",
      "ABC Success!\n",
      " \n",
      " \n",
      "Analyzing AME\n"
     ]
    },
    {
     "name": "stderr",
     "output_type": "stream",
     "text": [
      "<ipython-input-452-1cd440387d10>:47: SettingWithCopyWarning: \n",
      "A value is trying to be set on a copy of a slice from a DataFrame.\n",
      "Try using .loc[row_indexer,col_indexer] = value instead\n",
      "\n",
      "See the caveats in the documentation: https://pandas.pydata.org/pandas-docs/stable/user_guide/indexing.html#returning-a-view-versus-a-copy\n",
      "  data_sub['t_minus1_high'] = data_sub['high'].shift(1)\n",
      "<ipython-input-452-1cd440387d10>:48: SettingWithCopyWarning: \n",
      "A value is trying to be set on a copy of a slice from a DataFrame.\n",
      "Try using .loc[row_indexer,col_indexer] = value instead\n",
      "\n",
      "See the caveats in the documentation: https://pandas.pydata.org/pandas-docs/stable/user_guide/indexing.html#returning-a-view-versus-a-copy\n",
      "  data_sub['t_minus1_low'] = data_sub['low'].shift(1)\n"
     ]
    },
    {
     "name": "stdout",
     "output_type": "stream",
     "text": [
      "[*********************100%***********************]  1 of 1 completed\n",
      "AME testing r2_score: 0.8514007545995531\n",
      "AME testing MSE score: 2.159071130389526\n",
      "AME : tomorrow's price: [124.68334702]\n",
      "AME Success!\n",
      " \n",
      " \n",
      "Analyzing AMGN\n"
     ]
    },
    {
     "name": "stderr",
     "output_type": "stream",
     "text": [
      "<ipython-input-452-1cd440387d10>:47: SettingWithCopyWarning: \n",
      "A value is trying to be set on a copy of a slice from a DataFrame.\n",
      "Try using .loc[row_indexer,col_indexer] = value instead\n",
      "\n",
      "See the caveats in the documentation: https://pandas.pydata.org/pandas-docs/stable/user_guide/indexing.html#returning-a-view-versus-a-copy\n",
      "  data_sub['t_minus1_high'] = data_sub['high'].shift(1)\n",
      "<ipython-input-452-1cd440387d10>:48: SettingWithCopyWarning: \n",
      "A value is trying to be set on a copy of a slice from a DataFrame.\n",
      "Try using .loc[row_indexer,col_indexer] = value instead\n",
      "\n",
      "See the caveats in the documentation: https://pandas.pydata.org/pandas-docs/stable/user_guide/indexing.html#returning-a-view-versus-a-copy\n",
      "  data_sub['t_minus1_low'] = data_sub['low'].shift(1)\n"
     ]
    },
    {
     "name": "stdout",
     "output_type": "stream",
     "text": [
      "[*********************100%***********************]  1 of 1 completed\n",
      "AMGN testing r2_score: 0.9607008840092341\n",
      "AMGN testing MSE score: 7.497358448801342\n",
      "AMGN : tomorrow's price: [213.53283746]\n",
      "AMGN Success!\n",
      " \n",
      " \n",
      "Analyzing APH\n"
     ]
    },
    {
     "name": "stderr",
     "output_type": "stream",
     "text": [
      "<ipython-input-452-1cd440387d10>:47: SettingWithCopyWarning: \n",
      "A value is trying to be set on a copy of a slice from a DataFrame.\n",
      "Try using .loc[row_indexer,col_indexer] = value instead\n",
      "\n",
      "See the caveats in the documentation: https://pandas.pydata.org/pandas-docs/stable/user_guide/indexing.html#returning-a-view-versus-a-copy\n",
      "  data_sub['t_minus1_high'] = data_sub['high'].shift(1)\n",
      "<ipython-input-452-1cd440387d10>:48: SettingWithCopyWarning: \n",
      "A value is trying to be set on a copy of a slice from a DataFrame.\n",
      "Try using .loc[row_indexer,col_indexer] = value instead\n",
      "\n",
      "See the caveats in the documentation: https://pandas.pydata.org/pandas-docs/stable/user_guide/indexing.html#returning-a-view-versus-a-copy\n",
      "  data_sub['t_minus1_low'] = data_sub['low'].shift(1)\n"
     ]
    },
    {
     "name": "stdout",
     "output_type": "stream",
     "text": [
      "[*********************100%***********************]  1 of 1 completed\n",
      "APH testing r2_score: 0.9565352578136551\n",
      "APH testing MSE score: 0.608368357362744\n",
      "APH : tomorrow's price: [74.48402575]\n",
      "APH Success!\n",
      " \n",
      " \n",
      "Analyzing ADI\n"
     ]
    },
    {
     "name": "stderr",
     "output_type": "stream",
     "text": [
      "<ipython-input-452-1cd440387d10>:47: SettingWithCopyWarning: \n",
      "A value is trying to be set on a copy of a slice from a DataFrame.\n",
      "Try using .loc[row_indexer,col_indexer] = value instead\n",
      "\n",
      "See the caveats in the documentation: https://pandas.pydata.org/pandas-docs/stable/user_guide/indexing.html#returning-a-view-versus-a-copy\n",
      "  data_sub['t_minus1_high'] = data_sub['high'].shift(1)\n",
      "<ipython-input-452-1cd440387d10>:48: SettingWithCopyWarning: \n",
      "A value is trying to be set on a copy of a slice from a DataFrame.\n",
      "Try using .loc[row_indexer,col_indexer] = value instead\n",
      "\n",
      "See the caveats in the documentation: https://pandas.pydata.org/pandas-docs/stable/user_guide/indexing.html#returning-a-view-versus-a-copy\n",
      "  data_sub['t_minus1_low'] = data_sub['low'].shift(1)\n"
     ]
    },
    {
     "name": "stdout",
     "output_type": "stream",
     "text": [
      "[*********************100%***********************]  1 of 1 completed\n",
      "ADI testing r2_score: 0.8340926615685054\n",
      "ADI testing MSE score: 6.8467878820202195\n",
      "ADI : tomorrow's price: [167.12779497]\n",
      "ADI Success!\n",
      " \n",
      " \n",
      "Analyzing ANSS\n"
     ]
    },
    {
     "name": "stderr",
     "output_type": "stream",
     "text": [
      "<ipython-input-452-1cd440387d10>:47: SettingWithCopyWarning: \n",
      "A value is trying to be set on a copy of a slice from a DataFrame.\n",
      "Try using .loc[row_indexer,col_indexer] = value instead\n",
      "\n",
      "See the caveats in the documentation: https://pandas.pydata.org/pandas-docs/stable/user_guide/indexing.html#returning-a-view-versus-a-copy\n",
      "  data_sub['t_minus1_high'] = data_sub['high'].shift(1)\n",
      "<ipython-input-452-1cd440387d10>:48: SettingWithCopyWarning: \n",
      "A value is trying to be set on a copy of a slice from a DataFrame.\n",
      "Try using .loc[row_indexer,col_indexer] = value instead\n",
      "\n",
      "See the caveats in the documentation: https://pandas.pydata.org/pandas-docs/stable/user_guide/indexing.html#returning-a-view-versus-a-copy\n",
      "  data_sub['t_minus1_low'] = data_sub['low'].shift(1)\n"
     ]
    },
    {
     "name": "stdout",
     "output_type": "stream",
     "text": [
      "[*********************100%***********************]  1 of 1 completed\n",
      "ANSS testing r2_score: 0.8584350203116954\n",
      "ANSS testing MSE score: 32.33195745561405\n",
      "ANSS : tomorrow's price: [343.99971073]\n",
      "ANSS Success!\n",
      " \n",
      " \n",
      "Analyzing ANTM\n"
     ]
    },
    {
     "name": "stderr",
     "output_type": "stream",
     "text": [
      "<ipython-input-452-1cd440387d10>:47: SettingWithCopyWarning: \n",
      "A value is trying to be set on a copy of a slice from a DataFrame.\n",
      "Try using .loc[row_indexer,col_indexer] = value instead\n",
      "\n",
      "See the caveats in the documentation: https://pandas.pydata.org/pandas-docs/stable/user_guide/indexing.html#returning-a-view-versus-a-copy\n",
      "  data_sub['t_minus1_high'] = data_sub['high'].shift(1)\n",
      "<ipython-input-452-1cd440387d10>:48: SettingWithCopyWarning: \n",
      "A value is trying to be set on a copy of a slice from a DataFrame.\n",
      "Try using .loc[row_indexer,col_indexer] = value instead\n",
      "\n",
      "See the caveats in the documentation: https://pandas.pydata.org/pandas-docs/stable/user_guide/indexing.html#returning-a-view-versus-a-copy\n",
      "  data_sub['t_minus1_low'] = data_sub['low'].shift(1)\n"
     ]
    },
    {
     "name": "stdout",
     "output_type": "stream",
     "text": [
      "[*********************100%***********************]  1 of 1 completed\n",
      "ANTM testing r2_score: 0.602854987790556\n",
      "ANTM testing MSE score: 31.739583115105766\n",
      "ANTM : tomorrow's price: [371.1688796]\n",
      "ANTM Success!\n",
      " \n",
      " \n",
      "Analyzing AON\n"
     ]
    },
    {
     "name": "stderr",
     "output_type": "stream",
     "text": [
      "<ipython-input-452-1cd440387d10>:47: SettingWithCopyWarning: \n",
      "A value is trying to be set on a copy of a slice from a DataFrame.\n",
      "Try using .loc[row_indexer,col_indexer] = value instead\n",
      "\n",
      "See the caveats in the documentation: https://pandas.pydata.org/pandas-docs/stable/user_guide/indexing.html#returning-a-view-versus-a-copy\n",
      "  data_sub['t_minus1_high'] = data_sub['high'].shift(1)\n",
      "<ipython-input-452-1cd440387d10>:48: SettingWithCopyWarning: \n",
      "A value is trying to be set on a copy of a slice from a DataFrame.\n",
      "Try using .loc[row_indexer,col_indexer] = value instead\n",
      "\n",
      "See the caveats in the documentation: https://pandas.pydata.org/pandas-docs/stable/user_guide/indexing.html#returning-a-view-versus-a-copy\n",
      "  data_sub['t_minus1_low'] = data_sub['low'].shift(1)\n"
     ]
    },
    {
     "name": "stdout",
     "output_type": "stream",
     "text": [
      "[*********************100%***********************]  1 of 1 completed\n",
      "AON testing r2_score: 0.9684738103913957\n",
      "AON testing MSE score: 15.675993976212133\n",
      "AON : tomorrow's price: [289.23550151]\n",
      "AON Success!\n",
      " \n",
      " \n",
      "Analyzing APA\n"
     ]
    },
    {
     "name": "stderr",
     "output_type": "stream",
     "text": [
      "<ipython-input-452-1cd440387d10>:47: SettingWithCopyWarning: \n",
      "A value is trying to be set on a copy of a slice from a DataFrame.\n",
      "Try using .loc[row_indexer,col_indexer] = value instead\n",
      "\n",
      "See the caveats in the documentation: https://pandas.pydata.org/pandas-docs/stable/user_guide/indexing.html#returning-a-view-versus-a-copy\n",
      "  data_sub['t_minus1_high'] = data_sub['high'].shift(1)\n",
      "<ipython-input-452-1cd440387d10>:48: SettingWithCopyWarning: \n",
      "A value is trying to be set on a copy of a slice from a DataFrame.\n",
      "Try using .loc[row_indexer,col_indexer] = value instead\n",
      "\n",
      "See the caveats in the documentation: https://pandas.pydata.org/pandas-docs/stable/user_guide/indexing.html#returning-a-view-versus-a-copy\n",
      "  data_sub['t_minus1_low'] = data_sub['low'].shift(1)\n"
     ]
    },
    {
     "name": "stdout",
     "output_type": "stream",
     "text": [
      "[*********************100%***********************]  1 of 1 completed\n",
      "APA testing r2_score: 0.8744516239298801\n",
      "APA testing MSE score: 0.5051314409151361\n",
      "APA : tomorrow's price: [21.899075]\n",
      "APA Success!\n",
      " \n",
      " \n",
      "Analyzing AAPL\n"
     ]
    },
    {
     "name": "stderr",
     "output_type": "stream",
     "text": [
      "<ipython-input-452-1cd440387d10>:47: SettingWithCopyWarning: \n",
      "A value is trying to be set on a copy of a slice from a DataFrame.\n",
      "Try using .loc[row_indexer,col_indexer] = value instead\n",
      "\n",
      "See the caveats in the documentation: https://pandas.pydata.org/pandas-docs/stable/user_guide/indexing.html#returning-a-view-versus-a-copy\n",
      "  data_sub['t_minus1_high'] = data_sub['high'].shift(1)\n",
      "<ipython-input-452-1cd440387d10>:48: SettingWithCopyWarning: \n",
      "A value is trying to be set on a copy of a slice from a DataFrame.\n",
      "Try using .loc[row_indexer,col_indexer] = value instead\n",
      "\n",
      "See the caveats in the documentation: https://pandas.pydata.org/pandas-docs/stable/user_guide/indexing.html#returning-a-view-versus-a-copy\n",
      "  data_sub['t_minus1_low'] = data_sub['low'].shift(1)\n"
     ]
    },
    {
     "name": "stdout",
     "output_type": "stream",
     "text": [
      "[*********************100%***********************]  1 of 1 completed\n",
      "AAPL testing r2_score: 0.9621835502225874\n",
      "AAPL testing MSE score: 3.3619969988954503\n",
      "AAPL : tomorrow's price: [142.05066955]\n",
      "AAPL Success!\n",
      " \n",
      " \n",
      "Analyzing AMAT\n"
     ]
    },
    {
     "name": "stderr",
     "output_type": "stream",
     "text": [
      "<ipython-input-452-1cd440387d10>:47: SettingWithCopyWarning: \n",
      "A value is trying to be set on a copy of a slice from a DataFrame.\n",
      "Try using .loc[row_indexer,col_indexer] = value instead\n",
      "\n",
      "See the caveats in the documentation: https://pandas.pydata.org/pandas-docs/stable/user_guide/indexing.html#returning-a-view-versus-a-copy\n",
      "  data_sub['t_minus1_high'] = data_sub['high'].shift(1)\n",
      "<ipython-input-452-1cd440387d10>:48: SettingWithCopyWarning: \n",
      "A value is trying to be set on a copy of a slice from a DataFrame.\n",
      "Try using .loc[row_indexer,col_indexer] = value instead\n",
      "\n",
      "See the caveats in the documentation: https://pandas.pydata.org/pandas-docs/stable/user_guide/indexing.html#returning-a-view-versus-a-copy\n",
      "  data_sub['t_minus1_low'] = data_sub['low'].shift(1)\n"
     ]
    },
    {
     "name": "stdout",
     "output_type": "stream",
     "text": [
      "[*********************100%***********************]  1 of 1 completed\n",
      "AMAT testing r2_score: 0.695035638496132\n",
      "AMAT testing MSE score: 9.355180574424121\n",
      "AMAT : tomorrow's price: [129.46124645]\n",
      "AMAT Success!\n",
      " \n",
      " \n",
      "Analyzing APTV\n"
     ]
    },
    {
     "name": "stderr",
     "output_type": "stream",
     "text": [
      "<ipython-input-452-1cd440387d10>:47: SettingWithCopyWarning: \n",
      "A value is trying to be set on a copy of a slice from a DataFrame.\n",
      "Try using .loc[row_indexer,col_indexer] = value instead\n",
      "\n",
      "See the caveats in the documentation: https://pandas.pydata.org/pandas-docs/stable/user_guide/indexing.html#returning-a-view-versus-a-copy\n",
      "  data_sub['t_minus1_high'] = data_sub['high'].shift(1)\n",
      "<ipython-input-452-1cd440387d10>:48: SettingWithCopyWarning: \n",
      "A value is trying to be set on a copy of a slice from a DataFrame.\n",
      "Try using .loc[row_indexer,col_indexer] = value instead\n",
      "\n",
      "See the caveats in the documentation: https://pandas.pydata.org/pandas-docs/stable/user_guide/indexing.html#returning-a-view-versus-a-copy\n",
      "  data_sub['t_minus1_low'] = data_sub['low'].shift(1)\n"
     ]
    },
    {
     "name": "stdout",
     "output_type": "stream",
     "text": [
      "[*********************100%***********************]  1 of 1 completed\n",
      "APTV testing r2_score: 0.848480260995008\n",
      "APTV testing MSE score: 9.787828472680685\n",
      "APTV : tomorrow's price: [152.50730271]\n",
      "APTV Success!\n",
      " \n",
      " \n",
      "Analyzing ANET\n"
     ]
    },
    {
     "name": "stderr",
     "output_type": "stream",
     "text": [
      "<ipython-input-452-1cd440387d10>:47: SettingWithCopyWarning: \n",
      "A value is trying to be set on a copy of a slice from a DataFrame.\n",
      "Try using .loc[row_indexer,col_indexer] = value instead\n",
      "\n",
      "See the caveats in the documentation: https://pandas.pydata.org/pandas-docs/stable/user_guide/indexing.html#returning-a-view-versus-a-copy\n",
      "  data_sub['t_minus1_high'] = data_sub['high'].shift(1)\n",
      "<ipython-input-452-1cd440387d10>:48: SettingWithCopyWarning: \n",
      "A value is trying to be set on a copy of a slice from a DataFrame.\n",
      "Try using .loc[row_indexer,col_indexer] = value instead\n",
      "\n",
      "See the caveats in the documentation: https://pandas.pydata.org/pandas-docs/stable/user_guide/indexing.html#returning-a-view-versus-a-copy\n",
      "  data_sub['t_minus1_low'] = data_sub['low'].shift(1)\n"
     ]
    },
    {
     "name": "stdout",
     "output_type": "stream",
     "text": [
      "[*********************100%***********************]  1 of 1 completed\n",
      "ANET testing r2_score: 0.9147911783736979\n",
      "ANET testing MSE score: 28.755409507553438\n",
      "ANET : tomorrow's price: [348.57643238]\n",
      "ANET Success!\n",
      " \n",
      " \n",
      "Analyzing AJG\n"
     ]
    },
    {
     "name": "stderr",
     "output_type": "stream",
     "text": [
      "<ipython-input-452-1cd440387d10>:47: SettingWithCopyWarning: \n",
      "A value is trying to be set on a copy of a slice from a DataFrame.\n",
      "Try using .loc[row_indexer,col_indexer] = value instead\n",
      "\n",
      "See the caveats in the documentation: https://pandas.pydata.org/pandas-docs/stable/user_guide/indexing.html#returning-a-view-versus-a-copy\n",
      "  data_sub['t_minus1_high'] = data_sub['high'].shift(1)\n",
      "<ipython-input-452-1cd440387d10>:48: SettingWithCopyWarning: \n",
      "A value is trying to be set on a copy of a slice from a DataFrame.\n",
      "Try using .loc[row_indexer,col_indexer] = value instead\n",
      "\n",
      "See the caveats in the documentation: https://pandas.pydata.org/pandas-docs/stable/user_guide/indexing.html#returning-a-view-versus-a-copy\n",
      "  data_sub['t_minus1_low'] = data_sub['low'].shift(1)\n"
     ]
    },
    {
     "name": "stdout",
     "output_type": "stream",
     "text": [
      "[*********************100%***********************]  1 of 1 completed\n",
      "AJG testing r2_score: 0.877655886829845\n",
      "AJG testing MSE score: 2.915121856861947\n",
      "AJG : tomorrow's price: [151.61995898]\n",
      "AJG Success!\n",
      " \n",
      " \n",
      "Analyzing AIZ\n"
     ]
    },
    {
     "name": "stderr",
     "output_type": "stream",
     "text": [
      "<ipython-input-452-1cd440387d10>:47: SettingWithCopyWarning: \n",
      "A value is trying to be set on a copy of a slice from a DataFrame.\n",
      "Try using .loc[row_indexer,col_indexer] = value instead\n",
      "\n",
      "See the caveats in the documentation: https://pandas.pydata.org/pandas-docs/stable/user_guide/indexing.html#returning-a-view-versus-a-copy\n",
      "  data_sub['t_minus1_high'] = data_sub['high'].shift(1)\n",
      "<ipython-input-452-1cd440387d10>:48: SettingWithCopyWarning: \n",
      "A value is trying to be set on a copy of a slice from a DataFrame.\n",
      "Try using .loc[row_indexer,col_indexer] = value instead\n",
      "\n",
      "See the caveats in the documentation: https://pandas.pydata.org/pandas-docs/stable/user_guide/indexing.html#returning-a-view-versus-a-copy\n",
      "  data_sub['t_minus1_low'] = data_sub['low'].shift(1)\n"
     ]
    },
    {
     "name": "stdout",
     "output_type": "stream",
     "text": [
      "[*********************100%***********************]  1 of 1 completed\n",
      "AIZ testing r2_score: 0.8267706637120107\n",
      "AIZ testing MSE score: 3.6066095557698192\n",
      "AIZ : tomorrow's price: [158.40480847]\n",
      "AIZ Success!\n",
      " \n",
      " \n",
      "Analyzing T\n"
     ]
    },
    {
     "name": "stderr",
     "output_type": "stream",
     "text": [
      "<ipython-input-452-1cd440387d10>:47: SettingWithCopyWarning: \n",
      "A value is trying to be set on a copy of a slice from a DataFrame.\n",
      "Try using .loc[row_indexer,col_indexer] = value instead\n",
      "\n",
      "See the caveats in the documentation: https://pandas.pydata.org/pandas-docs/stable/user_guide/indexing.html#returning-a-view-versus-a-copy\n",
      "  data_sub['t_minus1_high'] = data_sub['high'].shift(1)\n",
      "<ipython-input-452-1cd440387d10>:48: SettingWithCopyWarning: \n",
      "A value is trying to be set on a copy of a slice from a DataFrame.\n",
      "Try using .loc[row_indexer,col_indexer] = value instead\n",
      "\n",
      "See the caveats in the documentation: https://pandas.pydata.org/pandas-docs/stable/user_guide/indexing.html#returning-a-view-versus-a-copy\n",
      "  data_sub['t_minus1_low'] = data_sub['low'].shift(1)\n"
     ]
    },
    {
     "name": "stdout",
     "output_type": "stream",
     "text": [
      "[*********************100%***********************]  1 of 1 completed\n",
      "T testing r2_score: 0.9481289053852215\n",
      "T testing MSE score: 0.1183686334727867\n",
      "T : tomorrow's price: [27.15855847]\n",
      "T Success!\n",
      " \n",
      " \n",
      "Analyzing ATO\n"
     ]
    },
    {
     "name": "stderr",
     "output_type": "stream",
     "text": [
      "<ipython-input-452-1cd440387d10>:47: SettingWithCopyWarning: \n",
      "A value is trying to be set on a copy of a slice from a DataFrame.\n",
      "Try using .loc[row_indexer,col_indexer] = value instead\n",
      "\n",
      "See the caveats in the documentation: https://pandas.pydata.org/pandas-docs/stable/user_guide/indexing.html#returning-a-view-versus-a-copy\n",
      "  data_sub['t_minus1_high'] = data_sub['high'].shift(1)\n",
      "<ipython-input-452-1cd440387d10>:48: SettingWithCopyWarning: \n",
      "A value is trying to be set on a copy of a slice from a DataFrame.\n",
      "Try using .loc[row_indexer,col_indexer] = value instead\n",
      "\n",
      "See the caveats in the documentation: https://pandas.pydata.org/pandas-docs/stable/user_guide/indexing.html#returning-a-view-versus-a-copy\n",
      "  data_sub['t_minus1_low'] = data_sub['low'].shift(1)\n"
     ]
    },
    {
     "name": "stdout",
     "output_type": "stream",
     "text": [
      "[*********************100%***********************]  1 of 1 completed\n",
      "ATO testing r2_score: 0.9336759133445454\n",
      "ATO testing MSE score: 1.2749445357538378\n",
      "ATO : tomorrow's price: [88.81741638]\n",
      "ATO Success!\n",
      " \n",
      " \n",
      "Analyzing ADSK\n"
     ]
    },
    {
     "name": "stderr",
     "output_type": "stream",
     "text": [
      "<ipython-input-452-1cd440387d10>:47: SettingWithCopyWarning: \n",
      "A value is trying to be set on a copy of a slice from a DataFrame.\n",
      "Try using .loc[row_indexer,col_indexer] = value instead\n",
      "\n",
      "See the caveats in the documentation: https://pandas.pydata.org/pandas-docs/stable/user_guide/indexing.html#returning-a-view-versus-a-copy\n",
      "  data_sub['t_minus1_high'] = data_sub['high'].shift(1)\n",
      "<ipython-input-452-1cd440387d10>:48: SettingWithCopyWarning: \n",
      "A value is trying to be set on a copy of a slice from a DataFrame.\n",
      "Try using .loc[row_indexer,col_indexer] = value instead\n",
      "\n",
      "See the caveats in the documentation: https://pandas.pydata.org/pandas-docs/stable/user_guide/indexing.html#returning-a-view-versus-a-copy\n",
      "  data_sub['t_minus1_low'] = data_sub['low'].shift(1)\n"
     ]
    },
    {
     "name": "stdout",
     "output_type": "stream",
     "text": [
      "[*********************100%***********************]  1 of 1 completed\n",
      "ADSK testing r2_score: 0.9167618319732076\n",
      "ADSK testing MSE score: 29.373929963684937\n",
      "ADSK : tomorrow's price: [284.2491963]\n",
      "ADSK Success!\n",
      " \n",
      " \n",
      "Analyzing ADP\n"
     ]
    },
    {
     "name": "stderr",
     "output_type": "stream",
     "text": [
      "<ipython-input-452-1cd440387d10>:47: SettingWithCopyWarning: \n",
      "A value is trying to be set on a copy of a slice from a DataFrame.\n",
      "Try using .loc[row_indexer,col_indexer] = value instead\n",
      "\n",
      "See the caveats in the documentation: https://pandas.pydata.org/pandas-docs/stable/user_guide/indexing.html#returning-a-view-versus-a-copy\n",
      "  data_sub['t_minus1_high'] = data_sub['high'].shift(1)\n",
      "<ipython-input-452-1cd440387d10>:48: SettingWithCopyWarning: \n",
      "A value is trying to be set on a copy of a slice from a DataFrame.\n",
      "Try using .loc[row_indexer,col_indexer] = value instead\n",
      "\n",
      "See the caveats in the documentation: https://pandas.pydata.org/pandas-docs/stable/user_guide/indexing.html#returning-a-view-versus-a-copy\n",
      "  data_sub['t_minus1_low'] = data_sub['low'].shift(1)\n"
     ]
    },
    {
     "name": "stdout",
     "output_type": "stream",
     "text": [
      "[*********************100%***********************]  1 of 1 completed\n",
      "ADP testing r2_score: 0.889722138209319\n",
      "ADP testing MSE score: 4.861512733342342\n",
      "ADP : tomorrow's price: [200.4576446]\n",
      "ADP Success!\n",
      " \n",
      " \n",
      "Analyzing AZO\n"
     ]
    },
    {
     "name": "stderr",
     "output_type": "stream",
     "text": [
      "<ipython-input-452-1cd440387d10>:47: SettingWithCopyWarning: \n",
      "A value is trying to be set on a copy of a slice from a DataFrame.\n",
      "Try using .loc[row_indexer,col_indexer] = value instead\n",
      "\n",
      "See the caveats in the documentation: https://pandas.pydata.org/pandas-docs/stable/user_guide/indexing.html#returning-a-view-versus-a-copy\n",
      "  data_sub['t_minus1_high'] = data_sub['high'].shift(1)\n",
      "<ipython-input-452-1cd440387d10>:48: SettingWithCopyWarning: \n",
      "A value is trying to be set on a copy of a slice from a DataFrame.\n",
      "Try using .loc[row_indexer,col_indexer] = value instead\n",
      "\n",
      "See the caveats in the documentation: https://pandas.pydata.org/pandas-docs/stable/user_guide/indexing.html#returning-a-view-versus-a-copy\n",
      "  data_sub['t_minus1_low'] = data_sub['low'].shift(1)\n"
     ]
    },
    {
     "name": "stdout",
     "output_type": "stream",
     "text": [
      "[*********************100%***********************]  1 of 1 completed\n",
      "AZO testing r2_score: 0.9547910954424161\n",
      "AZO testing MSE score: 408.4494101703743\n",
      "AZO : tomorrow's price: [1664.93396058]\n",
      "AZO Success!\n",
      " \n",
      " \n",
      "Analyzing AVB\n"
     ]
    },
    {
     "name": "stderr",
     "output_type": "stream",
     "text": [
      "<ipython-input-452-1cd440387d10>:47: SettingWithCopyWarning: \n",
      "A value is trying to be set on a copy of a slice from a DataFrame.\n",
      "Try using .loc[row_indexer,col_indexer] = value instead\n",
      "\n",
      "See the caveats in the documentation: https://pandas.pydata.org/pandas-docs/stable/user_guide/indexing.html#returning-a-view-versus-a-copy\n",
      "  data_sub['t_minus1_high'] = data_sub['high'].shift(1)\n",
      "<ipython-input-452-1cd440387d10>:48: SettingWithCopyWarning: \n",
      "A value is trying to be set on a copy of a slice from a DataFrame.\n",
      "Try using .loc[row_indexer,col_indexer] = value instead\n",
      "\n",
      "See the caveats in the documentation: https://pandas.pydata.org/pandas-docs/stable/user_guide/indexing.html#returning-a-view-versus-a-copy\n",
      "  data_sub['t_minus1_low'] = data_sub['low'].shift(1)\n"
     ]
    },
    {
     "name": "stdout",
     "output_type": "stream",
     "text": [
      "[*********************100%***********************]  1 of 1 completed\n",
      "AVB testing r2_score: 0.9485767086375065\n",
      "AVB testing MSE score: 6.795737348241538\n",
      "AVB : tomorrow's price: [220.30242475]\n",
      "AVB Success!\n",
      " \n",
      " \n",
      "Analyzing AVY\n"
     ]
    },
    {
     "name": "stderr",
     "output_type": "stream",
     "text": [
      "<ipython-input-452-1cd440387d10>:47: SettingWithCopyWarning: \n",
      "A value is trying to be set on a copy of a slice from a DataFrame.\n",
      "Try using .loc[row_indexer,col_indexer] = value instead\n",
      "\n",
      "See the caveats in the documentation: https://pandas.pydata.org/pandas-docs/stable/user_guide/indexing.html#returning-a-view-versus-a-copy\n",
      "  data_sub['t_minus1_high'] = data_sub['high'].shift(1)\n",
      "<ipython-input-452-1cd440387d10>:48: SettingWithCopyWarning: \n",
      "A value is trying to be set on a copy of a slice from a DataFrame.\n",
      "Try using .loc[row_indexer,col_indexer] = value instead\n",
      "\n",
      "See the caveats in the documentation: https://pandas.pydata.org/pandas-docs/stable/user_guide/indexing.html#returning-a-view-versus-a-copy\n",
      "  data_sub['t_minus1_low'] = data_sub['low'].shift(1)\n"
     ]
    },
    {
     "name": "stdout",
     "output_type": "stream",
     "text": [
      "[*********************100%***********************]  1 of 1 completed\n",
      "AVY testing r2_score: 0.8433024878382984\n",
      "AVY testing MSE score: 6.429373781674334\n",
      "AVY : tomorrow's price: [209.92669393]\n",
      "AVY Success!\n",
      " \n",
      " \n",
      "Analyzing BKR\n"
     ]
    },
    {
     "name": "stderr",
     "output_type": "stream",
     "text": [
      "<ipython-input-452-1cd440387d10>:47: SettingWithCopyWarning: \n",
      "A value is trying to be set on a copy of a slice from a DataFrame.\n",
      "Try using .loc[row_indexer,col_indexer] = value instead\n",
      "\n",
      "See the caveats in the documentation: https://pandas.pydata.org/pandas-docs/stable/user_guide/indexing.html#returning-a-view-versus-a-copy\n",
      "  data_sub['t_minus1_high'] = data_sub['high'].shift(1)\n",
      "<ipython-input-452-1cd440387d10>:48: SettingWithCopyWarning: \n",
      "A value is trying to be set on a copy of a slice from a DataFrame.\n",
      "Try using .loc[row_indexer,col_indexer] = value instead\n",
      "\n",
      "See the caveats in the documentation: https://pandas.pydata.org/pandas-docs/stable/user_guide/indexing.html#returning-a-view-versus-a-copy\n",
      "  data_sub['t_minus1_low'] = data_sub['low'].shift(1)\n"
     ]
    },
    {
     "name": "stdout",
     "output_type": "stream",
     "text": [
      "[*********************100%***********************]  1 of 1 completed\n",
      "BKR testing r2_score: 0.9026506173436674\n",
      "BKR testing MSE score: 0.3265093839164393\n",
      "BKR : tomorrow's price: [25.13286737]\n",
      "BKR Success!\n",
      " \n",
      " \n",
      "Analyzing BLL\n"
     ]
    },
    {
     "name": "stderr",
     "output_type": "stream",
     "text": [
      "<ipython-input-452-1cd440387d10>:47: SettingWithCopyWarning: \n",
      "A value is trying to be set on a copy of a slice from a DataFrame.\n",
      "Try using .loc[row_indexer,col_indexer] = value instead\n",
      "\n",
      "See the caveats in the documentation: https://pandas.pydata.org/pandas-docs/stable/user_guide/indexing.html#returning-a-view-versus-a-copy\n",
      "  data_sub['t_minus1_high'] = data_sub['high'].shift(1)\n",
      "<ipython-input-452-1cd440387d10>:48: SettingWithCopyWarning: \n",
      "A value is trying to be set on a copy of a slice from a DataFrame.\n",
      "Try using .loc[row_indexer,col_indexer] = value instead\n",
      "\n",
      "See the caveats in the documentation: https://pandas.pydata.org/pandas-docs/stable/user_guide/indexing.html#returning-a-view-versus-a-copy\n",
      "  data_sub['t_minus1_low'] = data_sub['low'].shift(1)\n"
     ]
    },
    {
     "name": "stdout",
     "output_type": "stream",
     "text": [
      "[*********************100%***********************]  1 of 1 completed\n",
      "BLL testing r2_score: 0.953632787413001\n",
      "BLL testing MSE score: 1.3313841498337335\n",
      "BLL : tomorrow's price: [89.8881823]\n",
      "BLL Success!\n",
      " \n",
      " \n",
      "Analyzing BAC\n"
     ]
    },
    {
     "name": "stderr",
     "output_type": "stream",
     "text": [
      "<ipython-input-452-1cd440387d10>:47: SettingWithCopyWarning: \n",
      "A value is trying to be set on a copy of a slice from a DataFrame.\n",
      "Try using .loc[row_indexer,col_indexer] = value instead\n",
      "\n",
      "See the caveats in the documentation: https://pandas.pydata.org/pandas-docs/stable/user_guide/indexing.html#returning-a-view-versus-a-copy\n",
      "  data_sub['t_minus1_high'] = data_sub['high'].shift(1)\n",
      "<ipython-input-452-1cd440387d10>:48: SettingWithCopyWarning: \n",
      "A value is trying to be set on a copy of a slice from a DataFrame.\n",
      "Try using .loc[row_indexer,col_indexer] = value instead\n",
      "\n",
      "See the caveats in the documentation: https://pandas.pydata.org/pandas-docs/stable/user_guide/indexing.html#returning-a-view-versus-a-copy\n",
      "  data_sub['t_minus1_low'] = data_sub['low'].shift(1)\n"
     ]
    },
    {
     "name": "stdout",
     "output_type": "stream",
     "text": [
      "[*********************100%***********************]  1 of 1 completed\n",
      "BAC testing r2_score: 0.8383329944242603\n",
      "BAC testing MSE score: 0.4612513853498442\n",
      "BAC : tomorrow's price: [42.95932301]\n",
      "BAC Success!\n",
      " \n",
      " \n",
      "Analyzing BBWI\n"
     ]
    },
    {
     "name": "stderr",
     "output_type": "stream",
     "text": [
      "<ipython-input-452-1cd440387d10>:47: SettingWithCopyWarning: \n",
      "A value is trying to be set on a copy of a slice from a DataFrame.\n",
      "Try using .loc[row_indexer,col_indexer] = value instead\n",
      "\n",
      "See the caveats in the documentation: https://pandas.pydata.org/pandas-docs/stable/user_guide/indexing.html#returning-a-view-versus-a-copy\n",
      "  data_sub['t_minus1_high'] = data_sub['high'].shift(1)\n",
      "<ipython-input-452-1cd440387d10>:48: SettingWithCopyWarning: \n",
      "A value is trying to be set on a copy of a slice from a DataFrame.\n",
      "Try using .loc[row_indexer,col_indexer] = value instead\n",
      "\n",
      "See the caveats in the documentation: https://pandas.pydata.org/pandas-docs/stable/user_guide/indexing.html#returning-a-view-versus-a-copy\n",
      "  data_sub['t_minus1_low'] = data_sub['low'].shift(1)\n"
     ]
    },
    {
     "name": "stdout",
     "output_type": "stream",
     "text": [
      "[*********************100%***********************]  1 of 1 completed\n",
      "BBWI testing r2_score: 0.917894347060878\n",
      "BBWI testing MSE score: 2.1465818969638613\n",
      "BBWI : tomorrow's price: [64.24661225]\n",
      "BBWI Success!\n",
      " \n",
      " \n",
      "Analyzing BAX\n"
     ]
    },
    {
     "name": "stderr",
     "output_type": "stream",
     "text": [
      "<ipython-input-452-1cd440387d10>:47: SettingWithCopyWarning: \n",
      "A value is trying to be set on a copy of a slice from a DataFrame.\n",
      "Try using .loc[row_indexer,col_indexer] = value instead\n",
      "\n",
      "See the caveats in the documentation: https://pandas.pydata.org/pandas-docs/stable/user_guide/indexing.html#returning-a-view-versus-a-copy\n",
      "  data_sub['t_minus1_high'] = data_sub['high'].shift(1)\n",
      "<ipython-input-452-1cd440387d10>:48: SettingWithCopyWarning: \n",
      "A value is trying to be set on a copy of a slice from a DataFrame.\n",
      "Try using .loc[row_indexer,col_indexer] = value instead\n",
      "\n",
      "See the caveats in the documentation: https://pandas.pydata.org/pandas-docs/stable/user_guide/indexing.html#returning-a-view-versus-a-copy\n",
      "  data_sub['t_minus1_low'] = data_sub['low'].shift(1)\n"
     ]
    },
    {
     "name": "stdout",
     "output_type": "stream",
     "text": [
      "[*********************100%***********************]  1 of 1 completed\n",
      "BAX testing r2_score: 0.9120320260725419\n",
      "BAX testing MSE score: 0.9187326206523505\n",
      "BAX : tomorrow's price: [81.18622721]\n",
      "BAX Success!\n",
      " \n",
      " \n",
      "Analyzing BDX\n"
     ]
    },
    {
     "name": "stderr",
     "output_type": "stream",
     "text": [
      "<ipython-input-452-1cd440387d10>:47: SettingWithCopyWarning: \n",
      "A value is trying to be set on a copy of a slice from a DataFrame.\n",
      "Try using .loc[row_indexer,col_indexer] = value instead\n",
      "\n",
      "See the caveats in the documentation: https://pandas.pydata.org/pandas-docs/stable/user_guide/indexing.html#returning-a-view-versus-a-copy\n",
      "  data_sub['t_minus1_high'] = data_sub['high'].shift(1)\n",
      "<ipython-input-452-1cd440387d10>:48: SettingWithCopyWarning: \n",
      "A value is trying to be set on a copy of a slice from a DataFrame.\n",
      "Try using .loc[row_indexer,col_indexer] = value instead\n",
      "\n",
      "See the caveats in the documentation: https://pandas.pydata.org/pandas-docs/stable/user_guide/indexing.html#returning-a-view-versus-a-copy\n",
      "  data_sub['t_minus1_low'] = data_sub['low'].shift(1)\n"
     ]
    },
    {
     "name": "stdout",
     "output_type": "stream",
     "text": [
      "[*********************100%***********************]  1 of 1 completed\n",
      "BDX testing r2_score: 0.8292579642522072\n",
      "BDX testing MSE score: 7.24219783460658\n",
      "BDX : tomorrow's price: [244.39497926]\n",
      "BDX Success!\n",
      " \n",
      " \n",
      "Analyzing BBY\n"
     ]
    },
    {
     "name": "stderr",
     "output_type": "stream",
     "text": [
      "<ipython-input-452-1cd440387d10>:47: SettingWithCopyWarning: \n",
      "A value is trying to be set on a copy of a slice from a DataFrame.\n",
      "Try using .loc[row_indexer,col_indexer] = value instead\n",
      "\n",
      "See the caveats in the documentation: https://pandas.pydata.org/pandas-docs/stable/user_guide/indexing.html#returning-a-view-versus-a-copy\n",
      "  data_sub['t_minus1_high'] = data_sub['high'].shift(1)\n",
      "<ipython-input-452-1cd440387d10>:48: SettingWithCopyWarning: \n",
      "A value is trying to be set on a copy of a slice from a DataFrame.\n",
      "Try using .loc[row_indexer,col_indexer] = value instead\n",
      "\n",
      "See the caveats in the documentation: https://pandas.pydata.org/pandas-docs/stable/user_guide/indexing.html#returning-a-view-versus-a-copy\n",
      "  data_sub['t_minus1_low'] = data_sub['low'].shift(1)\n"
     ]
    },
    {
     "name": "stdout",
     "output_type": "stream",
     "text": [
      "[*********************100%***********************]  1 of 1 completed\n",
      "BBY testing r2_score: 0.7363497755358165\n",
      "BBY testing MSE score: 4.622033577496343\n",
      "BBY : tomorrow's price: [105.31743711]\n",
      "BBY Success!\n",
      " \n",
      " \n",
      "Analyzing BIO\n"
     ]
    },
    {
     "name": "stderr",
     "output_type": "stream",
     "text": [
      "<ipython-input-452-1cd440387d10>:47: SettingWithCopyWarning: \n",
      "A value is trying to be set on a copy of a slice from a DataFrame.\n",
      "Try using .loc[row_indexer,col_indexer] = value instead\n",
      "\n",
      "See the caveats in the documentation: https://pandas.pydata.org/pandas-docs/stable/user_guide/indexing.html#returning-a-view-versus-a-copy\n",
      "  data_sub['t_minus1_high'] = data_sub['high'].shift(1)\n",
      "<ipython-input-452-1cd440387d10>:48: SettingWithCopyWarning: \n",
      "A value is trying to be set on a copy of a slice from a DataFrame.\n",
      "Try using .loc[row_indexer,col_indexer] = value instead\n",
      "\n",
      "See the caveats in the documentation: https://pandas.pydata.org/pandas-docs/stable/user_guide/indexing.html#returning-a-view-versus-a-copy\n",
      "  data_sub['t_minus1_low'] = data_sub['low'].shift(1)\n"
     ]
    },
    {
     "name": "stdout",
     "output_type": "stream",
     "text": [
      "[*********************100%***********************]  1 of 1 completed\n",
      "BIO testing r2_score: 0.9856728368420702\n",
      "BIO testing MSE score: 91.36195846052453\n",
      "BIO : tomorrow's price: [741.46147583]\n",
      "BIO Success!\n",
      " \n",
      " \n",
      "Analyzing TECH\n"
     ]
    },
    {
     "name": "stderr",
     "output_type": "stream",
     "text": [
      "<ipython-input-452-1cd440387d10>:47: SettingWithCopyWarning: \n",
      "A value is trying to be set on a copy of a slice from a DataFrame.\n",
      "Try using .loc[row_indexer,col_indexer] = value instead\n",
      "\n",
      "See the caveats in the documentation: https://pandas.pydata.org/pandas-docs/stable/user_guide/indexing.html#returning-a-view-versus-a-copy\n",
      "  data_sub['t_minus1_high'] = data_sub['high'].shift(1)\n",
      "<ipython-input-452-1cd440387d10>:48: SettingWithCopyWarning: \n",
      "A value is trying to be set on a copy of a slice from a DataFrame.\n",
      "Try using .loc[row_indexer,col_indexer] = value instead\n",
      "\n",
      "See the caveats in the documentation: https://pandas.pydata.org/pandas-docs/stable/user_guide/indexing.html#returning-a-view-versus-a-copy\n",
      "  data_sub['t_minus1_low'] = data_sub['low'].shift(1)\n"
     ]
    },
    {
     "name": "stdout",
     "output_type": "stream",
     "text": [
      "[*********************100%***********************]  1 of 1 completed\n",
      "TECH testing r2_score: 0.9555895016933218\n",
      "TECH testing MSE score: 61.112244367105205\n",
      "TECH : tomorrow's price: [495.35709253]\n",
      "TECH Success!\n",
      " \n",
      " \n",
      "Analyzing BIIB\n"
     ]
    },
    {
     "name": "stderr",
     "output_type": "stream",
     "text": [
      "<ipython-input-452-1cd440387d10>:47: SettingWithCopyWarning: \n",
      "A value is trying to be set on a copy of a slice from a DataFrame.\n",
      "Try using .loc[row_indexer,col_indexer] = value instead\n",
      "\n",
      "See the caveats in the documentation: https://pandas.pydata.org/pandas-docs/stable/user_guide/indexing.html#returning-a-view-versus-a-copy\n",
      "  data_sub['t_minus1_high'] = data_sub['high'].shift(1)\n",
      "<ipython-input-452-1cd440387d10>:48: SettingWithCopyWarning: \n",
      "A value is trying to be set on a copy of a slice from a DataFrame.\n",
      "Try using .loc[row_indexer,col_indexer] = value instead\n",
      "\n",
      "See the caveats in the documentation: https://pandas.pydata.org/pandas-docs/stable/user_guide/indexing.html#returning-a-view-versus-a-copy\n",
      "  data_sub['t_minus1_low'] = data_sub['low'].shift(1)\n"
     ]
    },
    {
     "name": "stdout",
     "output_type": "stream",
     "text": [
      "[*********************100%***********************]  1 of 1 completed\n",
      "BIIB testing r2_score: 0.8957069173111213\n",
      "BIIB testing MSE score: 153.7334097462785\n",
      "BIIB : tomorrow's price: [282.85234459]\n",
      "BIIB Success!\n",
      " \n",
      " \n",
      "Analyzing BLK\n"
     ]
    },
    {
     "name": "stderr",
     "output_type": "stream",
     "text": [
      "<ipython-input-452-1cd440387d10>:47: SettingWithCopyWarning: \n",
      "A value is trying to be set on a copy of a slice from a DataFrame.\n",
      "Try using .loc[row_indexer,col_indexer] = value instead\n",
      "\n",
      "See the caveats in the documentation: https://pandas.pydata.org/pandas-docs/stable/user_guide/indexing.html#returning-a-view-versus-a-copy\n",
      "  data_sub['t_minus1_high'] = data_sub['high'].shift(1)\n",
      "<ipython-input-452-1cd440387d10>:48: SettingWithCopyWarning: \n",
      "A value is trying to be set on a copy of a slice from a DataFrame.\n",
      "Try using .loc[row_indexer,col_indexer] = value instead\n",
      "\n",
      "See the caveats in the documentation: https://pandas.pydata.org/pandas-docs/stable/user_guide/indexing.html#returning-a-view-versus-a-copy\n",
      "  data_sub['t_minus1_low'] = data_sub['low'].shift(1)\n"
     ]
    },
    {
     "name": "stdout",
     "output_type": "stream",
     "text": [
      "[*********************100%***********************]  1 of 1 completed\n",
      "BLK testing r2_score: 0.8431464307872141\n",
      "BLK testing MSE score: 151.15834714671593\n",
      "BLK : tomorrow's price: [842.71401014]\n",
      "BLK Success!\n",
      " \n",
      " \n",
      "Analyzing BK\n"
     ]
    },
    {
     "name": "stderr",
     "output_type": "stream",
     "text": [
      "<ipython-input-452-1cd440387d10>:47: SettingWithCopyWarning: \n",
      "A value is trying to be set on a copy of a slice from a DataFrame.\n",
      "Try using .loc[row_indexer,col_indexer] = value instead\n",
      "\n",
      "See the caveats in the documentation: https://pandas.pydata.org/pandas-docs/stable/user_guide/indexing.html#returning-a-view-versus-a-copy\n",
      "  data_sub['t_minus1_high'] = data_sub['high'].shift(1)\n",
      "<ipython-input-452-1cd440387d10>:48: SettingWithCopyWarning: \n",
      "A value is trying to be set on a copy of a slice from a DataFrame.\n",
      "Try using .loc[row_indexer,col_indexer] = value instead\n",
      "\n",
      "See the caveats in the documentation: https://pandas.pydata.org/pandas-docs/stable/user_guide/indexing.html#returning-a-view-versus-a-copy\n",
      "  data_sub['t_minus1_low'] = data_sub['low'].shift(1)\n"
     ]
    },
    {
     "name": "stdout",
     "output_type": "stream",
     "text": [
      "[*********************100%***********************]  1 of 1 completed\n",
      "BK testing r2_score: 0.8378167623468408\n",
      "BK testing MSE score: 0.6091228075444587\n",
      "BK : tomorrow's price: [52.70543354]\n",
      "BK Success!\n",
      " \n",
      " \n",
      "Analyzing BA\n"
     ]
    },
    {
     "name": "stderr",
     "output_type": "stream",
     "text": [
      "<ipython-input-452-1cd440387d10>:47: SettingWithCopyWarning: \n",
      "A value is trying to be set on a copy of a slice from a DataFrame.\n",
      "Try using .loc[row_indexer,col_indexer] = value instead\n",
      "\n",
      "See the caveats in the documentation: https://pandas.pydata.org/pandas-docs/stable/user_guide/indexing.html#returning-a-view-versus-a-copy\n",
      "  data_sub['t_minus1_high'] = data_sub['high'].shift(1)\n",
      "<ipython-input-452-1cd440387d10>:48: SettingWithCopyWarning: \n",
      "A value is trying to be set on a copy of a slice from a DataFrame.\n",
      "Try using .loc[row_indexer,col_indexer] = value instead\n",
      "\n",
      "See the caveats in the documentation: https://pandas.pydata.org/pandas-docs/stable/user_guide/indexing.html#returning-a-view-versus-a-copy\n",
      "  data_sub['t_minus1_low'] = data_sub['low'].shift(1)\n"
     ]
    },
    {
     "name": "stdout",
     "output_type": "stream",
     "text": [
      "[*********************100%***********************]  1 of 1 completed\n",
      "BA testing r2_score: 0.8589331923208431\n",
      "BA testing MSE score: 19.270896194862765\n",
      "BA : tomorrow's price: [225.47543437]\n",
      "BA Success!\n",
      " \n",
      " \n",
      "Analyzing BKNG\n"
     ]
    },
    {
     "name": "stderr",
     "output_type": "stream",
     "text": [
      "<ipython-input-452-1cd440387d10>:47: SettingWithCopyWarning: \n",
      "A value is trying to be set on a copy of a slice from a DataFrame.\n",
      "Try using .loc[row_indexer,col_indexer] = value instead\n",
      "\n",
      "See the caveats in the documentation: https://pandas.pydata.org/pandas-docs/stable/user_guide/indexing.html#returning-a-view-versus-a-copy\n",
      "  data_sub['t_minus1_high'] = data_sub['high'].shift(1)\n",
      "<ipython-input-452-1cd440387d10>:48: SettingWithCopyWarning: \n",
      "A value is trying to be set on a copy of a slice from a DataFrame.\n",
      "Try using .loc[row_indexer,col_indexer] = value instead\n",
      "\n",
      "See the caveats in the documentation: https://pandas.pydata.org/pandas-docs/stable/user_guide/indexing.html#returning-a-view-versus-a-copy\n",
      "  data_sub['t_minus1_low'] = data_sub['low'].shift(1)\n"
     ]
    },
    {
     "name": "stdout",
     "output_type": "stream",
     "text": [
      "[*********************100%***********************]  1 of 1 completed\n",
      "BKNG testing r2_score: 0.8733882958202766\n",
      "BKNG testing MSE score: 1389.7868379318738\n",
      "BKNG : tomorrow's price: [2448.31964942]\n",
      "BKNG Success!\n",
      " \n",
      " \n",
      "Analyzing BWA\n"
     ]
    },
    {
     "name": "stderr",
     "output_type": "stream",
     "text": [
      "<ipython-input-452-1cd440387d10>:47: SettingWithCopyWarning: \n",
      "A value is trying to be set on a copy of a slice from a DataFrame.\n",
      "Try using .loc[row_indexer,col_indexer] = value instead\n",
      "\n",
      "See the caveats in the documentation: https://pandas.pydata.org/pandas-docs/stable/user_guide/indexing.html#returning-a-view-versus-a-copy\n",
      "  data_sub['t_minus1_high'] = data_sub['high'].shift(1)\n",
      "<ipython-input-452-1cd440387d10>:48: SettingWithCopyWarning: \n",
      "A value is trying to be set on a copy of a slice from a DataFrame.\n",
      "Try using .loc[row_indexer,col_indexer] = value instead\n",
      "\n",
      "See the caveats in the documentation: https://pandas.pydata.org/pandas-docs/stable/user_guide/indexing.html#returning-a-view-versus-a-copy\n",
      "  data_sub['t_minus1_low'] = data_sub['low'].shift(1)\n"
     ]
    },
    {
     "name": "stdout",
     "output_type": "stream",
     "text": [
      "[*********************100%***********************]  1 of 1 completed\n",
      "BWA testing r2_score: 0.9292175562750057\n",
      "BWA testing MSE score: 0.8148050034347794\n",
      "BWA : tomorrow's price: [43.80522526]\n",
      "BWA Success!\n",
      " \n",
      " \n",
      "Analyzing BXP\n"
     ]
    },
    {
     "name": "stderr",
     "output_type": "stream",
     "text": [
      "<ipython-input-452-1cd440387d10>:47: SettingWithCopyWarning: \n",
      "A value is trying to be set on a copy of a slice from a DataFrame.\n",
      "Try using .loc[row_indexer,col_indexer] = value instead\n",
      "\n",
      "See the caveats in the documentation: https://pandas.pydata.org/pandas-docs/stable/user_guide/indexing.html#returning-a-view-versus-a-copy\n",
      "  data_sub['t_minus1_high'] = data_sub['high'].shift(1)\n",
      "<ipython-input-452-1cd440387d10>:48: SettingWithCopyWarning: \n",
      "A value is trying to be set on a copy of a slice from a DataFrame.\n",
      "Try using .loc[row_indexer,col_indexer] = value instead\n",
      "\n",
      "See the caveats in the documentation: https://pandas.pydata.org/pandas-docs/stable/user_guide/indexing.html#returning-a-view-versus-a-copy\n",
      "  data_sub['t_minus1_low'] = data_sub['low'].shift(1)\n"
     ]
    },
    {
     "name": "stdout",
     "output_type": "stream",
     "text": [
      "[*********************100%***********************]  1 of 1 completed\n",
      "BXP testing r2_score: 0.7942778446139273\n",
      "BXP testing MSE score: 3.4957593825931745\n",
      "BXP : tomorrow's price: [110.98600256]\n",
      "BXP Success!\n",
      " \n",
      " \n",
      "Analyzing BSX\n"
     ]
    },
    {
     "name": "stderr",
     "output_type": "stream",
     "text": [
      "<ipython-input-452-1cd440387d10>:47: SettingWithCopyWarning: \n",
      "A value is trying to be set on a copy of a slice from a DataFrame.\n",
      "Try using .loc[row_indexer,col_indexer] = value instead\n",
      "\n",
      "See the caveats in the documentation: https://pandas.pydata.org/pandas-docs/stable/user_guide/indexing.html#returning-a-view-versus-a-copy\n",
      "  data_sub['t_minus1_high'] = data_sub['high'].shift(1)\n",
      "<ipython-input-452-1cd440387d10>:48: SettingWithCopyWarning: \n",
      "A value is trying to be set on a copy of a slice from a DataFrame.\n",
      "Try using .loc[row_indexer,col_indexer] = value instead\n",
      "\n",
      "See the caveats in the documentation: https://pandas.pydata.org/pandas-docs/stable/user_guide/indexing.html#returning-a-view-versus-a-copy\n",
      "  data_sub['t_minus1_low'] = data_sub['low'].shift(1)\n"
     ]
    },
    {
     "name": "stdout",
     "output_type": "stream",
     "text": [
      "[*********************100%***********************]  1 of 1 completed\n",
      "BSX testing r2_score: 0.7383341430895931\n",
      "BSX testing MSE score: 0.34875975986874086\n",
      "BSX : tomorrow's price: [43.61035202]\n",
      "BSX Success!\n",
      " \n",
      " \n",
      "Analyzing BMY\n"
     ]
    },
    {
     "name": "stderr",
     "output_type": "stream",
     "text": [
      "<ipython-input-452-1cd440387d10>:47: SettingWithCopyWarning: \n",
      "A value is trying to be set on a copy of a slice from a DataFrame.\n",
      "Try using .loc[row_indexer,col_indexer] = value instead\n",
      "\n",
      "See the caveats in the documentation: https://pandas.pydata.org/pandas-docs/stable/user_guide/indexing.html#returning-a-view-versus-a-copy\n",
      "  data_sub['t_minus1_high'] = data_sub['high'].shift(1)\n",
      "<ipython-input-452-1cd440387d10>:48: SettingWithCopyWarning: \n",
      "A value is trying to be set on a copy of a slice from a DataFrame.\n",
      "Try using .loc[row_indexer,col_indexer] = value instead\n",
      "\n",
      "See the caveats in the documentation: https://pandas.pydata.org/pandas-docs/stable/user_guide/indexing.html#returning-a-view-versus-a-copy\n",
      "  data_sub['t_minus1_low'] = data_sub['low'].shift(1)\n"
     ]
    },
    {
     "name": "stdout",
     "output_type": "stream",
     "text": [
      "[*********************100%***********************]  1 of 1 completed\n",
      "BMY testing r2_score: 0.9480882039236445\n",
      "BMY testing MSE score: 0.5072310317220102\n",
      "BMY : tomorrow's price: [59.25070868]\n",
      "BMY Success!\n",
      " \n",
      " \n",
      "Analyzing AVGO\n"
     ]
    },
    {
     "name": "stderr",
     "output_type": "stream",
     "text": [
      "<ipython-input-452-1cd440387d10>:47: SettingWithCopyWarning: \n",
      "A value is trying to be set on a copy of a slice from a DataFrame.\n",
      "Try using .loc[row_indexer,col_indexer] = value instead\n",
      "\n",
      "See the caveats in the documentation: https://pandas.pydata.org/pandas-docs/stable/user_guide/indexing.html#returning-a-view-versus-a-copy\n",
      "  data_sub['t_minus1_high'] = data_sub['high'].shift(1)\n",
      "<ipython-input-452-1cd440387d10>:48: SettingWithCopyWarning: \n",
      "A value is trying to be set on a copy of a slice from a DataFrame.\n",
      "Try using .loc[row_indexer,col_indexer] = value instead\n",
      "\n",
      "See the caveats in the documentation: https://pandas.pydata.org/pandas-docs/stable/user_guide/indexing.html#returning-a-view-versus-a-copy\n",
      "  data_sub['t_minus1_low'] = data_sub['low'].shift(1)\n"
     ]
    },
    {
     "name": "stdout",
     "output_type": "stream",
     "text": [
      "[*********************100%***********************]  1 of 1 completed\n",
      "AVGO testing r2_score: 0.8806384314709258\n",
      "AVGO testing MSE score: 38.11969880855655\n",
      "AVGO : tomorrow's price: [485.65803527]\n",
      "AVGO Success!\n",
      " \n",
      " \n",
      "Analyzing BR\n"
     ]
    },
    {
     "name": "stderr",
     "output_type": "stream",
     "text": [
      "<ipython-input-452-1cd440387d10>:47: SettingWithCopyWarning: \n",
      "A value is trying to be set on a copy of a slice from a DataFrame.\n",
      "Try using .loc[row_indexer,col_indexer] = value instead\n",
      "\n",
      "See the caveats in the documentation: https://pandas.pydata.org/pandas-docs/stable/user_guide/indexing.html#returning-a-view-versus-a-copy\n",
      "  data_sub['t_minus1_high'] = data_sub['high'].shift(1)\n",
      "<ipython-input-452-1cd440387d10>:48: SettingWithCopyWarning: \n",
      "A value is trying to be set on a copy of a slice from a DataFrame.\n",
      "Try using .loc[row_indexer,col_indexer] = value instead\n",
      "\n",
      "See the caveats in the documentation: https://pandas.pydata.org/pandas-docs/stable/user_guide/indexing.html#returning-a-view-versus-a-copy\n",
      "  data_sub['t_minus1_low'] = data_sub['low'].shift(1)\n"
     ]
    },
    {
     "name": "stdout",
     "output_type": "stream",
     "text": [
      "[*********************100%***********************]  1 of 1 completed\n",
      "BR testing r2_score: 0.8968693301389458\n",
      "BR testing MSE score: 2.9931703475472875\n",
      "BR : tomorrow's price: [165.85793944]\n",
      "BR Success!\n",
      " \n",
      " \n",
      "Analyzing BRO\n"
     ]
    },
    {
     "name": "stderr",
     "output_type": "stream",
     "text": [
      "<ipython-input-452-1cd440387d10>:47: SettingWithCopyWarning: \n",
      "A value is trying to be set on a copy of a slice from a DataFrame.\n",
      "Try using .loc[row_indexer,col_indexer] = value instead\n",
      "\n",
      "See the caveats in the documentation: https://pandas.pydata.org/pandas-docs/stable/user_guide/indexing.html#returning-a-view-versus-a-copy\n",
      "  data_sub['t_minus1_high'] = data_sub['high'].shift(1)\n",
      "<ipython-input-452-1cd440387d10>:48: SettingWithCopyWarning: \n",
      "A value is trying to be set on a copy of a slice from a DataFrame.\n",
      "Try using .loc[row_indexer,col_indexer] = value instead\n",
      "\n",
      "See the caveats in the documentation: https://pandas.pydata.org/pandas-docs/stable/user_guide/indexing.html#returning-a-view-versus-a-copy\n",
      "  data_sub['t_minus1_low'] = data_sub['low'].shift(1)\n"
     ]
    },
    {
     "name": "stdout",
     "output_type": "stream",
     "text": [
      "[*********************100%***********************]  1 of 1 completed\n",
      "BRO testing r2_score: 0.9406764664547332\n",
      "BRO testing MSE score: 0.4074684357905512\n",
      "BRO : tomorrow's price: [56.69494349]\n",
      "BRO Success!\n",
      " \n",
      " \n",
      "Analyzing CHRW\n"
     ]
    },
    {
     "name": "stderr",
     "output_type": "stream",
     "text": [
      "<ipython-input-452-1cd440387d10>:47: SettingWithCopyWarning: \n",
      "A value is trying to be set on a copy of a slice from a DataFrame.\n",
      "Try using .loc[row_indexer,col_indexer] = value instead\n",
      "\n",
      "See the caveats in the documentation: https://pandas.pydata.org/pandas-docs/stable/user_guide/indexing.html#returning-a-view-versus-a-copy\n",
      "  data_sub['t_minus1_high'] = data_sub['high'].shift(1)\n",
      "<ipython-input-452-1cd440387d10>:48: SettingWithCopyWarning: \n",
      "A value is trying to be set on a copy of a slice from a DataFrame.\n",
      "Try using .loc[row_indexer,col_indexer] = value instead\n",
      "\n",
      "See the caveats in the documentation: https://pandas.pydata.org/pandas-docs/stable/user_guide/indexing.html#returning-a-view-versus-a-copy\n",
      "  data_sub['t_minus1_low'] = data_sub['low'].shift(1)\n"
     ]
    },
    {
     "name": "stdout",
     "output_type": "stream",
     "text": [
      "[*********************100%***********************]  1 of 1 completed\n",
      "CHRW testing r2_score: 0.9052853151903016\n",
      "CHRW testing MSE score: 1.4296846773951997\n",
      "CHRW : tomorrow's price: [86.30025115]\n",
      "CHRW Success!\n",
      " \n",
      " \n",
      "Analyzing CDNS\n"
     ]
    },
    {
     "name": "stderr",
     "output_type": "stream",
     "text": [
      "<ipython-input-452-1cd440387d10>:47: SettingWithCopyWarning: \n",
      "A value is trying to be set on a copy of a slice from a DataFrame.\n",
      "Try using .loc[row_indexer,col_indexer] = value instead\n",
      "\n",
      "See the caveats in the documentation: https://pandas.pydata.org/pandas-docs/stable/user_guide/indexing.html#returning-a-view-versus-a-copy\n",
      "  data_sub['t_minus1_high'] = data_sub['high'].shift(1)\n",
      "<ipython-input-452-1cd440387d10>:48: SettingWithCopyWarning: \n",
      "A value is trying to be set on a copy of a slice from a DataFrame.\n",
      "Try using .loc[row_indexer,col_indexer] = value instead\n",
      "\n",
      "See the caveats in the documentation: https://pandas.pydata.org/pandas-docs/stable/user_guide/indexing.html#returning-a-view-versus-a-copy\n",
      "  data_sub['t_minus1_low'] = data_sub['low'].shift(1)\n"
     ]
    },
    {
     "name": "stdout",
     "output_type": "stream",
     "text": [
      "[*********************100%***********************]  1 of 1 completed\n",
      "CDNS testing r2_score: 0.9798700470948442\n",
      "CDNS testing MSE score: 3.999656748826661\n",
      "CDNS : tomorrow's price: [152.97842056]\n",
      "CDNS Success!\n",
      " \n",
      " \n",
      "Analyzing CZR\n"
     ]
    },
    {
     "name": "stderr",
     "output_type": "stream",
     "text": [
      "<ipython-input-452-1cd440387d10>:47: SettingWithCopyWarning: \n",
      "A value is trying to be set on a copy of a slice from a DataFrame.\n",
      "Try using .loc[row_indexer,col_indexer] = value instead\n",
      "\n",
      "See the caveats in the documentation: https://pandas.pydata.org/pandas-docs/stable/user_guide/indexing.html#returning-a-view-versus-a-copy\n",
      "  data_sub['t_minus1_high'] = data_sub['high'].shift(1)\n",
      "<ipython-input-452-1cd440387d10>:48: SettingWithCopyWarning: \n",
      "A value is trying to be set on a copy of a slice from a DataFrame.\n",
      "Try using .loc[row_indexer,col_indexer] = value instead\n",
      "\n",
      "See the caveats in the documentation: https://pandas.pydata.org/pandas-docs/stable/user_guide/indexing.html#returning-a-view-versus-a-copy\n",
      "  data_sub['t_minus1_low'] = data_sub['low'].shift(1)\n"
     ]
    },
    {
     "name": "stdout",
     "output_type": "stream",
     "text": [
      "[*********************100%***********************]  1 of 1 completed\n",
      "CZR testing r2_score: 0.905700615491917\n",
      "CZR testing MSE score: 7.279179552737582\n",
      "CZR : tomorrow's price: [120.07907767]\n",
      "CZR Success!\n",
      " \n",
      " \n",
      "Analyzing CPB\n"
     ]
    },
    {
     "name": "stderr",
     "output_type": "stream",
     "text": [
      "<ipython-input-452-1cd440387d10>:47: SettingWithCopyWarning: \n",
      "A value is trying to be set on a copy of a slice from a DataFrame.\n",
      "Try using .loc[row_indexer,col_indexer] = value instead\n",
      "\n",
      "See the caveats in the documentation: https://pandas.pydata.org/pandas-docs/stable/user_guide/indexing.html#returning-a-view-versus-a-copy\n",
      "  data_sub['t_minus1_high'] = data_sub['high'].shift(1)\n",
      "<ipython-input-452-1cd440387d10>:48: SettingWithCopyWarning: \n",
      "A value is trying to be set on a copy of a slice from a DataFrame.\n",
      "Try using .loc[row_indexer,col_indexer] = value instead\n",
      "\n",
      "See the caveats in the documentation: https://pandas.pydata.org/pandas-docs/stable/user_guide/indexing.html#returning-a-view-versus-a-copy\n",
      "  data_sub['t_minus1_low'] = data_sub['low'].shift(1)\n"
     ]
    },
    {
     "name": "stdout",
     "output_type": "stream",
     "text": [
      "[*********************100%***********************]  1 of 1 completed\n",
      "CPB testing r2_score: 0.9565625938146429\n",
      "CPB testing MSE score: 0.30487651567558127\n",
      "CPB : tomorrow's price: [41.32447201]\n",
      "CPB Success!\n",
      " \n",
      " \n",
      "Analyzing COF\n"
     ]
    },
    {
     "name": "stderr",
     "output_type": "stream",
     "text": [
      "<ipython-input-452-1cd440387d10>:47: SettingWithCopyWarning: \n",
      "A value is trying to be set on a copy of a slice from a DataFrame.\n",
      "Try using .loc[row_indexer,col_indexer] = value instead\n",
      "\n",
      "See the caveats in the documentation: https://pandas.pydata.org/pandas-docs/stable/user_guide/indexing.html#returning-a-view-versus-a-copy\n",
      "  data_sub['t_minus1_high'] = data_sub['high'].shift(1)\n",
      "<ipython-input-452-1cd440387d10>:48: SettingWithCopyWarning: \n",
      "A value is trying to be set on a copy of a slice from a DataFrame.\n",
      "Try using .loc[row_indexer,col_indexer] = value instead\n",
      "\n",
      "See the caveats in the documentation: https://pandas.pydata.org/pandas-docs/stable/user_guide/indexing.html#returning-a-view-versus-a-copy\n",
      "  data_sub['t_minus1_low'] = data_sub['low'].shift(1)\n"
     ]
    },
    {
     "name": "stdout",
     "output_type": "stream",
     "text": [
      "[*********************100%***********************]  1 of 1 completed\n",
      "COF testing r2_score: 0.7550104507566925\n",
      "COF testing MSE score: 9.4615071173297\n",
      "COF : tomorrow's price: [166.35080038]\n",
      "COF Success!\n",
      " \n",
      " \n",
      "Analyzing CAH\n"
     ]
    },
    {
     "name": "stderr",
     "output_type": "stream",
     "text": [
      "<ipython-input-452-1cd440387d10>:47: SettingWithCopyWarning: \n",
      "A value is trying to be set on a copy of a slice from a DataFrame.\n",
      "Try using .loc[row_indexer,col_indexer] = value instead\n",
      "\n",
      "See the caveats in the documentation: https://pandas.pydata.org/pandas-docs/stable/user_guide/indexing.html#returning-a-view-versus-a-copy\n",
      "  data_sub['t_minus1_high'] = data_sub['high'].shift(1)\n",
      "<ipython-input-452-1cd440387d10>:48: SettingWithCopyWarning: \n",
      "A value is trying to be set on a copy of a slice from a DataFrame.\n",
      "Try using .loc[row_indexer,col_indexer] = value instead\n",
      "\n",
      "See the caveats in the documentation: https://pandas.pydata.org/pandas-docs/stable/user_guide/indexing.html#returning-a-view-versus-a-copy\n",
      "  data_sub['t_minus1_low'] = data_sub['low'].shift(1)\n"
     ]
    },
    {
     "name": "stdout",
     "output_type": "stream",
     "text": [
      "[*********************100%***********************]  1 of 1 completed\n",
      "CAH testing r2_score: 0.89868644236178\n",
      "CAH testing MSE score: 1.2521965849655121\n",
      "CAH : tomorrow's price: [49.84466262]\n",
      "CAH Success!\n",
      " \n",
      " \n",
      "Analyzing KMX\n"
     ]
    },
    {
     "name": "stderr",
     "output_type": "stream",
     "text": [
      "<ipython-input-452-1cd440387d10>:47: SettingWithCopyWarning: \n",
      "A value is trying to be set on a copy of a slice from a DataFrame.\n",
      "Try using .loc[row_indexer,col_indexer] = value instead\n",
      "\n",
      "See the caveats in the documentation: https://pandas.pydata.org/pandas-docs/stable/user_guide/indexing.html#returning-a-view-versus-a-copy\n",
      "  data_sub['t_minus1_high'] = data_sub['high'].shift(1)\n",
      "<ipython-input-452-1cd440387d10>:48: SettingWithCopyWarning: \n",
      "A value is trying to be set on a copy of a slice from a DataFrame.\n",
      "Try using .loc[row_indexer,col_indexer] = value instead\n",
      "\n",
      "See the caveats in the documentation: https://pandas.pydata.org/pandas-docs/stable/user_guide/indexing.html#returning-a-view-versus-a-copy\n",
      "  data_sub['t_minus1_low'] = data_sub['low'].shift(1)\n"
     ]
    },
    {
     "name": "stdout",
     "output_type": "stream",
     "text": [
      "[*********************100%***********************]  1 of 1 completed\n",
      "KMX testing r2_score: 0.8777270389029486\n",
      "KMX testing MSE score: 8.419569080705608\n",
      "KMX : tomorrow's price: [126.07541794]\n",
      "KMX Success!\n",
      " \n",
      " \n",
      "Analyzing CCL\n"
     ]
    },
    {
     "name": "stderr",
     "output_type": "stream",
     "text": [
      "<ipython-input-452-1cd440387d10>:47: SettingWithCopyWarning: \n",
      "A value is trying to be set on a copy of a slice from a DataFrame.\n",
      "Try using .loc[row_indexer,col_indexer] = value instead\n",
      "\n",
      "See the caveats in the documentation: https://pandas.pydata.org/pandas-docs/stable/user_guide/indexing.html#returning-a-view-versus-a-copy\n",
      "  data_sub['t_minus1_high'] = data_sub['high'].shift(1)\n",
      "<ipython-input-452-1cd440387d10>:48: SettingWithCopyWarning: \n",
      "A value is trying to be set on a copy of a slice from a DataFrame.\n",
      "Try using .loc[row_indexer,col_indexer] = value instead\n",
      "\n",
      "See the caveats in the documentation: https://pandas.pydata.org/pandas-docs/stable/user_guide/indexing.html#returning-a-view-versus-a-copy\n",
      "  data_sub['t_minus1_low'] = data_sub['low'].shift(1)\n"
     ]
    },
    {
     "name": "stdout",
     "output_type": "stream",
     "text": [
      "[*********************100%***********************]  1 of 1 completed\n",
      "CCL testing r2_score: 0.9260716082232503\n",
      "CCL testing MSE score: 0.5412265903426053\n",
      "CCL : tomorrow's price: [26.25548033]\n",
      "CCL Success!\n",
      " \n",
      " \n",
      "Analyzing CTLT\n"
     ]
    },
    {
     "name": "stderr",
     "output_type": "stream",
     "text": [
      "<ipython-input-452-1cd440387d10>:47: SettingWithCopyWarning: \n",
      "A value is trying to be set on a copy of a slice from a DataFrame.\n",
      "Try using .loc[row_indexer,col_indexer] = value instead\n",
      "\n",
      "See the caveats in the documentation: https://pandas.pydata.org/pandas-docs/stable/user_guide/indexing.html#returning-a-view-versus-a-copy\n",
      "  data_sub['t_minus1_high'] = data_sub['high'].shift(1)\n",
      "<ipython-input-452-1cd440387d10>:48: SettingWithCopyWarning: \n",
      "A value is trying to be set on a copy of a slice from a DataFrame.\n",
      "Try using .loc[row_indexer,col_indexer] = value instead\n",
      "\n",
      "See the caveats in the documentation: https://pandas.pydata.org/pandas-docs/stable/user_guide/indexing.html#returning-a-view-versus-a-copy\n",
      "  data_sub['t_minus1_low'] = data_sub['low'].shift(1)\n"
     ]
    },
    {
     "name": "stdout",
     "output_type": "stream",
     "text": [
      "[*********************100%***********************]  1 of 1 completed\n",
      "CTLT testing r2_score: 0.9771575022502873\n",
      "CTLT testing MSE score: 3.536054077095322\n",
      "CTLT : tomorrow's price: [132.87608067]\n",
      "CTLT Success!\n",
      " \n",
      " \n",
      "Analyzing CAT\n"
     ]
    },
    {
     "name": "stderr",
     "output_type": "stream",
     "text": [
      "<ipython-input-452-1cd440387d10>:47: SettingWithCopyWarning: \n",
      "A value is trying to be set on a copy of a slice from a DataFrame.\n",
      "Try using .loc[row_indexer,col_indexer] = value instead\n",
      "\n",
      "See the caveats in the documentation: https://pandas.pydata.org/pandas-docs/stable/user_guide/indexing.html#returning-a-view-versus-a-copy\n",
      "  data_sub['t_minus1_high'] = data_sub['high'].shift(1)\n",
      "<ipython-input-452-1cd440387d10>:48: SettingWithCopyWarning: \n",
      "A value is trying to be set on a copy of a slice from a DataFrame.\n",
      "Try using .loc[row_indexer,col_indexer] = value instead\n",
      "\n",
      "See the caveats in the documentation: https://pandas.pydata.org/pandas-docs/stable/user_guide/indexing.html#returning-a-view-versus-a-copy\n",
      "  data_sub['t_minus1_low'] = data_sub['low'].shift(1)\n"
     ]
    },
    {
     "name": "stdout",
     "output_type": "stream",
     "text": [
      "[*********************100%***********************]  1 of 1 completed\n",
      "CAT testing r2_score: 0.9514864000746214\n",
      "CAT testing MSE score: 11.41622590172231\n",
      "CAT : tomorrow's price: [194.17947635]\n",
      "CAT Success!\n",
      " \n",
      " \n",
      "Analyzing CBOE\n"
     ]
    },
    {
     "name": "stderr",
     "output_type": "stream",
     "text": [
      "<ipython-input-452-1cd440387d10>:47: SettingWithCopyWarning: \n",
      "A value is trying to be set on a copy of a slice from a DataFrame.\n",
      "Try using .loc[row_indexer,col_indexer] = value instead\n",
      "\n",
      "See the caveats in the documentation: https://pandas.pydata.org/pandas-docs/stable/user_guide/indexing.html#returning-a-view-versus-a-copy\n",
      "  data_sub['t_minus1_high'] = data_sub['high'].shift(1)\n",
      "<ipython-input-452-1cd440387d10>:48: SettingWithCopyWarning: \n",
      "A value is trying to be set on a copy of a slice from a DataFrame.\n",
      "Try using .loc[row_indexer,col_indexer] = value instead\n",
      "\n",
      "See the caveats in the documentation: https://pandas.pydata.org/pandas-docs/stable/user_guide/indexing.html#returning-a-view-versus-a-copy\n",
      "  data_sub['t_minus1_low'] = data_sub['low'].shift(1)\n"
     ]
    },
    {
     "name": "stdout",
     "output_type": "stream",
     "text": [
      "[*********************100%***********************]  1 of 1 completed\n",
      "CBOE testing r2_score: 0.8855910958181753\n",
      "CBOE testing MSE score: 4.23378428834658\n",
      "CBOE : tomorrow's price: [123.06797218]\n",
      "CBOE Success!\n",
      " \n",
      " \n",
      "Analyzing CBRE\n"
     ]
    },
    {
     "name": "stderr",
     "output_type": "stream",
     "text": [
      "<ipython-input-452-1cd440387d10>:47: SettingWithCopyWarning: \n",
      "A value is trying to be set on a copy of a slice from a DataFrame.\n",
      "Try using .loc[row_indexer,col_indexer] = value instead\n",
      "\n",
      "See the caveats in the documentation: https://pandas.pydata.org/pandas-docs/stable/user_guide/indexing.html#returning-a-view-versus-a-copy\n",
      "  data_sub['t_minus1_high'] = data_sub['high'].shift(1)\n",
      "<ipython-input-452-1cd440387d10>:48: SettingWithCopyWarning: \n",
      "A value is trying to be set on a copy of a slice from a DataFrame.\n",
      "Try using .loc[row_indexer,col_indexer] = value instead\n",
      "\n",
      "See the caveats in the documentation: https://pandas.pydata.org/pandas-docs/stable/user_guide/indexing.html#returning-a-view-versus-a-copy\n",
      "  data_sub['t_minus1_low'] = data_sub['low'].shift(1)\n"
     ]
    },
    {
     "name": "stdout",
     "output_type": "stream",
     "text": [
      "[*********************100%***********************]  1 of 1 completed\n",
      "CBRE testing r2_score: 0.9371144213979921\n",
      "CBRE testing MSE score: 1.7406562779928527\n",
      "CBRE : tomorrow's price: [100.39703535]\n",
      "CBRE Success!\n",
      " \n",
      " \n",
      "Analyzing CDW\n"
     ]
    },
    {
     "name": "stderr",
     "output_type": "stream",
     "text": [
      "<ipython-input-452-1cd440387d10>:47: SettingWithCopyWarning: \n",
      "A value is trying to be set on a copy of a slice from a DataFrame.\n",
      "Try using .loc[row_indexer,col_indexer] = value instead\n",
      "\n",
      "See the caveats in the documentation: https://pandas.pydata.org/pandas-docs/stable/user_guide/indexing.html#returning-a-view-versus-a-copy\n",
      "  data_sub['t_minus1_high'] = data_sub['high'].shift(1)\n",
      "<ipython-input-452-1cd440387d10>:48: SettingWithCopyWarning: \n",
      "A value is trying to be set on a copy of a slice from a DataFrame.\n",
      "Try using .loc[row_indexer,col_indexer] = value instead\n",
      "\n",
      "See the caveats in the documentation: https://pandas.pydata.org/pandas-docs/stable/user_guide/indexing.html#returning-a-view-versus-a-copy\n",
      "  data_sub['t_minus1_low'] = data_sub['low'].shift(1)\n"
     ]
    },
    {
     "name": "stdout",
     "output_type": "stream",
     "text": [
      "[*********************100%***********************]  1 of 1 completed\n",
      "CDW testing r2_score: 0.957766977870351\n",
      "CDW testing MSE score: 5.666641393630674\n",
      "CDW : tomorrow's price: [185.15470778]\n",
      "CDW Success!\n",
      " \n",
      " \n",
      "Analyzing CE\n"
     ]
    },
    {
     "name": "stderr",
     "output_type": "stream",
     "text": [
      "<ipython-input-452-1cd440387d10>:47: SettingWithCopyWarning: \n",
      "A value is trying to be set on a copy of a slice from a DataFrame.\n",
      "Try using .loc[row_indexer,col_indexer] = value instead\n",
      "\n",
      "See the caveats in the documentation: https://pandas.pydata.org/pandas-docs/stable/user_guide/indexing.html#returning-a-view-versus-a-copy\n",
      "  data_sub['t_minus1_high'] = data_sub['high'].shift(1)\n",
      "<ipython-input-452-1cd440387d10>:48: SettingWithCopyWarning: \n",
      "A value is trying to be set on a copy of a slice from a DataFrame.\n",
      "Try using .loc[row_indexer,col_indexer] = value instead\n",
      "\n",
      "See the caveats in the documentation: https://pandas.pydata.org/pandas-docs/stable/user_guide/indexing.html#returning-a-view-versus-a-copy\n",
      "  data_sub['t_minus1_low'] = data_sub['low'].shift(1)\n"
     ]
    },
    {
     "name": "stdout",
     "output_type": "stream",
     "text": [
      "[*********************100%***********************]  1 of 1 completed\n",
      "CE testing r2_score: 0.8555958452173289\n",
      "CE testing MSE score: 5.554650417500141\n",
      "CE : tomorrow's price: [153.23327973]\n",
      "CE Success!\n",
      " \n",
      " \n",
      "Analyzing CNC\n"
     ]
    },
    {
     "name": "stderr",
     "output_type": "stream",
     "text": [
      "<ipython-input-452-1cd440387d10>:47: SettingWithCopyWarning: \n",
      "A value is trying to be set on a copy of a slice from a DataFrame.\n",
      "Try using .loc[row_indexer,col_indexer] = value instead\n",
      "\n",
      "See the caveats in the documentation: https://pandas.pydata.org/pandas-docs/stable/user_guide/indexing.html#returning-a-view-versus-a-copy\n",
      "  data_sub['t_minus1_high'] = data_sub['high'].shift(1)\n",
      "<ipython-input-452-1cd440387d10>:48: SettingWithCopyWarning: \n",
      "A value is trying to be set on a copy of a slice from a DataFrame.\n",
      "Try using .loc[row_indexer,col_indexer] = value instead\n",
      "\n",
      "See the caveats in the documentation: https://pandas.pydata.org/pandas-docs/stable/user_guide/indexing.html#returning-a-view-versus-a-copy\n",
      "  data_sub['t_minus1_low'] = data_sub['low'].shift(1)\n"
     ]
    },
    {
     "name": "stdout",
     "output_type": "stream",
     "text": [
      "[*********************100%***********************]  1 of 1 completed\n",
      "CNC testing r2_score: 0.931863927494463\n",
      "CNC testing MSE score: 1.405843050723572\n",
      "CNC : tomorrow's price: [62.79208149]\n",
      "CNC Success!\n",
      " \n",
      " \n",
      "Analyzing CNP\n"
     ]
    },
    {
     "name": "stderr",
     "output_type": "stream",
     "text": [
      "<ipython-input-452-1cd440387d10>:47: SettingWithCopyWarning: \n",
      "A value is trying to be set on a copy of a slice from a DataFrame.\n",
      "Try using .loc[row_indexer,col_indexer] = value instead\n",
      "\n",
      "See the caveats in the documentation: https://pandas.pydata.org/pandas-docs/stable/user_guide/indexing.html#returning-a-view-versus-a-copy\n",
      "  data_sub['t_minus1_high'] = data_sub['high'].shift(1)\n",
      "<ipython-input-452-1cd440387d10>:48: SettingWithCopyWarning: \n",
      "A value is trying to be set on a copy of a slice from a DataFrame.\n",
      "Try using .loc[row_indexer,col_indexer] = value instead\n",
      "\n",
      "See the caveats in the documentation: https://pandas.pydata.org/pandas-docs/stable/user_guide/indexing.html#returning-a-view-versus-a-copy\n",
      "  data_sub['t_minus1_low'] = data_sub['low'].shift(1)\n"
     ]
    },
    {
     "name": "stdout",
     "output_type": "stream",
     "text": [
      "[*********************100%***********************]  1 of 1 completed\n",
      "CNP testing r2_score: 0.7510826185981038\n",
      "CNP testing MSE score: 0.1170181709182779\n",
      "CNP : tomorrow's price: [24.93896404]\n",
      "CNP Success!\n",
      " \n",
      " \n",
      "Analyzing CDAY\n"
     ]
    },
    {
     "name": "stderr",
     "output_type": "stream",
     "text": [
      "<ipython-input-452-1cd440387d10>:47: SettingWithCopyWarning: \n",
      "A value is trying to be set on a copy of a slice from a DataFrame.\n",
      "Try using .loc[row_indexer,col_indexer] = value instead\n",
      "\n",
      "See the caveats in the documentation: https://pandas.pydata.org/pandas-docs/stable/user_guide/indexing.html#returning-a-view-versus-a-copy\n",
      "  data_sub['t_minus1_high'] = data_sub['high'].shift(1)\n",
      "<ipython-input-452-1cd440387d10>:48: SettingWithCopyWarning: \n",
      "A value is trying to be set on a copy of a slice from a DataFrame.\n",
      "Try using .loc[row_indexer,col_indexer] = value instead\n",
      "\n",
      "See the caveats in the documentation: https://pandas.pydata.org/pandas-docs/stable/user_guide/indexing.html#returning-a-view-versus-a-copy\n",
      "  data_sub['t_minus1_low'] = data_sub['low'].shift(1)\n"
     ]
    },
    {
     "name": "stdout",
     "output_type": "stream",
     "text": [
      "[*********************100%***********************]  1 of 1 completed\n",
      "CDAY testing r2_score: 0.971918016485425\n",
      "CDAY testing MSE score: 3.057641141058997\n",
      "CDAY : tomorrow's price: [114.72427658]\n",
      "CDAY Success!\n",
      " \n",
      " \n",
      "Analyzing CERN\n"
     ]
    },
    {
     "name": "stderr",
     "output_type": "stream",
     "text": [
      "<ipython-input-452-1cd440387d10>:47: SettingWithCopyWarning: \n",
      "A value is trying to be set on a copy of a slice from a DataFrame.\n",
      "Try using .loc[row_indexer,col_indexer] = value instead\n",
      "\n",
      "See the caveats in the documentation: https://pandas.pydata.org/pandas-docs/stable/user_guide/indexing.html#returning-a-view-versus-a-copy\n",
      "  data_sub['t_minus1_high'] = data_sub['high'].shift(1)\n",
      "<ipython-input-452-1cd440387d10>:48: SettingWithCopyWarning: \n",
      "A value is trying to be set on a copy of a slice from a DataFrame.\n",
      "Try using .loc[row_indexer,col_indexer] = value instead\n",
      "\n",
      "See the caveats in the documentation: https://pandas.pydata.org/pandas-docs/stable/user_guide/indexing.html#returning-a-view-versus-a-copy\n",
      "  data_sub['t_minus1_low'] = data_sub['low'].shift(1)\n"
     ]
    },
    {
     "name": "stdout",
     "output_type": "stream",
     "text": [
      "[*********************100%***********************]  1 of 1 completed\n",
      "CERN testing r2_score: 0.9418118094440661\n",
      "CERN testing MSE score: 0.5302908986553783\n",
      "CERN : tomorrow's price: [70.49259059]\n",
      "CERN Success!\n",
      " \n",
      " \n",
      "Analyzing CF\n"
     ]
    },
    {
     "name": "stderr",
     "output_type": "stream",
     "text": [
      "<ipython-input-452-1cd440387d10>:47: SettingWithCopyWarning: \n",
      "A value is trying to be set on a copy of a slice from a DataFrame.\n",
      "Try using .loc[row_indexer,col_indexer] = value instead\n",
      "\n",
      "See the caveats in the documentation: https://pandas.pydata.org/pandas-docs/stable/user_guide/indexing.html#returning-a-view-versus-a-copy\n",
      "  data_sub['t_minus1_high'] = data_sub['high'].shift(1)\n",
      "<ipython-input-452-1cd440387d10>:48: SettingWithCopyWarning: \n",
      "A value is trying to be set on a copy of a slice from a DataFrame.\n",
      "Try using .loc[row_indexer,col_indexer] = value instead\n",
      "\n",
      "See the caveats in the documentation: https://pandas.pydata.org/pandas-docs/stable/user_guide/indexing.html#returning-a-view-versus-a-copy\n",
      "  data_sub['t_minus1_low'] = data_sub['low'].shift(1)\n"
     ]
    },
    {
     "name": "stdout",
     "output_type": "stream",
     "text": [
      "[*********************100%***********************]  1 of 1 completed\n",
      "CF testing r2_score: 0.9324970830048421\n",
      "CF testing MSE score: 1.3994604392759222\n",
      "CF : tomorrow's price: [61.3499378]\n",
      "CF Success!\n",
      " \n",
      " \n",
      "Analyzing CRL\n"
     ]
    },
    {
     "name": "stderr",
     "output_type": "stream",
     "text": [
      "<ipython-input-452-1cd440387d10>:47: SettingWithCopyWarning: \n",
      "A value is trying to be set on a copy of a slice from a DataFrame.\n",
      "Try using .loc[row_indexer,col_indexer] = value instead\n",
      "\n",
      "See the caveats in the documentation: https://pandas.pydata.org/pandas-docs/stable/user_guide/indexing.html#returning-a-view-versus-a-copy\n",
      "  data_sub['t_minus1_high'] = data_sub['high'].shift(1)\n",
      "<ipython-input-452-1cd440387d10>:48: SettingWithCopyWarning: \n",
      "A value is trying to be set on a copy of a slice from a DataFrame.\n",
      "Try using .loc[row_indexer,col_indexer] = value instead\n",
      "\n",
      "See the caveats in the documentation: https://pandas.pydata.org/pandas-docs/stable/user_guide/indexing.html#returning-a-view-versus-a-copy\n",
      "  data_sub['t_minus1_low'] = data_sub['low'].shift(1)\n"
     ]
    },
    {
     "name": "stdout",
     "output_type": "stream",
     "text": [
      "[*********************100%***********************]  1 of 1 completed\n",
      "CRL testing r2_score: 0.9790031323310734\n",
      "CRL testing MSE score: 34.730469733400156\n",
      "CRL : tomorrow's price: [414.62736348]\n",
      "CRL Success!\n",
      " \n",
      " \n",
      "Analyzing SCHW\n"
     ]
    },
    {
     "name": "stderr",
     "output_type": "stream",
     "text": [
      "<ipython-input-452-1cd440387d10>:47: SettingWithCopyWarning: \n",
      "A value is trying to be set on a copy of a slice from a DataFrame.\n",
      "Try using .loc[row_indexer,col_indexer] = value instead\n",
      "\n",
      "See the caveats in the documentation: https://pandas.pydata.org/pandas-docs/stable/user_guide/indexing.html#returning-a-view-versus-a-copy\n",
      "  data_sub['t_minus1_high'] = data_sub['high'].shift(1)\n",
      "<ipython-input-452-1cd440387d10>:48: SettingWithCopyWarning: \n",
      "A value is trying to be set on a copy of a slice from a DataFrame.\n",
      "Try using .loc[row_indexer,col_indexer] = value instead\n",
      "\n",
      "See the caveats in the documentation: https://pandas.pydata.org/pandas-docs/stable/user_guide/indexing.html#returning-a-view-versus-a-copy\n",
      "  data_sub['t_minus1_low'] = data_sub['low'].shift(1)\n"
     ]
    },
    {
     "name": "stdout",
     "output_type": "stream",
     "text": [
      "[*********************100%***********************]  1 of 1 completed\n",
      "SCHW testing r2_score: 0.7150698934346114\n",
      "SCHW testing MSE score: 1.8508340730028687\n",
      "SCHW : tomorrow's price: [74.29480328]\n",
      "SCHW Success!\n",
      " \n",
      " \n",
      "Analyzing CHTR\n"
     ]
    },
    {
     "name": "stderr",
     "output_type": "stream",
     "text": [
      "<ipython-input-452-1cd440387d10>:47: SettingWithCopyWarning: \n",
      "A value is trying to be set on a copy of a slice from a DataFrame.\n",
      "Try using .loc[row_indexer,col_indexer] = value instead\n",
      "\n",
      "See the caveats in the documentation: https://pandas.pydata.org/pandas-docs/stable/user_guide/indexing.html#returning-a-view-versus-a-copy\n",
      "  data_sub['t_minus1_high'] = data_sub['high'].shift(1)\n",
      "<ipython-input-452-1cd440387d10>:48: SettingWithCopyWarning: \n",
      "A value is trying to be set on a copy of a slice from a DataFrame.\n",
      "Try using .loc[row_indexer,col_indexer] = value instead\n",
      "\n",
      "See the caveats in the documentation: https://pandas.pydata.org/pandas-docs/stable/user_guide/indexing.html#returning-a-view-versus-a-copy\n",
      "  data_sub['t_minus1_low'] = data_sub['low'].shift(1)\n"
     ]
    },
    {
     "name": "stdout",
     "output_type": "stream",
     "text": [
      "[*********************100%***********************]  1 of 1 completed\n",
      "CHTR testing r2_score: 0.9480150639335592\n",
      "CHTR testing MSE score: 90.72802979090542\n",
      "CHTR : tomorrow's price: [736.62724151]\n",
      "CHTR Success!\n",
      " \n",
      " \n",
      "Analyzing CVX\n"
     ]
    },
    {
     "name": "stderr",
     "output_type": "stream",
     "text": [
      "<ipython-input-452-1cd440387d10>:47: SettingWithCopyWarning: \n",
      "A value is trying to be set on a copy of a slice from a DataFrame.\n",
      "Try using .loc[row_indexer,col_indexer] = value instead\n",
      "\n",
      "See the caveats in the documentation: https://pandas.pydata.org/pandas-docs/stable/user_guide/indexing.html#returning-a-view-versus-a-copy\n",
      "  data_sub['t_minus1_high'] = data_sub['high'].shift(1)\n",
      "<ipython-input-452-1cd440387d10>:48: SettingWithCopyWarning: \n",
      "A value is trying to be set on a copy of a slice from a DataFrame.\n",
      "Try using .loc[row_indexer,col_indexer] = value instead\n",
      "\n",
      "See the caveats in the documentation: https://pandas.pydata.org/pandas-docs/stable/user_guide/indexing.html#returning-a-view-versus-a-copy\n",
      "  data_sub['t_minus1_low'] = data_sub['low'].shift(1)\n"
     ]
    },
    {
     "name": "stdout",
     "output_type": "stream",
     "text": [
      "[*********************100%***********************]  1 of 1 completed\n",
      "CVX testing r2_score: 0.848313678118575\n",
      "CVX testing MSE score: 2.816134228836986\n",
      "CVX : tomorrow's price: [103.70589188]\n",
      "CVX Success!\n",
      " \n",
      " \n",
      "Analyzing CMG\n"
     ]
    },
    {
     "name": "stderr",
     "output_type": "stream",
     "text": [
      "<ipython-input-452-1cd440387d10>:47: SettingWithCopyWarning: \n",
      "A value is trying to be set on a copy of a slice from a DataFrame.\n",
      "Try using .loc[row_indexer,col_indexer] = value instead\n",
      "\n",
      "See the caveats in the documentation: https://pandas.pydata.org/pandas-docs/stable/user_guide/indexing.html#returning-a-view-versus-a-copy\n",
      "  data_sub['t_minus1_high'] = data_sub['high'].shift(1)\n",
      "<ipython-input-452-1cd440387d10>:48: SettingWithCopyWarning: \n",
      "A value is trying to be set on a copy of a slice from a DataFrame.\n",
      "Try using .loc[row_indexer,col_indexer] = value instead\n",
      "\n",
      "See the caveats in the documentation: https://pandas.pydata.org/pandas-docs/stable/user_guide/indexing.html#returning-a-view-versus-a-copy\n",
      "  data_sub['t_minus1_low'] = data_sub['low'].shift(1)\n"
     ]
    },
    {
     "name": "stdout",
     "output_type": "stream",
     "text": [
      "[*********************100%***********************]  1 of 1 completed\n",
      "CMG testing r2_score: 0.986558463349147\n",
      "CMG testing MSE score: 706.1334738838783\n",
      "CMG : tomorrow's price: [1830.94785604]\n",
      "CMG Success!\n",
      " \n",
      " \n",
      "Analyzing CB\n"
     ]
    },
    {
     "name": "stderr",
     "output_type": "stream",
     "text": [
      "<ipython-input-452-1cd440387d10>:47: SettingWithCopyWarning: \n",
      "A value is trying to be set on a copy of a slice from a DataFrame.\n",
      "Try using .loc[row_indexer,col_indexer] = value instead\n",
      "\n",
      "See the caveats in the documentation: https://pandas.pydata.org/pandas-docs/stable/user_guide/indexing.html#returning-a-view-versus-a-copy\n",
      "  data_sub['t_minus1_high'] = data_sub['high'].shift(1)\n",
      "<ipython-input-452-1cd440387d10>:48: SettingWithCopyWarning: \n",
      "A value is trying to be set on a copy of a slice from a DataFrame.\n",
      "Try using .loc[row_indexer,col_indexer] = value instead\n",
      "\n",
      "See the caveats in the documentation: https://pandas.pydata.org/pandas-docs/stable/user_guide/indexing.html#returning-a-view-versus-a-copy\n",
      "  data_sub['t_minus1_low'] = data_sub['low'].shift(1)\n"
     ]
    },
    {
     "name": "stdout",
     "output_type": "stream",
     "text": [
      "[*********************100%***********************]  1 of 1 completed\n",
      "CB testing r2_score: 0.906546970104456\n",
      "CB testing MSE score: 6.244866779632021\n",
      "CB : tomorrow's price: [175.10193418]\n",
      "CB Success!\n",
      " \n",
      " \n",
      "Analyzing CHD\n"
     ]
    },
    {
     "name": "stderr",
     "output_type": "stream",
     "text": [
      "<ipython-input-452-1cd440387d10>:47: SettingWithCopyWarning: \n",
      "A value is trying to be set on a copy of a slice from a DataFrame.\n",
      "Try using .loc[row_indexer,col_indexer] = value instead\n",
      "\n",
      "See the caveats in the documentation: https://pandas.pydata.org/pandas-docs/stable/user_guide/indexing.html#returning-a-view-versus-a-copy\n",
      "  data_sub['t_minus1_high'] = data_sub['high'].shift(1)\n",
      "<ipython-input-452-1cd440387d10>:48: SettingWithCopyWarning: \n",
      "A value is trying to be set on a copy of a slice from a DataFrame.\n",
      "Try using .loc[row_indexer,col_indexer] = value instead\n",
      "\n",
      "See the caveats in the documentation: https://pandas.pydata.org/pandas-docs/stable/user_guide/indexing.html#returning-a-view-versus-a-copy\n",
      "  data_sub['t_minus1_low'] = data_sub['low'].shift(1)\n"
     ]
    },
    {
     "name": "stdout",
     "output_type": "stream",
     "text": [
      "[*********************100%***********************]  1 of 1 completed\n",
      "CHD testing r2_score: 0.8111818052834576\n",
      "CHD testing MSE score: 0.6102277115076044\n",
      "CHD : tomorrow's price: [82.04240076]\n",
      "CHD Success!\n",
      " \n",
      " \n",
      "Analyzing CI\n"
     ]
    },
    {
     "name": "stderr",
     "output_type": "stream",
     "text": [
      "<ipython-input-452-1cd440387d10>:47: SettingWithCopyWarning: \n",
      "A value is trying to be set on a copy of a slice from a DataFrame.\n",
      "Try using .loc[row_indexer,col_indexer] = value instead\n",
      "\n",
      "See the caveats in the documentation: https://pandas.pydata.org/pandas-docs/stable/user_guide/indexing.html#returning-a-view-versus-a-copy\n",
      "  data_sub['t_minus1_high'] = data_sub['high'].shift(1)\n",
      "<ipython-input-452-1cd440387d10>:48: SettingWithCopyWarning: \n",
      "A value is trying to be set on a copy of a slice from a DataFrame.\n",
      "Try using .loc[row_indexer,col_indexer] = value instead\n",
      "\n",
      "See the caveats in the documentation: https://pandas.pydata.org/pandas-docs/stable/user_guide/indexing.html#returning-a-view-versus-a-copy\n",
      "  data_sub['t_minus1_low'] = data_sub['low'].shift(1)\n"
     ]
    },
    {
     "name": "stdout",
     "output_type": "stream",
     "text": [
      "[*********************100%***********************]  1 of 1 completed\n",
      "CI testing r2_score: 0.9687461401759242\n",
      "CI testing MSE score: 13.626738332856364\n",
      "CI : tomorrow's price: [202.17160208]\n",
      "CI Success!\n",
      " \n",
      " \n",
      "Analyzing CINF\n"
     ]
    },
    {
     "name": "stderr",
     "output_type": "stream",
     "text": [
      "<ipython-input-452-1cd440387d10>:47: SettingWithCopyWarning: \n",
      "A value is trying to be set on a copy of a slice from a DataFrame.\n",
      "Try using .loc[row_indexer,col_indexer] = value instead\n",
      "\n",
      "See the caveats in the documentation: https://pandas.pydata.org/pandas-docs/stable/user_guide/indexing.html#returning-a-view-versus-a-copy\n",
      "  data_sub['t_minus1_high'] = data_sub['high'].shift(1)\n",
      "<ipython-input-452-1cd440387d10>:48: SettingWithCopyWarning: \n",
      "A value is trying to be set on a copy of a slice from a DataFrame.\n",
      "Try using .loc[row_indexer,col_indexer] = value instead\n",
      "\n",
      "See the caveats in the documentation: https://pandas.pydata.org/pandas-docs/stable/user_guide/indexing.html#returning-a-view-versus-a-copy\n",
      "  data_sub['t_minus1_low'] = data_sub['low'].shift(1)\n"
     ]
    },
    {
     "name": "stdout",
     "output_type": "stream",
     "text": [
      "[*********************100%***********************]  1 of 1 completed\n",
      "CINF testing r2_score: 0.6145357750745579\n",
      "CINF testing MSE score: 3.155586877094506\n",
      "CINF : tomorrow's price: [114.55861258]\n",
      "CINF Success!\n",
      " \n",
      " \n",
      "Analyzing CTAS\n"
     ]
    },
    {
     "name": "stderr",
     "output_type": "stream",
     "text": [
      "<ipython-input-452-1cd440387d10>:47: SettingWithCopyWarning: \n",
      "A value is trying to be set on a copy of a slice from a DataFrame.\n",
      "Try using .loc[row_indexer,col_indexer] = value instead\n",
      "\n",
      "See the caveats in the documentation: https://pandas.pydata.org/pandas-docs/stable/user_guide/indexing.html#returning-a-view-versus-a-copy\n",
      "  data_sub['t_minus1_high'] = data_sub['high'].shift(1)\n",
      "<ipython-input-452-1cd440387d10>:48: SettingWithCopyWarning: \n",
      "A value is trying to be set on a copy of a slice from a DataFrame.\n",
      "Try using .loc[row_indexer,col_indexer] = value instead\n",
      "\n",
      "See the caveats in the documentation: https://pandas.pydata.org/pandas-docs/stable/user_guide/indexing.html#returning-a-view-versus-a-copy\n",
      "  data_sub['t_minus1_low'] = data_sub['low'].shift(1)\n"
     ]
    },
    {
     "name": "stdout",
     "output_type": "stream",
     "text": [
      "[*********************100%***********************]  1 of 1 completed\n",
      "CTAS testing r2_score: 0.9377446668031657\n",
      "CTAS testing MSE score: 23.182173918797695\n",
      "CTAS : tomorrow's price: [385.15007575]\n",
      "CTAS Success!\n",
      " \n",
      " \n",
      "Analyzing CSCO\n"
     ]
    },
    {
     "name": "stderr",
     "output_type": "stream",
     "text": [
      "<ipython-input-452-1cd440387d10>:47: SettingWithCopyWarning: \n",
      "A value is trying to be set on a copy of a slice from a DataFrame.\n",
      "Try using .loc[row_indexer,col_indexer] = value instead\n",
      "\n",
      "See the caveats in the documentation: https://pandas.pydata.org/pandas-docs/stable/user_guide/indexing.html#returning-a-view-versus-a-copy\n",
      "  data_sub['t_minus1_high'] = data_sub['high'].shift(1)\n",
      "<ipython-input-452-1cd440387d10>:48: SettingWithCopyWarning: \n",
      "A value is trying to be set on a copy of a slice from a DataFrame.\n",
      "Try using .loc[row_indexer,col_indexer] = value instead\n",
      "\n",
      "See the caveats in the documentation: https://pandas.pydata.org/pandas-docs/stable/user_guide/indexing.html#returning-a-view-versus-a-copy\n",
      "  data_sub['t_minus1_low'] = data_sub['low'].shift(1)\n"
     ]
    },
    {
     "name": "stdout",
     "output_type": "stream",
     "text": [
      "[*********************100%***********************]  1 of 1 completed\n",
      "CSCO testing r2_score: 0.9158924145350708\n",
      "CSCO testing MSE score: 0.39392043782349007\n",
      "CSCO : tomorrow's price: [54.81117249]\n",
      "CSCO Success!\n",
      " \n",
      " \n",
      "Analyzing C\n"
     ]
    },
    {
     "name": "stderr",
     "output_type": "stream",
     "text": [
      "<ipython-input-452-1cd440387d10>:47: SettingWithCopyWarning: \n",
      "A value is trying to be set on a copy of a slice from a DataFrame.\n",
      "Try using .loc[row_indexer,col_indexer] = value instead\n",
      "\n",
      "See the caveats in the documentation: https://pandas.pydata.org/pandas-docs/stable/user_guide/indexing.html#returning-a-view-versus-a-copy\n",
      "  data_sub['t_minus1_high'] = data_sub['high'].shift(1)\n",
      "<ipython-input-452-1cd440387d10>:48: SettingWithCopyWarning: \n",
      "A value is trying to be set on a copy of a slice from a DataFrame.\n",
      "Try using .loc[row_indexer,col_indexer] = value instead\n",
      "\n",
      "See the caveats in the documentation: https://pandas.pydata.org/pandas-docs/stable/user_guide/indexing.html#returning-a-view-versus-a-copy\n",
      "  data_sub['t_minus1_low'] = data_sub['low'].shift(1)\n"
     ]
    },
    {
     "name": "stdout",
     "output_type": "stream",
     "text": [
      "[*********************100%***********************]  1 of 1 completed\n",
      "C testing r2_score: 0.9033234928846554\n",
      "C testing MSE score: 1.1834316253806838\n",
      "C : tomorrow's price: [70.89408251]\n",
      "C Success!\n",
      " \n",
      " \n",
      "Analyzing CFG\n"
     ]
    },
    {
     "name": "stderr",
     "output_type": "stream",
     "text": [
      "<ipython-input-452-1cd440387d10>:47: SettingWithCopyWarning: \n",
      "A value is trying to be set on a copy of a slice from a DataFrame.\n",
      "Try using .loc[row_indexer,col_indexer] = value instead\n",
      "\n",
      "See the caveats in the documentation: https://pandas.pydata.org/pandas-docs/stable/user_guide/indexing.html#returning-a-view-versus-a-copy\n",
      "  data_sub['t_minus1_high'] = data_sub['high'].shift(1)\n",
      "<ipython-input-452-1cd440387d10>:48: SettingWithCopyWarning: \n",
      "A value is trying to be set on a copy of a slice from a DataFrame.\n",
      "Try using .loc[row_indexer,col_indexer] = value instead\n",
      "\n",
      "See the caveats in the documentation: https://pandas.pydata.org/pandas-docs/stable/user_guide/indexing.html#returning-a-view-versus-a-copy\n",
      "  data_sub['t_minus1_low'] = data_sub['low'].shift(1)\n"
     ]
    },
    {
     "name": "stdout",
     "output_type": "stream",
     "text": [
      "[*********************100%***********************]  1 of 1 completed\n",
      "CFG testing r2_score: 0.879477135155189\n",
      "CFG testing MSE score: 0.8140553382172225\n",
      "CFG : tomorrow's price: [48.10061779]\n",
      "CFG Success!\n",
      " \n",
      " \n",
      "Analyzing CTXS\n"
     ]
    },
    {
     "name": "stderr",
     "output_type": "stream",
     "text": [
      "<ipython-input-452-1cd440387d10>:47: SettingWithCopyWarning: \n",
      "A value is trying to be set on a copy of a slice from a DataFrame.\n",
      "Try using .loc[row_indexer,col_indexer] = value instead\n",
      "\n",
      "See the caveats in the documentation: https://pandas.pydata.org/pandas-docs/stable/user_guide/indexing.html#returning-a-view-versus-a-copy\n",
      "  data_sub['t_minus1_high'] = data_sub['high'].shift(1)\n",
      "<ipython-input-452-1cd440387d10>:48: SettingWithCopyWarning: \n",
      "A value is trying to be set on a copy of a slice from a DataFrame.\n",
      "Try using .loc[row_indexer,col_indexer] = value instead\n",
      "\n",
      "See the caveats in the documentation: https://pandas.pydata.org/pandas-docs/stable/user_guide/indexing.html#returning-a-view-versus-a-copy\n",
      "  data_sub['t_minus1_low'] = data_sub['low'].shift(1)\n"
     ]
    },
    {
     "name": "stdout",
     "output_type": "stream",
     "text": [
      "[*********************100%***********************]  1 of 1 completed\n",
      "CTXS testing r2_score: 0.8880378118603565\n",
      "CTXS testing MSE score: 6.204457376079672\n",
      "CTXS : tomorrow's price: [108.69974179]\n",
      "CTXS Success!\n",
      " \n",
      " \n",
      "Analyzing CLX\n"
     ]
    },
    {
     "name": "stderr",
     "output_type": "stream",
     "text": [
      "<ipython-input-452-1cd440387d10>:47: SettingWithCopyWarning: \n",
      "A value is trying to be set on a copy of a slice from a DataFrame.\n",
      "Try using .loc[row_indexer,col_indexer] = value instead\n",
      "\n",
      "See the caveats in the documentation: https://pandas.pydata.org/pandas-docs/stable/user_guide/indexing.html#returning-a-view-versus-a-copy\n",
      "  data_sub['t_minus1_high'] = data_sub['high'].shift(1)\n",
      "<ipython-input-452-1cd440387d10>:48: SettingWithCopyWarning: \n",
      "A value is trying to be set on a copy of a slice from a DataFrame.\n",
      "Try using .loc[row_indexer,col_indexer] = value instead\n",
      "\n",
      "See the caveats in the documentation: https://pandas.pydata.org/pandas-docs/stable/user_guide/indexing.html#returning-a-view-versus-a-copy\n",
      "  data_sub['t_minus1_low'] = data_sub['low'].shift(1)\n"
     ]
    },
    {
     "name": "stdout",
     "output_type": "stream",
     "text": [
      "[*********************100%***********************]  1 of 1 completed\n",
      "CLX testing r2_score: 0.887190626916839\n",
      "CLX testing MSE score: 6.366945857997329\n",
      "CLX : tomorrow's price: [164.4161561]\n",
      "CLX Success!\n",
      " \n",
      " \n",
      "Analyzing CME\n"
     ]
    },
    {
     "name": "stderr",
     "output_type": "stream",
     "text": [
      "<ipython-input-452-1cd440387d10>:47: SettingWithCopyWarning: \n",
      "A value is trying to be set on a copy of a slice from a DataFrame.\n",
      "Try using .loc[row_indexer,col_indexer] = value instead\n",
      "\n",
      "See the caveats in the documentation: https://pandas.pydata.org/pandas-docs/stable/user_guide/indexing.html#returning-a-view-versus-a-copy\n",
      "  data_sub['t_minus1_high'] = data_sub['high'].shift(1)\n",
      "<ipython-input-452-1cd440387d10>:48: SettingWithCopyWarning: \n",
      "A value is trying to be set on a copy of a slice from a DataFrame.\n",
      "Try using .loc[row_indexer,col_indexer] = value instead\n",
      "\n",
      "See the caveats in the documentation: https://pandas.pydata.org/pandas-docs/stable/user_guide/indexing.html#returning-a-view-versus-a-copy\n",
      "  data_sub['t_minus1_low'] = data_sub['low'].shift(1)\n"
     ]
    },
    {
     "name": "stdout",
     "output_type": "stream",
     "text": [
      "[*********************100%***********************]  1 of 1 completed\n",
      "CME testing r2_score: 0.9099753930524097\n",
      "CME testing MSE score: 6.969793855995176\n",
      "CME : tomorrow's price: [195.24274583]\n",
      "CME Success!\n",
      " \n",
      " \n",
      "Analyzing CMS\n"
     ]
    },
    {
     "name": "stderr",
     "output_type": "stream",
     "text": [
      "<ipython-input-452-1cd440387d10>:47: SettingWithCopyWarning: \n",
      "A value is trying to be set on a copy of a slice from a DataFrame.\n",
      "Try using .loc[row_indexer,col_indexer] = value instead\n",
      "\n",
      "See the caveats in the documentation: https://pandas.pydata.org/pandas-docs/stable/user_guide/indexing.html#returning-a-view-versus-a-copy\n",
      "  data_sub['t_minus1_high'] = data_sub['high'].shift(1)\n",
      "<ipython-input-452-1cd440387d10>:48: SettingWithCopyWarning: \n",
      "A value is trying to be set on a copy of a slice from a DataFrame.\n",
      "Try using .loc[row_indexer,col_indexer] = value instead\n",
      "\n",
      "See the caveats in the documentation: https://pandas.pydata.org/pandas-docs/stable/user_guide/indexing.html#returning-a-view-versus-a-copy\n",
      "  data_sub['t_minus1_low'] = data_sub['low'].shift(1)\n"
     ]
    },
    {
     "name": "stdout",
     "output_type": "stream",
     "text": [
      "[*********************100%***********************]  1 of 1 completed\n",
      "CMS testing r2_score: 0.8621005990695639\n",
      "CMS testing MSE score: 0.4739295944955207\n",
      "CMS : tomorrow's price: [59.7275147]\n",
      "CMS Success!\n",
      " \n",
      " \n",
      "Analyzing KO\n"
     ]
    },
    {
     "name": "stderr",
     "output_type": "stream",
     "text": [
      "<ipython-input-452-1cd440387d10>:47: SettingWithCopyWarning: \n",
      "A value is trying to be set on a copy of a slice from a DataFrame.\n",
      "Try using .loc[row_indexer,col_indexer] = value instead\n",
      "\n",
      "See the caveats in the documentation: https://pandas.pydata.org/pandas-docs/stable/user_guide/indexing.html#returning-a-view-versus-a-copy\n",
      "  data_sub['t_minus1_high'] = data_sub['high'].shift(1)\n",
      "<ipython-input-452-1cd440387d10>:48: SettingWithCopyWarning: \n",
      "A value is trying to be set on a copy of a slice from a DataFrame.\n",
      "Try using .loc[row_indexer,col_indexer] = value instead\n",
      "\n",
      "See the caveats in the documentation: https://pandas.pydata.org/pandas-docs/stable/user_guide/indexing.html#returning-a-view-versus-a-copy\n",
      "  data_sub['t_minus1_low'] = data_sub['low'].shift(1)\n"
     ]
    },
    {
     "name": "stdout",
     "output_type": "stream",
     "text": [
      "[*********************100%***********************]  1 of 1 completed\n",
      "KO testing r2_score: 0.8819211029983359\n",
      "KO testing MSE score: 0.16998572497168274\n",
      "KO : tomorrow's price: [53.00624818]\n",
      "KO Success!\n",
      " \n",
      " \n",
      "Analyzing CTSH\n"
     ]
    },
    {
     "name": "stderr",
     "output_type": "stream",
     "text": [
      "<ipython-input-452-1cd440387d10>:47: SettingWithCopyWarning: \n",
      "A value is trying to be set on a copy of a slice from a DataFrame.\n",
      "Try using .loc[row_indexer,col_indexer] = value instead\n",
      "\n",
      "See the caveats in the documentation: https://pandas.pydata.org/pandas-docs/stable/user_guide/indexing.html#returning-a-view-versus-a-copy\n",
      "  data_sub['t_minus1_high'] = data_sub['high'].shift(1)\n",
      "<ipython-input-452-1cd440387d10>:48: SettingWithCopyWarning: \n",
      "A value is trying to be set on a copy of a slice from a DataFrame.\n",
      "Try using .loc[row_indexer,col_indexer] = value instead\n",
      "\n",
      "See the caveats in the documentation: https://pandas.pydata.org/pandas-docs/stable/user_guide/indexing.html#returning-a-view-versus-a-copy\n",
      "  data_sub['t_minus1_low'] = data_sub['low'].shift(1)\n"
     ]
    },
    {
     "name": "stdout",
     "output_type": "stream",
     "text": [
      "[*********************100%***********************]  1 of 1 completed\n",
      "CTSH testing r2_score: 0.906142842181182\n",
      "CTSH testing MSE score: 1.157419062644413\n",
      "CTSH : tomorrow's price: [74.86526516]\n",
      "CTSH Success!\n",
      " \n",
      " \n",
      "Analyzing CL\n"
     ]
    },
    {
     "name": "stderr",
     "output_type": "stream",
     "text": [
      "<ipython-input-452-1cd440387d10>:47: SettingWithCopyWarning: \n",
      "A value is trying to be set on a copy of a slice from a DataFrame.\n",
      "Try using .loc[row_indexer,col_indexer] = value instead\n",
      "\n",
      "See the caveats in the documentation: https://pandas.pydata.org/pandas-docs/stable/user_guide/indexing.html#returning-a-view-versus-a-copy\n",
      "  data_sub['t_minus1_high'] = data_sub['high'].shift(1)\n",
      "<ipython-input-452-1cd440387d10>:48: SettingWithCopyWarning: \n",
      "A value is trying to be set on a copy of a slice from a DataFrame.\n",
      "Try using .loc[row_indexer,col_indexer] = value instead\n",
      "\n",
      "See the caveats in the documentation: https://pandas.pydata.org/pandas-docs/stable/user_guide/indexing.html#returning-a-view-versus-a-copy\n",
      "  data_sub['t_minus1_low'] = data_sub['low'].shift(1)\n"
     ]
    },
    {
     "name": "stdout",
     "output_type": "stream",
     "text": [
      "[*********************100%***********************]  1 of 1 completed\n",
      "CL testing r2_score: 0.9362441974490658\n",
      "CL testing MSE score: 0.5451206138922641\n",
      "CL : tomorrow's price: [75.3548247]\n",
      "CL Success!\n",
      " \n",
      " \n",
      "Analyzing CMCSA\n"
     ]
    },
    {
     "name": "stderr",
     "output_type": "stream",
     "text": [
      "<ipython-input-452-1cd440387d10>:47: SettingWithCopyWarning: \n",
      "A value is trying to be set on a copy of a slice from a DataFrame.\n",
      "Try using .loc[row_indexer,col_indexer] = value instead\n",
      "\n",
      "See the caveats in the documentation: https://pandas.pydata.org/pandas-docs/stable/user_guide/indexing.html#returning-a-view-versus-a-copy\n",
      "  data_sub['t_minus1_high'] = data_sub['high'].shift(1)\n",
      "<ipython-input-452-1cd440387d10>:48: SettingWithCopyWarning: \n",
      "A value is trying to be set on a copy of a slice from a DataFrame.\n",
      "Try using .loc[row_indexer,col_indexer] = value instead\n",
      "\n",
      "See the caveats in the documentation: https://pandas.pydata.org/pandas-docs/stable/user_guide/indexing.html#returning-a-view-versus-a-copy\n",
      "  data_sub['t_minus1_low'] = data_sub['low'].shift(1)\n"
     ]
    },
    {
     "name": "stdout",
     "output_type": "stream",
     "text": [
      "[*********************100%***********************]  1 of 1 completed\n",
      "CMCSA testing r2_score: 0.7336676406174278\n",
      "CMCSA testing MSE score: 0.7724421018952258\n",
      "CMCSA : tomorrow's price: [56.98234739]\n",
      "CMCSA Success!\n",
      " \n",
      " \n",
      "Analyzing CMA\n"
     ]
    },
    {
     "name": "stderr",
     "output_type": "stream",
     "text": [
      "<ipython-input-452-1cd440387d10>:47: SettingWithCopyWarning: \n",
      "A value is trying to be set on a copy of a slice from a DataFrame.\n",
      "Try using .loc[row_indexer,col_indexer] = value instead\n",
      "\n",
      "See the caveats in the documentation: https://pandas.pydata.org/pandas-docs/stable/user_guide/indexing.html#returning-a-view-versus-a-copy\n",
      "  data_sub['t_minus1_high'] = data_sub['high'].shift(1)\n",
      "<ipython-input-452-1cd440387d10>:48: SettingWithCopyWarning: \n",
      "A value is trying to be set on a copy of a slice from a DataFrame.\n",
      "Try using .loc[row_indexer,col_indexer] = value instead\n",
      "\n",
      "See the caveats in the documentation: https://pandas.pydata.org/pandas-docs/stable/user_guide/indexing.html#returning-a-view-versus-a-copy\n",
      "  data_sub['t_minus1_low'] = data_sub['low'].shift(1)\n"
     ]
    },
    {
     "name": "stdout",
     "output_type": "stream",
     "text": [
      "[*********************100%***********************]  1 of 1 completed\n",
      "CMA testing r2_score: 0.9021202946383916\n",
      "CMA testing MSE score: 2.1409922155815515\n",
      "CMA : tomorrow's price: [82.43533888]\n",
      "CMA Success!\n",
      " \n",
      " \n",
      "Analyzing CAG\n"
     ]
    },
    {
     "name": "stderr",
     "output_type": "stream",
     "text": [
      "<ipython-input-452-1cd440387d10>:47: SettingWithCopyWarning: \n",
      "A value is trying to be set on a copy of a slice from a DataFrame.\n",
      "Try using .loc[row_indexer,col_indexer] = value instead\n",
      "\n",
      "See the caveats in the documentation: https://pandas.pydata.org/pandas-docs/stable/user_guide/indexing.html#returning-a-view-versus-a-copy\n",
      "  data_sub['t_minus1_high'] = data_sub['high'].shift(1)\n",
      "<ipython-input-452-1cd440387d10>:48: SettingWithCopyWarning: \n",
      "A value is trying to be set on a copy of a slice from a DataFrame.\n",
      "Try using .loc[row_indexer,col_indexer] = value instead\n",
      "\n",
      "See the caveats in the documentation: https://pandas.pydata.org/pandas-docs/stable/user_guide/indexing.html#returning-a-view-versus-a-copy\n",
      "  data_sub['t_minus1_low'] = data_sub['low'].shift(1)\n"
     ]
    },
    {
     "name": "stdout",
     "output_type": "stream",
     "text": [
      "[*********************100%***********************]  1 of 1 completed\n",
      "CAG testing r2_score: 0.9603200692134383\n",
      "CAG testing MSE score: 0.15196357654749346\n",
      "CAG : tomorrow's price: [33.67430573]\n",
      "CAG Success!\n",
      " \n",
      " \n",
      "Analyzing COP\n"
     ]
    },
    {
     "name": "stderr",
     "output_type": "stream",
     "text": [
      "<ipython-input-452-1cd440387d10>:47: SettingWithCopyWarning: \n",
      "A value is trying to be set on a copy of a slice from a DataFrame.\n",
      "Try using .loc[row_indexer,col_indexer] = value instead\n",
      "\n",
      "See the caveats in the documentation: https://pandas.pydata.org/pandas-docs/stable/user_guide/indexing.html#returning-a-view-versus-a-copy\n",
      "  data_sub['t_minus1_high'] = data_sub['high'].shift(1)\n",
      "<ipython-input-452-1cd440387d10>:48: SettingWithCopyWarning: \n",
      "A value is trying to be set on a copy of a slice from a DataFrame.\n",
      "Try using .loc[row_indexer,col_indexer] = value instead\n",
      "\n",
      "See the caveats in the documentation: https://pandas.pydata.org/pandas-docs/stable/user_guide/indexing.html#returning-a-view-versus-a-copy\n",
      "  data_sub['t_minus1_low'] = data_sub['low'].shift(1)\n"
     ]
    },
    {
     "name": "stdout",
     "output_type": "stream",
     "text": [
      "[*********************100%***********************]  1 of 1 completed\n",
      "COP testing r2_score: 0.9379356955150504\n",
      "COP testing MSE score: 1.6781599436028192\n",
      "COP : tomorrow's price: [70.05490788]\n",
      "COP Success!\n",
      " \n",
      " \n",
      "Analyzing ED\n"
     ]
    },
    {
     "name": "stderr",
     "output_type": "stream",
     "text": [
      "<ipython-input-452-1cd440387d10>:47: SettingWithCopyWarning: \n",
      "A value is trying to be set on a copy of a slice from a DataFrame.\n",
      "Try using .loc[row_indexer,col_indexer] = value instead\n",
      "\n",
      "See the caveats in the documentation: https://pandas.pydata.org/pandas-docs/stable/user_guide/indexing.html#returning-a-view-versus-a-copy\n",
      "  data_sub['t_minus1_high'] = data_sub['high'].shift(1)\n",
      "<ipython-input-452-1cd440387d10>:48: SettingWithCopyWarning: \n",
      "A value is trying to be set on a copy of a slice from a DataFrame.\n",
      "Try using .loc[row_indexer,col_indexer] = value instead\n",
      "\n",
      "See the caveats in the documentation: https://pandas.pydata.org/pandas-docs/stable/user_guide/indexing.html#returning-a-view-versus-a-copy\n",
      "  data_sub['t_minus1_low'] = data_sub['low'].shift(1)\n"
     ]
    },
    {
     "name": "stdout",
     "output_type": "stream",
     "text": [
      "[*********************100%***********************]  1 of 1 completed\n",
      "ED testing r2_score: 0.826977057733212\n",
      "ED testing MSE score: 0.6922211712316183\n",
      "ED : tomorrow's price: [71.59845098]\n",
      "ED Success!\n",
      " \n",
      " \n",
      "Analyzing STZ\n"
     ]
    },
    {
     "name": "stderr",
     "output_type": "stream",
     "text": [
      "<ipython-input-452-1cd440387d10>:47: SettingWithCopyWarning: \n",
      "A value is trying to be set on a copy of a slice from a DataFrame.\n",
      "Try using .loc[row_indexer,col_indexer] = value instead\n",
      "\n",
      "See the caveats in the documentation: https://pandas.pydata.org/pandas-docs/stable/user_guide/indexing.html#returning-a-view-versus-a-copy\n",
      "  data_sub['t_minus1_high'] = data_sub['high'].shift(1)\n",
      "<ipython-input-452-1cd440387d10>:48: SettingWithCopyWarning: \n",
      "A value is trying to be set on a copy of a slice from a DataFrame.\n",
      "Try using .loc[row_indexer,col_indexer] = value instead\n",
      "\n",
      "See the caveats in the documentation: https://pandas.pydata.org/pandas-docs/stable/user_guide/indexing.html#returning-a-view-versus-a-copy\n",
      "  data_sub['t_minus1_low'] = data_sub['low'].shift(1)\n"
     ]
    },
    {
     "name": "stdout",
     "output_type": "stream",
     "text": [
      "[*********************100%***********************]  1 of 1 completed\n",
      "STZ testing r2_score: 0.9490504316745056\n",
      "STZ testing MSE score: 5.116186289103485\n",
      "STZ : tomorrow's price: [213.54307423]\n",
      "STZ Success!\n",
      " \n",
      " \n",
      "Analyzing CPRT\n"
     ]
    },
    {
     "name": "stderr",
     "output_type": "stream",
     "text": [
      "<ipython-input-452-1cd440387d10>:47: SettingWithCopyWarning: \n",
      "A value is trying to be set on a copy of a slice from a DataFrame.\n",
      "Try using .loc[row_indexer,col_indexer] = value instead\n",
      "\n",
      "See the caveats in the documentation: https://pandas.pydata.org/pandas-docs/stable/user_guide/indexing.html#returning-a-view-versus-a-copy\n",
      "  data_sub['t_minus1_high'] = data_sub['high'].shift(1)\n",
      "<ipython-input-452-1cd440387d10>:48: SettingWithCopyWarning: \n",
      "A value is trying to be set on a copy of a slice from a DataFrame.\n",
      "Try using .loc[row_indexer,col_indexer] = value instead\n",
      "\n",
      "See the caveats in the documentation: https://pandas.pydata.org/pandas-docs/stable/user_guide/indexing.html#returning-a-view-versus-a-copy\n",
      "  data_sub['t_minus1_low'] = data_sub['low'].shift(1)\n"
     ]
    },
    {
     "name": "stdout",
     "output_type": "stream",
     "text": [
      "[*********************100%***********************]  1 of 1 completed\n",
      "CPRT testing r2_score: 0.9513459537629503\n",
      "CPRT testing MSE score: 3.7562745102985704\n",
      "CPRT : tomorrow's price: [139.81753105]\n",
      "CPRT Success!\n",
      " \n",
      " \n",
      "Analyzing GLW\n"
     ]
    },
    {
     "name": "stderr",
     "output_type": "stream",
     "text": [
      "<ipython-input-452-1cd440387d10>:47: SettingWithCopyWarning: \n",
      "A value is trying to be set on a copy of a slice from a DataFrame.\n",
      "Try using .loc[row_indexer,col_indexer] = value instead\n",
      "\n",
      "See the caveats in the documentation: https://pandas.pydata.org/pandas-docs/stable/user_guide/indexing.html#returning-a-view-versus-a-copy\n",
      "  data_sub['t_minus1_high'] = data_sub['high'].shift(1)\n",
      "<ipython-input-452-1cd440387d10>:48: SettingWithCopyWarning: \n",
      "A value is trying to be set on a copy of a slice from a DataFrame.\n",
      "Try using .loc[row_indexer,col_indexer] = value instead\n",
      "\n",
      "See the caveats in the documentation: https://pandas.pydata.org/pandas-docs/stable/user_guide/indexing.html#returning-a-view-versus-a-copy\n",
      "  data_sub['t_minus1_low'] = data_sub['low'].shift(1)\n"
     ]
    },
    {
     "name": "stdout",
     "output_type": "stream",
     "text": [
      "[*********************100%***********************]  1 of 1 completed\n",
      "GLW testing r2_score: 0.9422443257439874\n",
      "GLW testing MSE score: 0.3134671076988602\n",
      "GLW : tomorrow's price: [36.94174252]\n",
      "GLW Success!\n",
      " \n",
      " \n",
      "Analyzing COST\n"
     ]
    },
    {
     "name": "stderr",
     "output_type": "stream",
     "text": [
      "<ipython-input-452-1cd440387d10>:47: SettingWithCopyWarning: \n",
      "A value is trying to be set on a copy of a slice from a DataFrame.\n",
      "Try using .loc[row_indexer,col_indexer] = value instead\n",
      "\n",
      "See the caveats in the documentation: https://pandas.pydata.org/pandas-docs/stable/user_guide/indexing.html#returning-a-view-versus-a-copy\n",
      "  data_sub['t_minus1_high'] = data_sub['high'].shift(1)\n",
      "<ipython-input-452-1cd440387d10>:48: SettingWithCopyWarning: \n",
      "A value is trying to be set on a copy of a slice from a DataFrame.\n",
      "Try using .loc[row_indexer,col_indexer] = value instead\n",
      "\n",
      "See the caveats in the documentation: https://pandas.pydata.org/pandas-docs/stable/user_guide/indexing.html#returning-a-view-versus-a-copy\n",
      "  data_sub['t_minus1_low'] = data_sub['low'].shift(1)\n"
     ]
    },
    {
     "name": "stdout",
     "output_type": "stream",
     "text": [
      "[*********************100%***********************]  1 of 1 completed\n",
      "COST testing r2_score: 0.9809601224373552\n",
      "COST testing MSE score: 19.496851944231835\n",
      "COST : tomorrow's price: [448.95120488]\n",
      "COST Success!\n",
      " \n",
      " \n",
      "Analyzing CTRA\n"
     ]
    },
    {
     "name": "stderr",
     "output_type": "stream",
     "text": [
      "<ipython-input-452-1cd440387d10>:47: SettingWithCopyWarning: \n",
      "A value is trying to be set on a copy of a slice from a DataFrame.\n",
      "Try using .loc[row_indexer,col_indexer] = value instead\n",
      "\n",
      "See the caveats in the documentation: https://pandas.pydata.org/pandas-docs/stable/user_guide/indexing.html#returning-a-view-versus-a-copy\n",
      "  data_sub['t_minus1_high'] = data_sub['high'].shift(1)\n",
      "<ipython-input-452-1cd440387d10>:48: SettingWithCopyWarning: \n",
      "A value is trying to be set on a copy of a slice from a DataFrame.\n",
      "Try using .loc[row_indexer,col_indexer] = value instead\n",
      "\n",
      "See the caveats in the documentation: https://pandas.pydata.org/pandas-docs/stable/user_guide/indexing.html#returning-a-view-versus-a-copy\n",
      "  data_sub['t_minus1_low'] = data_sub['low'].shift(1)\n"
     ]
    },
    {
     "name": "stdout",
     "output_type": "stream",
     "text": [
      "[*********************100%***********************]  1 of 1 completed\n",
      "CTRA testing r2_score: 0.948855863499871\n",
      "CTRA testing MSE score: 0.2049454325429864\n",
      "CTRA : tomorrow's price: [22.12572145]\n",
      "CTRA Success!\n",
      " \n",
      " \n",
      "Analyzing CCI\n"
     ]
    },
    {
     "name": "stderr",
     "output_type": "stream",
     "text": [
      "<ipython-input-452-1cd440387d10>:47: SettingWithCopyWarning: \n",
      "A value is trying to be set on a copy of a slice from a DataFrame.\n",
      "Try using .loc[row_indexer,col_indexer] = value instead\n",
      "\n",
      "See the caveats in the documentation: https://pandas.pydata.org/pandas-docs/stable/user_guide/indexing.html#returning-a-view-versus-a-copy\n",
      "  data_sub['t_minus1_high'] = data_sub['high'].shift(1)\n",
      "<ipython-input-452-1cd440387d10>:48: SettingWithCopyWarning: \n",
      "A value is trying to be set on a copy of a slice from a DataFrame.\n",
      "Try using .loc[row_indexer,col_indexer] = value instead\n",
      "\n",
      "See the caveats in the documentation: https://pandas.pydata.org/pandas-docs/stable/user_guide/indexing.html#returning-a-view-versus-a-copy\n",
      "  data_sub['t_minus1_low'] = data_sub['low'].shift(1)\n"
     ]
    },
    {
     "name": "stdout",
     "output_type": "stream",
     "text": [
      "[*********************100%***********************]  1 of 1 completed\n",
      "CCI testing r2_score: 0.9407761964892286\n",
      "CCI testing MSE score: 4.349687891731646\n",
      "CCI : tomorrow's price: [172.80664451]\n",
      "CCI Success!\n",
      " \n",
      " \n",
      "Analyzing CSX\n"
     ]
    },
    {
     "name": "stderr",
     "output_type": "stream",
     "text": [
      "<ipython-input-452-1cd440387d10>:47: SettingWithCopyWarning: \n",
      "A value is trying to be set on a copy of a slice from a DataFrame.\n",
      "Try using .loc[row_indexer,col_indexer] = value instead\n",
      "\n",
      "See the caveats in the documentation: https://pandas.pydata.org/pandas-docs/stable/user_guide/indexing.html#returning-a-view-versus-a-copy\n",
      "  data_sub['t_minus1_high'] = data_sub['high'].shift(1)\n",
      "<ipython-input-452-1cd440387d10>:48: SettingWithCopyWarning: \n",
      "A value is trying to be set on a copy of a slice from a DataFrame.\n",
      "Try using .loc[row_indexer,col_indexer] = value instead\n",
      "\n",
      "See the caveats in the documentation: https://pandas.pydata.org/pandas-docs/stable/user_guide/indexing.html#returning-a-view-versus-a-copy\n",
      "  data_sub['t_minus1_low'] = data_sub['low'].shift(1)\n"
     ]
    },
    {
     "name": "stdout",
     "output_type": "stream",
     "text": [
      "[*********************100%***********************]  1 of 1 completed\n",
      "CSX testing r2_score: 0.8564991669855464\n",
      "CSX testing MSE score: 0.18428980868679093\n",
      "CSX : tomorrow's price: [30.20237279]\n",
      "CSX Success!\n",
      " \n",
      " \n",
      "Analyzing CMI\n"
     ]
    },
    {
     "name": "stderr",
     "output_type": "stream",
     "text": [
      "<ipython-input-452-1cd440387d10>:47: SettingWithCopyWarning: \n",
      "A value is trying to be set on a copy of a slice from a DataFrame.\n",
      "Try using .loc[row_indexer,col_indexer] = value instead\n",
      "\n",
      "See the caveats in the documentation: https://pandas.pydata.org/pandas-docs/stable/user_guide/indexing.html#returning-a-view-versus-a-copy\n",
      "  data_sub['t_minus1_high'] = data_sub['high'].shift(1)\n",
      "<ipython-input-452-1cd440387d10>:48: SettingWithCopyWarning: \n",
      "A value is trying to be set on a copy of a slice from a DataFrame.\n",
      "Try using .loc[row_indexer,col_indexer] = value instead\n",
      "\n",
      "See the caveats in the documentation: https://pandas.pydata.org/pandas-docs/stable/user_guide/indexing.html#returning-a-view-versus-a-copy\n",
      "  data_sub['t_minus1_low'] = data_sub['low'].shift(1)\n"
     ]
    },
    {
     "name": "stdout",
     "output_type": "stream",
     "text": [
      "[*********************100%***********************]  1 of 1 completed\n",
      "CMI testing r2_score: 0.92149125694283\n",
      "CMI testing MSE score: 11.063469657500512\n",
      "CMI : tomorrow's price: [227.90046974]\n",
      "CMI Success!\n",
      " \n",
      " \n",
      "Analyzing CVS\n"
     ]
    },
    {
     "name": "stderr",
     "output_type": "stream",
     "text": [
      "<ipython-input-452-1cd440387d10>:47: SettingWithCopyWarning: \n",
      "A value is trying to be set on a copy of a slice from a DataFrame.\n",
      "Try using .loc[row_indexer,col_indexer] = value instead\n",
      "\n",
      "See the caveats in the documentation: https://pandas.pydata.org/pandas-docs/stable/user_guide/indexing.html#returning-a-view-versus-a-copy\n",
      "  data_sub['t_minus1_high'] = data_sub['high'].shift(1)\n",
      "<ipython-input-452-1cd440387d10>:48: SettingWithCopyWarning: \n",
      "A value is trying to be set on a copy of a slice from a DataFrame.\n",
      "Try using .loc[row_indexer,col_indexer] = value instead\n",
      "\n",
      "See the caveats in the documentation: https://pandas.pydata.org/pandas-docs/stable/user_guide/indexing.html#returning-a-view-versus-a-copy\n",
      "  data_sub['t_minus1_low'] = data_sub['low'].shift(1)\n"
     ]
    },
    {
     "name": "stdout",
     "output_type": "stream",
     "text": [
      "[*********************100%***********************]  1 of 1 completed\n",
      "CVS testing r2_score: 0.7799985884479331\n",
      "CVS testing MSE score: 1.1262168381944435\n",
      "CVS : tomorrow's price: [83.61557373]\n",
      "CVS Success!\n",
      " \n",
      " \n",
      "Analyzing DHI\n"
     ]
    },
    {
     "name": "stderr",
     "output_type": "stream",
     "text": [
      "<ipython-input-452-1cd440387d10>:47: SettingWithCopyWarning: \n",
      "A value is trying to be set on a copy of a slice from a DataFrame.\n",
      "Try using .loc[row_indexer,col_indexer] = value instead\n",
      "\n",
      "See the caveats in the documentation: https://pandas.pydata.org/pandas-docs/stable/user_guide/indexing.html#returning-a-view-versus-a-copy\n",
      "  data_sub['t_minus1_high'] = data_sub['high'].shift(1)\n",
      "<ipython-input-452-1cd440387d10>:48: SettingWithCopyWarning: \n",
      "A value is trying to be set on a copy of a slice from a DataFrame.\n",
      "Try using .loc[row_indexer,col_indexer] = value instead\n",
      "\n",
      "See the caveats in the documentation: https://pandas.pydata.org/pandas-docs/stable/user_guide/indexing.html#returning-a-view-versus-a-copy\n",
      "  data_sub['t_minus1_low'] = data_sub['low'].shift(1)\n"
     ]
    },
    {
     "name": "stdout",
     "output_type": "stream",
     "text": [
      "[*********************100%***********************]  1 of 1 completed\n",
      "DHI testing r2_score: 0.8609648002253294\n",
      "DHI testing MSE score: 3.156643284670947\n",
      "DHI : tomorrow's price: [83.77013876]\n",
      "DHI Success!\n",
      " \n",
      " \n",
      "Analyzing DHR\n"
     ]
    },
    {
     "name": "stderr",
     "output_type": "stream",
     "text": [
      "<ipython-input-452-1cd440387d10>:47: SettingWithCopyWarning: \n",
      "A value is trying to be set on a copy of a slice from a DataFrame.\n",
      "Try using .loc[row_indexer,col_indexer] = value instead\n",
      "\n",
      "See the caveats in the documentation: https://pandas.pydata.org/pandas-docs/stable/user_guide/indexing.html#returning-a-view-versus-a-copy\n",
      "  data_sub['t_minus1_high'] = data_sub['high'].shift(1)\n",
      "<ipython-input-452-1cd440387d10>:48: SettingWithCopyWarning: \n",
      "A value is trying to be set on a copy of a slice from a DataFrame.\n",
      "Try using .loc[row_indexer,col_indexer] = value instead\n",
      "\n",
      "See the caveats in the documentation: https://pandas.pydata.org/pandas-docs/stable/user_guide/indexing.html#returning-a-view-versus-a-copy\n",
      "  data_sub['t_minus1_low'] = data_sub['low'].shift(1)\n"
     ]
    },
    {
     "name": "stdout",
     "output_type": "stream",
     "text": [
      "[*********************100%***********************]  1 of 1 completed\n",
      "DHR testing r2_score: 0.9846145198554505\n",
      "DHR testing MSE score: 13.142190679981407\n",
      "DHR : tomorrow's price: [302.13883716]\n",
      "DHR Success!\n",
      " \n",
      " \n",
      "Analyzing DRI\n"
     ]
    },
    {
     "name": "stderr",
     "output_type": "stream",
     "text": [
      "<ipython-input-452-1cd440387d10>:47: SettingWithCopyWarning: \n",
      "A value is trying to be set on a copy of a slice from a DataFrame.\n",
      "Try using .loc[row_indexer,col_indexer] = value instead\n",
      "\n",
      "See the caveats in the documentation: https://pandas.pydata.org/pandas-docs/stable/user_guide/indexing.html#returning-a-view-versus-a-copy\n",
      "  data_sub['t_minus1_high'] = data_sub['high'].shift(1)\n",
      "<ipython-input-452-1cd440387d10>:48: SettingWithCopyWarning: \n",
      "A value is trying to be set on a copy of a slice from a DataFrame.\n",
      "Try using .loc[row_indexer,col_indexer] = value instead\n",
      "\n",
      "See the caveats in the documentation: https://pandas.pydata.org/pandas-docs/stable/user_guide/indexing.html#returning-a-view-versus-a-copy\n",
      "  data_sub['t_minus1_low'] = data_sub['low'].shift(1)\n"
     ]
    },
    {
     "name": "stdout",
     "output_type": "stream",
     "text": [
      "[*********************100%***********************]  1 of 1 completed\n",
      "DRI testing r2_score: 0.822968084187027\n",
      "DRI testing MSE score: 7.425740888263639\n",
      "DRI : tomorrow's price: [155.64039808]\n",
      "DRI Success!\n",
      " \n",
      " \n",
      "Analyzing DVA\n"
     ]
    },
    {
     "name": "stderr",
     "output_type": "stream",
     "text": [
      "<ipython-input-452-1cd440387d10>:47: SettingWithCopyWarning: \n",
      "A value is trying to be set on a copy of a slice from a DataFrame.\n",
      "Try using .loc[row_indexer,col_indexer] = value instead\n",
      "\n",
      "See the caveats in the documentation: https://pandas.pydata.org/pandas-docs/stable/user_guide/indexing.html#returning-a-view-versus-a-copy\n",
      "  data_sub['t_minus1_high'] = data_sub['high'].shift(1)\n",
      "<ipython-input-452-1cd440387d10>:48: SettingWithCopyWarning: \n",
      "A value is trying to be set on a copy of a slice from a DataFrame.\n",
      "Try using .loc[row_indexer,col_indexer] = value instead\n",
      "\n",
      "See the caveats in the documentation: https://pandas.pydata.org/pandas-docs/stable/user_guide/indexing.html#returning-a-view-versus-a-copy\n",
      "  data_sub['t_minus1_low'] = data_sub['low'].shift(1)\n"
     ]
    },
    {
     "name": "stdout",
     "output_type": "stream",
     "text": [
      "[*********************100%***********************]  1 of 1 completed\n",
      "DVA testing r2_score: 0.8692416080551986\n",
      "DVA testing MSE score: 3.8661895994737328\n",
      "DVA : tomorrow's price: [116.62719383]\n",
      "DVA Success!\n",
      " \n",
      " \n",
      "Analyzing DE\n"
     ]
    },
    {
     "name": "stderr",
     "output_type": "stream",
     "text": [
      "<ipython-input-452-1cd440387d10>:47: SettingWithCopyWarning: \n",
      "A value is trying to be set on a copy of a slice from a DataFrame.\n",
      "Try using .loc[row_indexer,col_indexer] = value instead\n",
      "\n",
      "See the caveats in the documentation: https://pandas.pydata.org/pandas-docs/stable/user_guide/indexing.html#returning-a-view-versus-a-copy\n",
      "  data_sub['t_minus1_high'] = data_sub['high'].shift(1)\n",
      "<ipython-input-452-1cd440387d10>:48: SettingWithCopyWarning: \n",
      "A value is trying to be set on a copy of a slice from a DataFrame.\n",
      "Try using .loc[row_indexer,col_indexer] = value instead\n",
      "\n",
      "See the caveats in the documentation: https://pandas.pydata.org/pandas-docs/stable/user_guide/indexing.html#returning-a-view-versus-a-copy\n",
      "  data_sub['t_minus1_low'] = data_sub['low'].shift(1)\n"
     ]
    },
    {
     "name": "stdout",
     "output_type": "stream",
     "text": [
      "[*********************100%***********************]  1 of 1 completed\n",
      "DE testing r2_score: 0.8524802355322454\n",
      "DE testing MSE score: 37.719023372274094\n",
      "DE : tomorrow's price: [341.91927668]\n",
      "DE Success!\n",
      " \n",
      " \n",
      "Analyzing DAL\n"
     ]
    },
    {
     "name": "stderr",
     "output_type": "stream",
     "text": [
      "<ipython-input-452-1cd440387d10>:47: SettingWithCopyWarning: \n",
      "A value is trying to be set on a copy of a slice from a DataFrame.\n",
      "Try using .loc[row_indexer,col_indexer] = value instead\n",
      "\n",
      "See the caveats in the documentation: https://pandas.pydata.org/pandas-docs/stable/user_guide/indexing.html#returning-a-view-versus-a-copy\n",
      "  data_sub['t_minus1_high'] = data_sub['high'].shift(1)\n",
      "<ipython-input-452-1cd440387d10>:48: SettingWithCopyWarning: \n",
      "A value is trying to be set on a copy of a slice from a DataFrame.\n",
      "Try using .loc[row_indexer,col_indexer] = value instead\n",
      "\n",
      "See the caveats in the documentation: https://pandas.pydata.org/pandas-docs/stable/user_guide/indexing.html#returning-a-view-versus-a-copy\n",
      "  data_sub['t_minus1_low'] = data_sub['low'].shift(1)\n"
     ]
    },
    {
     "name": "stdout",
     "output_type": "stream",
     "text": [
      "[*********************100%***********************]  1 of 1 completed\n",
      "DAL testing r2_score: 0.8888573728168984\n",
      "DAL testing MSE score: 0.8090020634728726\n",
      "DAL : tomorrow's price: [45.42454343]\n",
      "DAL Success!\n",
      " \n",
      " \n",
      "Analyzing XRAY\n"
     ]
    },
    {
     "name": "stderr",
     "output_type": "stream",
     "text": [
      "<ipython-input-452-1cd440387d10>:47: SettingWithCopyWarning: \n",
      "A value is trying to be set on a copy of a slice from a DataFrame.\n",
      "Try using .loc[row_indexer,col_indexer] = value instead\n",
      "\n",
      "See the caveats in the documentation: https://pandas.pydata.org/pandas-docs/stable/user_guide/indexing.html#returning-a-view-versus-a-copy\n",
      "  data_sub['t_minus1_high'] = data_sub['high'].shift(1)\n",
      "<ipython-input-452-1cd440387d10>:48: SettingWithCopyWarning: \n",
      "A value is trying to be set on a copy of a slice from a DataFrame.\n",
      "Try using .loc[row_indexer,col_indexer] = value instead\n",
      "\n",
      "See the caveats in the documentation: https://pandas.pydata.org/pandas-docs/stable/user_guide/indexing.html#returning-a-view-versus-a-copy\n",
      "  data_sub['t_minus1_low'] = data_sub['low'].shift(1)\n"
     ]
    },
    {
     "name": "stdout",
     "output_type": "stream",
     "text": [
      "[*********************100%***********************]  1 of 1 completed\n",
      "XRAY testing r2_score: 0.9162997045602409\n",
      "XRAY testing MSE score: 0.8924806833642683\n",
      "XRAY : tomorrow's price: [59.10688177]\n",
      "XRAY Success!\n",
      " \n",
      " \n",
      "Analyzing DVN\n"
     ]
    },
    {
     "name": "stderr",
     "output_type": "stream",
     "text": [
      "<ipython-input-452-1cd440387d10>:47: SettingWithCopyWarning: \n",
      "A value is trying to be set on a copy of a slice from a DataFrame.\n",
      "Try using .loc[row_indexer,col_indexer] = value instead\n",
      "\n",
      "See the caveats in the documentation: https://pandas.pydata.org/pandas-docs/stable/user_guide/indexing.html#returning-a-view-versus-a-copy\n",
      "  data_sub['t_minus1_high'] = data_sub['high'].shift(1)\n",
      "<ipython-input-452-1cd440387d10>:48: SettingWithCopyWarning: \n",
      "A value is trying to be set on a copy of a slice from a DataFrame.\n",
      "Try using .loc[row_indexer,col_indexer] = value instead\n",
      "\n",
      "See the caveats in the documentation: https://pandas.pydata.org/pandas-docs/stable/user_guide/indexing.html#returning-a-view-versus-a-copy\n",
      "  data_sub['t_minus1_low'] = data_sub['low'].shift(1)\n"
     ]
    },
    {
     "name": "stdout",
     "output_type": "stream",
     "text": [
      "[*********************100%***********************]  1 of 1 completed\n",
      "DVN testing r2_score: 0.9386601967426981\n",
      "DVN testing MSE score: 0.91632071515272\n",
      "DVN : tomorrow's price: [36.89026471]\n",
      "DVN Success!\n",
      " \n",
      " \n",
      "Analyzing DXCM\n"
     ]
    },
    {
     "name": "stderr",
     "output_type": "stream",
     "text": [
      "<ipython-input-452-1cd440387d10>:47: SettingWithCopyWarning: \n",
      "A value is trying to be set on a copy of a slice from a DataFrame.\n",
      "Try using .loc[row_indexer,col_indexer] = value instead\n",
      "\n",
      "See the caveats in the documentation: https://pandas.pydata.org/pandas-docs/stable/user_guide/indexing.html#returning-a-view-versus-a-copy\n",
      "  data_sub['t_minus1_high'] = data_sub['high'].shift(1)\n",
      "<ipython-input-452-1cd440387d10>:48: SettingWithCopyWarning: \n",
      "A value is trying to be set on a copy of a slice from a DataFrame.\n",
      "Try using .loc[row_indexer,col_indexer] = value instead\n",
      "\n",
      "See the caveats in the documentation: https://pandas.pydata.org/pandas-docs/stable/user_guide/indexing.html#returning-a-view-versus-a-copy\n",
      "  data_sub['t_minus1_low'] = data_sub['low'].shift(1)\n"
     ]
    },
    {
     "name": "stdout",
     "output_type": "stream",
     "text": [
      "[*********************100%***********************]  1 of 1 completed\n",
      "DXCM testing r2_score: 0.9815279506845274\n",
      "DXCM testing MSE score: 100.89595961071863\n",
      "DXCM : tomorrow's price: [548.65782526]\n",
      "DXCM Success!\n",
      " \n",
      " \n",
      "Analyzing FANG\n"
     ]
    },
    {
     "name": "stderr",
     "output_type": "stream",
     "text": [
      "<ipython-input-452-1cd440387d10>:47: SettingWithCopyWarning: \n",
      "A value is trying to be set on a copy of a slice from a DataFrame.\n",
      "Try using .loc[row_indexer,col_indexer] = value instead\n",
      "\n",
      "See the caveats in the documentation: https://pandas.pydata.org/pandas-docs/stable/user_guide/indexing.html#returning-a-view-versus-a-copy\n",
      "  data_sub['t_minus1_high'] = data_sub['high'].shift(1)\n",
      "<ipython-input-452-1cd440387d10>:48: SettingWithCopyWarning: \n",
      "A value is trying to be set on a copy of a slice from a DataFrame.\n",
      "Try using .loc[row_indexer,col_indexer] = value instead\n",
      "\n",
      "See the caveats in the documentation: https://pandas.pydata.org/pandas-docs/stable/user_guide/indexing.html#returning-a-view-versus-a-copy\n",
      "  data_sub['t_minus1_low'] = data_sub['low'].shift(1)\n"
     ]
    },
    {
     "name": "stdout",
     "output_type": "stream",
     "text": [
      "[*********************100%***********************]  1 of 1 completed\n",
      "FANG testing r2_score: 0.9240870629081068\n",
      "FANG testing MSE score: 6.946914325579876\n",
      "FANG : tomorrow's price: [98.97658408]\n",
      "FANG Success!\n",
      " \n",
      " \n",
      "Analyzing DLR\n"
     ]
    },
    {
     "name": "stderr",
     "output_type": "stream",
     "text": [
      "<ipython-input-452-1cd440387d10>:47: SettingWithCopyWarning: \n",
      "A value is trying to be set on a copy of a slice from a DataFrame.\n",
      "Try using .loc[row_indexer,col_indexer] = value instead\n",
      "\n",
      "See the caveats in the documentation: https://pandas.pydata.org/pandas-docs/stable/user_guide/indexing.html#returning-a-view-versus-a-copy\n",
      "  data_sub['t_minus1_high'] = data_sub['high'].shift(1)\n",
      "<ipython-input-452-1cd440387d10>:48: SettingWithCopyWarning: \n",
      "A value is trying to be set on a copy of a slice from a DataFrame.\n",
      "Try using .loc[row_indexer,col_indexer] = value instead\n",
      "\n",
      "See the caveats in the documentation: https://pandas.pydata.org/pandas-docs/stable/user_guide/indexing.html#returning-a-view-versus-a-copy\n",
      "  data_sub['t_minus1_low'] = data_sub['low'].shift(1)\n"
     ]
    },
    {
     "name": "stdout",
     "output_type": "stream",
     "text": [
      "[*********************100%***********************]  1 of 1 completed\n",
      "DLR testing r2_score: 0.8774533810377466\n",
      "DLR testing MSE score: 4.055810592545678\n",
      "DLR : tomorrow's price: [145.09792798]\n",
      "DLR Success!\n",
      " \n",
      " \n",
      "Analyzing DFS\n"
     ]
    },
    {
     "name": "stderr",
     "output_type": "stream",
     "text": [
      "<ipython-input-452-1cd440387d10>:47: SettingWithCopyWarning: \n",
      "A value is trying to be set on a copy of a slice from a DataFrame.\n",
      "Try using .loc[row_indexer,col_indexer] = value instead\n",
      "\n",
      "See the caveats in the documentation: https://pandas.pydata.org/pandas-docs/stable/user_guide/indexing.html#returning-a-view-versus-a-copy\n",
      "  data_sub['t_minus1_high'] = data_sub['high'].shift(1)\n",
      "<ipython-input-452-1cd440387d10>:48: SettingWithCopyWarning: \n",
      "A value is trying to be set on a copy of a slice from a DataFrame.\n",
      "Try using .loc[row_indexer,col_indexer] = value instead\n",
      "\n",
      "See the caveats in the documentation: https://pandas.pydata.org/pandas-docs/stable/user_guide/indexing.html#returning-a-view-versus-a-copy\n",
      "  data_sub['t_minus1_low'] = data_sub['low'].shift(1)\n"
     ]
    },
    {
     "name": "stdout",
     "output_type": "stream",
     "text": [
      "[*********************100%***********************]  1 of 1 completed\n",
      "DFS testing r2_score: 0.797718913451597\n",
      "DFS testing MSE score: 5.760409712399511\n",
      "DFS : tomorrow's price: [127.03508052]\n",
      "DFS Success!\n",
      " \n",
      " \n",
      "Analyzing DISCA\n"
     ]
    },
    {
     "name": "stderr",
     "output_type": "stream",
     "text": [
      "<ipython-input-452-1cd440387d10>:47: SettingWithCopyWarning: \n",
      "A value is trying to be set on a copy of a slice from a DataFrame.\n",
      "Try using .loc[row_indexer,col_indexer] = value instead\n",
      "\n",
      "See the caveats in the documentation: https://pandas.pydata.org/pandas-docs/stable/user_guide/indexing.html#returning-a-view-versus-a-copy\n",
      "  data_sub['t_minus1_high'] = data_sub['high'].shift(1)\n",
      "<ipython-input-452-1cd440387d10>:48: SettingWithCopyWarning: \n",
      "A value is trying to be set on a copy of a slice from a DataFrame.\n",
      "Try using .loc[row_indexer,col_indexer] = value instead\n",
      "\n",
      "See the caveats in the documentation: https://pandas.pydata.org/pandas-docs/stable/user_guide/indexing.html#returning-a-view-versus-a-copy\n",
      "  data_sub['t_minus1_low'] = data_sub['low'].shift(1)\n"
     ]
    },
    {
     "name": "stdout",
     "output_type": "stream",
     "text": [
      "[*********************100%***********************]  1 of 1 completed\n",
      "DISCA testing r2_score: 0.9585156303109809\n",
      "DISCA testing MSE score: 0.4002820489773082\n",
      "DISCA : tomorrow's price: [25.88254006]\n",
      "DISCA Success!\n",
      " \n",
      " \n",
      "Analyzing DISCK\n"
     ]
    },
    {
     "name": "stderr",
     "output_type": "stream",
     "text": [
      "<ipython-input-452-1cd440387d10>:47: SettingWithCopyWarning: \n",
      "A value is trying to be set on a copy of a slice from a DataFrame.\n",
      "Try using .loc[row_indexer,col_indexer] = value instead\n",
      "\n",
      "See the caveats in the documentation: https://pandas.pydata.org/pandas-docs/stable/user_guide/indexing.html#returning-a-view-versus-a-copy\n",
      "  data_sub['t_minus1_high'] = data_sub['high'].shift(1)\n",
      "<ipython-input-452-1cd440387d10>:48: SettingWithCopyWarning: \n",
      "A value is trying to be set on a copy of a slice from a DataFrame.\n",
      "Try using .loc[row_indexer,col_indexer] = value instead\n",
      "\n",
      "See the caveats in the documentation: https://pandas.pydata.org/pandas-docs/stable/user_guide/indexing.html#returning-a-view-versus-a-copy\n",
      "  data_sub['t_minus1_low'] = data_sub['low'].shift(1)\n"
     ]
    },
    {
     "name": "stdout",
     "output_type": "stream",
     "text": [
      "[*********************100%***********************]  1 of 1 completed\n",
      "DISCK testing r2_score: 0.9243820622225336\n",
      "DISCK testing MSE score: 0.3504104200909\n",
      "DISCK : tomorrow's price: [24.881702]\n",
      "DISCK Success!\n",
      " \n",
      " \n",
      "Analyzing DISH\n"
     ]
    },
    {
     "name": "stderr",
     "output_type": "stream",
     "text": [
      "<ipython-input-452-1cd440387d10>:47: SettingWithCopyWarning: \n",
      "A value is trying to be set on a copy of a slice from a DataFrame.\n",
      "Try using .loc[row_indexer,col_indexer] = value instead\n",
      "\n",
      "See the caveats in the documentation: https://pandas.pydata.org/pandas-docs/stable/user_guide/indexing.html#returning-a-view-versus-a-copy\n",
      "  data_sub['t_minus1_high'] = data_sub['high'].shift(1)\n",
      "<ipython-input-452-1cd440387d10>:48: SettingWithCopyWarning: \n",
      "A value is trying to be set on a copy of a slice from a DataFrame.\n",
      "Try using .loc[row_indexer,col_indexer] = value instead\n",
      "\n",
      "See the caveats in the documentation: https://pandas.pydata.org/pandas-docs/stable/user_guide/indexing.html#returning-a-view-versus-a-copy\n",
      "  data_sub['t_minus1_low'] = data_sub['low'].shift(1)\n"
     ]
    },
    {
     "name": "stdout",
     "output_type": "stream",
     "text": [
      "[*********************100%***********************]  1 of 1 completed\n",
      "DISH testing r2_score: 0.7297482361635661\n",
      "DISH testing MSE score: 0.8082343418832869\n",
      "DISH : tomorrow's price: [44.89737367]\n",
      "DISH Success!\n",
      " \n",
      " \n",
      "Analyzing DG\n"
     ]
    },
    {
     "name": "stderr",
     "output_type": "stream",
     "text": [
      "<ipython-input-452-1cd440387d10>:47: SettingWithCopyWarning: \n",
      "A value is trying to be set on a copy of a slice from a DataFrame.\n",
      "Try using .loc[row_indexer,col_indexer] = value instead\n",
      "\n",
      "See the caveats in the documentation: https://pandas.pydata.org/pandas-docs/stable/user_guide/indexing.html#returning-a-view-versus-a-copy\n",
      "  data_sub['t_minus1_high'] = data_sub['high'].shift(1)\n",
      "<ipython-input-452-1cd440387d10>:48: SettingWithCopyWarning: \n",
      "A value is trying to be set on a copy of a slice from a DataFrame.\n",
      "Try using .loc[row_indexer,col_indexer] = value instead\n",
      "\n",
      "See the caveats in the documentation: https://pandas.pydata.org/pandas-docs/stable/user_guide/indexing.html#returning-a-view-versus-a-copy\n",
      "  data_sub['t_minus1_low'] = data_sub['low'].shift(1)\n"
     ]
    },
    {
     "name": "stdout",
     "output_type": "stream",
     "text": [
      "[*********************100%***********************]  1 of 1 completed\n",
      "DG testing r2_score: 0.9506322343124765\n",
      "DG testing MSE score: 5.265535864053517\n",
      "DG : tomorrow's price: [209.17379106]\n",
      "DG Success!\n",
      " \n",
      " \n",
      "Analyzing DLTR\n"
     ]
    },
    {
     "name": "stderr",
     "output_type": "stream",
     "text": [
      "<ipython-input-452-1cd440387d10>:47: SettingWithCopyWarning: \n",
      "A value is trying to be set on a copy of a slice from a DataFrame.\n",
      "Try using .loc[row_indexer,col_indexer] = value instead\n",
      "\n",
      "See the caveats in the documentation: https://pandas.pydata.org/pandas-docs/stable/user_guide/indexing.html#returning-a-view-versus-a-copy\n",
      "  data_sub['t_minus1_high'] = data_sub['high'].shift(1)\n",
      "<ipython-input-452-1cd440387d10>:48: SettingWithCopyWarning: \n",
      "A value is trying to be set on a copy of a slice from a DataFrame.\n",
      "Try using .loc[row_indexer,col_indexer] = value instead\n",
      "\n",
      "See the caveats in the documentation: https://pandas.pydata.org/pandas-docs/stable/user_guide/indexing.html#returning-a-view-versus-a-copy\n",
      "  data_sub['t_minus1_low'] = data_sub['low'].shift(1)\n"
     ]
    },
    {
     "name": "stdout",
     "output_type": "stream",
     "text": [
      "[*********************100%***********************]  1 of 1 completed\n",
      "DLTR testing r2_score: 0.8954826796339043\n",
      "DLTR testing MSE score: 5.300089271526789\n",
      "DLTR : tomorrow's price: [96.53065907]\n",
      "DLTR Success!\n",
      " \n",
      " \n",
      "Analyzing D\n"
     ]
    },
    {
     "name": "stderr",
     "output_type": "stream",
     "text": [
      "<ipython-input-452-1cd440387d10>:47: SettingWithCopyWarning: \n",
      "A value is trying to be set on a copy of a slice from a DataFrame.\n",
      "Try using .loc[row_indexer,col_indexer] = value instead\n",
      "\n",
      "See the caveats in the documentation: https://pandas.pydata.org/pandas-docs/stable/user_guide/indexing.html#returning-a-view-versus-a-copy\n",
      "  data_sub['t_minus1_high'] = data_sub['high'].shift(1)\n",
      "<ipython-input-452-1cd440387d10>:48: SettingWithCopyWarning: \n",
      "A value is trying to be set on a copy of a slice from a DataFrame.\n",
      "Try using .loc[row_indexer,col_indexer] = value instead\n",
      "\n",
      "See the caveats in the documentation: https://pandas.pydata.org/pandas-docs/stable/user_guide/indexing.html#returning-a-view-versus-a-copy\n",
      "  data_sub['t_minus1_low'] = data_sub['low'].shift(1)\n"
     ]
    },
    {
     "name": "stdout",
     "output_type": "stream",
     "text": [
      "[*********************100%***********************]  1 of 1 completed\n",
      "D testing r2_score: 0.8091260956295947\n",
      "D testing MSE score: 0.6755791434805171\n",
      "D : tomorrow's price: [72.52376147]\n",
      "D Success!\n",
      " \n",
      " \n",
      "Analyzing DPZ\n"
     ]
    },
    {
     "name": "stderr",
     "output_type": "stream",
     "text": [
      "<ipython-input-452-1cd440387d10>:47: SettingWithCopyWarning: \n",
      "A value is trying to be set on a copy of a slice from a DataFrame.\n",
      "Try using .loc[row_indexer,col_indexer] = value instead\n",
      "\n",
      "See the caveats in the documentation: https://pandas.pydata.org/pandas-docs/stable/user_guide/indexing.html#returning-a-view-versus-a-copy\n",
      "  data_sub['t_minus1_high'] = data_sub['high'].shift(1)\n",
      "<ipython-input-452-1cd440387d10>:48: SettingWithCopyWarning: \n",
      "A value is trying to be set on a copy of a slice from a DataFrame.\n",
      "Try using .loc[row_indexer,col_indexer] = value instead\n",
      "\n",
      "See the caveats in the documentation: https://pandas.pydata.org/pandas-docs/stable/user_guide/indexing.html#returning-a-view-versus-a-copy\n",
      "  data_sub['t_minus1_low'] = data_sub['low'].shift(1)\n"
     ]
    },
    {
     "name": "stdout",
     "output_type": "stream",
     "text": [
      "[*********************100%***********************]  1 of 1 completed\n",
      "DPZ testing r2_score: 0.9499936878020425\n",
      "DPZ testing MSE score: 66.78908504533874\n",
      "DPZ : tomorrow's price: [475.2256518]\n",
      "DPZ Success!\n",
      " \n",
      " \n",
      "Analyzing DOV\n"
     ]
    },
    {
     "name": "stderr",
     "output_type": "stream",
     "text": [
      "<ipython-input-452-1cd440387d10>:47: SettingWithCopyWarning: \n",
      "A value is trying to be set on a copy of a slice from a DataFrame.\n",
      "Try using .loc[row_indexer,col_indexer] = value instead\n",
      "\n",
      "See the caveats in the documentation: https://pandas.pydata.org/pandas-docs/stable/user_guide/indexing.html#returning-a-view-versus-a-copy\n",
      "  data_sub['t_minus1_high'] = data_sub['high'].shift(1)\n",
      "<ipython-input-452-1cd440387d10>:48: SettingWithCopyWarning: \n",
      "A value is trying to be set on a copy of a slice from a DataFrame.\n",
      "Try using .loc[row_indexer,col_indexer] = value instead\n",
      "\n",
      "See the caveats in the documentation: https://pandas.pydata.org/pandas-docs/stable/user_guide/indexing.html#returning-a-view-versus-a-copy\n",
      "  data_sub['t_minus1_low'] = data_sub['low'].shift(1)\n"
     ]
    },
    {
     "name": "stdout",
     "output_type": "stream",
     "text": [
      "[*********************100%***********************]  1 of 1 completed\n",
      "DOV testing r2_score: 0.9542647600531737\n",
      "DOV testing MSE score: 4.1089915664031915\n",
      "DOV : tomorrow's price: [156.25698112]\n",
      "DOV Success!\n",
      " \n",
      " \n",
      "Analyzing DTE\n"
     ]
    },
    {
     "name": "stderr",
     "output_type": "stream",
     "text": [
      "<ipython-input-452-1cd440387d10>:47: SettingWithCopyWarning: \n",
      "A value is trying to be set on a copy of a slice from a DataFrame.\n",
      "Try using .loc[row_indexer,col_indexer] = value instead\n",
      "\n",
      "See the caveats in the documentation: https://pandas.pydata.org/pandas-docs/stable/user_guide/indexing.html#returning-a-view-versus-a-copy\n",
      "  data_sub['t_minus1_high'] = data_sub['high'].shift(1)\n",
      "<ipython-input-452-1cd440387d10>:48: SettingWithCopyWarning: \n",
      "A value is trying to be set on a copy of a slice from a DataFrame.\n",
      "Try using .loc[row_indexer,col_indexer] = value instead\n",
      "\n",
      "See the caveats in the documentation: https://pandas.pydata.org/pandas-docs/stable/user_guide/indexing.html#returning-a-view-versus-a-copy\n",
      "  data_sub['t_minus1_low'] = data_sub['low'].shift(1)\n"
     ]
    },
    {
     "name": "stdout",
     "output_type": "stream",
     "text": [
      "[*********************100%***********************]  1 of 1 completed\n",
      "DTE testing r2_score: 0.8427158784752563\n",
      "DTE testing MSE score: 1.5611342109262285\n",
      "DTE : tomorrow's price: [111.49431555]\n",
      "DTE Success!\n",
      " \n",
      " \n",
      "Analyzing DUK\n"
     ]
    },
    {
     "name": "stderr",
     "output_type": "stream",
     "text": [
      "<ipython-input-452-1cd440387d10>:47: SettingWithCopyWarning: \n",
      "A value is trying to be set on a copy of a slice from a DataFrame.\n",
      "Try using .loc[row_indexer,col_indexer] = value instead\n",
      "\n",
      "See the caveats in the documentation: https://pandas.pydata.org/pandas-docs/stable/user_guide/indexing.html#returning-a-view-versus-a-copy\n",
      "  data_sub['t_minus1_high'] = data_sub['high'].shift(1)\n",
      "<ipython-input-452-1cd440387d10>:48: SettingWithCopyWarning: \n",
      "A value is trying to be set on a copy of a slice from a DataFrame.\n",
      "Try using .loc[row_indexer,col_indexer] = value instead\n",
      "\n",
      "See the caveats in the documentation: https://pandas.pydata.org/pandas-docs/stable/user_guide/indexing.html#returning-a-view-versus-a-copy\n",
      "  data_sub['t_minus1_low'] = data_sub['low'].shift(1)\n"
     ]
    },
    {
     "name": "stdout",
     "output_type": "stream",
     "text": [
      "[*********************100%***********************]  1 of 1 completed\n",
      "DUK testing r2_score: 0.8227967386582133\n",
      "DUK testing MSE score: 1.3125549864654482\n",
      "DUK : tomorrow's price: [98.17563792]\n",
      "DUK Success!\n",
      " \n",
      " \n",
      "Analyzing DRE\n"
     ]
    },
    {
     "name": "stderr",
     "output_type": "stream",
     "text": [
      "<ipython-input-452-1cd440387d10>:47: SettingWithCopyWarning: \n",
      "A value is trying to be set on a copy of a slice from a DataFrame.\n",
      "Try using .loc[row_indexer,col_indexer] = value instead\n",
      "\n",
      "See the caveats in the documentation: https://pandas.pydata.org/pandas-docs/stable/user_guide/indexing.html#returning-a-view-versus-a-copy\n",
      "  data_sub['t_minus1_high'] = data_sub['high'].shift(1)\n",
      "<ipython-input-452-1cd440387d10>:48: SettingWithCopyWarning: \n",
      "A value is trying to be set on a copy of a slice from a DataFrame.\n",
      "Try using .loc[row_indexer,col_indexer] = value instead\n",
      "\n",
      "See the caveats in the documentation: https://pandas.pydata.org/pandas-docs/stable/user_guide/indexing.html#returning-a-view-versus-a-copy\n",
      "  data_sub['t_minus1_low'] = data_sub['low'].shift(1)\n"
     ]
    },
    {
     "name": "stdout",
     "output_type": "stream",
     "text": [
      "[*********************100%***********************]  1 of 1 completed\n",
      "DRE testing r2_score: 0.9289005765890757\n",
      "DRE testing MSE score: 0.3335621732034421\n",
      "DRE : tomorrow's price: [48.39911416]\n",
      "DRE Success!\n",
      " \n",
      " \n",
      "Analyzing DD\n"
     ]
    },
    {
     "name": "stderr",
     "output_type": "stream",
     "text": [
      "<ipython-input-452-1cd440387d10>:47: SettingWithCopyWarning: \n",
      "A value is trying to be set on a copy of a slice from a DataFrame.\n",
      "Try using .loc[row_indexer,col_indexer] = value instead\n",
      "\n",
      "See the caveats in the documentation: https://pandas.pydata.org/pandas-docs/stable/user_guide/indexing.html#returning-a-view-versus-a-copy\n",
      "  data_sub['t_minus1_high'] = data_sub['high'].shift(1)\n",
      "<ipython-input-452-1cd440387d10>:48: SettingWithCopyWarning: \n",
      "A value is trying to be set on a copy of a slice from a DataFrame.\n",
      "Try using .loc[row_indexer,col_indexer] = value instead\n",
      "\n",
      "See the caveats in the documentation: https://pandas.pydata.org/pandas-docs/stable/user_guide/indexing.html#returning-a-view-versus-a-copy\n",
      "  data_sub['t_minus1_low'] = data_sub['low'].shift(1)\n"
     ]
    },
    {
     "name": "stdout",
     "output_type": "stream",
     "text": [
      "[*********************100%***********************]  1 of 1 completed\n",
      "DD testing r2_score: 0.952454700007523\n",
      "DD testing MSE score: 1.2556129609809894\n",
      "DD : tomorrow's price: [69.14128506]\n",
      "DD Success!\n",
      " \n",
      " \n",
      "Analyzing DXC\n"
     ]
    },
    {
     "name": "stderr",
     "output_type": "stream",
     "text": [
      "<ipython-input-452-1cd440387d10>:47: SettingWithCopyWarning: \n",
      "A value is trying to be set on a copy of a slice from a DataFrame.\n",
      "Try using .loc[row_indexer,col_indexer] = value instead\n",
      "\n",
      "See the caveats in the documentation: https://pandas.pydata.org/pandas-docs/stable/user_guide/indexing.html#returning-a-view-versus-a-copy\n",
      "  data_sub['t_minus1_high'] = data_sub['high'].shift(1)\n",
      "<ipython-input-452-1cd440387d10>:48: SettingWithCopyWarning: \n",
      "A value is trying to be set on a copy of a slice from a DataFrame.\n",
      "Try using .loc[row_indexer,col_indexer] = value instead\n",
      "\n",
      "See the caveats in the documentation: https://pandas.pydata.org/pandas-docs/stable/user_guide/indexing.html#returning-a-view-versus-a-copy\n",
      "  data_sub['t_minus1_low'] = data_sub['low'].shift(1)\n"
     ]
    },
    {
     "name": "stdout",
     "output_type": "stream",
     "text": [
      "[*********************100%***********************]  1 of 1 completed\n",
      "DXC testing r2_score: 0.8305657935745066\n",
      "DXC testing MSE score: 1.132457738974033\n",
      "DXC : tomorrow's price: [34.45093372]\n",
      "DXC Success!\n",
      " \n",
      " \n",
      "Analyzing EMN\n"
     ]
    },
    {
     "name": "stderr",
     "output_type": "stream",
     "text": [
      "<ipython-input-452-1cd440387d10>:47: SettingWithCopyWarning: \n",
      "A value is trying to be set on a copy of a slice from a DataFrame.\n",
      "Try using .loc[row_indexer,col_indexer] = value instead\n",
      "\n",
      "See the caveats in the documentation: https://pandas.pydata.org/pandas-docs/stable/user_guide/indexing.html#returning-a-view-versus-a-copy\n",
      "  data_sub['t_minus1_high'] = data_sub['high'].shift(1)\n",
      "<ipython-input-452-1cd440387d10>:48: SettingWithCopyWarning: \n",
      "A value is trying to be set on a copy of a slice from a DataFrame.\n",
      "Try using .loc[row_indexer,col_indexer] = value instead\n",
      "\n",
      "See the caveats in the documentation: https://pandas.pydata.org/pandas-docs/stable/user_guide/indexing.html#returning-a-view-versus-a-copy\n",
      "  data_sub['t_minus1_low'] = data_sub['low'].shift(1)\n"
     ]
    },
    {
     "name": "stdout",
     "output_type": "stream",
     "text": [
      "[*********************100%***********************]  1 of 1 completed\n",
      "EMN testing r2_score: 0.9397234151260294\n",
      "EMN testing MSE score: 3.9060175953155856\n",
      "EMN : tomorrow's price: [102.61548375]\n",
      "EMN Success!\n",
      " \n",
      " \n",
      "Analyzing ETN\n"
     ]
    },
    {
     "name": "stderr",
     "output_type": "stream",
     "text": [
      "<ipython-input-452-1cd440387d10>:47: SettingWithCopyWarning: \n",
      "A value is trying to be set on a copy of a slice from a DataFrame.\n",
      "Try using .loc[row_indexer,col_indexer] = value instead\n",
      "\n",
      "See the caveats in the documentation: https://pandas.pydata.org/pandas-docs/stable/user_guide/indexing.html#returning-a-view-versus-a-copy\n",
      "  data_sub['t_minus1_high'] = data_sub['high'].shift(1)\n",
      "<ipython-input-452-1cd440387d10>:48: SettingWithCopyWarning: \n",
      "A value is trying to be set on a copy of a slice from a DataFrame.\n",
      "Try using .loc[row_indexer,col_indexer] = value instead\n",
      "\n",
      "See the caveats in the documentation: https://pandas.pydata.org/pandas-docs/stable/user_guide/indexing.html#returning-a-view-versus-a-copy\n",
      "  data_sub['t_minus1_low'] = data_sub['low'].shift(1)\n"
     ]
    },
    {
     "name": "stdout",
     "output_type": "stream",
     "text": [
      "[*********************100%***********************]  1 of 1 completed\n",
      "ETN testing r2_score: 0.9485445956911095\n",
      "ETN testing MSE score: 3.6134316901323342\n",
      "ETN : tomorrow's price: [150.35896569]\n",
      "ETN Success!\n",
      " \n",
      " \n",
      "Analyzing EBAY\n"
     ]
    },
    {
     "name": "stderr",
     "output_type": "stream",
     "text": [
      "<ipython-input-452-1cd440387d10>:47: SettingWithCopyWarning: \n",
      "A value is trying to be set on a copy of a slice from a DataFrame.\n",
      "Try using .loc[row_indexer,col_indexer] = value instead\n",
      "\n",
      "See the caveats in the documentation: https://pandas.pydata.org/pandas-docs/stable/user_guide/indexing.html#returning-a-view-versus-a-copy\n",
      "  data_sub['t_minus1_high'] = data_sub['high'].shift(1)\n",
      "<ipython-input-452-1cd440387d10>:48: SettingWithCopyWarning: \n",
      "A value is trying to be set on a copy of a slice from a DataFrame.\n",
      "Try using .loc[row_indexer,col_indexer] = value instead\n",
      "\n",
      "See the caveats in the documentation: https://pandas.pydata.org/pandas-docs/stable/user_guide/indexing.html#returning-a-view-versus-a-copy\n",
      "  data_sub['t_minus1_low'] = data_sub['low'].shift(1)\n"
     ]
    },
    {
     "name": "stdout",
     "output_type": "stream",
     "text": [
      "[*********************100%***********************]  1 of 1 completed\n",
      "EBAY testing r2_score: 0.9325452929629506\n",
      "EBAY testing MSE score: 1.9901066483690693\n",
      "EBAY : tomorrow's price: [69.85474922]\n",
      "EBAY Success!\n",
      " \n",
      " \n",
      "Analyzing ECL\n"
     ]
    },
    {
     "name": "stderr",
     "output_type": "stream",
     "text": [
      "<ipython-input-452-1cd440387d10>:47: SettingWithCopyWarning: \n",
      "A value is trying to be set on a copy of a slice from a DataFrame.\n",
      "Try using .loc[row_indexer,col_indexer] = value instead\n",
      "\n",
      "See the caveats in the documentation: https://pandas.pydata.org/pandas-docs/stable/user_guide/indexing.html#returning-a-view-versus-a-copy\n",
      "  data_sub['t_minus1_high'] = data_sub['high'].shift(1)\n",
      "<ipython-input-452-1cd440387d10>:48: SettingWithCopyWarning: \n",
      "A value is trying to be set on a copy of a slice from a DataFrame.\n",
      "Try using .loc[row_indexer,col_indexer] = value instead\n",
      "\n",
      "See the caveats in the documentation: https://pandas.pydata.org/pandas-docs/stable/user_guide/indexing.html#returning-a-view-versus-a-copy\n",
      "  data_sub['t_minus1_low'] = data_sub['low'].shift(1)\n"
     ]
    },
    {
     "name": "stdout",
     "output_type": "stream",
     "text": [
      "[*********************100%***********************]  1 of 1 completed\n",
      "ECL testing r2_score: 0.84821089322201\n",
      "ECL testing MSE score: 5.209610931309598\n",
      "ECL : tomorrow's price: [212.76473848]\n",
      "ECL Success!\n",
      " \n",
      " \n",
      "Analyzing EIX\n"
     ]
    },
    {
     "name": "stderr",
     "output_type": "stream",
     "text": [
      "<ipython-input-452-1cd440387d10>:47: SettingWithCopyWarning: \n",
      "A value is trying to be set on a copy of a slice from a DataFrame.\n",
      "Try using .loc[row_indexer,col_indexer] = value instead\n",
      "\n",
      "See the caveats in the documentation: https://pandas.pydata.org/pandas-docs/stable/user_guide/indexing.html#returning-a-view-versus-a-copy\n",
      "  data_sub['t_minus1_high'] = data_sub['high'].shift(1)\n",
      "<ipython-input-452-1cd440387d10>:48: SettingWithCopyWarning: \n",
      "A value is trying to be set on a copy of a slice from a DataFrame.\n",
      "Try using .loc[row_indexer,col_indexer] = value instead\n",
      "\n",
      "See the caveats in the documentation: https://pandas.pydata.org/pandas-docs/stable/user_guide/indexing.html#returning-a-view-versus-a-copy\n",
      "  data_sub['t_minus1_low'] = data_sub['low'].shift(1)\n"
     ]
    },
    {
     "name": "stdout",
     "output_type": "stream",
     "text": [
      "[*********************100%***********************]  1 of 1 completed\n",
      "EIX testing r2_score: 0.6285326732805764\n",
      "EIX testing MSE score: 0.5569195799308431\n",
      "EIX : tomorrow's price: [55.18030834]\n",
      "EIX Success!\n",
      " \n",
      " \n",
      "Analyzing EW\n"
     ]
    },
    {
     "name": "stderr",
     "output_type": "stream",
     "text": [
      "<ipython-input-452-1cd440387d10>:47: SettingWithCopyWarning: \n",
      "A value is trying to be set on a copy of a slice from a DataFrame.\n",
      "Try using .loc[row_indexer,col_indexer] = value instead\n",
      "\n",
      "See the caveats in the documentation: https://pandas.pydata.org/pandas-docs/stable/user_guide/indexing.html#returning-a-view-versus-a-copy\n",
      "  data_sub['t_minus1_high'] = data_sub['high'].shift(1)\n",
      "<ipython-input-452-1cd440387d10>:48: SettingWithCopyWarning: \n",
      "A value is trying to be set on a copy of a slice from a DataFrame.\n",
      "Try using .loc[row_indexer,col_indexer] = value instead\n",
      "\n",
      "See the caveats in the documentation: https://pandas.pydata.org/pandas-docs/stable/user_guide/indexing.html#returning-a-view-versus-a-copy\n",
      "  data_sub['t_minus1_low'] = data_sub['low'].shift(1)\n"
     ]
    },
    {
     "name": "stdout",
     "output_type": "stream",
     "text": [
      "[*********************100%***********************]  1 of 1 completed\n",
      "EW testing r2_score: 0.9768899370489486\n",
      "EW testing MSE score: 2.2086118668750094\n",
      "EW : tomorrow's price: [112.07686206]\n",
      "EW Success!\n",
      " \n",
      " \n",
      "Analyzing EA\n"
     ]
    },
    {
     "name": "stderr",
     "output_type": "stream",
     "text": [
      "<ipython-input-452-1cd440387d10>:47: SettingWithCopyWarning: \n",
      "A value is trying to be set on a copy of a slice from a DataFrame.\n",
      "Try using .loc[row_indexer,col_indexer] = value instead\n",
      "\n",
      "See the caveats in the documentation: https://pandas.pydata.org/pandas-docs/stable/user_guide/indexing.html#returning-a-view-versus-a-copy\n",
      "  data_sub['t_minus1_high'] = data_sub['high'].shift(1)\n",
      "<ipython-input-452-1cd440387d10>:48: SettingWithCopyWarning: \n",
      "A value is trying to be set on a copy of a slice from a DataFrame.\n",
      "Try using .loc[row_indexer,col_indexer] = value instead\n",
      "\n",
      "See the caveats in the documentation: https://pandas.pydata.org/pandas-docs/stable/user_guide/indexing.html#returning-a-view-versus-a-copy\n",
      "  data_sub['t_minus1_low'] = data_sub['low'].shift(1)\n"
     ]
    },
    {
     "name": "stdout",
     "output_type": "stream",
     "text": [
      "[*********************100%***********************]  1 of 1 completed\n",
      "EA testing r2_score: 0.6896439208572904\n",
      "EA testing MSE score: 5.20982977481839\n",
      "EA : tomorrow's price: [142.66482317]\n",
      "EA Success!\n",
      " \n",
      " \n",
      "Analyzing LLY\n"
     ]
    },
    {
     "name": "stderr",
     "output_type": "stream",
     "text": [
      "<ipython-input-452-1cd440387d10>:47: SettingWithCopyWarning: \n",
      "A value is trying to be set on a copy of a slice from a DataFrame.\n",
      "Try using .loc[row_indexer,col_indexer] = value instead\n",
      "\n",
      "See the caveats in the documentation: https://pandas.pydata.org/pandas-docs/stable/user_guide/indexing.html#returning-a-view-versus-a-copy\n",
      "  data_sub['t_minus1_high'] = data_sub['high'].shift(1)\n",
      "<ipython-input-452-1cd440387d10>:48: SettingWithCopyWarning: \n",
      "A value is trying to be set on a copy of a slice from a DataFrame.\n",
      "Try using .loc[row_indexer,col_indexer] = value instead\n",
      "\n",
      "See the caveats in the documentation: https://pandas.pydata.org/pandas-docs/stable/user_guide/indexing.html#returning-a-view-versus-a-copy\n",
      "  data_sub['t_minus1_low'] = data_sub['low'].shift(1)\n"
     ]
    },
    {
     "name": "stdout",
     "output_type": "stream",
     "text": [
      "[*********************100%***********************]  1 of 1 completed\n",
      "LLY testing r2_score: 0.9661111707612378\n",
      "LLY testing MSE score: 18.558848618124568\n",
      "LLY : tomorrow's price: [229.58275578]\n",
      "LLY Success!\n",
      " \n",
      " \n",
      "Analyzing EMR\n"
     ]
    },
    {
     "name": "stderr",
     "output_type": "stream",
     "text": [
      "<ipython-input-452-1cd440387d10>:47: SettingWithCopyWarning: \n",
      "A value is trying to be set on a copy of a slice from a DataFrame.\n",
      "Try using .loc[row_indexer,col_indexer] = value instead\n",
      "\n",
      "See the caveats in the documentation: https://pandas.pydata.org/pandas-docs/stable/user_guide/indexing.html#returning-a-view-versus-a-copy\n",
      "  data_sub['t_minus1_high'] = data_sub['high'].shift(1)\n",
      "<ipython-input-452-1cd440387d10>:48: SettingWithCopyWarning: \n",
      "A value is trying to be set on a copy of a slice from a DataFrame.\n",
      "Try using .loc[row_indexer,col_indexer] = value instead\n",
      "\n",
      "See the caveats in the documentation: https://pandas.pydata.org/pandas-docs/stable/user_guide/indexing.html#returning-a-view-versus-a-copy\n",
      "  data_sub['t_minus1_low'] = data_sub['low'].shift(1)\n"
     ]
    },
    {
     "name": "stdout",
     "output_type": "stream",
     "text": [
      "[*********************100%***********************]  1 of 1 completed\n",
      "EMR testing r2_score: 0.8674255425905498\n",
      "EMR testing MSE score: 1.7857587882819796\n",
      "EMR : tomorrow's price: [95.00913482]\n",
      "EMR Success!\n",
      " \n",
      " \n",
      "Analyzing ENPH\n"
     ]
    },
    {
     "name": "stderr",
     "output_type": "stream",
     "text": [
      "<ipython-input-452-1cd440387d10>:47: SettingWithCopyWarning: \n",
      "A value is trying to be set on a copy of a slice from a DataFrame.\n",
      "Try using .loc[row_indexer,col_indexer] = value instead\n",
      "\n",
      "See the caveats in the documentation: https://pandas.pydata.org/pandas-docs/stable/user_guide/indexing.html#returning-a-view-versus-a-copy\n",
      "  data_sub['t_minus1_high'] = data_sub['high'].shift(1)\n",
      "<ipython-input-452-1cd440387d10>:48: SettingWithCopyWarning: \n",
      "A value is trying to be set on a copy of a slice from a DataFrame.\n",
      "Try using .loc[row_indexer,col_indexer] = value instead\n",
      "\n",
      "See the caveats in the documentation: https://pandas.pydata.org/pandas-docs/stable/user_guide/indexing.html#returning-a-view-versus-a-copy\n",
      "  data_sub['t_minus1_low'] = data_sub['low'].shift(1)\n"
     ]
    },
    {
     "name": "stdout",
     "output_type": "stream",
     "text": [
      "[*********************100%***********************]  1 of 1 completed\n",
      "ENPH testing r2_score: 0.943197161795357\n",
      "ENPH testing MSE score: 22.4927925819858\n",
      "ENPH : tomorrow's price: [154.92864227]\n",
      "ENPH Success!\n",
      " \n",
      " \n",
      "Analyzing ETR\n"
     ]
    },
    {
     "name": "stderr",
     "output_type": "stream",
     "text": [
      "<ipython-input-452-1cd440387d10>:47: SettingWithCopyWarning: \n",
      "A value is trying to be set on a copy of a slice from a DataFrame.\n",
      "Try using .loc[row_indexer,col_indexer] = value instead\n",
      "\n",
      "See the caveats in the documentation: https://pandas.pydata.org/pandas-docs/stable/user_guide/indexing.html#returning-a-view-versus-a-copy\n",
      "  data_sub['t_minus1_high'] = data_sub['high'].shift(1)\n",
      "<ipython-input-452-1cd440387d10>:48: SettingWithCopyWarning: \n",
      "A value is trying to be set on a copy of a slice from a DataFrame.\n",
      "Try using .loc[row_indexer,col_indexer] = value instead\n",
      "\n",
      "See the caveats in the documentation: https://pandas.pydata.org/pandas-docs/stable/user_guide/indexing.html#returning-a-view-versus-a-copy\n",
      "  data_sub['t_minus1_low'] = data_sub['low'].shift(1)\n"
     ]
    },
    {
     "name": "stdout",
     "output_type": "stream",
     "text": [
      "[*********************100%***********************]  1 of 1 completed\n",
      "ETR testing r2_score: 0.8803800295177114\n",
      "ETR testing MSE score: 2.0120049593624945\n",
      "ETR : tomorrow's price: [99.37668321]\n",
      "ETR Success!\n",
      " \n",
      " \n",
      "Analyzing EOG\n"
     ]
    },
    {
     "name": "stderr",
     "output_type": "stream",
     "text": [
      "<ipython-input-452-1cd440387d10>:47: SettingWithCopyWarning: \n",
      "A value is trying to be set on a copy of a slice from a DataFrame.\n",
      "Try using .loc[row_indexer,col_indexer] = value instead\n",
      "\n",
      "See the caveats in the documentation: https://pandas.pydata.org/pandas-docs/stable/user_guide/indexing.html#returning-a-view-versus-a-copy\n",
      "  data_sub['t_minus1_high'] = data_sub['high'].shift(1)\n",
      "<ipython-input-452-1cd440387d10>:48: SettingWithCopyWarning: \n",
      "A value is trying to be set on a copy of a slice from a DataFrame.\n",
      "Try using .loc[row_indexer,col_indexer] = value instead\n",
      "\n",
      "See the caveats in the documentation: https://pandas.pydata.org/pandas-docs/stable/user_guide/indexing.html#returning-a-view-versus-a-copy\n",
      "  data_sub['t_minus1_low'] = data_sub['low'].shift(1)\n"
     ]
    },
    {
     "name": "stdout",
     "output_type": "stream",
     "text": [
      "[*********************100%***********************]  1 of 1 completed\n",
      "EOG testing r2_score: 0.9249547040885195\n",
      "EOG testing MSE score: 3.992786014801508\n",
      "EOG : tomorrow's price: [83.78287022]\n",
      "EOG Success!\n",
      " \n",
      " \n",
      "Analyzing EFX\n"
     ]
    },
    {
     "name": "stderr",
     "output_type": "stream",
     "text": [
      "<ipython-input-452-1cd440387d10>:47: SettingWithCopyWarning: \n",
      "A value is trying to be set on a copy of a slice from a DataFrame.\n",
      "Try using .loc[row_indexer,col_indexer] = value instead\n",
      "\n",
      "See the caveats in the documentation: https://pandas.pydata.org/pandas-docs/stable/user_guide/indexing.html#returning-a-view-versus-a-copy\n",
      "  data_sub['t_minus1_high'] = data_sub['high'].shift(1)\n",
      "<ipython-input-452-1cd440387d10>:48: SettingWithCopyWarning: \n",
      "A value is trying to be set on a copy of a slice from a DataFrame.\n",
      "Try using .loc[row_indexer,col_indexer] = value instead\n",
      "\n",
      "See the caveats in the documentation: https://pandas.pydata.org/pandas-docs/stable/user_guide/indexing.html#returning-a-view-versus-a-copy\n",
      "  data_sub['t_minus1_low'] = data_sub['low'].shift(1)\n"
     ]
    },
    {
     "name": "stdout",
     "output_type": "stream",
     "text": [
      "[*********************100%***********************]  1 of 1 completed\n",
      "EFX testing r2_score: 0.9506873908681575\n",
      "EFX testing MSE score: 9.775862784188392\n",
      "EFX : tomorrow's price: [256.08820265]\n",
      "EFX Success!\n",
      " \n",
      " \n",
      "Analyzing EQIX\n"
     ]
    },
    {
     "name": "stderr",
     "output_type": "stream",
     "text": [
      "<ipython-input-452-1cd440387d10>:47: SettingWithCopyWarning: \n",
      "A value is trying to be set on a copy of a slice from a DataFrame.\n",
      "Try using .loc[row_indexer,col_indexer] = value instead\n",
      "\n",
      "See the caveats in the documentation: https://pandas.pydata.org/pandas-docs/stable/user_guide/indexing.html#returning-a-view-versus-a-copy\n",
      "  data_sub['t_minus1_high'] = data_sub['high'].shift(1)\n",
      "<ipython-input-452-1cd440387d10>:48: SettingWithCopyWarning: \n",
      "A value is trying to be set on a copy of a slice from a DataFrame.\n",
      "Try using .loc[row_indexer,col_indexer] = value instead\n",
      "\n",
      "See the caveats in the documentation: https://pandas.pydata.org/pandas-docs/stable/user_guide/indexing.html#returning-a-view-versus-a-copy\n",
      "  data_sub['t_minus1_low'] = data_sub['low'].shift(1)\n"
     ]
    },
    {
     "name": "stdout",
     "output_type": "stream",
     "text": [
      "[*********************100%***********************]  1 of 1 completed\n",
      "EQIX testing r2_score: 0.9318881701225732\n",
      "EQIX testing MSE score: 152.35696237526344\n",
      "EQIX : tomorrow's price: [787.78105029]\n",
      "EQIX Success!\n",
      " \n",
      " \n",
      "Analyzing EQR\n"
     ]
    },
    {
     "name": "stderr",
     "output_type": "stream",
     "text": [
      "<ipython-input-452-1cd440387d10>:47: SettingWithCopyWarning: \n",
      "A value is trying to be set on a copy of a slice from a DataFrame.\n",
      "Try using .loc[row_indexer,col_indexer] = value instead\n",
      "\n",
      "See the caveats in the documentation: https://pandas.pydata.org/pandas-docs/stable/user_guide/indexing.html#returning-a-view-versus-a-copy\n",
      "  data_sub['t_minus1_high'] = data_sub['high'].shift(1)\n",
      "<ipython-input-452-1cd440387d10>:48: SettingWithCopyWarning: \n",
      "A value is trying to be set on a copy of a slice from a DataFrame.\n",
      "Try using .loc[row_indexer,col_indexer] = value instead\n",
      "\n",
      "See the caveats in the documentation: https://pandas.pydata.org/pandas-docs/stable/user_guide/indexing.html#returning-a-view-versus-a-copy\n",
      "  data_sub['t_minus1_low'] = data_sub['low'].shift(1)\n"
     ]
    },
    {
     "name": "stdout",
     "output_type": "stream",
     "text": [
      "[*********************100%***********************]  1 of 1 completed\n",
      "EQR testing r2_score: 0.931204344367946\n",
      "EQR testing MSE score: 0.8720437670607766\n",
      "EQR : tomorrow's price: [81.1353514]\n",
      "EQR Success!\n",
      " \n",
      " \n",
      "Analyzing ESS\n"
     ]
    },
    {
     "name": "stderr",
     "output_type": "stream",
     "text": [
      "<ipython-input-452-1cd440387d10>:47: SettingWithCopyWarning: \n",
      "A value is trying to be set on a copy of a slice from a DataFrame.\n",
      "Try using .loc[row_indexer,col_indexer] = value instead\n",
      "\n",
      "See the caveats in the documentation: https://pandas.pydata.org/pandas-docs/stable/user_guide/indexing.html#returning-a-view-versus-a-copy\n",
      "  data_sub['t_minus1_high'] = data_sub['high'].shift(1)\n",
      "<ipython-input-452-1cd440387d10>:48: SettingWithCopyWarning: \n",
      "A value is trying to be set on a copy of a slice from a DataFrame.\n",
      "Try using .loc[row_indexer,col_indexer] = value instead\n",
      "\n",
      "See the caveats in the documentation: https://pandas.pydata.org/pandas-docs/stable/user_guide/indexing.html#returning-a-view-versus-a-copy\n",
      "  data_sub['t_minus1_low'] = data_sub['low'].shift(1)\n"
     ]
    },
    {
     "name": "stdout",
     "output_type": "stream",
     "text": [
      "[*********************100%***********************]  1 of 1 completed\n",
      "ESS testing r2_score: 0.9347965654013146\n",
      "ESS testing MSE score: 14.874278209855154\n",
      "ESS : tomorrow's price: [323.16804629]\n",
      "ESS Success!\n",
      " \n",
      " \n",
      "Analyzing EL\n"
     ]
    },
    {
     "name": "stderr",
     "output_type": "stream",
     "text": [
      "<ipython-input-452-1cd440387d10>:47: SettingWithCopyWarning: \n",
      "A value is trying to be set on a copy of a slice from a DataFrame.\n",
      "Try using .loc[row_indexer,col_indexer] = value instead\n",
      "\n",
      "See the caveats in the documentation: https://pandas.pydata.org/pandas-docs/stable/user_guide/indexing.html#returning-a-view-versus-a-copy\n",
      "  data_sub['t_minus1_high'] = data_sub['high'].shift(1)\n",
      "<ipython-input-452-1cd440387d10>:48: SettingWithCopyWarning: \n",
      "A value is trying to be set on a copy of a slice from a DataFrame.\n",
      "Try using .loc[row_indexer,col_indexer] = value instead\n",
      "\n",
      "See the caveats in the documentation: https://pandas.pydata.org/pandas-docs/stable/user_guide/indexing.html#returning-a-view-versus-a-copy\n",
      "  data_sub['t_minus1_low'] = data_sub['low'].shift(1)\n"
     ]
    },
    {
     "name": "stdout",
     "output_type": "stream",
     "text": [
      "[*********************100%***********************]  1 of 1 completed\n",
      "EL testing r2_score: 0.8973326660432394\n",
      "EL testing MSE score: 20.685122458571172\n",
      "EL : tomorrow's price: [310.73638129]\n",
      "EL Success!\n",
      " \n",
      " \n",
      "Analyzing ETSY\n"
     ]
    },
    {
     "name": "stderr",
     "output_type": "stream",
     "text": [
      "<ipython-input-452-1cd440387d10>:47: SettingWithCopyWarning: \n",
      "A value is trying to be set on a copy of a slice from a DataFrame.\n",
      "Try using .loc[row_indexer,col_indexer] = value instead\n",
      "\n",
      "See the caveats in the documentation: https://pandas.pydata.org/pandas-docs/stable/user_guide/indexing.html#returning-a-view-versus-a-copy\n",
      "  data_sub['t_minus1_high'] = data_sub['high'].shift(1)\n",
      "<ipython-input-452-1cd440387d10>:48: SettingWithCopyWarning: \n",
      "A value is trying to be set on a copy of a slice from a DataFrame.\n",
      "Try using .loc[row_indexer,col_indexer] = value instead\n",
      "\n",
      "See the caveats in the documentation: https://pandas.pydata.org/pandas-docs/stable/user_guide/indexing.html#returning-a-view-versus-a-copy\n",
      "  data_sub['t_minus1_low'] = data_sub['low'].shift(1)\n"
     ]
    },
    {
     "name": "stdout",
     "output_type": "stream",
     "text": [
      "[*********************100%***********************]  1 of 1 completed\n",
      "ETSY testing r2_score: 0.9004942246177894\n",
      "ETSY testing MSE score: 37.05339927012008\n",
      "ETSY : tomorrow's price: [203.30321752]\n",
      "ETSY Success!\n",
      " \n",
      " \n",
      "Analyzing RE\n"
     ]
    },
    {
     "name": "stderr",
     "output_type": "stream",
     "text": [
      "<ipython-input-452-1cd440387d10>:47: SettingWithCopyWarning: \n",
      "A value is trying to be set on a copy of a slice from a DataFrame.\n",
      "Try using .loc[row_indexer,col_indexer] = value instead\n",
      "\n",
      "See the caveats in the documentation: https://pandas.pydata.org/pandas-docs/stable/user_guide/indexing.html#returning-a-view-versus-a-copy\n",
      "  data_sub['t_minus1_high'] = data_sub['high'].shift(1)\n",
      "<ipython-input-452-1cd440387d10>:48: SettingWithCopyWarning: \n",
      "A value is trying to be set on a copy of a slice from a DataFrame.\n",
      "Try using .loc[row_indexer,col_indexer] = value instead\n",
      "\n",
      "See the caveats in the documentation: https://pandas.pydata.org/pandas-docs/stable/user_guide/indexing.html#returning-a-view-versus-a-copy\n",
      "  data_sub['t_minus1_low'] = data_sub['low'].shift(1)\n"
     ]
    },
    {
     "name": "stdout",
     "output_type": "stream",
     "text": [
      "[*********************100%***********************]  1 of 1 completed\n",
      "RE testing r2_score: 0.8268633018737329\n",
      "RE testing MSE score: 16.702550026379257\n",
      "RE : tomorrow's price: [252.08425388]\n",
      "RE Success!\n",
      " \n",
      " \n",
      "Analyzing EVRG\n"
     ]
    },
    {
     "name": "stderr",
     "output_type": "stream",
     "text": [
      "<ipython-input-452-1cd440387d10>:47: SettingWithCopyWarning: \n",
      "A value is trying to be set on a copy of a slice from a DataFrame.\n",
      "Try using .loc[row_indexer,col_indexer] = value instead\n",
      "\n",
      "See the caveats in the documentation: https://pandas.pydata.org/pandas-docs/stable/user_guide/indexing.html#returning-a-view-versus-a-copy\n",
      "  data_sub['t_minus1_high'] = data_sub['high'].shift(1)\n",
      "<ipython-input-452-1cd440387d10>:48: SettingWithCopyWarning: \n",
      "A value is trying to be set on a copy of a slice from a DataFrame.\n",
      "Try using .loc[row_indexer,col_indexer] = value instead\n",
      "\n",
      "See the caveats in the documentation: https://pandas.pydata.org/pandas-docs/stable/user_guide/indexing.html#returning-a-view-versus-a-copy\n",
      "  data_sub['t_minus1_low'] = data_sub['low'].shift(1)\n"
     ]
    },
    {
     "name": "stdout",
     "output_type": "stream",
     "text": [
      "[*********************100%***********************]  1 of 1 completed\n",
      "EVRG testing r2_score: 0.9203049992015848\n",
      "EVRG testing MSE score: 0.4748521016508365\n",
      "EVRG : tomorrow's price: [61.70564783]\n",
      "EVRG Success!\n",
      " \n",
      " \n",
      "Analyzing ES\n"
     ]
    },
    {
     "name": "stderr",
     "output_type": "stream",
     "text": [
      "<ipython-input-452-1cd440387d10>:47: SettingWithCopyWarning: \n",
      "A value is trying to be set on a copy of a slice from a DataFrame.\n",
      "Try using .loc[row_indexer,col_indexer] = value instead\n",
      "\n",
      "See the caveats in the documentation: https://pandas.pydata.org/pandas-docs/stable/user_guide/indexing.html#returning-a-view-versus-a-copy\n",
      "  data_sub['t_minus1_high'] = data_sub['high'].shift(1)\n",
      "<ipython-input-452-1cd440387d10>:48: SettingWithCopyWarning: \n",
      "A value is trying to be set on a copy of a slice from a DataFrame.\n",
      "Try using .loc[row_indexer,col_indexer] = value instead\n",
      "\n",
      "See the caveats in the documentation: https://pandas.pydata.org/pandas-docs/stable/user_guide/indexing.html#returning-a-view-versus-a-copy\n",
      "  data_sub['t_minus1_low'] = data_sub['low'].shift(1)\n"
     ]
    },
    {
     "name": "stdout",
     "output_type": "stream",
     "text": [
      "[*********************100%***********************]  1 of 1 completed\n",
      "ES testing r2_score: 0.9089944471919831\n",
      "ES testing MSE score: 1.1245759934485078\n",
      "ES : tomorrow's price: [81.78934334]\n",
      "ES Success!\n",
      " \n",
      " \n",
      "Analyzing EXC\n"
     ]
    },
    {
     "name": "stderr",
     "output_type": "stream",
     "text": [
      "<ipython-input-452-1cd440387d10>:47: SettingWithCopyWarning: \n",
      "A value is trying to be set on a copy of a slice from a DataFrame.\n",
      "Try using .loc[row_indexer,col_indexer] = value instead\n",
      "\n",
      "See the caveats in the documentation: https://pandas.pydata.org/pandas-docs/stable/user_guide/indexing.html#returning-a-view-versus-a-copy\n",
      "  data_sub['t_minus1_high'] = data_sub['high'].shift(1)\n",
      "<ipython-input-452-1cd440387d10>:48: SettingWithCopyWarning: \n",
      "A value is trying to be set on a copy of a slice from a DataFrame.\n",
      "Try using .loc[row_indexer,col_indexer] = value instead\n",
      "\n",
      "See the caveats in the documentation: https://pandas.pydata.org/pandas-docs/stable/user_guide/indexing.html#returning-a-view-versus-a-copy\n",
      "  data_sub['t_minus1_low'] = data_sub['low'].shift(1)\n"
     ]
    },
    {
     "name": "stdout",
     "output_type": "stream",
     "text": [
      "[*********************100%***********************]  1 of 1 completed\n",
      "EXC testing r2_score: 0.9202273878426062\n",
      "EXC testing MSE score: 0.31135023575080656\n",
      "EXC : tomorrow's price: [47.76832436]\n",
      "EXC Success!\n",
      " \n",
      " \n",
      "Analyzing EXPE\n"
     ]
    },
    {
     "name": "stderr",
     "output_type": "stream",
     "text": [
      "<ipython-input-452-1cd440387d10>:47: SettingWithCopyWarning: \n",
      "A value is trying to be set on a copy of a slice from a DataFrame.\n",
      "Try using .loc[row_indexer,col_indexer] = value instead\n",
      "\n",
      "See the caveats in the documentation: https://pandas.pydata.org/pandas-docs/stable/user_guide/indexing.html#returning-a-view-versus-a-copy\n",
      "  data_sub['t_minus1_high'] = data_sub['high'].shift(1)\n",
      "<ipython-input-452-1cd440387d10>:48: SettingWithCopyWarning: \n",
      "A value is trying to be set on a copy of a slice from a DataFrame.\n",
      "Try using .loc[row_indexer,col_indexer] = value instead\n",
      "\n",
      "See the caveats in the documentation: https://pandas.pydata.org/pandas-docs/stable/user_guide/indexing.html#returning-a-view-versus-a-copy\n",
      "  data_sub['t_minus1_low'] = data_sub['low'].shift(1)\n"
     ]
    },
    {
     "name": "stdout",
     "output_type": "stream",
     "text": [
      "[*********************100%***********************]  1 of 1 completed\n",
      "EXPE testing r2_score: 0.8937498022432753\n",
      "EXPE testing MSE score: 11.845255575496138\n",
      "EXPE : tomorrow's price: [169.47779504]\n",
      "EXPE Success!\n",
      " \n",
      " \n",
      "Analyzing EXPD\n"
     ]
    },
    {
     "name": "stderr",
     "output_type": "stream",
     "text": [
      "<ipython-input-452-1cd440387d10>:47: SettingWithCopyWarning: \n",
      "A value is trying to be set on a copy of a slice from a DataFrame.\n",
      "Try using .loc[row_indexer,col_indexer] = value instead\n",
      "\n",
      "See the caveats in the documentation: https://pandas.pydata.org/pandas-docs/stable/user_guide/indexing.html#returning-a-view-versus-a-copy\n",
      "  data_sub['t_minus1_high'] = data_sub['high'].shift(1)\n",
      "<ipython-input-452-1cd440387d10>:48: SettingWithCopyWarning: \n",
      "A value is trying to be set on a copy of a slice from a DataFrame.\n",
      "Try using .loc[row_indexer,col_indexer] = value instead\n",
      "\n",
      "See the caveats in the documentation: https://pandas.pydata.org/pandas-docs/stable/user_guide/indexing.html#returning-a-view-versus-a-copy\n",
      "  data_sub['t_minus1_low'] = data_sub['low'].shift(1)\n"
     ]
    },
    {
     "name": "stdout",
     "output_type": "stream",
     "text": [
      "[*********************100%***********************]  1 of 1 completed\n",
      "EXPD testing r2_score: 0.8788299547093097\n",
      "EXPD testing MSE score: 2.2454062230353613\n",
      "EXPD : tomorrow's price: [116.40364834]\n",
      "EXPD Success!\n",
      " \n",
      " \n",
      "Analyzing EXR\n"
     ]
    },
    {
     "name": "stderr",
     "output_type": "stream",
     "text": [
      "<ipython-input-452-1cd440387d10>:47: SettingWithCopyWarning: \n",
      "A value is trying to be set on a copy of a slice from a DataFrame.\n",
      "Try using .loc[row_indexer,col_indexer] = value instead\n",
      "\n",
      "See the caveats in the documentation: https://pandas.pydata.org/pandas-docs/stable/user_guide/indexing.html#returning-a-view-versus-a-copy\n",
      "  data_sub['t_minus1_high'] = data_sub['high'].shift(1)\n",
      "<ipython-input-452-1cd440387d10>:48: SettingWithCopyWarning: \n",
      "A value is trying to be set on a copy of a slice from a DataFrame.\n",
      "Try using .loc[row_indexer,col_indexer] = value instead\n",
      "\n",
      "See the caveats in the documentation: https://pandas.pydata.org/pandas-docs/stable/user_guide/indexing.html#returning-a-view-versus-a-copy\n",
      "  data_sub['t_minus1_low'] = data_sub['low'].shift(1)\n"
     ]
    },
    {
     "name": "stdout",
     "output_type": "stream",
     "text": [
      "[*********************100%***********************]  1 of 1 completed\n",
      "EXR testing r2_score: 0.9771651148261874\n",
      "EXR testing MSE score: 3.9712555088217094\n",
      "EXR : tomorrow's price: [168.63953388]\n",
      "EXR Success!\n",
      " \n",
      " \n",
      "Analyzing XOM\n"
     ]
    },
    {
     "name": "stderr",
     "output_type": "stream",
     "text": [
      "<ipython-input-452-1cd440387d10>:47: SettingWithCopyWarning: \n",
      "A value is trying to be set on a copy of a slice from a DataFrame.\n",
      "Try using .loc[row_indexer,col_indexer] = value instead\n",
      "\n",
      "See the caveats in the documentation: https://pandas.pydata.org/pandas-docs/stable/user_guide/indexing.html#returning-a-view-versus-a-copy\n",
      "  data_sub['t_minus1_high'] = data_sub['high'].shift(1)\n",
      "<ipython-input-452-1cd440387d10>:48: SettingWithCopyWarning: \n",
      "A value is trying to be set on a copy of a slice from a DataFrame.\n",
      "Try using .loc[row_indexer,col_indexer] = value instead\n",
      "\n",
      "See the caveats in the documentation: https://pandas.pydata.org/pandas-docs/stable/user_guide/indexing.html#returning-a-view-versus-a-copy\n",
      "  data_sub['t_minus1_low'] = data_sub['low'].shift(1)\n"
     ]
    },
    {
     "name": "stdout",
     "output_type": "stream",
     "text": [
      "[*********************100%***********************]  1 of 1 completed\n",
      "XOM testing r2_score: 0.8756205569964861\n",
      "XOM testing MSE score: 1.132562786640459\n",
      "XOM : tomorrow's price: [60.84201328]\n",
      "XOM Success!\n",
      " \n",
      " \n",
      "Analyzing FFIV\n"
     ]
    },
    {
     "name": "stderr",
     "output_type": "stream",
     "text": [
      "<ipython-input-452-1cd440387d10>:47: SettingWithCopyWarning: \n",
      "A value is trying to be set on a copy of a slice from a DataFrame.\n",
      "Try using .loc[row_indexer,col_indexer] = value instead\n",
      "\n",
      "See the caveats in the documentation: https://pandas.pydata.org/pandas-docs/stable/user_guide/indexing.html#returning-a-view-versus-a-copy\n",
      "  data_sub['t_minus1_high'] = data_sub['high'].shift(1)\n",
      "<ipython-input-452-1cd440387d10>:48: SettingWithCopyWarning: \n",
      "A value is trying to be set on a copy of a slice from a DataFrame.\n",
      "Try using .loc[row_indexer,col_indexer] = value instead\n",
      "\n",
      "See the caveats in the documentation: https://pandas.pydata.org/pandas-docs/stable/user_guide/indexing.html#returning-a-view-versus-a-copy\n",
      "  data_sub['t_minus1_low'] = data_sub['low'].shift(1)\n"
     ]
    },
    {
     "name": "stdout",
     "output_type": "stream",
     "text": [
      "[*********************100%***********************]  1 of 1 completed\n",
      "FFIV testing r2_score: 0.9108600196989042\n",
      "FFIV testing MSE score: 8.212503204455158\n",
      "FFIV : tomorrow's price: [200.95367267]\n",
      "FFIV Success!\n",
      " \n",
      " \n",
      "Analyzing FB\n"
     ]
    },
    {
     "name": "stderr",
     "output_type": "stream",
     "text": [
      "<ipython-input-452-1cd440387d10>:47: SettingWithCopyWarning: \n",
      "A value is trying to be set on a copy of a slice from a DataFrame.\n",
      "Try using .loc[row_indexer,col_indexer] = value instead\n",
      "\n",
      "See the caveats in the documentation: https://pandas.pydata.org/pandas-docs/stable/user_guide/indexing.html#returning-a-view-versus-a-copy\n",
      "  data_sub['t_minus1_high'] = data_sub['high'].shift(1)\n",
      "<ipython-input-452-1cd440387d10>:48: SettingWithCopyWarning: \n",
      "A value is trying to be set on a copy of a slice from a DataFrame.\n",
      "Try using .loc[row_indexer,col_indexer] = value instead\n",
      "\n",
      "See the caveats in the documentation: https://pandas.pydata.org/pandas-docs/stable/user_guide/indexing.html#returning-a-view-versus-a-copy\n",
      "  data_sub['t_minus1_low'] = data_sub['low'].shift(1)\n"
     ]
    },
    {
     "name": "stdout",
     "output_type": "stream",
     "text": [
      "[*********************100%***********************]  1 of 1 completed\n",
      "FB testing r2_score: 0.9098017243412883\n",
      "FB testing MSE score: 35.99128102168396\n",
      "FB : tomorrow's price: [343.00503286]\n",
      "FB Success!\n",
      " \n",
      " \n",
      "Analyzing FAST\n"
     ]
    },
    {
     "name": "stderr",
     "output_type": "stream",
     "text": [
      "<ipython-input-452-1cd440387d10>:47: SettingWithCopyWarning: \n",
      "A value is trying to be set on a copy of a slice from a DataFrame.\n",
      "Try using .loc[row_indexer,col_indexer] = value instead\n",
      "\n",
      "See the caveats in the documentation: https://pandas.pydata.org/pandas-docs/stable/user_guide/indexing.html#returning-a-view-versus-a-copy\n",
      "  data_sub['t_minus1_high'] = data_sub['high'].shift(1)\n",
      "<ipython-input-452-1cd440387d10>:48: SettingWithCopyWarning: \n",
      "A value is trying to be set on a copy of a slice from a DataFrame.\n",
      "Try using .loc[row_indexer,col_indexer] = value instead\n",
      "\n",
      "See the caveats in the documentation: https://pandas.pydata.org/pandas-docs/stable/user_guide/indexing.html#returning-a-view-versus-a-copy\n",
      "  data_sub['t_minus1_low'] = data_sub['low'].shift(1)\n"
     ]
    },
    {
     "name": "stdout",
     "output_type": "stream",
     "text": [
      "[*********************100%***********************]  1 of 1 completed\n",
      "FAST testing r2_score: 0.7781653626786\n",
      "FAST testing MSE score: 0.39847842102133324\n",
      "FAST : tomorrow's price: [51.68128917]\n",
      "FAST Success!\n",
      " \n",
      " \n",
      "Analyzing FRT\n"
     ]
    },
    {
     "name": "stderr",
     "output_type": "stream",
     "text": [
      "<ipython-input-452-1cd440387d10>:47: SettingWithCopyWarning: \n",
      "A value is trying to be set on a copy of a slice from a DataFrame.\n",
      "Try using .loc[row_indexer,col_indexer] = value instead\n",
      "\n",
      "See the caveats in the documentation: https://pandas.pydata.org/pandas-docs/stable/user_guide/indexing.html#returning-a-view-versus-a-copy\n",
      "  data_sub['t_minus1_high'] = data_sub['high'].shift(1)\n",
      "<ipython-input-452-1cd440387d10>:48: SettingWithCopyWarning: \n",
      "A value is trying to be set on a copy of a slice from a DataFrame.\n",
      "Try using .loc[row_indexer,col_indexer] = value instead\n",
      "\n",
      "See the caveats in the documentation: https://pandas.pydata.org/pandas-docs/stable/user_guide/indexing.html#returning-a-view-versus-a-copy\n",
      "  data_sub['t_minus1_low'] = data_sub['low'].shift(1)\n"
     ]
    },
    {
     "name": "stdout",
     "output_type": "stream",
     "text": [
      "[*********************100%***********************]  1 of 1 completed\n",
      "FRT testing r2_score: 0.6620577569778707\n",
      "FRT testing MSE score: 3.590355574861103\n",
      "FRT : tomorrow's price: [119.91581512]\n",
      "FRT Success!\n",
      " \n",
      " \n",
      "Analyzing FDX\n"
     ]
    },
    {
     "name": "stderr",
     "output_type": "stream",
     "text": [
      "<ipython-input-452-1cd440387d10>:47: SettingWithCopyWarning: \n",
      "A value is trying to be set on a copy of a slice from a DataFrame.\n",
      "Try using .loc[row_indexer,col_indexer] = value instead\n",
      "\n",
      "See the caveats in the documentation: https://pandas.pydata.org/pandas-docs/stable/user_guide/indexing.html#returning-a-view-versus-a-copy\n",
      "  data_sub['t_minus1_high'] = data_sub['high'].shift(1)\n",
      "<ipython-input-452-1cd440387d10>:48: SettingWithCopyWarning: \n",
      "A value is trying to be set on a copy of a slice from a DataFrame.\n",
      "Try using .loc[row_indexer,col_indexer] = value instead\n",
      "\n",
      "See the caveats in the documentation: https://pandas.pydata.org/pandas-docs/stable/user_guide/indexing.html#returning-a-view-versus-a-copy\n",
      "  data_sub['t_minus1_low'] = data_sub['low'].shift(1)\n"
     ]
    },
    {
     "name": "stdout",
     "output_type": "stream",
     "text": [
      "[*********************100%***********************]  1 of 1 completed\n",
      "FDX testing r2_score: 0.9730187898432702\n",
      "FDX testing MSE score: 20.916563664742736\n",
      "FDX : tomorrow's price: [222.32845084]\n",
      "FDX Success!\n",
      " \n",
      " \n",
      "Analyzing FIS\n"
     ]
    },
    {
     "name": "stderr",
     "output_type": "stream",
     "text": [
      "<ipython-input-452-1cd440387d10>:47: SettingWithCopyWarning: \n",
      "A value is trying to be set on a copy of a slice from a DataFrame.\n",
      "Try using .loc[row_indexer,col_indexer] = value instead\n",
      "\n",
      "See the caveats in the documentation: https://pandas.pydata.org/pandas-docs/stable/user_guide/indexing.html#returning-a-view-versus-a-copy\n",
      "  data_sub['t_minus1_high'] = data_sub['high'].shift(1)\n",
      "<ipython-input-452-1cd440387d10>:48: SettingWithCopyWarning: \n",
      "A value is trying to be set on a copy of a slice from a DataFrame.\n",
      "Try using .loc[row_indexer,col_indexer] = value instead\n",
      "\n",
      "See the caveats in the documentation: https://pandas.pydata.org/pandas-docs/stable/user_guide/indexing.html#returning-a-view-versus-a-copy\n",
      "  data_sub['t_minus1_low'] = data_sub['low'].shift(1)\n"
     ]
    },
    {
     "name": "stdout",
     "output_type": "stream",
     "text": [
      "[*********************100%***********************]  1 of 1 completed\n",
      "FIS testing r2_score: 0.9596953316136021\n",
      "FIS testing MSE score: 5.003964945240174\n",
      "FIS : tomorrow's price: [123.48553284]\n",
      "FIS Success!\n",
      " \n",
      " \n",
      "Analyzing FITB\n"
     ]
    },
    {
     "name": "stderr",
     "output_type": "stream",
     "text": [
      "<ipython-input-452-1cd440387d10>:47: SettingWithCopyWarning: \n",
      "A value is trying to be set on a copy of a slice from a DataFrame.\n",
      "Try using .loc[row_indexer,col_indexer] = value instead\n",
      "\n",
      "See the caveats in the documentation: https://pandas.pydata.org/pandas-docs/stable/user_guide/indexing.html#returning-a-view-versus-a-copy\n",
      "  data_sub['t_minus1_high'] = data_sub['high'].shift(1)\n",
      "<ipython-input-452-1cd440387d10>:48: SettingWithCopyWarning: \n",
      "A value is trying to be set on a copy of a slice from a DataFrame.\n",
      "Try using .loc[row_indexer,col_indexer] = value instead\n",
      "\n",
      "See the caveats in the documentation: https://pandas.pydata.org/pandas-docs/stable/user_guide/indexing.html#returning-a-view-versus-a-copy\n",
      "  data_sub['t_minus1_low'] = data_sub['low'].shift(1)\n"
     ]
    },
    {
     "name": "stdout",
     "output_type": "stream",
     "text": [
      "[*********************100%***********************]  1 of 1 completed\n",
      "FITB testing r2_score: 0.8986822395192966\n",
      "FITB testing MSE score: 0.5566997322098\n",
      "FITB : tomorrow's price: [43.68405866]\n",
      "FITB Success!\n",
      " \n",
      " \n",
      "Analyzing FRC\n"
     ]
    },
    {
     "name": "stderr",
     "output_type": "stream",
     "text": [
      "<ipython-input-452-1cd440387d10>:47: SettingWithCopyWarning: \n",
      "A value is trying to be set on a copy of a slice from a DataFrame.\n",
      "Try using .loc[row_indexer,col_indexer] = value instead\n",
      "\n",
      "See the caveats in the documentation: https://pandas.pydata.org/pandas-docs/stable/user_guide/indexing.html#returning-a-view-versus-a-copy\n",
      "  data_sub['t_minus1_high'] = data_sub['high'].shift(1)\n",
      "<ipython-input-452-1cd440387d10>:48: SettingWithCopyWarning: \n",
      "A value is trying to be set on a copy of a slice from a DataFrame.\n",
      "Try using .loc[row_indexer,col_indexer] = value instead\n",
      "\n",
      "See the caveats in the documentation: https://pandas.pydata.org/pandas-docs/stable/user_guide/indexing.html#returning-a-view-versus-a-copy\n",
      "  data_sub['t_minus1_low'] = data_sub['low'].shift(1)\n"
     ]
    },
    {
     "name": "stdout",
     "output_type": "stream",
     "text": [
      "[*********************100%***********************]  1 of 1 completed\n",
      "FRC testing r2_score: 0.7733680271827799\n",
      "FRC testing MSE score: 8.647458622599332\n",
      "FRC : tomorrow's price: [197.31876723]\n",
      "FRC Success!\n",
      " \n",
      " \n",
      "Analyzing FE\n"
     ]
    },
    {
     "name": "stderr",
     "output_type": "stream",
     "text": [
      "<ipython-input-452-1cd440387d10>:47: SettingWithCopyWarning: \n",
      "A value is trying to be set on a copy of a slice from a DataFrame.\n",
      "Try using .loc[row_indexer,col_indexer] = value instead\n",
      "\n",
      "See the caveats in the documentation: https://pandas.pydata.org/pandas-docs/stable/user_guide/indexing.html#returning-a-view-versus-a-copy\n",
      "  data_sub['t_minus1_high'] = data_sub['high'].shift(1)\n",
      "<ipython-input-452-1cd440387d10>:48: SettingWithCopyWarning: \n",
      "A value is trying to be set on a copy of a slice from a DataFrame.\n",
      "Try using .loc[row_indexer,col_indexer] = value instead\n",
      "\n",
      "See the caveats in the documentation: https://pandas.pydata.org/pandas-docs/stable/user_guide/indexing.html#returning-a-view-versus-a-copy\n",
      "  data_sub['t_minus1_low'] = data_sub['low'].shift(1)\n"
     ]
    },
    {
     "name": "stdout",
     "output_type": "stream",
     "text": [
      "[*********************100%***********************]  1 of 1 completed\n",
      "FE testing r2_score: 0.7709516411316112\n",
      "FE testing MSE score: 0.17706789297904985\n",
      "FE : tomorrow's price: [35.75406935]\n",
      "FE Success!\n",
      " \n",
      " \n",
      "Analyzing FISV\n"
     ]
    },
    {
     "name": "stderr",
     "output_type": "stream",
     "text": [
      "<ipython-input-452-1cd440387d10>:47: SettingWithCopyWarning: \n",
      "A value is trying to be set on a copy of a slice from a DataFrame.\n",
      "Try using .loc[row_indexer,col_indexer] = value instead\n",
      "\n",
      "See the caveats in the documentation: https://pandas.pydata.org/pandas-docs/stable/user_guide/indexing.html#returning-a-view-versus-a-copy\n",
      "  data_sub['t_minus1_high'] = data_sub['high'].shift(1)\n",
      "<ipython-input-452-1cd440387d10>:48: SettingWithCopyWarning: \n",
      "A value is trying to be set on a copy of a slice from a DataFrame.\n",
      "Try using .loc[row_indexer,col_indexer] = value instead\n",
      "\n",
      "See the caveats in the documentation: https://pandas.pydata.org/pandas-docs/stable/user_guide/indexing.html#returning-a-view-versus-a-copy\n",
      "  data_sub['t_minus1_low'] = data_sub['low'].shift(1)\n"
     ]
    },
    {
     "name": "stdout",
     "output_type": "stream",
     "text": [
      "[*********************100%***********************]  1 of 1 completed\n",
      "FISV testing r2_score: 0.8390965332482075\n",
      "FISV testing MSE score: 2.390491100752539\n",
      "FISV : tomorrow's price: [109.27689376]\n",
      "FISV Success!\n",
      " \n",
      " \n",
      "Analyzing FLT\n"
     ]
    },
    {
     "name": "stderr",
     "output_type": "stream",
     "text": [
      "<ipython-input-452-1cd440387d10>:47: SettingWithCopyWarning: \n",
      "A value is trying to be set on a copy of a slice from a DataFrame.\n",
      "Try using .loc[row_indexer,col_indexer] = value instead\n",
      "\n",
      "See the caveats in the documentation: https://pandas.pydata.org/pandas-docs/stable/user_guide/indexing.html#returning-a-view-versus-a-copy\n",
      "  data_sub['t_minus1_high'] = data_sub['high'].shift(1)\n",
      "<ipython-input-452-1cd440387d10>:48: SettingWithCopyWarning: \n",
      "A value is trying to be set on a copy of a slice from a DataFrame.\n",
      "Try using .loc[row_indexer,col_indexer] = value instead\n",
      "\n",
      "See the caveats in the documentation: https://pandas.pydata.org/pandas-docs/stable/user_guide/indexing.html#returning-a-view-versus-a-copy\n",
      "  data_sub['t_minus1_low'] = data_sub['low'].shift(1)\n"
     ]
    },
    {
     "name": "stdout",
     "output_type": "stream",
     "text": [
      "[*********************100%***********************]  1 of 1 completed\n",
      "FLT testing r2_score: 0.8499110779179792\n",
      "FLT testing MSE score: 13.863869772765403\n",
      "FLT : tomorrow's price: [266.8496516]\n",
      "FLT Success!\n",
      " \n",
      " \n",
      "Analyzing FMC\n"
     ]
    },
    {
     "name": "stderr",
     "output_type": "stream",
     "text": [
      "<ipython-input-452-1cd440387d10>:47: SettingWithCopyWarning: \n",
      "A value is trying to be set on a copy of a slice from a DataFrame.\n",
      "Try using .loc[row_indexer,col_indexer] = value instead\n",
      "\n",
      "See the caveats in the documentation: https://pandas.pydata.org/pandas-docs/stable/user_guide/indexing.html#returning-a-view-versus-a-copy\n",
      "  data_sub['t_minus1_high'] = data_sub['high'].shift(1)\n",
      "<ipython-input-452-1cd440387d10>:48: SettingWithCopyWarning: \n",
      "A value is trying to be set on a copy of a slice from a DataFrame.\n",
      "Try using .loc[row_indexer,col_indexer] = value instead\n",
      "\n",
      "See the caveats in the documentation: https://pandas.pydata.org/pandas-docs/stable/user_guide/indexing.html#returning-a-view-versus-a-copy\n",
      "  data_sub['t_minus1_low'] = data_sub['low'].shift(1)\n"
     ]
    },
    {
     "name": "stdout",
     "output_type": "stream",
     "text": [
      "[*********************100%***********************]  1 of 1 completed\n",
      "FMC testing r2_score: 0.9748291116316307\n",
      "FMC testing MSE score: 2.908394302052306\n",
      "FMC : tomorrow's price: [92.32038891]\n",
      "FMC Success!\n",
      " \n",
      " \n",
      "Analyzing F\n"
     ]
    },
    {
     "name": "stderr",
     "output_type": "stream",
     "text": [
      "<ipython-input-452-1cd440387d10>:47: SettingWithCopyWarning: \n",
      "A value is trying to be set on a copy of a slice from a DataFrame.\n",
      "Try using .loc[row_indexer,col_indexer] = value instead\n",
      "\n",
      "See the caveats in the documentation: https://pandas.pydata.org/pandas-docs/stable/user_guide/indexing.html#returning-a-view-versus-a-copy\n",
      "  data_sub['t_minus1_high'] = data_sub['high'].shift(1)\n",
      "<ipython-input-452-1cd440387d10>:48: SettingWithCopyWarning: \n",
      "A value is trying to be set on a copy of a slice from a DataFrame.\n",
      "Try using .loc[row_indexer,col_indexer] = value instead\n",
      "\n",
      "See the caveats in the documentation: https://pandas.pydata.org/pandas-docs/stable/user_guide/indexing.html#returning-a-view-versus-a-copy\n",
      "  data_sub['t_minus1_low'] = data_sub['low'].shift(1)\n"
     ]
    },
    {
     "name": "stdout",
     "output_type": "stream",
     "text": [
      "[*********************100%***********************]  1 of 1 completed\n",
      "F testing r2_score: 0.9135671751818593\n",
      "F testing MSE score: 0.1149884974900545\n",
      "F : tomorrow's price: [14.15452418]\n",
      "F Success!\n",
      " \n",
      " \n",
      "Analyzing FTNT\n"
     ]
    },
    {
     "name": "stderr",
     "output_type": "stream",
     "text": [
      "<ipython-input-452-1cd440387d10>:47: SettingWithCopyWarning: \n",
      "A value is trying to be set on a copy of a slice from a DataFrame.\n",
      "Try using .loc[row_indexer,col_indexer] = value instead\n",
      "\n",
      "See the caveats in the documentation: https://pandas.pydata.org/pandas-docs/stable/user_guide/indexing.html#returning-a-view-versus-a-copy\n",
      "  data_sub['t_minus1_high'] = data_sub['high'].shift(1)\n",
      "<ipython-input-452-1cd440387d10>:48: SettingWithCopyWarning: \n",
      "A value is trying to be set on a copy of a slice from a DataFrame.\n",
      "Try using .loc[row_indexer,col_indexer] = value instead\n",
      "\n",
      "See the caveats in the documentation: https://pandas.pydata.org/pandas-docs/stable/user_guide/indexing.html#returning-a-view-versus-a-copy\n",
      "  data_sub['t_minus1_low'] = data_sub['low'].shift(1)\n"
     ]
    },
    {
     "name": "stdout",
     "output_type": "stream",
     "text": [
      "[*********************100%***********************]  1 of 1 completed\n",
      "FTNT testing r2_score: 0.9831668557604307\n",
      "FTNT testing MSE score: 26.23950661834215\n",
      "FTNT : tomorrow's price: [299.44896044]\n",
      "FTNT Success!\n",
      " \n",
      " \n",
      "Analyzing FTV\n"
     ]
    },
    {
     "name": "stderr",
     "output_type": "stream",
     "text": [
      "<ipython-input-452-1cd440387d10>:47: SettingWithCopyWarning: \n",
      "A value is trying to be set on a copy of a slice from a DataFrame.\n",
      "Try using .loc[row_indexer,col_indexer] = value instead\n",
      "\n",
      "See the caveats in the documentation: https://pandas.pydata.org/pandas-docs/stable/user_guide/indexing.html#returning-a-view-versus-a-copy\n",
      "  data_sub['t_minus1_high'] = data_sub['high'].shift(1)\n",
      "<ipython-input-452-1cd440387d10>:48: SettingWithCopyWarning: \n",
      "A value is trying to be set on a copy of a slice from a DataFrame.\n",
      "Try using .loc[row_indexer,col_indexer] = value instead\n",
      "\n",
      "See the caveats in the documentation: https://pandas.pydata.org/pandas-docs/stable/user_guide/indexing.html#returning-a-view-versus-a-copy\n",
      "  data_sub['t_minus1_low'] = data_sub['low'].shift(1)\n"
     ]
    },
    {
     "name": "stdout",
     "output_type": "stream",
     "text": [
      "[*********************100%***********************]  1 of 1 completed\n",
      "FTV testing r2_score: 0.7858271992914345\n",
      "FTV testing MSE score: 0.8564548525425505\n",
      "FTV : tomorrow's price: [70.784124]\n",
      "FTV Success!\n",
      " \n",
      " \n",
      "Analyzing FBHS\n"
     ]
    },
    {
     "name": "stderr",
     "output_type": "stream",
     "text": [
      "<ipython-input-452-1cd440387d10>:47: SettingWithCopyWarning: \n",
      "A value is trying to be set on a copy of a slice from a DataFrame.\n",
      "Try using .loc[row_indexer,col_indexer] = value instead\n",
      "\n",
      "See the caveats in the documentation: https://pandas.pydata.org/pandas-docs/stable/user_guide/indexing.html#returning-a-view-versus-a-copy\n",
      "  data_sub['t_minus1_high'] = data_sub['high'].shift(1)\n",
      "<ipython-input-452-1cd440387d10>:48: SettingWithCopyWarning: \n",
      "A value is trying to be set on a copy of a slice from a DataFrame.\n",
      "Try using .loc[row_indexer,col_indexer] = value instead\n",
      "\n",
      "See the caveats in the documentation: https://pandas.pydata.org/pandas-docs/stable/user_guide/indexing.html#returning-a-view-versus-a-copy\n",
      "  data_sub['t_minus1_low'] = data_sub['low'].shift(1)\n"
     ]
    },
    {
     "name": "stdout",
     "output_type": "stream",
     "text": [
      "[*********************100%***********************]  1 of 1 completed\n",
      "FBHS testing r2_score: 0.8858800208935161\n",
      "FBHS testing MSE score: 2.4823570559910637\n",
      "FBHS : tomorrow's price: [89.98144697]\n",
      "FBHS Success!\n",
      " \n",
      " \n",
      "Analyzing BEN\n"
     ]
    },
    {
     "name": "stderr",
     "output_type": "stream",
     "text": [
      "<ipython-input-452-1cd440387d10>:47: SettingWithCopyWarning: \n",
      "A value is trying to be set on a copy of a slice from a DataFrame.\n",
      "Try using .loc[row_indexer,col_indexer] = value instead\n",
      "\n",
      "See the caveats in the documentation: https://pandas.pydata.org/pandas-docs/stable/user_guide/indexing.html#returning-a-view-versus-a-copy\n",
      "  data_sub['t_minus1_high'] = data_sub['high'].shift(1)\n",
      "<ipython-input-452-1cd440387d10>:48: SettingWithCopyWarning: \n",
      "A value is trying to be set on a copy of a slice from a DataFrame.\n",
      "Try using .loc[row_indexer,col_indexer] = value instead\n",
      "\n",
      "See the caveats in the documentation: https://pandas.pydata.org/pandas-docs/stable/user_guide/indexing.html#returning-a-view-versus-a-copy\n",
      "  data_sub['t_minus1_low'] = data_sub['low'].shift(1)\n"
     ]
    },
    {
     "name": "stdout",
     "output_type": "stream",
     "text": [
      "[*********************100%***********************]  1 of 1 completed\n",
      "BEN testing r2_score: 0.8465804637752139\n",
      "BEN testing MSE score: 0.45139678188954563\n",
      "BEN : tomorrow's price: [30.15834966]\n",
      "BEN Success!\n",
      " \n",
      " \n",
      "Analyzing FCX\n"
     ]
    },
    {
     "name": "stderr",
     "output_type": "stream",
     "text": [
      "<ipython-input-452-1cd440387d10>:47: SettingWithCopyWarning: \n",
      "A value is trying to be set on a copy of a slice from a DataFrame.\n",
      "Try using .loc[row_indexer,col_indexer] = value instead\n",
      "\n",
      "See the caveats in the documentation: https://pandas.pydata.org/pandas-docs/stable/user_guide/indexing.html#returning-a-view-versus-a-copy\n",
      "  data_sub['t_minus1_high'] = data_sub['high'].shift(1)\n",
      "<ipython-input-452-1cd440387d10>:48: SettingWithCopyWarning: \n",
      "A value is trying to be set on a copy of a slice from a DataFrame.\n",
      "Try using .loc[row_indexer,col_indexer] = value instead\n",
      "\n",
      "See the caveats in the documentation: https://pandas.pydata.org/pandas-docs/stable/user_guide/indexing.html#returning-a-view-versus-a-copy\n",
      "  data_sub['t_minus1_low'] = data_sub['low'].shift(1)\n"
     ]
    },
    {
     "name": "stdout",
     "output_type": "stream",
     "text": [
      "[*********************100%***********************]  1 of 1 completed\n",
      "FCX testing r2_score: 0.8907789797232896\n",
      "FCX testing MSE score: 1.2231648816699796\n",
      "FCX : tomorrow's price: [32.72231397]\n",
      "FCX Success!\n",
      " \n",
      " \n",
      "Analyzing GPS\n"
     ]
    },
    {
     "name": "stderr",
     "output_type": "stream",
     "text": [
      "<ipython-input-452-1cd440387d10>:47: SettingWithCopyWarning: \n",
      "A value is trying to be set on a copy of a slice from a DataFrame.\n",
      "Try using .loc[row_indexer,col_indexer] = value instead\n",
      "\n",
      "See the caveats in the documentation: https://pandas.pydata.org/pandas-docs/stable/user_guide/indexing.html#returning-a-view-versus-a-copy\n",
      "  data_sub['t_minus1_high'] = data_sub['high'].shift(1)\n",
      "<ipython-input-452-1cd440387d10>:48: SettingWithCopyWarning: \n",
      "A value is trying to be set on a copy of a slice from a DataFrame.\n",
      "Try using .loc[row_indexer,col_indexer] = value instead\n",
      "\n",
      "See the caveats in the documentation: https://pandas.pydata.org/pandas-docs/stable/user_guide/indexing.html#returning-a-view-versus-a-copy\n",
      "  data_sub['t_minus1_low'] = data_sub['low'].shift(1)\n"
     ]
    },
    {
     "name": "stdout",
     "output_type": "stream",
     "text": [
      "[*********************100%***********************]  1 of 1 completed\n",
      "GPS testing r2_score: 0.9531315294574588\n",
      "GPS testing MSE score: 0.7327116112439958\n",
      "GPS : tomorrow's price: [23.68712209]\n",
      "GPS Success!\n",
      " \n",
      " \n",
      "Analyzing GRMN\n"
     ]
    },
    {
     "name": "stderr",
     "output_type": "stream",
     "text": [
      "<ipython-input-452-1cd440387d10>:47: SettingWithCopyWarning: \n",
      "A value is trying to be set on a copy of a slice from a DataFrame.\n",
      "Try using .loc[row_indexer,col_indexer] = value instead\n",
      "\n",
      "See the caveats in the documentation: https://pandas.pydata.org/pandas-docs/stable/user_guide/indexing.html#returning-a-view-versus-a-copy\n",
      "  data_sub['t_minus1_high'] = data_sub['high'].shift(1)\n",
      "<ipython-input-452-1cd440387d10>:48: SettingWithCopyWarning: \n",
      "A value is trying to be set on a copy of a slice from a DataFrame.\n",
      "Try using .loc[row_indexer,col_indexer] = value instead\n",
      "\n",
      "See the caveats in the documentation: https://pandas.pydata.org/pandas-docs/stable/user_guide/indexing.html#returning-a-view-versus-a-copy\n",
      "  data_sub['t_minus1_low'] = data_sub['low'].shift(1)\n"
     ]
    },
    {
     "name": "stdout",
     "output_type": "stream",
     "text": [
      "[*********************100%***********************]  1 of 1 completed\n",
      "GRMN testing r2_score: 0.9765950262725601\n",
      "GRMN testing MSE score: 3.591606254485011\n",
      "GRMN : tomorrow's price: [154.32355471]\n",
      "GRMN Success!\n",
      " \n",
      " \n",
      "Analyzing IT\n"
     ]
    },
    {
     "name": "stderr",
     "output_type": "stream",
     "text": [
      "<ipython-input-452-1cd440387d10>:47: SettingWithCopyWarning: \n",
      "A value is trying to be set on a copy of a slice from a DataFrame.\n",
      "Try using .loc[row_indexer,col_indexer] = value instead\n",
      "\n",
      "See the caveats in the documentation: https://pandas.pydata.org/pandas-docs/stable/user_guide/indexing.html#returning-a-view-versus-a-copy\n",
      "  data_sub['t_minus1_high'] = data_sub['high'].shift(1)\n",
      "<ipython-input-452-1cd440387d10>:48: SettingWithCopyWarning: \n",
      "A value is trying to be set on a copy of a slice from a DataFrame.\n",
      "Try using .loc[row_indexer,col_indexer] = value instead\n",
      "\n",
      "See the caveats in the documentation: https://pandas.pydata.org/pandas-docs/stable/user_guide/indexing.html#returning-a-view-versus-a-copy\n",
      "  data_sub['t_minus1_low'] = data_sub['low'].shift(1)\n"
     ]
    },
    {
     "name": "stdout",
     "output_type": "stream",
     "text": [
      "[*********************100%***********************]  1 of 1 completed\n",
      "IT testing r2_score: 0.9777773749762574\n",
      "IT testing MSE score: 28.224353806071527\n",
      "IT : tomorrow's price: [307.37182173]\n",
      "IT Success!\n",
      " \n",
      " \n",
      "Analyzing GNRC\n"
     ]
    },
    {
     "name": "stderr",
     "output_type": "stream",
     "text": [
      "<ipython-input-452-1cd440387d10>:47: SettingWithCopyWarning: \n",
      "A value is trying to be set on a copy of a slice from a DataFrame.\n",
      "Try using .loc[row_indexer,col_indexer] = value instead\n",
      "\n",
      "See the caveats in the documentation: https://pandas.pydata.org/pandas-docs/stable/user_guide/indexing.html#returning-a-view-versus-a-copy\n",
      "  data_sub['t_minus1_high'] = data_sub['high'].shift(1)\n",
      "<ipython-input-452-1cd440387d10>:48: SettingWithCopyWarning: \n",
      "A value is trying to be set on a copy of a slice from a DataFrame.\n",
      "Try using .loc[row_indexer,col_indexer] = value instead\n",
      "\n",
      "See the caveats in the documentation: https://pandas.pydata.org/pandas-docs/stable/user_guide/indexing.html#returning-a-view-versus-a-copy\n",
      "  data_sub['t_minus1_low'] = data_sub['low'].shift(1)\n"
     ]
    },
    {
     "name": "stdout",
     "output_type": "stream",
     "text": [
      "[*********************100%***********************]  1 of 1 completed\n",
      "GNRC testing r2_score: 0.968073924352606\n",
      "GNRC testing MSE score: 77.99829400784384\n",
      "GNRC : tomorrow's price: [405.58691945]\n",
      "GNRC Success!\n",
      " \n",
      " \n",
      "Analyzing GD\n"
     ]
    },
    {
     "name": "stderr",
     "output_type": "stream",
     "text": [
      "<ipython-input-452-1cd440387d10>:47: SettingWithCopyWarning: \n",
      "A value is trying to be set on a copy of a slice from a DataFrame.\n",
      "Try using .loc[row_indexer,col_indexer] = value instead\n",
      "\n",
      "See the caveats in the documentation: https://pandas.pydata.org/pandas-docs/stable/user_guide/indexing.html#returning-a-view-versus-a-copy\n",
      "  data_sub['t_minus1_high'] = data_sub['high'].shift(1)\n",
      "<ipython-input-452-1cd440387d10>:48: SettingWithCopyWarning: \n",
      "A value is trying to be set on a copy of a slice from a DataFrame.\n",
      "Try using .loc[row_indexer,col_indexer] = value instead\n",
      "\n",
      "See the caveats in the documentation: https://pandas.pydata.org/pandas-docs/stable/user_guide/indexing.html#returning-a-view-versus-a-copy\n",
      "  data_sub['t_minus1_low'] = data_sub['low'].shift(1)\n"
     ]
    },
    {
     "name": "stdout",
     "output_type": "stream",
     "text": [
      "[*********************100%***********************]  1 of 1 completed\n",
      "GD testing r2_score: 0.8297426401944192\n",
      "GD testing MSE score: 4.19547397045238\n",
      "GD : tomorrow's price: [197.03654596]\n",
      "GD Success!\n",
      " \n",
      " \n",
      "Analyzing GE\n"
     ]
    },
    {
     "name": "stderr",
     "output_type": "stream",
     "text": [
      "<ipython-input-452-1cd440387d10>:47: SettingWithCopyWarning: \n",
      "A value is trying to be set on a copy of a slice from a DataFrame.\n",
      "Try using .loc[row_indexer,col_indexer] = value instead\n",
      "\n",
      "See the caveats in the documentation: https://pandas.pydata.org/pandas-docs/stable/user_guide/indexing.html#returning-a-view-versus-a-copy\n",
      "  data_sub['t_minus1_high'] = data_sub['high'].shift(1)\n",
      "<ipython-input-452-1cd440387d10>:48: SettingWithCopyWarning: \n",
      "A value is trying to be set on a copy of a slice from a DataFrame.\n",
      "Try using .loc[row_indexer,col_indexer] = value instead\n",
      "\n",
      "See the caveats in the documentation: https://pandas.pydata.org/pandas-docs/stable/user_guide/indexing.html#returning-a-view-versus-a-copy\n",
      "  data_sub['t_minus1_low'] = data_sub['low'].shift(1)\n"
     ]
    },
    {
     "name": "stdout",
     "output_type": "stream",
     "text": [
      "[*********************100%***********************]  1 of 1 completed\n",
      "GE testing r2_score: 0.6189115683307524\n",
      "GE testing MSE score: 3.763066478370641\n",
      "GE : tomorrow's price: [105.75631733]\n",
      "GE Success!\n",
      " \n",
      " \n",
      "Analyzing GIS\n"
     ]
    },
    {
     "name": "stderr",
     "output_type": "stream",
     "text": [
      "<ipython-input-452-1cd440387d10>:47: SettingWithCopyWarning: \n",
      "A value is trying to be set on a copy of a slice from a DataFrame.\n",
      "Try using .loc[row_indexer,col_indexer] = value instead\n",
      "\n",
      "See the caveats in the documentation: https://pandas.pydata.org/pandas-docs/stable/user_guide/indexing.html#returning-a-view-versus-a-copy\n",
      "  data_sub['t_minus1_high'] = data_sub['high'].shift(1)\n",
      "<ipython-input-452-1cd440387d10>:48: SettingWithCopyWarning: \n",
      "A value is trying to be set on a copy of a slice from a DataFrame.\n",
      "Try using .loc[row_indexer,col_indexer] = value instead\n",
      "\n",
      "See the caveats in the documentation: https://pandas.pydata.org/pandas-docs/stable/user_guide/indexing.html#returning-a-view-versus-a-copy\n",
      "  data_sub['t_minus1_low'] = data_sub['low'].shift(1)\n"
     ]
    },
    {
     "name": "stdout",
     "output_type": "stream",
     "text": [
      "[*********************100%***********************]  1 of 1 completed\n",
      "GIS testing r2_score: 0.8629835940693094\n",
      "GIS testing MSE score: 0.4633970349813332\n",
      "GIS : tomorrow's price: [60.28170491]\n",
      "GIS Success!\n",
      " \n",
      " \n",
      "Analyzing GM\n"
     ]
    },
    {
     "name": "stderr",
     "output_type": "stream",
     "text": [
      "<ipython-input-452-1cd440387d10>:47: SettingWithCopyWarning: \n",
      "A value is trying to be set on a copy of a slice from a DataFrame.\n",
      "Try using .loc[row_indexer,col_indexer] = value instead\n",
      "\n",
      "See the caveats in the documentation: https://pandas.pydata.org/pandas-docs/stable/user_guide/indexing.html#returning-a-view-versus-a-copy\n",
      "  data_sub['t_minus1_high'] = data_sub['high'].shift(1)\n",
      "<ipython-input-452-1cd440387d10>:48: SettingWithCopyWarning: \n",
      "A value is trying to be set on a copy of a slice from a DataFrame.\n",
      "Try using .loc[row_indexer,col_indexer] = value instead\n",
      "\n",
      "See the caveats in the documentation: https://pandas.pydata.org/pandas-docs/stable/user_guide/indexing.html#returning-a-view-versus-a-copy\n",
      "  data_sub['t_minus1_low'] = data_sub['low'].shift(1)\n"
     ]
    },
    {
     "name": "stdout",
     "output_type": "stream",
     "text": [
      "[*********************100%***********************]  1 of 1 completed\n",
      "GM testing r2_score: 0.9102245653090477\n",
      "GM testing MSE score: 1.4296229498777568\n",
      "GM : tomorrow's price: [53.09660618]\n",
      "GM Success!\n",
      " \n",
      " \n",
      "Analyzing GPC\n"
     ]
    },
    {
     "name": "stderr",
     "output_type": "stream",
     "text": [
      "<ipython-input-452-1cd440387d10>:47: SettingWithCopyWarning: \n",
      "A value is trying to be set on a copy of a slice from a DataFrame.\n",
      "Try using .loc[row_indexer,col_indexer] = value instead\n",
      "\n",
      "See the caveats in the documentation: https://pandas.pydata.org/pandas-docs/stable/user_guide/indexing.html#returning-a-view-versus-a-copy\n",
      "  data_sub['t_minus1_high'] = data_sub['high'].shift(1)\n",
      "<ipython-input-452-1cd440387d10>:48: SettingWithCopyWarning: \n",
      "A value is trying to be set on a copy of a slice from a DataFrame.\n",
      "Try using .loc[row_indexer,col_indexer] = value instead\n",
      "\n",
      "See the caveats in the documentation: https://pandas.pydata.org/pandas-docs/stable/user_guide/indexing.html#returning-a-view-versus-a-copy\n",
      "  data_sub['t_minus1_low'] = data_sub['low'].shift(1)\n"
     ]
    },
    {
     "name": "stdout",
     "output_type": "stream",
     "text": [
      "[*********************100%***********************]  1 of 1 completed\n",
      "GPC testing r2_score: 0.7724088227666303\n",
      "GPC testing MSE score: 2.727278506449447\n",
      "GPC : tomorrow's price: [121.27403452]\n",
      "GPC Success!\n",
      " \n",
      " \n",
      "Analyzing GILD\n"
     ]
    },
    {
     "name": "stderr",
     "output_type": "stream",
     "text": [
      "<ipython-input-452-1cd440387d10>:47: SettingWithCopyWarning: \n",
      "A value is trying to be set on a copy of a slice from a DataFrame.\n",
      "Try using .loc[row_indexer,col_indexer] = value instead\n",
      "\n",
      "See the caveats in the documentation: https://pandas.pydata.org/pandas-docs/stable/user_guide/indexing.html#returning-a-view-versus-a-copy\n",
      "  data_sub['t_minus1_high'] = data_sub['high'].shift(1)\n",
      "<ipython-input-452-1cd440387d10>:48: SettingWithCopyWarning: \n",
      "A value is trying to be set on a copy of a slice from a DataFrame.\n",
      "Try using .loc[row_indexer,col_indexer] = value instead\n",
      "\n",
      "See the caveats in the documentation: https://pandas.pydata.org/pandas-docs/stable/user_guide/indexing.html#returning-a-view-versus-a-copy\n",
      "  data_sub['t_minus1_low'] = data_sub['low'].shift(1)\n"
     ]
    },
    {
     "name": "stdout",
     "output_type": "stream",
     "text": [
      "[*********************100%***********************]  1 of 1 completed\n",
      "GILD testing r2_score: 0.8706232465596265\n",
      "GILD testing MSE score: 0.5156256967944417\n",
      "GILD : tomorrow's price: [69.24793391]\n",
      "GILD Success!\n",
      " \n",
      " \n",
      "Analyzing GPN\n"
     ]
    },
    {
     "name": "stderr",
     "output_type": "stream",
     "text": [
      "<ipython-input-452-1cd440387d10>:47: SettingWithCopyWarning: \n",
      "A value is trying to be set on a copy of a slice from a DataFrame.\n",
      "Try using .loc[row_indexer,col_indexer] = value instead\n",
      "\n",
      "See the caveats in the documentation: https://pandas.pydata.org/pandas-docs/stable/user_guide/indexing.html#returning-a-view-versus-a-copy\n",
      "  data_sub['t_minus1_high'] = data_sub['high'].shift(1)\n",
      "<ipython-input-452-1cd440387d10>:48: SettingWithCopyWarning: \n",
      "A value is trying to be set on a copy of a slice from a DataFrame.\n",
      "Try using .loc[row_indexer,col_indexer] = value instead\n",
      "\n",
      "See the caveats in the documentation: https://pandas.pydata.org/pandas-docs/stable/user_guide/indexing.html#returning-a-view-versus-a-copy\n",
      "  data_sub['t_minus1_low'] = data_sub['low'].shift(1)\n"
     ]
    },
    {
     "name": "stdout",
     "output_type": "stream",
     "text": [
      "[*********************100%***********************]  1 of 1 completed\n",
      "GPN testing r2_score: 0.9546601085483037\n",
      "GPN testing MSE score: 12.251336035539433\n",
      "GPN : tomorrow's price: [159.76123841]\n",
      "GPN Success!\n",
      " \n",
      " \n",
      "Analyzing GL\n"
     ]
    },
    {
     "name": "stderr",
     "output_type": "stream",
     "text": [
      "<ipython-input-452-1cd440387d10>:47: SettingWithCopyWarning: \n",
      "A value is trying to be set on a copy of a slice from a DataFrame.\n",
      "Try using .loc[row_indexer,col_indexer] = value instead\n",
      "\n",
      "See the caveats in the documentation: https://pandas.pydata.org/pandas-docs/stable/user_guide/indexing.html#returning-a-view-versus-a-copy\n",
      "  data_sub['t_minus1_high'] = data_sub['high'].shift(1)\n",
      "<ipython-input-452-1cd440387d10>:48: SettingWithCopyWarning: \n",
      "A value is trying to be set on a copy of a slice from a DataFrame.\n",
      "Try using .loc[row_indexer,col_indexer] = value instead\n",
      "\n",
      "See the caveats in the documentation: https://pandas.pydata.org/pandas-docs/stable/user_guide/indexing.html#returning-a-view-versus-a-copy\n",
      "  data_sub['t_minus1_low'] = data_sub['low'].shift(1)\n"
     ]
    },
    {
     "name": "stdout",
     "output_type": "stream",
     "text": [
      "[*********************100%***********************]  1 of 1 completed\n",
      "GL testing r2_score: 0.9301707834207547\n",
      "GL testing MSE score: 2.1163579824644936\n",
      "GL : tomorrow's price: [90.11882868]\n",
      "GL Success!\n",
      " \n",
      " \n",
      "Analyzing GS\n"
     ]
    },
    {
     "name": "stderr",
     "output_type": "stream",
     "text": [
      "<ipython-input-452-1cd440387d10>:47: SettingWithCopyWarning: \n",
      "A value is trying to be set on a copy of a slice from a DataFrame.\n",
      "Try using .loc[row_indexer,col_indexer] = value instead\n",
      "\n",
      "See the caveats in the documentation: https://pandas.pydata.org/pandas-docs/stable/user_guide/indexing.html#returning-a-view-versus-a-copy\n",
      "  data_sub['t_minus1_high'] = data_sub['high'].shift(1)\n",
      "<ipython-input-452-1cd440387d10>:48: SettingWithCopyWarning: \n",
      "A value is trying to be set on a copy of a slice from a DataFrame.\n",
      "Try using .loc[row_indexer,col_indexer] = value instead\n",
      "\n",
      "See the caveats in the documentation: https://pandas.pydata.org/pandas-docs/stable/user_guide/indexing.html#returning-a-view-versus-a-copy\n",
      "  data_sub['t_minus1_low'] = data_sub['low'].shift(1)\n"
     ]
    },
    {
     "name": "stdout",
     "output_type": "stream",
     "text": [
      "[*********************100%***********************]  1 of 1 completed\n",
      "GS testing r2_score: 0.8914967066023152\n",
      "GS testing MSE score: 34.820440267523196\n",
      "GS : tomorrow's price: [380.21259785]\n",
      "GS Success!\n",
      " \n",
      " \n",
      "Analyzing HAL\n"
     ]
    },
    {
     "name": "stderr",
     "output_type": "stream",
     "text": [
      "<ipython-input-452-1cd440387d10>:47: SettingWithCopyWarning: \n",
      "A value is trying to be set on a copy of a slice from a DataFrame.\n",
      "Try using .loc[row_indexer,col_indexer] = value instead\n",
      "\n",
      "See the caveats in the documentation: https://pandas.pydata.org/pandas-docs/stable/user_guide/indexing.html#returning-a-view-versus-a-copy\n",
      "  data_sub['t_minus1_high'] = data_sub['high'].shift(1)\n",
      "<ipython-input-452-1cd440387d10>:48: SettingWithCopyWarning: \n",
      "A value is trying to be set on a copy of a slice from a DataFrame.\n",
      "Try using .loc[row_indexer,col_indexer] = value instead\n",
      "\n",
      "See the caveats in the documentation: https://pandas.pydata.org/pandas-docs/stable/user_guide/indexing.html#returning-a-view-versus-a-copy\n",
      "  data_sub['t_minus1_low'] = data_sub['low'].shift(1)\n"
     ]
    },
    {
     "name": "stdout",
     "output_type": "stream",
     "text": [
      "[*********************100%***********************]  1 of 1 completed\n",
      "HAL testing r2_score: 0.8868996708538623\n",
      "HAL testing MSE score: 0.33373320107086096\n",
      "HAL : tomorrow's price: [22.38879721]\n",
      "HAL Success!\n",
      " \n",
      " \n",
      "Analyzing HBI\n"
     ]
    },
    {
     "name": "stderr",
     "output_type": "stream",
     "text": [
      "<ipython-input-452-1cd440387d10>:47: SettingWithCopyWarning: \n",
      "A value is trying to be set on a copy of a slice from a DataFrame.\n",
      "Try using .loc[row_indexer,col_indexer] = value instead\n",
      "\n",
      "See the caveats in the documentation: https://pandas.pydata.org/pandas-docs/stable/user_guide/indexing.html#returning-a-view-versus-a-copy\n",
      "  data_sub['t_minus1_high'] = data_sub['high'].shift(1)\n",
      "<ipython-input-452-1cd440387d10>:48: SettingWithCopyWarning: \n",
      "A value is trying to be set on a copy of a slice from a DataFrame.\n",
      "Try using .loc[row_indexer,col_indexer] = value instead\n",
      "\n",
      "See the caveats in the documentation: https://pandas.pydata.org/pandas-docs/stable/user_guide/indexing.html#returning-a-view-versus-a-copy\n",
      "  data_sub['t_minus1_low'] = data_sub['low'].shift(1)\n"
     ]
    },
    {
     "name": "stdout",
     "output_type": "stream",
     "text": [
      "[*********************100%***********************]  1 of 1 completed\n",
      "HBI testing r2_score: 0.8497291573114019\n",
      "HBI testing MSE score: 0.197377103412352\n",
      "HBI : tomorrow's price: [17.46550653]\n",
      "HBI Success!\n",
      " \n",
      " \n",
      "Analyzing HAS\n"
     ]
    },
    {
     "name": "stderr",
     "output_type": "stream",
     "text": [
      "<ipython-input-452-1cd440387d10>:47: SettingWithCopyWarning: \n",
      "A value is trying to be set on a copy of a slice from a DataFrame.\n",
      "Try using .loc[row_indexer,col_indexer] = value instead\n",
      "\n",
      "See the caveats in the documentation: https://pandas.pydata.org/pandas-docs/stable/user_guide/indexing.html#returning-a-view-versus-a-copy\n",
      "  data_sub['t_minus1_high'] = data_sub['high'].shift(1)\n",
      "<ipython-input-452-1cd440387d10>:48: SettingWithCopyWarning: \n",
      "A value is trying to be set on a copy of a slice from a DataFrame.\n",
      "Try using .loc[row_indexer,col_indexer] = value instead\n",
      "\n",
      "See the caveats in the documentation: https://pandas.pydata.org/pandas-docs/stable/user_guide/indexing.html#returning-a-view-versus-a-copy\n",
      "  data_sub['t_minus1_low'] = data_sub['low'].shift(1)\n"
     ]
    },
    {
     "name": "stdout",
     "output_type": "stream",
     "text": [
      "[*********************100%***********************]  1 of 1 completed\n",
      "HAS testing r2_score: 0.7791640487037015\n",
      "HAS testing MSE score: 2.451355343584546\n",
      "HAS : tomorrow's price: [88.75942672]\n",
      "HAS Success!\n",
      " \n",
      " \n",
      "Analyzing HCA\n"
     ]
    },
    {
     "name": "stderr",
     "output_type": "stream",
     "text": [
      "<ipython-input-452-1cd440387d10>:47: SettingWithCopyWarning: \n",
      "A value is trying to be set on a copy of a slice from a DataFrame.\n",
      "Try using .loc[row_indexer,col_indexer] = value instead\n",
      "\n",
      "See the caveats in the documentation: https://pandas.pydata.org/pandas-docs/stable/user_guide/indexing.html#returning-a-view-versus-a-copy\n",
      "  data_sub['t_minus1_high'] = data_sub['high'].shift(1)\n",
      "<ipython-input-452-1cd440387d10>:48: SettingWithCopyWarning: \n",
      "A value is trying to be set on a copy of a slice from a DataFrame.\n",
      "Try using .loc[row_indexer,col_indexer] = value instead\n",
      "\n",
      "See the caveats in the documentation: https://pandas.pydata.org/pandas-docs/stable/user_guide/indexing.html#returning-a-view-versus-a-copy\n",
      "  data_sub['t_minus1_low'] = data_sub['low'].shift(1)\n"
     ]
    },
    {
     "name": "stdout",
     "output_type": "stream",
     "text": [
      "[*********************100%***********************]  1 of 1 completed\n",
      "HCA testing r2_score: 0.9583212351301518\n",
      "HCA testing MSE score: 17.07057347922798\n",
      "HCA : tomorrow's price: [247.5993548]\n",
      "HCA Success!\n",
      " \n",
      " \n",
      "Analyzing PEAK\n"
     ]
    },
    {
     "name": "stderr",
     "output_type": "stream",
     "text": [
      "<ipython-input-452-1cd440387d10>:47: SettingWithCopyWarning: \n",
      "A value is trying to be set on a copy of a slice from a DataFrame.\n",
      "Try using .loc[row_indexer,col_indexer] = value instead\n",
      "\n",
      "See the caveats in the documentation: https://pandas.pydata.org/pandas-docs/stable/user_guide/indexing.html#returning-a-view-versus-a-copy\n",
      "  data_sub['t_minus1_high'] = data_sub['high'].shift(1)\n",
      "<ipython-input-452-1cd440387d10>:48: SettingWithCopyWarning: \n",
      "A value is trying to be set on a copy of a slice from a DataFrame.\n",
      "Try using .loc[row_indexer,col_indexer] = value instead\n",
      "\n",
      "See the caveats in the documentation: https://pandas.pydata.org/pandas-docs/stable/user_guide/indexing.html#returning-a-view-versus-a-copy\n",
      "  data_sub['t_minus1_low'] = data_sub['low'].shift(1)\n"
     ]
    },
    {
     "name": "stdout",
     "output_type": "stream",
     "text": [
      "[*********************100%***********************]  1 of 1 completed\n",
      "PEAK testing r2_score: 0.8703728293840995\n",
      "PEAK testing MSE score: 0.17713956855046883\n",
      "PEAK : tomorrow's price: [33.82902053]\n",
      "PEAK Success!\n",
      " \n",
      " \n",
      "Analyzing HSIC\n"
     ]
    },
    {
     "name": "stderr",
     "output_type": "stream",
     "text": [
      "<ipython-input-452-1cd440387d10>:47: SettingWithCopyWarning: \n",
      "A value is trying to be set on a copy of a slice from a DataFrame.\n",
      "Try using .loc[row_indexer,col_indexer] = value instead\n",
      "\n",
      "See the caveats in the documentation: https://pandas.pydata.org/pandas-docs/stable/user_guide/indexing.html#returning-a-view-versus-a-copy\n",
      "  data_sub['t_minus1_high'] = data_sub['high'].shift(1)\n",
      "<ipython-input-452-1cd440387d10>:48: SettingWithCopyWarning: \n",
      "A value is trying to be set on a copy of a slice from a DataFrame.\n",
      "Try using .loc[row_indexer,col_indexer] = value instead\n",
      "\n",
      "See the caveats in the documentation: https://pandas.pydata.org/pandas-docs/stable/user_guide/indexing.html#returning-a-view-versus-a-copy\n",
      "  data_sub['t_minus1_low'] = data_sub['low'].shift(1)\n"
     ]
    },
    {
     "name": "stdout",
     "output_type": "stream",
     "text": [
      "[*********************100%***********************]  1 of 1 completed\n",
      "HSIC testing r2_score: 0.5361942088698981\n",
      "HSIC testing MSE score: 1.6288051759509903\n",
      "HSIC : tomorrow's price: [78.21318344]\n",
      "HSIC Success!\n",
      " \n",
      " \n",
      "Analyzing HES\n"
     ]
    },
    {
     "name": "stderr",
     "output_type": "stream",
     "text": [
      "<ipython-input-452-1cd440387d10>:47: SettingWithCopyWarning: \n",
      "A value is trying to be set on a copy of a slice from a DataFrame.\n",
      "Try using .loc[row_indexer,col_indexer] = value instead\n",
      "\n",
      "See the caveats in the documentation: https://pandas.pydata.org/pandas-docs/stable/user_guide/indexing.html#returning-a-view-versus-a-copy\n",
      "  data_sub['t_minus1_high'] = data_sub['high'].shift(1)\n",
      "<ipython-input-452-1cd440387d10>:48: SettingWithCopyWarning: \n",
      "A value is trying to be set on a copy of a slice from a DataFrame.\n",
      "Try using .loc[row_indexer,col_indexer] = value instead\n",
      "\n",
      "See the caveats in the documentation: https://pandas.pydata.org/pandas-docs/stable/user_guide/indexing.html#returning-a-view-versus-a-copy\n",
      "  data_sub['t_minus1_low'] = data_sub['low'].shift(1)\n"
     ]
    },
    {
     "name": "stdout",
     "output_type": "stream",
     "text": [
      "[*********************100%***********************]  1 of 1 completed\n",
      "HES testing r2_score: 0.9308034801166959\n",
      "HES testing MSE score: 4.05914601408674\n",
      "HES : tomorrow's price: [81.21930865]\n",
      "HES Success!\n",
      " \n",
      " \n",
      "Analyzing HPE\n"
     ]
    },
    {
     "name": "stderr",
     "output_type": "stream",
     "text": [
      "<ipython-input-452-1cd440387d10>:47: SettingWithCopyWarning: \n",
      "A value is trying to be set on a copy of a slice from a DataFrame.\n",
      "Try using .loc[row_indexer,col_indexer] = value instead\n",
      "\n",
      "See the caveats in the documentation: https://pandas.pydata.org/pandas-docs/stable/user_guide/indexing.html#returning-a-view-versus-a-copy\n",
      "  data_sub['t_minus1_high'] = data_sub['high'].shift(1)\n",
      "<ipython-input-452-1cd440387d10>:48: SettingWithCopyWarning: \n",
      "A value is trying to be set on a copy of a slice from a DataFrame.\n",
      "Try using .loc[row_indexer,col_indexer] = value instead\n",
      "\n",
      "See the caveats in the documentation: https://pandas.pydata.org/pandas-docs/stable/user_guide/indexing.html#returning-a-view-versus-a-copy\n",
      "  data_sub['t_minus1_low'] = data_sub['low'].shift(1)\n"
     ]
    },
    {
     "name": "stdout",
     "output_type": "stream",
     "text": [
      "[*********************100%***********************]  1 of 1 completed\n",
      "HPE testing r2_score: 0.9156319355340512\n",
      "HPE testing MSE score: 0.06095031275030873\n",
      "HPE : tomorrow's price: [14.62418018]\n",
      "HPE Success!\n",
      " \n",
      " \n",
      "Analyzing HLT\n"
     ]
    },
    {
     "name": "stderr",
     "output_type": "stream",
     "text": [
      "<ipython-input-452-1cd440387d10>:47: SettingWithCopyWarning: \n",
      "A value is trying to be set on a copy of a slice from a DataFrame.\n",
      "Try using .loc[row_indexer,col_indexer] = value instead\n",
      "\n",
      "See the caveats in the documentation: https://pandas.pydata.org/pandas-docs/stable/user_guide/indexing.html#returning-a-view-versus-a-copy\n",
      "  data_sub['t_minus1_high'] = data_sub['high'].shift(1)\n",
      "<ipython-input-452-1cd440387d10>:48: SettingWithCopyWarning: \n",
      "A value is trying to be set on a copy of a slice from a DataFrame.\n",
      "Try using .loc[row_indexer,col_indexer] = value instead\n",
      "\n",
      "See the caveats in the documentation: https://pandas.pydata.org/pandas-docs/stable/user_guide/indexing.html#returning-a-view-versus-a-copy\n",
      "  data_sub['t_minus1_low'] = data_sub['low'].shift(1)\n"
     ]
    },
    {
     "name": "stdout",
     "output_type": "stream",
     "text": [
      "[*********************100%***********************]  1 of 1 completed\n",
      "HLT testing r2_score: 0.8664836813054297\n",
      "HLT testing MSE score: 4.466975223165942\n",
      "HLT : tomorrow's price: [138.12903132]\n",
      "HLT Success!\n",
      " \n",
      " \n",
      "Analyzing HOLX\n"
     ]
    },
    {
     "name": "stderr",
     "output_type": "stream",
     "text": [
      "<ipython-input-452-1cd440387d10>:47: SettingWithCopyWarning: \n",
      "A value is trying to be set on a copy of a slice from a DataFrame.\n",
      "Try using .loc[row_indexer,col_indexer] = value instead\n",
      "\n",
      "See the caveats in the documentation: https://pandas.pydata.org/pandas-docs/stable/user_guide/indexing.html#returning-a-view-versus-a-copy\n",
      "  data_sub['t_minus1_high'] = data_sub['high'].shift(1)\n",
      "<ipython-input-452-1cd440387d10>:48: SettingWithCopyWarning: \n",
      "A value is trying to be set on a copy of a slice from a DataFrame.\n",
      "Try using .loc[row_indexer,col_indexer] = value instead\n",
      "\n",
      "See the caveats in the documentation: https://pandas.pydata.org/pandas-docs/stable/user_guide/indexing.html#returning-a-view-versus-a-copy\n",
      "  data_sub['t_minus1_low'] = data_sub['low'].shift(1)\n"
     ]
    },
    {
     "name": "stdout",
     "output_type": "stream",
     "text": [
      "[*********************100%***********************]  1 of 1 completed\n",
      "HOLX testing r2_score: 0.9745104038609517\n",
      "HOLX testing MSE score: 0.9669882476063568\n",
      "HOLX : tomorrow's price: [72.02848265]\n",
      "HOLX Success!\n",
      " \n",
      " \n",
      "Analyzing HD\n"
     ]
    },
    {
     "name": "stderr",
     "output_type": "stream",
     "text": [
      "<ipython-input-452-1cd440387d10>:47: SettingWithCopyWarning: \n",
      "A value is trying to be set on a copy of a slice from a DataFrame.\n",
      "Try using .loc[row_indexer,col_indexer] = value instead\n",
      "\n",
      "See the caveats in the documentation: https://pandas.pydata.org/pandas-docs/stable/user_guide/indexing.html#returning-a-view-versus-a-copy\n",
      "  data_sub['t_minus1_high'] = data_sub['high'].shift(1)\n",
      "<ipython-input-452-1cd440387d10>:48: SettingWithCopyWarning: \n",
      "A value is trying to be set on a copy of a slice from a DataFrame.\n",
      "Try using .loc[row_indexer,col_indexer] = value instead\n",
      "\n",
      "See the caveats in the documentation: https://pandas.pydata.org/pandas-docs/stable/user_guide/indexing.html#returning-a-view-versus-a-copy\n",
      "  data_sub['t_minus1_low'] = data_sub['low'].shift(1)\n"
     ]
    },
    {
     "name": "stdout",
     "output_type": "stream",
     "text": [
      "[*********************100%***********************]  1 of 1 completed\n",
      "HD testing r2_score: 0.8342017218743429\n",
      "HD testing MSE score: 14.702292160010595\n",
      "HD : tomorrow's price: [328.55930184]\n",
      "HD Success!\n",
      " \n",
      " \n",
      "Analyzing HON\n"
     ]
    },
    {
     "name": "stderr",
     "output_type": "stream",
     "text": [
      "<ipython-input-452-1cd440387d10>:47: SettingWithCopyWarning: \n",
      "A value is trying to be set on a copy of a slice from a DataFrame.\n",
      "Try using .loc[row_indexer,col_indexer] = value instead\n",
      "\n",
      "See the caveats in the documentation: https://pandas.pydata.org/pandas-docs/stable/user_guide/indexing.html#returning-a-view-versus-a-copy\n",
      "  data_sub['t_minus1_high'] = data_sub['high'].shift(1)\n",
      "<ipython-input-452-1cd440387d10>:48: SettingWithCopyWarning: \n",
      "A value is trying to be set on a copy of a slice from a DataFrame.\n",
      "Try using .loc[row_indexer,col_indexer] = value instead\n",
      "\n",
      "See the caveats in the documentation: https://pandas.pydata.org/pandas-docs/stable/user_guide/indexing.html#returning-a-view-versus-a-copy\n",
      "  data_sub['t_minus1_low'] = data_sub['low'].shift(1)\n"
     ]
    },
    {
     "name": "stdout",
     "output_type": "stream",
     "text": [
      "[*********************100%***********************]  1 of 1 completed\n",
      "HON testing r2_score: 0.8018387734870798\n",
      "HON testing MSE score: 7.279446698652582\n",
      "HON : tomorrow's price: [214.73341918]\n",
      "HON Success!\n",
      " \n",
      " \n",
      "Analyzing HRL\n"
     ]
    },
    {
     "name": "stderr",
     "output_type": "stream",
     "text": [
      "<ipython-input-452-1cd440387d10>:47: SettingWithCopyWarning: \n",
      "A value is trying to be set on a copy of a slice from a DataFrame.\n",
      "Try using .loc[row_indexer,col_indexer] = value instead\n",
      "\n",
      "See the caveats in the documentation: https://pandas.pydata.org/pandas-docs/stable/user_guide/indexing.html#returning-a-view-versus-a-copy\n",
      "  data_sub['t_minus1_high'] = data_sub['high'].shift(1)\n",
      "<ipython-input-452-1cd440387d10>:48: SettingWithCopyWarning: \n",
      "A value is trying to be set on a copy of a slice from a DataFrame.\n",
      "Try using .loc[row_indexer,col_indexer] = value instead\n",
      "\n",
      "See the caveats in the documentation: https://pandas.pydata.org/pandas-docs/stable/user_guide/indexing.html#returning-a-view-versus-a-copy\n",
      "  data_sub['t_minus1_low'] = data_sub['low'].shift(1)\n"
     ]
    },
    {
     "name": "stdout",
     "output_type": "stream",
     "text": [
      "[*********************100%***********************]  1 of 1 completed\n",
      "HRL testing r2_score: 0.9567848519472206\n",
      "HRL testing MSE score: 0.29563942597457754\n",
      "HRL : tomorrow's price: [40.76666852]\n",
      "HRL Success!\n",
      " \n",
      " \n",
      "Analyzing HST\n"
     ]
    },
    {
     "name": "stderr",
     "output_type": "stream",
     "text": [
      "<ipython-input-452-1cd440387d10>:47: SettingWithCopyWarning: \n",
      "A value is trying to be set on a copy of a slice from a DataFrame.\n",
      "Try using .loc[row_indexer,col_indexer] = value instead\n",
      "\n",
      "See the caveats in the documentation: https://pandas.pydata.org/pandas-docs/stable/user_guide/indexing.html#returning-a-view-versus-a-copy\n",
      "  data_sub['t_minus1_high'] = data_sub['high'].shift(1)\n",
      "<ipython-input-452-1cd440387d10>:48: SettingWithCopyWarning: \n",
      "A value is trying to be set on a copy of a slice from a DataFrame.\n",
      "Try using .loc[row_indexer,col_indexer] = value instead\n",
      "\n",
      "See the caveats in the documentation: https://pandas.pydata.org/pandas-docs/stable/user_guide/indexing.html#returning-a-view-versus-a-copy\n",
      "  data_sub['t_minus1_low'] = data_sub['low'].shift(1)\n"
     ]
    },
    {
     "name": "stdout",
     "output_type": "stream",
     "text": [
      "[*********************100%***********************]  1 of 1 completed\n",
      "HST testing r2_score: 0.8166996054387943\n",
      "HST testing MSE score: 0.09974334891780996\n",
      "HST : tomorrow's price: [16.74531706]\n",
      "HST Success!\n",
      " \n",
      " \n",
      "Analyzing HWM\n"
     ]
    },
    {
     "name": "stderr",
     "output_type": "stream",
     "text": [
      "<ipython-input-452-1cd440387d10>:47: SettingWithCopyWarning: \n",
      "A value is trying to be set on a copy of a slice from a DataFrame.\n",
      "Try using .loc[row_indexer,col_indexer] = value instead\n",
      "\n",
      "See the caveats in the documentation: https://pandas.pydata.org/pandas-docs/stable/user_guide/indexing.html#returning-a-view-versus-a-copy\n",
      "  data_sub['t_minus1_high'] = data_sub['high'].shift(1)\n",
      "<ipython-input-452-1cd440387d10>:48: SettingWithCopyWarning: \n",
      "A value is trying to be set on a copy of a slice from a DataFrame.\n",
      "Try using .loc[row_indexer,col_indexer] = value instead\n",
      "\n",
      "See the caveats in the documentation: https://pandas.pydata.org/pandas-docs/stable/user_guide/indexing.html#returning-a-view-versus-a-copy\n",
      "  data_sub['t_minus1_low'] = data_sub['low'].shift(1)\n"
     ]
    },
    {
     "name": "stdout",
     "output_type": "stream",
     "text": [
      "[*********************100%***********************]  1 of 1 completed\n",
      "HWM testing r2_score: 0.7750182845931248\n",
      "HWM testing MSE score: 0.38175505930474646\n",
      "HWM : tomorrow's price: [32.45191127]\n",
      "HWM Success!\n",
      " \n",
      " \n",
      "Analyzing HPQ\n"
     ]
    },
    {
     "name": "stderr",
     "output_type": "stream",
     "text": [
      "<ipython-input-452-1cd440387d10>:47: SettingWithCopyWarning: \n",
      "A value is trying to be set on a copy of a slice from a DataFrame.\n",
      "Try using .loc[row_indexer,col_indexer] = value instead\n",
      "\n",
      "See the caveats in the documentation: https://pandas.pydata.org/pandas-docs/stable/user_guide/indexing.html#returning-a-view-versus-a-copy\n",
      "  data_sub['t_minus1_high'] = data_sub['high'].shift(1)\n",
      "<ipython-input-452-1cd440387d10>:48: SettingWithCopyWarning: \n",
      "A value is trying to be set on a copy of a slice from a DataFrame.\n",
      "Try using .loc[row_indexer,col_indexer] = value instead\n",
      "\n",
      "See the caveats in the documentation: https://pandas.pydata.org/pandas-docs/stable/user_guide/indexing.html#returning-a-view-versus-a-copy\n",
      "  data_sub['t_minus1_low'] = data_sub['low'].shift(1)\n"
     ]
    },
    {
     "name": "stdout",
     "output_type": "stream",
     "text": [
      "[*********************100%***********************]  1 of 1 completed\n",
      "HPQ testing r2_score: 0.9050805368076245\n",
      "HPQ testing MSE score: 0.36827601446303687\n",
      "HPQ : tomorrow's price: [28.06077924]\n",
      "HPQ Success!\n",
      " \n",
      " \n",
      "Analyzing HUM\n"
     ]
    },
    {
     "name": "stderr",
     "output_type": "stream",
     "text": [
      "<ipython-input-452-1cd440387d10>:47: SettingWithCopyWarning: \n",
      "A value is trying to be set on a copy of a slice from a DataFrame.\n",
      "Try using .loc[row_indexer,col_indexer] = value instead\n",
      "\n",
      "See the caveats in the documentation: https://pandas.pydata.org/pandas-docs/stable/user_guide/indexing.html#returning-a-view-versus-a-copy\n",
      "  data_sub['t_minus1_high'] = data_sub['high'].shift(1)\n",
      "<ipython-input-452-1cd440387d10>:48: SettingWithCopyWarning: \n",
      "A value is trying to be set on a copy of a slice from a DataFrame.\n",
      "Try using .loc[row_indexer,col_indexer] = value instead\n",
      "\n",
      "See the caveats in the documentation: https://pandas.pydata.org/pandas-docs/stable/user_guide/indexing.html#returning-a-view-versus-a-copy\n",
      "  data_sub['t_minus1_low'] = data_sub['low'].shift(1)\n"
     ]
    },
    {
     "name": "stdout",
     "output_type": "stream",
     "text": [
      "[*********************100%***********************]  1 of 1 completed\n",
      "HUM testing r2_score: 0.9370620899549331\n",
      "HUM testing MSE score: 32.71738328009315\n",
      "HUM : tomorrow's price: [389.61000453]\n",
      "HUM Success!\n",
      " \n",
      " \n",
      "Analyzing HBAN\n"
     ]
    },
    {
     "name": "stderr",
     "output_type": "stream",
     "text": [
      "<ipython-input-452-1cd440387d10>:47: SettingWithCopyWarning: \n",
      "A value is trying to be set on a copy of a slice from a DataFrame.\n",
      "Try using .loc[row_indexer,col_indexer] = value instead\n",
      "\n",
      "See the caveats in the documentation: https://pandas.pydata.org/pandas-docs/stable/user_guide/indexing.html#returning-a-view-versus-a-copy\n",
      "  data_sub['t_minus1_high'] = data_sub['high'].shift(1)\n",
      "<ipython-input-452-1cd440387d10>:48: SettingWithCopyWarning: \n",
      "A value is trying to be set on a copy of a slice from a DataFrame.\n",
      "Try using .loc[row_indexer,col_indexer] = value instead\n",
      "\n",
      "See the caveats in the documentation: https://pandas.pydata.org/pandas-docs/stable/user_guide/indexing.html#returning-a-view-versus-a-copy\n",
      "  data_sub['t_minus1_low'] = data_sub['low'].shift(1)\n"
     ]
    },
    {
     "name": "stdout",
     "output_type": "stream",
     "text": [
      "[*********************100%***********************]  1 of 1 completed\n",
      "HBAN testing r2_score: 0.8690530579504981\n",
      "HBAN testing MSE score: 0.07188979333846121\n",
      "HBAN : tomorrow's price: [15.84633139]\n",
      "HBAN Success!\n",
      " \n",
      " \n",
      "Analyzing HII\n"
     ]
    },
    {
     "name": "stderr",
     "output_type": "stream",
     "text": [
      "<ipython-input-452-1cd440387d10>:47: SettingWithCopyWarning: \n",
      "A value is trying to be set on a copy of a slice from a DataFrame.\n",
      "Try using .loc[row_indexer,col_indexer] = value instead\n",
      "\n",
      "See the caveats in the documentation: https://pandas.pydata.org/pandas-docs/stable/user_guide/indexing.html#returning-a-view-versus-a-copy\n",
      "  data_sub['t_minus1_high'] = data_sub['high'].shift(1)\n",
      "<ipython-input-452-1cd440387d10>:48: SettingWithCopyWarning: \n",
      "A value is trying to be set on a copy of a slice from a DataFrame.\n",
      "Try using .loc[row_indexer,col_indexer] = value instead\n",
      "\n",
      "See the caveats in the documentation: https://pandas.pydata.org/pandas-docs/stable/user_guide/indexing.html#returning-a-view-versus-a-copy\n",
      "  data_sub['t_minus1_low'] = data_sub['low'].shift(1)\n"
     ]
    },
    {
     "name": "stdout",
     "output_type": "stream",
     "text": [
      "[*********************100%***********************]  1 of 1 completed\n",
      "HII testing r2_score: 0.8840979090402731\n",
      "HII testing MSE score: 7.074566704320666\n",
      "HII : tomorrow's price: [194.07796239]\n",
      "HII Success!\n",
      " \n",
      " \n",
      "Analyzing IBM\n"
     ]
    },
    {
     "name": "stderr",
     "output_type": "stream",
     "text": [
      "<ipython-input-452-1cd440387d10>:47: SettingWithCopyWarning: \n",
      "A value is trying to be set on a copy of a slice from a DataFrame.\n",
      "Try using .loc[row_indexer,col_indexer] = value instead\n",
      "\n",
      "See the caveats in the documentation: https://pandas.pydata.org/pandas-docs/stable/user_guide/indexing.html#returning-a-view-versus-a-copy\n",
      "  data_sub['t_minus1_high'] = data_sub['high'].shift(1)\n",
      "<ipython-input-452-1cd440387d10>:48: SettingWithCopyWarning: \n",
      "A value is trying to be set on a copy of a slice from a DataFrame.\n",
      "Try using .loc[row_indexer,col_indexer] = value instead\n",
      "\n",
      "See the caveats in the documentation: https://pandas.pydata.org/pandas-docs/stable/user_guide/indexing.html#returning-a-view-versus-a-copy\n",
      "  data_sub['t_minus1_low'] = data_sub['low'].shift(1)\n"
     ]
    },
    {
     "name": "stdout",
     "output_type": "stream",
     "text": [
      "[*********************100%***********************]  1 of 1 completed\n",
      "IBM testing r2_score: 0.8115809133608111\n",
      "IBM testing MSE score: 2.278750694851126\n",
      "IBM : tomorrow's price: [136.09190487]\n",
      "IBM Success!\n",
      " \n",
      " \n",
      "Analyzing IEX\n"
     ]
    },
    {
     "name": "stderr",
     "output_type": "stream",
     "text": [
      "<ipython-input-452-1cd440387d10>:47: SettingWithCopyWarning: \n",
      "A value is trying to be set on a copy of a slice from a DataFrame.\n",
      "Try using .loc[row_indexer,col_indexer] = value instead\n",
      "\n",
      "See the caveats in the documentation: https://pandas.pydata.org/pandas-docs/stable/user_guide/indexing.html#returning-a-view-versus-a-copy\n",
      "  data_sub['t_minus1_high'] = data_sub['high'].shift(1)\n",
      "<ipython-input-452-1cd440387d10>:48: SettingWithCopyWarning: \n",
      "A value is trying to be set on a copy of a slice from a DataFrame.\n",
      "Try using .loc[row_indexer,col_indexer] = value instead\n",
      "\n",
      "See the caveats in the documentation: https://pandas.pydata.org/pandas-docs/stable/user_guide/indexing.html#returning-a-view-versus-a-copy\n",
      "  data_sub['t_minus1_low'] = data_sub['low'].shift(1)\n"
     ]
    },
    {
     "name": "stdout",
     "output_type": "stream",
     "text": [
      "[*********************100%***********************]  1 of 1 completed\n",
      "IEX testing r2_score: 0.773385413390498\n",
      "IEX testing MSE score: 6.527320140462713\n",
      "IEX : tomorrow's price: [209.32346854]\n",
      "IEX Success!\n",
      " \n",
      " \n",
      "Analyzing IDXX\n"
     ]
    },
    {
     "name": "stderr",
     "output_type": "stream",
     "text": [
      "<ipython-input-452-1cd440387d10>:47: SettingWithCopyWarning: \n",
      "A value is trying to be set on a copy of a slice from a DataFrame.\n",
      "Try using .loc[row_indexer,col_indexer] = value instead\n",
      "\n",
      "See the caveats in the documentation: https://pandas.pydata.org/pandas-docs/stable/user_guide/indexing.html#returning-a-view-versus-a-copy\n",
      "  data_sub['t_minus1_high'] = data_sub['high'].shift(1)\n",
      "<ipython-input-452-1cd440387d10>:48: SettingWithCopyWarning: \n",
      "A value is trying to be set on a copy of a slice from a DataFrame.\n",
      "Try using .loc[row_indexer,col_indexer] = value instead\n",
      "\n",
      "See the caveats in the documentation: https://pandas.pydata.org/pandas-docs/stable/user_guide/indexing.html#returning-a-view-versus-a-copy\n",
      "  data_sub['t_minus1_low'] = data_sub['low'].shift(1)\n"
     ]
    },
    {
     "name": "stdout",
     "output_type": "stream",
     "text": [
      "[*********************100%***********************]  1 of 1 completed\n",
      "IDXX testing r2_score: 0.9743426086566448\n",
      "IDXX testing MSE score: 80.91205447821405\n",
      "IDXX : tomorrow's price: [625.49286466]\n",
      "IDXX Success!\n",
      " \n",
      " \n",
      "Analyzing INFO\n"
     ]
    },
    {
     "name": "stderr",
     "output_type": "stream",
     "text": [
      "<ipython-input-452-1cd440387d10>:47: SettingWithCopyWarning: \n",
      "A value is trying to be set on a copy of a slice from a DataFrame.\n",
      "Try using .loc[row_indexer,col_indexer] = value instead\n",
      "\n",
      "See the caveats in the documentation: https://pandas.pydata.org/pandas-docs/stable/user_guide/indexing.html#returning-a-view-versus-a-copy\n",
      "  data_sub['t_minus1_high'] = data_sub['high'].shift(1)\n",
      "<ipython-input-452-1cd440387d10>:48: SettingWithCopyWarning: \n",
      "A value is trying to be set on a copy of a slice from a DataFrame.\n",
      "Try using .loc[row_indexer,col_indexer] = value instead\n",
      "\n",
      "See the caveats in the documentation: https://pandas.pydata.org/pandas-docs/stable/user_guide/indexing.html#returning-a-view-versus-a-copy\n",
      "  data_sub['t_minus1_low'] = data_sub['low'].shift(1)\n"
     ]
    },
    {
     "name": "stdout",
     "output_type": "stream",
     "text": [
      "[*********************100%***********************]  1 of 1 completed\n",
      "INFO testing r2_score: 0.9319399177316505\n",
      "INFO testing MSE score: 2.5415224316673792\n",
      "INFO : tomorrow's price: [117.25377488]\n",
      "INFO Success!\n",
      " \n",
      " \n",
      "Analyzing ITW\n"
     ]
    },
    {
     "name": "stderr",
     "output_type": "stream",
     "text": [
      "<ipython-input-452-1cd440387d10>:47: SettingWithCopyWarning: \n",
      "A value is trying to be set on a copy of a slice from a DataFrame.\n",
      "Try using .loc[row_indexer,col_indexer] = value instead\n",
      "\n",
      "See the caveats in the documentation: https://pandas.pydata.org/pandas-docs/stable/user_guide/indexing.html#returning-a-view-versus-a-copy\n",
      "  data_sub['t_minus1_high'] = data_sub['high'].shift(1)\n",
      "<ipython-input-452-1cd440387d10>:48: SettingWithCopyWarning: \n",
      "A value is trying to be set on a copy of a slice from a DataFrame.\n",
      "Try using .loc[row_indexer,col_indexer] = value instead\n",
      "\n",
      "See the caveats in the documentation: https://pandas.pydata.org/pandas-docs/stable/user_guide/indexing.html#returning-a-view-versus-a-copy\n",
      "  data_sub['t_minus1_low'] = data_sub['low'].shift(1)\n"
     ]
    },
    {
     "name": "stdout",
     "output_type": "stream",
     "text": [
      "[*********************100%***********************]  1 of 1 completed\n",
      "ITW testing r2_score: 0.8974718744590503\n",
      "ITW testing MSE score: 5.644987441078102\n",
      "ITW : tomorrow's price: [206.79488601]\n",
      "ITW Success!\n",
      " \n",
      " \n",
      "Analyzing ILMN\n"
     ]
    },
    {
     "name": "stderr",
     "output_type": "stream",
     "text": [
      "<ipython-input-452-1cd440387d10>:47: SettingWithCopyWarning: \n",
      "A value is trying to be set on a copy of a slice from a DataFrame.\n",
      "Try using .loc[row_indexer,col_indexer] = value instead\n",
      "\n",
      "See the caveats in the documentation: https://pandas.pydata.org/pandas-docs/stable/user_guide/indexing.html#returning-a-view-versus-a-copy\n",
      "  data_sub['t_minus1_high'] = data_sub['high'].shift(1)\n",
      "<ipython-input-452-1cd440387d10>:48: SettingWithCopyWarning: \n",
      "A value is trying to be set on a copy of a slice from a DataFrame.\n",
      "Try using .loc[row_indexer,col_indexer] = value instead\n",
      "\n",
      "See the caveats in the documentation: https://pandas.pydata.org/pandas-docs/stable/user_guide/indexing.html#returning-a-view-versus-a-copy\n",
      "  data_sub['t_minus1_low'] = data_sub['low'].shift(1)\n"
     ]
    },
    {
     "name": "stdout",
     "output_type": "stream",
     "text": [
      "[*********************100%***********************]  1 of 1 completed\n",
      "ILMN testing r2_score: 0.9621321265242714\n",
      "ILMN testing MSE score: 65.11953022829613\n",
      "ILMN : tomorrow's price: [394.78842109]\n",
      "ILMN Success!\n",
      " \n",
      " \n",
      "Analyzing INCY\n"
     ]
    },
    {
     "name": "stderr",
     "output_type": "stream",
     "text": [
      "<ipython-input-452-1cd440387d10>:47: SettingWithCopyWarning: \n",
      "A value is trying to be set on a copy of a slice from a DataFrame.\n",
      "Try using .loc[row_indexer,col_indexer] = value instead\n",
      "\n",
      "See the caveats in the documentation: https://pandas.pydata.org/pandas-docs/stable/user_guide/indexing.html#returning-a-view-versus-a-copy\n",
      "  data_sub['t_minus1_high'] = data_sub['high'].shift(1)\n",
      "<ipython-input-452-1cd440387d10>:48: SettingWithCopyWarning: \n",
      "A value is trying to be set on a copy of a slice from a DataFrame.\n",
      "Try using .loc[row_indexer,col_indexer] = value instead\n",
      "\n",
      "See the caveats in the documentation: https://pandas.pydata.org/pandas-docs/stable/user_guide/indexing.html#returning-a-view-versus-a-copy\n",
      "  data_sub['t_minus1_low'] = data_sub['low'].shift(1)\n"
     ]
    },
    {
     "name": "stdout",
     "output_type": "stream",
     "text": [
      "[*********************100%***********************]  1 of 1 completed\n",
      "INCY testing r2_score: 0.9521297791551679\n",
      "INCY testing MSE score: 1.6819964442279152\n",
      "INCY : tomorrow's price: [68.73446584]\n",
      "INCY Success!\n",
      " \n",
      " \n",
      "Analyzing IR\n"
     ]
    },
    {
     "name": "stderr",
     "output_type": "stream",
     "text": [
      "<ipython-input-452-1cd440387d10>:47: SettingWithCopyWarning: \n",
      "A value is trying to be set on a copy of a slice from a DataFrame.\n",
      "Try using .loc[row_indexer,col_indexer] = value instead\n",
      "\n",
      "See the caveats in the documentation: https://pandas.pydata.org/pandas-docs/stable/user_guide/indexing.html#returning-a-view-versus-a-copy\n",
      "  data_sub['t_minus1_high'] = data_sub['high'].shift(1)\n",
      "<ipython-input-452-1cd440387d10>:48: SettingWithCopyWarning: \n",
      "A value is trying to be set on a copy of a slice from a DataFrame.\n",
      "Try using .loc[row_indexer,col_indexer] = value instead\n",
      "\n",
      "See the caveats in the documentation: https://pandas.pydata.org/pandas-docs/stable/user_guide/indexing.html#returning-a-view-versus-a-copy\n",
      "  data_sub['t_minus1_low'] = data_sub['low'].shift(1)\n"
     ]
    },
    {
     "name": "stdout",
     "output_type": "stream",
     "text": [
      "[*********************100%***********************]  1 of 1 completed\n",
      "IR testing r2_score: 0.8528593928488801\n",
      "IR testing MSE score: 0.6745253808279705\n",
      "IR : tomorrow's price: [50.79837513]\n",
      "IR Success!\n",
      " \n",
      " \n",
      "Analyzing INTC\n"
     ]
    },
    {
     "name": "stderr",
     "output_type": "stream",
     "text": [
      "<ipython-input-452-1cd440387d10>:47: SettingWithCopyWarning: \n",
      "A value is trying to be set on a copy of a slice from a DataFrame.\n",
      "Try using .loc[row_indexer,col_indexer] = value instead\n",
      "\n",
      "See the caveats in the documentation: https://pandas.pydata.org/pandas-docs/stable/user_guide/indexing.html#returning-a-view-versus-a-copy\n",
      "  data_sub['t_minus1_high'] = data_sub['high'].shift(1)\n",
      "<ipython-input-452-1cd440387d10>:48: SettingWithCopyWarning: \n",
      "A value is trying to be set on a copy of a slice from a DataFrame.\n",
      "Try using .loc[row_indexer,col_indexer] = value instead\n",
      "\n",
      "See the caveats in the documentation: https://pandas.pydata.org/pandas-docs/stable/user_guide/indexing.html#returning-a-view-versus-a-copy\n",
      "  data_sub['t_minus1_low'] = data_sub['low'].shift(1)\n"
     ]
    },
    {
     "name": "stdout",
     "output_type": "stream",
     "text": [
      "[*********************100%***********************]  1 of 1 completed\n",
      "INTC testing r2_score: 0.800814733327563\n",
      "INTC testing MSE score: 0.5202295051315042\n",
      "INTC : tomorrow's price: [53.68386765]\n",
      "INTC Success!\n",
      " \n",
      " \n",
      "Analyzing ICE\n"
     ]
    },
    {
     "name": "stderr",
     "output_type": "stream",
     "text": [
      "<ipython-input-452-1cd440387d10>:47: SettingWithCopyWarning: \n",
      "A value is trying to be set on a copy of a slice from a DataFrame.\n",
      "Try using .loc[row_indexer,col_indexer] = value instead\n",
      "\n",
      "See the caveats in the documentation: https://pandas.pydata.org/pandas-docs/stable/user_guide/indexing.html#returning-a-view-versus-a-copy\n",
      "  data_sub['t_minus1_high'] = data_sub['high'].shift(1)\n",
      "<ipython-input-452-1cd440387d10>:48: SettingWithCopyWarning: \n",
      "A value is trying to be set on a copy of a slice from a DataFrame.\n",
      "Try using .loc[row_indexer,col_indexer] = value instead\n",
      "\n",
      "See the caveats in the documentation: https://pandas.pydata.org/pandas-docs/stable/user_guide/indexing.html#returning-a-view-versus-a-copy\n",
      "  data_sub['t_minus1_low'] = data_sub['low'].shift(1)\n"
     ]
    },
    {
     "name": "stdout",
     "output_type": "stream",
     "text": [
      "[*********************100%***********************]  1 of 1 completed\n",
      "ICE testing r2_score: 0.8906197828697769\n",
      "ICE testing MSE score: 1.6563695470444446\n",
      "ICE : tomorrow's price: [114.88828476]\n",
      "ICE Success!\n",
      " \n",
      " \n",
      "Analyzing IFF\n"
     ]
    },
    {
     "name": "stderr",
     "output_type": "stream",
     "text": [
      "<ipython-input-452-1cd440387d10>:47: SettingWithCopyWarning: \n",
      "A value is trying to be set on a copy of a slice from a DataFrame.\n",
      "Try using .loc[row_indexer,col_indexer] = value instead\n",
      "\n",
      "See the caveats in the documentation: https://pandas.pydata.org/pandas-docs/stable/user_guide/indexing.html#returning-a-view-versus-a-copy\n",
      "  data_sub['t_minus1_high'] = data_sub['high'].shift(1)\n",
      "<ipython-input-452-1cd440387d10>:48: SettingWithCopyWarning: \n",
      "A value is trying to be set on a copy of a slice from a DataFrame.\n",
      "Try using .loc[row_indexer,col_indexer] = value instead\n",
      "\n",
      "See the caveats in the documentation: https://pandas.pydata.org/pandas-docs/stable/user_guide/indexing.html#returning-a-view-versus-a-copy\n",
      "  data_sub['t_minus1_low'] = data_sub['low'].shift(1)\n"
     ]
    },
    {
     "name": "stdout",
     "output_type": "stream",
     "text": [
      "[*********************100%***********************]  1 of 1 completed\n",
      "IFF testing r2_score: 0.884873562089632\n",
      "IFF testing MSE score: 3.837912134775935\n",
      "IFF : tomorrow's price: [140.00398784]\n",
      "IFF Success!\n",
      " \n",
      " \n",
      "Analyzing IP\n"
     ]
    },
    {
     "name": "stderr",
     "output_type": "stream",
     "text": [
      "<ipython-input-452-1cd440387d10>:47: SettingWithCopyWarning: \n",
      "A value is trying to be set on a copy of a slice from a DataFrame.\n",
      "Try using .loc[row_indexer,col_indexer] = value instead\n",
      "\n",
      "See the caveats in the documentation: https://pandas.pydata.org/pandas-docs/stable/user_guide/indexing.html#returning-a-view-versus-a-copy\n",
      "  data_sub['t_minus1_high'] = data_sub['high'].shift(1)\n",
      "<ipython-input-452-1cd440387d10>:48: SettingWithCopyWarning: \n",
      "A value is trying to be set on a copy of a slice from a DataFrame.\n",
      "Try using .loc[row_indexer,col_indexer] = value instead\n",
      "\n",
      "See the caveats in the documentation: https://pandas.pydata.org/pandas-docs/stable/user_guide/indexing.html#returning-a-view-versus-a-copy\n",
      "  data_sub['t_minus1_low'] = data_sub['low'].shift(1)\n"
     ]
    },
    {
     "name": "stdout",
     "output_type": "stream",
     "text": [
      "[*********************100%***********************]  1 of 1 completed\n",
      "IP testing r2_score: 0.8999917380979919\n",
      "IP testing MSE score: 0.47636304579350724\n",
      "IP : tomorrow's price: [53.20145184]\n",
      "IP Success!\n",
      " \n",
      " \n",
      "Analyzing IPG\n"
     ]
    },
    {
     "name": "stderr",
     "output_type": "stream",
     "text": [
      "<ipython-input-452-1cd440387d10>:47: SettingWithCopyWarning: \n",
      "A value is trying to be set on a copy of a slice from a DataFrame.\n",
      "Try using .loc[row_indexer,col_indexer] = value instead\n",
      "\n",
      "See the caveats in the documentation: https://pandas.pydata.org/pandas-docs/stable/user_guide/indexing.html#returning-a-view-versus-a-copy\n",
      "  data_sub['t_minus1_high'] = data_sub['high'].shift(1)\n",
      "<ipython-input-452-1cd440387d10>:48: SettingWithCopyWarning: \n",
      "A value is trying to be set on a copy of a slice from a DataFrame.\n",
      "Try using .loc[row_indexer,col_indexer] = value instead\n",
      "\n",
      "See the caveats in the documentation: https://pandas.pydata.org/pandas-docs/stable/user_guide/indexing.html#returning-a-view-versus-a-copy\n",
      "  data_sub['t_minus1_low'] = data_sub['low'].shift(1)\n"
     ]
    },
    {
     "name": "stdout",
     "output_type": "stream",
     "text": [
      "[*********************100%***********************]  1 of 1 completed\n",
      "IPG testing r2_score: 0.9182299822319828\n",
      "IPG testing MSE score: 0.40400353285483065\n",
      "IPG : tomorrow's price: [37.90890498]\n",
      "IPG Success!\n",
      " \n",
      " \n",
      "Analyzing INTU\n"
     ]
    },
    {
     "name": "stderr",
     "output_type": "stream",
     "text": [
      "<ipython-input-452-1cd440387d10>:47: SettingWithCopyWarning: \n",
      "A value is trying to be set on a copy of a slice from a DataFrame.\n",
      "Try using .loc[row_indexer,col_indexer] = value instead\n",
      "\n",
      "See the caveats in the documentation: https://pandas.pydata.org/pandas-docs/stable/user_guide/indexing.html#returning-a-view-versus-a-copy\n",
      "  data_sub['t_minus1_high'] = data_sub['high'].shift(1)\n",
      "<ipython-input-452-1cd440387d10>:48: SettingWithCopyWarning: \n",
      "A value is trying to be set on a copy of a slice from a DataFrame.\n",
      "Try using .loc[row_indexer,col_indexer] = value instead\n",
      "\n",
      "See the caveats in the documentation: https://pandas.pydata.org/pandas-docs/stable/user_guide/indexing.html#returning-a-view-versus-a-copy\n",
      "  data_sub['t_minus1_low'] = data_sub['low'].shift(1)\n"
     ]
    },
    {
     "name": "stdout",
     "output_type": "stream",
     "text": [
      "[*********************100%***********************]  1 of 1 completed\n",
      "INTU testing r2_score: 0.9841574512915687\n",
      "INTU testing MSE score: 44.012497602942716\n",
      "INTU : tomorrow's price: [544.58840017]\n",
      "INTU Success!\n",
      " \n",
      " \n",
      "Analyzing ISRG\n"
     ]
    },
    {
     "name": "stderr",
     "output_type": "stream",
     "text": [
      "<ipython-input-452-1cd440387d10>:47: SettingWithCopyWarning: \n",
      "A value is trying to be set on a copy of a slice from a DataFrame.\n",
      "Try using .loc[row_indexer,col_indexer] = value instead\n",
      "\n",
      "See the caveats in the documentation: https://pandas.pydata.org/pandas-docs/stable/user_guide/indexing.html#returning-a-view-versus-a-copy\n",
      "  data_sub['t_minus1_high'] = data_sub['high'].shift(1)\n",
      "<ipython-input-452-1cd440387d10>:48: SettingWithCopyWarning: \n",
      "A value is trying to be set on a copy of a slice from a DataFrame.\n",
      "Try using .loc[row_indexer,col_indexer] = value instead\n",
      "\n",
      "See the caveats in the documentation: https://pandas.pydata.org/pandas-docs/stable/user_guide/indexing.html#returning-a-view-versus-a-copy\n",
      "  data_sub['t_minus1_low'] = data_sub['low'].shift(1)\n"
     ]
    },
    {
     "name": "stdout",
     "output_type": "stream",
     "text": [
      "[*********************100%***********************]  1 of 1 completed\n",
      "ISRG testing r2_score: 0.9723745336052243\n",
      "ISRG testing MSE score: 20.335316833187733\n",
      "ISRG : tomorrow's price: [334.571078]\n",
      "ISRG Success!\n",
      " \n",
      " \n",
      "Analyzing IPGP\n"
     ]
    },
    {
     "name": "stderr",
     "output_type": "stream",
     "text": [
      "<ipython-input-452-1cd440387d10>:47: SettingWithCopyWarning: \n",
      "A value is trying to be set on a copy of a slice from a DataFrame.\n",
      "Try using .loc[row_indexer,col_indexer] = value instead\n",
      "\n",
      "See the caveats in the documentation: https://pandas.pydata.org/pandas-docs/stable/user_guide/indexing.html#returning-a-view-versus-a-copy\n",
      "  data_sub['t_minus1_high'] = data_sub['high'].shift(1)\n",
      "<ipython-input-452-1cd440387d10>:48: SettingWithCopyWarning: \n",
      "A value is trying to be set on a copy of a slice from a DataFrame.\n",
      "Try using .loc[row_indexer,col_indexer] = value instead\n",
      "\n",
      "See the caveats in the documentation: https://pandas.pydata.org/pandas-docs/stable/user_guide/indexing.html#returning-a-view-versus-a-copy\n",
      "  data_sub['t_minus1_low'] = data_sub['low'].shift(1)\n"
     ]
    },
    {
     "name": "stdout",
     "output_type": "stream",
     "text": [
      "[*********************100%***********************]  1 of 1 completed\n",
      "IPGP testing r2_score: 0.9218964025798191\n",
      "IPGP testing MSE score: 32.6953941798228\n",
      "IPGP : tomorrow's price: [161.061708]\n",
      "IPGP Success!\n",
      " \n",
      " \n",
      "Analyzing IQV\n"
     ]
    },
    {
     "name": "stderr",
     "output_type": "stream",
     "text": [
      "<ipython-input-452-1cd440387d10>:47: SettingWithCopyWarning: \n",
      "A value is trying to be set on a copy of a slice from a DataFrame.\n",
      "Try using .loc[row_indexer,col_indexer] = value instead\n",
      "\n",
      "See the caveats in the documentation: https://pandas.pydata.org/pandas-docs/stable/user_guide/indexing.html#returning-a-view-versus-a-copy\n",
      "  data_sub['t_minus1_high'] = data_sub['high'].shift(1)\n",
      "<ipython-input-452-1cd440387d10>:48: SettingWithCopyWarning: \n",
      "A value is trying to be set on a copy of a slice from a DataFrame.\n",
      "Try using .loc[row_indexer,col_indexer] = value instead\n",
      "\n",
      "See the caveats in the documentation: https://pandas.pydata.org/pandas-docs/stable/user_guide/indexing.html#returning-a-view-versus-a-copy\n",
      "  data_sub['t_minus1_low'] = data_sub['low'].shift(1)\n"
     ]
    },
    {
     "name": "stdout",
     "output_type": "stream",
     "text": [
      "[*********************100%***********************]  1 of 1 completed\n",
      "IQV testing r2_score: 0.8907982768257989\n",
      "IQV testing MSE score: 9.121223270437012\n",
      "IQV : tomorrow's price: [240.65235682]\n",
      "IQV Success!\n",
      " \n",
      " \n",
      "Analyzing IRM\n"
     ]
    },
    {
     "name": "stderr",
     "output_type": "stream",
     "text": [
      "<ipython-input-452-1cd440387d10>:47: SettingWithCopyWarning: \n",
      "A value is trying to be set on a copy of a slice from a DataFrame.\n",
      "Try using .loc[row_indexer,col_indexer] = value instead\n",
      "\n",
      "See the caveats in the documentation: https://pandas.pydata.org/pandas-docs/stable/user_guide/indexing.html#returning-a-view-versus-a-copy\n",
      "  data_sub['t_minus1_high'] = data_sub['high'].shift(1)\n",
      "<ipython-input-452-1cd440387d10>:48: SettingWithCopyWarning: \n",
      "A value is trying to be set on a copy of a slice from a DataFrame.\n",
      "Try using .loc[row_indexer,col_indexer] = value instead\n",
      "\n",
      "See the caveats in the documentation: https://pandas.pydata.org/pandas-docs/stable/user_guide/indexing.html#returning-a-view-versus-a-copy\n",
      "  data_sub['t_minus1_low'] = data_sub['low'].shift(1)\n"
     ]
    },
    {
     "name": "stdout",
     "output_type": "stream",
     "text": [
      "[*********************100%***********************]  1 of 1 completed\n",
      "IRM testing r2_score: 0.8762532537536903\n",
      "IRM testing MSE score: 0.46506253713622914\n",
      "IRM : tomorrow's price: [43.78961866]\n",
      "IRM Success!\n",
      " \n",
      " \n",
      "Analyzing JBHT\n"
     ]
    },
    {
     "name": "stderr",
     "output_type": "stream",
     "text": [
      "<ipython-input-452-1cd440387d10>:47: SettingWithCopyWarning: \n",
      "A value is trying to be set on a copy of a slice from a DataFrame.\n",
      "Try using .loc[row_indexer,col_indexer] = value instead\n",
      "\n",
      "See the caveats in the documentation: https://pandas.pydata.org/pandas-docs/stable/user_guide/indexing.html#returning-a-view-versus-a-copy\n",
      "  data_sub['t_minus1_high'] = data_sub['high'].shift(1)\n",
      "<ipython-input-452-1cd440387d10>:48: SettingWithCopyWarning: \n",
      "A value is trying to be set on a copy of a slice from a DataFrame.\n",
      "Try using .loc[row_indexer,col_indexer] = value instead\n",
      "\n",
      "See the caveats in the documentation: https://pandas.pydata.org/pandas-docs/stable/user_guide/indexing.html#returning-a-view-versus-a-copy\n",
      "  data_sub['t_minus1_low'] = data_sub['low'].shift(1)\n"
     ]
    },
    {
     "name": "stdout",
     "output_type": "stream",
     "text": [
      "[*********************100%***********************]  1 of 1 completed\n",
      "JBHT testing r2_score: 0.7799997452051576\n",
      "JBHT testing MSE score: 6.510310294374699\n",
      "JBHT : tomorrow's price: [167.16263668]\n",
      "JBHT Success!\n",
      " \n",
      " \n",
      "Analyzing JKHY\n"
     ]
    },
    {
     "name": "stderr",
     "output_type": "stream",
     "text": [
      "<ipython-input-452-1cd440387d10>:47: SettingWithCopyWarning: \n",
      "A value is trying to be set on a copy of a slice from a DataFrame.\n",
      "Try using .loc[row_indexer,col_indexer] = value instead\n",
      "\n",
      "See the caveats in the documentation: https://pandas.pydata.org/pandas-docs/stable/user_guide/indexing.html#returning-a-view-versus-a-copy\n",
      "  data_sub['t_minus1_high'] = data_sub['high'].shift(1)\n",
      "<ipython-input-452-1cd440387d10>:48: SettingWithCopyWarning: \n",
      "A value is trying to be set on a copy of a slice from a DataFrame.\n",
      "Try using .loc[row_indexer,col_indexer] = value instead\n",
      "\n",
      "See the caveats in the documentation: https://pandas.pydata.org/pandas-docs/stable/user_guide/indexing.html#returning-a-view-versus-a-copy\n",
      "  data_sub['t_minus1_low'] = data_sub['low'].shift(1)\n"
     ]
    },
    {
     "name": "stdout",
     "output_type": "stream",
     "text": [
      "[*********************100%***********************]  1 of 1 completed\n",
      "JKHY testing r2_score: 0.9305847801509757\n",
      "JKHY testing MSE score: 3.3141937637316548\n",
      "JKHY : tomorrow's price: [165.40935486]\n",
      "JKHY Success!\n",
      " \n",
      " \n",
      "Analyzing J\n"
     ]
    },
    {
     "name": "stderr",
     "output_type": "stream",
     "text": [
      "<ipython-input-452-1cd440387d10>:47: SettingWithCopyWarning: \n",
      "A value is trying to be set on a copy of a slice from a DataFrame.\n",
      "Try using .loc[row_indexer,col_indexer] = value instead\n",
      "\n",
      "See the caveats in the documentation: https://pandas.pydata.org/pandas-docs/stable/user_guide/indexing.html#returning-a-view-versus-a-copy\n",
      "  data_sub['t_minus1_high'] = data_sub['high'].shift(1)\n",
      "<ipython-input-452-1cd440387d10>:48: SettingWithCopyWarning: \n",
      "A value is trying to be set on a copy of a slice from a DataFrame.\n",
      "Try using .loc[row_indexer,col_indexer] = value instead\n",
      "\n",
      "See the caveats in the documentation: https://pandas.pydata.org/pandas-docs/stable/user_guide/indexing.html#returning-a-view-versus-a-copy\n",
      "  data_sub['t_minus1_low'] = data_sub['low'].shift(1)\n"
     ]
    },
    {
     "name": "stdout",
     "output_type": "stream",
     "text": [
      "[*********************100%***********************]  1 of 1 completed\n",
      "J testing r2_score: 0.6732694167964715\n",
      "J testing MSE score: 4.062738821072544\n",
      "J : tomorrow's price: [134.99999665]\n",
      "J Success!\n",
      " \n",
      " \n",
      "Analyzing SJM\n"
     ]
    },
    {
     "name": "stderr",
     "output_type": "stream",
     "text": [
      "<ipython-input-452-1cd440387d10>:47: SettingWithCopyWarning: \n",
      "A value is trying to be set on a copy of a slice from a DataFrame.\n",
      "Try using .loc[row_indexer,col_indexer] = value instead\n",
      "\n",
      "See the caveats in the documentation: https://pandas.pydata.org/pandas-docs/stable/user_guide/indexing.html#returning-a-view-versus-a-copy\n",
      "  data_sub['t_minus1_high'] = data_sub['high'].shift(1)\n",
      "<ipython-input-452-1cd440387d10>:48: SettingWithCopyWarning: \n",
      "A value is trying to be set on a copy of a slice from a DataFrame.\n",
      "Try using .loc[row_indexer,col_indexer] = value instead\n",
      "\n",
      "See the caveats in the documentation: https://pandas.pydata.org/pandas-docs/stable/user_guide/indexing.html#returning-a-view-versus-a-copy\n",
      "  data_sub['t_minus1_low'] = data_sub['low'].shift(1)\n"
     ]
    },
    {
     "name": "stdout",
     "output_type": "stream",
     "text": [
      "[*********************100%***********************]  1 of 1 completed\n",
      "SJM testing r2_score: 0.9415416154737728\n",
      "SJM testing MSE score: 1.8297745482844066\n",
      "SJM : tomorrow's price: [119.33328449]\n",
      "SJM Success!\n",
      " \n",
      " \n",
      "Analyzing JNJ\n"
     ]
    },
    {
     "name": "stderr",
     "output_type": "stream",
     "text": [
      "<ipython-input-452-1cd440387d10>:47: SettingWithCopyWarning: \n",
      "A value is trying to be set on a copy of a slice from a DataFrame.\n",
      "Try using .loc[row_indexer,col_indexer] = value instead\n",
      "\n",
      "See the caveats in the documentation: https://pandas.pydata.org/pandas-docs/stable/user_guide/indexing.html#returning-a-view-versus-a-copy\n",
      "  data_sub['t_minus1_high'] = data_sub['high'].shift(1)\n",
      "<ipython-input-452-1cd440387d10>:48: SettingWithCopyWarning: \n",
      "A value is trying to be set on a copy of a slice from a DataFrame.\n",
      "Try using .loc[row_indexer,col_indexer] = value instead\n",
      "\n",
      "See the caveats in the documentation: https://pandas.pydata.org/pandas-docs/stable/user_guide/indexing.html#returning-a-view-versus-a-copy\n",
      "  data_sub['t_minus1_low'] = data_sub['low'].shift(1)\n"
     ]
    },
    {
     "name": "stdout",
     "output_type": "stream",
     "text": [
      "[*********************100%***********************]  1 of 1 completed\n",
      "JNJ testing r2_score: 0.9224585445877032\n",
      "JNJ testing MSE score: 1.8372952317069557\n",
      "JNJ : tomorrow's price: [159.89127572]\n",
      "JNJ Success!\n",
      " \n",
      " \n",
      "Analyzing JCI\n"
     ]
    },
    {
     "name": "stderr",
     "output_type": "stream",
     "text": [
      "<ipython-input-452-1cd440387d10>:47: SettingWithCopyWarning: \n",
      "A value is trying to be set on a copy of a slice from a DataFrame.\n",
      "Try using .loc[row_indexer,col_indexer] = value instead\n",
      "\n",
      "See the caveats in the documentation: https://pandas.pydata.org/pandas-docs/stable/user_guide/indexing.html#returning-a-view-versus-a-copy\n",
      "  data_sub['t_minus1_high'] = data_sub['high'].shift(1)\n",
      "<ipython-input-452-1cd440387d10>:48: SettingWithCopyWarning: \n",
      "A value is trying to be set on a copy of a slice from a DataFrame.\n",
      "Try using .loc[row_indexer,col_indexer] = value instead\n",
      "\n",
      "See the caveats in the documentation: https://pandas.pydata.org/pandas-docs/stable/user_guide/indexing.html#returning-a-view-versus-a-copy\n",
      "  data_sub['t_minus1_low'] = data_sub['low'].shift(1)\n"
     ]
    },
    {
     "name": "stdout",
     "output_type": "stream",
     "text": [
      "[*********************100%***********************]  1 of 1 completed\n",
      "JCI testing r2_score: 0.9395152654153289\n",
      "JCI testing MSE score: 0.7748232943966573\n",
      "JCI : tomorrow's price: [68.97463984]\n",
      "JCI Success!\n",
      " \n",
      " \n",
      "Analyzing JPM\n"
     ]
    },
    {
     "name": "stderr",
     "output_type": "stream",
     "text": [
      "<ipython-input-452-1cd440387d10>:47: SettingWithCopyWarning: \n",
      "A value is trying to be set on a copy of a slice from a DataFrame.\n",
      "Try using .loc[row_indexer,col_indexer] = value instead\n",
      "\n",
      "See the caveats in the documentation: https://pandas.pydata.org/pandas-docs/stable/user_guide/indexing.html#returning-a-view-versus-a-copy\n",
      "  data_sub['t_minus1_high'] = data_sub['high'].shift(1)\n",
      "<ipython-input-452-1cd440387d10>:48: SettingWithCopyWarning: \n",
      "A value is trying to be set on a copy of a slice from a DataFrame.\n",
      "Try using .loc[row_indexer,col_indexer] = value instead\n",
      "\n",
      "See the caveats in the documentation: https://pandas.pydata.org/pandas-docs/stable/user_guide/indexing.html#returning-a-view-versus-a-copy\n",
      "  data_sub['t_minus1_low'] = data_sub['low'].shift(1)\n"
     ]
    },
    {
     "name": "stdout",
     "output_type": "stream",
     "text": [
      "[*********************100%***********************]  1 of 1 completed\n",
      "JPM testing r2_score: 0.8153833444661865\n",
      "JPM testing MSE score: 5.158367540572728\n",
      "JPM : tomorrow's price: [165.95391768]\n",
      "JPM Success!\n",
      " \n",
      " \n",
      "Analyzing JNPR\n"
     ]
    },
    {
     "name": "stderr",
     "output_type": "stream",
     "text": [
      "<ipython-input-452-1cd440387d10>:47: SettingWithCopyWarning: \n",
      "A value is trying to be set on a copy of a slice from a DataFrame.\n",
      "Try using .loc[row_indexer,col_indexer] = value instead\n",
      "\n",
      "See the caveats in the documentation: https://pandas.pydata.org/pandas-docs/stable/user_guide/indexing.html#returning-a-view-versus-a-copy\n",
      "  data_sub['t_minus1_high'] = data_sub['high'].shift(1)\n",
      "<ipython-input-452-1cd440387d10>:48: SettingWithCopyWarning: \n",
      "A value is trying to be set on a copy of a slice from a DataFrame.\n",
      "Try using .loc[row_indexer,col_indexer] = value instead\n",
      "\n",
      "See the caveats in the documentation: https://pandas.pydata.org/pandas-docs/stable/user_guide/indexing.html#returning-a-view-versus-a-copy\n",
      "  data_sub['t_minus1_low'] = data_sub['low'].shift(1)\n"
     ]
    },
    {
     "name": "stdout",
     "output_type": "stream",
     "text": [
      "[*********************100%***********************]  1 of 1 completed\n",
      "JNPR testing r2_score: 0.7881823791362879\n",
      "JNPR testing MSE score: 0.17970333088680582\n",
      "JNPR : tomorrow's price: [27.83571791]\n",
      "JNPR Success!\n",
      " \n",
      " \n",
      "Analyzing KSU\n"
     ]
    },
    {
     "name": "stderr",
     "output_type": "stream",
     "text": [
      "<ipython-input-452-1cd440387d10>:47: SettingWithCopyWarning: \n",
      "A value is trying to be set on a copy of a slice from a DataFrame.\n",
      "Try using .loc[row_indexer,col_indexer] = value instead\n",
      "\n",
      "See the caveats in the documentation: https://pandas.pydata.org/pandas-docs/stable/user_guide/indexing.html#returning-a-view-versus-a-copy\n",
      "  data_sub['t_minus1_high'] = data_sub['high'].shift(1)\n",
      "<ipython-input-452-1cd440387d10>:48: SettingWithCopyWarning: \n",
      "A value is trying to be set on a copy of a slice from a DataFrame.\n",
      "Try using .loc[row_indexer,col_indexer] = value instead\n",
      "\n",
      "See the caveats in the documentation: https://pandas.pydata.org/pandas-docs/stable/user_guide/indexing.html#returning-a-view-versus-a-copy\n",
      "  data_sub['t_minus1_low'] = data_sub['low'].shift(1)\n"
     ]
    },
    {
     "name": "stdout",
     "output_type": "stream",
     "text": [
      "[*********************100%***********************]  1 of 1 completed\n",
      "KSU testing r2_score: 0.844493153049604\n",
      "KSU testing MSE score: 22.241457604580305\n",
      "KSU : tomorrow's price: [276.37997304]\n",
      "KSU Success!\n",
      " \n",
      " \n",
      "Analyzing K\n"
     ]
    },
    {
     "name": "stderr",
     "output_type": "stream",
     "text": [
      "<ipython-input-452-1cd440387d10>:47: SettingWithCopyWarning: \n",
      "A value is trying to be set on a copy of a slice from a DataFrame.\n",
      "Try using .loc[row_indexer,col_indexer] = value instead\n",
      "\n",
      "See the caveats in the documentation: https://pandas.pydata.org/pandas-docs/stable/user_guide/indexing.html#returning-a-view-versus-a-copy\n",
      "  data_sub['t_minus1_high'] = data_sub['high'].shift(1)\n",
      "<ipython-input-452-1cd440387d10>:48: SettingWithCopyWarning: \n",
      "A value is trying to be set on a copy of a slice from a DataFrame.\n",
      "Try using .loc[row_indexer,col_indexer] = value instead\n",
      "\n",
      "See the caveats in the documentation: https://pandas.pydata.org/pandas-docs/stable/user_guide/indexing.html#returning-a-view-versus-a-copy\n",
      "  data_sub['t_minus1_low'] = data_sub['low'].shift(1)\n"
     ]
    },
    {
     "name": "stdout",
     "output_type": "stream",
     "text": [
      "[*********************100%***********************]  1 of 1 completed\n",
      "K testing r2_score: 0.7315187823275882\n",
      "K testing MSE score: 0.5406736242374378\n",
      "K : tomorrow's price: [63.71138895]\n",
      "K Success!\n",
      " \n",
      " \n",
      "Analyzing KEY\n"
     ]
    },
    {
     "name": "stderr",
     "output_type": "stream",
     "text": [
      "<ipython-input-452-1cd440387d10>:47: SettingWithCopyWarning: \n",
      "A value is trying to be set on a copy of a slice from a DataFrame.\n",
      "Try using .loc[row_indexer,col_indexer] = value instead\n",
      "\n",
      "See the caveats in the documentation: https://pandas.pydata.org/pandas-docs/stable/user_guide/indexing.html#returning-a-view-versus-a-copy\n",
      "  data_sub['t_minus1_high'] = data_sub['high'].shift(1)\n",
      "<ipython-input-452-1cd440387d10>:48: SettingWithCopyWarning: \n",
      "A value is trying to be set on a copy of a slice from a DataFrame.\n",
      "Try using .loc[row_indexer,col_indexer] = value instead\n",
      "\n",
      "See the caveats in the documentation: https://pandas.pydata.org/pandas-docs/stable/user_guide/indexing.html#returning-a-view-versus-a-copy\n",
      "  data_sub['t_minus1_low'] = data_sub['low'].shift(1)\n"
     ]
    },
    {
     "name": "stdout",
     "output_type": "stream",
     "text": [
      "[*********************100%***********************]  1 of 1 completed\n",
      "KEY testing r2_score: 0.9074406524219809\n",
      "KEY testing MSE score: 0.15752411183969642\n",
      "KEY : tomorrow's price: [22.23986268]\n",
      "KEY Success!\n",
      " \n",
      " \n",
      "Analyzing KEYS\n"
     ]
    },
    {
     "name": "stderr",
     "output_type": "stream",
     "text": [
      "<ipython-input-452-1cd440387d10>:47: SettingWithCopyWarning: \n",
      "A value is trying to be set on a copy of a slice from a DataFrame.\n",
      "Try using .loc[row_indexer,col_indexer] = value instead\n",
      "\n",
      "See the caveats in the documentation: https://pandas.pydata.org/pandas-docs/stable/user_guide/indexing.html#returning-a-view-versus-a-copy\n",
      "  data_sub['t_minus1_high'] = data_sub['high'].shift(1)\n",
      "<ipython-input-452-1cd440387d10>:48: SettingWithCopyWarning: \n",
      "A value is trying to be set on a copy of a slice from a DataFrame.\n",
      "Try using .loc[row_indexer,col_indexer] = value instead\n",
      "\n",
      "See the caveats in the documentation: https://pandas.pydata.org/pandas-docs/stable/user_guide/indexing.html#returning-a-view-versus-a-copy\n",
      "  data_sub['t_minus1_low'] = data_sub['low'].shift(1)\n"
     ]
    },
    {
     "name": "stdout",
     "output_type": "stream",
     "text": [
      "[*********************100%***********************]  1 of 1 completed\n",
      "KEYS testing r2_score: 0.9728793983793457\n",
      "KEYS testing MSE score: 4.692428112344637\n",
      "KEYS : tomorrow's price: [165.51589469]\n",
      "KEYS Success!\n",
      " \n",
      " \n",
      "Analyzing KMB\n"
     ]
    },
    {
     "name": "stderr",
     "output_type": "stream",
     "text": [
      "<ipython-input-452-1cd440387d10>:47: SettingWithCopyWarning: \n",
      "A value is trying to be set on a copy of a slice from a DataFrame.\n",
      "Try using .loc[row_indexer,col_indexer] = value instead\n",
      "\n",
      "See the caveats in the documentation: https://pandas.pydata.org/pandas-docs/stable/user_guide/indexing.html#returning-a-view-versus-a-copy\n",
      "  data_sub['t_minus1_high'] = data_sub['high'].shift(1)\n",
      "<ipython-input-452-1cd440387d10>:48: SettingWithCopyWarning: \n",
      "A value is trying to be set on a copy of a slice from a DataFrame.\n",
      "Try using .loc[row_indexer,col_indexer] = value instead\n",
      "\n",
      "See the caveats in the documentation: https://pandas.pydata.org/pandas-docs/stable/user_guide/indexing.html#returning-a-view-versus-a-copy\n",
      "  data_sub['t_minus1_low'] = data_sub['low'].shift(1)\n"
     ]
    },
    {
     "name": "stdout",
     "output_type": "stream",
     "text": [
      "[*********************100%***********************]  1 of 1 completed\n",
      "KMB testing r2_score: 0.833913196258679\n",
      "KMB testing MSE score: 1.3215743172264358\n",
      "KMB : tomorrow's price: [131.56801566]\n",
      "KMB Success!\n",
      " \n",
      " \n",
      "Analyzing KIM\n"
     ]
    },
    {
     "name": "stderr",
     "output_type": "stream",
     "text": [
      "<ipython-input-452-1cd440387d10>:47: SettingWithCopyWarning: \n",
      "A value is trying to be set on a copy of a slice from a DataFrame.\n",
      "Try using .loc[row_indexer,col_indexer] = value instead\n",
      "\n",
      "See the caveats in the documentation: https://pandas.pydata.org/pandas-docs/stable/user_guide/indexing.html#returning-a-view-versus-a-copy\n",
      "  data_sub['t_minus1_high'] = data_sub['high'].shift(1)\n",
      "<ipython-input-452-1cd440387d10>:48: SettingWithCopyWarning: \n",
      "A value is trying to be set on a copy of a slice from a DataFrame.\n",
      "Try using .loc[row_indexer,col_indexer] = value instead\n",
      "\n",
      "See the caveats in the documentation: https://pandas.pydata.org/pandas-docs/stable/user_guide/indexing.html#returning-a-view-versus-a-copy\n",
      "  data_sub['t_minus1_low'] = data_sub['low'].shift(1)\n"
     ]
    },
    {
     "name": "stdout",
     "output_type": "stream",
     "text": [
      "[*********************100%***********************]  1 of 1 completed\n",
      "KIM testing r2_score: 0.4805923360750848\n",
      "KIM testing MSE score: 0.15854534492146127\n",
      "KIM : tomorrow's price: [21.70141333]\n",
      "KIM Success!\n",
      " \n",
      " \n",
      "Analyzing KMI\n"
     ]
    },
    {
     "name": "stderr",
     "output_type": "stream",
     "text": [
      "<ipython-input-452-1cd440387d10>:47: SettingWithCopyWarning: \n",
      "A value is trying to be set on a copy of a slice from a DataFrame.\n",
      "Try using .loc[row_indexer,col_indexer] = value instead\n",
      "\n",
      "See the caveats in the documentation: https://pandas.pydata.org/pandas-docs/stable/user_guide/indexing.html#returning-a-view-versus-a-copy\n",
      "  data_sub['t_minus1_high'] = data_sub['high'].shift(1)\n",
      "<ipython-input-452-1cd440387d10>:48: SettingWithCopyWarning: \n",
      "A value is trying to be set on a copy of a slice from a DataFrame.\n",
      "Try using .loc[row_indexer,col_indexer] = value instead\n",
      "\n",
      "See the caveats in the documentation: https://pandas.pydata.org/pandas-docs/stable/user_guide/indexing.html#returning-a-view-versus-a-copy\n",
      "  data_sub['t_minus1_low'] = data_sub['low'].shift(1)\n"
     ]
    },
    {
     "name": "stdout",
     "output_type": "stream",
     "text": [
      "[*********************100%***********************]  1 of 1 completed\n",
      "KMI testing r2_score: 0.9183769625327365\n",
      "KMI testing MSE score: 0.0713323868842679\n",
      "KMI : tomorrow's price: [16.9214815]\n",
      "KMI Success!\n",
      " \n",
      " \n",
      "Analyzing KLAC\n"
     ]
    },
    {
     "name": "stderr",
     "output_type": "stream",
     "text": [
      "<ipython-input-452-1cd440387d10>:47: SettingWithCopyWarning: \n",
      "A value is trying to be set on a copy of a slice from a DataFrame.\n",
      "Try using .loc[row_indexer,col_indexer] = value instead\n",
      "\n",
      "See the caveats in the documentation: https://pandas.pydata.org/pandas-docs/stable/user_guide/indexing.html#returning-a-view-versus-a-copy\n",
      "  data_sub['t_minus1_high'] = data_sub['high'].shift(1)\n",
      "<ipython-input-452-1cd440387d10>:48: SettingWithCopyWarning: \n",
      "A value is trying to be set on a copy of a slice from a DataFrame.\n",
      "Try using .loc[row_indexer,col_indexer] = value instead\n",
      "\n",
      "See the caveats in the documentation: https://pandas.pydata.org/pandas-docs/stable/user_guide/indexing.html#returning-a-view-versus-a-copy\n",
      "  data_sub['t_minus1_low'] = data_sub['low'].shift(1)\n"
     ]
    },
    {
     "name": "stdout",
     "output_type": "stream",
     "text": [
      "[*********************100%***********************]  1 of 1 completed\n",
      "KLAC testing r2_score: 0.8601077270370364\n",
      "KLAC testing MSE score: 50.02829047172924\n",
      "KLAC : tomorrow's price: [335.94684237]\n",
      "KLAC Success!\n",
      " \n",
      " \n",
      "Analyzing KHC\n"
     ]
    },
    {
     "name": "stderr",
     "output_type": "stream",
     "text": [
      "<ipython-input-452-1cd440387d10>:47: SettingWithCopyWarning: \n",
      "A value is trying to be set on a copy of a slice from a DataFrame.\n",
      "Try using .loc[row_indexer,col_indexer] = value instead\n",
      "\n",
      "See the caveats in the documentation: https://pandas.pydata.org/pandas-docs/stable/user_guide/indexing.html#returning-a-view-versus-a-copy\n",
      "  data_sub['t_minus1_high'] = data_sub['high'].shift(1)\n",
      "<ipython-input-452-1cd440387d10>:48: SettingWithCopyWarning: \n",
      "A value is trying to be set on a copy of a slice from a DataFrame.\n",
      "Try using .loc[row_indexer,col_indexer] = value instead\n",
      "\n",
      "See the caveats in the documentation: https://pandas.pydata.org/pandas-docs/stable/user_guide/indexing.html#returning-a-view-versus-a-copy\n",
      "  data_sub['t_minus1_low'] = data_sub['low'].shift(1)\n"
     ]
    },
    {
     "name": "stdout",
     "output_type": "stream",
     "text": [
      "[*********************100%***********************]  1 of 1 completed\n",
      "KHC testing r2_score: 0.9741960066902242\n",
      "KHC testing MSE score: 0.20622792377066035\n",
      "KHC : tomorrow's price: [36.68066929]\n",
      "KHC Success!\n",
      " \n",
      " \n",
      "Analyzing KR\n"
     ]
    },
    {
     "name": "stderr",
     "output_type": "stream",
     "text": [
      "<ipython-input-452-1cd440387d10>:47: SettingWithCopyWarning: \n",
      "A value is trying to be set on a copy of a slice from a DataFrame.\n",
      "Try using .loc[row_indexer,col_indexer] = value instead\n",
      "\n",
      "See the caveats in the documentation: https://pandas.pydata.org/pandas-docs/stable/user_guide/indexing.html#returning-a-view-versus-a-copy\n",
      "  data_sub['t_minus1_high'] = data_sub['high'].shift(1)\n",
      "<ipython-input-452-1cd440387d10>:48: SettingWithCopyWarning: \n",
      "A value is trying to be set on a copy of a slice from a DataFrame.\n",
      "Try using .loc[row_indexer,col_indexer] = value instead\n",
      "\n",
      "See the caveats in the documentation: https://pandas.pydata.org/pandas-docs/stable/user_guide/indexing.html#returning-a-view-versus-a-copy\n",
      "  data_sub['t_minus1_low'] = data_sub['low'].shift(1)\n"
     ]
    },
    {
     "name": "stdout",
     "output_type": "stream",
     "text": [
      "[*********************100%***********************]  1 of 1 completed\n",
      "KR testing r2_score: 0.9442289124802601\n",
      "KR testing MSE score: 0.4850893048056927\n",
      "KR : tomorrow's price: [39.01793998]\n",
      "KR Success!\n",
      " \n",
      " \n",
      "Analyzing LHX\n"
     ]
    },
    {
     "name": "stderr",
     "output_type": "stream",
     "text": [
      "<ipython-input-452-1cd440387d10>:47: SettingWithCopyWarning: \n",
      "A value is trying to be set on a copy of a slice from a DataFrame.\n",
      "Try using .loc[row_indexer,col_indexer] = value instead\n",
      "\n",
      "See the caveats in the documentation: https://pandas.pydata.org/pandas-docs/stable/user_guide/indexing.html#returning-a-view-versus-a-copy\n",
      "  data_sub['t_minus1_high'] = data_sub['high'].shift(1)\n",
      "<ipython-input-452-1cd440387d10>:48: SettingWithCopyWarning: \n",
      "A value is trying to be set on a copy of a slice from a DataFrame.\n",
      "Try using .loc[row_indexer,col_indexer] = value instead\n",
      "\n",
      "See the caveats in the documentation: https://pandas.pydata.org/pandas-docs/stable/user_guide/indexing.html#returning-a-view-versus-a-copy\n",
      "  data_sub['t_minus1_low'] = data_sub['low'].shift(1)\n"
     ]
    },
    {
     "name": "stdout",
     "output_type": "stream",
     "text": [
      "[*********************100%***********************]  1 of 1 completed\n",
      "LHX testing r2_score: 0.8406422357504126\n",
      "LHX testing MSE score: 6.942101792697144\n",
      "LHX : tomorrow's price: [218.66325578]\n",
      "LHX Success!\n",
      " \n",
      " \n",
      "Analyzing LH\n"
     ]
    },
    {
     "name": "stderr",
     "output_type": "stream",
     "text": [
      "<ipython-input-452-1cd440387d10>:47: SettingWithCopyWarning: \n",
      "A value is trying to be set on a copy of a slice from a DataFrame.\n",
      "Try using .loc[row_indexer,col_indexer] = value instead\n",
      "\n",
      "See the caveats in the documentation: https://pandas.pydata.org/pandas-docs/stable/user_guide/indexing.html#returning-a-view-versus-a-copy\n",
      "  data_sub['t_minus1_high'] = data_sub['high'].shift(1)\n",
      "<ipython-input-452-1cd440387d10>:48: SettingWithCopyWarning: \n",
      "A value is trying to be set on a copy of a slice from a DataFrame.\n",
      "Try using .loc[row_indexer,col_indexer] = value instead\n",
      "\n",
      "See the caveats in the documentation: https://pandas.pydata.org/pandas-docs/stable/user_guide/indexing.html#returning-a-view-versus-a-copy\n",
      "  data_sub['t_minus1_low'] = data_sub['low'].shift(1)\n"
     ]
    },
    {
     "name": "stdout",
     "output_type": "stream",
     "text": [
      "[*********************100%***********************]  1 of 1 completed\n",
      "LH testing r2_score: 0.9514316070523889\n",
      "LH testing MSE score: 10.468516990472049\n",
      "LH : tomorrow's price: [278.15359391]\n",
      "LH Success!\n",
      " \n",
      " \n",
      "Analyzing LRCX\n"
     ]
    },
    {
     "name": "stderr",
     "output_type": "stream",
     "text": [
      "<ipython-input-452-1cd440387d10>:47: SettingWithCopyWarning: \n",
      "A value is trying to be set on a copy of a slice from a DataFrame.\n",
      "Try using .loc[row_indexer,col_indexer] = value instead\n",
      "\n",
      "See the caveats in the documentation: https://pandas.pydata.org/pandas-docs/stable/user_guide/indexing.html#returning-a-view-versus-a-copy\n",
      "  data_sub['t_minus1_high'] = data_sub['high'].shift(1)\n",
      "<ipython-input-452-1cd440387d10>:48: SettingWithCopyWarning: \n",
      "A value is trying to be set on a copy of a slice from a DataFrame.\n",
      "Try using .loc[row_indexer,col_indexer] = value instead\n",
      "\n",
      "See the caveats in the documentation: https://pandas.pydata.org/pandas-docs/stable/user_guide/indexing.html#returning-a-view-versus-a-copy\n",
      "  data_sub['t_minus1_low'] = data_sub['low'].shift(1)\n"
     ]
    },
    {
     "name": "stdout",
     "output_type": "stream",
     "text": [
      "[*********************100%***********************]  1 of 1 completed\n",
      "LRCX testing r2_score: 0.7904347329104682\n",
      "LRCX testing MSE score: 172.00414305853596\n",
      "LRCX : tomorrow's price: [569.48443279]\n",
      "LRCX Success!\n",
      " \n",
      " \n",
      "Analyzing LW\n"
     ]
    },
    {
     "name": "stderr",
     "output_type": "stream",
     "text": [
      "<ipython-input-452-1cd440387d10>:47: SettingWithCopyWarning: \n",
      "A value is trying to be set on a copy of a slice from a DataFrame.\n",
      "Try using .loc[row_indexer,col_indexer] = value instead\n",
      "\n",
      "See the caveats in the documentation: https://pandas.pydata.org/pandas-docs/stable/user_guide/indexing.html#returning-a-view-versus-a-copy\n",
      "  data_sub['t_minus1_high'] = data_sub['high'].shift(1)\n",
      "<ipython-input-452-1cd440387d10>:48: SettingWithCopyWarning: \n",
      "A value is trying to be set on a copy of a slice from a DataFrame.\n",
      "Try using .loc[row_indexer,col_indexer] = value instead\n",
      "\n",
      "See the caveats in the documentation: https://pandas.pydata.org/pandas-docs/stable/user_guide/indexing.html#returning-a-view-versus-a-copy\n",
      "  data_sub['t_minus1_low'] = data_sub['low'].shift(1)\n"
     ]
    },
    {
     "name": "stdout",
     "output_type": "stream",
     "text": [
      "[*********************100%***********************]  1 of 1 completed\n",
      "LW testing r2_score: 0.9711950883688187\n",
      "LW testing MSE score: 2.201657932725089\n",
      "LW : tomorrow's price: [62.98987807]\n",
      "LW Success!\n",
      " \n",
      " \n",
      "Analyzing LVS\n"
     ]
    },
    {
     "name": "stderr",
     "output_type": "stream",
     "text": [
      "<ipython-input-452-1cd440387d10>:47: SettingWithCopyWarning: \n",
      "A value is trying to be set on a copy of a slice from a DataFrame.\n",
      "Try using .loc[row_indexer,col_indexer] = value instead\n",
      "\n",
      "See the caveats in the documentation: https://pandas.pydata.org/pandas-docs/stable/user_guide/indexing.html#returning-a-view-versus-a-copy\n",
      "  data_sub['t_minus1_high'] = data_sub['high'].shift(1)\n",
      "<ipython-input-452-1cd440387d10>:48: SettingWithCopyWarning: \n",
      "A value is trying to be set on a copy of a slice from a DataFrame.\n",
      "Try using .loc[row_indexer,col_indexer] = value instead\n",
      "\n",
      "See the caveats in the documentation: https://pandas.pydata.org/pandas-docs/stable/user_guide/indexing.html#returning-a-view-versus-a-copy\n",
      "  data_sub['t_minus1_low'] = data_sub['low'].shift(1)\n"
     ]
    },
    {
     "name": "stdout",
     "output_type": "stream",
     "text": [
      "[*********************100%***********************]  1 of 1 completed\n",
      "LVS testing r2_score: 0.9776529165407066\n",
      "LVS testing MSE score: 1.389567671548049\n",
      "LVS : tomorrow's price: [38.29000869]\n",
      "LVS Success!\n",
      " \n",
      " \n",
      "Analyzing LEG\n"
     ]
    },
    {
     "name": "stderr",
     "output_type": "stream",
     "text": [
      "<ipython-input-452-1cd440387d10>:47: SettingWithCopyWarning: \n",
      "A value is trying to be set on a copy of a slice from a DataFrame.\n",
      "Try using .loc[row_indexer,col_indexer] = value instead\n",
      "\n",
      "See the caveats in the documentation: https://pandas.pydata.org/pandas-docs/stable/user_guide/indexing.html#returning-a-view-versus-a-copy\n",
      "  data_sub['t_minus1_high'] = data_sub['high'].shift(1)\n",
      "<ipython-input-452-1cd440387d10>:48: SettingWithCopyWarning: \n",
      "A value is trying to be set on a copy of a slice from a DataFrame.\n",
      "Try using .loc[row_indexer,col_indexer] = value instead\n",
      "\n",
      "See the caveats in the documentation: https://pandas.pydata.org/pandas-docs/stable/user_guide/indexing.html#returning-a-view-versus-a-copy\n",
      "  data_sub['t_minus1_low'] = data_sub['low'].shift(1)\n"
     ]
    },
    {
     "name": "stdout",
     "output_type": "stream",
     "text": [
      "[*********************100%***********************]  1 of 1 completed\n",
      "LEG testing r2_score: 0.9339729521738198\n",
      "LEG testing MSE score: 0.7702292398633132\n",
      "LEG : tomorrow's price: [45.33351476]\n",
      "LEG Success!\n",
      " \n",
      " \n",
      "Analyzing LDOS\n"
     ]
    },
    {
     "name": "stderr",
     "output_type": "stream",
     "text": [
      "<ipython-input-452-1cd440387d10>:47: SettingWithCopyWarning: \n",
      "A value is trying to be set on a copy of a slice from a DataFrame.\n",
      "Try using .loc[row_indexer,col_indexer] = value instead\n",
      "\n",
      "See the caveats in the documentation: https://pandas.pydata.org/pandas-docs/stable/user_guide/indexing.html#returning-a-view-versus-a-copy\n",
      "  data_sub['t_minus1_high'] = data_sub['high'].shift(1)\n",
      "<ipython-input-452-1cd440387d10>:48: SettingWithCopyWarning: \n",
      "A value is trying to be set on a copy of a slice from a DataFrame.\n",
      "Try using .loc[row_indexer,col_indexer] = value instead\n",
      "\n",
      "See the caveats in the documentation: https://pandas.pydata.org/pandas-docs/stable/user_guide/indexing.html#returning-a-view-versus-a-copy\n",
      "  data_sub['t_minus1_low'] = data_sub['low'].shift(1)\n"
     ]
    },
    {
     "name": "stdout",
     "output_type": "stream",
     "text": [
      "[*********************100%***********************]  1 of 1 completed\n",
      "LDOS testing r2_score: 0.8527679537974469\n",
      "LDOS testing MSE score: 2.7294408750975605\n",
      "LDOS : tomorrow's price: [97.28402039]\n",
      "LDOS Success!\n",
      " \n",
      " \n",
      "Analyzing LEN\n"
     ]
    },
    {
     "name": "stderr",
     "output_type": "stream",
     "text": [
      "<ipython-input-452-1cd440387d10>:47: SettingWithCopyWarning: \n",
      "A value is trying to be set on a copy of a slice from a DataFrame.\n",
      "Try using .loc[row_indexer,col_indexer] = value instead\n",
      "\n",
      "See the caveats in the documentation: https://pandas.pydata.org/pandas-docs/stable/user_guide/indexing.html#returning-a-view-versus-a-copy\n",
      "  data_sub['t_minus1_high'] = data_sub['high'].shift(1)\n",
      "<ipython-input-452-1cd440387d10>:48: SettingWithCopyWarning: \n",
      "A value is trying to be set on a copy of a slice from a DataFrame.\n",
      "Try using .loc[row_indexer,col_indexer] = value instead\n",
      "\n",
      "See the caveats in the documentation: https://pandas.pydata.org/pandas-docs/stable/user_guide/indexing.html#returning-a-view-versus-a-copy\n",
      "  data_sub['t_minus1_low'] = data_sub['low'].shift(1)\n"
     ]
    },
    {
     "name": "stdout",
     "output_type": "stream",
     "text": [
      "[*********************100%***********************]  1 of 1 completed\n",
      "LEN testing r2_score: 0.8509084636679514\n",
      "LEN testing MSE score: 3.472499891259831\n",
      "LEN : tomorrow's price: [93.93256467]\n",
      "LEN Success!\n",
      " \n",
      " \n",
      "Analyzing LNC\n"
     ]
    },
    {
     "name": "stderr",
     "output_type": "stream",
     "text": [
      "<ipython-input-452-1cd440387d10>:47: SettingWithCopyWarning: \n",
      "A value is trying to be set on a copy of a slice from a DataFrame.\n",
      "Try using .loc[row_indexer,col_indexer] = value instead\n",
      "\n",
      "See the caveats in the documentation: https://pandas.pydata.org/pandas-docs/stable/user_guide/indexing.html#returning-a-view-versus-a-copy\n",
      "  data_sub['t_minus1_high'] = data_sub['high'].shift(1)\n",
      "<ipython-input-452-1cd440387d10>:48: SettingWithCopyWarning: \n",
      "A value is trying to be set on a copy of a slice from a DataFrame.\n",
      "Try using .loc[row_indexer,col_indexer] = value instead\n",
      "\n",
      "See the caveats in the documentation: https://pandas.pydata.org/pandas-docs/stable/user_guide/indexing.html#returning-a-view-versus-a-copy\n",
      "  data_sub['t_minus1_low'] = data_sub['low'].shift(1)\n"
     ]
    },
    {
     "name": "stdout",
     "output_type": "stream",
     "text": [
      "[*********************100%***********************]  1 of 1 completed\n",
      "LNC testing r2_score: 0.8285432914997775\n",
      "LNC testing MSE score: 2.3754736064185953\n",
      "LNC : tomorrow's price: [70.06245948]\n",
      "LNC Success!\n",
      " \n",
      " \n",
      "Analyzing LIN\n"
     ]
    },
    {
     "name": "stderr",
     "output_type": "stream",
     "text": [
      "<ipython-input-452-1cd440387d10>:47: SettingWithCopyWarning: \n",
      "A value is trying to be set on a copy of a slice from a DataFrame.\n",
      "Try using .loc[row_indexer,col_indexer] = value instead\n",
      "\n",
      "See the caveats in the documentation: https://pandas.pydata.org/pandas-docs/stable/user_guide/indexing.html#returning-a-view-versus-a-copy\n",
      "  data_sub['t_minus1_high'] = data_sub['high'].shift(1)\n",
      "<ipython-input-452-1cd440387d10>:48: SettingWithCopyWarning: \n",
      "A value is trying to be set on a copy of a slice from a DataFrame.\n",
      "Try using .loc[row_indexer,col_indexer] = value instead\n",
      "\n",
      "See the caveats in the documentation: https://pandas.pydata.org/pandas-docs/stable/user_guide/indexing.html#returning-a-view-versus-a-copy\n",
      "  data_sub['t_minus1_low'] = data_sub['low'].shift(1)\n"
     ]
    },
    {
     "name": "stdout",
     "output_type": "stream",
     "text": [
      "[*********************100%***********************]  1 of 1 completed\n",
      "LIN testing r2_score: 0.8644432762593166\n",
      "LIN testing MSE score: 10.994373794950853\n",
      "LIN : tomorrow's price: [297.28679963]\n",
      "LIN Success!\n",
      " \n",
      " \n",
      "Analyzing LYV\n"
     ]
    },
    {
     "name": "stderr",
     "output_type": "stream",
     "text": [
      "<ipython-input-452-1cd440387d10>:47: SettingWithCopyWarning: \n",
      "A value is trying to be set on a copy of a slice from a DataFrame.\n",
      "Try using .loc[row_indexer,col_indexer] = value instead\n",
      "\n",
      "See the caveats in the documentation: https://pandas.pydata.org/pandas-docs/stable/user_guide/indexing.html#returning-a-view-versus-a-copy\n",
      "  data_sub['t_minus1_high'] = data_sub['high'].shift(1)\n",
      "<ipython-input-452-1cd440387d10>:48: SettingWithCopyWarning: \n",
      "A value is trying to be set on a copy of a slice from a DataFrame.\n",
      "Try using .loc[row_indexer,col_indexer] = value instead\n",
      "\n",
      "See the caveats in the documentation: https://pandas.pydata.org/pandas-docs/stable/user_guide/indexing.html#returning-a-view-versus-a-copy\n",
      "  data_sub['t_minus1_low'] = data_sub['low'].shift(1)\n"
     ]
    },
    {
     "name": "stdout",
     "output_type": "stream",
     "text": [
      "[*********************100%***********************]  1 of 1 completed\n",
      "LYV testing r2_score: 0.8743850425826623\n",
      "LYV testing MSE score: 4.151569867527936\n",
      "LYV : tomorrow's price: [98.35590894]\n",
      "LYV Success!\n",
      " \n",
      " \n",
      "Analyzing LKQ\n"
     ]
    },
    {
     "name": "stderr",
     "output_type": "stream",
     "text": [
      "<ipython-input-452-1cd440387d10>:47: SettingWithCopyWarning: \n",
      "A value is trying to be set on a copy of a slice from a DataFrame.\n",
      "Try using .loc[row_indexer,col_indexer] = value instead\n",
      "\n",
      "See the caveats in the documentation: https://pandas.pydata.org/pandas-docs/stable/user_guide/indexing.html#returning-a-view-versus-a-copy\n",
      "  data_sub['t_minus1_high'] = data_sub['high'].shift(1)\n",
      "<ipython-input-452-1cd440387d10>:48: SettingWithCopyWarning: \n",
      "A value is trying to be set on a copy of a slice from a DataFrame.\n",
      "Try using .loc[row_indexer,col_indexer] = value instead\n",
      "\n",
      "See the caveats in the documentation: https://pandas.pydata.org/pandas-docs/stable/user_guide/indexing.html#returning-a-view-versus-a-copy\n",
      "  data_sub['t_minus1_low'] = data_sub['low'].shift(1)\n"
     ]
    },
    {
     "name": "stdout",
     "output_type": "stream",
     "text": [
      "[*********************100%***********************]  1 of 1 completed\n",
      "LKQ testing r2_score: 0.6740418722260347\n",
      "LKQ testing MSE score: 0.6003926219212162\n",
      "LKQ : tomorrow's price: [51.20611384]\n",
      "LKQ Success!\n",
      " \n",
      " \n",
      "Analyzing LMT\n"
     ]
    },
    {
     "name": "stderr",
     "output_type": "stream",
     "text": [
      "<ipython-input-452-1cd440387d10>:47: SettingWithCopyWarning: \n",
      "A value is trying to be set on a copy of a slice from a DataFrame.\n",
      "Try using .loc[row_indexer,col_indexer] = value instead\n",
      "\n",
      "See the caveats in the documentation: https://pandas.pydata.org/pandas-docs/stable/user_guide/indexing.html#returning-a-view-versus-a-copy\n",
      "  data_sub['t_minus1_high'] = data_sub['high'].shift(1)\n",
      "<ipython-input-452-1cd440387d10>:48: SettingWithCopyWarning: \n",
      "A value is trying to be set on a copy of a slice from a DataFrame.\n",
      "Try using .loc[row_indexer,col_indexer] = value instead\n",
      "\n",
      "See the caveats in the documentation: https://pandas.pydata.org/pandas-docs/stable/user_guide/indexing.html#returning-a-view-versus-a-copy\n",
      "  data_sub['t_minus1_low'] = data_sub['low'].shift(1)\n"
     ]
    },
    {
     "name": "stdout",
     "output_type": "stream",
     "text": [
      "[*********************100%***********************]  1 of 1 completed\n",
      "LMT testing r2_score: 0.9496854361256819\n",
      "LMT testing MSE score: 12.507260661901592\n",
      "LMT : tomorrow's price: [348.63047603]\n",
      "LMT Success!\n",
      " \n",
      " \n",
      "Analyzing L\n"
     ]
    },
    {
     "name": "stderr",
     "output_type": "stream",
     "text": [
      "<ipython-input-452-1cd440387d10>:47: SettingWithCopyWarning: \n",
      "A value is trying to be set on a copy of a slice from a DataFrame.\n",
      "Try using .loc[row_indexer,col_indexer] = value instead\n",
      "\n",
      "See the caveats in the documentation: https://pandas.pydata.org/pandas-docs/stable/user_guide/indexing.html#returning-a-view-versus-a-copy\n",
      "  data_sub['t_minus1_high'] = data_sub['high'].shift(1)\n",
      "<ipython-input-452-1cd440387d10>:48: SettingWithCopyWarning: \n",
      "A value is trying to be set on a copy of a slice from a DataFrame.\n",
      "Try using .loc[row_indexer,col_indexer] = value instead\n",
      "\n",
      "See the caveats in the documentation: https://pandas.pydata.org/pandas-docs/stable/user_guide/indexing.html#returning-a-view-versus-a-copy\n",
      "  data_sub['t_minus1_low'] = data_sub['low'].shift(1)\n"
     ]
    },
    {
     "name": "stdout",
     "output_type": "stream",
     "text": [
      "[*********************100%***********************]  1 of 1 completed\n",
      "L testing r2_score: 0.7884330704082283\n",
      "L testing MSE score: 0.6463742519135648\n",
      "L : tomorrow's price: [54.75150966]\n",
      "L Success!\n",
      " \n",
      " \n",
      "Analyzing LOW\n"
     ]
    },
    {
     "name": "stderr",
     "output_type": "stream",
     "text": [
      "<ipython-input-452-1cd440387d10>:47: SettingWithCopyWarning: \n",
      "A value is trying to be set on a copy of a slice from a DataFrame.\n",
      "Try using .loc[row_indexer,col_indexer] = value instead\n",
      "\n",
      "See the caveats in the documentation: https://pandas.pydata.org/pandas-docs/stable/user_guide/indexing.html#returning-a-view-versus-a-copy\n",
      "  data_sub['t_minus1_high'] = data_sub['high'].shift(1)\n",
      "<ipython-input-452-1cd440387d10>:48: SettingWithCopyWarning: \n",
      "A value is trying to be set on a copy of a slice from a DataFrame.\n",
      "Try using .loc[row_indexer,col_indexer] = value instead\n",
      "\n",
      "See the caveats in the documentation: https://pandas.pydata.org/pandas-docs/stable/user_guide/indexing.html#returning-a-view-versus-a-copy\n",
      "  data_sub['t_minus1_low'] = data_sub['low'].shift(1)\n"
     ]
    },
    {
     "name": "stdout",
     "output_type": "stream",
     "text": [
      "[*********************100%***********************]  1 of 1 completed\n",
      "LOW testing r2_score: 0.8175299134698979\n",
      "LOW testing MSE score: 9.5730622676984\n",
      "LOW : tomorrow's price: [203.9168634]\n",
      "LOW Success!\n",
      " \n",
      " \n",
      "Analyzing LUMN\n"
     ]
    },
    {
     "name": "stderr",
     "output_type": "stream",
     "text": [
      "<ipython-input-452-1cd440387d10>:47: SettingWithCopyWarning: \n",
      "A value is trying to be set on a copy of a slice from a DataFrame.\n",
      "Try using .loc[row_indexer,col_indexer] = value instead\n",
      "\n",
      "See the caveats in the documentation: https://pandas.pydata.org/pandas-docs/stable/user_guide/indexing.html#returning-a-view-versus-a-copy\n",
      "  data_sub['t_minus1_high'] = data_sub['high'].shift(1)\n",
      "<ipython-input-452-1cd440387d10>:48: SettingWithCopyWarning: \n",
      "A value is trying to be set on a copy of a slice from a DataFrame.\n",
      "Try using .loc[row_indexer,col_indexer] = value instead\n",
      "\n",
      "See the caveats in the documentation: https://pandas.pydata.org/pandas-docs/stable/user_guide/indexing.html#returning-a-view-versus-a-copy\n",
      "  data_sub['t_minus1_low'] = data_sub['low'].shift(1)\n"
     ]
    },
    {
     "name": "stdout",
     "output_type": "stream",
     "text": [
      "[*********************100%***********************]  1 of 1 completed\n",
      "LUMN testing r2_score: 0.9224356128836132\n",
      "LUMN testing MSE score: 0.07228932947118635\n",
      "LUMN : tomorrow's price: [12.7208424]\n",
      "LUMN Success!\n",
      " \n",
      " \n",
      "Analyzing LYB\n"
     ]
    },
    {
     "name": "stderr",
     "output_type": "stream",
     "text": [
      "<ipython-input-452-1cd440387d10>:47: SettingWithCopyWarning: \n",
      "A value is trying to be set on a copy of a slice from a DataFrame.\n",
      "Try using .loc[row_indexer,col_indexer] = value instead\n",
      "\n",
      "See the caveats in the documentation: https://pandas.pydata.org/pandas-docs/stable/user_guide/indexing.html#returning-a-view-versus-a-copy\n",
      "  data_sub['t_minus1_high'] = data_sub['high'].shift(1)\n",
      "<ipython-input-452-1cd440387d10>:48: SettingWithCopyWarning: \n",
      "A value is trying to be set on a copy of a slice from a DataFrame.\n",
      "Try using .loc[row_indexer,col_indexer] = value instead\n",
      "\n",
      "See the caveats in the documentation: https://pandas.pydata.org/pandas-docs/stable/user_guide/indexing.html#returning-a-view-versus-a-copy\n",
      "  data_sub['t_minus1_low'] = data_sub['low'].shift(1)\n"
     ]
    },
    {
     "name": "stdout",
     "output_type": "stream",
     "text": [
      "[*********************100%***********************]  1 of 1 completed\n",
      "LYB testing r2_score: 0.9263930300104313\n",
      "LYB testing MSE score: 3.5981745830495946\n",
      "LYB : tomorrow's price: [95.90052999]\n",
      "LYB Success!\n",
      " \n",
      " \n",
      "Analyzing MTB\n"
     ]
    },
    {
     "name": "stderr",
     "output_type": "stream",
     "text": [
      "<ipython-input-452-1cd440387d10>:47: SettingWithCopyWarning: \n",
      "A value is trying to be set on a copy of a slice from a DataFrame.\n",
      "Try using .loc[row_indexer,col_indexer] = value instead\n",
      "\n",
      "See the caveats in the documentation: https://pandas.pydata.org/pandas-docs/stable/user_guide/indexing.html#returning-a-view-versus-a-copy\n",
      "  data_sub['t_minus1_high'] = data_sub['high'].shift(1)\n",
      "<ipython-input-452-1cd440387d10>:48: SettingWithCopyWarning: \n",
      "A value is trying to be set on a copy of a slice from a DataFrame.\n",
      "Try using .loc[row_indexer,col_indexer] = value instead\n",
      "\n",
      "See the caveats in the documentation: https://pandas.pydata.org/pandas-docs/stable/user_guide/indexing.html#returning-a-view-versus-a-copy\n",
      "  data_sub['t_minus1_low'] = data_sub['low'].shift(1)\n"
     ]
    },
    {
     "name": "stdout",
     "output_type": "stream",
     "text": [
      "[*********************100%***********************]  1 of 1 completed\n",
      "MTB testing r2_score: 0.9314616307444412\n",
      "MTB testing MSE score: 7.4071912214630355\n",
      "MTB : tomorrow's price: [152.58476513]\n",
      "MTB Success!\n",
      " \n",
      " \n",
      "Analyzing MRO\n"
     ]
    },
    {
     "name": "stderr",
     "output_type": "stream",
     "text": [
      "<ipython-input-452-1cd440387d10>:47: SettingWithCopyWarning: \n",
      "A value is trying to be set on a copy of a slice from a DataFrame.\n",
      "Try using .loc[row_indexer,col_indexer] = value instead\n",
      "\n",
      "See the caveats in the documentation: https://pandas.pydata.org/pandas-docs/stable/user_guide/indexing.html#returning-a-view-versus-a-copy\n",
      "  data_sub['t_minus1_high'] = data_sub['high'].shift(1)\n",
      "<ipython-input-452-1cd440387d10>:48: SettingWithCopyWarning: \n",
      "A value is trying to be set on a copy of a slice from a DataFrame.\n",
      "Try using .loc[row_indexer,col_indexer] = value instead\n",
      "\n",
      "See the caveats in the documentation: https://pandas.pydata.org/pandas-docs/stable/user_guide/indexing.html#returning-a-view-versus-a-copy\n",
      "  data_sub['t_minus1_low'] = data_sub['low'].shift(1)\n"
     ]
    },
    {
     "name": "stdout",
     "output_type": "stream",
     "text": [
      "[*********************100%***********************]  1 of 1 completed\n",
      "MRO testing r2_score: 0.8962829112398295\n",
      "MRO testing MSE score: 0.1674065814940157\n",
      "MRO : tomorrow's price: [14.2636913]\n",
      "MRO Success!\n",
      " \n",
      " \n",
      "Analyzing MPC\n"
     ]
    },
    {
     "name": "stderr",
     "output_type": "stream",
     "text": [
      "<ipython-input-452-1cd440387d10>:47: SettingWithCopyWarning: \n",
      "A value is trying to be set on a copy of a slice from a DataFrame.\n",
      "Try using .loc[row_indexer,col_indexer] = value instead\n",
      "\n",
      "See the caveats in the documentation: https://pandas.pydata.org/pandas-docs/stable/user_guide/indexing.html#returning-a-view-versus-a-copy\n",
      "  data_sub['t_minus1_high'] = data_sub['high'].shift(1)\n",
      "<ipython-input-452-1cd440387d10>:48: SettingWithCopyWarning: \n",
      "A value is trying to be set on a copy of a slice from a DataFrame.\n",
      "Try using .loc[row_indexer,col_indexer] = value instead\n",
      "\n",
      "See the caveats in the documentation: https://pandas.pydata.org/pandas-docs/stable/user_guide/indexing.html#returning-a-view-versus-a-copy\n",
      "  data_sub['t_minus1_low'] = data_sub['low'].shift(1)\n"
     ]
    },
    {
     "name": "stdout",
     "output_type": "stream",
     "text": [
      "[*********************100%***********************]  1 of 1 completed\n",
      "MPC testing r2_score: 0.8661318743541451\n",
      "MPC testing MSE score: 1.3490828114483584\n",
      "MPC : tomorrow's price: [63.49302412]\n",
      "MPC Success!\n",
      " \n",
      " \n",
      "Analyzing MKTX\n"
     ]
    },
    {
     "name": "stderr",
     "output_type": "stream",
     "text": [
      "<ipython-input-452-1cd440387d10>:47: SettingWithCopyWarning: \n",
      "A value is trying to be set on a copy of a slice from a DataFrame.\n",
      "Try using .loc[row_indexer,col_indexer] = value instead\n",
      "\n",
      "See the caveats in the documentation: https://pandas.pydata.org/pandas-docs/stable/user_guide/indexing.html#returning-a-view-versus-a-copy\n",
      "  data_sub['t_minus1_high'] = data_sub['high'].shift(1)\n",
      "<ipython-input-452-1cd440387d10>:48: SettingWithCopyWarning: \n",
      "A value is trying to be set on a copy of a slice from a DataFrame.\n",
      "Try using .loc[row_indexer,col_indexer] = value instead\n",
      "\n",
      "See the caveats in the documentation: https://pandas.pydata.org/pandas-docs/stable/user_guide/indexing.html#returning-a-view-versus-a-copy\n",
      "  data_sub['t_minus1_low'] = data_sub['low'].shift(1)\n"
     ]
    },
    {
     "name": "stdout",
     "output_type": "stream",
     "text": [
      "[*********************100%***********************]  1 of 1 completed\n",
      "MKTX testing r2_score: 0.8854643506658555\n",
      "MKTX testing MSE score: 55.562607620321714\n",
      "MKTX : tomorrow's price: [418.88013461]\n",
      "MKTX Success!\n",
      " \n",
      " \n",
      "Analyzing MAR\n"
     ]
    },
    {
     "name": "stderr",
     "output_type": "stream",
     "text": [
      "<ipython-input-452-1cd440387d10>:47: SettingWithCopyWarning: \n",
      "A value is trying to be set on a copy of a slice from a DataFrame.\n",
      "Try using .loc[row_indexer,col_indexer] = value instead\n",
      "\n",
      "See the caveats in the documentation: https://pandas.pydata.org/pandas-docs/stable/user_guide/indexing.html#returning-a-view-versus-a-copy\n",
      "  data_sub['t_minus1_high'] = data_sub['high'].shift(1)\n",
      "<ipython-input-452-1cd440387d10>:48: SettingWithCopyWarning: \n",
      "A value is trying to be set on a copy of a slice from a DataFrame.\n",
      "Try using .loc[row_indexer,col_indexer] = value instead\n",
      "\n",
      "See the caveats in the documentation: https://pandas.pydata.org/pandas-docs/stable/user_guide/indexing.html#returning-a-view-versus-a-copy\n",
      "  data_sub['t_minus1_low'] = data_sub['low'].shift(1)\n"
     ]
    },
    {
     "name": "stdout",
     "output_type": "stream",
     "text": [
      "[*********************100%***********************]  1 of 1 completed\n",
      "MAR testing r2_score: 0.8485823399336254\n",
      "MAR testing MSE score: 6.4156806236389885\n",
      "MAR : tomorrow's price: [155.79193164]\n",
      "MAR Success!\n",
      " \n",
      " \n",
      "Analyzing MMC\n"
     ]
    },
    {
     "name": "stderr",
     "output_type": "stream",
     "text": [
      "<ipython-input-452-1cd440387d10>:47: SettingWithCopyWarning: \n",
      "A value is trying to be set on a copy of a slice from a DataFrame.\n",
      "Try using .loc[row_indexer,col_indexer] = value instead\n",
      "\n",
      "See the caveats in the documentation: https://pandas.pydata.org/pandas-docs/stable/user_guide/indexing.html#returning-a-view-versus-a-copy\n",
      "  data_sub['t_minus1_high'] = data_sub['high'].shift(1)\n",
      "<ipython-input-452-1cd440387d10>:48: SettingWithCopyWarning: \n",
      "A value is trying to be set on a copy of a slice from a DataFrame.\n",
      "Try using .loc[row_indexer,col_indexer] = value instead\n",
      "\n",
      "See the caveats in the documentation: https://pandas.pydata.org/pandas-docs/stable/user_guide/indexing.html#returning-a-view-versus-a-copy\n",
      "  data_sub['t_minus1_low'] = data_sub['low'].shift(1)\n"
     ]
    },
    {
     "name": "stdout",
     "output_type": "stream",
     "text": [
      "[*********************100%***********************]  1 of 1 completed\n",
      "MMC testing r2_score: 0.971507409062165\n",
      "MMC testing MSE score: 2.165741946777897\n",
      "MMC : tomorrow's price: [153.09952888]\n",
      "MMC Success!\n",
      " \n",
      " \n",
      "Analyzing MLM\n"
     ]
    },
    {
     "name": "stderr",
     "output_type": "stream",
     "text": [
      "<ipython-input-452-1cd440387d10>:47: SettingWithCopyWarning: \n",
      "A value is trying to be set on a copy of a slice from a DataFrame.\n",
      "Try using .loc[row_indexer,col_indexer] = value instead\n",
      "\n",
      "See the caveats in the documentation: https://pandas.pydata.org/pandas-docs/stable/user_guide/indexing.html#returning-a-view-versus-a-copy\n",
      "  data_sub['t_minus1_high'] = data_sub['high'].shift(1)\n",
      "<ipython-input-452-1cd440387d10>:48: SettingWithCopyWarning: \n",
      "A value is trying to be set on a copy of a slice from a DataFrame.\n",
      "Try using .loc[row_indexer,col_indexer] = value instead\n",
      "\n",
      "See the caveats in the documentation: https://pandas.pydata.org/pandas-docs/stable/user_guide/indexing.html#returning-a-view-versus-a-copy\n",
      "  data_sub['t_minus1_low'] = data_sub['low'].shift(1)\n"
     ]
    },
    {
     "name": "stdout",
     "output_type": "stream",
     "text": [
      "[*********************100%***********************]  1 of 1 completed\n",
      "MLM testing r2_score: 0.8005906010548667\n",
      "MLM testing MSE score: 30.922252331594468\n",
      "MLM : tomorrow's price: [353.71045823]\n",
      "MLM Success!\n",
      " \n",
      " \n",
      "Analyzing MAS\n"
     ]
    },
    {
     "name": "stderr",
     "output_type": "stream",
     "text": [
      "<ipython-input-452-1cd440387d10>:47: SettingWithCopyWarning: \n",
      "A value is trying to be set on a copy of a slice from a DataFrame.\n",
      "Try using .loc[row_indexer,col_indexer] = value instead\n",
      "\n",
      "See the caveats in the documentation: https://pandas.pydata.org/pandas-docs/stable/user_guide/indexing.html#returning-a-view-versus-a-copy\n",
      "  data_sub['t_minus1_high'] = data_sub['high'].shift(1)\n",
      "<ipython-input-452-1cd440387d10>:48: SettingWithCopyWarning: \n",
      "A value is trying to be set on a copy of a slice from a DataFrame.\n",
      "Try using .loc[row_indexer,col_indexer] = value instead\n",
      "\n",
      "See the caveats in the documentation: https://pandas.pydata.org/pandas-docs/stable/user_guide/indexing.html#returning-a-view-versus-a-copy\n",
      "  data_sub['t_minus1_low'] = data_sub['low'].shift(1)\n"
     ]
    },
    {
     "name": "stdout",
     "output_type": "stream",
     "text": [
      "[*********************100%***********************]  1 of 1 completed\n",
      "MAS testing r2_score: 0.9003399409120582\n",
      "MAS testing MSE score: 0.6263573157098502\n",
      "MAS : tomorrow's price: [55.91314775]\n",
      "MAS Success!\n",
      " \n",
      " \n",
      "Analyzing MA\n"
     ]
    },
    {
     "name": "stderr",
     "output_type": "stream",
     "text": [
      "<ipython-input-452-1cd440387d10>:47: SettingWithCopyWarning: \n",
      "A value is trying to be set on a copy of a slice from a DataFrame.\n",
      "Try using .loc[row_indexer,col_indexer] = value instead\n",
      "\n",
      "See the caveats in the documentation: https://pandas.pydata.org/pandas-docs/stable/user_guide/indexing.html#returning-a-view-versus-a-copy\n",
      "  data_sub['t_minus1_high'] = data_sub['high'].shift(1)\n",
      "<ipython-input-452-1cd440387d10>:48: SettingWithCopyWarning: \n",
      "A value is trying to be set on a copy of a slice from a DataFrame.\n",
      "Try using .loc[row_indexer,col_indexer] = value instead\n",
      "\n",
      "See the caveats in the documentation: https://pandas.pydata.org/pandas-docs/stable/user_guide/indexing.html#returning-a-view-versus-a-copy\n",
      "  data_sub['t_minus1_low'] = data_sub['low'].shift(1)\n"
     ]
    },
    {
     "name": "stdout",
     "output_type": "stream",
     "text": [
      "[*********************100%***********************]  1 of 1 completed\n",
      "MA testing r2_score: 0.840098559262452\n",
      "MA testing MSE score: 27.952066264854277\n",
      "MA : tomorrow's price: [357.61221169]\n",
      "MA Success!\n",
      " \n",
      " \n",
      "Analyzing MTCH\n"
     ]
    },
    {
     "name": "stderr",
     "output_type": "stream",
     "text": [
      "<ipython-input-452-1cd440387d10>:47: SettingWithCopyWarning: \n",
      "A value is trying to be set on a copy of a slice from a DataFrame.\n",
      "Try using .loc[row_indexer,col_indexer] = value instead\n",
      "\n",
      "See the caveats in the documentation: https://pandas.pydata.org/pandas-docs/stable/user_guide/indexing.html#returning-a-view-versus-a-copy\n",
      "  data_sub['t_minus1_high'] = data_sub['high'].shift(1)\n",
      "<ipython-input-452-1cd440387d10>:48: SettingWithCopyWarning: \n",
      "A value is trying to be set on a copy of a slice from a DataFrame.\n",
      "Try using .loc[row_indexer,col_indexer] = value instead\n",
      "\n",
      "See the caveats in the documentation: https://pandas.pydata.org/pandas-docs/stable/user_guide/indexing.html#returning-a-view-versus-a-copy\n",
      "  data_sub['t_minus1_low'] = data_sub['low'].shift(1)\n"
     ]
    },
    {
     "name": "stdout",
     "output_type": "stream",
     "text": [
      "[*********************100%***********************]  1 of 1 completed\n",
      "MTCH testing r2_score: 0.8606990961723352\n",
      "MTCH testing MSE score: 13.249704857044657\n",
      "MTCH : tomorrow's price: [158.06113764]\n",
      "MTCH Success!\n",
      " \n",
      " \n",
      "Analyzing MKC\n"
     ]
    },
    {
     "name": "stderr",
     "output_type": "stream",
     "text": [
      "<ipython-input-452-1cd440387d10>:47: SettingWithCopyWarning: \n",
      "A value is trying to be set on a copy of a slice from a DataFrame.\n",
      "Try using .loc[row_indexer,col_indexer] = value instead\n",
      "\n",
      "See the caveats in the documentation: https://pandas.pydata.org/pandas-docs/stable/user_guide/indexing.html#returning-a-view-versus-a-copy\n",
      "  data_sub['t_minus1_high'] = data_sub['high'].shift(1)\n",
      "<ipython-input-452-1cd440387d10>:48: SettingWithCopyWarning: \n",
      "A value is trying to be set on a copy of a slice from a DataFrame.\n",
      "Try using .loc[row_indexer,col_indexer] = value instead\n",
      "\n",
      "See the caveats in the documentation: https://pandas.pydata.org/pandas-docs/stable/user_guide/indexing.html#returning-a-view-versus-a-copy\n",
      "  data_sub['t_minus1_low'] = data_sub['low'].shift(1)\n"
     ]
    },
    {
     "name": "stdout",
     "output_type": "stream",
     "text": [
      "[*********************100%***********************]  1 of 1 completed\n",
      "MKC testing r2_score: 0.9282866230003824\n",
      "MKC testing MSE score: 0.620290223328871\n",
      "MKC : tomorrow's price: [80.80062097]\n",
      "MKC Success!\n",
      " \n",
      " \n",
      "Analyzing MCD\n"
     ]
    },
    {
     "name": "stderr",
     "output_type": "stream",
     "text": [
      "<ipython-input-452-1cd440387d10>:47: SettingWithCopyWarning: \n",
      "A value is trying to be set on a copy of a slice from a DataFrame.\n",
      "Try using .loc[row_indexer,col_indexer] = value instead\n",
      "\n",
      "See the caveats in the documentation: https://pandas.pydata.org/pandas-docs/stable/user_guide/indexing.html#returning-a-view-versus-a-copy\n",
      "  data_sub['t_minus1_high'] = data_sub['high'].shift(1)\n",
      "<ipython-input-452-1cd440387d10>:48: SettingWithCopyWarning: \n",
      "A value is trying to be set on a copy of a slice from a DataFrame.\n",
      "Try using .loc[row_indexer,col_indexer] = value instead\n",
      "\n",
      "See the caveats in the documentation: https://pandas.pydata.org/pandas-docs/stable/user_guide/indexing.html#returning-a-view-versus-a-copy\n",
      "  data_sub['t_minus1_low'] = data_sub['low'].shift(1)\n"
     ]
    },
    {
     "name": "stdout",
     "output_type": "stream",
     "text": [
      "[*********************100%***********************]  1 of 1 completed\n",
      "MCD testing r2_score: 0.788469300347926\n",
      "MCD testing MSE score: 4.767061545226742\n",
      "MCD : tomorrow's price: [241.91109979]\n",
      "MCD Success!\n",
      " \n",
      " \n",
      "Analyzing MCK\n"
     ]
    },
    {
     "name": "stderr",
     "output_type": "stream",
     "text": [
      "<ipython-input-452-1cd440387d10>:47: SettingWithCopyWarning: \n",
      "A value is trying to be set on a copy of a slice from a DataFrame.\n",
      "Try using .loc[row_indexer,col_indexer] = value instead\n",
      "\n",
      "See the caveats in the documentation: https://pandas.pydata.org/pandas-docs/stable/user_guide/indexing.html#returning-a-view-versus-a-copy\n",
      "  data_sub['t_minus1_high'] = data_sub['high'].shift(1)\n",
      "<ipython-input-452-1cd440387d10>:48: SettingWithCopyWarning: \n",
      "A value is trying to be set on a copy of a slice from a DataFrame.\n",
      "Try using .loc[row_indexer,col_indexer] = value instead\n",
      "\n",
      "See the caveats in the documentation: https://pandas.pydata.org/pandas-docs/stable/user_guide/indexing.html#returning-a-view-versus-a-copy\n",
      "  data_sub['t_minus1_low'] = data_sub['low'].shift(1)\n"
     ]
    },
    {
     "name": "stdout",
     "output_type": "stream",
     "text": [
      "[*********************100%***********************]  1 of 1 completed\n",
      "MCK testing r2_score: 0.7718267557645349\n",
      "MCK testing MSE score: 7.710925453231894\n",
      "MCK : tomorrow's price: [199.33305749]\n",
      "MCK Success!\n",
      " \n",
      " \n",
      "Analyzing MDT\n"
     ]
    },
    {
     "name": "stderr",
     "output_type": "stream",
     "text": [
      "<ipython-input-452-1cd440387d10>:47: SettingWithCopyWarning: \n",
      "A value is trying to be set on a copy of a slice from a DataFrame.\n",
      "Try using .loc[row_indexer,col_indexer] = value instead\n",
      "\n",
      "See the caveats in the documentation: https://pandas.pydata.org/pandas-docs/stable/user_guide/indexing.html#returning-a-view-versus-a-copy\n",
      "  data_sub['t_minus1_high'] = data_sub['high'].shift(1)\n",
      "<ipython-input-452-1cd440387d10>:48: SettingWithCopyWarning: \n",
      "A value is trying to be set on a copy of a slice from a DataFrame.\n",
      "Try using .loc[row_indexer,col_indexer] = value instead\n",
      "\n",
      "See the caveats in the documentation: https://pandas.pydata.org/pandas-docs/stable/user_guide/indexing.html#returning-a-view-versus-a-copy\n",
      "  data_sub['t_minus1_low'] = data_sub['low'].shift(1)\n"
     ]
    },
    {
     "name": "stdout",
     "output_type": "stream",
     "text": [
      "[*********************100%***********************]  1 of 1 completed\n",
      "MDT testing r2_score: 0.8065145577545575\n",
      "MDT testing MSE score: 1.9409103497886993\n",
      "MDT : tomorrow's price: [127.07854627]\n",
      "MDT Success!\n",
      " \n",
      " \n",
      "Analyzing MRK\n"
     ]
    },
    {
     "name": "stderr",
     "output_type": "stream",
     "text": [
      "<ipython-input-452-1cd440387d10>:47: SettingWithCopyWarning: \n",
      "A value is trying to be set on a copy of a slice from a DataFrame.\n",
      "Try using .loc[row_indexer,col_indexer] = value instead\n",
      "\n",
      "See the caveats in the documentation: https://pandas.pydata.org/pandas-docs/stable/user_guide/indexing.html#returning-a-view-versus-a-copy\n",
      "  data_sub['t_minus1_high'] = data_sub['high'].shift(1)\n",
      "<ipython-input-452-1cd440387d10>:48: SettingWithCopyWarning: \n",
      "A value is trying to be set on a copy of a slice from a DataFrame.\n",
      "Try using .loc[row_indexer,col_indexer] = value instead\n",
      "\n",
      "See the caveats in the documentation: https://pandas.pydata.org/pandas-docs/stable/user_guide/indexing.html#returning-a-view-versus-a-copy\n",
      "  data_sub['t_minus1_low'] = data_sub['low'].shift(1)\n"
     ]
    },
    {
     "name": "stdout",
     "output_type": "stream",
     "text": [
      "[*********************100%***********************]  1 of 1 completed\n",
      "MRK testing r2_score: 0.8220553760566306\n",
      "MRK testing MSE score: 1.0691493975428774\n",
      "MRK : tomorrow's price: [80.16978922]\n",
      "MRK Success!\n",
      " \n",
      " \n",
      "Analyzing MET\n"
     ]
    },
    {
     "name": "stderr",
     "output_type": "stream",
     "text": [
      "<ipython-input-452-1cd440387d10>:47: SettingWithCopyWarning: \n",
      "A value is trying to be set on a copy of a slice from a DataFrame.\n",
      "Try using .loc[row_indexer,col_indexer] = value instead\n",
      "\n",
      "See the caveats in the documentation: https://pandas.pydata.org/pandas-docs/stable/user_guide/indexing.html#returning-a-view-versus-a-copy\n",
      "  data_sub['t_minus1_high'] = data_sub['high'].shift(1)\n",
      "<ipython-input-452-1cd440387d10>:48: SettingWithCopyWarning: \n",
      "A value is trying to be set on a copy of a slice from a DataFrame.\n",
      "Try using .loc[row_indexer,col_indexer] = value instead\n",
      "\n",
      "See the caveats in the documentation: https://pandas.pydata.org/pandas-docs/stable/user_guide/indexing.html#returning-a-view-versus-a-copy\n",
      "  data_sub['t_minus1_low'] = data_sub['low'].shift(1)\n"
     ]
    },
    {
     "name": "stdout",
     "output_type": "stream",
     "text": [
      "[*********************100%***********************]  1 of 1 completed\n",
      "MET testing r2_score: 0.8596726158305112\n",
      "MET testing MSE score: 1.0740940963373773\n",
      "MET : tomorrow's price: [62.66576064]\n",
      "MET Success!\n",
      " \n",
      " \n",
      "Analyzing MTD\n"
     ]
    },
    {
     "name": "stderr",
     "output_type": "stream",
     "text": [
      "<ipython-input-452-1cd440387d10>:47: SettingWithCopyWarning: \n",
      "A value is trying to be set on a copy of a slice from a DataFrame.\n",
      "Try using .loc[row_indexer,col_indexer] = value instead\n",
      "\n",
      "See the caveats in the documentation: https://pandas.pydata.org/pandas-docs/stable/user_guide/indexing.html#returning-a-view-versus-a-copy\n",
      "  data_sub['t_minus1_high'] = data_sub['high'].shift(1)\n",
      "<ipython-input-452-1cd440387d10>:48: SettingWithCopyWarning: \n",
      "A value is trying to be set on a copy of a slice from a DataFrame.\n",
      "Try using .loc[row_indexer,col_indexer] = value instead\n",
      "\n",
      "See the caveats in the documentation: https://pandas.pydata.org/pandas-docs/stable/user_guide/indexing.html#returning-a-view-versus-a-copy\n",
      "  data_sub['t_minus1_low'] = data_sub['low'].shift(1)\n"
     ]
    },
    {
     "name": "stdout",
     "output_type": "stream",
     "text": [
      "[*********************100%***********************]  1 of 1 completed\n",
      "MTD testing r2_score: 0.9721354935904711\n",
      "MTD testing MSE score: 327.44571244678923\n",
      "MTD : tomorrow's price: [1371.59370894]\n",
      "MTD Success!\n",
      " \n",
      " \n",
      "Analyzing MGM\n"
     ]
    },
    {
     "name": "stderr",
     "output_type": "stream",
     "text": [
      "<ipython-input-452-1cd440387d10>:47: SettingWithCopyWarning: \n",
      "A value is trying to be set on a copy of a slice from a DataFrame.\n",
      "Try using .loc[row_indexer,col_indexer] = value instead\n",
      "\n",
      "See the caveats in the documentation: https://pandas.pydata.org/pandas-docs/stable/user_guide/indexing.html#returning-a-view-versus-a-copy\n",
      "  data_sub['t_minus1_high'] = data_sub['high'].shift(1)\n",
      "<ipython-input-452-1cd440387d10>:48: SettingWithCopyWarning: \n",
      "A value is trying to be set on a copy of a slice from a DataFrame.\n",
      "Try using .loc[row_indexer,col_indexer] = value instead\n",
      "\n",
      "See the caveats in the documentation: https://pandas.pydata.org/pandas-docs/stable/user_guide/indexing.html#returning-a-view-versus-a-copy\n",
      "  data_sub['t_minus1_low'] = data_sub['low'].shift(1)\n"
     ]
    },
    {
     "name": "stdout",
     "output_type": "stream",
     "text": [
      "[*********************100%***********************]  1 of 1 completed\n",
      "MGM testing r2_score: 0.8163254366878244\n",
      "MGM testing MSE score: 1.0818568125447168\n",
      "MGM : tomorrow's price: [44.77775946]\n",
      "MGM Success!\n",
      " \n",
      " \n",
      "Analyzing MCHP\n"
     ]
    },
    {
     "name": "stderr",
     "output_type": "stream",
     "text": [
      "<ipython-input-452-1cd440387d10>:47: SettingWithCopyWarning: \n",
      "A value is trying to be set on a copy of a slice from a DataFrame.\n",
      "Try using .loc[row_indexer,col_indexer] = value instead\n",
      "\n",
      "See the caveats in the documentation: https://pandas.pydata.org/pandas-docs/stable/user_guide/indexing.html#returning-a-view-versus-a-copy\n",
      "  data_sub['t_minus1_high'] = data_sub['high'].shift(1)\n",
      "<ipython-input-452-1cd440387d10>:48: SettingWithCopyWarning: \n",
      "A value is trying to be set on a copy of a slice from a DataFrame.\n",
      "Try using .loc[row_indexer,col_indexer] = value instead\n",
      "\n",
      "See the caveats in the documentation: https://pandas.pydata.org/pandas-docs/stable/user_guide/indexing.html#returning-a-view-versus-a-copy\n",
      "  data_sub['t_minus1_low'] = data_sub['low'].shift(1)\n"
     ]
    },
    {
     "name": "stdout",
     "output_type": "stream",
     "text": [
      "[*********************100%***********************]  1 of 1 completed\n",
      "MCHP testing r2_score: 0.8364677621777731\n",
      "MCHP testing MSE score: 1.9659914257629425\n",
      "MCHP : tomorrow's price: [76.49585569]\n",
      "MCHP Success!\n",
      " \n",
      " \n",
      "Analyzing MU\n"
     ]
    },
    {
     "name": "stderr",
     "output_type": "stream",
     "text": [
      "<ipython-input-452-1cd440387d10>:47: SettingWithCopyWarning: \n",
      "A value is trying to be set on a copy of a slice from a DataFrame.\n",
      "Try using .loc[row_indexer,col_indexer] = value instead\n",
      "\n",
      "See the caveats in the documentation: https://pandas.pydata.org/pandas-docs/stable/user_guide/indexing.html#returning-a-view-versus-a-copy\n",
      "  data_sub['t_minus1_high'] = data_sub['high'].shift(1)\n",
      "<ipython-input-452-1cd440387d10>:48: SettingWithCopyWarning: \n",
      "A value is trying to be set on a copy of a slice from a DataFrame.\n",
      "Try using .loc[row_indexer,col_indexer] = value instead\n",
      "\n",
      "See the caveats in the documentation: https://pandas.pydata.org/pandas-docs/stable/user_guide/indexing.html#returning-a-view-versus-a-copy\n",
      "  data_sub['t_minus1_low'] = data_sub['low'].shift(1)\n"
     ]
    },
    {
     "name": "stdout",
     "output_type": "stream",
     "text": [
      "[*********************100%***********************]  1 of 1 completed\n",
      "MU testing r2_score: 0.8942950520352317\n",
      "MU testing MSE score: 2.5034644842647897\n",
      "MU : tomorrow's price: [70.89362804]\n",
      "MU Success!\n",
      " \n",
      " \n",
      "Analyzing MSFT\n"
     ]
    },
    {
     "name": "stderr",
     "output_type": "stream",
     "text": [
      "<ipython-input-452-1cd440387d10>:47: SettingWithCopyWarning: \n",
      "A value is trying to be set on a copy of a slice from a DataFrame.\n",
      "Try using .loc[row_indexer,col_indexer] = value instead\n",
      "\n",
      "See the caveats in the documentation: https://pandas.pydata.org/pandas-docs/stable/user_guide/indexing.html#returning-a-view-versus-a-copy\n",
      "  data_sub['t_minus1_high'] = data_sub['high'].shift(1)\n",
      "<ipython-input-452-1cd440387d10>:48: SettingWithCopyWarning: \n",
      "A value is trying to be set on a copy of a slice from a DataFrame.\n",
      "Try using .loc[row_indexer,col_indexer] = value instead\n",
      "\n",
      "See the caveats in the documentation: https://pandas.pydata.org/pandas-docs/stable/user_guide/indexing.html#returning-a-view-versus-a-copy\n",
      "  data_sub['t_minus1_low'] = data_sub['low'].shift(1)\n"
     ]
    },
    {
     "name": "stdout",
     "output_type": "stream",
     "text": [
      "[*********************100%***********************]  1 of 1 completed\n",
      "MSFT testing r2_score: 0.9719967497632813\n",
      "MSFT testing MSE score: 11.313615218851721\n",
      "MSFT : tomorrow's price: [286.75746484]\n",
      "MSFT Success!\n",
      " \n",
      " \n",
      "Analyzing MAA\n"
     ]
    },
    {
     "name": "stderr",
     "output_type": "stream",
     "text": [
      "<ipython-input-452-1cd440387d10>:47: SettingWithCopyWarning: \n",
      "A value is trying to be set on a copy of a slice from a DataFrame.\n",
      "Try using .loc[row_indexer,col_indexer] = value instead\n",
      "\n",
      "See the caveats in the documentation: https://pandas.pydata.org/pandas-docs/stable/user_guide/indexing.html#returning-a-view-versus-a-copy\n",
      "  data_sub['t_minus1_high'] = data_sub['high'].shift(1)\n",
      "<ipython-input-452-1cd440387d10>:48: SettingWithCopyWarning: \n",
      "A value is trying to be set on a copy of a slice from a DataFrame.\n",
      "Try using .loc[row_indexer,col_indexer] = value instead\n",
      "\n",
      "See the caveats in the documentation: https://pandas.pydata.org/pandas-docs/stable/user_guide/indexing.html#returning-a-view-versus-a-copy\n",
      "  data_sub['t_minus1_low'] = data_sub['low'].shift(1)\n"
     ]
    },
    {
     "name": "stdout",
     "output_type": "stream",
     "text": [
      "[*********************100%***********************]  1 of 1 completed\n",
      "MAA testing r2_score: 0.9712049311518258\n",
      "MAA testing MSE score: 5.254046399140347\n",
      "MAA : tomorrow's price: [187.68261309]\n",
      "MAA Success!\n",
      " \n",
      " \n",
      "Analyzing MRNA\n"
     ]
    },
    {
     "name": "stderr",
     "output_type": "stream",
     "text": [
      "<ipython-input-452-1cd440387d10>:47: SettingWithCopyWarning: \n",
      "A value is trying to be set on a copy of a slice from a DataFrame.\n",
      "Try using .loc[row_indexer,col_indexer] = value instead\n",
      "\n",
      "See the caveats in the documentation: https://pandas.pydata.org/pandas-docs/stable/user_guide/indexing.html#returning-a-view-versus-a-copy\n",
      "  data_sub['t_minus1_high'] = data_sub['high'].shift(1)\n",
      "<ipython-input-452-1cd440387d10>:48: SettingWithCopyWarning: \n",
      "A value is trying to be set on a copy of a slice from a DataFrame.\n",
      "Try using .loc[row_indexer,col_indexer] = value instead\n",
      "\n",
      "See the caveats in the documentation: https://pandas.pydata.org/pandas-docs/stable/user_guide/indexing.html#returning-a-view-versus-a-copy\n",
      "  data_sub['t_minus1_low'] = data_sub['low'].shift(1)\n"
     ]
    },
    {
     "name": "stdout",
     "output_type": "stream",
     "text": [
      "[*********************100%***********************]  1 of 1 completed\n",
      "MRNA testing r2_score: 0.9754295722232513\n",
      "MRNA testing MSE score: 246.27619054709564\n",
      "MRNA : tomorrow's price: [340.58159176]\n",
      "MRNA Success!\n",
      " \n",
      " \n",
      "Analyzing MHK\n"
     ]
    },
    {
     "name": "stderr",
     "output_type": "stream",
     "text": [
      "<ipython-input-452-1cd440387d10>:47: SettingWithCopyWarning: \n",
      "A value is trying to be set on a copy of a slice from a DataFrame.\n",
      "Try using .loc[row_indexer,col_indexer] = value instead\n",
      "\n",
      "See the caveats in the documentation: https://pandas.pydata.org/pandas-docs/stable/user_guide/indexing.html#returning-a-view-versus-a-copy\n",
      "  data_sub['t_minus1_high'] = data_sub['high'].shift(1)\n",
      "<ipython-input-452-1cd440387d10>:48: SettingWithCopyWarning: \n",
      "A value is trying to be set on a copy of a slice from a DataFrame.\n",
      "Try using .loc[row_indexer,col_indexer] = value instead\n",
      "\n",
      "See the caveats in the documentation: https://pandas.pydata.org/pandas-docs/stable/user_guide/indexing.html#returning-a-view-versus-a-copy\n",
      "  data_sub['t_minus1_low'] = data_sub['low'].shift(1)\n"
     ]
    },
    {
     "name": "stdout",
     "output_type": "stream",
     "text": [
      "[*********************100%***********************]  1 of 1 completed\n",
      "MHK testing r2_score: 0.8836353652728139\n",
      "MHK testing MSE score: 16.77620515608952\n",
      "MHK : tomorrow's price: [179.19474423]\n",
      "MHK Success!\n",
      " \n",
      " \n",
      "Analyzing TAP\n"
     ]
    },
    {
     "name": "stderr",
     "output_type": "stream",
     "text": [
      "<ipython-input-452-1cd440387d10>:47: SettingWithCopyWarning: \n",
      "A value is trying to be set on a copy of a slice from a DataFrame.\n",
      "Try using .loc[row_indexer,col_indexer] = value instead\n",
      "\n",
      "See the caveats in the documentation: https://pandas.pydata.org/pandas-docs/stable/user_guide/indexing.html#returning-a-view-versus-a-copy\n",
      "  data_sub['t_minus1_high'] = data_sub['high'].shift(1)\n",
      "<ipython-input-452-1cd440387d10>:48: SettingWithCopyWarning: \n",
      "A value is trying to be set on a copy of a slice from a DataFrame.\n",
      "Try using .loc[row_indexer,col_indexer] = value instead\n",
      "\n",
      "See the caveats in the documentation: https://pandas.pydata.org/pandas-docs/stable/user_guide/indexing.html#returning-a-view-versus-a-copy\n",
      "  data_sub['t_minus1_low'] = data_sub['low'].shift(1)\n"
     ]
    },
    {
     "name": "stdout",
     "output_type": "stream",
     "text": [
      "[*********************100%***********************]  1 of 1 completed\n",
      "TAP testing r2_score: 0.9647546707598021\n",
      "TAP testing MSE score: 0.8171288311397396\n",
      "TAP : tomorrow's price: [47.27330078]\n",
      "TAP Success!\n",
      " \n",
      " \n",
      "Analyzing MDLZ\n"
     ]
    },
    {
     "name": "stderr",
     "output_type": "stream",
     "text": [
      "<ipython-input-452-1cd440387d10>:47: SettingWithCopyWarning: \n",
      "A value is trying to be set on a copy of a slice from a DataFrame.\n",
      "Try using .loc[row_indexer,col_indexer] = value instead\n",
      "\n",
      "See the caveats in the documentation: https://pandas.pydata.org/pandas-docs/stable/user_guide/indexing.html#returning-a-view-versus-a-copy\n",
      "  data_sub['t_minus1_high'] = data_sub['high'].shift(1)\n",
      "<ipython-input-452-1cd440387d10>:48: SettingWithCopyWarning: \n",
      "A value is trying to be set on a copy of a slice from a DataFrame.\n",
      "Try using .loc[row_indexer,col_indexer] = value instead\n",
      "\n",
      "See the caveats in the documentation: https://pandas.pydata.org/pandas-docs/stable/user_guide/indexing.html#returning-a-view-versus-a-copy\n",
      "  data_sub['t_minus1_low'] = data_sub['low'].shift(1)\n"
     ]
    },
    {
     "name": "stdout",
     "output_type": "stream",
     "text": [
      "[*********************100%***********************]  1 of 1 completed\n",
      "MDLZ testing r2_score: 0.8737270057166413\n",
      "MDLZ testing MSE score: 0.30721759216338795\n",
      "MDLZ : tomorrow's price: [58.00445798]\n",
      "MDLZ Success!\n",
      " \n",
      " \n",
      "Analyzing MPWR\n"
     ]
    },
    {
     "name": "stderr",
     "output_type": "stream",
     "text": [
      "<ipython-input-452-1cd440387d10>:47: SettingWithCopyWarning: \n",
      "A value is trying to be set on a copy of a slice from a DataFrame.\n",
      "Try using .loc[row_indexer,col_indexer] = value instead\n",
      "\n",
      "See the caveats in the documentation: https://pandas.pydata.org/pandas-docs/stable/user_guide/indexing.html#returning-a-view-versus-a-copy\n",
      "  data_sub['t_minus1_high'] = data_sub['high'].shift(1)\n",
      "<ipython-input-452-1cd440387d10>:48: SettingWithCopyWarning: \n",
      "A value is trying to be set on a copy of a slice from a DataFrame.\n",
      "Try using .loc[row_indexer,col_indexer] = value instead\n",
      "\n",
      "See the caveats in the documentation: https://pandas.pydata.org/pandas-docs/stable/user_guide/indexing.html#returning-a-view-versus-a-copy\n",
      "  data_sub['t_minus1_low'] = data_sub['low'].shift(1)\n"
     ]
    },
    {
     "name": "stdout",
     "output_type": "stream",
     "text": [
      "[*********************100%***********************]  1 of 1 completed\n",
      "MPWR testing r2_score: 0.9846075998971245\n",
      "MPWR testing MSE score: 67.19962456030717\n",
      "MPWR : tomorrow's price: [482.92021664]\n",
      "MPWR Success!\n",
      " \n",
      " \n",
      "Analyzing MNST\n"
     ]
    },
    {
     "name": "stderr",
     "output_type": "stream",
     "text": [
      "<ipython-input-452-1cd440387d10>:47: SettingWithCopyWarning: \n",
      "A value is trying to be set on a copy of a slice from a DataFrame.\n",
      "Try using .loc[row_indexer,col_indexer] = value instead\n",
      "\n",
      "See the caveats in the documentation: https://pandas.pydata.org/pandas-docs/stable/user_guide/indexing.html#returning-a-view-versus-a-copy\n",
      "  data_sub['t_minus1_high'] = data_sub['high'].shift(1)\n",
      "<ipython-input-452-1cd440387d10>:48: SettingWithCopyWarning: \n",
      "A value is trying to be set on a copy of a slice from a DataFrame.\n",
      "Try using .loc[row_indexer,col_indexer] = value instead\n",
      "\n",
      "See the caveats in the documentation: https://pandas.pydata.org/pandas-docs/stable/user_guide/indexing.html#returning-a-view-versus-a-copy\n",
      "  data_sub['t_minus1_low'] = data_sub['low'].shift(1)\n"
     ]
    },
    {
     "name": "stdout",
     "output_type": "stream",
     "text": [
      "[*********************100%***********************]  1 of 1 completed\n",
      "MNST testing r2_score: 0.8421957767697786\n",
      "MNST testing MSE score: 1.3484964476913346\n",
      "MNST : tomorrow's price: [89.87197904]\n",
      "MNST Success!\n",
      " \n",
      " \n",
      "Analyzing MCO\n"
     ]
    },
    {
     "name": "stderr",
     "output_type": "stream",
     "text": [
      "<ipython-input-452-1cd440387d10>:47: SettingWithCopyWarning: \n",
      "A value is trying to be set on a copy of a slice from a DataFrame.\n",
      "Try using .loc[row_indexer,col_indexer] = value instead\n",
      "\n",
      "See the caveats in the documentation: https://pandas.pydata.org/pandas-docs/stable/user_guide/indexing.html#returning-a-view-versus-a-copy\n",
      "  data_sub['t_minus1_high'] = data_sub['high'].shift(1)\n",
      "<ipython-input-452-1cd440387d10>:48: SettingWithCopyWarning: \n",
      "A value is trying to be set on a copy of a slice from a DataFrame.\n",
      "Try using .loc[row_indexer,col_indexer] = value instead\n",
      "\n",
      "See the caveats in the documentation: https://pandas.pydata.org/pandas-docs/stable/user_guide/indexing.html#returning-a-view-versus-a-copy\n",
      "  data_sub['t_minus1_low'] = data_sub['low'].shift(1)\n"
     ]
    },
    {
     "name": "stdout",
     "output_type": "stream",
     "text": [
      "[*********************100%***********************]  1 of 1 completed\n",
      "MCO testing r2_score: 0.954583799797293\n",
      "MCO testing MSE score: 18.09950653188624\n",
      "MCO : tomorrow's price: [357.76840219]\n",
      "MCO Success!\n",
      " \n",
      " \n",
      "Analyzing MS\n"
     ]
    },
    {
     "name": "stderr",
     "output_type": "stream",
     "text": [
      "<ipython-input-452-1cd440387d10>:47: SettingWithCopyWarning: \n",
      "A value is trying to be set on a copy of a slice from a DataFrame.\n",
      "Try using .loc[row_indexer,col_indexer] = value instead\n",
      "\n",
      "See the caveats in the documentation: https://pandas.pydata.org/pandas-docs/stable/user_guide/indexing.html#returning-a-view-versus-a-copy\n",
      "  data_sub['t_minus1_high'] = data_sub['high'].shift(1)\n",
      "<ipython-input-452-1cd440387d10>:48: SettingWithCopyWarning: \n",
      "A value is trying to be set on a copy of a slice from a DataFrame.\n",
      "Try using .loc[row_indexer,col_indexer] = value instead\n",
      "\n",
      "See the caveats in the documentation: https://pandas.pydata.org/pandas-docs/stable/user_guide/indexing.html#returning-a-view-versus-a-copy\n",
      "  data_sub['t_minus1_low'] = data_sub['low'].shift(1)\n"
     ]
    },
    {
     "name": "stdout",
     "output_type": "stream",
     "text": [
      "[*********************100%***********************]  1 of 1 completed\n",
      "MS testing r2_score: 0.9459328385982532\n",
      "MS testing MSE score: 2.401397911363187\n",
      "MS : tomorrow's price: [99.04894783]\n",
      "MS Success!\n",
      " \n",
      " \n",
      "Analyzing MSI\n"
     ]
    },
    {
     "name": "stderr",
     "output_type": "stream",
     "text": [
      "<ipython-input-452-1cd440387d10>:47: SettingWithCopyWarning: \n",
      "A value is trying to be set on a copy of a slice from a DataFrame.\n",
      "Try using .loc[row_indexer,col_indexer] = value instead\n",
      "\n",
      "See the caveats in the documentation: https://pandas.pydata.org/pandas-docs/stable/user_guide/indexing.html#returning-a-view-versus-a-copy\n",
      "  data_sub['t_minus1_high'] = data_sub['high'].shift(1)\n",
      "<ipython-input-452-1cd440387d10>:48: SettingWithCopyWarning: \n",
      "A value is trying to be set on a copy of a slice from a DataFrame.\n",
      "Try using .loc[row_indexer,col_indexer] = value instead\n",
      "\n",
      "See the caveats in the documentation: https://pandas.pydata.org/pandas-docs/stable/user_guide/indexing.html#returning-a-view-versus-a-copy\n",
      "  data_sub['t_minus1_low'] = data_sub['low'].shift(1)\n"
     ]
    },
    {
     "name": "stdout",
     "output_type": "stream",
     "text": [
      "[*********************100%***********************]  1 of 1 completed\n",
      "MSI testing r2_score: 0.9714559418449324\n",
      "MSI testing MSE score: 7.487758609521897\n",
      "MSI : tomorrow's price: [234.0050934]\n",
      "MSI Success!\n",
      " \n",
      " \n",
      "Analyzing MSCI\n"
     ]
    },
    {
     "name": "stderr",
     "output_type": "stream",
     "text": [
      "<ipython-input-452-1cd440387d10>:47: SettingWithCopyWarning: \n",
      "A value is trying to be set on a copy of a slice from a DataFrame.\n",
      "Try using .loc[row_indexer,col_indexer] = value instead\n",
      "\n",
      "See the caveats in the documentation: https://pandas.pydata.org/pandas-docs/stable/user_guide/indexing.html#returning-a-view-versus-a-copy\n",
      "  data_sub['t_minus1_high'] = data_sub['high'].shift(1)\n",
      "<ipython-input-452-1cd440387d10>:48: SettingWithCopyWarning: \n",
      "A value is trying to be set on a copy of a slice from a DataFrame.\n",
      "Try using .loc[row_indexer,col_indexer] = value instead\n",
      "\n",
      "See the caveats in the documentation: https://pandas.pydata.org/pandas-docs/stable/user_guide/indexing.html#returning-a-view-versus-a-copy\n",
      "  data_sub['t_minus1_low'] = data_sub['low'].shift(1)\n"
     ]
    },
    {
     "name": "stdout",
     "output_type": "stream",
     "text": [
      "[*********************100%***********************]  1 of 1 completed\n",
      "MSCI testing r2_score: 0.9857308176063055\n",
      "MSCI testing MSE score: 67.07430886304432\n",
      "MSCI : tomorrow's price: [609.76164326]\n",
      "MSCI Success!\n",
      " \n",
      " \n",
      "Analyzing NDAQ\n"
     ]
    },
    {
     "name": "stderr",
     "output_type": "stream",
     "text": [
      "<ipython-input-452-1cd440387d10>:47: SettingWithCopyWarning: \n",
      "A value is trying to be set on a copy of a slice from a DataFrame.\n",
      "Try using .loc[row_indexer,col_indexer] = value instead\n",
      "\n",
      "See the caveats in the documentation: https://pandas.pydata.org/pandas-docs/stable/user_guide/indexing.html#returning-a-view-versus-a-copy\n",
      "  data_sub['t_minus1_high'] = data_sub['high'].shift(1)\n",
      "<ipython-input-452-1cd440387d10>:48: SettingWithCopyWarning: \n",
      "A value is trying to be set on a copy of a slice from a DataFrame.\n",
      "Try using .loc[row_indexer,col_indexer] = value instead\n",
      "\n",
      "See the caveats in the documentation: https://pandas.pydata.org/pandas-docs/stable/user_guide/indexing.html#returning-a-view-versus-a-copy\n",
      "  data_sub['t_minus1_low'] = data_sub['low'].shift(1)\n"
     ]
    },
    {
     "name": "stdout",
     "output_type": "stream",
     "text": [
      "[*********************100%***********************]  1 of 1 completed\n",
      "NDAQ testing r2_score: 0.973540773752519\n",
      "NDAQ testing MSE score: 3.9825290288081154\n",
      "NDAQ : tomorrow's price: [193.66522656]\n",
      "NDAQ Success!\n",
      " \n",
      " \n",
      "Analyzing NTAP\n"
     ]
    },
    {
     "name": "stderr",
     "output_type": "stream",
     "text": [
      "<ipython-input-452-1cd440387d10>:47: SettingWithCopyWarning: \n",
      "A value is trying to be set on a copy of a slice from a DataFrame.\n",
      "Try using .loc[row_indexer,col_indexer] = value instead\n",
      "\n",
      "See the caveats in the documentation: https://pandas.pydata.org/pandas-docs/stable/user_guide/indexing.html#returning-a-view-versus-a-copy\n",
      "  data_sub['t_minus1_high'] = data_sub['high'].shift(1)\n",
      "<ipython-input-452-1cd440387d10>:48: SettingWithCopyWarning: \n",
      "A value is trying to be set on a copy of a slice from a DataFrame.\n",
      "Try using .loc[row_indexer,col_indexer] = value instead\n",
      "\n",
      "See the caveats in the documentation: https://pandas.pydata.org/pandas-docs/stable/user_guide/indexing.html#returning-a-view-versus-a-copy\n",
      "  data_sub['t_minus1_low'] = data_sub['low'].shift(1)\n"
     ]
    },
    {
     "name": "stdout",
     "output_type": "stream",
     "text": [
      "[*********************100%***********************]  1 of 1 completed\n",
      "NTAP testing r2_score: 0.941150325667163\n",
      "NTAP testing MSE score: 1.7082335160293547\n",
      "NTAP : tomorrow's price: [90.79418987]\n",
      "NTAP Success!\n",
      " \n",
      " \n",
      "Analyzing NFLX\n"
     ]
    },
    {
     "name": "stderr",
     "output_type": "stream",
     "text": [
      "<ipython-input-452-1cd440387d10>:47: SettingWithCopyWarning: \n",
      "A value is trying to be set on a copy of a slice from a DataFrame.\n",
      "Try using .loc[row_indexer,col_indexer] = value instead\n",
      "\n",
      "See the caveats in the documentation: https://pandas.pydata.org/pandas-docs/stable/user_guide/indexing.html#returning-a-view-versus-a-copy\n",
      "  data_sub['t_minus1_high'] = data_sub['high'].shift(1)\n",
      "<ipython-input-452-1cd440387d10>:48: SettingWithCopyWarning: \n",
      "A value is trying to be set on a copy of a slice from a DataFrame.\n",
      "Try using .loc[row_indexer,col_indexer] = value instead\n",
      "\n",
      "See the caveats in the documentation: https://pandas.pydata.org/pandas-docs/stable/user_guide/indexing.html#returning-a-view-versus-a-copy\n",
      "  data_sub['t_minus1_low'] = data_sub['low'].shift(1)\n"
     ]
    },
    {
     "name": "stdout",
     "output_type": "stream",
     "text": [
      "[*********************100%***********************]  1 of 1 completed\n",
      "NFLX testing r2_score: 0.9705820537081549\n",
      "NFLX testing MSE score: 55.369860477580964\n",
      "NFLX : tomorrow's price: [609.0824072]\n",
      "NFLX Success!\n",
      " \n",
      " \n",
      "Analyzing NWL\n"
     ]
    },
    {
     "name": "stderr",
     "output_type": "stream",
     "text": [
      "<ipython-input-452-1cd440387d10>:47: SettingWithCopyWarning: \n",
      "A value is trying to be set on a copy of a slice from a DataFrame.\n",
      "Try using .loc[row_indexer,col_indexer] = value instead\n",
      "\n",
      "See the caveats in the documentation: https://pandas.pydata.org/pandas-docs/stable/user_guide/indexing.html#returning-a-view-versus-a-copy\n",
      "  data_sub['t_minus1_high'] = data_sub['high'].shift(1)\n",
      "<ipython-input-452-1cd440387d10>:48: SettingWithCopyWarning: \n",
      "A value is trying to be set on a copy of a slice from a DataFrame.\n",
      "Try using .loc[row_indexer,col_indexer] = value instead\n",
      "\n",
      "See the caveats in the documentation: https://pandas.pydata.org/pandas-docs/stable/user_guide/indexing.html#returning-a-view-versus-a-copy\n",
      "  data_sub['t_minus1_low'] = data_sub['low'].shift(1)\n"
     ]
    },
    {
     "name": "stdout",
     "output_type": "stream",
     "text": [
      "[*********************100%***********************]  1 of 1 completed\n",
      "NWL testing r2_score: 0.9358864930930892\n",
      "NWL testing MSE score: 0.23270348391321027\n",
      "NWL : tomorrow's price: [22.44533247]\n",
      "NWL Success!\n",
      " \n",
      " \n",
      "Analyzing NEM\n"
     ]
    },
    {
     "name": "stderr",
     "output_type": "stream",
     "text": [
      "<ipython-input-452-1cd440387d10>:47: SettingWithCopyWarning: \n",
      "A value is trying to be set on a copy of a slice from a DataFrame.\n",
      "Try using .loc[row_indexer,col_indexer] = value instead\n",
      "\n",
      "See the caveats in the documentation: https://pandas.pydata.org/pandas-docs/stable/user_guide/indexing.html#returning-a-view-versus-a-copy\n",
      "  data_sub['t_minus1_high'] = data_sub['high'].shift(1)\n",
      "<ipython-input-452-1cd440387d10>:48: SettingWithCopyWarning: \n",
      "A value is trying to be set on a copy of a slice from a DataFrame.\n",
      "Try using .loc[row_indexer,col_indexer] = value instead\n",
      "\n",
      "See the caveats in the documentation: https://pandas.pydata.org/pandas-docs/stable/user_guide/indexing.html#returning-a-view-versus-a-copy\n",
      "  data_sub['t_minus1_low'] = data_sub['low'].shift(1)\n"
     ]
    },
    {
     "name": "stdout",
     "output_type": "stream",
     "text": [
      "[*********************100%***********************]  1 of 1 completed\n",
      "NEM testing r2_score: 0.9719863529526998\n",
      "NEM testing MSE score: 1.0273681631547256\n",
      "NEM : tomorrow's price: [53.50084549]\n",
      "NEM Success!\n",
      " \n",
      " \n",
      "Analyzing NWSA\n"
     ]
    },
    {
     "name": "stderr",
     "output_type": "stream",
     "text": [
      "<ipython-input-452-1cd440387d10>:47: SettingWithCopyWarning: \n",
      "A value is trying to be set on a copy of a slice from a DataFrame.\n",
      "Try using .loc[row_indexer,col_indexer] = value instead\n",
      "\n",
      "See the caveats in the documentation: https://pandas.pydata.org/pandas-docs/stable/user_guide/indexing.html#returning-a-view-versus-a-copy\n",
      "  data_sub['t_minus1_high'] = data_sub['high'].shift(1)\n",
      "<ipython-input-452-1cd440387d10>:48: SettingWithCopyWarning: \n",
      "A value is trying to be set on a copy of a slice from a DataFrame.\n",
      "Try using .loc[row_indexer,col_indexer] = value instead\n",
      "\n",
      "See the caveats in the documentation: https://pandas.pydata.org/pandas-docs/stable/user_guide/indexing.html#returning-a-view-versus-a-copy\n",
      "  data_sub['t_minus1_low'] = data_sub['low'].shift(1)\n"
     ]
    },
    {
     "name": "stdout",
     "output_type": "stream",
     "text": [
      "[*********************100%***********************]  1 of 1 completed\n",
      "NWSA testing r2_score: 0.9316334359251083\n",
      "NWSA testing MSE score: 0.1723408177228194\n",
      "NWSA : tomorrow's price: [23.70744376]\n",
      "NWSA Success!\n",
      " \n",
      " \n",
      "Analyzing NWS\n"
     ]
    },
    {
     "name": "stderr",
     "output_type": "stream",
     "text": [
      "<ipython-input-452-1cd440387d10>:47: SettingWithCopyWarning: \n",
      "A value is trying to be set on a copy of a slice from a DataFrame.\n",
      "Try using .loc[row_indexer,col_indexer] = value instead\n",
      "\n",
      "See the caveats in the documentation: https://pandas.pydata.org/pandas-docs/stable/user_guide/indexing.html#returning-a-view-versus-a-copy\n",
      "  data_sub['t_minus1_high'] = data_sub['high'].shift(1)\n",
      "<ipython-input-452-1cd440387d10>:48: SettingWithCopyWarning: \n",
      "A value is trying to be set on a copy of a slice from a DataFrame.\n",
      "Try using .loc[row_indexer,col_indexer] = value instead\n",
      "\n",
      "See the caveats in the documentation: https://pandas.pydata.org/pandas-docs/stable/user_guide/indexing.html#returning-a-view-versus-a-copy\n",
      "  data_sub['t_minus1_low'] = data_sub['low'].shift(1)\n"
     ]
    },
    {
     "name": "stdout",
     "output_type": "stream",
     "text": [
      "[*********************100%***********************]  1 of 1 completed\n",
      "NWS testing r2_score: 0.8836744815821674\n",
      "NWS testing MSE score: 0.16543477409606844\n",
      "NWS : tomorrow's price: [23.54070297]\n",
      "NWS Success!\n",
      " \n",
      " \n",
      "Analyzing NEE\n"
     ]
    },
    {
     "name": "stderr",
     "output_type": "stream",
     "text": [
      "<ipython-input-452-1cd440387d10>:47: SettingWithCopyWarning: \n",
      "A value is trying to be set on a copy of a slice from a DataFrame.\n",
      "Try using .loc[row_indexer,col_indexer] = value instead\n",
      "\n",
      "See the caveats in the documentation: https://pandas.pydata.org/pandas-docs/stable/user_guide/indexing.html#returning-a-view-versus-a-copy\n",
      "  data_sub['t_minus1_high'] = data_sub['high'].shift(1)\n",
      "<ipython-input-452-1cd440387d10>:48: SettingWithCopyWarning: \n",
      "A value is trying to be set on a copy of a slice from a DataFrame.\n",
      "Try using .loc[row_indexer,col_indexer] = value instead\n",
      "\n",
      "See the caveats in the documentation: https://pandas.pydata.org/pandas-docs/stable/user_guide/indexing.html#returning-a-view-versus-a-copy\n",
      "  data_sub['t_minus1_low'] = data_sub['low'].shift(1)\n"
     ]
    },
    {
     "name": "stdout",
     "output_type": "stream",
     "text": [
      "[*********************100%***********************]  1 of 1 completed\n",
      "NEE testing r2_score: 0.9580778600693366\n",
      "NEE testing MSE score: 0.814730258059696\n",
      "NEE : tomorrow's price: [79.06379106]\n",
      "NEE Success!\n",
      " \n",
      " \n",
      "Analyzing NLSN\n"
     ]
    },
    {
     "name": "stderr",
     "output_type": "stream",
     "text": [
      "<ipython-input-452-1cd440387d10>:47: SettingWithCopyWarning: \n",
      "A value is trying to be set on a copy of a slice from a DataFrame.\n",
      "Try using .loc[row_indexer,col_indexer] = value instead\n",
      "\n",
      "See the caveats in the documentation: https://pandas.pydata.org/pandas-docs/stable/user_guide/indexing.html#returning-a-view-versus-a-copy\n",
      "  data_sub['t_minus1_high'] = data_sub['high'].shift(1)\n",
      "<ipython-input-452-1cd440387d10>:48: SettingWithCopyWarning: \n",
      "A value is trying to be set on a copy of a slice from a DataFrame.\n",
      "Try using .loc[row_indexer,col_indexer] = value instead\n",
      "\n",
      "See the caveats in the documentation: https://pandas.pydata.org/pandas-docs/stable/user_guide/indexing.html#returning-a-view-versus-a-copy\n",
      "  data_sub['t_minus1_low'] = data_sub['low'].shift(1)\n"
     ]
    },
    {
     "name": "stdout",
     "output_type": "stream",
     "text": [
      "[*********************100%***********************]  1 of 1 completed\n",
      "NLSN testing r2_score: 0.9827273498903446\n",
      "NLSN testing MSE score: 0.12928298763805526\n",
      "NLSN : tomorrow's price: [19.45362878]\n",
      "NLSN Success!\n",
      " \n",
      " \n",
      "Analyzing NKE\n"
     ]
    },
    {
     "name": "stderr",
     "output_type": "stream",
     "text": [
      "<ipython-input-452-1cd440387d10>:47: SettingWithCopyWarning: \n",
      "A value is trying to be set on a copy of a slice from a DataFrame.\n",
      "Try using .loc[row_indexer,col_indexer] = value instead\n",
      "\n",
      "See the caveats in the documentation: https://pandas.pydata.org/pandas-docs/stable/user_guide/indexing.html#returning-a-view-versus-a-copy\n",
      "  data_sub['t_minus1_high'] = data_sub['high'].shift(1)\n",
      "<ipython-input-452-1cd440387d10>:48: SettingWithCopyWarning: \n",
      "A value is trying to be set on a copy of a slice from a DataFrame.\n",
      "Try using .loc[row_indexer,col_indexer] = value instead\n",
      "\n",
      "See the caveats in the documentation: https://pandas.pydata.org/pandas-docs/stable/user_guide/indexing.html#returning-a-view-versus-a-copy\n",
      "  data_sub['t_minus1_low'] = data_sub['low'].shift(1)\n"
     ]
    },
    {
     "name": "stdout",
     "output_type": "stream",
     "text": [
      "[*********************100%***********************]  1 of 1 completed\n",
      "NKE testing r2_score: 0.9657578286222861\n",
      "NKE testing MSE score: 7.238183841149952\n",
      "NKE : tomorrow's price: [146.94148726]\n",
      "NKE Success!\n",
      " \n",
      " \n",
      "Analyzing NI\n"
     ]
    },
    {
     "name": "stderr",
     "output_type": "stream",
     "text": [
      "<ipython-input-452-1cd440387d10>:47: SettingWithCopyWarning: \n",
      "A value is trying to be set on a copy of a slice from a DataFrame.\n",
      "Try using .loc[row_indexer,col_indexer] = value instead\n",
      "\n",
      "See the caveats in the documentation: https://pandas.pydata.org/pandas-docs/stable/user_guide/indexing.html#returning-a-view-versus-a-copy\n",
      "  data_sub['t_minus1_high'] = data_sub['high'].shift(1)\n",
      "<ipython-input-452-1cd440387d10>:48: SettingWithCopyWarning: \n",
      "A value is trying to be set on a copy of a slice from a DataFrame.\n",
      "Try using .loc[row_indexer,col_indexer] = value instead\n",
      "\n",
      "See the caveats in the documentation: https://pandas.pydata.org/pandas-docs/stable/user_guide/indexing.html#returning-a-view-versus-a-copy\n",
      "  data_sub['t_minus1_low'] = data_sub['low'].shift(1)\n"
     ]
    },
    {
     "name": "stdout",
     "output_type": "stream",
     "text": [
      "[*********************100%***********************]  1 of 1 completed\n",
      "NI testing r2_score: 0.7785945003228795\n",
      "NI testing MSE score: 0.07073567693066775\n",
      "NI : tomorrow's price: [24.25716766]\n",
      "NI Success!\n",
      " \n",
      " \n",
      "Analyzing NSC\n"
     ]
    },
    {
     "name": "stderr",
     "output_type": "stream",
     "text": [
      "<ipython-input-452-1cd440387d10>:47: SettingWithCopyWarning: \n",
      "A value is trying to be set on a copy of a slice from a DataFrame.\n",
      "Try using .loc[row_indexer,col_indexer] = value instead\n",
      "\n",
      "See the caveats in the documentation: https://pandas.pydata.org/pandas-docs/stable/user_guide/indexing.html#returning-a-view-versus-a-copy\n",
      "  data_sub['t_minus1_high'] = data_sub['high'].shift(1)\n",
      "<ipython-input-452-1cd440387d10>:48: SettingWithCopyWarning: \n",
      "A value is trying to be set on a copy of a slice from a DataFrame.\n",
      "Try using .loc[row_indexer,col_indexer] = value instead\n",
      "\n",
      "See the caveats in the documentation: https://pandas.pydata.org/pandas-docs/stable/user_guide/indexing.html#returning-a-view-versus-a-copy\n",
      "  data_sub['t_minus1_low'] = data_sub['low'].shift(1)\n"
     ]
    },
    {
     "name": "stdout",
     "output_type": "stream",
     "text": [
      "[*********************100%***********************]  1 of 1 completed\n",
      "NSC testing r2_score: 0.9172042505086887\n",
      "NSC testing MSE score: 13.697545553256305\n",
      "NSC : tomorrow's price: [242.67307719]\n",
      "NSC Success!\n",
      " \n",
      " \n",
      "Analyzing NTRS\n"
     ]
    },
    {
     "name": "stderr",
     "output_type": "stream",
     "text": [
      "<ipython-input-452-1cd440387d10>:47: SettingWithCopyWarning: \n",
      "A value is trying to be set on a copy of a slice from a DataFrame.\n",
      "Try using .loc[row_indexer,col_indexer] = value instead\n",
      "\n",
      "See the caveats in the documentation: https://pandas.pydata.org/pandas-docs/stable/user_guide/indexing.html#returning-a-view-versus-a-copy\n",
      "  data_sub['t_minus1_high'] = data_sub['high'].shift(1)\n",
      "<ipython-input-452-1cd440387d10>:48: SettingWithCopyWarning: \n",
      "A value is trying to be set on a copy of a slice from a DataFrame.\n",
      "Try using .loc[row_indexer,col_indexer] = value instead\n",
      "\n",
      "See the caveats in the documentation: https://pandas.pydata.org/pandas-docs/stable/user_guide/indexing.html#returning-a-view-versus-a-copy\n",
      "  data_sub['t_minus1_low'] = data_sub['low'].shift(1)\n"
     ]
    },
    {
     "name": "stdout",
     "output_type": "stream",
     "text": [
      "[*********************100%***********************]  1 of 1 completed\n",
      "NTRS testing r2_score: 0.7400887964430904\n",
      "NTRS testing MSE score: 3.6997613383083996\n",
      "NTRS : tomorrow's price: [108.52923839]\n",
      "NTRS Success!\n",
      " \n",
      " \n",
      "Analyzing NOC\n"
     ]
    },
    {
     "name": "stderr",
     "output_type": "stream",
     "text": [
      "<ipython-input-452-1cd440387d10>:47: SettingWithCopyWarning: \n",
      "A value is trying to be set on a copy of a slice from a DataFrame.\n",
      "Try using .loc[row_indexer,col_indexer] = value instead\n",
      "\n",
      "See the caveats in the documentation: https://pandas.pydata.org/pandas-docs/stable/user_guide/indexing.html#returning-a-view-versus-a-copy\n",
      "  data_sub['t_minus1_high'] = data_sub['high'].shift(1)\n",
      "<ipython-input-452-1cd440387d10>:48: SettingWithCopyWarning: \n",
      "A value is trying to be set on a copy of a slice from a DataFrame.\n",
      "Try using .loc[row_indexer,col_indexer] = value instead\n",
      "\n",
      "See the caveats in the documentation: https://pandas.pydata.org/pandas-docs/stable/user_guide/indexing.html#returning-a-view-versus-a-copy\n",
      "  data_sub['t_minus1_low'] = data_sub['low'].shift(1)\n"
     ]
    },
    {
     "name": "stdout",
     "output_type": "stream",
     "text": [
      "[*********************100%***********************]  1 of 1 completed\n",
      "NOC testing r2_score: 0.7593090102004917\n",
      "NOC testing MSE score: 17.533789888692986\n",
      "NOC : tomorrow's price: [360.12679234]\n",
      "NOC Success!\n",
      " \n",
      " \n",
      "Analyzing NLOK\n"
     ]
    },
    {
     "name": "stderr",
     "output_type": "stream",
     "text": [
      "<ipython-input-452-1cd440387d10>:47: SettingWithCopyWarning: \n",
      "A value is trying to be set on a copy of a slice from a DataFrame.\n",
      "Try using .loc[row_indexer,col_indexer] = value instead\n",
      "\n",
      "See the caveats in the documentation: https://pandas.pydata.org/pandas-docs/stable/user_guide/indexing.html#returning-a-view-versus-a-copy\n",
      "  data_sub['t_minus1_high'] = data_sub['high'].shift(1)\n",
      "<ipython-input-452-1cd440387d10>:48: SettingWithCopyWarning: \n",
      "A value is trying to be set on a copy of a slice from a DataFrame.\n",
      "Try using .loc[row_indexer,col_indexer] = value instead\n",
      "\n",
      "See the caveats in the documentation: https://pandas.pydata.org/pandas-docs/stable/user_guide/indexing.html#returning-a-view-versus-a-copy\n",
      "  data_sub['t_minus1_low'] = data_sub['low'].shift(1)\n"
     ]
    },
    {
     "name": "stdout",
     "output_type": "stream",
     "text": [
      "[*********************100%***********************]  1 of 1 completed\n",
      "NLOK testing r2_score: 0.915328454840105\n",
      "NLOK testing MSE score: 0.244837611562728\n",
      "NLOK : tomorrow's price: [25.48539956]\n",
      "NLOK Success!\n",
      " \n",
      " \n",
      "Analyzing NCLH\n"
     ]
    },
    {
     "name": "stderr",
     "output_type": "stream",
     "text": [
      "<ipython-input-452-1cd440387d10>:47: SettingWithCopyWarning: \n",
      "A value is trying to be set on a copy of a slice from a DataFrame.\n",
      "Try using .loc[row_indexer,col_indexer] = value instead\n",
      "\n",
      "See the caveats in the documentation: https://pandas.pydata.org/pandas-docs/stable/user_guide/indexing.html#returning-a-view-versus-a-copy\n",
      "  data_sub['t_minus1_high'] = data_sub['high'].shift(1)\n",
      "<ipython-input-452-1cd440387d10>:48: SettingWithCopyWarning: \n",
      "A value is trying to be set on a copy of a slice from a DataFrame.\n",
      "Try using .loc[row_indexer,col_indexer] = value instead\n",
      "\n",
      "See the caveats in the documentation: https://pandas.pydata.org/pandas-docs/stable/user_guide/indexing.html#returning-a-view-versus-a-copy\n",
      "  data_sub['t_minus1_low'] = data_sub['low'].shift(1)\n"
     ]
    },
    {
     "name": "stdout",
     "output_type": "stream",
     "text": [
      "[*********************100%***********************]  1 of 1 completed\n",
      "NCLH testing r2_score: 0.9085142135874412\n",
      "NCLH testing MSE score: 0.7299824512240689\n",
      "NCLH : tomorrow's price: [28.54596062]\n",
      "NCLH Success!\n",
      " \n",
      " \n",
      "Analyzing NRG\n"
     ]
    },
    {
     "name": "stderr",
     "output_type": "stream",
     "text": [
      "<ipython-input-452-1cd440387d10>:47: SettingWithCopyWarning: \n",
      "A value is trying to be set on a copy of a slice from a DataFrame.\n",
      "Try using .loc[row_indexer,col_indexer] = value instead\n",
      "\n",
      "See the caveats in the documentation: https://pandas.pydata.org/pandas-docs/stable/user_guide/indexing.html#returning-a-view-versus-a-copy\n",
      "  data_sub['t_minus1_high'] = data_sub['high'].shift(1)\n",
      "<ipython-input-452-1cd440387d10>:48: SettingWithCopyWarning: \n",
      "A value is trying to be set on a copy of a slice from a DataFrame.\n",
      "Try using .loc[row_indexer,col_indexer] = value instead\n",
      "\n",
      "See the caveats in the documentation: https://pandas.pydata.org/pandas-docs/stable/user_guide/indexing.html#returning-a-view-versus-a-copy\n",
      "  data_sub['t_minus1_low'] = data_sub['low'].shift(1)\n"
     ]
    },
    {
     "name": "stdout",
     "output_type": "stream",
     "text": [
      "[*********************100%***********************]  1 of 1 completed\n",
      "NRG testing r2_score: 0.9665419625968108\n",
      "NRG testing MSE score: 0.4776401476341285\n",
      "NRG : tomorrow's price: [40.53079438]\n",
      "NRG Success!\n",
      " \n",
      " \n",
      "Analyzing NUE\n"
     ]
    },
    {
     "name": "stderr",
     "output_type": "stream",
     "text": [
      "<ipython-input-452-1cd440387d10>:47: SettingWithCopyWarning: \n",
      "A value is trying to be set on a copy of a slice from a DataFrame.\n",
      "Try using .loc[row_indexer,col_indexer] = value instead\n",
      "\n",
      "See the caveats in the documentation: https://pandas.pydata.org/pandas-docs/stable/user_guide/indexing.html#returning-a-view-versus-a-copy\n",
      "  data_sub['t_minus1_high'] = data_sub['high'].shift(1)\n",
      "<ipython-input-452-1cd440387d10>:48: SettingWithCopyWarning: \n",
      "A value is trying to be set on a copy of a slice from a DataFrame.\n",
      "Try using .loc[row_indexer,col_indexer] = value instead\n",
      "\n",
      "See the caveats in the documentation: https://pandas.pydata.org/pandas-docs/stable/user_guide/indexing.html#returning-a-view-versus-a-copy\n",
      "  data_sub['t_minus1_low'] = data_sub['low'].shift(1)\n"
     ]
    },
    {
     "name": "stdout",
     "output_type": "stream",
     "text": [
      "[*********************100%***********************]  1 of 1 completed\n",
      "NUE testing r2_score: 0.9067711600602522\n",
      "NUE testing MSE score: 8.091050796960436\n",
      "NUE : tomorrow's price: [98.42686348]\n",
      "NUE Success!\n",
      " \n",
      " \n",
      "Analyzing NVDA\n"
     ]
    },
    {
     "name": "stderr",
     "output_type": "stream",
     "text": [
      "<ipython-input-452-1cd440387d10>:47: SettingWithCopyWarning: \n",
      "A value is trying to be set on a copy of a slice from a DataFrame.\n",
      "Try using .loc[row_indexer,col_indexer] = value instead\n",
      "\n",
      "See the caveats in the documentation: https://pandas.pydata.org/pandas-docs/stable/user_guide/indexing.html#returning-a-view-versus-a-copy\n",
      "  data_sub['t_minus1_high'] = data_sub['high'].shift(1)\n",
      "<ipython-input-452-1cd440387d10>:48: SettingWithCopyWarning: \n",
      "A value is trying to be set on a copy of a slice from a DataFrame.\n",
      "Try using .loc[row_indexer,col_indexer] = value instead\n",
      "\n",
      "See the caveats in the documentation: https://pandas.pydata.org/pandas-docs/stable/user_guide/indexing.html#returning-a-view-versus-a-copy\n",
      "  data_sub['t_minus1_low'] = data_sub['low'].shift(1)\n"
     ]
    },
    {
     "name": "stdout",
     "output_type": "stream",
     "text": [
      "[*********************100%***********************]  1 of 1 completed\n",
      "NVDA testing r2_score: 0.9706276765468059\n",
      "NVDA testing MSE score: 19.37406603750548\n",
      "NVDA : tomorrow's price: [207.74516871]\n",
      "NVDA Success!\n",
      " \n",
      " \n",
      "Analyzing NVR\n"
     ]
    },
    {
     "name": "stderr",
     "output_type": "stream",
     "text": [
      "<ipython-input-452-1cd440387d10>:47: SettingWithCopyWarning: \n",
      "A value is trying to be set on a copy of a slice from a DataFrame.\n",
      "Try using .loc[row_indexer,col_indexer] = value instead\n",
      "\n",
      "See the caveats in the documentation: https://pandas.pydata.org/pandas-docs/stable/user_guide/indexing.html#returning-a-view-versus-a-copy\n",
      "  data_sub['t_minus1_high'] = data_sub['high'].shift(1)\n",
      "<ipython-input-452-1cd440387d10>:48: SettingWithCopyWarning: \n",
      "A value is trying to be set on a copy of a slice from a DataFrame.\n",
      "Try using .loc[row_indexer,col_indexer] = value instead\n",
      "\n",
      "See the caveats in the documentation: https://pandas.pydata.org/pandas-docs/stable/user_guide/indexing.html#returning-a-view-versus-a-copy\n",
      "  data_sub['t_minus1_low'] = data_sub['low'].shift(1)\n"
     ]
    },
    {
     "name": "stdout",
     "output_type": "stream",
     "text": [
      "[*********************100%***********************]  1 of 1 completed\n",
      "NVR testing r2_score: 0.8096087602182299\n",
      "NVR testing MSE score: 5992.522838752161\n",
      "NVR : tomorrow's price: [4805.92732599]\n",
      "NVR Success!\n",
      " \n",
      " \n",
      "Analyzing NXPI\n"
     ]
    },
    {
     "name": "stderr",
     "output_type": "stream",
     "text": [
      "<ipython-input-452-1cd440387d10>:47: SettingWithCopyWarning: \n",
      "A value is trying to be set on a copy of a slice from a DataFrame.\n",
      "Try using .loc[row_indexer,col_indexer] = value instead\n",
      "\n",
      "See the caveats in the documentation: https://pandas.pydata.org/pandas-docs/stable/user_guide/indexing.html#returning-a-view-versus-a-copy\n",
      "  data_sub['t_minus1_high'] = data_sub['high'].shift(1)\n",
      "<ipython-input-452-1cd440387d10>:48: SettingWithCopyWarning: \n",
      "A value is trying to be set on a copy of a slice from a DataFrame.\n",
      "Try using .loc[row_indexer,col_indexer] = value instead\n",
      "\n",
      "See the caveats in the documentation: https://pandas.pydata.org/pandas-docs/stable/user_guide/indexing.html#returning-a-view-versus-a-copy\n",
      "  data_sub['t_minus1_low'] = data_sub['low'].shift(1)\n"
     ]
    },
    {
     "name": "stdout",
     "output_type": "stream",
     "text": [
      "[*********************100%***********************]  1 of 1 completed\n",
      "NXPI testing r2_score: 0.8210296721141707\n",
      "NXPI testing MSE score: 16.44030496911573\n",
      "NXPI : tomorrow's price: [193.83208498]\n",
      "NXPI Success!\n",
      " \n",
      " \n",
      "Analyzing ORLY\n"
     ]
    },
    {
     "name": "stderr",
     "output_type": "stream",
     "text": [
      "<ipython-input-452-1cd440387d10>:47: SettingWithCopyWarning: \n",
      "A value is trying to be set on a copy of a slice from a DataFrame.\n",
      "Try using .loc[row_indexer,col_indexer] = value instead\n",
      "\n",
      "See the caveats in the documentation: https://pandas.pydata.org/pandas-docs/stable/user_guide/indexing.html#returning-a-view-versus-a-copy\n",
      "  data_sub['t_minus1_high'] = data_sub['high'].shift(1)\n",
      "<ipython-input-452-1cd440387d10>:48: SettingWithCopyWarning: \n",
      "A value is trying to be set on a copy of a slice from a DataFrame.\n",
      "Try using .loc[row_indexer,col_indexer] = value instead\n",
      "\n",
      "See the caveats in the documentation: https://pandas.pydata.org/pandas-docs/stable/user_guide/indexing.html#returning-a-view-versus-a-copy\n",
      "  data_sub['t_minus1_low'] = data_sub['low'].shift(1)\n"
     ]
    },
    {
     "name": "stdout",
     "output_type": "stream",
     "text": [
      "[*********************100%***********************]  1 of 1 completed\n",
      "ORLY testing r2_score: 0.9539035365506613\n",
      "ORLY testing MSE score: 41.338009522241755\n",
      "ORLY : tomorrow's price: [603.30953066]\n",
      "ORLY Success!\n",
      " \n",
      " \n",
      "Analyzing OXY\n"
     ]
    },
    {
     "name": "stderr",
     "output_type": "stream",
     "text": [
      "<ipython-input-452-1cd440387d10>:47: SettingWithCopyWarning: \n",
      "A value is trying to be set on a copy of a slice from a DataFrame.\n",
      "Try using .loc[row_indexer,col_indexer] = value instead\n",
      "\n",
      "See the caveats in the documentation: https://pandas.pydata.org/pandas-docs/stable/user_guide/indexing.html#returning-a-view-versus-a-copy\n",
      "  data_sub['t_minus1_high'] = data_sub['high'].shift(1)\n",
      "<ipython-input-452-1cd440387d10>:48: SettingWithCopyWarning: \n",
      "A value is trying to be set on a copy of a slice from a DataFrame.\n",
      "Try using .loc[row_indexer,col_indexer] = value instead\n",
      "\n",
      "See the caveats in the documentation: https://pandas.pydata.org/pandas-docs/stable/user_guide/indexing.html#returning-a-view-versus-a-copy\n",
      "  data_sub['t_minus1_low'] = data_sub['low'].shift(1)\n"
     ]
    },
    {
     "name": "stdout",
     "output_type": "stream",
     "text": [
      "[*********************100%***********************]  1 of 1 completed\n",
      "OXY testing r2_score: 0.872331469244859\n",
      "OXY testing MSE score: 0.9065412050392945\n",
      "OXY : tomorrow's price: [31.11627899]\n",
      "OXY Success!\n",
      " \n",
      " \n",
      "Analyzing ODFL\n"
     ]
    },
    {
     "name": "stderr",
     "output_type": "stream",
     "text": [
      "<ipython-input-452-1cd440387d10>:47: SettingWithCopyWarning: \n",
      "A value is trying to be set on a copy of a slice from a DataFrame.\n",
      "Try using .loc[row_indexer,col_indexer] = value instead\n",
      "\n",
      "See the caveats in the documentation: https://pandas.pydata.org/pandas-docs/stable/user_guide/indexing.html#returning-a-view-versus-a-copy\n",
      "  data_sub['t_minus1_high'] = data_sub['high'].shift(1)\n",
      "<ipython-input-452-1cd440387d10>:48: SettingWithCopyWarning: \n",
      "A value is trying to be set on a copy of a slice from a DataFrame.\n",
      "Try using .loc[row_indexer,col_indexer] = value instead\n",
      "\n",
      "See the caveats in the documentation: https://pandas.pydata.org/pandas-docs/stable/user_guide/indexing.html#returning-a-view-versus-a-copy\n",
      "  data_sub['t_minus1_low'] = data_sub['low'].shift(1)\n"
     ]
    },
    {
     "name": "stdout",
     "output_type": "stream",
     "text": [
      "[*********************100%***********************]  1 of 1 completed\n",
      "ODFL testing r2_score: 0.9498214146891527\n",
      "ODFL testing MSE score: 12.77321495136358\n",
      "ODFL : tomorrow's price: [286.52777478]\n",
      "ODFL Success!\n",
      " \n",
      " \n",
      "Analyzing OMC\n"
     ]
    },
    {
     "name": "stderr",
     "output_type": "stream",
     "text": [
      "<ipython-input-452-1cd440387d10>:47: SettingWithCopyWarning: \n",
      "A value is trying to be set on a copy of a slice from a DataFrame.\n",
      "Try using .loc[row_indexer,col_indexer] = value instead\n",
      "\n",
      "See the caveats in the documentation: https://pandas.pydata.org/pandas-docs/stable/user_guide/indexing.html#returning-a-view-versus-a-copy\n",
      "  data_sub['t_minus1_high'] = data_sub['high'].shift(1)\n",
      "<ipython-input-452-1cd440387d10>:48: SettingWithCopyWarning: \n",
      "A value is trying to be set on a copy of a slice from a DataFrame.\n",
      "Try using .loc[row_indexer,col_indexer] = value instead\n",
      "\n",
      "See the caveats in the documentation: https://pandas.pydata.org/pandas-docs/stable/user_guide/indexing.html#returning-a-view-versus-a-copy\n",
      "  data_sub['t_minus1_low'] = data_sub['low'].shift(1)\n"
     ]
    },
    {
     "name": "stdout",
     "output_type": "stream",
     "text": [
      "[*********************100%***********************]  1 of 1 completed\n",
      "OMC testing r2_score: 0.9402966644562247\n",
      "OMC testing MSE score: 1.1387974489557617\n",
      "OMC : tomorrow's price: [74.10564889]\n",
      "OMC Success!\n",
      " \n",
      " \n",
      "Analyzing OKE\n"
     ]
    },
    {
     "name": "stderr",
     "output_type": "stream",
     "text": [
      "<ipython-input-452-1cd440387d10>:47: SettingWithCopyWarning: \n",
      "A value is trying to be set on a copy of a slice from a DataFrame.\n",
      "Try using .loc[row_indexer,col_indexer] = value instead\n",
      "\n",
      "See the caveats in the documentation: https://pandas.pydata.org/pandas-docs/stable/user_guide/indexing.html#returning-a-view-versus-a-copy\n",
      "  data_sub['t_minus1_high'] = data_sub['high'].shift(1)\n",
      "<ipython-input-452-1cd440387d10>:48: SettingWithCopyWarning: \n",
      "A value is trying to be set on a copy of a slice from a DataFrame.\n",
      "Try using .loc[row_indexer,col_indexer] = value instead\n",
      "\n",
      "See the caveats in the documentation: https://pandas.pydata.org/pandas-docs/stable/user_guide/indexing.html#returning-a-view-versus-a-copy\n",
      "  data_sub['t_minus1_low'] = data_sub['low'].shift(1)\n"
     ]
    },
    {
     "name": "stdout",
     "output_type": "stream",
     "text": [
      "[*********************100%***********************]  1 of 1 completed\n",
      "OKE testing r2_score: 0.85850131880259\n",
      "OKE testing MSE score: 1.1227600569139755\n",
      "OKE : tomorrow's price: [59.37166085]\n",
      "OKE Success!\n",
      " \n",
      " \n",
      "Analyzing ORCL\n"
     ]
    },
    {
     "name": "stderr",
     "output_type": "stream",
     "text": [
      "<ipython-input-452-1cd440387d10>:47: SettingWithCopyWarning: \n",
      "A value is trying to be set on a copy of a slice from a DataFrame.\n",
      "Try using .loc[row_indexer,col_indexer] = value instead\n",
      "\n",
      "See the caveats in the documentation: https://pandas.pydata.org/pandas-docs/stable/user_guide/indexing.html#returning-a-view-versus-a-copy\n",
      "  data_sub['t_minus1_high'] = data_sub['high'].shift(1)\n",
      "<ipython-input-452-1cd440387d10>:48: SettingWithCopyWarning: \n",
      "A value is trying to be set on a copy of a slice from a DataFrame.\n",
      "Try using .loc[row_indexer,col_indexer] = value instead\n",
      "\n",
      "See the caveats in the documentation: https://pandas.pydata.org/pandas-docs/stable/user_guide/indexing.html#returning-a-view-versus-a-copy\n",
      "  data_sub['t_minus1_low'] = data_sub['low'].shift(1)\n"
     ]
    },
    {
     "name": "stdout",
     "output_type": "stream",
     "text": [
      "[*********************100%***********************]  1 of 1 completed\n",
      "ORCL testing r2_score: 0.9419432909273906\n",
      "ORCL testing MSE score: 1.6244772186975918\n",
      "ORCL : tomorrow's price: [89.32796268]\n",
      "ORCL Success!\n",
      " \n",
      " \n",
      "Analyzing PCAR\n"
     ]
    },
    {
     "name": "stderr",
     "output_type": "stream",
     "text": [
      "<ipython-input-452-1cd440387d10>:47: SettingWithCopyWarning: \n",
      "A value is trying to be set on a copy of a slice from a DataFrame.\n",
      "Try using .loc[row_indexer,col_indexer] = value instead\n",
      "\n",
      "See the caveats in the documentation: https://pandas.pydata.org/pandas-docs/stable/user_guide/indexing.html#returning-a-view-versus-a-copy\n",
      "  data_sub['t_minus1_high'] = data_sub['high'].shift(1)\n",
      "<ipython-input-452-1cd440387d10>:48: SettingWithCopyWarning: \n",
      "A value is trying to be set on a copy of a slice from a DataFrame.\n",
      "Try using .loc[row_indexer,col_indexer] = value instead\n",
      "\n",
      "See the caveats in the documentation: https://pandas.pydata.org/pandas-docs/stable/user_guide/indexing.html#returning-a-view-versus-a-copy\n",
      "  data_sub['t_minus1_low'] = data_sub['low'].shift(1)\n"
     ]
    },
    {
     "name": "stdout",
     "output_type": "stream",
     "text": [
      "[*********************100%***********************]  1 of 1 completed\n",
      "PCAR testing r2_score: 0.940789367840721\n",
      "PCAR testing MSE score: 1.342899181151469\n",
      "PCAR : tomorrow's price: [79.42642375]\n",
      "PCAR Success!\n",
      " \n",
      " \n",
      "Analyzing PKG\n"
     ]
    },
    {
     "name": "stderr",
     "output_type": "stream",
     "text": [
      "<ipython-input-452-1cd440387d10>:47: SettingWithCopyWarning: \n",
      "A value is trying to be set on a copy of a slice from a DataFrame.\n",
      "Try using .loc[row_indexer,col_indexer] = value instead\n",
      "\n",
      "See the caveats in the documentation: https://pandas.pydata.org/pandas-docs/stable/user_guide/indexing.html#returning-a-view-versus-a-copy\n",
      "  data_sub['t_minus1_high'] = data_sub['high'].shift(1)\n",
      "<ipython-input-452-1cd440387d10>:48: SettingWithCopyWarning: \n",
      "A value is trying to be set on a copy of a slice from a DataFrame.\n",
      "Try using .loc[row_indexer,col_indexer] = value instead\n",
      "\n",
      "See the caveats in the documentation: https://pandas.pydata.org/pandas-docs/stable/user_guide/indexing.html#returning-a-view-versus-a-copy\n",
      "  data_sub['t_minus1_low'] = data_sub['low'].shift(1)\n"
     ]
    },
    {
     "name": "stdout",
     "output_type": "stream",
     "text": [
      "[*********************100%***********************]  1 of 1 completed\n",
      "PKG testing r2_score: 0.9182184029453827\n",
      "PKG testing MSE score: 3.481290441938148\n",
      "PKG : tomorrow's price: [139.31123066]\n",
      "PKG Success!\n",
      " \n",
      " \n",
      "Analyzing PH\n"
     ]
    },
    {
     "name": "stderr",
     "output_type": "stream",
     "text": [
      "<ipython-input-452-1cd440387d10>:47: SettingWithCopyWarning: \n",
      "A value is trying to be set on a copy of a slice from a DataFrame.\n",
      "Try using .loc[row_indexer,col_indexer] = value instead\n",
      "\n",
      "See the caveats in the documentation: https://pandas.pydata.org/pandas-docs/stable/user_guide/indexing.html#returning-a-view-versus-a-copy\n",
      "  data_sub['t_minus1_high'] = data_sub['high'].shift(1)\n",
      "<ipython-input-452-1cd440387d10>:48: SettingWithCopyWarning: \n",
      "A value is trying to be set on a copy of a slice from a DataFrame.\n",
      "Try using .loc[row_indexer,col_indexer] = value instead\n",
      "\n",
      "See the caveats in the documentation: https://pandas.pydata.org/pandas-docs/stable/user_guide/indexing.html#returning-a-view-versus-a-copy\n",
      "  data_sub['t_minus1_low'] = data_sub['low'].shift(1)\n"
     ]
    },
    {
     "name": "stdout",
     "output_type": "stream",
     "text": [
      "[*********************100%***********************]  1 of 1 completed\n",
      "PH testing r2_score: 0.8128708728356315\n",
      "PH testing MSE score: 18.538800013484444\n",
      "PH : tomorrow's price: [291.23390196]\n",
      "PH Success!\n",
      " \n",
      " \n",
      "Analyzing PAYX\n"
     ]
    },
    {
     "name": "stderr",
     "output_type": "stream",
     "text": [
      "<ipython-input-452-1cd440387d10>:47: SettingWithCopyWarning: \n",
      "A value is trying to be set on a copy of a slice from a DataFrame.\n",
      "Try using .loc[row_indexer,col_indexer] = value instead\n",
      "\n",
      "See the caveats in the documentation: https://pandas.pydata.org/pandas-docs/stable/user_guide/indexing.html#returning-a-view-versus-a-copy\n",
      "  data_sub['t_minus1_high'] = data_sub['high'].shift(1)\n",
      "<ipython-input-452-1cd440387d10>:48: SettingWithCopyWarning: \n",
      "A value is trying to be set on a copy of a slice from a DataFrame.\n",
      "Try using .loc[row_indexer,col_indexer] = value instead\n",
      "\n",
      "See the caveats in the documentation: https://pandas.pydata.org/pandas-docs/stable/user_guide/indexing.html#returning-a-view-versus-a-copy\n",
      "  data_sub['t_minus1_low'] = data_sub['low'].shift(1)\n"
     ]
    },
    {
     "name": "stdout",
     "output_type": "stream",
     "text": [
      "[*********************100%***********************]  1 of 1 completed\n",
      "PAYX testing r2_score: 0.9573547042840514\n",
      "PAYX testing MSE score: 1.5738663048616688\n",
      "PAYX : tomorrow's price: [114.04997321]\n",
      "PAYX Success!\n",
      " \n",
      " \n",
      "Analyzing PAYC\n"
     ]
    },
    {
     "name": "stderr",
     "output_type": "stream",
     "text": [
      "<ipython-input-452-1cd440387d10>:47: SettingWithCopyWarning: \n",
      "A value is trying to be set on a copy of a slice from a DataFrame.\n",
      "Try using .loc[row_indexer,col_indexer] = value instead\n",
      "\n",
      "See the caveats in the documentation: https://pandas.pydata.org/pandas-docs/stable/user_guide/indexing.html#returning-a-view-versus-a-copy\n",
      "  data_sub['t_minus1_high'] = data_sub['high'].shift(1)\n",
      "<ipython-input-452-1cd440387d10>:48: SettingWithCopyWarning: \n",
      "A value is trying to be set on a copy of a slice from a DataFrame.\n",
      "Try using .loc[row_indexer,col_indexer] = value instead\n",
      "\n",
      "See the caveats in the documentation: https://pandas.pydata.org/pandas-docs/stable/user_guide/indexing.html#returning-a-view-versus-a-copy\n",
      "  data_sub['t_minus1_low'] = data_sub['low'].shift(1)\n"
     ]
    },
    {
     "name": "stdout",
     "output_type": "stream",
     "text": [
      "[*********************100%***********************]  1 of 1 completed\n",
      "PAYC testing r2_score: 0.9844654022406343\n",
      "PAYC testing MSE score: 73.56956019314207\n",
      "PAYC : tomorrow's price: [506.44479231]\n",
      "PAYC Success!\n",
      " \n",
      " \n",
      "Analyzing PYPL\n"
     ]
    },
    {
     "name": "stderr",
     "output_type": "stream",
     "text": [
      "<ipython-input-452-1cd440387d10>:47: SettingWithCopyWarning: \n",
      "A value is trying to be set on a copy of a slice from a DataFrame.\n",
      "Try using .loc[row_indexer,col_indexer] = value instead\n",
      "\n",
      "See the caveats in the documentation: https://pandas.pydata.org/pandas-docs/stable/user_guide/indexing.html#returning-a-view-versus-a-copy\n",
      "  data_sub['t_minus1_high'] = data_sub['high'].shift(1)\n",
      "<ipython-input-452-1cd440387d10>:48: SettingWithCopyWarning: \n",
      "A value is trying to be set on a copy of a slice from a DataFrame.\n",
      "Try using .loc[row_indexer,col_indexer] = value instead\n",
      "\n",
      "See the caveats in the documentation: https://pandas.pydata.org/pandas-docs/stable/user_guide/indexing.html#returning-a-view-versus-a-copy\n",
      "  data_sub['t_minus1_low'] = data_sub['low'].shift(1)\n"
     ]
    },
    {
     "name": "stdout",
     "output_type": "stream",
     "text": [
      "[*********************100%***********************]  1 of 1 completed\n",
      "PYPL testing r2_score: 0.9199721528073515\n",
      "PYPL testing MSE score: 22.114094736682176\n",
      "PYPL : tomorrow's price: [264.84136555]\n",
      "PYPL Success!\n",
      " \n",
      " \n",
      "Analyzing PENN\n"
     ]
    },
    {
     "name": "stderr",
     "output_type": "stream",
     "text": [
      "<ipython-input-452-1cd440387d10>:47: SettingWithCopyWarning: \n",
      "A value is trying to be set on a copy of a slice from a DataFrame.\n",
      "Try using .loc[row_indexer,col_indexer] = value instead\n",
      "\n",
      "See the caveats in the documentation: https://pandas.pydata.org/pandas-docs/stable/user_guide/indexing.html#returning-a-view-versus-a-copy\n",
      "  data_sub['t_minus1_high'] = data_sub['high'].shift(1)\n",
      "<ipython-input-452-1cd440387d10>:48: SettingWithCopyWarning: \n",
      "A value is trying to be set on a copy of a slice from a DataFrame.\n",
      "Try using .loc[row_indexer,col_indexer] = value instead\n",
      "\n",
      "See the caveats in the documentation: https://pandas.pydata.org/pandas-docs/stable/user_guide/indexing.html#returning-a-view-versus-a-copy\n",
      "  data_sub['t_minus1_low'] = data_sub['low'].shift(1)\n"
     ]
    },
    {
     "name": "stdout",
     "output_type": "stream",
     "text": [
      "[*********************100%***********************]  1 of 1 completed\n",
      "PENN testing r2_score: 0.8354788052879836\n",
      "PENN testing MSE score: 5.60621326219112\n",
      "PENN : tomorrow's price: [78.87796554]\n",
      "PENN Success!\n",
      " \n",
      " \n",
      "Analyzing PNR\n"
     ]
    },
    {
     "name": "stderr",
     "output_type": "stream",
     "text": [
      "<ipython-input-452-1cd440387d10>:47: SettingWithCopyWarning: \n",
      "A value is trying to be set on a copy of a slice from a DataFrame.\n",
      "Try using .loc[row_indexer,col_indexer] = value instead\n",
      "\n",
      "See the caveats in the documentation: https://pandas.pydata.org/pandas-docs/stable/user_guide/indexing.html#returning-a-view-versus-a-copy\n",
      "  data_sub['t_minus1_high'] = data_sub['high'].shift(1)\n",
      "<ipython-input-452-1cd440387d10>:48: SettingWithCopyWarning: \n",
      "A value is trying to be set on a copy of a slice from a DataFrame.\n",
      "Try using .loc[row_indexer,col_indexer] = value instead\n",
      "\n",
      "See the caveats in the documentation: https://pandas.pydata.org/pandas-docs/stable/user_guide/indexing.html#returning-a-view-versus-a-copy\n",
      "  data_sub['t_minus1_low'] = data_sub['low'].shift(1)\n"
     ]
    },
    {
     "name": "stdout",
     "output_type": "stream",
     "text": [
      "[*********************100%***********************]  1 of 1 completed\n",
      "PNR testing r2_score: 0.9471677415532471\n",
      "PNR testing MSE score: 1.0782385210164558\n",
      "PNR : tomorrow's price: [73.05959292]\n",
      "PNR Success!\n",
      " \n",
      " \n",
      "Analyzing PBCT\n"
     ]
    },
    {
     "name": "stderr",
     "output_type": "stream",
     "text": [
      "<ipython-input-452-1cd440387d10>:47: SettingWithCopyWarning: \n",
      "A value is trying to be set on a copy of a slice from a DataFrame.\n",
      "Try using .loc[row_indexer,col_indexer] = value instead\n",
      "\n",
      "See the caveats in the documentation: https://pandas.pydata.org/pandas-docs/stable/user_guide/indexing.html#returning-a-view-versus-a-copy\n",
      "  data_sub['t_minus1_high'] = data_sub['high'].shift(1)\n",
      "<ipython-input-452-1cd440387d10>:48: SettingWithCopyWarning: \n",
      "A value is trying to be set on a copy of a slice from a DataFrame.\n",
      "Try using .loc[row_indexer,col_indexer] = value instead\n",
      "\n",
      "See the caveats in the documentation: https://pandas.pydata.org/pandas-docs/stable/user_guide/indexing.html#returning-a-view-versus-a-copy\n",
      "  data_sub['t_minus1_low'] = data_sub['low'].shift(1)\n"
     ]
    },
    {
     "name": "stdout",
     "output_type": "stream",
     "text": [
      "[*********************100%***********************]  1 of 1 completed\n",
      "PBCT testing r2_score: 0.9188390733316945\n",
      "PBCT testing MSE score: 0.11435637560105899\n",
      "PBCT : tomorrow's price: [17.79096754]\n",
      "PBCT Success!\n",
      " \n",
      " \n",
      "Analyzing PEP\n"
     ]
    },
    {
     "name": "stderr",
     "output_type": "stream",
     "text": [
      "<ipython-input-452-1cd440387d10>:47: SettingWithCopyWarning: \n",
      "A value is trying to be set on a copy of a slice from a DataFrame.\n",
      "Try using .loc[row_indexer,col_indexer] = value instead\n",
      "\n",
      "See the caveats in the documentation: https://pandas.pydata.org/pandas-docs/stable/user_guide/indexing.html#returning-a-view-versus-a-copy\n",
      "  data_sub['t_minus1_high'] = data_sub['high'].shift(1)\n",
      "<ipython-input-452-1cd440387d10>:48: SettingWithCopyWarning: \n",
      "A value is trying to be set on a copy of a slice from a DataFrame.\n",
      "Try using .loc[row_indexer,col_indexer] = value instead\n",
      "\n",
      "See the caveats in the documentation: https://pandas.pydata.org/pandas-docs/stable/user_guide/indexing.html#returning-a-view-versus-a-copy\n",
      "  data_sub['t_minus1_low'] = data_sub['low'].shift(1)\n"
     ]
    },
    {
     "name": "stdout",
     "output_type": "stream",
     "text": [
      "[*********************100%***********************]  1 of 1 completed\n",
      "PEP testing r2_score: 0.9215364148086708\n",
      "PEP testing MSE score: 1.624597580591212\n",
      "PEP : tomorrow's price: [150.30720044]\n",
      "PEP Success!\n",
      " \n",
      " \n",
      "Analyzing PKI\n"
     ]
    },
    {
     "name": "stderr",
     "output_type": "stream",
     "text": [
      "<ipython-input-452-1cd440387d10>:47: SettingWithCopyWarning: \n",
      "A value is trying to be set on a copy of a slice from a DataFrame.\n",
      "Try using .loc[row_indexer,col_indexer] = value instead\n",
      "\n",
      "See the caveats in the documentation: https://pandas.pydata.org/pandas-docs/stable/user_guide/indexing.html#returning-a-view-versus-a-copy\n",
      "  data_sub['t_minus1_high'] = data_sub['high'].shift(1)\n",
      "<ipython-input-452-1cd440387d10>:48: SettingWithCopyWarning: \n",
      "A value is trying to be set on a copy of a slice from a DataFrame.\n",
      "Try using .loc[row_indexer,col_indexer] = value instead\n",
      "\n",
      "See the caveats in the documentation: https://pandas.pydata.org/pandas-docs/stable/user_guide/indexing.html#returning-a-view-versus-a-copy\n",
      "  data_sub['t_minus1_low'] = data_sub['low'].shift(1)\n"
     ]
    },
    {
     "name": "stdout",
     "output_type": "stream",
     "text": [
      "[*********************100%***********************]  1 of 1 completed\n",
      "PKI testing r2_score: 0.9837890787896217\n",
      "PKI testing MSE score: 5.573882532100649\n",
      "PKI : tomorrow's price: [173.26820572]\n",
      "PKI Success!\n",
      " \n",
      " \n",
      "Analyzing PFE\n"
     ]
    },
    {
     "name": "stderr",
     "output_type": "stream",
     "text": [
      "<ipython-input-452-1cd440387d10>:47: SettingWithCopyWarning: \n",
      "A value is trying to be set on a copy of a slice from a DataFrame.\n",
      "Try using .loc[row_indexer,col_indexer] = value instead\n",
      "\n",
      "See the caveats in the documentation: https://pandas.pydata.org/pandas-docs/stable/user_guide/indexing.html#returning-a-view-versus-a-copy\n",
      "  data_sub['t_minus1_high'] = data_sub['high'].shift(1)\n",
      "<ipython-input-452-1cd440387d10>:48: SettingWithCopyWarning: \n",
      "A value is trying to be set on a copy of a slice from a DataFrame.\n",
      "Try using .loc[row_indexer,col_indexer] = value instead\n",
      "\n",
      "See the caveats in the documentation: https://pandas.pydata.org/pandas-docs/stable/user_guide/indexing.html#returning-a-view-versus-a-copy\n",
      "  data_sub['t_minus1_low'] = data_sub['low'].shift(1)\n"
     ]
    },
    {
     "name": "stdout",
     "output_type": "stream",
     "text": [
      "[*********************100%***********************]  1 of 1 completed\n",
      "PFE testing r2_score: 0.9597515084549016\n",
      "PFE testing MSE score: 0.4209765549748246\n",
      "PFE : tomorrow's price: [42.5220884]\n",
      "PFE Success!\n",
      " \n",
      " \n",
      "Analyzing PM\n"
     ]
    },
    {
     "name": "stderr",
     "output_type": "stream",
     "text": [
      "<ipython-input-452-1cd440387d10>:47: SettingWithCopyWarning: \n",
      "A value is trying to be set on a copy of a slice from a DataFrame.\n",
      "Try using .loc[row_indexer,col_indexer] = value instead\n",
      "\n",
      "See the caveats in the documentation: https://pandas.pydata.org/pandas-docs/stable/user_guide/indexing.html#returning-a-view-versus-a-copy\n",
      "  data_sub['t_minus1_high'] = data_sub['high'].shift(1)\n",
      "<ipython-input-452-1cd440387d10>:48: SettingWithCopyWarning: \n",
      "A value is trying to be set on a copy of a slice from a DataFrame.\n",
      "Try using .loc[row_indexer,col_indexer] = value instead\n",
      "\n",
      "See the caveats in the documentation: https://pandas.pydata.org/pandas-docs/stable/user_guide/indexing.html#returning-a-view-versus-a-copy\n",
      "  data_sub['t_minus1_low'] = data_sub['low'].shift(1)\n"
     ]
    },
    {
     "name": "stdout",
     "output_type": "stream",
     "text": [
      "[*********************100%***********************]  1 of 1 completed\n",
      "PM testing r2_score: 0.7856050960103448\n",
      "PM testing MSE score: 1.3359384062552528\n",
      "PM : tomorrow's price: [95.20794216]\n",
      "PM Success!\n",
      " \n",
      " \n",
      "Analyzing PSX\n"
     ]
    },
    {
     "name": "stderr",
     "output_type": "stream",
     "text": [
      "<ipython-input-452-1cd440387d10>:47: SettingWithCopyWarning: \n",
      "A value is trying to be set on a copy of a slice from a DataFrame.\n",
      "Try using .loc[row_indexer,col_indexer] = value instead\n",
      "\n",
      "See the caveats in the documentation: https://pandas.pydata.org/pandas-docs/stable/user_guide/indexing.html#returning-a-view-versus-a-copy\n",
      "  data_sub['t_minus1_high'] = data_sub['high'].shift(1)\n",
      "<ipython-input-452-1cd440387d10>:48: SettingWithCopyWarning: \n",
      "A value is trying to be set on a copy of a slice from a DataFrame.\n",
      "Try using .loc[row_indexer,col_indexer] = value instead\n",
      "\n",
      "See the caveats in the documentation: https://pandas.pydata.org/pandas-docs/stable/user_guide/indexing.html#returning-a-view-versus-a-copy\n",
      "  data_sub['t_minus1_low'] = data_sub['low'].shift(1)\n"
     ]
    },
    {
     "name": "stdout",
     "output_type": "stream",
     "text": [
      "[*********************100%***********************]  1 of 1 completed\n",
      "PSX testing r2_score: 0.9560456500644099\n",
      "PSX testing MSE score: 2.95981556077879\n",
      "PSX : tomorrow's price: [72.54168993]\n",
      "PSX Success!\n",
      " \n",
      " \n",
      "Analyzing PNW\n"
     ]
    },
    {
     "name": "stderr",
     "output_type": "stream",
     "text": [
      "<ipython-input-452-1cd440387d10>:47: SettingWithCopyWarning: \n",
      "A value is trying to be set on a copy of a slice from a DataFrame.\n",
      "Try using .loc[row_indexer,col_indexer] = value instead\n",
      "\n",
      "See the caveats in the documentation: https://pandas.pydata.org/pandas-docs/stable/user_guide/indexing.html#returning-a-view-versus-a-copy\n",
      "  data_sub['t_minus1_high'] = data_sub['high'].shift(1)\n",
      "<ipython-input-452-1cd440387d10>:48: SettingWithCopyWarning: \n",
      "A value is trying to be set on a copy of a slice from a DataFrame.\n",
      "Try using .loc[row_indexer,col_indexer] = value instead\n",
      "\n",
      "See the caveats in the documentation: https://pandas.pydata.org/pandas-docs/stable/user_guide/indexing.html#returning-a-view-versus-a-copy\n",
      "  data_sub['t_minus1_low'] = data_sub['low'].shift(1)\n"
     ]
    },
    {
     "name": "stdout",
     "output_type": "stream",
     "text": [
      "[*********************100%***********************]  1 of 1 completed\n",
      "PNW testing r2_score: 0.9490984936427551\n",
      "PNW testing MSE score: 1.5776945169273662\n",
      "PNW : tomorrow's price: [72.44761509]\n",
      "PNW Success!\n",
      " \n",
      " \n",
      "Analyzing PXD\n"
     ]
    },
    {
     "name": "stderr",
     "output_type": "stream",
     "text": [
      "<ipython-input-452-1cd440387d10>:47: SettingWithCopyWarning: \n",
      "A value is trying to be set on a copy of a slice from a DataFrame.\n",
      "Try using .loc[row_indexer,col_indexer] = value instead\n",
      "\n",
      "See the caveats in the documentation: https://pandas.pydata.org/pandas-docs/stable/user_guide/indexing.html#returning-a-view-versus-a-copy\n",
      "  data_sub['t_minus1_high'] = data_sub['high'].shift(1)\n",
      "<ipython-input-452-1cd440387d10>:48: SettingWithCopyWarning: \n",
      "A value is trying to be set on a copy of a slice from a DataFrame.\n",
      "Try using .loc[row_indexer,col_indexer] = value instead\n",
      "\n",
      "See the caveats in the documentation: https://pandas.pydata.org/pandas-docs/stable/user_guide/indexing.html#returning-a-view-versus-a-copy\n",
      "  data_sub['t_minus1_low'] = data_sub['low'].shift(1)\n"
     ]
    },
    {
     "name": "stdout",
     "output_type": "stream",
     "text": [
      "[*********************100%***********************]  1 of 1 completed\n",
      "PXD testing r2_score: 0.9016110318835809\n",
      "PXD testing MSE score: 13.95654815295522\n",
      "PXD : tomorrow's price: [173.99364501]\n",
      "PXD Success!\n",
      " \n",
      " \n",
      "Analyzing PNC\n"
     ]
    },
    {
     "name": "stderr",
     "output_type": "stream",
     "text": [
      "<ipython-input-452-1cd440387d10>:47: SettingWithCopyWarning: \n",
      "A value is trying to be set on a copy of a slice from a DataFrame.\n",
      "Try using .loc[row_indexer,col_indexer] = value instead\n",
      "\n",
      "See the caveats in the documentation: https://pandas.pydata.org/pandas-docs/stable/user_guide/indexing.html#returning-a-view-versus-a-copy\n",
      "  data_sub['t_minus1_high'] = data_sub['high'].shift(1)\n",
      "<ipython-input-452-1cd440387d10>:48: SettingWithCopyWarning: \n",
      "A value is trying to be set on a copy of a slice from a DataFrame.\n",
      "Try using .loc[row_indexer,col_indexer] = value instead\n",
      "\n",
      "See the caveats in the documentation: https://pandas.pydata.org/pandas-docs/stable/user_guide/indexing.html#returning-a-view-versus-a-copy\n",
      "  data_sub['t_minus1_low'] = data_sub['low'].shift(1)\n"
     ]
    },
    {
     "name": "stdout",
     "output_type": "stream",
     "text": [
      "[*********************100%***********************]  1 of 1 completed\n",
      "PNC testing r2_score: 0.7093175601161463\n",
      "PNC testing MSE score: 8.642620528301453\n",
      "PNC : tomorrow's price: [197.74544908]\n",
      "PNC Success!\n",
      " \n",
      " \n",
      "Analyzing POOL\n"
     ]
    },
    {
     "name": "stderr",
     "output_type": "stream",
     "text": [
      "<ipython-input-452-1cd440387d10>:47: SettingWithCopyWarning: \n",
      "A value is trying to be set on a copy of a slice from a DataFrame.\n",
      "Try using .loc[row_indexer,col_indexer] = value instead\n",
      "\n",
      "See the caveats in the documentation: https://pandas.pydata.org/pandas-docs/stable/user_guide/indexing.html#returning-a-view-versus-a-copy\n",
      "  data_sub['t_minus1_high'] = data_sub['high'].shift(1)\n",
      "<ipython-input-452-1cd440387d10>:48: SettingWithCopyWarning: \n",
      "A value is trying to be set on a copy of a slice from a DataFrame.\n",
      "Try using .loc[row_indexer,col_indexer] = value instead\n",
      "\n",
      "See the caveats in the documentation: https://pandas.pydata.org/pandas-docs/stable/user_guide/indexing.html#returning-a-view-versus-a-copy\n",
      "  data_sub['t_minus1_low'] = data_sub['low'].shift(1)\n"
     ]
    },
    {
     "name": "stdout",
     "output_type": "stream",
     "text": [
      "[*********************100%***********************]  1 of 1 completed\n",
      "POOL testing r2_score: 0.9184022096910143\n",
      "POOL testing MSE score: 37.50578439924329\n",
      "POOL : tomorrow's price: [438.92624281]\n",
      "POOL Success!\n",
      " \n",
      " \n",
      "Analyzing PPG\n"
     ]
    },
    {
     "name": "stderr",
     "output_type": "stream",
     "text": [
      "<ipython-input-452-1cd440387d10>:47: SettingWithCopyWarning: \n",
      "A value is trying to be set on a copy of a slice from a DataFrame.\n",
      "Try using .loc[row_indexer,col_indexer] = value instead\n",
      "\n",
      "See the caveats in the documentation: https://pandas.pydata.org/pandas-docs/stable/user_guide/indexing.html#returning-a-view-versus-a-copy\n",
      "  data_sub['t_minus1_high'] = data_sub['high'].shift(1)\n",
      "<ipython-input-452-1cd440387d10>:48: SettingWithCopyWarning: \n",
      "A value is trying to be set on a copy of a slice from a DataFrame.\n",
      "Try using .loc[row_indexer,col_indexer] = value instead\n",
      "\n",
      "See the caveats in the documentation: https://pandas.pydata.org/pandas-docs/stable/user_guide/indexing.html#returning-a-view-versus-a-copy\n",
      "  data_sub['t_minus1_low'] = data_sub['low'].shift(1)\n"
     ]
    },
    {
     "name": "stdout",
     "output_type": "stream",
     "text": [
      "[*********************100%***********************]  1 of 1 completed\n",
      "PPG testing r2_score: 0.9648800322495449\n",
      "PPG testing MSE score: 4.330032036855232\n",
      "PPG : tomorrow's price: [144.0162395]\n",
      "PPG Success!\n",
      " \n",
      " \n",
      "Analyzing PPL\n"
     ]
    },
    {
     "name": "stderr",
     "output_type": "stream",
     "text": [
      "<ipython-input-452-1cd440387d10>:47: SettingWithCopyWarning: \n",
      "A value is trying to be set on a copy of a slice from a DataFrame.\n",
      "Try using .loc[row_indexer,col_indexer] = value instead\n",
      "\n",
      "See the caveats in the documentation: https://pandas.pydata.org/pandas-docs/stable/user_guide/indexing.html#returning-a-view-versus-a-copy\n",
      "  data_sub['t_minus1_high'] = data_sub['high'].shift(1)\n",
      "<ipython-input-452-1cd440387d10>:48: SettingWithCopyWarning: \n",
      "A value is trying to be set on a copy of a slice from a DataFrame.\n",
      "Try using .loc[row_indexer,col_indexer] = value instead\n",
      "\n",
      "See the caveats in the documentation: https://pandas.pydata.org/pandas-docs/stable/user_guide/indexing.html#returning-a-view-versus-a-copy\n",
      "  data_sub['t_minus1_low'] = data_sub['low'].shift(1)\n"
     ]
    },
    {
     "name": "stdout",
     "output_type": "stream",
     "text": [
      "[*********************100%***********************]  1 of 1 completed\n",
      "PPL testing r2_score: 0.7365379971725557\n",
      "PPL testing MSE score: 0.09008143640812581\n",
      "PPL : tomorrow's price: [27.97732942]\n",
      "PPL Success!\n",
      " \n",
      " \n",
      "Analyzing PFG\n"
     ]
    },
    {
     "name": "stderr",
     "output_type": "stream",
     "text": [
      "<ipython-input-452-1cd440387d10>:47: SettingWithCopyWarning: \n",
      "A value is trying to be set on a copy of a slice from a DataFrame.\n",
      "Try using .loc[row_indexer,col_indexer] = value instead\n",
      "\n",
      "See the caveats in the documentation: https://pandas.pydata.org/pandas-docs/stable/user_guide/indexing.html#returning-a-view-versus-a-copy\n",
      "  data_sub['t_minus1_high'] = data_sub['high'].shift(1)\n",
      "<ipython-input-452-1cd440387d10>:48: SettingWithCopyWarning: \n",
      "A value is trying to be set on a copy of a slice from a DataFrame.\n",
      "Try using .loc[row_indexer,col_indexer] = value instead\n",
      "\n",
      "See the caveats in the documentation: https://pandas.pydata.org/pandas-docs/stable/user_guide/indexing.html#returning-a-view-versus-a-copy\n",
      "  data_sub['t_minus1_low'] = data_sub['low'].shift(1)\n"
     ]
    },
    {
     "name": "stdout",
     "output_type": "stream",
     "text": [
      "[*********************100%***********************]  1 of 1 completed\n",
      "PFG testing r2_score: 0.7381153897960343\n",
      "PFG testing MSE score: 1.0789855459954276\n",
      "PFG : tomorrow's price: [65.5734915]\n",
      "PFG Success!\n",
      " \n",
      " \n",
      "Analyzing PG\n"
     ]
    },
    {
     "name": "stderr",
     "output_type": "stream",
     "text": [
      "<ipython-input-452-1cd440387d10>:47: SettingWithCopyWarning: \n",
      "A value is trying to be set on a copy of a slice from a DataFrame.\n",
      "Try using .loc[row_indexer,col_indexer] = value instead\n",
      "\n",
      "See the caveats in the documentation: https://pandas.pydata.org/pandas-docs/stable/user_guide/indexing.html#returning-a-view-versus-a-copy\n",
      "  data_sub['t_minus1_high'] = data_sub['high'].shift(1)\n",
      "<ipython-input-452-1cd440387d10>:48: SettingWithCopyWarning: \n",
      "A value is trying to be set on a copy of a slice from a DataFrame.\n",
      "Try using .loc[row_indexer,col_indexer] = value instead\n",
      "\n",
      "See the caveats in the documentation: https://pandas.pydata.org/pandas-docs/stable/user_guide/indexing.html#returning-a-view-versus-a-copy\n",
      "  data_sub['t_minus1_low'] = data_sub['low'].shift(1)\n"
     ]
    },
    {
     "name": "stdout",
     "output_type": "stream",
     "text": [
      "[*********************100%***********************]  1 of 1 completed\n",
      "PG testing r2_score: 0.9197753419649225\n",
      "PG testing MSE score: 1.2101820966538193\n",
      "PG : tomorrow's price: [139.74193745]\n",
      "PG Success!\n",
      " \n",
      " \n",
      "Analyzing PGR\n"
     ]
    },
    {
     "name": "stderr",
     "output_type": "stream",
     "text": [
      "<ipython-input-452-1cd440387d10>:47: SettingWithCopyWarning: \n",
      "A value is trying to be set on a copy of a slice from a DataFrame.\n",
      "Try using .loc[row_indexer,col_indexer] = value instead\n",
      "\n",
      "See the caveats in the documentation: https://pandas.pydata.org/pandas-docs/stable/user_guide/indexing.html#returning-a-view-versus-a-copy\n",
      "  data_sub['t_minus1_high'] = data_sub['high'].shift(1)\n",
      "<ipython-input-452-1cd440387d10>:48: SettingWithCopyWarning: \n",
      "A value is trying to be set on a copy of a slice from a DataFrame.\n",
      "Try using .loc[row_indexer,col_indexer] = value instead\n",
      "\n",
      "See the caveats in the documentation: https://pandas.pydata.org/pandas-docs/stable/user_guide/indexing.html#returning-a-view-versus-a-copy\n",
      "  data_sub['t_minus1_low'] = data_sub['low'].shift(1)\n"
     ]
    },
    {
     "name": "stdout",
     "output_type": "stream",
     "text": [
      "[*********************100%***********************]  1 of 1 completed\n",
      "PGR testing r2_score: 0.9262726941598131\n",
      "PGR testing MSE score: 1.194742249023449\n",
      "PGR : tomorrow's price: [90.78771634]\n",
      "PGR Success!\n",
      " \n",
      " \n",
      "Analyzing PLD\n"
     ]
    },
    {
     "name": "stderr",
     "output_type": "stream",
     "text": [
      "<ipython-input-452-1cd440387d10>:47: SettingWithCopyWarning: \n",
      "A value is trying to be set on a copy of a slice from a DataFrame.\n",
      "Try using .loc[row_indexer,col_indexer] = value instead\n",
      "\n",
      "See the caveats in the documentation: https://pandas.pydata.org/pandas-docs/stable/user_guide/indexing.html#returning-a-view-versus-a-copy\n",
      "  data_sub['t_minus1_high'] = data_sub['high'].shift(1)\n",
      "<ipython-input-452-1cd440387d10>:48: SettingWithCopyWarning: \n",
      "A value is trying to be set on a copy of a slice from a DataFrame.\n",
      "Try using .loc[row_indexer,col_indexer] = value instead\n",
      "\n",
      "See the caveats in the documentation: https://pandas.pydata.org/pandas-docs/stable/user_guide/indexing.html#returning-a-view-versus-a-copy\n",
      "  data_sub['t_minus1_low'] = data_sub['low'].shift(1)\n"
     ]
    },
    {
     "name": "stdout",
     "output_type": "stream",
     "text": [
      "[*********************100%***********************]  1 of 1 completed\n",
      "PLD testing r2_score: 0.9531965641863688\n",
      "PLD testing MSE score: 1.9492041080613547\n",
      "PLD : tomorrow's price: [125.85872592]\n",
      "PLD Success!\n",
      " \n",
      " \n",
      "Analyzing PRU\n"
     ]
    },
    {
     "name": "stderr",
     "output_type": "stream",
     "text": [
      "<ipython-input-452-1cd440387d10>:47: SettingWithCopyWarning: \n",
      "A value is trying to be set on a copy of a slice from a DataFrame.\n",
      "Try using .loc[row_indexer,col_indexer] = value instead\n",
      "\n",
      "See the caveats in the documentation: https://pandas.pydata.org/pandas-docs/stable/user_guide/indexing.html#returning-a-view-versus-a-copy\n",
      "  data_sub['t_minus1_high'] = data_sub['high'].shift(1)\n",
      "<ipython-input-452-1cd440387d10>:48: SettingWithCopyWarning: \n",
      "A value is trying to be set on a copy of a slice from a DataFrame.\n",
      "Try using .loc[row_indexer,col_indexer] = value instead\n",
      "\n",
      "See the caveats in the documentation: https://pandas.pydata.org/pandas-docs/stable/user_guide/indexing.html#returning-a-view-versus-a-copy\n",
      "  data_sub['t_minus1_low'] = data_sub['low'].shift(1)\n"
     ]
    },
    {
     "name": "stdout",
     "output_type": "stream",
     "text": [
      "[*********************100%***********************]  1 of 1 completed\n",
      "PRU testing r2_score: 0.7193076562150177\n",
      "PRU testing MSE score: 2.723080384674439\n",
      "PRU : tomorrow's price: [106.15398676]\n",
      "PRU Success!\n",
      " \n",
      " \n",
      "Analyzing PTC\n"
     ]
    },
    {
     "name": "stderr",
     "output_type": "stream",
     "text": [
      "<ipython-input-452-1cd440387d10>:47: SettingWithCopyWarning: \n",
      "A value is trying to be set on a copy of a slice from a DataFrame.\n",
      "Try using .loc[row_indexer,col_indexer] = value instead\n",
      "\n",
      "See the caveats in the documentation: https://pandas.pydata.org/pandas-docs/stable/user_guide/indexing.html#returning-a-view-versus-a-copy\n",
      "  data_sub['t_minus1_high'] = data_sub['high'].shift(1)\n",
      "<ipython-input-452-1cd440387d10>:48: SettingWithCopyWarning: \n",
      "A value is trying to be set on a copy of a slice from a DataFrame.\n",
      "Try using .loc[row_indexer,col_indexer] = value instead\n",
      "\n",
      "See the caveats in the documentation: https://pandas.pydata.org/pandas-docs/stable/user_guide/indexing.html#returning-a-view-versus-a-copy\n",
      "  data_sub['t_minus1_low'] = data_sub['low'].shift(1)\n"
     ]
    },
    {
     "name": "stdout",
     "output_type": "stream",
     "text": [
      "[*********************100%***********************]  1 of 1 completed\n",
      "PTC testing r2_score: 0.8802563957735006\n",
      "PTC testing MSE score: 7.068617870951354\n",
      "PTC : tomorrow's price: [120.40937037]\n",
      "PTC Success!\n",
      " \n",
      " \n",
      "Analyzing PEG\n"
     ]
    },
    {
     "name": "stderr",
     "output_type": "stream",
     "text": [
      "<ipython-input-452-1cd440387d10>:47: SettingWithCopyWarning: \n",
      "A value is trying to be set on a copy of a slice from a DataFrame.\n",
      "Try using .loc[row_indexer,col_indexer] = value instead\n",
      "\n",
      "See the caveats in the documentation: https://pandas.pydata.org/pandas-docs/stable/user_guide/indexing.html#returning-a-view-versus-a-copy\n",
      "  data_sub['t_minus1_high'] = data_sub['high'].shift(1)\n",
      "<ipython-input-452-1cd440387d10>:48: SettingWithCopyWarning: \n",
      "A value is trying to be set on a copy of a slice from a DataFrame.\n",
      "Try using .loc[row_indexer,col_indexer] = value instead\n",
      "\n",
      "See the caveats in the documentation: https://pandas.pydata.org/pandas-docs/stable/user_guide/indexing.html#returning-a-view-versus-a-copy\n",
      "  data_sub['t_minus1_low'] = data_sub['low'].shift(1)\n"
     ]
    },
    {
     "name": "stdout",
     "output_type": "stream",
     "text": [
      "[*********************100%***********************]  1 of 1 completed\n",
      "PEG testing r2_score: 0.7803201647966181\n",
      "PEG testing MSE score: 0.5052499617954256\n",
      "PEG : tomorrow's price: [60.51530697]\n",
      "PEG Success!\n",
      " \n",
      " \n",
      "Analyzing PSA\n"
     ]
    },
    {
     "name": "stderr",
     "output_type": "stream",
     "text": [
      "<ipython-input-452-1cd440387d10>:47: SettingWithCopyWarning: \n",
      "A value is trying to be set on a copy of a slice from a DataFrame.\n",
      "Try using .loc[row_indexer,col_indexer] = value instead\n",
      "\n",
      "See the caveats in the documentation: https://pandas.pydata.org/pandas-docs/stable/user_guide/indexing.html#returning-a-view-versus-a-copy\n",
      "  data_sub['t_minus1_high'] = data_sub['high'].shift(1)\n",
      "<ipython-input-452-1cd440387d10>:48: SettingWithCopyWarning: \n",
      "A value is trying to be set on a copy of a slice from a DataFrame.\n",
      "Try using .loc[row_indexer,col_indexer] = value instead\n",
      "\n",
      "See the caveats in the documentation: https://pandas.pydata.org/pandas-docs/stable/user_guide/indexing.html#returning-a-view-versus-a-copy\n",
      "  data_sub['t_minus1_low'] = data_sub['low'].shift(1)\n"
     ]
    },
    {
     "name": "stdout",
     "output_type": "stream",
     "text": [
      "[*********************100%***********************]  1 of 1 completed\n",
      "PSA testing r2_score: 0.9584428082398053\n",
      "PSA testing MSE score: 10.182278179926243\n",
      "PSA : tomorrow's price: [296.63906183]\n",
      "PSA Success!\n",
      " \n",
      " \n",
      "Analyzing PHM\n"
     ]
    },
    {
     "name": "stderr",
     "output_type": "stream",
     "text": [
      "<ipython-input-452-1cd440387d10>:47: SettingWithCopyWarning: \n",
      "A value is trying to be set on a copy of a slice from a DataFrame.\n",
      "Try using .loc[row_indexer,col_indexer] = value instead\n",
      "\n",
      "See the caveats in the documentation: https://pandas.pydata.org/pandas-docs/stable/user_guide/indexing.html#returning-a-view-versus-a-copy\n",
      "  data_sub['t_minus1_high'] = data_sub['high'].shift(1)\n",
      "<ipython-input-452-1cd440387d10>:48: SettingWithCopyWarning: \n",
      "A value is trying to be set on a copy of a slice from a DataFrame.\n",
      "Try using .loc[row_indexer,col_indexer] = value instead\n",
      "\n",
      "See the caveats in the documentation: https://pandas.pydata.org/pandas-docs/stable/user_guide/indexing.html#returning-a-view-versus-a-copy\n",
      "  data_sub['t_minus1_low'] = data_sub['low'].shift(1)\n"
     ]
    },
    {
     "name": "stdout",
     "output_type": "stream",
     "text": [
      "[*********************100%***********************]  1 of 1 completed\n",
      "PHM testing r2_score: 0.9192335048295827\n",
      "PHM testing MSE score: 1.1922776998502378\n",
      "PHM : tomorrow's price: [46.05882208]\n",
      "PHM Success!\n",
      " \n",
      " \n",
      "Analyzing PVH\n"
     ]
    },
    {
     "name": "stderr",
     "output_type": "stream",
     "text": [
      "<ipython-input-452-1cd440387d10>:47: SettingWithCopyWarning: \n",
      "A value is trying to be set on a copy of a slice from a DataFrame.\n",
      "Try using .loc[row_indexer,col_indexer] = value instead\n",
      "\n",
      "See the caveats in the documentation: https://pandas.pydata.org/pandas-docs/stable/user_guide/indexing.html#returning-a-view-versus-a-copy\n",
      "  data_sub['t_minus1_high'] = data_sub['high'].shift(1)\n",
      "<ipython-input-452-1cd440387d10>:48: SettingWithCopyWarning: \n",
      "A value is trying to be set on a copy of a slice from a DataFrame.\n",
      "Try using .loc[row_indexer,col_indexer] = value instead\n",
      "\n",
      "See the caveats in the documentation: https://pandas.pydata.org/pandas-docs/stable/user_guide/indexing.html#returning-a-view-versus-a-copy\n",
      "  data_sub['t_minus1_low'] = data_sub['low'].shift(1)\n"
     ]
    },
    {
     "name": "stdout",
     "output_type": "stream",
     "text": [
      "[*********************100%***********************]  1 of 1 completed\n",
      "PVH testing r2_score: 0.539691608956448\n",
      "PVH testing MSE score: 10.17724222430299\n",
      "PVH : tomorrow's price: [106.49581261]\n",
      "PVH Success!\n",
      " \n",
      " \n",
      "Analyzing QRVO\n"
     ]
    },
    {
     "name": "stderr",
     "output_type": "stream",
     "text": [
      "<ipython-input-452-1cd440387d10>:47: SettingWithCopyWarning: \n",
      "A value is trying to be set on a copy of a slice from a DataFrame.\n",
      "Try using .loc[row_indexer,col_indexer] = value instead\n",
      "\n",
      "See the caveats in the documentation: https://pandas.pydata.org/pandas-docs/stable/user_guide/indexing.html#returning-a-view-versus-a-copy\n",
      "  data_sub['t_minus1_high'] = data_sub['high'].shift(1)\n",
      "<ipython-input-452-1cd440387d10>:48: SettingWithCopyWarning: \n",
      "A value is trying to be set on a copy of a slice from a DataFrame.\n",
      "Try using .loc[row_indexer,col_indexer] = value instead\n",
      "\n",
      "See the caveats in the documentation: https://pandas.pydata.org/pandas-docs/stable/user_guide/indexing.html#returning-a-view-versus-a-copy\n",
      "  data_sub['t_minus1_low'] = data_sub['low'].shift(1)\n"
     ]
    },
    {
     "name": "stdout",
     "output_type": "stream",
     "text": [
      "[*********************100%***********************]  1 of 1 completed\n",
      "QRVO testing r2_score: 0.8691134760923099\n",
      "QRVO testing MSE score: 10.967204272776206\n",
      "QRVO : tomorrow's price: [168.98403233]\n",
      "QRVO Success!\n",
      " \n",
      " \n",
      "Analyzing QCOM\n"
     ]
    },
    {
     "name": "stderr",
     "output_type": "stream",
     "text": [
      "<ipython-input-452-1cd440387d10>:47: SettingWithCopyWarning: \n",
      "A value is trying to be set on a copy of a slice from a DataFrame.\n",
      "Try using .loc[row_indexer,col_indexer] = value instead\n",
      "\n",
      "See the caveats in the documentation: https://pandas.pydata.org/pandas-docs/stable/user_guide/indexing.html#returning-a-view-versus-a-copy\n",
      "  data_sub['t_minus1_high'] = data_sub['high'].shift(1)\n",
      "<ipython-input-452-1cd440387d10>:48: SettingWithCopyWarning: \n",
      "A value is trying to be set on a copy of a slice from a DataFrame.\n",
      "Try using .loc[row_indexer,col_indexer] = value instead\n",
      "\n",
      "See the caveats in the documentation: https://pandas.pydata.org/pandas-docs/stable/user_guide/indexing.html#returning-a-view-versus-a-copy\n",
      "  data_sub['t_minus1_low'] = data_sub['low'].shift(1)\n"
     ]
    },
    {
     "name": "stdout",
     "output_type": "stream",
     "text": [
      "[*********************100%***********************]  1 of 1 completed\n",
      "QCOM testing r2_score: 0.8923382090696244\n",
      "QCOM testing MSE score: 4.760931937835756\n",
      "QCOM : tomorrow's price: [128.32962931]\n",
      "QCOM Success!\n",
      " \n",
      " \n",
      "Analyzing PWR\n"
     ]
    },
    {
     "name": "stderr",
     "output_type": "stream",
     "text": [
      "<ipython-input-452-1cd440387d10>:47: SettingWithCopyWarning: \n",
      "A value is trying to be set on a copy of a slice from a DataFrame.\n",
      "Try using .loc[row_indexer,col_indexer] = value instead\n",
      "\n",
      "See the caveats in the documentation: https://pandas.pydata.org/pandas-docs/stable/user_guide/indexing.html#returning-a-view-versus-a-copy\n",
      "  data_sub['t_minus1_high'] = data_sub['high'].shift(1)\n",
      "<ipython-input-452-1cd440387d10>:48: SettingWithCopyWarning: \n",
      "A value is trying to be set on a copy of a slice from a DataFrame.\n",
      "Try using .loc[row_indexer,col_indexer] = value instead\n",
      "\n",
      "See the caveats in the documentation: https://pandas.pydata.org/pandas-docs/stable/user_guide/indexing.html#returning-a-view-versus-a-copy\n",
      "  data_sub['t_minus1_low'] = data_sub['low'].shift(1)\n"
     ]
    },
    {
     "name": "stdout",
     "output_type": "stream",
     "text": [
      "[*********************100%***********************]  1 of 1 completed\n",
      "PWR testing r2_score: 0.9634295991489614\n",
      "PWR testing MSE score: 3.7795673687940408\n",
      "PWR : tomorrow's price: [117.43469801]\n",
      "PWR Success!\n",
      " \n",
      " \n",
      "Analyzing DGX\n"
     ]
    },
    {
     "name": "stderr",
     "output_type": "stream",
     "text": [
      "<ipython-input-452-1cd440387d10>:47: SettingWithCopyWarning: \n",
      "A value is trying to be set on a copy of a slice from a DataFrame.\n",
      "Try using .loc[row_indexer,col_indexer] = value instead\n",
      "\n",
      "See the caveats in the documentation: https://pandas.pydata.org/pandas-docs/stable/user_guide/indexing.html#returning-a-view-versus-a-copy\n",
      "  data_sub['t_minus1_high'] = data_sub['high'].shift(1)\n",
      "<ipython-input-452-1cd440387d10>:48: SettingWithCopyWarning: \n",
      "A value is trying to be set on a copy of a slice from a DataFrame.\n",
      "Try using .loc[row_indexer,col_indexer] = value instead\n",
      "\n",
      "See the caveats in the documentation: https://pandas.pydata.org/pandas-docs/stable/user_guide/indexing.html#returning-a-view-versus-a-copy\n",
      "  data_sub['t_minus1_low'] = data_sub['low'].shift(1)\n"
     ]
    },
    {
     "name": "stdout",
     "output_type": "stream",
     "text": [
      "[*********************100%***********************]  1 of 1 completed\n",
      "DGX testing r2_score: 0.9732557775483552\n",
      "DGX testing MSE score: 2.3015431808971596\n",
      "DGX : tomorrow's price: [142.85224177]\n",
      "DGX Success!\n",
      " \n",
      " \n",
      "Analyzing RL\n"
     ]
    },
    {
     "name": "stderr",
     "output_type": "stream",
     "text": [
      "<ipython-input-452-1cd440387d10>:47: SettingWithCopyWarning: \n",
      "A value is trying to be set on a copy of a slice from a DataFrame.\n",
      "Try using .loc[row_indexer,col_indexer] = value instead\n",
      "\n",
      "See the caveats in the documentation: https://pandas.pydata.org/pandas-docs/stable/user_guide/indexing.html#returning-a-view-versus-a-copy\n",
      "  data_sub['t_minus1_high'] = data_sub['high'].shift(1)\n",
      "<ipython-input-452-1cd440387d10>:48: SettingWithCopyWarning: \n",
      "A value is trying to be set on a copy of a slice from a DataFrame.\n",
      "Try using .loc[row_indexer,col_indexer] = value instead\n",
      "\n",
      "See the caveats in the documentation: https://pandas.pydata.org/pandas-docs/stable/user_guide/indexing.html#returning-a-view-versus-a-copy\n",
      "  data_sub['t_minus1_low'] = data_sub['low'].shift(1)\n"
     ]
    },
    {
     "name": "stdout",
     "output_type": "stream",
     "text": [
      "[*********************100%***********************]  1 of 1 completed\n",
      "RL testing r2_score: 0.8738309064592527\n",
      "RL testing MSE score: 6.794005292197539\n",
      "RL : tomorrow's price: [114.92899978]\n",
      "RL Success!\n",
      " \n",
      " \n",
      "Analyzing RJF\n"
     ]
    },
    {
     "name": "stderr",
     "output_type": "stream",
     "text": [
      "<ipython-input-452-1cd440387d10>:47: SettingWithCopyWarning: \n",
      "A value is trying to be set on a copy of a slice from a DataFrame.\n",
      "Try using .loc[row_indexer,col_indexer] = value instead\n",
      "\n",
      "See the caveats in the documentation: https://pandas.pydata.org/pandas-docs/stable/user_guide/indexing.html#returning-a-view-versus-a-copy\n",
      "  data_sub['t_minus1_high'] = data_sub['high'].shift(1)\n",
      "<ipython-input-452-1cd440387d10>:48: SettingWithCopyWarning: \n",
      "A value is trying to be set on a copy of a slice from a DataFrame.\n",
      "Try using .loc[row_indexer,col_indexer] = value instead\n",
      "\n",
      "See the caveats in the documentation: https://pandas.pydata.org/pandas-docs/stable/user_guide/indexing.html#returning-a-view-versus-a-copy\n",
      "  data_sub['t_minus1_low'] = data_sub['low'].shift(1)\n"
     ]
    },
    {
     "name": "stdout",
     "output_type": "stream",
     "text": [
      "[*********************100%***********************]  1 of 1 completed\n",
      "RJF testing r2_score: 0.8090810360485148\n",
      "RJF testing MSE score: 1.9721400437167136\n",
      "RJF : tomorrow's price: [94.33763996]\n",
      "RJF Success!\n",
      " \n",
      " \n",
      "Analyzing RTX\n"
     ]
    },
    {
     "name": "stderr",
     "output_type": "stream",
     "text": [
      "<ipython-input-452-1cd440387d10>:47: SettingWithCopyWarning: \n",
      "A value is trying to be set on a copy of a slice from a DataFrame.\n",
      "Try using .loc[row_indexer,col_indexer] = value instead\n",
      "\n",
      "See the caveats in the documentation: https://pandas.pydata.org/pandas-docs/stable/user_guide/indexing.html#returning-a-view-versus-a-copy\n",
      "  data_sub['t_minus1_high'] = data_sub['high'].shift(1)\n",
      "<ipython-input-452-1cd440387d10>:48: SettingWithCopyWarning: \n",
      "A value is trying to be set on a copy of a slice from a DataFrame.\n",
      "Try using .loc[row_indexer,col_indexer] = value instead\n",
      "\n",
      "See the caveats in the documentation: https://pandas.pydata.org/pandas-docs/stable/user_guide/indexing.html#returning-a-view-versus-a-copy\n",
      "  data_sub['t_minus1_low'] = data_sub['low'].shift(1)\n"
     ]
    },
    {
     "name": "stdout",
     "output_type": "stream",
     "text": [
      "[*********************100%***********************]  1 of 1 completed\n",
      "RTX testing r2_score: 0.6988557850143888\n",
      "RTX testing MSE score: 1.2087147991354679\n",
      "RTX : tomorrow's price: [87.11292269]\n",
      "RTX Success!\n",
      " \n",
      " \n",
      "Analyzing O\n"
     ]
    },
    {
     "name": "stderr",
     "output_type": "stream",
     "text": [
      "<ipython-input-452-1cd440387d10>:47: SettingWithCopyWarning: \n",
      "A value is trying to be set on a copy of a slice from a DataFrame.\n",
      "Try using .loc[row_indexer,col_indexer] = value instead\n",
      "\n",
      "See the caveats in the documentation: https://pandas.pydata.org/pandas-docs/stable/user_guide/indexing.html#returning-a-view-versus-a-copy\n",
      "  data_sub['t_minus1_high'] = data_sub['high'].shift(1)\n",
      "<ipython-input-452-1cd440387d10>:48: SettingWithCopyWarning: \n",
      "A value is trying to be set on a copy of a slice from a DataFrame.\n",
      "Try using .loc[row_indexer,col_indexer] = value instead\n",
      "\n",
      "See the caveats in the documentation: https://pandas.pydata.org/pandas-docs/stable/user_guide/indexing.html#returning-a-view-versus-a-copy\n",
      "  data_sub['t_minus1_low'] = data_sub['low'].shift(1)\n"
     ]
    },
    {
     "name": "stdout",
     "output_type": "stream",
     "text": [
      "[*********************100%***********************]  1 of 1 completed\n",
      "O testing r2_score: 0.8504053728970281\n",
      "O testing MSE score: 0.5809691840900099\n",
      "O : tomorrow's price: [65.63799782]\n",
      "O Success!\n",
      " \n",
      " \n",
      "Analyzing REG\n"
     ]
    },
    {
     "name": "stderr",
     "output_type": "stream",
     "text": [
      "<ipython-input-452-1cd440387d10>:47: SettingWithCopyWarning: \n",
      "A value is trying to be set on a copy of a slice from a DataFrame.\n",
      "Try using .loc[row_indexer,col_indexer] = value instead\n",
      "\n",
      "See the caveats in the documentation: https://pandas.pydata.org/pandas-docs/stable/user_guide/indexing.html#returning-a-view-versus-a-copy\n",
      "  data_sub['t_minus1_high'] = data_sub['high'].shift(1)\n",
      "<ipython-input-452-1cd440387d10>:48: SettingWithCopyWarning: \n",
      "A value is trying to be set on a copy of a slice from a DataFrame.\n",
      "Try using .loc[row_indexer,col_indexer] = value instead\n",
      "\n",
      "See the caveats in the documentation: https://pandas.pydata.org/pandas-docs/stable/user_guide/indexing.html#returning-a-view-versus-a-copy\n",
      "  data_sub['t_minus1_low'] = data_sub['low'].shift(1)\n"
     ]
    },
    {
     "name": "stdout",
     "output_type": "stream",
     "text": [
      "[*********************100%***********************]  1 of 1 completed\n",
      "REG testing r2_score: 0.7671150662615627\n",
      "REG testing MSE score: 1.0259388952848094\n",
      "REG : tomorrow's price: [68.79543722]\n",
      "REG Success!\n",
      " \n",
      " \n",
      "Analyzing REGN\n"
     ]
    },
    {
     "name": "stderr",
     "output_type": "stream",
     "text": [
      "<ipython-input-452-1cd440387d10>:47: SettingWithCopyWarning: \n",
      "A value is trying to be set on a copy of a slice from a DataFrame.\n",
      "Try using .loc[row_indexer,col_indexer] = value instead\n",
      "\n",
      "See the caveats in the documentation: https://pandas.pydata.org/pandas-docs/stable/user_guide/indexing.html#returning-a-view-versus-a-copy\n",
      "  data_sub['t_minus1_high'] = data_sub['high'].shift(1)\n",
      "<ipython-input-452-1cd440387d10>:48: SettingWithCopyWarning: \n",
      "A value is trying to be set on a copy of a slice from a DataFrame.\n",
      "Try using .loc[row_indexer,col_indexer] = value instead\n",
      "\n",
      "See the caveats in the documentation: https://pandas.pydata.org/pandas-docs/stable/user_guide/indexing.html#returning-a-view-versus-a-copy\n",
      "  data_sub['t_minus1_low'] = data_sub['low'].shift(1)\n"
     ]
    },
    {
     "name": "stdout",
     "output_type": "stream",
     "text": [
      "[*********************100%***********************]  1 of 1 completed\n",
      "REGN testing r2_score: 0.9772471385542398\n",
      "REGN testing MSE score: 76.83468358781414\n",
      "REGN : tomorrow's price: [575.87480021]\n",
      "REGN Success!\n",
      " \n",
      " \n",
      "Analyzing RF\n"
     ]
    },
    {
     "name": "stderr",
     "output_type": "stream",
     "text": [
      "<ipython-input-452-1cd440387d10>:47: SettingWithCopyWarning: \n",
      "A value is trying to be set on a copy of a slice from a DataFrame.\n",
      "Try using .loc[row_indexer,col_indexer] = value instead\n",
      "\n",
      "See the caveats in the documentation: https://pandas.pydata.org/pandas-docs/stable/user_guide/indexing.html#returning-a-view-versus-a-copy\n",
      "  data_sub['t_minus1_high'] = data_sub['high'].shift(1)\n",
      "<ipython-input-452-1cd440387d10>:48: SettingWithCopyWarning: \n",
      "A value is trying to be set on a copy of a slice from a DataFrame.\n",
      "Try using .loc[row_indexer,col_indexer] = value instead\n",
      "\n",
      "See the caveats in the documentation: https://pandas.pydata.org/pandas-docs/stable/user_guide/indexing.html#returning-a-view-versus-a-copy\n",
      "  data_sub['t_minus1_low'] = data_sub['low'].shift(1)\n"
     ]
    },
    {
     "name": "stdout",
     "output_type": "stream",
     "text": [
      "[*********************100%***********************]  1 of 1 completed\n",
      "RF testing r2_score: 0.9072821560429383\n",
      "RF testing MSE score: 0.16558021001493584\n",
      "RF : tomorrow's price: [21.77240698]\n",
      "RF Success!\n",
      " \n",
      " \n",
      "Analyzing RSG\n"
     ]
    },
    {
     "name": "stderr",
     "output_type": "stream",
     "text": [
      "<ipython-input-452-1cd440387d10>:47: SettingWithCopyWarning: \n",
      "A value is trying to be set on a copy of a slice from a DataFrame.\n",
      "Try using .loc[row_indexer,col_indexer] = value instead\n",
      "\n",
      "See the caveats in the documentation: https://pandas.pydata.org/pandas-docs/stable/user_guide/indexing.html#returning-a-view-versus-a-copy\n",
      "  data_sub['t_minus1_high'] = data_sub['high'].shift(1)\n",
      "<ipython-input-452-1cd440387d10>:48: SettingWithCopyWarning: \n",
      "A value is trying to be set on a copy of a slice from a DataFrame.\n",
      "Try using .loc[row_indexer,col_indexer] = value instead\n",
      "\n",
      "See the caveats in the documentation: https://pandas.pydata.org/pandas-docs/stable/user_guide/indexing.html#returning-a-view-versus-a-copy\n",
      "  data_sub['t_minus1_low'] = data_sub['low'].shift(1)\n"
     ]
    },
    {
     "name": "stdout",
     "output_type": "stream",
     "text": [
      "[*********************100%***********************]  1 of 1 completed\n",
      "RSG testing r2_score: 0.9649161384638544\n",
      "RSG testing MSE score: 1.5016292030535725\n",
      "RSG : tomorrow's price: [119.47563539]\n",
      "RSG Success!\n",
      " \n",
      " \n",
      "Analyzing RMD\n"
     ]
    },
    {
     "name": "stderr",
     "output_type": "stream",
     "text": [
      "<ipython-input-452-1cd440387d10>:47: SettingWithCopyWarning: \n",
      "A value is trying to be set on a copy of a slice from a DataFrame.\n",
      "Try using .loc[row_indexer,col_indexer] = value instead\n",
      "\n",
      "See the caveats in the documentation: https://pandas.pydata.org/pandas-docs/stable/user_guide/indexing.html#returning-a-view-versus-a-copy\n",
      "  data_sub['t_minus1_high'] = data_sub['high'].shift(1)\n",
      "<ipython-input-452-1cd440387d10>:48: SettingWithCopyWarning: \n",
      "A value is trying to be set on a copy of a slice from a DataFrame.\n",
      "Try using .loc[row_indexer,col_indexer] = value instead\n",
      "\n",
      "See the caveats in the documentation: https://pandas.pydata.org/pandas-docs/stable/user_guide/indexing.html#returning-a-view-versus-a-copy\n",
      "  data_sub['t_minus1_low'] = data_sub['low'].shift(1)\n"
     ]
    },
    {
     "name": "stdout",
     "output_type": "stream",
     "text": [
      "[*********************100%***********************]  1 of 1 completed\n",
      "RMD testing r2_score: 0.9864146322187302\n",
      "RMD testing MSE score: 14.754738815800978\n",
      "RMD : tomorrow's price: [261.76029498]\n",
      "RMD Success!\n",
      " \n",
      " \n",
      "Analyzing RHI\n"
     ]
    },
    {
     "name": "stderr",
     "output_type": "stream",
     "text": [
      "<ipython-input-452-1cd440387d10>:47: SettingWithCopyWarning: \n",
      "A value is trying to be set on a copy of a slice from a DataFrame.\n",
      "Try using .loc[row_indexer,col_indexer] = value instead\n",
      "\n",
      "See the caveats in the documentation: https://pandas.pydata.org/pandas-docs/stable/user_guide/indexing.html#returning-a-view-versus-a-copy\n",
      "  data_sub['t_minus1_high'] = data_sub['high'].shift(1)\n",
      "<ipython-input-452-1cd440387d10>:48: SettingWithCopyWarning: \n",
      "A value is trying to be set on a copy of a slice from a DataFrame.\n",
      "Try using .loc[row_indexer,col_indexer] = value instead\n",
      "\n",
      "See the caveats in the documentation: https://pandas.pydata.org/pandas-docs/stable/user_guide/indexing.html#returning-a-view-versus-a-copy\n",
      "  data_sub['t_minus1_low'] = data_sub['low'].shift(1)\n"
     ]
    },
    {
     "name": "stdout",
     "output_type": "stream",
     "text": [
      "[*********************100%***********************]  1 of 1 completed\n",
      "RHI testing r2_score: 0.9653326841732429\n",
      "RHI testing MSE score: 1.7608987476553624\n",
      "RHI : tomorrow's price: [103.10839416]\n",
      "RHI Success!\n",
      " \n",
      " \n",
      "Analyzing ROK\n"
     ]
    },
    {
     "name": "stderr",
     "output_type": "stream",
     "text": [
      "<ipython-input-452-1cd440387d10>:47: SettingWithCopyWarning: \n",
      "A value is trying to be set on a copy of a slice from a DataFrame.\n",
      "Try using .loc[row_indexer,col_indexer] = value instead\n",
      "\n",
      "See the caveats in the documentation: https://pandas.pydata.org/pandas-docs/stable/user_guide/indexing.html#returning-a-view-versus-a-copy\n",
      "  data_sub['t_minus1_high'] = data_sub['high'].shift(1)\n",
      "<ipython-input-452-1cd440387d10>:48: SettingWithCopyWarning: \n",
      "A value is trying to be set on a copy of a slice from a DataFrame.\n",
      "Try using .loc[row_indexer,col_indexer] = value instead\n",
      "\n",
      "See the caveats in the documentation: https://pandas.pydata.org/pandas-docs/stable/user_guide/indexing.html#returning-a-view-versus-a-copy\n",
      "  data_sub['t_minus1_low'] = data_sub['low'].shift(1)\n"
     ]
    },
    {
     "name": "stdout",
     "output_type": "stream",
     "text": [
      "[*********************100%***********************]  1 of 1 completed\n",
      "ROK testing r2_score: 0.9668347221875607\n",
      "ROK testing MSE score: 12.774046118993434\n",
      "ROK : tomorrow's price: [295.13966906]\n",
      "ROK Success!\n",
      " \n",
      " \n",
      "Analyzing ROL\n"
     ]
    },
    {
     "name": "stderr",
     "output_type": "stream",
     "text": [
      "<ipython-input-452-1cd440387d10>:47: SettingWithCopyWarning: \n",
      "A value is trying to be set on a copy of a slice from a DataFrame.\n",
      "Try using .loc[row_indexer,col_indexer] = value instead\n",
      "\n",
      "See the caveats in the documentation: https://pandas.pydata.org/pandas-docs/stable/user_guide/indexing.html#returning-a-view-versus-a-copy\n",
      "  data_sub['t_minus1_high'] = data_sub['high'].shift(1)\n",
      "<ipython-input-452-1cd440387d10>:48: SettingWithCopyWarning: \n",
      "A value is trying to be set on a copy of a slice from a DataFrame.\n",
      "Try using .loc[row_indexer,col_indexer] = value instead\n",
      "\n",
      "See the caveats in the documentation: https://pandas.pydata.org/pandas-docs/stable/user_guide/indexing.html#returning-a-view-versus-a-copy\n",
      "  data_sub['t_minus1_low'] = data_sub['low'].shift(1)\n"
     ]
    },
    {
     "name": "stdout",
     "output_type": "stream",
     "text": [
      "[*********************100%***********************]  1 of 1 completed\n",
      "ROL testing r2_score: 0.9321251781430828\n",
      "ROL testing MSE score: 0.23210445967399707\n",
      "ROL : tomorrow's price: [35.5657168]\n",
      "ROL Success!\n",
      " \n",
      " \n",
      "Analyzing ROP\n"
     ]
    },
    {
     "name": "stderr",
     "output_type": "stream",
     "text": [
      "<ipython-input-452-1cd440387d10>:47: SettingWithCopyWarning: \n",
      "A value is trying to be set on a copy of a slice from a DataFrame.\n",
      "Try using .loc[row_indexer,col_indexer] = value instead\n",
      "\n",
      "See the caveats in the documentation: https://pandas.pydata.org/pandas-docs/stable/user_guide/indexing.html#returning-a-view-versus-a-copy\n",
      "  data_sub['t_minus1_high'] = data_sub['high'].shift(1)\n",
      "<ipython-input-452-1cd440387d10>:48: SettingWithCopyWarning: \n",
      "A value is trying to be set on a copy of a slice from a DataFrame.\n",
      "Try using .loc[row_indexer,col_indexer] = value instead\n",
      "\n",
      "See the caveats in the documentation: https://pandas.pydata.org/pandas-docs/stable/user_guide/indexing.html#returning-a-view-versus-a-copy\n",
      "  data_sub['t_minus1_low'] = data_sub['low'].shift(1)\n"
     ]
    },
    {
     "name": "stdout",
     "output_type": "stream",
     "text": [
      "[*********************100%***********************]  1 of 1 completed\n",
      "ROP testing r2_score: 0.9457969570991452\n",
      "ROP testing MSE score: 16.956451576990958\n",
      "ROP : tomorrow's price: [444.67115731]\n",
      "ROP Success!\n",
      " \n",
      " \n",
      "Analyzing ROST\n"
     ]
    },
    {
     "name": "stderr",
     "output_type": "stream",
     "text": [
      "<ipython-input-452-1cd440387d10>:47: SettingWithCopyWarning: \n",
      "A value is trying to be set on a copy of a slice from a DataFrame.\n",
      "Try using .loc[row_indexer,col_indexer] = value instead\n",
      "\n",
      "See the caveats in the documentation: https://pandas.pydata.org/pandas-docs/stable/user_guide/indexing.html#returning-a-view-versus-a-copy\n",
      "  data_sub['t_minus1_high'] = data_sub['high'].shift(1)\n",
      "<ipython-input-452-1cd440387d10>:48: SettingWithCopyWarning: \n",
      "A value is trying to be set on a copy of a slice from a DataFrame.\n",
      "Try using .loc[row_indexer,col_indexer] = value instead\n",
      "\n",
      "See the caveats in the documentation: https://pandas.pydata.org/pandas-docs/stable/user_guide/indexing.html#returning-a-view-versus-a-copy\n",
      "  data_sub['t_minus1_low'] = data_sub['low'].shift(1)\n"
     ]
    },
    {
     "name": "stdout",
     "output_type": "stream",
     "text": [
      "[*********************100%***********************]  1 of 1 completed\n",
      "ROST testing r2_score: 0.8837693812302772\n",
      "ROST testing MSE score: 4.3516167222591315\n",
      "ROST : tomorrow's price: [110.82852058]\n",
      "ROST Success!\n",
      " \n",
      " \n",
      "Analyzing RCL\n"
     ]
    },
    {
     "name": "stderr",
     "output_type": "stream",
     "text": [
      "<ipython-input-452-1cd440387d10>:47: SettingWithCopyWarning: \n",
      "A value is trying to be set on a copy of a slice from a DataFrame.\n",
      "Try using .loc[row_indexer,col_indexer] = value instead\n",
      "\n",
      "See the caveats in the documentation: https://pandas.pydata.org/pandas-docs/stable/user_guide/indexing.html#returning-a-view-versus-a-copy\n",
      "  data_sub['t_minus1_high'] = data_sub['high'].shift(1)\n",
      "<ipython-input-452-1cd440387d10>:48: SettingWithCopyWarning: \n",
      "A value is trying to be set on a copy of a slice from a DataFrame.\n",
      "Try using .loc[row_indexer,col_indexer] = value instead\n",
      "\n",
      "See the caveats in the documentation: https://pandas.pydata.org/pandas-docs/stable/user_guide/indexing.html#returning-a-view-versus-a-copy\n",
      "  data_sub['t_minus1_low'] = data_sub['low'].shift(1)\n"
     ]
    },
    {
     "name": "stdout",
     "output_type": "stream",
     "text": [
      "[*********************100%***********************]  1 of 1 completed\n",
      "RCL testing r2_score: 0.8412679267158198\n",
      "RCL testing MSE score: 4.922525763394957\n",
      "RCL : tomorrow's price: [92.80062782]\n",
      "RCL Success!\n",
      " \n",
      " \n",
      "Analyzing SPGI\n"
     ]
    },
    {
     "name": "stderr",
     "output_type": "stream",
     "text": [
      "<ipython-input-452-1cd440387d10>:47: SettingWithCopyWarning: \n",
      "A value is trying to be set on a copy of a slice from a DataFrame.\n",
      "Try using .loc[row_indexer,col_indexer] = value instead\n",
      "\n",
      "See the caveats in the documentation: https://pandas.pydata.org/pandas-docs/stable/user_guide/indexing.html#returning-a-view-versus-a-copy\n",
      "  data_sub['t_minus1_high'] = data_sub['high'].shift(1)\n",
      "<ipython-input-452-1cd440387d10>:48: SettingWithCopyWarning: \n",
      "A value is trying to be set on a copy of a slice from a DataFrame.\n",
      "Try using .loc[row_indexer,col_indexer] = value instead\n",
      "\n",
      "See the caveats in the documentation: https://pandas.pydata.org/pandas-docs/stable/user_guide/indexing.html#returning-a-view-versus-a-copy\n",
      "  data_sub['t_minus1_low'] = data_sub['low'].shift(1)\n"
     ]
    },
    {
     "name": "stdout",
     "output_type": "stream",
     "text": [
      "[*********************100%***********************]  1 of 1 completed\n",
      "SPGI testing r2_score: 0.9535487385421968\n",
      "SPGI testing MSE score: 29.08531751821742\n",
      "SPGI : tomorrow's price: [427.38219278]\n",
      "SPGI Success!\n",
      " \n",
      " \n",
      "Analyzing CRM\n"
     ]
    },
    {
     "name": "stderr",
     "output_type": "stream",
     "text": [
      "<ipython-input-452-1cd440387d10>:47: SettingWithCopyWarning: \n",
      "A value is trying to be set on a copy of a slice from a DataFrame.\n",
      "Try using .loc[row_indexer,col_indexer] = value instead\n",
      "\n",
      "See the caveats in the documentation: https://pandas.pydata.org/pandas-docs/stable/user_guide/indexing.html#returning-a-view-versus-a-copy\n",
      "  data_sub['t_minus1_high'] = data_sub['high'].shift(1)\n",
      "<ipython-input-452-1cd440387d10>:48: SettingWithCopyWarning: \n",
      "A value is trying to be set on a copy of a slice from a DataFrame.\n",
      "Try using .loc[row_indexer,col_indexer] = value instead\n",
      "\n",
      "See the caveats in the documentation: https://pandas.pydata.org/pandas-docs/stable/user_guide/indexing.html#returning-a-view-versus-a-copy\n",
      "  data_sub['t_minus1_low'] = data_sub['low'].shift(1)\n"
     ]
    },
    {
     "name": "stdout",
     "output_type": "stream",
     "text": [
      "[*********************100%***********************]  1 of 1 completed\n",
      "CRM testing r2_score: 0.9510506675615918\n",
      "CRM testing MSE score: 15.349374919677771\n",
      "CRM : tomorrow's price: [273.86745196]\n",
      "CRM Success!\n",
      " \n",
      " \n",
      "Analyzing SBAC\n"
     ]
    },
    {
     "name": "stderr",
     "output_type": "stream",
     "text": [
      "<ipython-input-452-1cd440387d10>:47: SettingWithCopyWarning: \n",
      "A value is trying to be set on a copy of a slice from a DataFrame.\n",
      "Try using .loc[row_indexer,col_indexer] = value instead\n",
      "\n",
      "See the caveats in the documentation: https://pandas.pydata.org/pandas-docs/stable/user_guide/indexing.html#returning-a-view-versus-a-copy\n",
      "  data_sub['t_minus1_high'] = data_sub['high'].shift(1)\n",
      "<ipython-input-452-1cd440387d10>:48: SettingWithCopyWarning: \n",
      "A value is trying to be set on a copy of a slice from a DataFrame.\n",
      "Try using .loc[row_indexer,col_indexer] = value instead\n",
      "\n",
      "See the caveats in the documentation: https://pandas.pydata.org/pandas-docs/stable/user_guide/indexing.html#returning-a-view-versus-a-copy\n",
      "  data_sub['t_minus1_low'] = data_sub['low'].shift(1)\n"
     ]
    },
    {
     "name": "stdout",
     "output_type": "stream",
     "text": [
      "[*********************100%***********************]  1 of 1 completed\n",
      "SBAC testing r2_score: 0.9741610227405464\n",
      "SBAC testing MSE score: 13.245998716718626\n",
      "SBAC : tomorrow's price: [332.71965295]\n",
      "SBAC Success!\n",
      " \n",
      " \n",
      "Analyzing SLB\n"
     ]
    },
    {
     "name": "stderr",
     "output_type": "stream",
     "text": [
      "<ipython-input-452-1cd440387d10>:47: SettingWithCopyWarning: \n",
      "A value is trying to be set on a copy of a slice from a DataFrame.\n",
      "Try using .loc[row_indexer,col_indexer] = value instead\n",
      "\n",
      "See the caveats in the documentation: https://pandas.pydata.org/pandas-docs/stable/user_guide/indexing.html#returning-a-view-versus-a-copy\n",
      "  data_sub['t_minus1_high'] = data_sub['high'].shift(1)\n",
      "<ipython-input-452-1cd440387d10>:48: SettingWithCopyWarning: \n",
      "A value is trying to be set on a copy of a slice from a DataFrame.\n",
      "Try using .loc[row_indexer,col_indexer] = value instead\n",
      "\n",
      "See the caveats in the documentation: https://pandas.pydata.org/pandas-docs/stable/user_guide/indexing.html#returning-a-view-versus-a-copy\n",
      "  data_sub['t_minus1_low'] = data_sub['low'].shift(1)\n"
     ]
    },
    {
     "name": "stdout",
     "output_type": "stream",
     "text": [
      "[*********************100%***********************]  1 of 1 completed\n",
      "SLB testing r2_score: 0.8997087616564405\n",
      "SLB testing MSE score: 0.6425946512617632\n",
      "SLB : tomorrow's price: [30.36115588]\n",
      "SLB Success!\n",
      " \n",
      " \n",
      "Analyzing STX\n"
     ]
    },
    {
     "name": "stderr",
     "output_type": "stream",
     "text": [
      "<ipython-input-452-1cd440387d10>:47: SettingWithCopyWarning: \n",
      "A value is trying to be set on a copy of a slice from a DataFrame.\n",
      "Try using .loc[row_indexer,col_indexer] = value instead\n",
      "\n",
      "See the caveats in the documentation: https://pandas.pydata.org/pandas-docs/stable/user_guide/indexing.html#returning-a-view-versus-a-copy\n",
      "  data_sub['t_minus1_high'] = data_sub['high'].shift(1)\n",
      "<ipython-input-452-1cd440387d10>:48: SettingWithCopyWarning: \n",
      "A value is trying to be set on a copy of a slice from a DataFrame.\n",
      "Try using .loc[row_indexer,col_indexer] = value instead\n",
      "\n",
      "See the caveats in the documentation: https://pandas.pydata.org/pandas-docs/stable/user_guide/indexing.html#returning-a-view-versus-a-copy\n",
      "  data_sub['t_minus1_low'] = data_sub['low'].shift(1)\n"
     ]
    },
    {
     "name": "stdout",
     "output_type": "stream",
     "text": [
      "[*********************100%***********************]  1 of 1 completed\n",
      "STX testing r2_score: 0.8079457434645712\n",
      "STX testing MSE score: 5.4588455849915585\n",
      "STX : tomorrow's price: [84.56358615]\n",
      "STX Success!\n",
      " \n",
      " \n",
      "Analyzing SEE\n"
     ]
    },
    {
     "name": "stderr",
     "output_type": "stream",
     "text": [
      "<ipython-input-452-1cd440387d10>:47: SettingWithCopyWarning: \n",
      "A value is trying to be set on a copy of a slice from a DataFrame.\n",
      "Try using .loc[row_indexer,col_indexer] = value instead\n",
      "\n",
      "See the caveats in the documentation: https://pandas.pydata.org/pandas-docs/stable/user_guide/indexing.html#returning-a-view-versus-a-copy\n",
      "  data_sub['t_minus1_high'] = data_sub['high'].shift(1)\n",
      "<ipython-input-452-1cd440387d10>:48: SettingWithCopyWarning: \n",
      "A value is trying to be set on a copy of a slice from a DataFrame.\n",
      "Try using .loc[row_indexer,col_indexer] = value instead\n",
      "\n",
      "See the caveats in the documentation: https://pandas.pydata.org/pandas-docs/stable/user_guide/indexing.html#returning-a-view-versus-a-copy\n",
      "  data_sub['t_minus1_low'] = data_sub['low'].shift(1)\n"
     ]
    },
    {
     "name": "stdout",
     "output_type": "stream",
     "text": [
      "[*********************100%***********************]  1 of 1 completed\n",
      "SEE testing r2_score: 0.8556682473241618\n",
      "SEE testing MSE score: 0.6421186436579664\n",
      "SEE : tomorrow's price: [55.1283059]\n",
      "SEE Success!\n",
      " \n",
      " \n",
      "Analyzing SRE\n"
     ]
    },
    {
     "name": "stderr",
     "output_type": "stream",
     "text": [
      "<ipython-input-452-1cd440387d10>:47: SettingWithCopyWarning: \n",
      "A value is trying to be set on a copy of a slice from a DataFrame.\n",
      "Try using .loc[row_indexer,col_indexer] = value instead\n",
      "\n",
      "See the caveats in the documentation: https://pandas.pydata.org/pandas-docs/stable/user_guide/indexing.html#returning-a-view-versus-a-copy\n",
      "  data_sub['t_minus1_high'] = data_sub['high'].shift(1)\n",
      "<ipython-input-452-1cd440387d10>:48: SettingWithCopyWarning: \n",
      "A value is trying to be set on a copy of a slice from a DataFrame.\n",
      "Try using .loc[row_indexer,col_indexer] = value instead\n",
      "\n",
      "See the caveats in the documentation: https://pandas.pydata.org/pandas-docs/stable/user_guide/indexing.html#returning-a-view-versus-a-copy\n",
      "  data_sub['t_minus1_low'] = data_sub['low'].shift(1)\n"
     ]
    },
    {
     "name": "stdout",
     "output_type": "stream",
     "text": [
      "[*********************100%***********************]  1 of 1 completed\n",
      "SRE testing r2_score: 0.8264313936244008\n",
      "SRE testing MSE score: 2.799375419024515\n",
      "SRE : tomorrow's price: [126.75804979]\n",
      "SRE Success!\n",
      " \n",
      " \n",
      "Analyzing NOW\n"
     ]
    },
    {
     "name": "stderr",
     "output_type": "stream",
     "text": [
      "<ipython-input-452-1cd440387d10>:47: SettingWithCopyWarning: \n",
      "A value is trying to be set on a copy of a slice from a DataFrame.\n",
      "Try using .loc[row_indexer,col_indexer] = value instead\n",
      "\n",
      "See the caveats in the documentation: https://pandas.pydata.org/pandas-docs/stable/user_guide/indexing.html#returning-a-view-versus-a-copy\n",
      "  data_sub['t_minus1_high'] = data_sub['high'].shift(1)\n",
      "<ipython-input-452-1cd440387d10>:48: SettingWithCopyWarning: \n",
      "A value is trying to be set on a copy of a slice from a DataFrame.\n",
      "Try using .loc[row_indexer,col_indexer] = value instead\n",
      "\n",
      "See the caveats in the documentation: https://pandas.pydata.org/pandas-docs/stable/user_guide/indexing.html#returning-a-view-versus-a-copy\n",
      "  data_sub['t_minus1_low'] = data_sub['low'].shift(1)\n"
     ]
    },
    {
     "name": "stdout",
     "output_type": "stream",
     "text": [
      "[*********************100%***********************]  1 of 1 completed\n",
      "NOW testing r2_score: 0.9748645961331909\n",
      "NOW testing MSE score: 110.13485383192669\n",
      "NOW : tomorrow's price: [628.93577889]\n",
      "NOW Success!\n",
      " \n",
      " \n",
      "Analyzing SHW\n"
     ]
    },
    {
     "name": "stderr",
     "output_type": "stream",
     "text": [
      "<ipython-input-452-1cd440387d10>:47: SettingWithCopyWarning: \n",
      "A value is trying to be set on a copy of a slice from a DataFrame.\n",
      "Try using .loc[row_indexer,col_indexer] = value instead\n",
      "\n",
      "See the caveats in the documentation: https://pandas.pydata.org/pandas-docs/stable/user_guide/indexing.html#returning-a-view-versus-a-copy\n",
      "  data_sub['t_minus1_high'] = data_sub['high'].shift(1)\n",
      "<ipython-input-452-1cd440387d10>:48: SettingWithCopyWarning: \n",
      "A value is trying to be set on a copy of a slice from a DataFrame.\n",
      "Try using .loc[row_indexer,col_indexer] = value instead\n",
      "\n",
      "See the caveats in the documentation: https://pandas.pydata.org/pandas-docs/stable/user_guide/indexing.html#returning-a-view-versus-a-copy\n",
      "  data_sub['t_minus1_low'] = data_sub['low'].shift(1)\n"
     ]
    },
    {
     "name": "stdout",
     "output_type": "stream",
     "text": [
      "[*********************100%***********************]  1 of 1 completed\n",
      "SHW testing r2_score: 0.9334602540719364\n",
      "SHW testing MSE score: 7.59489693834107\n",
      "SHW : tomorrow's price: [284.42000941]\n",
      "SHW Success!\n",
      " \n",
      " \n",
      "Analyzing SPG\n"
     ]
    },
    {
     "name": "stderr",
     "output_type": "stream",
     "text": [
      "<ipython-input-452-1cd440387d10>:47: SettingWithCopyWarning: \n",
      "A value is trying to be set on a copy of a slice from a DataFrame.\n",
      "Try using .loc[row_indexer,col_indexer] = value instead\n",
      "\n",
      "See the caveats in the documentation: https://pandas.pydata.org/pandas-docs/stable/user_guide/indexing.html#returning-a-view-versus-a-copy\n",
      "  data_sub['t_minus1_high'] = data_sub['high'].shift(1)\n",
      "<ipython-input-452-1cd440387d10>:48: SettingWithCopyWarning: \n",
      "A value is trying to be set on a copy of a slice from a DataFrame.\n",
      "Try using .loc[row_indexer,col_indexer] = value instead\n",
      "\n",
      "See the caveats in the documentation: https://pandas.pydata.org/pandas-docs/stable/user_guide/indexing.html#returning-a-view-versus-a-copy\n",
      "  data_sub['t_minus1_low'] = data_sub['low'].shift(1)\n"
     ]
    },
    {
     "name": "stdout",
     "output_type": "stream",
     "text": [
      "[*********************100%***********************]  1 of 1 completed\n",
      "SPG testing r2_score: 0.717303286418822\n",
      "SPG testing MSE score: 5.906239823570453\n",
      "SPG : tomorrow's price: [132.51245568]\n",
      "SPG Success!\n",
      " \n",
      " \n",
      "Analyzing SWKS\n"
     ]
    },
    {
     "name": "stderr",
     "output_type": "stream",
     "text": [
      "<ipython-input-452-1cd440387d10>:47: SettingWithCopyWarning: \n",
      "A value is trying to be set on a copy of a slice from a DataFrame.\n",
      "Try using .loc[row_indexer,col_indexer] = value instead\n",
      "\n",
      "See the caveats in the documentation: https://pandas.pydata.org/pandas-docs/stable/user_guide/indexing.html#returning-a-view-versus-a-copy\n",
      "  data_sub['t_minus1_high'] = data_sub['high'].shift(1)\n",
      "<ipython-input-452-1cd440387d10>:48: SettingWithCopyWarning: \n",
      "A value is trying to be set on a copy of a slice from a DataFrame.\n",
      "Try using .loc[row_indexer,col_indexer] = value instead\n",
      "\n",
      "See the caveats in the documentation: https://pandas.pydata.org/pandas-docs/stable/user_guide/indexing.html#returning-a-view-versus-a-copy\n",
      "  data_sub['t_minus1_low'] = data_sub['low'].shift(1)\n"
     ]
    },
    {
     "name": "stdout",
     "output_type": "stream",
     "text": [
      "[*********************100%***********************]  1 of 1 completed\n",
      "SWKS testing r2_score: 0.88530542022066\n",
      "SWKS testing MSE score: 11.435309816026104\n",
      "SWKS : tomorrow's price: [164.11901752]\n",
      "SWKS Success!\n",
      " \n",
      " \n",
      "Analyzing SNA\n"
     ]
    },
    {
     "name": "stderr",
     "output_type": "stream",
     "text": [
      "<ipython-input-452-1cd440387d10>:47: SettingWithCopyWarning: \n",
      "A value is trying to be set on a copy of a slice from a DataFrame.\n",
      "Try using .loc[row_indexer,col_indexer] = value instead\n",
      "\n",
      "See the caveats in the documentation: https://pandas.pydata.org/pandas-docs/stable/user_guide/indexing.html#returning-a-view-versus-a-copy\n",
      "  data_sub['t_minus1_high'] = data_sub['high'].shift(1)\n",
      "<ipython-input-452-1cd440387d10>:48: SettingWithCopyWarning: \n",
      "A value is trying to be set on a copy of a slice from a DataFrame.\n",
      "Try using .loc[row_indexer,col_indexer] = value instead\n",
      "\n",
      "See the caveats in the documentation: https://pandas.pydata.org/pandas-docs/stable/user_guide/indexing.html#returning-a-view-versus-a-copy\n",
      "  data_sub['t_minus1_low'] = data_sub['low'].shift(1)\n"
     ]
    },
    {
     "name": "stdout",
     "output_type": "stream",
     "text": [
      "[*********************100%***********************]  1 of 1 completed\n",
      "SNA testing r2_score: 0.9426238622377685\n",
      "SNA testing MSE score: 10.517649153046412\n",
      "SNA : tomorrow's price: [209.34042729]\n",
      "SNA Success!\n",
      " \n",
      " \n",
      "Analyzing SO\n"
     ]
    },
    {
     "name": "stderr",
     "output_type": "stream",
     "text": [
      "<ipython-input-452-1cd440387d10>:47: SettingWithCopyWarning: \n",
      "A value is trying to be set on a copy of a slice from a DataFrame.\n",
      "Try using .loc[row_indexer,col_indexer] = value instead\n",
      "\n",
      "See the caveats in the documentation: https://pandas.pydata.org/pandas-docs/stable/user_guide/indexing.html#returning-a-view-versus-a-copy\n",
      "  data_sub['t_minus1_high'] = data_sub['high'].shift(1)\n",
      "<ipython-input-452-1cd440387d10>:48: SettingWithCopyWarning: \n",
      "A value is trying to be set on a copy of a slice from a DataFrame.\n",
      "Try using .loc[row_indexer,col_indexer] = value instead\n",
      "\n",
      "See the caveats in the documentation: https://pandas.pydata.org/pandas-docs/stable/user_guide/indexing.html#returning-a-view-versus-a-copy\n",
      "  data_sub['t_minus1_low'] = data_sub['low'].shift(1)\n"
     ]
    },
    {
     "name": "stdout",
     "output_type": "stream",
     "text": [
      "[*********************100%***********************]  1 of 1 completed\n",
      "SO testing r2_score: 0.8478968830850313\n",
      "SO testing MSE score: 0.4489425637908537\n",
      "SO : tomorrow's price: [61.73316592]\n",
      "SO Success!\n",
      " \n",
      " \n",
      "Analyzing LUV\n"
     ]
    },
    {
     "name": "stderr",
     "output_type": "stream",
     "text": [
      "<ipython-input-452-1cd440387d10>:47: SettingWithCopyWarning: \n",
      "A value is trying to be set on a copy of a slice from a DataFrame.\n",
      "Try using .loc[row_indexer,col_indexer] = value instead\n",
      "\n",
      "See the caveats in the documentation: https://pandas.pydata.org/pandas-docs/stable/user_guide/indexing.html#returning-a-view-versus-a-copy\n",
      "  data_sub['t_minus1_high'] = data_sub['high'].shift(1)\n",
      "<ipython-input-452-1cd440387d10>:48: SettingWithCopyWarning: \n",
      "A value is trying to be set on a copy of a slice from a DataFrame.\n",
      "Try using .loc[row_indexer,col_indexer] = value instead\n",
      "\n",
      "See the caveats in the documentation: https://pandas.pydata.org/pandas-docs/stable/user_guide/indexing.html#returning-a-view-versus-a-copy\n",
      "  data_sub['t_minus1_low'] = data_sub['low'].shift(1)\n"
     ]
    },
    {
     "name": "stdout",
     "output_type": "stream",
     "text": [
      "[*********************100%***********************]  1 of 1 completed\n",
      "LUV testing r2_score: 0.9460236140357696\n",
      "LUV testing MSE score: 1.0786186027476459\n",
      "LUV : tomorrow's price: [54.35737017]\n",
      "LUV Success!\n",
      " \n",
      " \n",
      "Analyzing SWK\n"
     ]
    },
    {
     "name": "stderr",
     "output_type": "stream",
     "text": [
      "<ipython-input-452-1cd440387d10>:47: SettingWithCopyWarning: \n",
      "A value is trying to be set on a copy of a slice from a DataFrame.\n",
      "Try using .loc[row_indexer,col_indexer] = value instead\n",
      "\n",
      "See the caveats in the documentation: https://pandas.pydata.org/pandas-docs/stable/user_guide/indexing.html#returning-a-view-versus-a-copy\n",
      "  data_sub['t_minus1_high'] = data_sub['high'].shift(1)\n",
      "<ipython-input-452-1cd440387d10>:48: SettingWithCopyWarning: \n",
      "A value is trying to be set on a copy of a slice from a DataFrame.\n",
      "Try using .loc[row_indexer,col_indexer] = value instead\n",
      "\n",
      "See the caveats in the documentation: https://pandas.pydata.org/pandas-docs/stable/user_guide/indexing.html#returning-a-view-versus-a-copy\n",
      "  data_sub['t_minus1_low'] = data_sub['low'].shift(1)\n"
     ]
    },
    {
     "name": "stdout",
     "output_type": "stream",
     "text": [
      "[*********************100%***********************]  1 of 1 completed\n",
      "SWK testing r2_score: 0.9481224244644382\n",
      "SWK testing MSE score: 7.5379107304530315\n",
      "SWK : tomorrow's price: [174.66664162]\n",
      "SWK Success!\n",
      " \n",
      " \n",
      "Analyzing SBUX\n"
     ]
    },
    {
     "name": "stderr",
     "output_type": "stream",
     "text": [
      "<ipython-input-452-1cd440387d10>:47: SettingWithCopyWarning: \n",
      "A value is trying to be set on a copy of a slice from a DataFrame.\n",
      "Try using .loc[row_indexer,col_indexer] = value instead\n",
      "\n",
      "See the caveats in the documentation: https://pandas.pydata.org/pandas-docs/stable/user_guide/indexing.html#returning-a-view-versus-a-copy\n",
      "  data_sub['t_minus1_high'] = data_sub['high'].shift(1)\n",
      "<ipython-input-452-1cd440387d10>:48: SettingWithCopyWarning: \n",
      "A value is trying to be set on a copy of a slice from a DataFrame.\n",
      "Try using .loc[row_indexer,col_indexer] = value instead\n",
      "\n",
      "See the caveats in the documentation: https://pandas.pydata.org/pandas-docs/stable/user_guide/indexing.html#returning-a-view-versus-a-copy\n",
      "  data_sub['t_minus1_low'] = data_sub['low'].shift(1)\n"
     ]
    },
    {
     "name": "stdout",
     "output_type": "stream",
     "text": [
      "[*********************100%***********************]  1 of 1 completed\n",
      "SBUX testing r2_score: 0.8627927697119326\n",
      "SBUX testing MSE score: 1.7596371414205207\n",
      "SBUX : tomorrow's price: [112.37780866]\n",
      "SBUX Success!\n",
      " \n",
      " \n",
      "Analyzing STT\n"
     ]
    },
    {
     "name": "stderr",
     "output_type": "stream",
     "text": [
      "<ipython-input-452-1cd440387d10>:47: SettingWithCopyWarning: \n",
      "A value is trying to be set on a copy of a slice from a DataFrame.\n",
      "Try using .loc[row_indexer,col_indexer] = value instead\n",
      "\n",
      "See the caveats in the documentation: https://pandas.pydata.org/pandas-docs/stable/user_guide/indexing.html#returning-a-view-versus-a-copy\n",
      "  data_sub['t_minus1_high'] = data_sub['high'].shift(1)\n",
      "<ipython-input-452-1cd440387d10>:48: SettingWithCopyWarning: \n",
      "A value is trying to be set on a copy of a slice from a DataFrame.\n",
      "Try using .loc[row_indexer,col_indexer] = value instead\n",
      "\n",
      "See the caveats in the documentation: https://pandas.pydata.org/pandas-docs/stable/user_guide/indexing.html#returning-a-view-versus-a-copy\n",
      "  data_sub['t_minus1_low'] = data_sub['low'].shift(1)\n"
     ]
    },
    {
     "name": "stdout",
     "output_type": "stream",
     "text": [
      "[*********************100%***********************]  1 of 1 completed\n",
      "STT testing r2_score: 0.7625582477921218\n",
      "STT testing MSE score: 2.4479785972928676\n",
      "STT : tomorrow's price: [86.0702964]\n",
      "STT Success!\n",
      " \n",
      " \n",
      "Analyzing STE\n"
     ]
    },
    {
     "name": "stderr",
     "output_type": "stream",
     "text": [
      "<ipython-input-452-1cd440387d10>:47: SettingWithCopyWarning: \n",
      "A value is trying to be set on a copy of a slice from a DataFrame.\n",
      "Try using .loc[row_indexer,col_indexer] = value instead\n",
      "\n",
      "See the caveats in the documentation: https://pandas.pydata.org/pandas-docs/stable/user_guide/indexing.html#returning-a-view-versus-a-copy\n",
      "  data_sub['t_minus1_high'] = data_sub['high'].shift(1)\n",
      "<ipython-input-452-1cd440387d10>:48: SettingWithCopyWarning: \n",
      "A value is trying to be set on a copy of a slice from a DataFrame.\n",
      "Try using .loc[row_indexer,col_indexer] = value instead\n",
      "\n",
      "See the caveats in the documentation: https://pandas.pydata.org/pandas-docs/stable/user_guide/indexing.html#returning-a-view-versus-a-copy\n",
      "  data_sub['t_minus1_low'] = data_sub['low'].shift(1)\n"
     ]
    },
    {
     "name": "stdout",
     "output_type": "stream",
     "text": [
      "[*********************100%***********************]  1 of 1 completed\n",
      "STE testing r2_score: 0.9156296216789164\n",
      "STE testing MSE score: 6.901431878836884\n",
      "STE : tomorrow's price: [205.59234633]\n",
      "STE Success!\n",
      " \n",
      " \n",
      "Analyzing SYK\n"
     ]
    },
    {
     "name": "stderr",
     "output_type": "stream",
     "text": [
      "<ipython-input-452-1cd440387d10>:47: SettingWithCopyWarning: \n",
      "A value is trying to be set on a copy of a slice from a DataFrame.\n",
      "Try using .loc[row_indexer,col_indexer] = value instead\n",
      "\n",
      "See the caveats in the documentation: https://pandas.pydata.org/pandas-docs/stable/user_guide/indexing.html#returning-a-view-versus-a-copy\n",
      "  data_sub['t_minus1_high'] = data_sub['high'].shift(1)\n",
      "<ipython-input-452-1cd440387d10>:48: SettingWithCopyWarning: \n",
      "A value is trying to be set on a copy of a slice from a DataFrame.\n",
      "Try using .loc[row_indexer,col_indexer] = value instead\n",
      "\n",
      "See the caveats in the documentation: https://pandas.pydata.org/pandas-docs/stable/user_guide/indexing.html#returning-a-view-versus-a-copy\n",
      "  data_sub['t_minus1_low'] = data_sub['low'].shift(1)\n"
     ]
    },
    {
     "name": "stdout",
     "output_type": "stream",
     "text": [
      "[*********************100%***********************]  1 of 1 completed\n",
      "SYK testing r2_score: 0.8471724751038789\n",
      "SYK testing MSE score: 9.786622103199335\n",
      "SYK : tomorrow's price: [267.46451728]\n",
      "SYK Success!\n",
      " \n",
      " \n",
      "Analyzing SIVB\n"
     ]
    },
    {
     "name": "stderr",
     "output_type": "stream",
     "text": [
      "<ipython-input-452-1cd440387d10>:47: SettingWithCopyWarning: \n",
      "A value is trying to be set on a copy of a slice from a DataFrame.\n",
      "Try using .loc[row_indexer,col_indexer] = value instead\n",
      "\n",
      "See the caveats in the documentation: https://pandas.pydata.org/pandas-docs/stable/user_guide/indexing.html#returning-a-view-versus-a-copy\n",
      "  data_sub['t_minus1_high'] = data_sub['high'].shift(1)\n",
      "<ipython-input-452-1cd440387d10>:48: SettingWithCopyWarning: \n",
      "A value is trying to be set on a copy of a slice from a DataFrame.\n",
      "Try using .loc[row_indexer,col_indexer] = value instead\n",
      "\n",
      "See the caveats in the documentation: https://pandas.pydata.org/pandas-docs/stable/user_guide/indexing.html#returning-a-view-versus-a-copy\n",
      "  data_sub['t_minus1_low'] = data_sub['low'].shift(1)\n"
     ]
    },
    {
     "name": "stdout",
     "output_type": "stream",
     "text": [
      "[*********************100%***********************]  1 of 1 completed\n",
      "SIVB testing r2_score: 0.8638623697395886\n",
      "SIVB testing MSE score: 164.15759654547705\n",
      "SIVB : tomorrow's price: [665.47058344]\n",
      "SIVB Success!\n",
      " \n",
      " \n",
      "Analyzing SYF\n"
     ]
    },
    {
     "name": "stderr",
     "output_type": "stream",
     "text": [
      "<ipython-input-452-1cd440387d10>:47: SettingWithCopyWarning: \n",
      "A value is trying to be set on a copy of a slice from a DataFrame.\n",
      "Try using .loc[row_indexer,col_indexer] = value instead\n",
      "\n",
      "See the caveats in the documentation: https://pandas.pydata.org/pandas-docs/stable/user_guide/indexing.html#returning-a-view-versus-a-copy\n",
      "  data_sub['t_minus1_high'] = data_sub['high'].shift(1)\n",
      "<ipython-input-452-1cd440387d10>:48: SettingWithCopyWarning: \n",
      "A value is trying to be set on a copy of a slice from a DataFrame.\n",
      "Try using .loc[row_indexer,col_indexer] = value instead\n",
      "\n",
      "See the caveats in the documentation: https://pandas.pydata.org/pandas-docs/stable/user_guide/indexing.html#returning-a-view-versus-a-copy\n",
      "  data_sub['t_minus1_low'] = data_sub['low'].shift(1)\n"
     ]
    },
    {
     "name": "stdout",
     "output_type": "stream",
     "text": [
      "[*********************100%***********************]  1 of 1 completed\n",
      "SYF testing r2_score: 0.7391894646476189\n",
      "SYF testing MSE score: 0.9275865237420453\n",
      "SYF : tomorrow's price: [49.74269937]\n",
      "SYF Success!\n",
      " \n",
      " \n",
      "Analyzing SNPS\n"
     ]
    },
    {
     "name": "stderr",
     "output_type": "stream",
     "text": [
      "<ipython-input-452-1cd440387d10>:47: SettingWithCopyWarning: \n",
      "A value is trying to be set on a copy of a slice from a DataFrame.\n",
      "Try using .loc[row_indexer,col_indexer] = value instead\n",
      "\n",
      "See the caveats in the documentation: https://pandas.pydata.org/pandas-docs/stable/user_guide/indexing.html#returning-a-view-versus-a-copy\n",
      "  data_sub['t_minus1_high'] = data_sub['high'].shift(1)\n",
      "<ipython-input-452-1cd440387d10>:48: SettingWithCopyWarning: \n",
      "A value is trying to be set on a copy of a slice from a DataFrame.\n",
      "Try using .loc[row_indexer,col_indexer] = value instead\n",
      "\n",
      "See the caveats in the documentation: https://pandas.pydata.org/pandas-docs/stable/user_guide/indexing.html#returning-a-view-versus-a-copy\n",
      "  data_sub['t_minus1_low'] = data_sub['low'].shift(1)\n"
     ]
    },
    {
     "name": "stdout",
     "output_type": "stream",
     "text": [
      "[*********************100%***********************]  1 of 1 completed\n",
      "SNPS testing r2_score: 0.9776435561788351\n",
      "SNPS testing MSE score: 20.43411730573988\n",
      "SNPS : tomorrow's price: [301.62932379]\n",
      "SNPS Success!\n",
      " \n",
      " \n",
      "Analyzing SYY\n"
     ]
    },
    {
     "name": "stderr",
     "output_type": "stream",
     "text": [
      "<ipython-input-452-1cd440387d10>:47: SettingWithCopyWarning: \n",
      "A value is trying to be set on a copy of a slice from a DataFrame.\n",
      "Try using .loc[row_indexer,col_indexer] = value instead\n",
      "\n",
      "See the caveats in the documentation: https://pandas.pydata.org/pandas-docs/stable/user_guide/indexing.html#returning-a-view-versus-a-copy\n",
      "  data_sub['t_minus1_high'] = data_sub['high'].shift(1)\n",
      "<ipython-input-452-1cd440387d10>:48: SettingWithCopyWarning: \n",
      "A value is trying to be set on a copy of a slice from a DataFrame.\n",
      "Try using .loc[row_indexer,col_indexer] = value instead\n",
      "\n",
      "See the caveats in the documentation: https://pandas.pydata.org/pandas-docs/stable/user_guide/indexing.html#returning-a-view-versus-a-copy\n",
      "  data_sub['t_minus1_low'] = data_sub['low'].shift(1)\n"
     ]
    },
    {
     "name": "stdout",
     "output_type": "stream",
     "text": [
      "[*********************100%***********************]  1 of 1 completed\n",
      "SYY testing r2_score: 0.8884193625112535\n",
      "SYY testing MSE score: 1.3920812311359643\n",
      "SYY : tomorrow's price: [80.42602627]\n",
      "SYY Success!\n",
      " \n",
      " \n",
      "Analyzing TMUS\n"
     ]
    },
    {
     "name": "stderr",
     "output_type": "stream",
     "text": [
      "<ipython-input-452-1cd440387d10>:47: SettingWithCopyWarning: \n",
      "A value is trying to be set on a copy of a slice from a DataFrame.\n",
      "Try using .loc[row_indexer,col_indexer] = value instead\n",
      "\n",
      "See the caveats in the documentation: https://pandas.pydata.org/pandas-docs/stable/user_guide/indexing.html#returning-a-view-versus-a-copy\n",
      "  data_sub['t_minus1_high'] = data_sub['high'].shift(1)\n",
      "<ipython-input-452-1cd440387d10>:48: SettingWithCopyWarning: \n",
      "A value is trying to be set on a copy of a slice from a DataFrame.\n",
      "Try using .loc[row_indexer,col_indexer] = value instead\n",
      "\n",
      "See the caveats in the documentation: https://pandas.pydata.org/pandas-docs/stable/user_guide/indexing.html#returning-a-view-versus-a-copy\n",
      "  data_sub['t_minus1_low'] = data_sub['low'].shift(1)\n"
     ]
    },
    {
     "name": "stdout",
     "output_type": "stream",
     "text": [
      "[*********************100%***********************]  1 of 1 completed\n",
      "TMUS testing r2_score: 0.9518493722697031\n",
      "TMUS testing MSE score: 3.1003932145295425\n",
      "TMUS : tomorrow's price: [126.82761959]\n",
      "TMUS Success!\n",
      " \n",
      " \n",
      "Analyzing TROW\n"
     ]
    },
    {
     "name": "stderr",
     "output_type": "stream",
     "text": [
      "<ipython-input-452-1cd440387d10>:47: SettingWithCopyWarning: \n",
      "A value is trying to be set on a copy of a slice from a DataFrame.\n",
      "Try using .loc[row_indexer,col_indexer] = value instead\n",
      "\n",
      "See the caveats in the documentation: https://pandas.pydata.org/pandas-docs/stable/user_guide/indexing.html#returning-a-view-versus-a-copy\n",
      "  data_sub['t_minus1_high'] = data_sub['high'].shift(1)\n",
      "<ipython-input-452-1cd440387d10>:48: SettingWithCopyWarning: \n",
      "A value is trying to be set on a copy of a slice from a DataFrame.\n",
      "Try using .loc[row_indexer,col_indexer] = value instead\n",
      "\n",
      "See the caveats in the documentation: https://pandas.pydata.org/pandas-docs/stable/user_guide/indexing.html#returning-a-view-versus-a-copy\n",
      "  data_sub['t_minus1_low'] = data_sub['low'].shift(1)\n"
     ]
    },
    {
     "name": "stdout",
     "output_type": "stream",
     "text": [
      "[*********************100%***********************]  1 of 1 completed\n",
      "TROW testing r2_score: 0.9265145822184715\n",
      "TROW testing MSE score: 9.084659257887422\n",
      "TROW : tomorrow's price: [199.65306935]\n",
      "TROW Success!\n",
      " \n",
      " \n",
      "Analyzing TTWO\n"
     ]
    },
    {
     "name": "stderr",
     "output_type": "stream",
     "text": [
      "<ipython-input-452-1cd440387d10>:47: SettingWithCopyWarning: \n",
      "A value is trying to be set on a copy of a slice from a DataFrame.\n",
      "Try using .loc[row_indexer,col_indexer] = value instead\n",
      "\n",
      "See the caveats in the documentation: https://pandas.pydata.org/pandas-docs/stable/user_guide/indexing.html#returning-a-view-versus-a-copy\n",
      "  data_sub['t_minus1_high'] = data_sub['high'].shift(1)\n",
      "<ipython-input-452-1cd440387d10>:48: SettingWithCopyWarning: \n",
      "A value is trying to be set on a copy of a slice from a DataFrame.\n",
      "Try using .loc[row_indexer,col_indexer] = value instead\n",
      "\n",
      "See the caveats in the documentation: https://pandas.pydata.org/pandas-docs/stable/user_guide/indexing.html#returning-a-view-versus-a-copy\n",
      "  data_sub['t_minus1_low'] = data_sub['low'].shift(1)\n"
     ]
    },
    {
     "name": "stdout",
     "output_type": "stream",
     "text": [
      "[*********************100%***********************]  1 of 1 completed\n",
      "TTWO testing r2_score: 0.9081220074864325\n",
      "TTWO testing MSE score: 9.96537505735758\n",
      "TTWO : tomorrow's price: [157.27531743]\n",
      "TTWO Success!\n",
      " \n",
      " \n",
      "Analyzing TPR\n"
     ]
    },
    {
     "name": "stderr",
     "output_type": "stream",
     "text": [
      "<ipython-input-452-1cd440387d10>:47: SettingWithCopyWarning: \n",
      "A value is trying to be set on a copy of a slice from a DataFrame.\n",
      "Try using .loc[row_indexer,col_indexer] = value instead\n",
      "\n",
      "See the caveats in the documentation: https://pandas.pydata.org/pandas-docs/stable/user_guide/indexing.html#returning-a-view-versus-a-copy\n",
      "  data_sub['t_minus1_high'] = data_sub['high'].shift(1)\n",
      "<ipython-input-452-1cd440387d10>:48: SettingWithCopyWarning: \n",
      "A value is trying to be set on a copy of a slice from a DataFrame.\n",
      "Try using .loc[row_indexer,col_indexer] = value instead\n",
      "\n",
      "See the caveats in the documentation: https://pandas.pydata.org/pandas-docs/stable/user_guide/indexing.html#returning-a-view-versus-a-copy\n",
      "  data_sub['t_minus1_low'] = data_sub['low'].shift(1)\n"
     ]
    },
    {
     "name": "stdout",
     "output_type": "stream",
     "text": [
      "[*********************100%***********************]  1 of 1 completed\n",
      "TPR testing r2_score: 0.8709179409055975\n",
      "TPR testing MSE score: 0.9293047544831537\n",
      "TPR : tomorrow's price: [37.97551563]\n",
      "TPR Success!\n",
      " \n",
      " \n",
      "Analyzing TGT\n"
     ]
    },
    {
     "name": "stderr",
     "output_type": "stream",
     "text": [
      "<ipython-input-452-1cd440387d10>:47: SettingWithCopyWarning: \n",
      "A value is trying to be set on a copy of a slice from a DataFrame.\n",
      "Try using .loc[row_indexer,col_indexer] = value instead\n",
      "\n",
      "See the caveats in the documentation: https://pandas.pydata.org/pandas-docs/stable/user_guide/indexing.html#returning-a-view-versus-a-copy\n",
      "  data_sub['t_minus1_high'] = data_sub['high'].shift(1)\n",
      "<ipython-input-452-1cd440387d10>:48: SettingWithCopyWarning: \n",
      "A value is trying to be set on a copy of a slice from a DataFrame.\n",
      "Try using .loc[row_indexer,col_indexer] = value instead\n",
      "\n",
      "See the caveats in the documentation: https://pandas.pydata.org/pandas-docs/stable/user_guide/indexing.html#returning-a-view-versus-a-copy\n",
      "  data_sub['t_minus1_low'] = data_sub['low'].shift(1)\n"
     ]
    },
    {
     "name": "stdout",
     "output_type": "stream",
     "text": [
      "[*********************100%***********************]  1 of 1 completed\n",
      "TGT testing r2_score: 0.9622194097227779\n",
      "TGT testing MSE score: 9.004651490268978\n",
      "TGT : tomorrow's price: [227.98672783]\n",
      "TGT Success!\n",
      " \n",
      " \n",
      "Analyzing TEL\n"
     ]
    },
    {
     "name": "stderr",
     "output_type": "stream",
     "text": [
      "<ipython-input-452-1cd440387d10>:47: SettingWithCopyWarning: \n",
      "A value is trying to be set on a copy of a slice from a DataFrame.\n",
      "Try using .loc[row_indexer,col_indexer] = value instead\n",
      "\n",
      "See the caveats in the documentation: https://pandas.pydata.org/pandas-docs/stable/user_guide/indexing.html#returning-a-view-versus-a-copy\n",
      "  data_sub['t_minus1_high'] = data_sub['high'].shift(1)\n",
      "<ipython-input-452-1cd440387d10>:48: SettingWithCopyWarning: \n",
      "A value is trying to be set on a copy of a slice from a DataFrame.\n",
      "Try using .loc[row_indexer,col_indexer] = value instead\n",
      "\n",
      "See the caveats in the documentation: https://pandas.pydata.org/pandas-docs/stable/user_guide/indexing.html#returning-a-view-versus-a-copy\n",
      "  data_sub['t_minus1_low'] = data_sub['low'].shift(1)\n"
     ]
    },
    {
     "name": "stdout",
     "output_type": "stream",
     "text": [
      "[*********************100%***********************]  1 of 1 completed\n",
      "TEL testing r2_score: 0.9129689891591124\n",
      "TEL testing MSE score: 3.711832984207755\n",
      "TEL : tomorrow's price: [142.10254991]\n",
      "TEL Success!\n",
      " \n",
      " \n",
      "Analyzing TDY\n"
     ]
    },
    {
     "name": "stderr",
     "output_type": "stream",
     "text": [
      "<ipython-input-452-1cd440387d10>:47: SettingWithCopyWarning: \n",
      "A value is trying to be set on a copy of a slice from a DataFrame.\n",
      "Try using .loc[row_indexer,col_indexer] = value instead\n",
      "\n",
      "See the caveats in the documentation: https://pandas.pydata.org/pandas-docs/stable/user_guide/indexing.html#returning-a-view-versus-a-copy\n",
      "  data_sub['t_minus1_high'] = data_sub['high'].shift(1)\n",
      "<ipython-input-452-1cd440387d10>:48: SettingWithCopyWarning: \n",
      "A value is trying to be set on a copy of a slice from a DataFrame.\n",
      "Try using .loc[row_indexer,col_indexer] = value instead\n",
      "\n",
      "See the caveats in the documentation: https://pandas.pydata.org/pandas-docs/stable/user_guide/indexing.html#returning-a-view-versus-a-copy\n",
      "  data_sub['t_minus1_low'] = data_sub['low'].shift(1)\n"
     ]
    },
    {
     "name": "stdout",
     "output_type": "stream",
     "text": [
      "[*********************100%***********************]  1 of 1 completed\n",
      "TDY testing r2_score: 0.8588820283950599\n",
      "TDY testing MSE score: 30.966325401243783\n",
      "TDY : tomorrow's price: [436.10064656]\n",
      "TDY Success!\n",
      " \n",
      " \n",
      "Analyzing TFX\n"
     ]
    },
    {
     "name": "stderr",
     "output_type": "stream",
     "text": [
      "<ipython-input-452-1cd440387d10>:47: SettingWithCopyWarning: \n",
      "A value is trying to be set on a copy of a slice from a DataFrame.\n",
      "Try using .loc[row_indexer,col_indexer] = value instead\n",
      "\n",
      "See the caveats in the documentation: https://pandas.pydata.org/pandas-docs/stable/user_guide/indexing.html#returning-a-view-versus-a-copy\n",
      "  data_sub['t_minus1_high'] = data_sub['high'].shift(1)\n",
      "<ipython-input-452-1cd440387d10>:48: SettingWithCopyWarning: \n",
      "A value is trying to be set on a copy of a slice from a DataFrame.\n",
      "Try using .loc[row_indexer,col_indexer] = value instead\n",
      "\n",
      "See the caveats in the documentation: https://pandas.pydata.org/pandas-docs/stable/user_guide/indexing.html#returning-a-view-versus-a-copy\n",
      "  data_sub['t_minus1_low'] = data_sub['low'].shift(1)\n"
     ]
    },
    {
     "name": "stdout",
     "output_type": "stream",
     "text": [
      "[*********************100%***********************]  1 of 1 completed\n",
      "TFX testing r2_score: 0.764877296614368\n",
      "TFX testing MSE score: 56.66877087650837\n",
      "TFX : tomorrow's price: [380.67381392]\n",
      "TFX Success!\n",
      " \n",
      " \n",
      "Analyzing TER\n"
     ]
    },
    {
     "name": "stderr",
     "output_type": "stream",
     "text": [
      "<ipython-input-452-1cd440387d10>:47: SettingWithCopyWarning: \n",
      "A value is trying to be set on a copy of a slice from a DataFrame.\n",
      "Try using .loc[row_indexer,col_indexer] = value instead\n",
      "\n",
      "See the caveats in the documentation: https://pandas.pydata.org/pandas-docs/stable/user_guide/indexing.html#returning-a-view-versus-a-copy\n",
      "  data_sub['t_minus1_high'] = data_sub['high'].shift(1)\n",
      "<ipython-input-452-1cd440387d10>:48: SettingWithCopyWarning: \n",
      "A value is trying to be set on a copy of a slice from a DataFrame.\n",
      "Try using .loc[row_indexer,col_indexer] = value instead\n",
      "\n",
      "See the caveats in the documentation: https://pandas.pydata.org/pandas-docs/stable/user_guide/indexing.html#returning-a-view-versus-a-copy\n",
      "  data_sub['t_minus1_low'] = data_sub['low'].shift(1)\n"
     ]
    },
    {
     "name": "stdout",
     "output_type": "stream",
     "text": [
      "[*********************100%***********************]  1 of 1 completed\n",
      "TER testing r2_score: 0.8474737169586308\n",
      "TER testing MSE score: 6.486162789082968\n",
      "TER : tomorrow's price: [109.89900907]\n",
      "TER Success!\n",
      " \n",
      " \n",
      "Analyzing TSLA\n"
     ]
    },
    {
     "name": "stderr",
     "output_type": "stream",
     "text": [
      "<ipython-input-452-1cd440387d10>:47: SettingWithCopyWarning: \n",
      "A value is trying to be set on a copy of a slice from a DataFrame.\n",
      "Try using .loc[row_indexer,col_indexer] = value instead\n",
      "\n",
      "See the caveats in the documentation: https://pandas.pydata.org/pandas-docs/stable/user_guide/indexing.html#returning-a-view-versus-a-copy\n",
      "  data_sub['t_minus1_high'] = data_sub['high'].shift(1)\n",
      "<ipython-input-452-1cd440387d10>:48: SettingWithCopyWarning: \n",
      "A value is trying to be set on a copy of a slice from a DataFrame.\n",
      "Try using .loc[row_indexer,col_indexer] = value instead\n",
      "\n",
      "See the caveats in the documentation: https://pandas.pydata.org/pandas-docs/stable/user_guide/indexing.html#returning-a-view-versus-a-copy\n",
      "  data_sub['t_minus1_low'] = data_sub['low'].shift(1)\n"
     ]
    },
    {
     "name": "stdout",
     "output_type": "stream",
     "text": [
      "[*********************100%***********************]  1 of 1 completed\n",
      "TSLA testing r2_score: 0.9418641951200586\n",
      "TSLA testing MSE score: 234.79190148566514\n",
      "TSLA : tomorrow's price: [774.06145328]\n",
      "TSLA Success!\n",
      " \n",
      " \n",
      "Analyzing TXN\n"
     ]
    },
    {
     "name": "stderr",
     "output_type": "stream",
     "text": [
      "<ipython-input-452-1cd440387d10>:47: SettingWithCopyWarning: \n",
      "A value is trying to be set on a copy of a slice from a DataFrame.\n",
      "Try using .loc[row_indexer,col_indexer] = value instead\n",
      "\n",
      "See the caveats in the documentation: https://pandas.pydata.org/pandas-docs/stable/user_guide/indexing.html#returning-a-view-versus-a-copy\n",
      "  data_sub['t_minus1_high'] = data_sub['high'].shift(1)\n",
      "<ipython-input-452-1cd440387d10>:48: SettingWithCopyWarning: \n",
      "A value is trying to be set on a copy of a slice from a DataFrame.\n",
      "Try using .loc[row_indexer,col_indexer] = value instead\n",
      "\n",
      "See the caveats in the documentation: https://pandas.pydata.org/pandas-docs/stable/user_guide/indexing.html#returning-a-view-versus-a-copy\n",
      "  data_sub['t_minus1_low'] = data_sub['low'].shift(1)\n"
     ]
    },
    {
     "name": "stdout",
     "output_type": "stream",
     "text": [
      "[*********************100%***********************]  1 of 1 completed\n",
      "TXN testing r2_score: 0.6700876845215515\n",
      "TXN testing MSE score: 6.484367125266729\n",
      "TXN : tomorrow's price: [193.56173388]\n",
      "TXN Success!\n",
      " \n",
      " \n",
      "Analyzing TXT\n"
     ]
    },
    {
     "name": "stderr",
     "output_type": "stream",
     "text": [
      "<ipython-input-452-1cd440387d10>:47: SettingWithCopyWarning: \n",
      "A value is trying to be set on a copy of a slice from a DataFrame.\n",
      "Try using .loc[row_indexer,col_indexer] = value instead\n",
      "\n",
      "See the caveats in the documentation: https://pandas.pydata.org/pandas-docs/stable/user_guide/indexing.html#returning-a-view-versus-a-copy\n",
      "  data_sub['t_minus1_high'] = data_sub['high'].shift(1)\n",
      "<ipython-input-452-1cd440387d10>:48: SettingWithCopyWarning: \n",
      "A value is trying to be set on a copy of a slice from a DataFrame.\n",
      "Try using .loc[row_indexer,col_indexer] = value instead\n",
      "\n",
      "See the caveats in the documentation: https://pandas.pydata.org/pandas-docs/stable/user_guide/indexing.html#returning-a-view-versus-a-copy\n",
      "  data_sub['t_minus1_low'] = data_sub['low'].shift(1)\n"
     ]
    },
    {
     "name": "stdout",
     "output_type": "stream",
     "text": [
      "[*********************100%***********************]  1 of 1 completed\n",
      "TXT testing r2_score: 0.7938046947934735\n",
      "TXT testing MSE score: 1.342667765352802\n",
      "TXT : tomorrow's price: [71.10820807]\n",
      "TXT Success!\n",
      " \n",
      " \n",
      "Analyzing COO\n"
     ]
    },
    {
     "name": "stderr",
     "output_type": "stream",
     "text": [
      "<ipython-input-452-1cd440387d10>:47: SettingWithCopyWarning: \n",
      "A value is trying to be set on a copy of a slice from a DataFrame.\n",
      "Try using .loc[row_indexer,col_indexer] = value instead\n",
      "\n",
      "See the caveats in the documentation: https://pandas.pydata.org/pandas-docs/stable/user_guide/indexing.html#returning-a-view-versus-a-copy\n",
      "  data_sub['t_minus1_high'] = data_sub['high'].shift(1)\n",
      "<ipython-input-452-1cd440387d10>:48: SettingWithCopyWarning: \n",
      "A value is trying to be set on a copy of a slice from a DataFrame.\n",
      "Try using .loc[row_indexer,col_indexer] = value instead\n",
      "\n",
      "See the caveats in the documentation: https://pandas.pydata.org/pandas-docs/stable/user_guide/indexing.html#returning-a-view-versus-a-copy\n",
      "  data_sub['t_minus1_low'] = data_sub['low'].shift(1)\n"
     ]
    },
    {
     "name": "stdout",
     "output_type": "stream",
     "text": [
      "[*********************100%***********************]  1 of 1 completed\n",
      "COO testing r2_score: 0.9451451750217859\n",
      "COO testing MSE score: 27.954450781741595\n",
      "COO : tomorrow's price: [414.11862708]\n",
      "COO Success!\n",
      " \n",
      " \n",
      "Analyzing HIG\n"
     ]
    },
    {
     "name": "stderr",
     "output_type": "stream",
     "text": [
      "<ipython-input-452-1cd440387d10>:47: SettingWithCopyWarning: \n",
      "A value is trying to be set on a copy of a slice from a DataFrame.\n",
      "Try using .loc[row_indexer,col_indexer] = value instead\n",
      "\n",
      "See the caveats in the documentation: https://pandas.pydata.org/pandas-docs/stable/user_guide/indexing.html#returning-a-view-versus-a-copy\n",
      "  data_sub['t_minus1_high'] = data_sub['high'].shift(1)\n",
      "<ipython-input-452-1cd440387d10>:48: SettingWithCopyWarning: \n",
      "A value is trying to be set on a copy of a slice from a DataFrame.\n",
      "Try using .loc[row_indexer,col_indexer] = value instead\n",
      "\n",
      "See the caveats in the documentation: https://pandas.pydata.org/pandas-docs/stable/user_guide/indexing.html#returning-a-view-versus-a-copy\n",
      "  data_sub['t_minus1_low'] = data_sub['low'].shift(1)\n"
     ]
    },
    {
     "name": "stdout",
     "output_type": "stream",
     "text": [
      "[*********************100%***********************]  1 of 1 completed\n",
      "HIG testing r2_score: 0.9182454537152671\n",
      "HIG testing MSE score: 0.8073816946579322\n",
      "HIG : tomorrow's price: [70.75735095]\n",
      "HIG Success!\n",
      " \n",
      " \n",
      "Analyzing HSY\n"
     ]
    },
    {
     "name": "stderr",
     "output_type": "stream",
     "text": [
      "<ipython-input-452-1cd440387d10>:47: SettingWithCopyWarning: \n",
      "A value is trying to be set on a copy of a slice from a DataFrame.\n",
      "Try using .loc[row_indexer,col_indexer] = value instead\n",
      "\n",
      "See the caveats in the documentation: https://pandas.pydata.org/pandas-docs/stable/user_guide/indexing.html#returning-a-view-versus-a-copy\n",
      "  data_sub['t_minus1_high'] = data_sub['high'].shift(1)\n",
      "<ipython-input-452-1cd440387d10>:48: SettingWithCopyWarning: \n",
      "A value is trying to be set on a copy of a slice from a DataFrame.\n",
      "Try using .loc[row_indexer,col_indexer] = value instead\n",
      "\n",
      "See the caveats in the documentation: https://pandas.pydata.org/pandas-docs/stable/user_guide/indexing.html#returning-a-view-versus-a-copy\n",
      "  data_sub['t_minus1_low'] = data_sub['low'].shift(1)\n"
     ]
    },
    {
     "name": "stdout",
     "output_type": "stream",
     "text": [
      "[*********************100%***********************]  1 of 1 completed\n",
      "HSY testing r2_score: 0.7786043220549594\n",
      "HSY testing MSE score: 3.0290982670467748\n",
      "HSY : tomorrow's price: [169.54224224]\n",
      "HSY Success!\n",
      " \n",
      " \n",
      "Analyzing MOS\n"
     ]
    },
    {
     "name": "stderr",
     "output_type": "stream",
     "text": [
      "<ipython-input-452-1cd440387d10>:47: SettingWithCopyWarning: \n",
      "A value is trying to be set on a copy of a slice from a DataFrame.\n",
      "Try using .loc[row_indexer,col_indexer] = value instead\n",
      "\n",
      "See the caveats in the documentation: https://pandas.pydata.org/pandas-docs/stable/user_guide/indexing.html#returning-a-view-versus-a-copy\n",
      "  data_sub['t_minus1_high'] = data_sub['high'].shift(1)\n",
      "<ipython-input-452-1cd440387d10>:48: SettingWithCopyWarning: \n",
      "A value is trying to be set on a copy of a slice from a DataFrame.\n",
      "Try using .loc[row_indexer,col_indexer] = value instead\n",
      "\n",
      "See the caveats in the documentation: https://pandas.pydata.org/pandas-docs/stable/user_guide/indexing.html#returning-a-view-versus-a-copy\n",
      "  data_sub['t_minus1_low'] = data_sub['low'].shift(1)\n"
     ]
    },
    {
     "name": "stdout",
     "output_type": "stream",
     "text": [
      "[*********************100%***********************]  1 of 1 completed\n",
      "MOS testing r2_score: 0.9214946294846118\n",
      "MOS testing MSE score: 0.6755503204226926\n",
      "MOS : tomorrow's price: [37.88360746]\n",
      "MOS Success!\n",
      " \n",
      " \n",
      "Analyzing TRV\n"
     ]
    },
    {
     "name": "stderr",
     "output_type": "stream",
     "text": [
      "<ipython-input-452-1cd440387d10>:47: SettingWithCopyWarning: \n",
      "A value is trying to be set on a copy of a slice from a DataFrame.\n",
      "Try using .loc[row_indexer,col_indexer] = value instead\n",
      "\n",
      "See the caveats in the documentation: https://pandas.pydata.org/pandas-docs/stable/user_guide/indexing.html#returning-a-view-versus-a-copy\n",
      "  data_sub['t_minus1_high'] = data_sub['high'].shift(1)\n",
      "<ipython-input-452-1cd440387d10>:48: SettingWithCopyWarning: \n",
      "A value is trying to be set on a copy of a slice from a DataFrame.\n",
      "Try using .loc[row_indexer,col_indexer] = value instead\n",
      "\n",
      "See the caveats in the documentation: https://pandas.pydata.org/pandas-docs/stable/user_guide/indexing.html#returning-a-view-versus-a-copy\n",
      "  data_sub['t_minus1_low'] = data_sub['low'].shift(1)\n"
     ]
    },
    {
     "name": "stdout",
     "output_type": "stream",
     "text": [
      "[*********************100%***********************]  1 of 1 completed\n",
      "TRV testing r2_score: 0.7571488724593989\n",
      "TRV testing MSE score: 4.0028003340090565\n",
      "TRV : tomorrow's price: [151.83890501]\n",
      "TRV Success!\n",
      " \n",
      " \n",
      "Analyzing DIS\n"
     ]
    },
    {
     "name": "stderr",
     "output_type": "stream",
     "text": [
      "<ipython-input-452-1cd440387d10>:47: SettingWithCopyWarning: \n",
      "A value is trying to be set on a copy of a slice from a DataFrame.\n",
      "Try using .loc[row_indexer,col_indexer] = value instead\n",
      "\n",
      "See the caveats in the documentation: https://pandas.pydata.org/pandas-docs/stable/user_guide/indexing.html#returning-a-view-versus-a-copy\n",
      "  data_sub['t_minus1_high'] = data_sub['high'].shift(1)\n",
      "<ipython-input-452-1cd440387d10>:48: SettingWithCopyWarning: \n",
      "A value is trying to be set on a copy of a slice from a DataFrame.\n",
      "Try using .loc[row_indexer,col_indexer] = value instead\n",
      "\n",
      "See the caveats in the documentation: https://pandas.pydata.org/pandas-docs/stable/user_guide/indexing.html#returning-a-view-versus-a-copy\n",
      "  data_sub['t_minus1_low'] = data_sub['low'].shift(1)\n"
     ]
    },
    {
     "name": "stdout",
     "output_type": "stream",
     "text": [
      "[*********************100%***********************]  1 of 1 completed\n",
      "DIS testing r2_score: 0.6448008312539368\n",
      "DIS testing MSE score: 5.784984649270038\n",
      "DIS : tomorrow's price: [175.12293425]\n",
      "DIS Success!\n",
      " \n",
      " \n",
      "Analyzing TMO\n"
     ]
    },
    {
     "name": "stderr",
     "output_type": "stream",
     "text": [
      "<ipython-input-452-1cd440387d10>:47: SettingWithCopyWarning: \n",
      "A value is trying to be set on a copy of a slice from a DataFrame.\n",
      "Try using .loc[row_indexer,col_indexer] = value instead\n",
      "\n",
      "See the caveats in the documentation: https://pandas.pydata.org/pandas-docs/stable/user_guide/indexing.html#returning-a-view-versus-a-copy\n",
      "  data_sub['t_minus1_high'] = data_sub['high'].shift(1)\n",
      "<ipython-input-452-1cd440387d10>:48: SettingWithCopyWarning: \n",
      "A value is trying to be set on a copy of a slice from a DataFrame.\n",
      "Try using .loc[row_indexer,col_indexer] = value instead\n",
      "\n",
      "See the caveats in the documentation: https://pandas.pydata.org/pandas-docs/stable/user_guide/indexing.html#returning-a-view-versus-a-copy\n",
      "  data_sub['t_minus1_low'] = data_sub['low'].shift(1)\n"
     ]
    },
    {
     "name": "stdout",
     "output_type": "stream",
     "text": [
      "[*********************100%***********************]  1 of 1 completed\n",
      "TMO testing r2_score: 0.9755592172839387\n",
      "TMO testing MSE score: 53.53861319406263\n",
      "TMO : tomorrow's price: [572.64149153]\n",
      "TMO Success!\n",
      " \n",
      " \n",
      "Analyzing TJX\n"
     ]
    },
    {
     "name": "stderr",
     "output_type": "stream",
     "text": [
      "<ipython-input-452-1cd440387d10>:47: SettingWithCopyWarning: \n",
      "A value is trying to be set on a copy of a slice from a DataFrame.\n",
      "Try using .loc[row_indexer,col_indexer] = value instead\n",
      "\n",
      "See the caveats in the documentation: https://pandas.pydata.org/pandas-docs/stable/user_guide/indexing.html#returning-a-view-versus-a-copy\n",
      "  data_sub['t_minus1_high'] = data_sub['high'].shift(1)\n",
      "<ipython-input-452-1cd440387d10>:48: SettingWithCopyWarning: \n",
      "A value is trying to be set on a copy of a slice from a DataFrame.\n",
      "Try using .loc[row_indexer,col_indexer] = value instead\n",
      "\n",
      "See the caveats in the documentation: https://pandas.pydata.org/pandas-docs/stable/user_guide/indexing.html#returning-a-view-versus-a-copy\n",
      "  data_sub['t_minus1_low'] = data_sub['low'].shift(1)\n"
     ]
    },
    {
     "name": "stdout",
     "output_type": "stream",
     "text": [
      "[*********************100%***********************]  1 of 1 completed\n",
      "TJX testing r2_score: 0.8473326039814612\n",
      "TJX testing MSE score: 1.2567363525821114\n",
      "TJX : tomorrow's price: [66.28802933]\n",
      "TJX Success!\n",
      " \n",
      " \n",
      "Analyzing TSCO\n"
     ]
    },
    {
     "name": "stderr",
     "output_type": "stream",
     "text": [
      "<ipython-input-452-1cd440387d10>:47: SettingWithCopyWarning: \n",
      "A value is trying to be set on a copy of a slice from a DataFrame.\n",
      "Try using .loc[row_indexer,col_indexer] = value instead\n",
      "\n",
      "See the caveats in the documentation: https://pandas.pydata.org/pandas-docs/stable/user_guide/indexing.html#returning-a-view-versus-a-copy\n",
      "  data_sub['t_minus1_high'] = data_sub['high'].shift(1)\n",
      "<ipython-input-452-1cd440387d10>:48: SettingWithCopyWarning: \n",
      "A value is trying to be set on a copy of a slice from a DataFrame.\n",
      "Try using .loc[row_indexer,col_indexer] = value instead\n",
      "\n",
      "See the caveats in the documentation: https://pandas.pydata.org/pandas-docs/stable/user_guide/indexing.html#returning-a-view-versus-a-copy\n",
      "  data_sub['t_minus1_low'] = data_sub['low'].shift(1)\n"
     ]
    },
    {
     "name": "stdout",
     "output_type": "stream",
     "text": [
      "[*********************100%***********************]  1 of 1 completed\n",
      "TSCO testing r2_score: 0.9068583651574245\n",
      "TSCO testing MSE score: 7.4446045291665435\n",
      "TSCO : tomorrow's price: [201.37270318]\n",
      "TSCO Success!\n",
      " \n",
      " \n",
      "Analyzing TT\n"
     ]
    },
    {
     "name": "stderr",
     "output_type": "stream",
     "text": [
      "<ipython-input-452-1cd440387d10>:47: SettingWithCopyWarning: \n",
      "A value is trying to be set on a copy of a slice from a DataFrame.\n",
      "Try using .loc[row_indexer,col_indexer] = value instead\n",
      "\n",
      "See the caveats in the documentation: https://pandas.pydata.org/pandas-docs/stable/user_guide/indexing.html#returning-a-view-versus-a-copy\n",
      "  data_sub['t_minus1_high'] = data_sub['high'].shift(1)\n",
      "<ipython-input-452-1cd440387d10>:48: SettingWithCopyWarning: \n",
      "A value is trying to be set on a copy of a slice from a DataFrame.\n",
      "Try using .loc[row_indexer,col_indexer] = value instead\n",
      "\n",
      "See the caveats in the documentation: https://pandas.pydata.org/pandas-docs/stable/user_guide/indexing.html#returning-a-view-versus-a-copy\n",
      "  data_sub['t_minus1_low'] = data_sub['low'].shift(1)\n"
     ]
    },
    {
     "name": "stdout",
     "output_type": "stream",
     "text": [
      "[*********************100%***********************]  1 of 1 completed\n",
      "TT testing r2_score: 0.907115283429278\n",
      "TT testing MSE score: 6.856939494164805\n",
      "TT : tomorrow's price: [174.47386334]\n",
      "TT Success!\n",
      " \n",
      " \n",
      "Analyzing TDG\n"
     ]
    },
    {
     "name": "stderr",
     "output_type": "stream",
     "text": [
      "<ipython-input-452-1cd440387d10>:47: SettingWithCopyWarning: \n",
      "A value is trying to be set on a copy of a slice from a DataFrame.\n",
      "Try using .loc[row_indexer,col_indexer] = value instead\n",
      "\n",
      "See the caveats in the documentation: https://pandas.pydata.org/pandas-docs/stable/user_guide/indexing.html#returning-a-view-versus-a-copy\n",
      "  data_sub['t_minus1_high'] = data_sub['high'].shift(1)\n",
      "<ipython-input-452-1cd440387d10>:48: SettingWithCopyWarning: \n",
      "A value is trying to be set on a copy of a slice from a DataFrame.\n",
      "Try using .loc[row_indexer,col_indexer] = value instead\n",
      "\n",
      "See the caveats in the documentation: https://pandas.pydata.org/pandas-docs/stable/user_guide/indexing.html#returning-a-view-versus-a-copy\n",
      "  data_sub['t_minus1_low'] = data_sub['low'].shift(1)\n"
     ]
    },
    {
     "name": "stdout",
     "output_type": "stream",
     "text": [
      "[*********************100%***********************]  1 of 1 completed\n",
      "TDG testing r2_score: 0.874854298705982\n",
      "TDG testing MSE score: 85.55292424899804\n",
      "TDG : tomorrow's price: [649.49334117]\n",
      "TDG Success!\n",
      " \n",
      " \n",
      "Analyzing TRMB\n"
     ]
    },
    {
     "name": "stderr",
     "output_type": "stream",
     "text": [
      "<ipython-input-452-1cd440387d10>:47: SettingWithCopyWarning: \n",
      "A value is trying to be set on a copy of a slice from a DataFrame.\n",
      "Try using .loc[row_indexer,col_indexer] = value instead\n",
      "\n",
      "See the caveats in the documentation: https://pandas.pydata.org/pandas-docs/stable/user_guide/indexing.html#returning-a-view-versus-a-copy\n",
      "  data_sub['t_minus1_high'] = data_sub['high'].shift(1)\n",
      "<ipython-input-452-1cd440387d10>:48: SettingWithCopyWarning: \n",
      "A value is trying to be set on a copy of a slice from a DataFrame.\n",
      "Try using .loc[row_indexer,col_indexer] = value instead\n",
      "\n",
      "See the caveats in the documentation: https://pandas.pydata.org/pandas-docs/stable/user_guide/indexing.html#returning-a-view-versus-a-copy\n",
      "  data_sub['t_minus1_low'] = data_sub['low'].shift(1)\n"
     ]
    },
    {
     "name": "stdout",
     "output_type": "stream",
     "text": [
      "[*********************100%***********************]  1 of 1 completed\n",
      "TRMB testing r2_score: 0.9498540855318112\n",
      "TRMB testing MSE score: 1.6558485430063261\n",
      "TRMB : tomorrow's price: [84.19446287]\n",
      "TRMB Success!\n",
      " \n",
      " \n",
      "Analyzing TFC\n"
     ]
    },
    {
     "name": "stderr",
     "output_type": "stream",
     "text": [
      "<ipython-input-452-1cd440387d10>:47: SettingWithCopyWarning: \n",
      "A value is trying to be set on a copy of a slice from a DataFrame.\n",
      "Try using .loc[row_indexer,col_indexer] = value instead\n",
      "\n",
      "See the caveats in the documentation: https://pandas.pydata.org/pandas-docs/stable/user_guide/indexing.html#returning-a-view-versus-a-copy\n",
      "  data_sub['t_minus1_high'] = data_sub['high'].shift(1)\n",
      "<ipython-input-452-1cd440387d10>:48: SettingWithCopyWarning: \n",
      "A value is trying to be set on a copy of a slice from a DataFrame.\n",
      "Try using .loc[row_indexer,col_indexer] = value instead\n",
      "\n",
      "See the caveats in the documentation: https://pandas.pydata.org/pandas-docs/stable/user_guide/indexing.html#returning-a-view-versus-a-copy\n",
      "  data_sub['t_minus1_low'] = data_sub['low'].shift(1)\n"
     ]
    },
    {
     "name": "stdout",
     "output_type": "stream",
     "text": [
      "[*********************100%***********************]  1 of 1 completed\n",
      "TFC testing r2_score: 0.8457356467440008\n",
      "TFC testing MSE score: 1.0272250158598255\n",
      "TFC : tomorrow's price: [60.0587148]\n",
      "TFC Success!\n",
      " \n",
      " \n",
      "Analyzing TWTR\n"
     ]
    },
    {
     "name": "stderr",
     "output_type": "stream",
     "text": [
      "<ipython-input-452-1cd440387d10>:47: SettingWithCopyWarning: \n",
      "A value is trying to be set on a copy of a slice from a DataFrame.\n",
      "Try using .loc[row_indexer,col_indexer] = value instead\n",
      "\n",
      "See the caveats in the documentation: https://pandas.pydata.org/pandas-docs/stable/user_guide/indexing.html#returning-a-view-versus-a-copy\n",
      "  data_sub['t_minus1_high'] = data_sub['high'].shift(1)\n",
      "<ipython-input-452-1cd440387d10>:48: SettingWithCopyWarning: \n",
      "A value is trying to be set on a copy of a slice from a DataFrame.\n",
      "Try using .loc[row_indexer,col_indexer] = value instead\n",
      "\n",
      "See the caveats in the documentation: https://pandas.pydata.org/pandas-docs/stable/user_guide/indexing.html#returning-a-view-versus-a-copy\n",
      "  data_sub['t_minus1_low'] = data_sub['low'].shift(1)\n"
     ]
    },
    {
     "name": "stdout",
     "output_type": "stream",
     "text": [
      "[*********************100%***********************]  1 of 1 completed\n",
      "TWTR testing r2_score: 0.9005235688301535\n",
      "TWTR testing MSE score: 2.711760245032774\n",
      "TWTR : tomorrow's price: [61.9607974]\n",
      "TWTR Success!\n",
      " \n",
      " \n",
      "Analyzing TYL\n"
     ]
    },
    {
     "name": "stderr",
     "output_type": "stream",
     "text": [
      "<ipython-input-452-1cd440387d10>:47: SettingWithCopyWarning: \n",
      "A value is trying to be set on a copy of a slice from a DataFrame.\n",
      "Try using .loc[row_indexer,col_indexer] = value instead\n",
      "\n",
      "See the caveats in the documentation: https://pandas.pydata.org/pandas-docs/stable/user_guide/indexing.html#returning-a-view-versus-a-copy\n",
      "  data_sub['t_minus1_high'] = data_sub['high'].shift(1)\n",
      "<ipython-input-452-1cd440387d10>:48: SettingWithCopyWarning: \n",
      "A value is trying to be set on a copy of a slice from a DataFrame.\n",
      "Try using .loc[row_indexer,col_indexer] = value instead\n",
      "\n",
      "See the caveats in the documentation: https://pandas.pydata.org/pandas-docs/stable/user_guide/indexing.html#returning-a-view-versus-a-copy\n",
      "  data_sub['t_minus1_low'] = data_sub['low'].shift(1)\n"
     ]
    },
    {
     "name": "stdout",
     "output_type": "stream",
     "text": [
      "[*********************100%***********************]  1 of 1 completed\n",
      "TYL testing r2_score: 0.9691480952754317\n",
      "TYL testing MSE score: 33.40708697135581\n",
      "TYL : tomorrow's price: [463.92713576]\n",
      "TYL Success!\n",
      " \n",
      " \n",
      "Analyzing TSN\n"
     ]
    },
    {
     "name": "stderr",
     "output_type": "stream",
     "text": [
      "<ipython-input-452-1cd440387d10>:47: SettingWithCopyWarning: \n",
      "A value is trying to be set on a copy of a slice from a DataFrame.\n",
      "Try using .loc[row_indexer,col_indexer] = value instead\n",
      "\n",
      "See the caveats in the documentation: https://pandas.pydata.org/pandas-docs/stable/user_guide/indexing.html#returning-a-view-versus-a-copy\n",
      "  data_sub['t_minus1_high'] = data_sub['high'].shift(1)\n",
      "<ipython-input-452-1cd440387d10>:48: SettingWithCopyWarning: \n",
      "A value is trying to be set on a copy of a slice from a DataFrame.\n",
      "Try using .loc[row_indexer,col_indexer] = value instead\n",
      "\n",
      "See the caveats in the documentation: https://pandas.pydata.org/pandas-docs/stable/user_guide/indexing.html#returning-a-view-versus-a-copy\n",
      "  data_sub['t_minus1_low'] = data_sub['low'].shift(1)\n"
     ]
    },
    {
     "name": "stdout",
     "output_type": "stream",
     "text": [
      "[*********************100%***********************]  1 of 1 completed\n",
      "TSN testing r2_score: 0.9201448200980646\n",
      "TSN testing MSE score: 0.8081832616461955\n",
      "TSN : tomorrow's price: [77.85445868]\n",
      "TSN Success!\n",
      " \n",
      " \n",
      "Analyzing USB\n"
     ]
    },
    {
     "name": "stderr",
     "output_type": "stream",
     "text": [
      "<ipython-input-452-1cd440387d10>:47: SettingWithCopyWarning: \n",
      "A value is trying to be set on a copy of a slice from a DataFrame.\n",
      "Try using .loc[row_indexer,col_indexer] = value instead\n",
      "\n",
      "See the caveats in the documentation: https://pandas.pydata.org/pandas-docs/stable/user_guide/indexing.html#returning-a-view-versus-a-copy\n",
      "  data_sub['t_minus1_high'] = data_sub['high'].shift(1)\n",
      "<ipython-input-452-1cd440387d10>:48: SettingWithCopyWarning: \n",
      "A value is trying to be set on a copy of a slice from a DataFrame.\n",
      "Try using .loc[row_indexer,col_indexer] = value instead\n",
      "\n",
      "See the caveats in the documentation: https://pandas.pydata.org/pandas-docs/stable/user_guide/indexing.html#returning-a-view-versus-a-copy\n",
      "  data_sub['t_minus1_low'] = data_sub['low'].shift(1)\n"
     ]
    },
    {
     "name": "stdout",
     "output_type": "stream",
     "text": [
      "[*********************100%***********************]  1 of 1 completed\n",
      "USB testing r2_score: 0.8018005515331003\n",
      "USB testing MSE score: 0.8976267524613228\n",
      "USB : tomorrow's price: [60.61616075]\n",
      "USB Success!\n",
      " \n",
      " \n",
      "Analyzing UDR\n"
     ]
    },
    {
     "name": "stderr",
     "output_type": "stream",
     "text": [
      "<ipython-input-452-1cd440387d10>:47: SettingWithCopyWarning: \n",
      "A value is trying to be set on a copy of a slice from a DataFrame.\n",
      "Try using .loc[row_indexer,col_indexer] = value instead\n",
      "\n",
      "See the caveats in the documentation: https://pandas.pydata.org/pandas-docs/stable/user_guide/indexing.html#returning-a-view-versus-a-copy\n",
      "  data_sub['t_minus1_high'] = data_sub['high'].shift(1)\n",
      "<ipython-input-452-1cd440387d10>:48: SettingWithCopyWarning: \n",
      "A value is trying to be set on a copy of a slice from a DataFrame.\n",
      "Try using .loc[row_indexer,col_indexer] = value instead\n",
      "\n",
      "See the caveats in the documentation: https://pandas.pydata.org/pandas-docs/stable/user_guide/indexing.html#returning-a-view-versus-a-copy\n",
      "  data_sub['t_minus1_low'] = data_sub['low'].shift(1)\n"
     ]
    },
    {
     "name": "stdout",
     "output_type": "stream",
     "text": [
      "[*********************100%***********************]  1 of 1 completed\n",
      "UDR testing r2_score: 0.9595054616439938\n",
      "UDR testing MSE score: 0.37948110586306405\n",
      "UDR : tomorrow's price: [53.17026075]\n",
      "UDR Success!\n",
      " \n",
      " \n",
      "Analyzing ULTA\n"
     ]
    },
    {
     "name": "stderr",
     "output_type": "stream",
     "text": [
      "<ipython-input-452-1cd440387d10>:47: SettingWithCopyWarning: \n",
      "A value is trying to be set on a copy of a slice from a DataFrame.\n",
      "Try using .loc[row_indexer,col_indexer] = value instead\n",
      "\n",
      "See the caveats in the documentation: https://pandas.pydata.org/pandas-docs/stable/user_guide/indexing.html#returning-a-view-versus-a-copy\n",
      "  data_sub['t_minus1_high'] = data_sub['high'].shift(1)\n",
      "<ipython-input-452-1cd440387d10>:48: SettingWithCopyWarning: \n",
      "A value is trying to be set on a copy of a slice from a DataFrame.\n",
      "Try using .loc[row_indexer,col_indexer] = value instead\n",
      "\n",
      "See the caveats in the documentation: https://pandas.pydata.org/pandas-docs/stable/user_guide/indexing.html#returning-a-view-versus-a-copy\n",
      "  data_sub['t_minus1_low'] = data_sub['low'].shift(1)\n"
     ]
    },
    {
     "name": "stdout",
     "output_type": "stream",
     "text": [
      "[*********************100%***********************]  1 of 1 completed\n",
      "ULTA testing r2_score: 0.9285946637073879\n",
      "ULTA testing MSE score: 38.48097785835079\n",
      "ULTA : tomorrow's price: [366.56524213]\n",
      "ULTA Success!\n",
      " \n",
      " \n",
      "Analyzing UAA\n"
     ]
    },
    {
     "name": "stderr",
     "output_type": "stream",
     "text": [
      "<ipython-input-452-1cd440387d10>:47: SettingWithCopyWarning: \n",
      "A value is trying to be set on a copy of a slice from a DataFrame.\n",
      "Try using .loc[row_indexer,col_indexer] = value instead\n",
      "\n",
      "See the caveats in the documentation: https://pandas.pydata.org/pandas-docs/stable/user_guide/indexing.html#returning-a-view-versus-a-copy\n",
      "  data_sub['t_minus1_high'] = data_sub['high'].shift(1)\n",
      "<ipython-input-452-1cd440387d10>:48: SettingWithCopyWarning: \n",
      "A value is trying to be set on a copy of a slice from a DataFrame.\n",
      "Try using .loc[row_indexer,col_indexer] = value instead\n",
      "\n",
      "See the caveats in the documentation: https://pandas.pydata.org/pandas-docs/stable/user_guide/indexing.html#returning-a-view-versus-a-copy\n",
      "  data_sub['t_minus1_low'] = data_sub['low'].shift(1)\n"
     ]
    },
    {
     "name": "stdout",
     "output_type": "stream",
     "text": [
      "[*********************100%***********************]  1 of 1 completed\n",
      "UAA testing r2_score: 0.8859910018370996\n",
      "UAA testing MSE score: 0.2934556502113816\n",
      "UAA : tomorrow's price: [20.75451848]\n",
      "UAA Success!\n",
      " \n",
      " \n",
      "Analyzing UA\n"
     ]
    },
    {
     "name": "stderr",
     "output_type": "stream",
     "text": [
      "<ipython-input-452-1cd440387d10>:47: SettingWithCopyWarning: \n",
      "A value is trying to be set on a copy of a slice from a DataFrame.\n",
      "Try using .loc[row_indexer,col_indexer] = value instead\n",
      "\n",
      "See the caveats in the documentation: https://pandas.pydata.org/pandas-docs/stable/user_guide/indexing.html#returning-a-view-versus-a-copy\n",
      "  data_sub['t_minus1_high'] = data_sub['high'].shift(1)\n",
      "<ipython-input-452-1cd440387d10>:48: SettingWithCopyWarning: \n",
      "A value is trying to be set on a copy of a slice from a DataFrame.\n",
      "Try using .loc[row_indexer,col_indexer] = value instead\n",
      "\n",
      "See the caveats in the documentation: https://pandas.pydata.org/pandas-docs/stable/user_guide/indexing.html#returning-a-view-versus-a-copy\n",
      "  data_sub['t_minus1_low'] = data_sub['low'].shift(1)\n"
     ]
    },
    {
     "name": "stdout",
     "output_type": "stream",
     "text": [
      "[*********************100%***********************]  1 of 1 completed\n",
      "UA testing r2_score: 0.8577810652604902\n",
      "UA testing MSE score: 0.19470943683846628\n",
      "UA : tomorrow's price: [18.0105349]\n",
      "UA Success!\n",
      " \n",
      " \n",
      "Analyzing UNP\n"
     ]
    },
    {
     "name": "stderr",
     "output_type": "stream",
     "text": [
      "<ipython-input-452-1cd440387d10>:47: SettingWithCopyWarning: \n",
      "A value is trying to be set on a copy of a slice from a DataFrame.\n",
      "Try using .loc[row_indexer,col_indexer] = value instead\n",
      "\n",
      "See the caveats in the documentation: https://pandas.pydata.org/pandas-docs/stable/user_guide/indexing.html#returning-a-view-versus-a-copy\n",
      "  data_sub['t_minus1_high'] = data_sub['high'].shift(1)\n",
      "<ipython-input-452-1cd440387d10>:48: SettingWithCopyWarning: \n",
      "A value is trying to be set on a copy of a slice from a DataFrame.\n",
      "Try using .loc[row_indexer,col_indexer] = value instead\n",
      "\n",
      "See the caveats in the documentation: https://pandas.pydata.org/pandas-docs/stable/user_guide/indexing.html#returning-a-view-versus-a-copy\n",
      "  data_sub['t_minus1_low'] = data_sub['low'].shift(1)\n"
     ]
    },
    {
     "name": "stdout",
     "output_type": "stream",
     "text": [
      "[*********************100%***********************]  1 of 1 completed\n",
      "UNP testing r2_score: 0.8987930733447779\n",
      "UNP testing MSE score: 6.073206411085562\n",
      "UNP : tomorrow's price: [200.26027384]\n",
      "UNP Success!\n",
      " \n",
      " \n",
      "Analyzing UAL\n"
     ]
    },
    {
     "name": "stderr",
     "output_type": "stream",
     "text": [
      "<ipython-input-452-1cd440387d10>:47: SettingWithCopyWarning: \n",
      "A value is trying to be set on a copy of a slice from a DataFrame.\n",
      "Try using .loc[row_indexer,col_indexer] = value instead\n",
      "\n",
      "See the caveats in the documentation: https://pandas.pydata.org/pandas-docs/stable/user_guide/indexing.html#returning-a-view-versus-a-copy\n",
      "  data_sub['t_minus1_high'] = data_sub['high'].shift(1)\n",
      "<ipython-input-452-1cd440387d10>:48: SettingWithCopyWarning: \n",
      "A value is trying to be set on a copy of a slice from a DataFrame.\n",
      "Try using .loc[row_indexer,col_indexer] = value instead\n",
      "\n",
      "See the caveats in the documentation: https://pandas.pydata.org/pandas-docs/stable/user_guide/indexing.html#returning-a-view-versus-a-copy\n",
      "  data_sub['t_minus1_low'] = data_sub['low'].shift(1)\n"
     ]
    },
    {
     "name": "stdout",
     "output_type": "stream",
     "text": [
      "[*********************100%***********************]  1 of 1 completed\n",
      "UAL testing r2_score: 0.932675955712475\n",
      "UAL testing MSE score: 1.2953306015721164\n",
      "UAL : tomorrow's price: [51.12884928]\n",
      "UAL Success!\n",
      " \n",
      " \n",
      "Analyzing UPS\n"
     ]
    },
    {
     "name": "stderr",
     "output_type": "stream",
     "text": [
      "<ipython-input-452-1cd440387d10>:47: SettingWithCopyWarning: \n",
      "A value is trying to be set on a copy of a slice from a DataFrame.\n",
      "Try using .loc[row_indexer,col_indexer] = value instead\n",
      "\n",
      "See the caveats in the documentation: https://pandas.pydata.org/pandas-docs/stable/user_guide/indexing.html#returning-a-view-versus-a-copy\n",
      "  data_sub['t_minus1_high'] = data_sub['high'].shift(1)\n",
      "<ipython-input-452-1cd440387d10>:48: SettingWithCopyWarning: \n",
      "A value is trying to be set on a copy of a slice from a DataFrame.\n",
      "Try using .loc[row_indexer,col_indexer] = value instead\n",
      "\n",
      "See the caveats in the documentation: https://pandas.pydata.org/pandas-docs/stable/user_guide/indexing.html#returning-a-view-versus-a-copy\n",
      "  data_sub['t_minus1_low'] = data_sub['low'].shift(1)\n"
     ]
    },
    {
     "name": "stdout",
     "output_type": "stream",
     "text": [
      "[*********************100%***********************]  1 of 1 completed\n",
      "UPS testing r2_score: 0.9379618722317253\n",
      "UPS testing MSE score: 7.54264582043874\n",
      "UPS : tomorrow's price: [181.26110677]\n",
      "UPS Success!\n",
      " \n",
      " \n",
      "Analyzing URI\n"
     ]
    },
    {
     "name": "stderr",
     "output_type": "stream",
     "text": [
      "<ipython-input-452-1cd440387d10>:47: SettingWithCopyWarning: \n",
      "A value is trying to be set on a copy of a slice from a DataFrame.\n",
      "Try using .loc[row_indexer,col_indexer] = value instead\n",
      "\n",
      "See the caveats in the documentation: https://pandas.pydata.org/pandas-docs/stable/user_guide/indexing.html#returning-a-view-versus-a-copy\n",
      "  data_sub['t_minus1_high'] = data_sub['high'].shift(1)\n",
      "<ipython-input-452-1cd440387d10>:48: SettingWithCopyWarning: \n",
      "A value is trying to be set on a copy of a slice from a DataFrame.\n",
      "Try using .loc[row_indexer,col_indexer] = value instead\n",
      "\n",
      "See the caveats in the documentation: https://pandas.pydata.org/pandas-docs/stable/user_guide/indexing.html#returning-a-view-versus-a-copy\n",
      "  data_sub['t_minus1_low'] = data_sub['low'].shift(1)\n"
     ]
    },
    {
     "name": "stdout",
     "output_type": "stream",
     "text": [
      "[*********************100%***********************]  1 of 1 completed\n",
      "URI testing r2_score: 0.8300313586455313\n",
      "URI testing MSE score: 47.774316334004176\n",
      "URI : tomorrow's price: [359.28031091]\n",
      "URI Success!\n",
      " \n",
      " \n",
      "Analyzing UNH\n"
     ]
    },
    {
     "name": "stderr",
     "output_type": "stream",
     "text": [
      "<ipython-input-452-1cd440387d10>:47: SettingWithCopyWarning: \n",
      "A value is trying to be set on a copy of a slice from a DataFrame.\n",
      "Try using .loc[row_indexer,col_indexer] = value instead\n",
      "\n",
      "See the caveats in the documentation: https://pandas.pydata.org/pandas-docs/stable/user_guide/indexing.html#returning-a-view-versus-a-copy\n",
      "  data_sub['t_minus1_high'] = data_sub['high'].shift(1)\n",
      "<ipython-input-452-1cd440387d10>:48: SettingWithCopyWarning: \n",
      "A value is trying to be set on a copy of a slice from a DataFrame.\n",
      "Try using .loc[row_indexer,col_indexer] = value instead\n",
      "\n",
      "See the caveats in the documentation: https://pandas.pydata.org/pandas-docs/stable/user_guide/indexing.html#returning-a-view-versus-a-copy\n",
      "  data_sub['t_minus1_low'] = data_sub['low'].shift(1)\n"
     ]
    },
    {
     "name": "stdout",
     "output_type": "stream",
     "text": [
      "[*********************100%***********************]  1 of 1 completed\n",
      "UNH testing r2_score: 0.67512905106744\n",
      "UNH testing MSE score: 23.633539665386383\n",
      "UNH : tomorrow's price: [389.57859954]\n",
      "UNH Success!\n",
      " \n",
      " \n",
      "Analyzing UHS\n"
     ]
    },
    {
     "name": "stderr",
     "output_type": "stream",
     "text": [
      "<ipython-input-452-1cd440387d10>:47: SettingWithCopyWarning: \n",
      "A value is trying to be set on a copy of a slice from a DataFrame.\n",
      "Try using .loc[row_indexer,col_indexer] = value instead\n",
      "\n",
      "See the caveats in the documentation: https://pandas.pydata.org/pandas-docs/stable/user_guide/indexing.html#returning-a-view-versus-a-copy\n",
      "  data_sub['t_minus1_high'] = data_sub['high'].shift(1)\n",
      "<ipython-input-452-1cd440387d10>:48: SettingWithCopyWarning: \n",
      "A value is trying to be set on a copy of a slice from a DataFrame.\n",
      "Try using .loc[row_indexer,col_indexer] = value instead\n",
      "\n",
      "See the caveats in the documentation: https://pandas.pydata.org/pandas-docs/stable/user_guide/indexing.html#returning-a-view-versus-a-copy\n",
      "  data_sub['t_minus1_low'] = data_sub['low'].shift(1)\n"
     ]
    },
    {
     "name": "stdout",
     "output_type": "stream",
     "text": [
      "[*********************100%***********************]  1 of 1 completed\n",
      "UHS testing r2_score: 0.9126047343172536\n",
      "UHS testing MSE score: 4.955045621817148\n",
      "UHS : tomorrow's price: [138.49159666]\n",
      "UHS Success!\n",
      " \n",
      " \n",
      "Analyzing VLO\n"
     ]
    },
    {
     "name": "stderr",
     "output_type": "stream",
     "text": [
      "<ipython-input-452-1cd440387d10>:47: SettingWithCopyWarning: \n",
      "A value is trying to be set on a copy of a slice from a DataFrame.\n",
      "Try using .loc[row_indexer,col_indexer] = value instead\n",
      "\n",
      "See the caveats in the documentation: https://pandas.pydata.org/pandas-docs/stable/user_guide/indexing.html#returning-a-view-versus-a-copy\n",
      "  data_sub['t_minus1_high'] = data_sub['high'].shift(1)\n",
      "<ipython-input-452-1cd440387d10>:48: SettingWithCopyWarning: \n",
      "A value is trying to be set on a copy of a slice from a DataFrame.\n",
      "Try using .loc[row_indexer,col_indexer] = value instead\n",
      "\n",
      "See the caveats in the documentation: https://pandas.pydata.org/pandas-docs/stable/user_guide/indexing.html#returning-a-view-versus-a-copy\n",
      "  data_sub['t_minus1_low'] = data_sub['low'].shift(1)\n"
     ]
    },
    {
     "name": "stdout",
     "output_type": "stream",
     "text": [
      "[*********************100%***********************]  1 of 1 completed\n",
      "VLO testing r2_score: 0.9440222998582934\n",
      "VLO testing MSE score: 2.8035225813168942\n",
      "VLO : tomorrow's price: [73.34111989]\n",
      "VLO Success!\n",
      " \n",
      " \n",
      "Analyzing VTR\n"
     ]
    },
    {
     "name": "stderr",
     "output_type": "stream",
     "text": [
      "<ipython-input-452-1cd440387d10>:47: SettingWithCopyWarning: \n",
      "A value is trying to be set on a copy of a slice from a DataFrame.\n",
      "Try using .loc[row_indexer,col_indexer] = value instead\n",
      "\n",
      "See the caveats in the documentation: https://pandas.pydata.org/pandas-docs/stable/user_guide/indexing.html#returning-a-view-versus-a-copy\n",
      "  data_sub['t_minus1_high'] = data_sub['high'].shift(1)\n",
      "<ipython-input-452-1cd440387d10>:48: SettingWithCopyWarning: \n",
      "A value is trying to be set on a copy of a slice from a DataFrame.\n",
      "Try using .loc[row_indexer,col_indexer] = value instead\n",
      "\n",
      "See the caveats in the documentation: https://pandas.pydata.org/pandas-docs/stable/user_guide/indexing.html#returning-a-view-versus-a-copy\n",
      "  data_sub['t_minus1_low'] = data_sub['low'].shift(1)\n"
     ]
    },
    {
     "name": "stdout",
     "output_type": "stream",
     "text": [
      "[*********************100%***********************]  1 of 1 completed\n",
      "VTR testing r2_score: 0.809332776764704\n",
      "VTR testing MSE score: 0.6415443454685588\n",
      "VTR : tomorrow's price: [55.91275313]\n",
      "VTR Success!\n",
      " \n",
      " \n",
      "Analyzing VRSN\n"
     ]
    },
    {
     "name": "stderr",
     "output_type": "stream",
     "text": [
      "<ipython-input-452-1cd440387d10>:47: SettingWithCopyWarning: \n",
      "A value is trying to be set on a copy of a slice from a DataFrame.\n",
      "Try using .loc[row_indexer,col_indexer] = value instead\n",
      "\n",
      "See the caveats in the documentation: https://pandas.pydata.org/pandas-docs/stable/user_guide/indexing.html#returning-a-view-versus-a-copy\n",
      "  data_sub['t_minus1_high'] = data_sub['high'].shift(1)\n",
      "<ipython-input-452-1cd440387d10>:48: SettingWithCopyWarning: \n",
      "A value is trying to be set on a copy of a slice from a DataFrame.\n",
      "Try using .loc[row_indexer,col_indexer] = value instead\n",
      "\n",
      "See the caveats in the documentation: https://pandas.pydata.org/pandas-docs/stable/user_guide/indexing.html#returning-a-view-versus-a-copy\n",
      "  data_sub['t_minus1_low'] = data_sub['low'].shift(1)\n"
     ]
    },
    {
     "name": "stdout",
     "output_type": "stream",
     "text": [
      "[*********************100%***********************]  1 of 1 completed\n",
      "VRSN testing r2_score: 0.8884454043862753\n",
      "VRSN testing MSE score: 5.638377492367431\n",
      "VRSN : tomorrow's price: [206.00814293]\n",
      "VRSN Success!\n",
      " \n",
      " \n",
      "Analyzing VRSK\n"
     ]
    },
    {
     "name": "stderr",
     "output_type": "stream",
     "text": [
      "<ipython-input-452-1cd440387d10>:47: SettingWithCopyWarning: \n",
      "A value is trying to be set on a copy of a slice from a DataFrame.\n",
      "Try using .loc[row_indexer,col_indexer] = value instead\n",
      "\n",
      "See the caveats in the documentation: https://pandas.pydata.org/pandas-docs/stable/user_guide/indexing.html#returning-a-view-versus-a-copy\n",
      "  data_sub['t_minus1_high'] = data_sub['high'].shift(1)\n",
      "<ipython-input-452-1cd440387d10>:48: SettingWithCopyWarning: \n",
      "A value is trying to be set on a copy of a slice from a DataFrame.\n",
      "Try using .loc[row_indexer,col_indexer] = value instead\n",
      "\n",
      "See the caveats in the documentation: https://pandas.pydata.org/pandas-docs/stable/user_guide/indexing.html#returning-a-view-versus-a-copy\n",
      "  data_sub['t_minus1_low'] = data_sub['low'].shift(1)\n"
     ]
    },
    {
     "name": "stdout",
     "output_type": "stream",
     "text": [
      "[*********************100%***********************]  1 of 1 completed\n",
      "VRSK testing r2_score: 0.9643576864896443\n",
      "VRSK testing MSE score: 5.855938790025657\n",
      "VRSK : tomorrow's price: [199.7774991]\n",
      "VRSK Success!\n",
      " \n",
      " \n",
      "Analyzing VZ\n"
     ]
    },
    {
     "name": "stderr",
     "output_type": "stream",
     "text": [
      "<ipython-input-452-1cd440387d10>:47: SettingWithCopyWarning: \n",
      "A value is trying to be set on a copy of a slice from a DataFrame.\n",
      "Try using .loc[row_indexer,col_indexer] = value instead\n",
      "\n",
      "See the caveats in the documentation: https://pandas.pydata.org/pandas-docs/stable/user_guide/indexing.html#returning-a-view-versus-a-copy\n",
      "  data_sub['t_minus1_high'] = data_sub['high'].shift(1)\n",
      "<ipython-input-452-1cd440387d10>:48: SettingWithCopyWarning: \n",
      "A value is trying to be set on a copy of a slice from a DataFrame.\n",
      "Try using .loc[row_indexer,col_indexer] = value instead\n",
      "\n",
      "See the caveats in the documentation: https://pandas.pydata.org/pandas-docs/stable/user_guide/indexing.html#returning-a-view-versus-a-copy\n",
      "  data_sub['t_minus1_low'] = data_sub['low'].shift(1)\n"
     ]
    },
    {
     "name": "stdout",
     "output_type": "stream",
     "text": [
      "[*********************100%***********************]  1 of 1 completed\n",
      "VZ testing r2_score: 0.925620104314719\n",
      "VZ testing MSE score: 0.16542564007456914\n",
      "VZ : tomorrow's price: [54.37168163]\n",
      "VZ Success!\n",
      " \n",
      " \n",
      "Analyzing VRTX\n"
     ]
    },
    {
     "name": "stderr",
     "output_type": "stream",
     "text": [
      "<ipython-input-452-1cd440387d10>:47: SettingWithCopyWarning: \n",
      "A value is trying to be set on a copy of a slice from a DataFrame.\n",
      "Try using .loc[row_indexer,col_indexer] = value instead\n",
      "\n",
      "See the caveats in the documentation: https://pandas.pydata.org/pandas-docs/stable/user_guide/indexing.html#returning-a-view-versus-a-copy\n",
      "  data_sub['t_minus1_high'] = data_sub['high'].shift(1)\n",
      "<ipython-input-452-1cd440387d10>:48: SettingWithCopyWarning: \n",
      "A value is trying to be set on a copy of a slice from a DataFrame.\n",
      "Try using .loc[row_indexer,col_indexer] = value instead\n",
      "\n",
      "See the caveats in the documentation: https://pandas.pydata.org/pandas-docs/stable/user_guide/indexing.html#returning-a-view-versus-a-copy\n",
      "  data_sub['t_minus1_low'] = data_sub['low'].shift(1)\n"
     ]
    },
    {
     "name": "stdout",
     "output_type": "stream",
     "text": [
      "[*********************100%***********************]  1 of 1 completed\n",
      "VRTX testing r2_score: 0.9202548130662876\n",
      "VRTX testing MSE score: 9.384841327707257\n",
      "VRTX : tomorrow's price: [180.35912626]\n",
      "VRTX Success!\n",
      " \n",
      " \n",
      "Analyzing VFC\n"
     ]
    },
    {
     "name": "stderr",
     "output_type": "stream",
     "text": [
      "<ipython-input-452-1cd440387d10>:47: SettingWithCopyWarning: \n",
      "A value is trying to be set on a copy of a slice from a DataFrame.\n",
      "Try using .loc[row_indexer,col_indexer] = value instead\n",
      "\n",
      "See the caveats in the documentation: https://pandas.pydata.org/pandas-docs/stable/user_guide/indexing.html#returning-a-view-versus-a-copy\n",
      "  data_sub['t_minus1_high'] = data_sub['high'].shift(1)\n",
      "<ipython-input-452-1cd440387d10>:48: SettingWithCopyWarning: \n",
      "A value is trying to be set on a copy of a slice from a DataFrame.\n",
      "Try using .loc[row_indexer,col_indexer] = value instead\n",
      "\n",
      "See the caveats in the documentation: https://pandas.pydata.org/pandas-docs/stable/user_guide/indexing.html#returning-a-view-versus-a-copy\n",
      "  data_sub['t_minus1_low'] = data_sub['low'].shift(1)\n"
     ]
    },
    {
     "name": "stdout",
     "output_type": "stream",
     "text": [
      "[*********************100%***********************]  1 of 1 completed\n",
      "VFC testing r2_score: 0.9374047079177419\n",
      "VFC testing MSE score: 2.2662307301365168\n",
      "VFC : tomorrow's price: [68.1390488]\n",
      "VFC Success!\n",
      " \n",
      " \n",
      "Analyzing VIAC\n"
     ]
    },
    {
     "name": "stderr",
     "output_type": "stream",
     "text": [
      "<ipython-input-452-1cd440387d10>:47: SettingWithCopyWarning: \n",
      "A value is trying to be set on a copy of a slice from a DataFrame.\n",
      "Try using .loc[row_indexer,col_indexer] = value instead\n",
      "\n",
      "See the caveats in the documentation: https://pandas.pydata.org/pandas-docs/stable/user_guide/indexing.html#returning-a-view-versus-a-copy\n",
      "  data_sub['t_minus1_high'] = data_sub['high'].shift(1)\n",
      "<ipython-input-452-1cd440387d10>:48: SettingWithCopyWarning: \n",
      "A value is trying to be set on a copy of a slice from a DataFrame.\n",
      "Try using .loc[row_indexer,col_indexer] = value instead\n",
      "\n",
      "See the caveats in the documentation: https://pandas.pydata.org/pandas-docs/stable/user_guide/indexing.html#returning-a-view-versus-a-copy\n",
      "  data_sub['t_minus1_low'] = data_sub['low'].shift(1)\n"
     ]
    },
    {
     "name": "stdout",
     "output_type": "stream",
     "text": [
      "[*********************100%***********************]  1 of 1 completed\n",
      "VIAC testing r2_score: 0.6515616130905455\n",
      "VIAC testing MSE score: 0.8072221200683429\n",
      "VIAC : tomorrow's price: [39.91455553]\n",
      "VIAC Success!\n",
      " \n",
      " \n",
      "Analyzing VTRS\n"
     ]
    },
    {
     "name": "stderr",
     "output_type": "stream",
     "text": [
      "<ipython-input-452-1cd440387d10>:47: SettingWithCopyWarning: \n",
      "A value is trying to be set on a copy of a slice from a DataFrame.\n",
      "Try using .loc[row_indexer,col_indexer] = value instead\n",
      "\n",
      "See the caveats in the documentation: https://pandas.pydata.org/pandas-docs/stable/user_guide/indexing.html#returning-a-view-versus-a-copy\n",
      "  data_sub['t_minus1_high'] = data_sub['high'].shift(1)\n",
      "<ipython-input-452-1cd440387d10>:48: SettingWithCopyWarning: \n",
      "A value is trying to be set on a copy of a slice from a DataFrame.\n",
      "Try using .loc[row_indexer,col_indexer] = value instead\n",
      "\n",
      "See the caveats in the documentation: https://pandas.pydata.org/pandas-docs/stable/user_guide/indexing.html#returning-a-view-versus-a-copy\n",
      "  data_sub['t_minus1_low'] = data_sub['low'].shift(1)\n"
     ]
    },
    {
     "name": "stdout",
     "output_type": "stream",
     "text": [
      "[*********************100%***********************]  1 of 1 completed\n",
      "VTRS testing r2_score: 0.884448559344472\n",
      "VTRS testing MSE score: 0.0645597422123485\n",
      "VTRS : tomorrow's price: [13.62561641]\n",
      "VTRS Success!\n",
      " \n",
      " \n",
      "Analyzing V\n"
     ]
    },
    {
     "name": "stderr",
     "output_type": "stream",
     "text": [
      "<ipython-input-452-1cd440387d10>:47: SettingWithCopyWarning: \n",
      "A value is trying to be set on a copy of a slice from a DataFrame.\n",
      "Try using .loc[row_indexer,col_indexer] = value instead\n",
      "\n",
      "See the caveats in the documentation: https://pandas.pydata.org/pandas-docs/stable/user_guide/indexing.html#returning-a-view-versus-a-copy\n",
      "  data_sub['t_minus1_high'] = data_sub['high'].shift(1)\n",
      "<ipython-input-452-1cd440387d10>:48: SettingWithCopyWarning: \n",
      "A value is trying to be set on a copy of a slice from a DataFrame.\n",
      "Try using .loc[row_indexer,col_indexer] = value instead\n",
      "\n",
      "See the caveats in the documentation: https://pandas.pydata.org/pandas-docs/stable/user_guide/indexing.html#returning-a-view-versus-a-copy\n",
      "  data_sub['t_minus1_low'] = data_sub['low'].shift(1)\n"
     ]
    },
    {
     "name": "stdout",
     "output_type": "stream",
     "text": [
      "[*********************100%***********************]  1 of 1 completed\n",
      "V testing r2_score: 0.8519941613813199\n",
      "V testing MSE score: 7.483738710735151\n",
      "V : tomorrow's price: [227.78314047]\n",
      "V Success!\n",
      " \n",
      " \n",
      "Analyzing VNO\n"
     ]
    },
    {
     "name": "stderr",
     "output_type": "stream",
     "text": [
      "<ipython-input-452-1cd440387d10>:47: SettingWithCopyWarning: \n",
      "A value is trying to be set on a copy of a slice from a DataFrame.\n",
      "Try using .loc[row_indexer,col_indexer] = value instead\n",
      "\n",
      "See the caveats in the documentation: https://pandas.pydata.org/pandas-docs/stable/user_guide/indexing.html#returning-a-view-versus-a-copy\n",
      "  data_sub['t_minus1_high'] = data_sub['high'].shift(1)\n",
      "<ipython-input-452-1cd440387d10>:48: SettingWithCopyWarning: \n",
      "A value is trying to be set on a copy of a slice from a DataFrame.\n",
      "Try using .loc[row_indexer,col_indexer] = value instead\n",
      "\n",
      "See the caveats in the documentation: https://pandas.pydata.org/pandas-docs/stable/user_guide/indexing.html#returning-a-view-versus-a-copy\n",
      "  data_sub['t_minus1_low'] = data_sub['low'].shift(1)\n"
     ]
    },
    {
     "name": "stdout",
     "output_type": "stream",
     "text": [
      "[*********************100%***********************]  1 of 1 completed\n",
      "VNO testing r2_score: 0.9015521923830979\n",
      "VNO testing MSE score: 0.6554763572286766\n",
      "VNO : tomorrow's price: [43.39766711]\n",
      "VNO Success!\n",
      " \n",
      " \n",
      "Analyzing VMC\n"
     ]
    },
    {
     "name": "stderr",
     "output_type": "stream",
     "text": [
      "<ipython-input-452-1cd440387d10>:47: SettingWithCopyWarning: \n",
      "A value is trying to be set on a copy of a slice from a DataFrame.\n",
      "Try using .loc[row_indexer,col_indexer] = value instead\n",
      "\n",
      "See the caveats in the documentation: https://pandas.pydata.org/pandas-docs/stable/user_guide/indexing.html#returning-a-view-versus-a-copy\n",
      "  data_sub['t_minus1_high'] = data_sub['high'].shift(1)\n",
      "<ipython-input-452-1cd440387d10>:48: SettingWithCopyWarning: \n",
      "A value is trying to be set on a copy of a slice from a DataFrame.\n",
      "Try using .loc[row_indexer,col_indexer] = value instead\n",
      "\n",
      "See the caveats in the documentation: https://pandas.pydata.org/pandas-docs/stable/user_guide/indexing.html#returning-a-view-versus-a-copy\n",
      "  data_sub['t_minus1_low'] = data_sub['low'].shift(1)\n"
     ]
    },
    {
     "name": "stdout",
     "output_type": "stream",
     "text": [
      "[*********************100%***********************]  1 of 1 completed\n",
      "VMC testing r2_score: 0.8405517522985113\n",
      "VMC testing MSE score: 7.193338166644814\n",
      "VMC : tomorrow's price: [172.25782688]\n",
      "VMC Success!\n",
      " \n",
      " \n",
      "Analyzing WRB\n"
     ]
    },
    {
     "name": "stderr",
     "output_type": "stream",
     "text": [
      "<ipython-input-452-1cd440387d10>:47: SettingWithCopyWarning: \n",
      "A value is trying to be set on a copy of a slice from a DataFrame.\n",
      "Try using .loc[row_indexer,col_indexer] = value instead\n",
      "\n",
      "See the caveats in the documentation: https://pandas.pydata.org/pandas-docs/stable/user_guide/indexing.html#returning-a-view-versus-a-copy\n",
      "  data_sub['t_minus1_high'] = data_sub['high'].shift(1)\n",
      "<ipython-input-452-1cd440387d10>:48: SettingWithCopyWarning: \n",
      "A value is trying to be set on a copy of a slice from a DataFrame.\n",
      "Try using .loc[row_indexer,col_indexer] = value instead\n",
      "\n",
      "See the caveats in the documentation: https://pandas.pydata.org/pandas-docs/stable/user_guide/indexing.html#returning-a-view-versus-a-copy\n",
      "  data_sub['t_minus1_low'] = data_sub['low'].shift(1)\n"
     ]
    },
    {
     "name": "stdout",
     "output_type": "stream",
     "text": [
      "[*********************100%***********************]  1 of 1 completed\n",
      "WRB testing r2_score: 0.8244581304838898\n",
      "WRB testing MSE score: 0.9581907840688634\n",
      "WRB : tomorrow's price: [73.91232257]\n",
      "WRB Success!\n",
      " \n",
      " \n",
      "Analyzing GWW\n"
     ]
    },
    {
     "name": "stderr",
     "output_type": "stream",
     "text": [
      "<ipython-input-452-1cd440387d10>:47: SettingWithCopyWarning: \n",
      "A value is trying to be set on a copy of a slice from a DataFrame.\n",
      "Try using .loc[row_indexer,col_indexer] = value instead\n",
      "\n",
      "See the caveats in the documentation: https://pandas.pydata.org/pandas-docs/stable/user_guide/indexing.html#returning-a-view-versus-a-copy\n",
      "  data_sub['t_minus1_high'] = data_sub['high'].shift(1)\n",
      "<ipython-input-452-1cd440387d10>:48: SettingWithCopyWarning: \n",
      "A value is trying to be set on a copy of a slice from a DataFrame.\n",
      "Try using .loc[row_indexer,col_indexer] = value instead\n",
      "\n",
      "See the caveats in the documentation: https://pandas.pydata.org/pandas-docs/stable/user_guide/indexing.html#returning-a-view-versus-a-copy\n",
      "  data_sub['t_minus1_low'] = data_sub['low'].shift(1)\n"
     ]
    },
    {
     "name": "stdout",
     "output_type": "stream",
     "text": [
      "[*********************100%***********************]  1 of 1 completed\n",
      "GWW testing r2_score: 0.9295796524884574\n",
      "GWW testing MSE score: 28.545964052015762\n",
      "GWW : tomorrow's price: [397.51828726]\n",
      "GWW Success!\n",
      " \n",
      " \n",
      "Analyzing WAB\n"
     ]
    },
    {
     "name": "stderr",
     "output_type": "stream",
     "text": [
      "<ipython-input-452-1cd440387d10>:47: SettingWithCopyWarning: \n",
      "A value is trying to be set on a copy of a slice from a DataFrame.\n",
      "Try using .loc[row_indexer,col_indexer] = value instead\n",
      "\n",
      "See the caveats in the documentation: https://pandas.pydata.org/pandas-docs/stable/user_guide/indexing.html#returning-a-view-versus-a-copy\n",
      "  data_sub['t_minus1_high'] = data_sub['high'].shift(1)\n",
      "<ipython-input-452-1cd440387d10>:48: SettingWithCopyWarning: \n",
      "A value is trying to be set on a copy of a slice from a DataFrame.\n",
      "Try using .loc[row_indexer,col_indexer] = value instead\n",
      "\n",
      "See the caveats in the documentation: https://pandas.pydata.org/pandas-docs/stable/user_guide/indexing.html#returning-a-view-versus-a-copy\n",
      "  data_sub['t_minus1_low'] = data_sub['low'].shift(1)\n"
     ]
    },
    {
     "name": "stdout",
     "output_type": "stream",
     "text": [
      "[*********************100%***********************]  1 of 1 completed\n",
      "WAB testing r2_score: 0.8964301192291687\n",
      "WAB testing MSE score: 1.5324007460613418\n",
      "WAB : tomorrow's price: [88.38658524]\n",
      "WAB Success!\n",
      " \n",
      " \n",
      "Analyzing WBA\n"
     ]
    },
    {
     "name": "stderr",
     "output_type": "stream",
     "text": [
      "<ipython-input-452-1cd440387d10>:47: SettingWithCopyWarning: \n",
      "A value is trying to be set on a copy of a slice from a DataFrame.\n",
      "Try using .loc[row_indexer,col_indexer] = value instead\n",
      "\n",
      "See the caveats in the documentation: https://pandas.pydata.org/pandas-docs/stable/user_guide/indexing.html#returning-a-view-versus-a-copy\n",
      "  data_sub['t_minus1_high'] = data_sub['high'].shift(1)\n",
      "<ipython-input-452-1cd440387d10>:48: SettingWithCopyWarning: \n",
      "A value is trying to be set on a copy of a slice from a DataFrame.\n",
      "Try using .loc[row_indexer,col_indexer] = value instead\n",
      "\n",
      "See the caveats in the documentation: https://pandas.pydata.org/pandas-docs/stable/user_guide/indexing.html#returning-a-view-versus-a-copy\n",
      "  data_sub['t_minus1_low'] = data_sub['low'].shift(1)\n"
     ]
    },
    {
     "name": "stdout",
     "output_type": "stream",
     "text": [
      "[*********************100%***********************]  1 of 1 completed\n",
      "WBA testing r2_score: 0.918207278718819\n",
      "WBA testing MSE score: 0.7290879417912469\n",
      "WBA : tomorrow's price: [46.73364665]\n",
      "WBA Success!\n",
      " \n",
      " \n",
      "Analyzing WMT\n"
     ]
    },
    {
     "name": "stderr",
     "output_type": "stream",
     "text": [
      "<ipython-input-452-1cd440387d10>:47: SettingWithCopyWarning: \n",
      "A value is trying to be set on a copy of a slice from a DataFrame.\n",
      "Try using .loc[row_indexer,col_indexer] = value instead\n",
      "\n",
      "See the caveats in the documentation: https://pandas.pydata.org/pandas-docs/stable/user_guide/indexing.html#returning-a-view-versus-a-copy\n",
      "  data_sub['t_minus1_high'] = data_sub['high'].shift(1)\n",
      "<ipython-input-452-1cd440387d10>:48: SettingWithCopyWarning: \n",
      "A value is trying to be set on a copy of a slice from a DataFrame.\n",
      "Try using .loc[row_indexer,col_indexer] = value instead\n",
      "\n",
      "See the caveats in the documentation: https://pandas.pydata.org/pandas-docs/stable/user_guide/indexing.html#returning-a-view-versus-a-copy\n",
      "  data_sub['t_minus1_low'] = data_sub['low'].shift(1)\n"
     ]
    },
    {
     "name": "stdout",
     "output_type": "stream",
     "text": [
      "[*********************100%***********************]  1 of 1 completed\n",
      "WMT testing r2_score: 0.9040887731844605\n",
      "WMT testing MSE score: 1.4112340390535316\n",
      "WMT : tomorrow's price: [137.14034323]\n",
      "WMT Success!\n",
      " \n",
      " \n",
      "Analyzing WM\n"
     ]
    },
    {
     "name": "stderr",
     "output_type": "stream",
     "text": [
      "<ipython-input-452-1cd440387d10>:47: SettingWithCopyWarning: \n",
      "A value is trying to be set on a copy of a slice from a DataFrame.\n",
      "Try using .loc[row_indexer,col_indexer] = value instead\n",
      "\n",
      "See the caveats in the documentation: https://pandas.pydata.org/pandas-docs/stable/user_guide/indexing.html#returning-a-view-versus-a-copy\n",
      "  data_sub['t_minus1_high'] = data_sub['high'].shift(1)\n",
      "<ipython-input-452-1cd440387d10>:48: SettingWithCopyWarning: \n",
      "A value is trying to be set on a copy of a slice from a DataFrame.\n",
      "Try using .loc[row_indexer,col_indexer] = value instead\n",
      "\n",
      "See the caveats in the documentation: https://pandas.pydata.org/pandas-docs/stable/user_guide/indexing.html#returning-a-view-versus-a-copy\n",
      "  data_sub['t_minus1_low'] = data_sub['low'].shift(1)\n"
     ]
    },
    {
     "name": "stdout",
     "output_type": "stream",
     "text": [
      "[*********************100%***********************]  1 of 1 completed\n",
      "WM testing r2_score: 0.9519743972910595\n",
      "WM testing MSE score: 1.6985768642596655\n",
      "WM : tomorrow's price: [149.30036]\n",
      "WM Success!\n",
      " \n",
      " \n",
      "Analyzing WAT\n"
     ]
    },
    {
     "name": "stderr",
     "output_type": "stream",
     "text": [
      "<ipython-input-452-1cd440387d10>:47: SettingWithCopyWarning: \n",
      "A value is trying to be set on a copy of a slice from a DataFrame.\n",
      "Try using .loc[row_indexer,col_indexer] = value instead\n",
      "\n",
      "See the caveats in the documentation: https://pandas.pydata.org/pandas-docs/stable/user_guide/indexing.html#returning-a-view-versus-a-copy\n",
      "  data_sub['t_minus1_high'] = data_sub['high'].shift(1)\n",
      "<ipython-input-452-1cd440387d10>:48: SettingWithCopyWarning: \n",
      "A value is trying to be set on a copy of a slice from a DataFrame.\n",
      "Try using .loc[row_indexer,col_indexer] = value instead\n",
      "\n",
      "See the caveats in the documentation: https://pandas.pydata.org/pandas-docs/stable/user_guide/indexing.html#returning-a-view-versus-a-copy\n",
      "  data_sub['t_minus1_low'] = data_sub['low'].shift(1)\n"
     ]
    },
    {
     "name": "stdout",
     "output_type": "stream",
     "text": [
      "[*********************100%***********************]  1 of 1 completed\n",
      "WAT testing r2_score: 0.9814739707297683\n",
      "WAT testing MSE score: 24.9806410009689\n",
      "WAT : tomorrow's price: [354.20519385]\n",
      "WAT Success!\n",
      " \n",
      " \n",
      "Analyzing WEC\n"
     ]
    },
    {
     "name": "stderr",
     "output_type": "stream",
     "text": [
      "<ipython-input-452-1cd440387d10>:47: SettingWithCopyWarning: \n",
      "A value is trying to be set on a copy of a slice from a DataFrame.\n",
      "Try using .loc[row_indexer,col_indexer] = value instead\n",
      "\n",
      "See the caveats in the documentation: https://pandas.pydata.org/pandas-docs/stable/user_guide/indexing.html#returning-a-view-versus-a-copy\n",
      "  data_sub['t_minus1_high'] = data_sub['high'].shift(1)\n",
      "<ipython-input-452-1cd440387d10>:48: SettingWithCopyWarning: \n",
      "A value is trying to be set on a copy of a slice from a DataFrame.\n",
      "Try using .loc[row_indexer,col_indexer] = value instead\n",
      "\n",
      "See the caveats in the documentation: https://pandas.pydata.org/pandas-docs/stable/user_guide/indexing.html#returning-a-view-versus-a-copy\n",
      "  data_sub['t_minus1_low'] = data_sub['low'].shift(1)\n"
     ]
    },
    {
     "name": "stdout",
     "output_type": "stream",
     "text": [
      "[*********************100%***********************]  1 of 1 completed\n",
      "WEC testing r2_score: 0.8660118682554988\n",
      "WEC testing MSE score: 1.0843441736223363\n",
      "WEC : tomorrow's price: [87.58938173]\n",
      "WEC Success!\n",
      " \n",
      " \n",
      "Analyzing WFC\n"
     ]
    },
    {
     "name": "stderr",
     "output_type": "stream",
     "text": [
      "<ipython-input-452-1cd440387d10>:47: SettingWithCopyWarning: \n",
      "A value is trying to be set on a copy of a slice from a DataFrame.\n",
      "Try using .loc[row_indexer,col_indexer] = value instead\n",
      "\n",
      "See the caveats in the documentation: https://pandas.pydata.org/pandas-docs/stable/user_guide/indexing.html#returning-a-view-versus-a-copy\n",
      "  data_sub['t_minus1_high'] = data_sub['high'].shift(1)\n",
      "<ipython-input-452-1cd440387d10>:48: SettingWithCopyWarning: \n",
      "A value is trying to be set on a copy of a slice from a DataFrame.\n",
      "Try using .loc[row_indexer,col_indexer] = value instead\n",
      "\n",
      "See the caveats in the documentation: https://pandas.pydata.org/pandas-docs/stable/user_guide/indexing.html#returning-a-view-versus-a-copy\n",
      "  data_sub['t_minus1_low'] = data_sub['low'].shift(1)\n"
     ]
    },
    {
     "name": "stdout",
     "output_type": "stream",
     "text": [
      "[*********************100%***********************]  1 of 1 completed\n",
      "WFC testing r2_score: 0.7296325557229535\n",
      "WFC testing MSE score: 0.8118417711438114\n",
      "WFC : tomorrow's price: [47.00067334]\n",
      "WFC Success!\n",
      " \n",
      " \n",
      "Analyzing WELL\n"
     ]
    },
    {
     "name": "stderr",
     "output_type": "stream",
     "text": [
      "<ipython-input-452-1cd440387d10>:47: SettingWithCopyWarning: \n",
      "A value is trying to be set on a copy of a slice from a DataFrame.\n",
      "Try using .loc[row_indexer,col_indexer] = value instead\n",
      "\n",
      "See the caveats in the documentation: https://pandas.pydata.org/pandas-docs/stable/user_guide/indexing.html#returning-a-view-versus-a-copy\n",
      "  data_sub['t_minus1_high'] = data_sub['high'].shift(1)\n",
      "<ipython-input-452-1cd440387d10>:48: SettingWithCopyWarning: \n",
      "A value is trying to be set on a copy of a slice from a DataFrame.\n",
      "Try using .loc[row_indexer,col_indexer] = value instead\n",
      "\n",
      "See the caveats in the documentation: https://pandas.pydata.org/pandas-docs/stable/user_guide/indexing.html#returning-a-view-versus-a-copy\n",
      "  data_sub['t_minus1_low'] = data_sub['low'].shift(1)\n"
     ]
    },
    {
     "name": "stdout",
     "output_type": "stream",
     "text": [
      "[*********************100%***********************]  1 of 1 completed\n",
      "WELL testing r2_score: 0.9330280045383302\n",
      "WELL testing MSE score: 1.6050793460155088\n",
      "WELL : tomorrow's price: [83.49519753]\n",
      "WELL Success!\n",
      " \n",
      " \n",
      "Analyzing WST\n"
     ]
    },
    {
     "name": "stderr",
     "output_type": "stream",
     "text": [
      "<ipython-input-452-1cd440387d10>:47: SettingWithCopyWarning: \n",
      "A value is trying to be set on a copy of a slice from a DataFrame.\n",
      "Try using .loc[row_indexer,col_indexer] = value instead\n",
      "\n",
      "See the caveats in the documentation: https://pandas.pydata.org/pandas-docs/stable/user_guide/indexing.html#returning-a-view-versus-a-copy\n",
      "  data_sub['t_minus1_high'] = data_sub['high'].shift(1)\n",
      "<ipython-input-452-1cd440387d10>:48: SettingWithCopyWarning: \n",
      "A value is trying to be set on a copy of a slice from a DataFrame.\n",
      "Try using .loc[row_indexer,col_indexer] = value instead\n",
      "\n",
      "See the caveats in the documentation: https://pandas.pydata.org/pandas-docs/stable/user_guide/indexing.html#returning-a-view-versus-a-copy\n",
      "  data_sub['t_minus1_low'] = data_sub['low'].shift(1)\n"
     ]
    },
    {
     "name": "stdout",
     "output_type": "stream",
     "text": [
      "[*********************100%***********************]  1 of 1 completed\n",
      "WST testing r2_score: 0.9875041775875216\n",
      "WST testing MSE score: 27.107048106934233\n",
      "WST : tomorrow's price: [420.30781627]\n",
      "WST Success!\n",
      " \n",
      " \n",
      "Analyzing WDC\n"
     ]
    },
    {
     "name": "stderr",
     "output_type": "stream",
     "text": [
      "<ipython-input-452-1cd440387d10>:47: SettingWithCopyWarning: \n",
      "A value is trying to be set on a copy of a slice from a DataFrame.\n",
      "Try using .loc[row_indexer,col_indexer] = value instead\n",
      "\n",
      "See the caveats in the documentation: https://pandas.pydata.org/pandas-docs/stable/user_guide/indexing.html#returning-a-view-versus-a-copy\n",
      "  data_sub['t_minus1_high'] = data_sub['high'].shift(1)\n",
      "<ipython-input-452-1cd440387d10>:48: SettingWithCopyWarning: \n",
      "A value is trying to be set on a copy of a slice from a DataFrame.\n",
      "Try using .loc[row_indexer,col_indexer] = value instead\n",
      "\n",
      "See the caveats in the documentation: https://pandas.pydata.org/pandas-docs/stable/user_guide/indexing.html#returning-a-view-versus-a-copy\n",
      "  data_sub['t_minus1_low'] = data_sub['low'].shift(1)\n"
     ]
    },
    {
     "name": "stdout",
     "output_type": "stream",
     "text": [
      "[*********************100%***********************]  1 of 1 completed\n",
      "WDC testing r2_score: 0.9353555045781402\n",
      "WDC testing MSE score: 2.6027189451205475\n",
      "WDC : tomorrow's price: [56.9886817]\n",
      "WDC Success!\n",
      " \n",
      " \n",
      "Analyzing WU\n"
     ]
    },
    {
     "name": "stderr",
     "output_type": "stream",
     "text": [
      "<ipython-input-452-1cd440387d10>:47: SettingWithCopyWarning: \n",
      "A value is trying to be set on a copy of a slice from a DataFrame.\n",
      "Try using .loc[row_indexer,col_indexer] = value instead\n",
      "\n",
      "See the caveats in the documentation: https://pandas.pydata.org/pandas-docs/stable/user_guide/indexing.html#returning-a-view-versus-a-copy\n",
      "  data_sub['t_minus1_high'] = data_sub['high'].shift(1)\n",
      "<ipython-input-452-1cd440387d10>:48: SettingWithCopyWarning: \n",
      "A value is trying to be set on a copy of a slice from a DataFrame.\n",
      "Try using .loc[row_indexer,col_indexer] = value instead\n",
      "\n",
      "See the caveats in the documentation: https://pandas.pydata.org/pandas-docs/stable/user_guide/indexing.html#returning-a-view-versus-a-copy\n",
      "  data_sub['t_minus1_low'] = data_sub['low'].shift(1)\n"
     ]
    },
    {
     "name": "stdout",
     "output_type": "stream",
     "text": [
      "[*********************100%***********************]  1 of 1 completed\n",
      "WU testing r2_score: 0.9633375012947615\n",
      "WU testing MSE score: 0.09807646485733842\n",
      "WU : tomorrow's price: [20.52418749]\n",
      "WU Success!\n",
      " \n",
      " \n",
      "Analyzing WRK\n"
     ]
    },
    {
     "name": "stderr",
     "output_type": "stream",
     "text": [
      "<ipython-input-452-1cd440387d10>:47: SettingWithCopyWarning: \n",
      "A value is trying to be set on a copy of a slice from a DataFrame.\n",
      "Try using .loc[row_indexer,col_indexer] = value instead\n",
      "\n",
      "See the caveats in the documentation: https://pandas.pydata.org/pandas-docs/stable/user_guide/indexing.html#returning-a-view-versus-a-copy\n",
      "  data_sub['t_minus1_high'] = data_sub['high'].shift(1)\n",
      "<ipython-input-452-1cd440387d10>:48: SettingWithCopyWarning: \n",
      "A value is trying to be set on a copy of a slice from a DataFrame.\n",
      "Try using .loc[row_indexer,col_indexer] = value instead\n",
      "\n",
      "See the caveats in the documentation: https://pandas.pydata.org/pandas-docs/stable/user_guide/indexing.html#returning-a-view-versus-a-copy\n",
      "  data_sub['t_minus1_low'] = data_sub['low'].shift(1)\n"
     ]
    },
    {
     "name": "stdout",
     "output_type": "stream",
     "text": [
      "[*********************100%***********************]  1 of 1 completed\n",
      "WRK testing r2_score: 0.9369410705356246\n",
      "WRK testing MSE score: 0.8545063527243556\n",
      "WRK : tomorrow's price: [50.79666648]\n",
      "WRK Success!\n",
      " \n",
      " \n",
      "Analyzing WY\n"
     ]
    },
    {
     "name": "stderr",
     "output_type": "stream",
     "text": [
      "<ipython-input-452-1cd440387d10>:47: SettingWithCopyWarning: \n",
      "A value is trying to be set on a copy of a slice from a DataFrame.\n",
      "Try using .loc[row_indexer,col_indexer] = value instead\n",
      "\n",
      "See the caveats in the documentation: https://pandas.pydata.org/pandas-docs/stable/user_guide/indexing.html#returning-a-view-versus-a-copy\n",
      "  data_sub['t_minus1_high'] = data_sub['high'].shift(1)\n",
      "<ipython-input-452-1cd440387d10>:48: SettingWithCopyWarning: \n",
      "A value is trying to be set on a copy of a slice from a DataFrame.\n",
      "Try using .loc[row_indexer,col_indexer] = value instead\n",
      "\n",
      "See the caveats in the documentation: https://pandas.pydata.org/pandas-docs/stable/user_guide/indexing.html#returning-a-view-versus-a-copy\n",
      "  data_sub['t_minus1_low'] = data_sub['low'].shift(1)\n"
     ]
    },
    {
     "name": "stdout",
     "output_type": "stream",
     "text": [
      "[*********************100%***********************]  1 of 1 completed\n",
      "WY testing r2_score: 0.8632763888954869\n",
      "WY testing MSE score: 0.38045835858578325\n",
      "WY : tomorrow's price: [35.65617211]\n",
      "WY Success!\n",
      " \n",
      " \n",
      "Analyzing WHR\n"
     ]
    },
    {
     "name": "stderr",
     "output_type": "stream",
     "text": [
      "<ipython-input-452-1cd440387d10>:47: SettingWithCopyWarning: \n",
      "A value is trying to be set on a copy of a slice from a DataFrame.\n",
      "Try using .loc[row_indexer,col_indexer] = value instead\n",
      "\n",
      "See the caveats in the documentation: https://pandas.pydata.org/pandas-docs/stable/user_guide/indexing.html#returning-a-view-versus-a-copy\n",
      "  data_sub['t_minus1_high'] = data_sub['high'].shift(1)\n",
      "<ipython-input-452-1cd440387d10>:48: SettingWithCopyWarning: \n",
      "A value is trying to be set on a copy of a slice from a DataFrame.\n",
      "Try using .loc[row_indexer,col_indexer] = value instead\n",
      "\n",
      "See the caveats in the documentation: https://pandas.pydata.org/pandas-docs/stable/user_guide/indexing.html#returning-a-view-versus-a-copy\n",
      "  data_sub['t_minus1_low'] = data_sub['low'].shift(1)\n"
     ]
    },
    {
     "name": "stdout",
     "output_type": "stream",
     "text": [
      "[*********************100%***********************]  1 of 1 completed\n",
      "WHR testing r2_score: 0.9272633222263201\n",
      "WHR testing MSE score: 11.158592311594068\n",
      "WHR : tomorrow's price: [204.87482398]\n",
      "WHR Success!\n",
      " \n",
      " \n",
      "Analyzing WMB\n"
     ]
    },
    {
     "name": "stderr",
     "output_type": "stream",
     "text": [
      "<ipython-input-452-1cd440387d10>:47: SettingWithCopyWarning: \n",
      "A value is trying to be set on a copy of a slice from a DataFrame.\n",
      "Try using .loc[row_indexer,col_indexer] = value instead\n",
      "\n",
      "See the caveats in the documentation: https://pandas.pydata.org/pandas-docs/stable/user_guide/indexing.html#returning-a-view-versus-a-copy\n",
      "  data_sub['t_minus1_high'] = data_sub['high'].shift(1)\n",
      "<ipython-input-452-1cd440387d10>:48: SettingWithCopyWarning: \n",
      "A value is trying to be set on a copy of a slice from a DataFrame.\n",
      "Try using .loc[row_indexer,col_indexer] = value instead\n",
      "\n",
      "See the caveats in the documentation: https://pandas.pydata.org/pandas-docs/stable/user_guide/indexing.html#returning-a-view-versus-a-copy\n",
      "  data_sub['t_minus1_low'] = data_sub['low'].shift(1)\n"
     ]
    },
    {
     "name": "stdout",
     "output_type": "stream",
     "text": [
      "[*********************100%***********************]  1 of 1 completed\n",
      "WMB testing r2_score: 0.9166735602551158\n",
      "WMB testing MSE score: 0.12371182228489813\n",
      "WMB : tomorrow's price: [26.36994874]\n",
      "WMB Success!\n",
      " \n",
      " \n",
      "Analyzing WLTW\n"
     ]
    },
    {
     "name": "stderr",
     "output_type": "stream",
     "text": [
      "<ipython-input-452-1cd440387d10>:47: SettingWithCopyWarning: \n",
      "A value is trying to be set on a copy of a slice from a DataFrame.\n",
      "Try using .loc[row_indexer,col_indexer] = value instead\n",
      "\n",
      "See the caveats in the documentation: https://pandas.pydata.org/pandas-docs/stable/user_guide/indexing.html#returning-a-view-versus-a-copy\n",
      "  data_sub['t_minus1_high'] = data_sub['high'].shift(1)\n",
      "<ipython-input-452-1cd440387d10>:48: SettingWithCopyWarning: \n",
      "A value is trying to be set on a copy of a slice from a DataFrame.\n",
      "Try using .loc[row_indexer,col_indexer] = value instead\n",
      "\n",
      "See the caveats in the documentation: https://pandas.pydata.org/pandas-docs/stable/user_guide/indexing.html#returning-a-view-versus-a-copy\n",
      "  data_sub['t_minus1_low'] = data_sub['low'].shift(1)\n"
     ]
    },
    {
     "name": "stdout",
     "output_type": "stream",
     "text": [
      "[*********************100%***********************]  1 of 1 completed\n",
      "WLTW testing r2_score: 0.9489253498222\n",
      "WLTW testing MSE score: 16.56320737943475\n",
      "WLTW : tomorrow's price: [239.77204896]\n",
      "WLTW Success!\n",
      " \n",
      " \n",
      "Analyzing WYNN\n"
     ]
    },
    {
     "name": "stderr",
     "output_type": "stream",
     "text": [
      "<ipython-input-452-1cd440387d10>:47: SettingWithCopyWarning: \n",
      "A value is trying to be set on a copy of a slice from a DataFrame.\n",
      "Try using .loc[row_indexer,col_indexer] = value instead\n",
      "\n",
      "See the caveats in the documentation: https://pandas.pydata.org/pandas-docs/stable/user_guide/indexing.html#returning-a-view-versus-a-copy\n",
      "  data_sub['t_minus1_high'] = data_sub['high'].shift(1)\n",
      "<ipython-input-452-1cd440387d10>:48: SettingWithCopyWarning: \n",
      "A value is trying to be set on a copy of a slice from a DataFrame.\n",
      "Try using .loc[row_indexer,col_indexer] = value instead\n",
      "\n",
      "See the caveats in the documentation: https://pandas.pydata.org/pandas-docs/stable/user_guide/indexing.html#returning-a-view-versus-a-copy\n",
      "  data_sub['t_minus1_low'] = data_sub['low'].shift(1)\n"
     ]
    },
    {
     "name": "stdout",
     "output_type": "stream",
     "text": [
      "[*********************100%***********************]  1 of 1 completed\n",
      "WYNN testing r2_score: 0.9738289327731171\n",
      "WYNN testing MSE score: 7.173347960014969\n",
      "WYNN : tomorrow's price: [87.78321944]\n",
      "WYNN Success!\n",
      " \n",
      " \n",
      "Analyzing XEL\n"
     ]
    },
    {
     "name": "stderr",
     "output_type": "stream",
     "text": [
      "<ipython-input-452-1cd440387d10>:47: SettingWithCopyWarning: \n",
      "A value is trying to be set on a copy of a slice from a DataFrame.\n",
      "Try using .loc[row_indexer,col_indexer] = value instead\n",
      "\n",
      "See the caveats in the documentation: https://pandas.pydata.org/pandas-docs/stable/user_guide/indexing.html#returning-a-view-versus-a-copy\n",
      "  data_sub['t_minus1_high'] = data_sub['high'].shift(1)\n",
      "<ipython-input-452-1cd440387d10>:48: SettingWithCopyWarning: \n",
      "A value is trying to be set on a copy of a slice from a DataFrame.\n",
      "Try using .loc[row_indexer,col_indexer] = value instead\n",
      "\n",
      "See the caveats in the documentation: https://pandas.pydata.org/pandas-docs/stable/user_guide/indexing.html#returning-a-view-versus-a-copy\n",
      "  data_sub['t_minus1_low'] = data_sub['low'].shift(1)\n"
     ]
    },
    {
     "name": "stdout",
     "output_type": "stream",
     "text": [
      "[*********************100%***********************]  1 of 1 completed\n",
      "XEL testing r2_score: 0.9172764407933035\n",
      "XEL testing MSE score: 0.5815612297445124\n",
      "XEL : tomorrow's price: [62.39210336]\n",
      "XEL Success!\n",
      " \n",
      " \n",
      "Analyzing XLNX\n"
     ]
    },
    {
     "name": "stderr",
     "output_type": "stream",
     "text": [
      "<ipython-input-452-1cd440387d10>:47: SettingWithCopyWarning: \n",
      "A value is trying to be set on a copy of a slice from a DataFrame.\n",
      "Try using .loc[row_indexer,col_indexer] = value instead\n",
      "\n",
      "See the caveats in the documentation: https://pandas.pydata.org/pandas-docs/stable/user_guide/indexing.html#returning-a-view-versus-a-copy\n",
      "  data_sub['t_minus1_high'] = data_sub['high'].shift(1)\n",
      "<ipython-input-452-1cd440387d10>:48: SettingWithCopyWarning: \n",
      "A value is trying to be set on a copy of a slice from a DataFrame.\n",
      "Try using .loc[row_indexer,col_indexer] = value instead\n",
      "\n",
      "See the caveats in the documentation: https://pandas.pydata.org/pandas-docs/stable/user_guide/indexing.html#returning-a-view-versus-a-copy\n",
      "  data_sub['t_minus1_low'] = data_sub['low'].shift(1)\n"
     ]
    },
    {
     "name": "stdout",
     "output_type": "stream",
     "text": [
      "[*********************100%***********************]  1 of 1 completed\n",
      "XLNX testing r2_score: 0.9396783645012019\n",
      "XLNX testing MSE score: 10.143169196957395\n",
      "XLNX : tomorrow's price: [151.84223055]\n",
      "XLNX Success!\n",
      " \n",
      " \n",
      "Analyzing XYL\n"
     ]
    },
    {
     "name": "stderr",
     "output_type": "stream",
     "text": [
      "<ipython-input-452-1cd440387d10>:47: SettingWithCopyWarning: \n",
      "A value is trying to be set on a copy of a slice from a DataFrame.\n",
      "Try using .loc[row_indexer,col_indexer] = value instead\n",
      "\n",
      "See the caveats in the documentation: https://pandas.pydata.org/pandas-docs/stable/user_guide/indexing.html#returning-a-view-versus-a-copy\n",
      "  data_sub['t_minus1_high'] = data_sub['high'].shift(1)\n",
      "<ipython-input-452-1cd440387d10>:48: SettingWithCopyWarning: \n",
      "A value is trying to be set on a copy of a slice from a DataFrame.\n",
      "Try using .loc[row_indexer,col_indexer] = value instead\n",
      "\n",
      "See the caveats in the documentation: https://pandas.pydata.org/pandas-docs/stable/user_guide/indexing.html#returning-a-view-versus-a-copy\n",
      "  data_sub['t_minus1_low'] = data_sub['low'].shift(1)\n"
     ]
    },
    {
     "name": "stdout",
     "output_type": "stream",
     "text": [
      "[*********************100%***********************]  1 of 1 completed\n",
      "XYL testing r2_score: 0.9470572627568903\n",
      "XYL testing MSE score: 2.755897283023232\n",
      "XYL : tomorrow's price: [121.56104709]\n",
      "XYL Success!\n",
      " \n",
      " \n",
      "Analyzing YUM\n"
     ]
    },
    {
     "name": "stderr",
     "output_type": "stream",
     "text": [
      "<ipython-input-452-1cd440387d10>:47: SettingWithCopyWarning: \n",
      "A value is trying to be set on a copy of a slice from a DataFrame.\n",
      "Try using .loc[row_indexer,col_indexer] = value instead\n",
      "\n",
      "See the caveats in the documentation: https://pandas.pydata.org/pandas-docs/stable/user_guide/indexing.html#returning-a-view-versus-a-copy\n",
      "  data_sub['t_minus1_high'] = data_sub['high'].shift(1)\n",
      "<ipython-input-452-1cd440387d10>:48: SettingWithCopyWarning: \n",
      "A value is trying to be set on a copy of a slice from a DataFrame.\n",
      "Try using .loc[row_indexer,col_indexer] = value instead\n",
      "\n",
      "See the caveats in the documentation: https://pandas.pydata.org/pandas-docs/stable/user_guide/indexing.html#returning-a-view-versus-a-copy\n",
      "  data_sub['t_minus1_low'] = data_sub['low'].shift(1)\n"
     ]
    },
    {
     "name": "stdout",
     "output_type": "stream",
     "text": [
      "[*********************100%***********************]  1 of 1 completed\n",
      "YUM testing r2_score: 0.941678453585063\n",
      "YUM testing MSE score: 2.279410428361215\n",
      "YUM : tomorrow's price: [123.38191292]\n",
      "YUM Success!\n",
      " \n",
      " \n",
      "Analyzing ZBRA\n"
     ]
    },
    {
     "name": "stderr",
     "output_type": "stream",
     "text": [
      "<ipython-input-452-1cd440387d10>:47: SettingWithCopyWarning: \n",
      "A value is trying to be set on a copy of a slice from a DataFrame.\n",
      "Try using .loc[row_indexer,col_indexer] = value instead\n",
      "\n",
      "See the caveats in the documentation: https://pandas.pydata.org/pandas-docs/stable/user_guide/indexing.html#returning-a-view-versus-a-copy\n",
      "  data_sub['t_minus1_high'] = data_sub['high'].shift(1)\n",
      "<ipython-input-452-1cd440387d10>:48: SettingWithCopyWarning: \n",
      "A value is trying to be set on a copy of a slice from a DataFrame.\n",
      "Try using .loc[row_indexer,col_indexer] = value instead\n",
      "\n",
      "See the caveats in the documentation: https://pandas.pydata.org/pandas-docs/stable/user_guide/indexing.html#returning-a-view-versus-a-copy\n",
      "  data_sub['t_minus1_low'] = data_sub['low'].shift(1)\n"
     ]
    },
    {
     "name": "stdout",
     "output_type": "stream",
     "text": [
      "[*********************100%***********************]  1 of 1 completed\n",
      "ZBRA testing r2_score: 0.9484480673951641\n",
      "ZBRA testing MSE score: 60.93024093246726\n",
      "ZBRA : tomorrow's price: [511.04310778]\n",
      "ZBRA Success!\n",
      " \n",
      " \n",
      "Analyzing ZBH\n"
     ]
    },
    {
     "name": "stderr",
     "output_type": "stream",
     "text": [
      "<ipython-input-452-1cd440387d10>:47: SettingWithCopyWarning: \n",
      "A value is trying to be set on a copy of a slice from a DataFrame.\n",
      "Try using .loc[row_indexer,col_indexer] = value instead\n",
      "\n",
      "See the caveats in the documentation: https://pandas.pydata.org/pandas-docs/stable/user_guide/indexing.html#returning-a-view-versus-a-copy\n",
      "  data_sub['t_minus1_high'] = data_sub['high'].shift(1)\n",
      "<ipython-input-452-1cd440387d10>:48: SettingWithCopyWarning: \n",
      "A value is trying to be set on a copy of a slice from a DataFrame.\n",
      "Try using .loc[row_indexer,col_indexer] = value instead\n",
      "\n",
      "See the caveats in the documentation: https://pandas.pydata.org/pandas-docs/stable/user_guide/indexing.html#returning-a-view-versus-a-copy\n",
      "  data_sub['t_minus1_low'] = data_sub['low'].shift(1)\n"
     ]
    },
    {
     "name": "stdout",
     "output_type": "stream",
     "text": [
      "[*********************100%***********************]  1 of 1 completed\n",
      "ZBH testing r2_score: 0.9388193848784969\n",
      "ZBH testing MSE score: 5.322671320607687\n",
      "ZBH : tomorrow's price: [149.14800267]\n",
      "ZBH Success!\n",
      " \n",
      " \n",
      "Analyzing ZION\n"
     ]
    },
    {
     "name": "stderr",
     "output_type": "stream",
     "text": [
      "<ipython-input-452-1cd440387d10>:47: SettingWithCopyWarning: \n",
      "A value is trying to be set on a copy of a slice from a DataFrame.\n",
      "Try using .loc[row_indexer,col_indexer] = value instead\n",
      "\n",
      "See the caveats in the documentation: https://pandas.pydata.org/pandas-docs/stable/user_guide/indexing.html#returning-a-view-versus-a-copy\n",
      "  data_sub['t_minus1_high'] = data_sub['high'].shift(1)\n",
      "<ipython-input-452-1cd440387d10>:48: SettingWithCopyWarning: \n",
      "A value is trying to be set on a copy of a slice from a DataFrame.\n",
      "Try using .loc[row_indexer,col_indexer] = value instead\n",
      "\n",
      "See the caveats in the documentation: https://pandas.pydata.org/pandas-docs/stable/user_guide/indexing.html#returning-a-view-versus-a-copy\n",
      "  data_sub['t_minus1_low'] = data_sub['low'].shift(1)\n"
     ]
    },
    {
     "name": "stdout",
     "output_type": "stream",
     "text": [
      "[*********************100%***********************]  1 of 1 completed\n",
      "ZION testing r2_score: 0.8983552658654452\n",
      "ZION testing MSE score: 1.3438100340767125\n",
      "ZION : tomorrow's price: [63.6437543]\n",
      "ZION Success!\n",
      " \n",
      " \n",
      "Analyzing ZTS\n"
     ]
    },
    {
     "name": "stderr",
     "output_type": "stream",
     "text": [
      "<ipython-input-452-1cd440387d10>:47: SettingWithCopyWarning: \n",
      "A value is trying to be set on a copy of a slice from a DataFrame.\n",
      "Try using .loc[row_indexer,col_indexer] = value instead\n",
      "\n",
      "See the caveats in the documentation: https://pandas.pydata.org/pandas-docs/stable/user_guide/indexing.html#returning-a-view-versus-a-copy\n",
      "  data_sub['t_minus1_high'] = data_sub['high'].shift(1)\n",
      "<ipython-input-452-1cd440387d10>:48: SettingWithCopyWarning: \n",
      "A value is trying to be set on a copy of a slice from a DataFrame.\n",
      "Try using .loc[row_indexer,col_indexer] = value instead\n",
      "\n",
      "See the caveats in the documentation: https://pandas.pydata.org/pandas-docs/stable/user_guide/indexing.html#returning-a-view-versus-a-copy\n",
      "  data_sub['t_minus1_low'] = data_sub['low'].shift(1)\n"
     ]
    },
    {
     "name": "stdout",
     "output_type": "stream",
     "text": [
      "[*********************100%***********************]  1 of 1 completed\n",
      "ZTS testing r2_score: 0.9661207902410059\n",
      "ZTS testing MSE score: 5.322214740556203\n",
      "ZTS : tomorrow's price: [194.74962029]\n",
      "ZTS Success!\n",
      " \n",
      " \n"
     ]
    },
    {
     "name": "stderr",
     "output_type": "stream",
     "text": [
      "<ipython-input-452-1cd440387d10>:47: SettingWithCopyWarning: \n",
      "A value is trying to be set on a copy of a slice from a DataFrame.\n",
      "Try using .loc[row_indexer,col_indexer] = value instead\n",
      "\n",
      "See the caveats in the documentation: https://pandas.pydata.org/pandas-docs/stable/user_guide/indexing.html#returning-a-view-versus-a-copy\n",
      "  data_sub['t_minus1_high'] = data_sub['high'].shift(1)\n",
      "<ipython-input-452-1cd440387d10>:48: SettingWithCopyWarning: \n",
      "A value is trying to be set on a copy of a slice from a DataFrame.\n",
      "Try using .loc[row_indexer,col_indexer] = value instead\n",
      "\n",
      "See the caveats in the documentation: https://pandas.pydata.org/pandas-docs/stable/user_guide/indexing.html#returning-a-view-versus-a-copy\n",
      "  data_sub['t_minus1_low'] = data_sub['low'].shift(1)\n"
     ]
    }
   ],
   "source": [
    "import pandas as pd\n",
    "import numpy as np\n",
    "from sklearn.linear_model import LinearRegression\n",
    "from sklearn import metrics\n",
    "\n",
    "np.random.seed(1234)\n",
    "period = 6\n",
    "date_split = '2021-04-29'\n",
    "build_end_date = '2021-09-30'\n",
    "\n",
    "## User Inputs\n",
    "today = input(\"What is today's date: valid through 2021-10-10?\")\n",
    "tomorrow = input(\"What is tomorrow's date: valid through 2021-10-11\")\n",
    "nbr = input(\"How many stocks do you want to see?\")\n",
    "strategy = input(\"What is your strategy? (aggresive, conservative, moderate)\")\n",
    "\n",
    "## Import The Ticker Reference Data\n",
    "ticker_data = pd.read_csv('constituents.csv')\n",
    "ticker_to_remove = ['IVZ', 'CARR', 'CTVA', 'DOW', 'FOX', 'FOXA', 'OGN', 'OTIS']\n",
    "ticker_data = ticker_data[~ticker_data['Symbol'].isin(ticker_to_remove)]\n",
    "tickers = ticker_data['Symbol']\n",
    "\n",
    "## Build the model for each ticker\n",
    "#### Empty Lists to fill for the For Loop\n",
    "ticker_validations_train = []\n",
    "model_validations_train = []\n",
    "metric_validations_train = []\n",
    "\n",
    "ticker_validations_test = []\n",
    "model_validations_test = []\n",
    "metric_validations_test = []\n",
    "\n",
    "ticker_predictions = []\n",
    "model_predictions = []\n",
    "date_predictions = []\n",
    "todays_close = []\n",
    "\n",
    "ticker_std = []\n",
    "close_std = []\n",
    "\n",
    "#### The Almight For Loop\n",
    "for ticker in tickers:\n",
    "    \n",
    "    print('Analyzing', ticker)\n",
    "    ## Importing Data\n",
    "    data = yf.download(ticker, start='2019-01-01', end = '2021-10-15')\n",
    "    data.columns = ['open', 'high', 'low', 'close', 'adj_close', 'volume']\n",
    "    data = data[~data['close'].isnull()]\n",
    "    \n",
    "    ## Feature Engineering\n",
    "    \n",
    "    #### 1) Lagged Closing Prices\n",
    "    X,ind,cols = closing_price_lag(index = list(np.array(data.index)), close_prices = list(data['close']), period = period)\n",
    "    \n",
    "    #### 2) Lagged High / Low Prices\n",
    "    data_sub = data[['high', 'low']]\n",
    "    data_sub['t_minus1_high'] = data_sub['high'].shift(1)\n",
    "    data_sub['t_minus1_low'] = data_sub['low'].shift(1)\n",
    "    high_low_lags = data_sub[['t_minus1_high', 't_minus1_low']]\n",
    "\n",
    "    #### 3) Putting Steps 1 & 2 Together\n",
    "    test_features = pd.DataFrame(X, index = ind, columns = cols)\n",
    "    full_data = test_features.merge(data, how = 'inner', left_index=True, right_index=True)\n",
    "    full_data = full_data.merge(high_low_lags, how = 'inner', left_index=True, right_index=True)\n",
    "\n",
    "    #### 4) Previous Day - Intraday Volatility\n",
    "    full_data['prev_day_intraday_volatility'] = abs(full_data['t_minus1_high']-full_data['t_minus1_low'])/(full_data['t_minus1'])\n",
    "\n",
    "    ## Modeling Building\n",
    "    \n",
    "    #### 1) Training / Testing Data Split\n",
    "    ####### Columns to Remove\n",
    "    non_x_columns = ['open', 'high', 'low', 'close', 'adj_close', 'volume']\n",
    "\n",
    "    ####### Training Data is January 1, 2019 -> July 31, 2021\n",
    "    training_data = full_data.loc[:date_split]\n",
    "    testing_data = full_data.loc[date_split:]\n",
    "\n",
    "    ####### Training Data\n",
    "    y_train = training_data['close'].tolist()\n",
    "    X_train = training_data.drop(non_x_columns, axis=1).values.tolist()\n",
    "\n",
    "    ####### Testing Data\n",
    "    y_test = testing_data['close'].tolist()\n",
    "    X_test = testing_data.drop(non_x_columns, axis=1).values.tolist()\n",
    "\n",
    "    #### 2) Build The Linear Regression\n",
    "    reg = LinearRegression(normalize=True)\n",
    "    reg.fit(X_train, y_train)\n",
    "\n",
    "    #### 3) Model Validation\n",
    "    \n",
    "    ####### Training Data Validations\n",
    "    y_preds = reg.predict(X_train)\n",
    "\n",
    "    ticker_validations_train.append(ticker)\n",
    "    model_validations_train.append(r2_score(y_train, y_preds))\n",
    "    metric_validations_train.append('r2_score')\n",
    "\n",
    "    ticker_validations_train.append(ticker)\n",
    "    model_validations_train.append(mean_squared_error(y_train, y_preds))\n",
    "    metric_validations_train.append('mse')\n",
    "\n",
    "    ####### Testing Data Validations\n",
    "    y_preds_test = reg.predict(X_test)\n",
    "    \n",
    "    ticker_validations_test.append(ticker)\n",
    "    model_validations_test.append(r2_score(y_test, y_preds_test))\n",
    "    metric_validations_test.append('r2_score')\n",
    "    \n",
    "    ticker_validations_test.append(ticker)\n",
    "    model_validations_test.append(mean_squared_error(y_test, y_preds_test))\n",
    "    metric_validations_test.append('mse')  \n",
    "    \n",
    "    print(ticker, 'testing r2_score:', r2_score(y_test, y_preds_test))\n",
    "    print(ticker, 'testing MSE score:', mean_squared_error(y_test, y_preds_test))\n",
    "    \n",
    "    ## Final Model Build\n",
    "    training_data = full_data.loc[:build_end_date]\n",
    "    y_train = training_data['close'].tolist()\n",
    "    X_train = training_data.drop(non_x_columns, axis=1).values.tolist()\n",
    "    \n",
    "    reg = LinearRegression(normalize=True).fit(X_train, y_train)\n",
    "    \n",
    "    todays_data = [full_data.loc[today].drop(non_x_columns).tolist()]\n",
    "    \n",
    "    tomorrow_pred = reg.predict(todays_data)\n",
    "    \n",
    "    print(ticker, \": tomorrow's price:\", tomorrow_pred)\n",
    "    ticker_predictions.append(ticker)\n",
    "    model_predictions.append(tomorrow_pred)\n",
    "    date_predictions.append(tomorrow)\n",
    "    \n",
    "    ## Conservative vs. Aggressive Strategy (6month STD)\n",
    "    close_std.append(data['close'].loc['2021-05-01':'2021-10-29'].std())\n",
    "    ticker_std.append(ticker)\n",
    "    \n",
    "    todays_close.append(full_data.loc[today].close)\n",
    "    print(ticker, 'Success!')\n",
    "    print(\" \")\n",
    "    print(\" \")\n",
    "\n",
    "\n",
    "## Turn the created Lists into DataFrames\n",
    "train_validations = {\n",
    "    'ticker' : ticker_validations_train,\n",
    "    'validation_score' : model_validations_train,\n",
    "    'validation_metric': metric_validations_train\n",
    "}\n",
    "\n",
    "train_validations = pd.DataFrame(train_validations, index=None)\n",
    "\n",
    "test_validations = {\n",
    "    'ticker' : ticker_validations_test,\n",
    "    'validation_score' : model_validations_test,\n",
    "    'validation_metric': metric_validations_test\n",
    "}\n",
    "\n",
    "test_validations = pd.DataFrame(test_validations, index=None)\n",
    "\n",
    "model_predictions = {\n",
    "    'ticker' : ticker_predictions,\n",
    "    'prediction': np.concatenate(model_predictions).ravel(),\n",
    "    'todays_close': todays_close\n",
    "}\n",
    "\n",
    "model_prediction = pd.DataFrame(model_predictions, index=None)\n",
    "\n",
    "std = {\n",
    "    'ticker' : ticker_std,\n",
    "    'std_close' : close_std\n",
    "}\n",
    "\n",
    "std_close = pd.DataFrame(std, index=None)\n",
    "\n",
    "## Calculate Expected Percent Change\n",
    "model_prediction['perc_change'] = (model_prediction['prediction'] / model_prediction['todays_close']) - 1\n",
    "\n",
    "## Join all the tables together\n",
    "all_model_data = model_prediction.merge(std_close, how = 'left', on = 'ticker')\n",
    "all_model_data = all_model_data.merge(ticker_data, how = 'left', left_on = 'ticker', right_on = 'Symbol')\n",
    "\n",
    "## Create the Strategy Column\n",
    "conditions = [\n",
    "    all_model_data['std_close'] < 2.5,\n",
    "    all_model_data['std_close'] < 8,\n",
    "    all_model_data['std_close'] >= 8\n",
    "    ]\n",
    "\n",
    "values = ['conservative', 'moderate', 'aggressive']\n",
    "\n",
    "all_model_data['strategy'] = np.select(conditions, values)\n",
    "\n",
    "## Create the view and print the data\n",
    "columns_to_display = ['Name', 'ticker','perc_change', 'todays_close', 'prediction']\n",
    "all_model_data[(all_model_data['strategy']==strategy) & (all_model_data['perc_change']>0)][columns_to_display].sort_values('perc_change', ascending =False).head(n=nbr)"
   ]
  },
  {
   "cell_type": "markdown",
   "id": "00f19227",
   "metadata": {},
   "source": [
    "## 6. Analyzing Results from the run"
   ]
  },
  {
   "cell_type": "code",
   "execution_count": 467,
   "id": "9a5f60c4",
   "metadata": {},
   "outputs": [
    {
     "data": {
      "text/html": [
       "<div>\n",
       "<style scoped>\n",
       "    .dataframe tbody tr th:only-of-type {\n",
       "        vertical-align: middle;\n",
       "    }\n",
       "\n",
       "    .dataframe tbody tr th {\n",
       "        vertical-align: top;\n",
       "    }\n",
       "\n",
       "    .dataframe thead th {\n",
       "        text-align: right;\n",
       "    }\n",
       "</style>\n",
       "<table border=\"1\" class=\"dataframe\">\n",
       "  <thead>\n",
       "    <tr style=\"text-align: right;\">\n",
       "      <th></th>\n",
       "      <th>ticker</th>\n",
       "      <th>prediction</th>\n",
       "      <th>todays_close</th>\n",
       "      <th>perc_change</th>\n",
       "      <th>std_close</th>\n",
       "      <th>Symbol</th>\n",
       "      <th>Name</th>\n",
       "      <th>Sector</th>\n",
       "    </tr>\n",
       "  </thead>\n",
       "  <tbody>\n",
       "    <tr>\n",
       "      <th>0</th>\n",
       "      <td>MMM</td>\n",
       "      <td>176.563061</td>\n",
       "      <td>176.039993</td>\n",
       "      <td>0.002971</td>\n",
       "      <td>8.867188</td>\n",
       "      <td>MMM</td>\n",
       "      <td>3M</td>\n",
       "      <td>Industrials</td>\n",
       "    </tr>\n",
       "    <tr>\n",
       "      <th>1</th>\n",
       "      <td>AOS</td>\n",
       "      <td>61.550820</td>\n",
       "      <td>61.169998</td>\n",
       "      <td>0.006226</td>\n",
       "      <td>2.950015</td>\n",
       "      <td>AOS</td>\n",
       "      <td>A. O. Smith</td>\n",
       "      <td>Industrials</td>\n",
       "    </tr>\n",
       "    <tr>\n",
       "      <th>2</th>\n",
       "      <td>ABT</td>\n",
       "      <td>117.497713</td>\n",
       "      <td>115.529999</td>\n",
       "      <td>0.017032</td>\n",
       "      <td>5.520341</td>\n",
       "      <td>ABT</td>\n",
       "      <td>Abbott Laboratories</td>\n",
       "      <td>Health Care</td>\n",
       "    </tr>\n",
       "    <tr>\n",
       "      <th>3</th>\n",
       "      <td>ABBV</td>\n",
       "      <td>108.908515</td>\n",
       "      <td>108.730003</td>\n",
       "      <td>0.001642</td>\n",
       "      <td>3.831070</td>\n",
       "      <td>ABBV</td>\n",
       "      <td>AbbVie</td>\n",
       "      <td>Health Care</td>\n",
       "    </tr>\n",
       "    <tr>\n",
       "      <th>4</th>\n",
       "      <td>ABMD</td>\n",
       "      <td>323.126413</td>\n",
       "      <td>313.869995</td>\n",
       "      <td>0.029491</td>\n",
       "      <td>27.236205</td>\n",
       "      <td>ABMD</td>\n",
       "      <td>Abiomed</td>\n",
       "      <td>Health Care</td>\n",
       "    </tr>\n",
       "  </tbody>\n",
       "</table>\n",
       "</div>"
      ],
      "text/plain": [
       "  ticker  prediction  todays_close  perc_change  std_close Symbol  \\\n",
       "0    MMM  176.563061    176.039993     0.002971   8.867188    MMM   \n",
       "1    AOS   61.550820     61.169998     0.006226   2.950015    AOS   \n",
       "2    ABT  117.497713    115.529999     0.017032   5.520341    ABT   \n",
       "3   ABBV  108.908515    108.730003     0.001642   3.831070   ABBV   \n",
       "4   ABMD  323.126413    313.869995     0.029491  27.236205   ABMD   \n",
       "\n",
       "                  Name       Sector  \n",
       "0                   3M  Industrials  \n",
       "1          A. O. Smith  Industrials  \n",
       "2  Abbott Laboratories  Health Care  \n",
       "3               AbbVie  Health Care  \n",
       "4              Abiomed  Health Care  "
      ]
     },
     "execution_count": 467,
     "metadata": {},
     "output_type": "execute_result"
    }
   ],
   "source": [
    "all_model_data = all_model_data.merge(ticker_data, how = 'left', left_on = 'ticker', right_on = 'Symbol')\n",
    "all_model_data.head()"
   ]
  },
  {
   "cell_type": "code",
   "execution_count": 471,
   "id": "54dde9c1",
   "metadata": {
    "scrolled": true
   },
   "outputs": [
    {
     "data": {
      "text/html": [
       "<div>\n",
       "<style scoped>\n",
       "    .dataframe tbody tr th:only-of-type {\n",
       "        vertical-align: middle;\n",
       "    }\n",
       "\n",
       "    .dataframe tbody tr th {\n",
       "        vertical-align: top;\n",
       "    }\n",
       "\n",
       "    .dataframe thead th {\n",
       "        text-align: right;\n",
       "    }\n",
       "</style>\n",
       "<table border=\"1\" class=\"dataframe\">\n",
       "  <thead>\n",
       "    <tr style=\"text-align: right;\">\n",
       "      <th></th>\n",
       "      <th>ticker</th>\n",
       "      <th>prediction</th>\n",
       "      <th>todays_close</th>\n",
       "      <th>perc_change</th>\n",
       "      <th>std_close</th>\n",
       "      <th>Symbol</th>\n",
       "      <th>Name</th>\n",
       "      <th>Sector</th>\n",
       "    </tr>\n",
       "  </thead>\n",
       "  <tbody>\n",
       "    <tr>\n",
       "      <th>102</th>\n",
       "      <td>CMG</td>\n",
       "      <td>1830.947856</td>\n",
       "      <td>1804.770020</td>\n",
       "      <td>0.014505</td>\n",
       "      <td>231.036158</td>\n",
       "      <td>CMG</td>\n",
       "      <td>Chipotle Mexican Grill</td>\n",
       "      <td>Consumer Discretionary</td>\n",
       "    </tr>\n",
       "    <tr>\n",
       "      <th>23</th>\n",
       "      <td>GOOGL</td>\n",
       "      <td>2731.992362</td>\n",
       "      <td>2673.189941</td>\n",
       "      <td>0.021997</td>\n",
       "      <td>202.204112</td>\n",
       "      <td>GOOGL</td>\n",
       "      <td>Alphabet (Class A)</td>\n",
       "      <td>Communication Services</td>\n",
       "    </tr>\n",
       "    <tr>\n",
       "      <th>24</th>\n",
       "      <td>GOOG</td>\n",
       "      <td>2729.471729</td>\n",
       "      <td>2675.300049</td>\n",
       "      <td>0.020249</td>\n",
       "      <td>183.914595</td>\n",
       "      <td>GOOG</td>\n",
       "      <td>Alphabet (Class C)</td>\n",
       "      <td>Communication Services</td>\n",
       "    </tr>\n",
       "    <tr>\n",
       "      <th>337</th>\n",
       "      <td>NVR</td>\n",
       "      <td>4805.927326</td>\n",
       "      <td>4781.859863</td>\n",
       "      <td>0.005033</td>\n",
       "      <td>179.605315</td>\n",
       "      <td>NVR</td>\n",
       "      <td>NVR</td>\n",
       "      <td>Consumer Discretionary</td>\n",
       "    </tr>\n",
       "    <tr>\n",
       "      <th>26</th>\n",
       "      <td>AMZN</td>\n",
       "      <td>3284.979325</td>\n",
       "      <td>3189.780029</td>\n",
       "      <td>0.029845</td>\n",
       "      <td>148.224321</td>\n",
       "      <td>AMZN</td>\n",
       "      <td>Amazon</td>\n",
       "      <td>Consumer Discretionary</td>\n",
       "    </tr>\n",
       "    <tr>\n",
       "      <th>308</th>\n",
       "      <td>MRNA</td>\n",
       "      <td>340.581592</td>\n",
       "      <td>325.839996</td>\n",
       "      <td>0.045242</td>\n",
       "      <td>100.145923</td>\n",
       "      <td>MRNA</td>\n",
       "      <td>Moderna</td>\n",
       "      <td>Health Care</td>\n",
       "    </tr>\n",
       "    <tr>\n",
       "      <th>55</th>\n",
       "      <td>AZO</td>\n",
       "      <td>1664.933961</td>\n",
       "      <td>1642.510010</td>\n",
       "      <td>0.013652</td>\n",
       "      <td>95.662704</td>\n",
       "      <td>AZO</td>\n",
       "      <td>AutoZone</td>\n",
       "      <td>Consumer Discretionary</td>\n",
       "    </tr>\n",
       "    <tr>\n",
       "      <th>65</th>\n",
       "      <td>BIO</td>\n",
       "      <td>741.461476</td>\n",
       "      <td>730.010010</td>\n",
       "      <td>0.015687</td>\n",
       "      <td>80.521719</td>\n",
       "      <td>BIO</td>\n",
       "      <td>Bio-Rad Laboratories</td>\n",
       "      <td>Health Care</td>\n",
       "    </tr>\n",
       "    <tr>\n",
       "      <th>140</th>\n",
       "      <td>DXCM</td>\n",
       "      <td>548.657825</td>\n",
       "      <td>526.429993</td>\n",
       "      <td>0.042224</td>\n",
       "      <td>74.440061</td>\n",
       "      <td>DXCM</td>\n",
       "      <td>DexCom</td>\n",
       "      <td>Health Care</td>\n",
       "    </tr>\n",
       "    <tr>\n",
       "      <th>349</th>\n",
       "      <td>PAYC</td>\n",
       "      <td>506.444792</td>\n",
       "      <td>494.600006</td>\n",
       "      <td>0.023948</td>\n",
       "      <td>69.644211</td>\n",
       "      <td>PAYC</td>\n",
       "      <td>Paycom</td>\n",
       "      <td>Information Technology</td>\n",
       "    </tr>\n",
       "  </tbody>\n",
       "</table>\n",
       "</div>"
      ],
      "text/plain": [
       "    ticker   prediction  todays_close  perc_change   std_close Symbol  \\\n",
       "102    CMG  1830.947856   1804.770020     0.014505  231.036158    CMG   \n",
       "23   GOOGL  2731.992362   2673.189941     0.021997  202.204112  GOOGL   \n",
       "24    GOOG  2729.471729   2675.300049     0.020249  183.914595   GOOG   \n",
       "337    NVR  4805.927326   4781.859863     0.005033  179.605315    NVR   \n",
       "26    AMZN  3284.979325   3189.780029     0.029845  148.224321   AMZN   \n",
       "308   MRNA   340.581592    325.839996     0.045242  100.145923   MRNA   \n",
       "55     AZO  1664.933961   1642.510010     0.013652   95.662704    AZO   \n",
       "65     BIO   741.461476    730.010010     0.015687   80.521719    BIO   \n",
       "140   DXCM   548.657825    526.429993     0.042224   74.440061   DXCM   \n",
       "349   PAYC   506.444792    494.600006     0.023948   69.644211   PAYC   \n",
       "\n",
       "                       Name                  Sector  \n",
       "102  Chipotle Mexican Grill  Consumer Discretionary  \n",
       "23       Alphabet (Class A)  Communication Services  \n",
       "24       Alphabet (Class C)  Communication Services  \n",
       "337                     NVR  Consumer Discretionary  \n",
       "26                   Amazon  Consumer Discretionary  \n",
       "308                 Moderna             Health Care  \n",
       "55                 AutoZone  Consumer Discretionary  \n",
       "65     Bio-Rad Laboratories             Health Care  \n",
       "140                  DexCom             Health Care  \n",
       "349                  Paycom  Information Technology  "
      ]
     },
     "execution_count": 471,
     "metadata": {},
     "output_type": "execute_result"
    }
   ],
   "source": [
    "all_model_data[all_model_data['perc_change']>0].sort_values('std_close', ascending=False).head(n=10)"
   ]
  },
  {
   "cell_type": "code",
   "execution_count": 481,
   "id": "1cadb8fa",
   "metadata": {},
   "outputs": [
    {
     "data": {
      "image/png": "[encoded data removed]",
      "text/plain": [
       "<Figure size 432x288 with 1 Axes>"
      ]
     },
     "metadata": {
      "needs_background": "light"
     },
     "output_type": "display_data"
    }
   ],
   "source": [
    "all_model_data[all_model_data['std_close']<50][['std_close']].hist(bins=150)\n",
    "plt.ylabel('Frequency')\n",
    "plt.xlabel('# of Stocks')\n",
    "plt.title('Histogram of Close Price Standard Deviation')\n",
    "plt.show()"
   ]
  },
  {
   "cell_type": "markdown",
   "id": "ff950e15",
   "metadata": {},
   "source": [
    "### 6.2 Risk Strategy.\n",
    "\n",
    "The project recommended the risk strategy based on the standard deviation of the closing price. However, this is not the ideal way to calculate. In a future version, it would make sense to the correct (stock beta, relative to the market, or standard deviation of the % change). Nonetheless:\n",
    "\n",
    "Less than 5 = conservative; 5-10 = Moderate; Over 10 = Aggressive"
   ]
  },
  {
   "cell_type": "code",
   "execution_count": 482,
   "id": "01b4224a",
   "metadata": {},
   "outputs": [
    {
     "data": {
      "text/html": [
       "<div>\n",
       "<style scoped>\n",
       "    .dataframe tbody tr th:only-of-type {\n",
       "        vertical-align: middle;\n",
       "    }\n",
       "\n",
       "    .dataframe tbody tr th {\n",
       "        vertical-align: top;\n",
       "    }\n",
       "\n",
       "    .dataframe thead th {\n",
       "        text-align: right;\n",
       "    }\n",
       "</style>\n",
       "<table border=\"1\" class=\"dataframe\">\n",
       "  <thead>\n",
       "    <tr style=\"text-align: right;\">\n",
       "      <th></th>\n",
       "      <th>ticker</th>\n",
       "      <th>prediction</th>\n",
       "      <th>todays_close</th>\n",
       "      <th>perc_change</th>\n",
       "      <th>std_close</th>\n",
       "      <th>Symbol</th>\n",
       "      <th>Name</th>\n",
       "      <th>Sector</th>\n",
       "      <th>strategy</th>\n",
       "    </tr>\n",
       "  </thead>\n",
       "  <tbody>\n",
       "    <tr>\n",
       "      <th>0</th>\n",
       "      <td>MMM</td>\n",
       "      <td>176.563061</td>\n",
       "      <td>176.039993</td>\n",
       "      <td>0.002971</td>\n",
       "      <td>8.867188</td>\n",
       "      <td>MMM</td>\n",
       "      <td>3M</td>\n",
       "      <td>Industrials</td>\n",
       "      <td>aggressive</td>\n",
       "    </tr>\n",
       "    <tr>\n",
       "      <th>1</th>\n",
       "      <td>AOS</td>\n",
       "      <td>61.550820</td>\n",
       "      <td>61.169998</td>\n",
       "      <td>0.006226</td>\n",
       "      <td>2.950015</td>\n",
       "      <td>AOS</td>\n",
       "      <td>A. O. Smith</td>\n",
       "      <td>Industrials</td>\n",
       "      <td>moderate</td>\n",
       "    </tr>\n",
       "    <tr>\n",
       "      <th>2</th>\n",
       "      <td>ABT</td>\n",
       "      <td>117.497713</td>\n",
       "      <td>115.529999</td>\n",
       "      <td>0.017032</td>\n",
       "      <td>5.520341</td>\n",
       "      <td>ABT</td>\n",
       "      <td>Abbott Laboratories</td>\n",
       "      <td>Health Care</td>\n",
       "      <td>moderate</td>\n",
       "    </tr>\n",
       "    <tr>\n",
       "      <th>3</th>\n",
       "      <td>ABBV</td>\n",
       "      <td>108.908515</td>\n",
       "      <td>108.730003</td>\n",
       "      <td>0.001642</td>\n",
       "      <td>3.831070</td>\n",
       "      <td>ABBV</td>\n",
       "      <td>AbbVie</td>\n",
       "      <td>Health Care</td>\n",
       "      <td>moderate</td>\n",
       "    </tr>\n",
       "    <tr>\n",
       "      <th>4</th>\n",
       "      <td>ABMD</td>\n",
       "      <td>323.126413</td>\n",
       "      <td>313.869995</td>\n",
       "      <td>0.029491</td>\n",
       "      <td>27.236205</td>\n",
       "      <td>ABMD</td>\n",
       "      <td>Abiomed</td>\n",
       "      <td>Health Care</td>\n",
       "      <td>aggressive</td>\n",
       "    </tr>\n",
       "  </tbody>\n",
       "</table>\n",
       "</div>"
      ],
      "text/plain": [
       "  ticker  prediction  todays_close  perc_change  std_close Symbol  \\\n",
       "0    MMM  176.563061    176.039993     0.002971   8.867188    MMM   \n",
       "1    AOS   61.550820     61.169998     0.006226   2.950015    AOS   \n",
       "2    ABT  117.497713    115.529999     0.017032   5.520341    ABT   \n",
       "3   ABBV  108.908515    108.730003     0.001642   3.831070   ABBV   \n",
       "4   ABMD  323.126413    313.869995     0.029491  27.236205   ABMD   \n",
       "\n",
       "                  Name       Sector    strategy  \n",
       "0                   3M  Industrials  aggressive  \n",
       "1          A. O. Smith  Industrials    moderate  \n",
       "2  Abbott Laboratories  Health Care    moderate  \n",
       "3               AbbVie  Health Care    moderate  \n",
       "4              Abiomed  Health Care  aggressive  "
      ]
     },
     "execution_count": 482,
     "metadata": {},
     "output_type": "execute_result"
    }
   ],
   "source": [
    "conditions = [\n",
    "    all_model_data['std_close'] < 2.5,\n",
    "    all_model_data['std_close'] < 8,\n",
    "    all_model_data['std_close'] >= 8\n",
    "    ]\n",
    "\n",
    "values = ['conservative', 'moderate', 'aggressive']\n",
    "\n",
    "\n",
    "all_model_data['strategy'] = np.select(conditions, values)\n",
    "all_model_data.head()"
   ]
  },
  {
   "cell_type": "code",
   "execution_count": 489,
   "id": "ab5ef1f1",
   "metadata": {
    "scrolled": true
   },
   "outputs": [
    {
     "data": {
      "text/html": [
       "<div>\n",
       "<style scoped>\n",
       "    .dataframe tbody tr th:only-of-type {\n",
       "        vertical-align: middle;\n",
       "    }\n",
       "\n",
       "    .dataframe tbody tr th {\n",
       "        vertical-align: top;\n",
       "    }\n",
       "\n",
       "    .dataframe thead th {\n",
       "        text-align: right;\n",
       "    }\n",
       "</style>\n",
       "<table border=\"1\" class=\"dataframe\">\n",
       "  <thead>\n",
       "    <tr style=\"text-align: right;\">\n",
       "      <th></th>\n",
       "      <th>Name</th>\n",
       "      <th>ticker</th>\n",
       "      <th>perc_change</th>\n",
       "      <th>todays_close</th>\n",
       "      <th>prediction</th>\n",
       "    </tr>\n",
       "  </thead>\n",
       "  <tbody>\n",
       "    <tr>\n",
       "      <th>166</th>\n",
       "      <td>Enphase Energy</td>\n",
       "      <td>ENPH</td>\n",
       "      <td>0.068252</td>\n",
       "      <td>145.029999</td>\n",
       "      <td>154.928642</td>\n",
       "    </tr>\n",
       "    <tr>\n",
       "      <th>162</th>\n",
       "      <td>Edwards Lifesciences</td>\n",
       "      <td>EW</td>\n",
       "      <td>0.053651</td>\n",
       "      <td>106.370003</td>\n",
       "      <td>112.076862</td>\n",
       "    </tr>\n",
       "    <tr>\n",
       "      <th>336</th>\n",
       "      <td>Nvidia</td>\n",
       "      <td>NVDA</td>\n",
       "      <td>0.052834</td>\n",
       "      <td>197.320007</td>\n",
       "      <td>207.745169</td>\n",
       "    </tr>\n",
       "    <tr>\n",
       "      <th>184</th>\n",
       "      <td>Facebook</td>\n",
       "      <td>FB</td>\n",
       "      <td>0.051421</td>\n",
       "      <td>326.230011</td>\n",
       "      <td>343.005033</td>\n",
       "    </tr>\n",
       "    <tr>\n",
       "      <th>248</th>\n",
       "      <td>IPG Photonics</td>\n",
       "      <td>IPGP</td>\n",
       "      <td>0.051385</td>\n",
       "      <td>153.190002</td>\n",
       "      <td>161.061708</td>\n",
       "    </tr>\n",
       "    <tr>\n",
       "      <th>486</th>\n",
       "      <td>Wynn Resorts</td>\n",
       "      <td>WYNN</td>\n",
       "      <td>0.050541</td>\n",
       "      <td>83.559998</td>\n",
       "      <td>87.783219</td>\n",
       "    </tr>\n",
       "    <tr>\n",
       "      <th>308</th>\n",
       "      <td>Moderna</td>\n",
       "      <td>MRNA</td>\n",
       "      <td>0.045242</td>\n",
       "      <td>325.839996</td>\n",
       "      <td>340.581592</td>\n",
       "    </tr>\n",
       "    <tr>\n",
       "      <th>415</th>\n",
       "      <td>Synopsys</td>\n",
       "      <td>SNPS</td>\n",
       "      <td>0.042798</td>\n",
       "      <td>289.250000</td>\n",
       "      <td>301.629324</td>\n",
       "    </tr>\n",
       "    <tr>\n",
       "      <th>140</th>\n",
       "      <td>DexCom</td>\n",
       "      <td>DXCM</td>\n",
       "      <td>0.042224</td>\n",
       "      <td>526.429993</td>\n",
       "      <td>548.657825</td>\n",
       "    </tr>\n",
       "    <tr>\n",
       "      <th>53</th>\n",
       "      <td>Autodesk</td>\n",
       "      <td>ADSK</td>\n",
       "      <td>0.041473</td>\n",
       "      <td>272.929993</td>\n",
       "      <td>284.249196</td>\n",
       "    </tr>\n",
       "  </tbody>\n",
       "</table>\n",
       "</div>"
      ],
      "text/plain": [
       "                     Name ticker  perc_change  todays_close  prediction\n",
       "166        Enphase Energy   ENPH     0.068252    145.029999  154.928642\n",
       "162  Edwards Lifesciences     EW     0.053651    106.370003  112.076862\n",
       "336                Nvidia   NVDA     0.052834    197.320007  207.745169\n",
       "184              Facebook     FB     0.051421    326.230011  343.005033\n",
       "248         IPG Photonics   IPGP     0.051385    153.190002  161.061708\n",
       "486          Wynn Resorts   WYNN     0.050541     83.559998   87.783219\n",
       "308               Moderna   MRNA     0.045242    325.839996  340.581592\n",
       "415              Synopsys   SNPS     0.042798    289.250000  301.629324\n",
       "140                DexCom   DXCM     0.042224    526.429993  548.657825\n",
       "53               Autodesk   ADSK     0.041473    272.929993  284.249196"
      ]
     },
     "execution_count": 489,
     "metadata": {},
     "output_type": "execute_result"
    }
   ],
   "source": [
    "columns_to_display = ['Name', 'ticker','perc_change', 'todays_close', 'prediction']\n",
    "\n",
    "all_model_data[(all_model_data['strategy']=='aggressive') & (all_model_data['perc_change']>0)][columns_to_display].sort_values('perc_change', ascending =False).head(n=10)"
   ]
  },
  {
   "cell_type": "markdown",
   "id": "1f7e5d6f",
   "metadata": {},
   "source": [
    "## 7. Future Analysis\n",
    "\n",
    "1. Add earnings, earnings surprise, P/E, and fundamental variables. \n",
    "2. Run using an autoregressive linear model (ie: errors(t) = f(errors(t-i) i: 1-6; ARCH / GARCH)\n",
    "3. Add documentation on all the other Supervised ML models attempted."
   ]
  },
  {
   "cell_type": "code",
   "execution_count": null,
   "id": "08241984",
   "metadata": {},
   "outputs": [],
   "source": []
  }
 ],
 "metadata": {
  "kernelspec": {
   "display_name": "Python 3",
   "language": "python",
   "name": "python3"
  },
  "language_info": {
   "codemirror_mode": {
    "name": "ipython",
    "version": 3
   },
   "file_extension": ".py",
   "mimetype": "text/x-python",
   "name": "python",
   "nbconvert_exporter": "python",
   "pygments_lexer": "ipython3",
   "version": "3.8.8"
  }
 },
 "nbformat": 4,
 "nbformat_minor": 5
}
